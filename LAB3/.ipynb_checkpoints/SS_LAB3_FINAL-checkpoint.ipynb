{
 "cells": [
  {
   "cell_type": "markdown",
   "metadata": {},
   "source": [
    "# COURSE: СЕНЗОРСКИ СИСТЕМИ\n",
    "<br/> \n",
    "\n",
    "# LAB3\n",
    "<br/>"
   ]
  },
  {
   "cell_type": "markdown",
   "metadata": {},
   "source": [
    "N - број на јазли \n",
    "\n",
    "L - должина на областа каде е дистрибуирана мрежата \n",
    "\n",
    "R - радио опсег \n",
    "\n",
    "r - шум  \n",
    "\n",
    "f - фракција (процент) на anchor јазли "
   ]
  },
  {
   "cell_type": "code",
   "execution_count": 202,
   "metadata": {
    "ExecuteTime": {
     "end_time": "2019-12-27T09:34:17.755181Z",
     "start_time": "2019-12-27T09:34:17.712268Z"
    }
   },
   "outputs": [
    {
     "data": {
      "text/html": [
       "        <script type=\"text/javascript\">\n",
       "        window.PlotlyConfig = {MathJaxConfig: 'local'};\n",
       "        if (window.MathJax) {MathJax.Hub.Config({SVG: {font: \"STIX-Web\"}});}\n",
       "        if (typeof require !== 'undefined') {\n",
       "        require.undef(\"plotly\");\n",
       "        requirejs.config({\n",
       "            paths: {\n",
       "                'plotly': ['https://cdn.plot.ly/plotly-latest.min']\n",
       "            }\n",
       "        });\n",
       "        require(['plotly'], function(Plotly) {\n",
       "            window._Plotly = Plotly;\n",
       "        });\n",
       "        }\n",
       "        </script>\n",
       "        "
      ]
     },
     "metadata": {},
     "output_type": "display_data"
    }
   ],
   "source": [
    "# IMPORTS\n",
    "import numpy as np\n",
    "import math\n",
    "import chart_studio.plotly as py\n",
    "import plotly.graph_objs as go\n",
    "from plotly.offline import download_plotlyjs, init_notebook_mode, plot, iplot\n",
    "init_notebook_mode(connected=True)\n",
    "import random\n",
    "from math import cos, sin, pi\n",
    "import matplotlib.cm as cm\n",
    "import matplotlib.pyplot as plt\n",
    "%matplotlib inline"
   ]
  },
  {
   "cell_type": "markdown",
   "metadata": {},
   "source": [
    "# TRILATERATION"
   ]
  },
  {
   "cell_type": "code",
   "execution_count": 203,
   "metadata": {
    "ExecuteTime": {
     "end_time": "2019-12-27T09:34:17.810972Z",
     "start_time": "2019-12-27T09:34:17.757117Z"
    },
    "hide_input": true
   },
   "outputs": [],
   "source": [
    "# https://github.com/rkcosmos/Location_Trilateration\n",
    "\n",
    "def distance(p1,p2):\n",
    "    dx = p1[0]-p2[0]\n",
    "    dy = p1[1]-p2[1]\n",
    "    distance = np.sqrt(dx*dx+dy*dy)\n",
    "    return distance\n",
    "\n",
    "def circle_intersection(circle1, circle2):\n",
    "    '''\n",
    "    Find 2 intersection points from 2 circles.\n",
    "    if circles are non overlap, return middle point between 2 perimeters\n",
    "    '''  \n",
    "    x1,y1,r1 = circle1\n",
    "    x2,y2,r2 = circle2\n",
    "    dx,dy = x2-x1,y2-y1\n",
    "    d = np.sqrt(dx*dx+dy*dy)\n",
    "    #d = distance([x1,y1],[x2,y2])\n",
    "    \n",
    "    # non-overlapping circles\n",
    "    if d >= r1+r2:\n",
    "        return (( (d+r1-r2)/(2*d)*(x2-x1)+x1, (d+r1-r2)/(2*d)*(y2-y1)+y1 ),) \n",
    "\n",
    "    # one circle inside another\n",
    "    elif r1 > (d+r2) or r2 > (d+r1):\n",
    "        if dx == 0: angle = pi/2\n",
    "        else: angle = np.arctan(dy/dx)\n",
    "        p11 = [ x1+r1*cos(angle), y1+r1*sin(angle) ]\n",
    "        p12 = [ x1-r1*cos(angle), y1-r1*sin(angle) ]\n",
    "        p21 = [ x2+r2*cos(angle), y2+r2*sin(angle) ]\n",
    "        p22 = [ x2-r2*cos(angle), y2-r2*sin(angle) ]\n",
    "        \n",
    "        point_set = [[p11,p21],[p11,p22],[p12,p21],[p12,p22]]\n",
    "        \n",
    "        dist_set = [distance(item[0],item[1]) for item in point_set]\n",
    "        points = point_set[np.argmin(dist_set)]\n",
    "        points = np.array(points)\n",
    "        points = sum(points)/len(points)\n",
    "\n",
    "        return (points,)\n",
    "    \n",
    "    # overlapping circles\n",
    "    else:\n",
    "        a = (r1*r1-r2*r2+d*d)/(2*d)\n",
    "        h = np.sqrt(r1*r1-a*a)\n",
    "        xm = x1 + a*dx/d\n",
    "        ym = y1 + a*dy/d\n",
    "        xs1 = xm + h*dy/d\n",
    "        xs2 = xm - h*dy/d\n",
    "        ys1 = ym - h*dx/d\n",
    "        ys2 = ym + h*dx/d\n",
    "\n",
    "        return (xs1,ys1),(xs2,ys2)\n",
    "\n",
    "def plot_t(cs):\n",
    "   \n",
    "    cmap = cm.plasma\n",
    "    \n",
    "    fig, ax = plt.subplots() \n",
    "    ax.set(xlim=[-10, 10], ylim=[-10, 10], aspect=1)\n",
    "    \n",
    "    for i,c in enumerate(cs):\n",
    "        ax.add_artist(plt.Circle(c[:2], c[2], color=cmap(i/len(cs)), alpha=0.5))\n",
    "        ax.plot(c[0], c[1], 'or')\n",
    "\n",
    "    return fig, ax\n",
    "\n",
    "def choose_point(points, circle, order):\n",
    "    '''\n",
    "    1. choose point nearest to perimeter of given circle\n",
    "    2. between choosen point and perimeter of circle, calculate location from weight average \n",
    "    \n",
    "    Args:\n",
    "        points: [[x1,y1],[x2,x2],...]\n",
    "        circle: [center_x, center_y, radius]\n",
    "        order = number of circle in this calculation\n",
    "    Returns:\n",
    "        result: [x,y]\n",
    "    ''' \n",
    "    distance = ()\n",
    "    for point in points:\n",
    "        dx = point[0]-circle[0]\n",
    "        dy = point[1]-circle[1]\n",
    "        dist = np.sqrt(dx*dx+dy*dy) - circle[2] \n",
    "        distance = distance + (dist,)\n",
    "    \n",
    "    arg = np.argmin([abs(i) for i in distance])\n",
    "    choosen_point = points[arg]\n",
    "    # ref_point = point on c3 perimeter closest to choosen_point\n",
    "    ref_point = [circle[0]+(choosen_point[0]-circle[0])*circle[2]/(circle[2]+distance[arg]), \n",
    "                 circle[1]+(choosen_point[1]-circle[1])*circle[2]/(circle[2]+distance[arg])]\n",
    "    result = [((order-1)*choosen_point[0]+ref_point[0])/order, ((order-1)*choosen_point[1]+ref_point[1])/order]\n",
    "        \n",
    "    return result\n",
    "\n",
    "\n",
    "def trilateration(c1, c2, c3):\n",
    "    \n",
    "    points = circle_intersection(c1, c2)\n",
    "    result = choose_point(points, c3, 3)\n",
    "    \n",
    "    #fig, ax = plot_t([c1, c2, c3])\n",
    "    #ax.plot(result[0], result[1], \"*\")\n",
    "    return result"
   ]
  },
  {
   "cell_type": "code",
   "execution_count": 204,
   "metadata": {
    "ExecuteTime": {
     "end_time": "2019-12-27T09:34:18.316680Z",
     "start_time": "2019-12-27T09:34:17.812967Z"
    },
    "hide_input": false
   },
   "outputs": [
    {
     "data": {
      "application/vnd.plotly.v1+json": {
       "config": {
        "linkText": "Export to plot.ly",
        "plotlyServerURL": "https://plot.ly",
        "showLink": false
       },
       "data": [
        {
         "marker": {
          "color": "red",
          "size": 8
         },
         "mode": "markers",
         "name": "Anchor Nodes",
         "type": "scatter",
         "x": [
          50.45740786243018,
          37.38090868696246,
          46.22348388431704,
          22.708951848477476,
          14.448740638747214,
          92.96123972459742,
          82.89587680524104,
          42.80346368784544,
          77.22182312828741,
          77.9404869602696
         ],
         "y": [
          78.6956323342661,
          58.988447162838895,
          67.17190992702834,
          52.51566091220619,
          56.62305335430256,
          50.58438326918127,
          60.986944449454015,
          68.80045527200691,
          53.41915925840388,
          73.54651903553035
         ]
        },
        {
         "marker": {
          "color": "blue",
          "size": 5
         },
         "mode": "markers",
         "name": "Other Nodes",
         "type": "scatter",
         "x": [
          32.46525503047148,
          22.49033225066569,
          36.15292095912236,
          65.98361737558925,
          60.6579540629371,
          42.935493588151985,
          45.916775850680736,
          34.069006404218506,
          78.61262211391661,
          28.49321398442125,
          9.210921022760488,
          57.26029280753485,
          15.393176714882618,
          58.724757962559636,
          94.82533998624008,
          52.80042391325503,
          32.288107584758265,
          96.51162492470058,
          90.4223776117667,
          60.50359729167318,
          9.458251034646036,
          53.15061133227148,
          33.410711199936394,
          2.9926407136840583,
          90.63205502822633,
          27.997847119213315,
          74.02378809739639,
          1.4880439124536515,
          56.30838340047821,
          22.50272484808422,
          37.00809662162781,
          59.30685441005503,
          97.39577339375307,
          46.54345963368029,
          72.17112802704962,
          89.36257697592644,
          39.98013629883683,
          77.84121421594702,
          35.30215194298398,
          94.60867987076465,
          48.419360797614175,
          91.68263410076696,
          43.40116717081841,
          24.859338243663252,
          7.510174364895484,
          23.464304985502704,
          88.51786078566363,
          13.476796983087802,
          95.35378360361527,
          59.606395112219225,
          94.34402572551707,
          39.267316699025926,
          12.782838268639008,
          75.23355353068776,
          13.645618578630236,
          91.80117567895947,
          54.893528872822074,
          45.88687139758196,
          56.15797590367059,
          4.674944202154519,
          29.759529529886773,
          43.4504148275378,
          47.95424429480683,
          99.13342909762457,
          73.99994482912537,
          22.842077682942673,
          64.40108010403355,
          14.517908459076844,
          11.282826132033074,
          70.37904520439572,
          27.958369584168185,
          73.35219635694853,
          25.751087134320116,
          26.02026462194562,
          96.63013169605344,
          38.13875422041198,
          11.41963495597177,
          3.2853764345661562,
          99.05719214023533,
          83.7864336393738,
          58.487551805129534,
          90.31381765524445,
          19.405575345092686,
          17.920332137961836,
          15.175686773631769,
          35.15860578673671,
          86.07556595731184,
          17.588048361782327,
          20.829480095528496
         ],
         "y": [
          99.4537014834545,
          25.19291255030176,
          4.7377761683564,
          26.289211373546628,
          0.30574945559650457,
          32.73390465609393,
          74.87885412745881,
          14.46923732857045,
          52.824737529925784,
          72.01190201232556,
          15.15818175933008,
          15.449604553159125,
          83.65524330589113,
          30.560004273866703,
          65.05188625115429,
          21.155498669261984,
          32.408069199322995,
          81.21578935365916,
          38.274430140733884,
          29.54472896189403,
          94.91223803138273,
          25.7105648458403,
          27.305451932418954,
          40.5621854435927,
          29.65424483733542,
          51.718118432014805,
          58.833805367354216,
          76.32619597888565,
          7.339622738829421,
          10.940878829507195,
          82.41502062644311,
          43.81462813772372,
          27.011492162337813,
          76.18935665490085,
          17.96658497935012,
          96.04471460012498,
          6.1962564098920865,
          50.48003388486993,
          47.26833164216243,
          88.69828080212055,
          7.3542867321658605,
          32.8158924772003,
          39.214395520210054,
          17.73195606905813,
          60.399971405281235,
          56.843887815982576,
          52.75302636457061,
          35.61617877122363,
          28.381243535731194,
          29.348279607276282,
          1.084864347850012,
          16.15315439989563,
          9.06834613640367,
          17.827744106314647,
          6.899840464352813,
          17.419380574121735,
          67.58103998752651,
          90.85260199654181,
          57.998005441951314,
          96.80774255797971,
          52.623885383182134,
          55.111681211938524,
          25.984308171574554,
          97.59011266735496,
          99.48640738972551,
          8.915998115990654,
          57.305377636464016,
          26.030229920752333,
          30.75404363199712,
          32.893741014138655,
          73.59001559990747,
          93.60055900967383,
          92.63137712503435,
          59.82077829414171,
          18.370629134457005,
          45.890939677697126,
          36.55168682054472,
          98.60823148080867,
          73.00480974582962,
          46.258903448157525,
          15.304230392491347,
          38.335827267696345,
          64.8739835674054,
          45.40658875808734,
          98.44314122708643,
          93.21016712252525,
          73.82861539854542,
          52.01548238174328,
          49.32757682911514
         ]
        }
       ],
       "layout": {
        "template": {
         "data": {
          "bar": [
           {
            "error_x": {
             "color": "#2a3f5f"
            },
            "error_y": {
             "color": "#2a3f5f"
            },
            "marker": {
             "line": {
              "color": "#E5ECF6",
              "width": 0.5
             }
            },
            "type": "bar"
           }
          ],
          "barpolar": [
           {
            "marker": {
             "line": {
              "color": "#E5ECF6",
              "width": 0.5
             }
            },
            "type": "barpolar"
           }
          ],
          "carpet": [
           {
            "aaxis": {
             "endlinecolor": "#2a3f5f",
             "gridcolor": "white",
             "linecolor": "white",
             "minorgridcolor": "white",
             "startlinecolor": "#2a3f5f"
            },
            "baxis": {
             "endlinecolor": "#2a3f5f",
             "gridcolor": "white",
             "linecolor": "white",
             "minorgridcolor": "white",
             "startlinecolor": "#2a3f5f"
            },
            "type": "carpet"
           }
          ],
          "choropleth": [
           {
            "colorbar": {
             "outlinewidth": 0,
             "ticks": ""
            },
            "type": "choropleth"
           }
          ],
          "contour": [
           {
            "colorbar": {
             "outlinewidth": 0,
             "ticks": ""
            },
            "colorscale": [
             [
              0,
              "#0d0887"
             ],
             [
              0.1111111111111111,
              "#46039f"
             ],
             [
              0.2222222222222222,
              "#7201a8"
             ],
             [
              0.3333333333333333,
              "#9c179e"
             ],
             [
              0.4444444444444444,
              "#bd3786"
             ],
             [
              0.5555555555555556,
              "#d8576b"
             ],
             [
              0.6666666666666666,
              "#ed7953"
             ],
             [
              0.7777777777777778,
              "#fb9f3a"
             ],
             [
              0.8888888888888888,
              "#fdca26"
             ],
             [
              1,
              "#f0f921"
             ]
            ],
            "type": "contour"
           }
          ],
          "contourcarpet": [
           {
            "colorbar": {
             "outlinewidth": 0,
             "ticks": ""
            },
            "type": "contourcarpet"
           }
          ],
          "heatmap": [
           {
            "colorbar": {
             "outlinewidth": 0,
             "ticks": ""
            },
            "colorscale": [
             [
              0,
              "#0d0887"
             ],
             [
              0.1111111111111111,
              "#46039f"
             ],
             [
              0.2222222222222222,
              "#7201a8"
             ],
             [
              0.3333333333333333,
              "#9c179e"
             ],
             [
              0.4444444444444444,
              "#bd3786"
             ],
             [
              0.5555555555555556,
              "#d8576b"
             ],
             [
              0.6666666666666666,
              "#ed7953"
             ],
             [
              0.7777777777777778,
              "#fb9f3a"
             ],
             [
              0.8888888888888888,
              "#fdca26"
             ],
             [
              1,
              "#f0f921"
             ]
            ],
            "type": "heatmap"
           }
          ],
          "heatmapgl": [
           {
            "colorbar": {
             "outlinewidth": 0,
             "ticks": ""
            },
            "colorscale": [
             [
              0,
              "#0d0887"
             ],
             [
              0.1111111111111111,
              "#46039f"
             ],
             [
              0.2222222222222222,
              "#7201a8"
             ],
             [
              0.3333333333333333,
              "#9c179e"
             ],
             [
              0.4444444444444444,
              "#bd3786"
             ],
             [
              0.5555555555555556,
              "#d8576b"
             ],
             [
              0.6666666666666666,
              "#ed7953"
             ],
             [
              0.7777777777777778,
              "#fb9f3a"
             ],
             [
              0.8888888888888888,
              "#fdca26"
             ],
             [
              1,
              "#f0f921"
             ]
            ],
            "type": "heatmapgl"
           }
          ],
          "histogram": [
           {
            "marker": {
             "colorbar": {
              "outlinewidth": 0,
              "ticks": ""
             }
            },
            "type": "histogram"
           }
          ],
          "histogram2d": [
           {
            "colorbar": {
             "outlinewidth": 0,
             "ticks": ""
            },
            "colorscale": [
             [
              0,
              "#0d0887"
             ],
             [
              0.1111111111111111,
              "#46039f"
             ],
             [
              0.2222222222222222,
              "#7201a8"
             ],
             [
              0.3333333333333333,
              "#9c179e"
             ],
             [
              0.4444444444444444,
              "#bd3786"
             ],
             [
              0.5555555555555556,
              "#d8576b"
             ],
             [
              0.6666666666666666,
              "#ed7953"
             ],
             [
              0.7777777777777778,
              "#fb9f3a"
             ],
             [
              0.8888888888888888,
              "#fdca26"
             ],
             [
              1,
              "#f0f921"
             ]
            ],
            "type": "histogram2d"
           }
          ],
          "histogram2dcontour": [
           {
            "colorbar": {
             "outlinewidth": 0,
             "ticks": ""
            },
            "colorscale": [
             [
              0,
              "#0d0887"
             ],
             [
              0.1111111111111111,
              "#46039f"
             ],
             [
              0.2222222222222222,
              "#7201a8"
             ],
             [
              0.3333333333333333,
              "#9c179e"
             ],
             [
              0.4444444444444444,
              "#bd3786"
             ],
             [
              0.5555555555555556,
              "#d8576b"
             ],
             [
              0.6666666666666666,
              "#ed7953"
             ],
             [
              0.7777777777777778,
              "#fb9f3a"
             ],
             [
              0.8888888888888888,
              "#fdca26"
             ],
             [
              1,
              "#f0f921"
             ]
            ],
            "type": "histogram2dcontour"
           }
          ],
          "mesh3d": [
           {
            "colorbar": {
             "outlinewidth": 0,
             "ticks": ""
            },
            "type": "mesh3d"
           }
          ],
          "parcoords": [
           {
            "line": {
             "colorbar": {
              "outlinewidth": 0,
              "ticks": ""
             }
            },
            "type": "parcoords"
           }
          ],
          "scatter": [
           {
            "marker": {
             "colorbar": {
              "outlinewidth": 0,
              "ticks": ""
             }
            },
            "type": "scatter"
           }
          ],
          "scatter3d": [
           {
            "line": {
             "colorbar": {
              "outlinewidth": 0,
              "ticks": ""
             }
            },
            "marker": {
             "colorbar": {
              "outlinewidth": 0,
              "ticks": ""
             }
            },
            "type": "scatter3d"
           }
          ],
          "scattercarpet": [
           {
            "marker": {
             "colorbar": {
              "outlinewidth": 0,
              "ticks": ""
             }
            },
            "type": "scattercarpet"
           }
          ],
          "scattergeo": [
           {
            "marker": {
             "colorbar": {
              "outlinewidth": 0,
              "ticks": ""
             }
            },
            "type": "scattergeo"
           }
          ],
          "scattergl": [
           {
            "marker": {
             "colorbar": {
              "outlinewidth": 0,
              "ticks": ""
             }
            },
            "type": "scattergl"
           }
          ],
          "scattermapbox": [
           {
            "marker": {
             "colorbar": {
              "outlinewidth": 0,
              "ticks": ""
             }
            },
            "type": "scattermapbox"
           }
          ],
          "scatterpolar": [
           {
            "marker": {
             "colorbar": {
              "outlinewidth": 0,
              "ticks": ""
             }
            },
            "type": "scatterpolar"
           }
          ],
          "scatterpolargl": [
           {
            "marker": {
             "colorbar": {
              "outlinewidth": 0,
              "ticks": ""
             }
            },
            "type": "scatterpolargl"
           }
          ],
          "scatterternary": [
           {
            "marker": {
             "colorbar": {
              "outlinewidth": 0,
              "ticks": ""
             }
            },
            "type": "scatterternary"
           }
          ],
          "surface": [
           {
            "colorbar": {
             "outlinewidth": 0,
             "ticks": ""
            },
            "colorscale": [
             [
              0,
              "#0d0887"
             ],
             [
              0.1111111111111111,
              "#46039f"
             ],
             [
              0.2222222222222222,
              "#7201a8"
             ],
             [
              0.3333333333333333,
              "#9c179e"
             ],
             [
              0.4444444444444444,
              "#bd3786"
             ],
             [
              0.5555555555555556,
              "#d8576b"
             ],
             [
              0.6666666666666666,
              "#ed7953"
             ],
             [
              0.7777777777777778,
              "#fb9f3a"
             ],
             [
              0.8888888888888888,
              "#fdca26"
             ],
             [
              1,
              "#f0f921"
             ]
            ],
            "type": "surface"
           }
          ],
          "table": [
           {
            "cells": {
             "fill": {
              "color": "#EBF0F8"
             },
             "line": {
              "color": "white"
             }
            },
            "header": {
             "fill": {
              "color": "#C8D4E3"
             },
             "line": {
              "color": "white"
             }
            },
            "type": "table"
           }
          ]
         },
         "layout": {
          "annotationdefaults": {
           "arrowcolor": "#2a3f5f",
           "arrowhead": 0,
           "arrowwidth": 1
          },
          "colorscale": {
           "diverging": [
            [
             0,
             "#8e0152"
            ],
            [
             0.1,
             "#c51b7d"
            ],
            [
             0.2,
             "#de77ae"
            ],
            [
             0.3,
             "#f1b6da"
            ],
            [
             0.4,
             "#fde0ef"
            ],
            [
             0.5,
             "#f7f7f7"
            ],
            [
             0.6,
             "#e6f5d0"
            ],
            [
             0.7,
             "#b8e186"
            ],
            [
             0.8,
             "#7fbc41"
            ],
            [
             0.9,
             "#4d9221"
            ],
            [
             1,
             "#276419"
            ]
           ],
           "sequential": [
            [
             0,
             "#0d0887"
            ],
            [
             0.1111111111111111,
             "#46039f"
            ],
            [
             0.2222222222222222,
             "#7201a8"
            ],
            [
             0.3333333333333333,
             "#9c179e"
            ],
            [
             0.4444444444444444,
             "#bd3786"
            ],
            [
             0.5555555555555556,
             "#d8576b"
            ],
            [
             0.6666666666666666,
             "#ed7953"
            ],
            [
             0.7777777777777778,
             "#fb9f3a"
            ],
            [
             0.8888888888888888,
             "#fdca26"
            ],
            [
             1,
             "#f0f921"
            ]
           ],
           "sequentialminus": [
            [
             0,
             "#0d0887"
            ],
            [
             0.1111111111111111,
             "#46039f"
            ],
            [
             0.2222222222222222,
             "#7201a8"
            ],
            [
             0.3333333333333333,
             "#9c179e"
            ],
            [
             0.4444444444444444,
             "#bd3786"
            ],
            [
             0.5555555555555556,
             "#d8576b"
            ],
            [
             0.6666666666666666,
             "#ed7953"
            ],
            [
             0.7777777777777778,
             "#fb9f3a"
            ],
            [
             0.8888888888888888,
             "#fdca26"
            ],
            [
             1,
             "#f0f921"
            ]
           ]
          },
          "colorway": [
           "#636efa",
           "#EF553B",
           "#00cc96",
           "#ab63fa",
           "#FFA15A",
           "#19d3f3",
           "#FF6692",
           "#B6E880",
           "#FF97FF",
           "#FECB52"
          ],
          "font": {
           "color": "#2a3f5f"
          },
          "geo": {
           "bgcolor": "white",
           "lakecolor": "white",
           "landcolor": "#E5ECF6",
           "showlakes": true,
           "showland": true,
           "subunitcolor": "white"
          },
          "hoverlabel": {
           "align": "left"
          },
          "hovermode": "closest",
          "mapbox": {
           "style": "light"
          },
          "paper_bgcolor": "white",
          "plot_bgcolor": "#E5ECF6",
          "polar": {
           "angularaxis": {
            "gridcolor": "white",
            "linecolor": "white",
            "ticks": ""
           },
           "bgcolor": "#E5ECF6",
           "radialaxis": {
            "gridcolor": "white",
            "linecolor": "white",
            "ticks": ""
           }
          },
          "scene": {
           "xaxis": {
            "backgroundcolor": "#E5ECF6",
            "gridcolor": "white",
            "gridwidth": 2,
            "linecolor": "white",
            "showbackground": true,
            "ticks": "",
            "zerolinecolor": "white"
           },
           "yaxis": {
            "backgroundcolor": "#E5ECF6",
            "gridcolor": "white",
            "gridwidth": 2,
            "linecolor": "white",
            "showbackground": true,
            "ticks": "",
            "zerolinecolor": "white"
           },
           "zaxis": {
            "backgroundcolor": "#E5ECF6",
            "gridcolor": "white",
            "gridwidth": 2,
            "linecolor": "white",
            "showbackground": true,
            "ticks": "",
            "zerolinecolor": "white"
           }
          },
          "shapedefaults": {
           "line": {
            "color": "#2a3f5f"
           }
          },
          "ternary": {
           "aaxis": {
            "gridcolor": "white",
            "linecolor": "white",
            "ticks": ""
           },
           "baxis": {
            "gridcolor": "white",
            "linecolor": "white",
            "ticks": ""
           },
           "bgcolor": "#E5ECF6",
           "caxis": {
            "gridcolor": "white",
            "linecolor": "white",
            "ticks": ""
           }
          },
          "title": {
           "x": 0.05
          },
          "xaxis": {
           "automargin": true,
           "gridcolor": "white",
           "linecolor": "white",
           "ticks": "",
           "zerolinecolor": "white",
           "zerolinewidth": 2
          },
          "yaxis": {
           "automargin": true,
           "gridcolor": "white",
           "linecolor": "white",
           "ticks": "",
           "zerolinecolor": "white",
           "zerolinewidth": 2
          }
         }
        }
       }
      },
      "text/html": [
       "<div>\n",
       "        \n",
       "        \n",
       "            <div id=\"6fd576f1-01f0-4931-9755-cf1c48508fed\" class=\"plotly-graph-div\" style=\"height:525px; width:100%;\"></div>\n",
       "            <script type=\"text/javascript\">\n",
       "                require([\"plotly\"], function(Plotly) {\n",
       "                    window.PLOTLYENV=window.PLOTLYENV || {};\n",
       "                    \n",
       "                if (document.getElementById(\"6fd576f1-01f0-4931-9755-cf1c48508fed\")) {\n",
       "                    Plotly.newPlot(\n",
       "                        '6fd576f1-01f0-4931-9755-cf1c48508fed',\n",
       "                        [{\"marker\": {\"color\": \"red\", \"size\": 8}, \"mode\": \"markers\", \"name\": \"Anchor Nodes\", \"type\": \"scatter\", \"x\": [50.45740786243018, 37.38090868696246, 46.22348388431704, 22.708951848477476, 14.448740638747214, 92.96123972459742, 82.89587680524104, 42.80346368784544, 77.22182312828741, 77.9404869602696], \"y\": [78.6956323342661, 58.988447162838895, 67.17190992702834, 52.51566091220619, 56.62305335430256, 50.58438326918127, 60.986944449454015, 68.80045527200691, 53.41915925840388, 73.54651903553035]}, {\"marker\": {\"color\": \"blue\", \"size\": 5}, \"mode\": \"markers\", \"name\": \"Other Nodes\", \"type\": \"scatter\", \"x\": [32.46525503047148, 22.49033225066569, 36.15292095912236, 65.98361737558925, 60.6579540629371, 42.935493588151985, 45.916775850680736, 34.069006404218506, 78.61262211391661, 28.49321398442125, 9.210921022760488, 57.26029280753485, 15.393176714882618, 58.724757962559636, 94.82533998624008, 52.80042391325503, 32.288107584758265, 96.51162492470058, 90.4223776117667, 60.50359729167318, 9.458251034646036, 53.15061133227148, 33.410711199936394, 2.9926407136840583, 90.63205502822633, 27.997847119213315, 74.02378809739639, 1.4880439124536515, 56.30838340047821, 22.50272484808422, 37.00809662162781, 59.30685441005503, 97.39577339375307, 46.54345963368029, 72.17112802704962, 89.36257697592644, 39.98013629883683, 77.84121421594702, 35.30215194298398, 94.60867987076465, 48.419360797614175, 91.68263410076696, 43.40116717081841, 24.859338243663252, 7.510174364895484, 23.464304985502704, 88.51786078566363, 13.476796983087802, 95.35378360361527, 59.606395112219225, 94.34402572551707, 39.267316699025926, 12.782838268639008, 75.23355353068776, 13.645618578630236, 91.80117567895947, 54.893528872822074, 45.88687139758196, 56.15797590367059, 4.674944202154519, 29.759529529886773, 43.4504148275378, 47.95424429480683, 99.13342909762457, 73.99994482912537, 22.842077682942673, 64.40108010403355, 14.517908459076844, 11.282826132033074, 70.37904520439572, 27.958369584168185, 73.35219635694853, 25.751087134320116, 26.02026462194562, 96.63013169605344, 38.13875422041198, 11.41963495597177, 3.2853764345661562, 99.05719214023533, 83.7864336393738, 58.487551805129534, 90.31381765524445, 19.405575345092686, 17.920332137961836, 15.175686773631769, 35.15860578673671, 86.07556595731184, 17.588048361782327, 20.829480095528496], \"y\": [99.4537014834545, 25.19291255030176, 4.7377761683564, 26.289211373546628, 0.30574945559650457, 32.73390465609393, 74.87885412745881, 14.46923732857045, 52.824737529925784, 72.01190201232556, 15.15818175933008, 15.449604553159125, 83.65524330589113, 30.560004273866703, 65.05188625115429, 21.155498669261984, 32.408069199322995, 81.21578935365916, 38.274430140733884, 29.54472896189403, 94.91223803138273, 25.7105648458403, 27.305451932418954, 40.5621854435927, 29.65424483733542, 51.718118432014805, 58.833805367354216, 76.32619597888565, 7.339622738829421, 10.940878829507195, 82.41502062644311, 43.81462813772372, 27.011492162337813, 76.18935665490085, 17.96658497935012, 96.04471460012498, 6.1962564098920865, 50.48003388486993, 47.26833164216243, 88.69828080212055, 7.3542867321658605, 32.8158924772003, 39.214395520210054, 17.73195606905813, 60.399971405281235, 56.843887815982576, 52.75302636457061, 35.61617877122363, 28.381243535731194, 29.348279607276282, 1.084864347850012, 16.15315439989563, 9.06834613640367, 17.827744106314647, 6.899840464352813, 17.419380574121735, 67.58103998752651, 90.85260199654181, 57.998005441951314, 96.80774255797971, 52.623885383182134, 55.111681211938524, 25.984308171574554, 97.59011266735496, 99.48640738972551, 8.915998115990654, 57.305377636464016, 26.030229920752333, 30.75404363199712, 32.893741014138655, 73.59001559990747, 93.60055900967383, 92.63137712503435, 59.82077829414171, 18.370629134457005, 45.890939677697126, 36.55168682054472, 98.60823148080867, 73.00480974582962, 46.258903448157525, 15.304230392491347, 38.335827267696345, 64.8739835674054, 45.40658875808734, 98.44314122708643, 93.21016712252525, 73.82861539854542, 52.01548238174328, 49.32757682911514]}],\n",
       "                        {\"template\": {\"data\": {\"bar\": [{\"error_x\": {\"color\": \"#2a3f5f\"}, \"error_y\": {\"color\": \"#2a3f5f\"}, \"marker\": {\"line\": {\"color\": \"#E5ECF6\", \"width\": 0.5}}, \"type\": \"bar\"}], \"barpolar\": [{\"marker\": {\"line\": {\"color\": \"#E5ECF6\", \"width\": 0.5}}, \"type\": \"barpolar\"}], \"carpet\": [{\"aaxis\": {\"endlinecolor\": \"#2a3f5f\", \"gridcolor\": \"white\", \"linecolor\": \"white\", \"minorgridcolor\": \"white\", \"startlinecolor\": \"#2a3f5f\"}, \"baxis\": {\"endlinecolor\": \"#2a3f5f\", \"gridcolor\": \"white\", \"linecolor\": \"white\", \"minorgridcolor\": \"white\", \"startlinecolor\": \"#2a3f5f\"}, \"type\": \"carpet\"}], \"choropleth\": [{\"colorbar\": {\"outlinewidth\": 0, \"ticks\": \"\"}, \"type\": \"choropleth\"}], \"contour\": [{\"colorbar\": {\"outlinewidth\": 0, \"ticks\": \"\"}, \"colorscale\": [[0.0, \"#0d0887\"], [0.1111111111111111, \"#46039f\"], [0.2222222222222222, \"#7201a8\"], [0.3333333333333333, \"#9c179e\"], [0.4444444444444444, \"#bd3786\"], [0.5555555555555556, \"#d8576b\"], [0.6666666666666666, \"#ed7953\"], [0.7777777777777778, \"#fb9f3a\"], [0.8888888888888888, \"#fdca26\"], [1.0, \"#f0f921\"]], \"type\": \"contour\"}], \"contourcarpet\": [{\"colorbar\": {\"outlinewidth\": 0, \"ticks\": \"\"}, \"type\": \"contourcarpet\"}], \"heatmap\": [{\"colorbar\": {\"outlinewidth\": 0, \"ticks\": \"\"}, \"colorscale\": [[0.0, \"#0d0887\"], [0.1111111111111111, \"#46039f\"], [0.2222222222222222, \"#7201a8\"], [0.3333333333333333, \"#9c179e\"], [0.4444444444444444, \"#bd3786\"], [0.5555555555555556, \"#d8576b\"], [0.6666666666666666, \"#ed7953\"], [0.7777777777777778, \"#fb9f3a\"], [0.8888888888888888, \"#fdca26\"], [1.0, \"#f0f921\"]], \"type\": \"heatmap\"}], \"heatmapgl\": [{\"colorbar\": {\"outlinewidth\": 0, \"ticks\": \"\"}, \"colorscale\": [[0.0, \"#0d0887\"], [0.1111111111111111, \"#46039f\"], [0.2222222222222222, \"#7201a8\"], [0.3333333333333333, \"#9c179e\"], [0.4444444444444444, \"#bd3786\"], [0.5555555555555556, \"#d8576b\"], [0.6666666666666666, \"#ed7953\"], [0.7777777777777778, \"#fb9f3a\"], [0.8888888888888888, \"#fdca26\"], [1.0, \"#f0f921\"]], \"type\": \"heatmapgl\"}], \"histogram\": [{\"marker\": {\"colorbar\": {\"outlinewidth\": 0, \"ticks\": \"\"}}, \"type\": \"histogram\"}], \"histogram2d\": [{\"colorbar\": {\"outlinewidth\": 0, \"ticks\": \"\"}, \"colorscale\": [[0.0, \"#0d0887\"], [0.1111111111111111, \"#46039f\"], [0.2222222222222222, \"#7201a8\"], [0.3333333333333333, \"#9c179e\"], [0.4444444444444444, \"#bd3786\"], [0.5555555555555556, \"#d8576b\"], [0.6666666666666666, \"#ed7953\"], [0.7777777777777778, \"#fb9f3a\"], [0.8888888888888888, \"#fdca26\"], [1.0, \"#f0f921\"]], \"type\": \"histogram2d\"}], \"histogram2dcontour\": [{\"colorbar\": {\"outlinewidth\": 0, \"ticks\": \"\"}, \"colorscale\": [[0.0, \"#0d0887\"], [0.1111111111111111, \"#46039f\"], [0.2222222222222222, \"#7201a8\"], [0.3333333333333333, \"#9c179e\"], [0.4444444444444444, \"#bd3786\"], [0.5555555555555556, \"#d8576b\"], [0.6666666666666666, \"#ed7953\"], [0.7777777777777778, \"#fb9f3a\"], [0.8888888888888888, \"#fdca26\"], [1.0, \"#f0f921\"]], \"type\": \"histogram2dcontour\"}], \"mesh3d\": [{\"colorbar\": {\"outlinewidth\": 0, \"ticks\": \"\"}, \"type\": \"mesh3d\"}], \"parcoords\": [{\"line\": {\"colorbar\": {\"outlinewidth\": 0, \"ticks\": \"\"}}, \"type\": \"parcoords\"}], \"scatter\": [{\"marker\": {\"colorbar\": {\"outlinewidth\": 0, \"ticks\": \"\"}}, \"type\": \"scatter\"}], \"scatter3d\": [{\"line\": {\"colorbar\": {\"outlinewidth\": 0, \"ticks\": \"\"}}, \"marker\": {\"colorbar\": {\"outlinewidth\": 0, \"ticks\": \"\"}}, \"type\": \"scatter3d\"}], \"scattercarpet\": [{\"marker\": {\"colorbar\": {\"outlinewidth\": 0, \"ticks\": \"\"}}, \"type\": \"scattercarpet\"}], \"scattergeo\": [{\"marker\": {\"colorbar\": {\"outlinewidth\": 0, \"ticks\": \"\"}}, \"type\": \"scattergeo\"}], \"scattergl\": [{\"marker\": {\"colorbar\": {\"outlinewidth\": 0, \"ticks\": \"\"}}, \"type\": \"scattergl\"}], \"scattermapbox\": [{\"marker\": {\"colorbar\": {\"outlinewidth\": 0, \"ticks\": \"\"}}, \"type\": \"scattermapbox\"}], \"scatterpolar\": [{\"marker\": {\"colorbar\": {\"outlinewidth\": 0, \"ticks\": \"\"}}, \"type\": \"scatterpolar\"}], \"scatterpolargl\": [{\"marker\": {\"colorbar\": {\"outlinewidth\": 0, \"ticks\": \"\"}}, \"type\": \"scatterpolargl\"}], \"scatterternary\": [{\"marker\": {\"colorbar\": {\"outlinewidth\": 0, \"ticks\": \"\"}}, \"type\": \"scatterternary\"}], \"surface\": [{\"colorbar\": {\"outlinewidth\": 0, \"ticks\": \"\"}, \"colorscale\": [[0.0, \"#0d0887\"], [0.1111111111111111, \"#46039f\"], [0.2222222222222222, \"#7201a8\"], [0.3333333333333333, \"#9c179e\"], [0.4444444444444444, \"#bd3786\"], [0.5555555555555556, \"#d8576b\"], [0.6666666666666666, \"#ed7953\"], [0.7777777777777778, \"#fb9f3a\"], [0.8888888888888888, \"#fdca26\"], [1.0, \"#f0f921\"]], \"type\": \"surface\"}], \"table\": [{\"cells\": {\"fill\": {\"color\": \"#EBF0F8\"}, \"line\": {\"color\": \"white\"}}, \"header\": {\"fill\": {\"color\": \"#C8D4E3\"}, \"line\": {\"color\": \"white\"}}, \"type\": \"table\"}]}, \"layout\": {\"annotationdefaults\": {\"arrowcolor\": \"#2a3f5f\", \"arrowhead\": 0, \"arrowwidth\": 1}, \"colorscale\": {\"diverging\": [[0, \"#8e0152\"], [0.1, \"#c51b7d\"], [0.2, \"#de77ae\"], [0.3, \"#f1b6da\"], [0.4, \"#fde0ef\"], [0.5, \"#f7f7f7\"], [0.6, \"#e6f5d0\"], [0.7, \"#b8e186\"], [0.8, \"#7fbc41\"], [0.9, \"#4d9221\"], [1, \"#276419\"]], \"sequential\": [[0.0, \"#0d0887\"], [0.1111111111111111, \"#46039f\"], [0.2222222222222222, \"#7201a8\"], [0.3333333333333333, \"#9c179e\"], [0.4444444444444444, \"#bd3786\"], [0.5555555555555556, \"#d8576b\"], [0.6666666666666666, \"#ed7953\"], [0.7777777777777778, \"#fb9f3a\"], [0.8888888888888888, \"#fdca26\"], [1.0, \"#f0f921\"]], \"sequentialminus\": [[0.0, \"#0d0887\"], [0.1111111111111111, \"#46039f\"], [0.2222222222222222, \"#7201a8\"], [0.3333333333333333, \"#9c179e\"], [0.4444444444444444, \"#bd3786\"], [0.5555555555555556, \"#d8576b\"], [0.6666666666666666, \"#ed7953\"], [0.7777777777777778, \"#fb9f3a\"], [0.8888888888888888, \"#fdca26\"], [1.0, \"#f0f921\"]]}, \"colorway\": [\"#636efa\", \"#EF553B\", \"#00cc96\", \"#ab63fa\", \"#FFA15A\", \"#19d3f3\", \"#FF6692\", \"#B6E880\", \"#FF97FF\", \"#FECB52\"], \"font\": {\"color\": \"#2a3f5f\"}, \"geo\": {\"bgcolor\": \"white\", \"lakecolor\": \"white\", \"landcolor\": \"#E5ECF6\", \"showlakes\": true, \"showland\": true, \"subunitcolor\": \"white\"}, \"hoverlabel\": {\"align\": \"left\"}, \"hovermode\": \"closest\", \"mapbox\": {\"style\": \"light\"}, \"paper_bgcolor\": \"white\", \"plot_bgcolor\": \"#E5ECF6\", \"polar\": {\"angularaxis\": {\"gridcolor\": \"white\", \"linecolor\": \"white\", \"ticks\": \"\"}, \"bgcolor\": \"#E5ECF6\", \"radialaxis\": {\"gridcolor\": \"white\", \"linecolor\": \"white\", \"ticks\": \"\"}}, \"scene\": {\"xaxis\": {\"backgroundcolor\": \"#E5ECF6\", \"gridcolor\": \"white\", \"gridwidth\": 2, \"linecolor\": \"white\", \"showbackground\": true, \"ticks\": \"\", \"zerolinecolor\": \"white\"}, \"yaxis\": {\"backgroundcolor\": \"#E5ECF6\", \"gridcolor\": \"white\", \"gridwidth\": 2, \"linecolor\": \"white\", \"showbackground\": true, \"ticks\": \"\", \"zerolinecolor\": \"white\"}, \"zaxis\": {\"backgroundcolor\": \"#E5ECF6\", \"gridcolor\": \"white\", \"gridwidth\": 2, \"linecolor\": \"white\", \"showbackground\": true, \"ticks\": \"\", \"zerolinecolor\": \"white\"}}, \"shapedefaults\": {\"line\": {\"color\": \"#2a3f5f\"}}, \"ternary\": {\"aaxis\": {\"gridcolor\": \"white\", \"linecolor\": \"white\", \"ticks\": \"\"}, \"baxis\": {\"gridcolor\": \"white\", \"linecolor\": \"white\", \"ticks\": \"\"}, \"bgcolor\": \"#E5ECF6\", \"caxis\": {\"gridcolor\": \"white\", \"linecolor\": \"white\", \"ticks\": \"\"}}, \"title\": {\"x\": 0.05}, \"xaxis\": {\"automargin\": true, \"gridcolor\": \"white\", \"linecolor\": \"white\", \"ticks\": \"\", \"zerolinecolor\": \"white\", \"zerolinewidth\": 2}, \"yaxis\": {\"automargin\": true, \"gridcolor\": \"white\", \"linecolor\": \"white\", \"ticks\": \"\", \"zerolinecolor\": \"white\", \"zerolinewidth\": 2}}}},\n",
       "                        {\"responsive\": true}\n",
       "                    ).then(function(){\n",
       "                            \n",
       "var gd = document.getElementById('6fd576f1-01f0-4931-9755-cf1c48508fed');\n",
       "var x = new MutationObserver(function (mutations, observer) {{\n",
       "        var display = window.getComputedStyle(gd).display;\n",
       "        if (!display || display === 'none') {{\n",
       "            console.log([gd, 'removed!']);\n",
       "            Plotly.purge(gd);\n",
       "            observer.disconnect();\n",
       "        }}\n",
       "}});\n",
       "\n",
       "// Listen for the removal of the full notebook cells\n",
       "var notebookContainer = gd.closest('#notebook-container');\n",
       "if (notebookContainer) {{\n",
       "    x.observe(notebookContainer, {childList: true});\n",
       "}}\n",
       "\n",
       "// Listen for the clearing of the current output cell\n",
       "var outputEl = gd.closest('.output');\n",
       "if (outputEl) {{\n",
       "    x.observe(outputEl, {childList: true});\n",
       "}}\n",
       "\n",
       "                        })\n",
       "                };\n",
       "                });\n",
       "            </script>\n",
       "        </div>"
      ]
     },
     "metadata": {},
     "output_type": "display_data"
    }
   ],
   "source": [
    "class Node:\n",
    "    \"\"\"\n",
    "        \n",
    "    \"\"\"\n",
    "\n",
    "    def __init__(self):\n",
    "        self.id = None\n",
    "        self.x_coord = None\n",
    "        self.y_coord = None\n",
    "        self.isAnchor = 0\n",
    "        self.unreliability = math.inf\n",
    "        self.x_estimated = None\n",
    "        self.y_estimated = None\n",
    "        self.neighbours = []\n",
    "        self.distances = []\n",
    "        self.estimated = False\n",
    "\n",
    "    def euclideanDistance(self, node):\n",
    "        x1 = self.x_coord\n",
    "        y1 = self.y_coord\n",
    "        x2 = node.x_coord\n",
    "        y2 = node.y_coord\n",
    "        result = math.sqrt(math.pow(x2 - x1, 2) + math.pow(y2 - y1, 2))\n",
    "        return result\n",
    "    \n",
    "    def minUnreliability(self, node):\n",
    "        if self.unreliability <= node.unreliability:\n",
    "            return -1\n",
    "        else:\n",
    "            return 0\n",
    "\n",
    "    def getAnchorNeighbours(self):\n",
    "        anchors = []\n",
    "        for neighbour in self.neighbours:\n",
    "            if neighbour.isAnchor > 0:\n",
    "                anchors.append(neighbour)\n",
    "        return anchors\n",
    "    \n",
    "    def getErrorOfEstimation(self):\n",
    "        x_diff = math.pow(self.x_estimated - self.x_coord, 2)\n",
    "        y_diff = math.pow(self.y_estimated - self.y_coord, 2)\n",
    "        error = math.sqrt( x_diff + y_diff)\n",
    "        return error\n",
    "\n",
    "    def estimateLocation(self, cycles, heuristic=1, r=10):\n",
    "        if self.estimated == True:\n",
    "            return False\n",
    "        if heuristic == 1:\n",
    "            #print(\"Heuristic 1\")\n",
    "            return self.estimateLocation1(cycles, r)\n",
    "        elif heuristic == 2:\n",
    "            #print(\"Heuristic 2\")\n",
    "            return self.estimateLocation2(cycles, r)\n",
    "        else:\n",
    "            pass\n",
    "            \n",
    "    def __str__(self):\n",
    "        return \"id = \" + str(self.id) + \"\\n\" + \\\n",
    "               \"\\tx = \" + str(self.x_coord) + \", y = \" + str(self.y_coord) + \"\\n\" + \\\n",
    "               \"\\tisAnchor = \" + str(self.isAnchor) + \"\\n\" + \\\n",
    "               \"\\tunreliability = \" + str(self.unreliability) + \"\\n\" + \\\n",
    "               \"\\tx_estimated = \" + str(self.x_estimated) + \", y = \" + str(self.y_estimated) + \"\\n\" + \\\n",
    "               \"\\tNeighbours: \" + str([n.id for n in self.neighbours]) + \"\\n\"\n",
    "\n",
    "    \n",
    "    def estimateLocation1(self, cycles, r):\n",
    "        self.neighbours.sort(key=lambda neighbour: self.euclideanDistance(neighbour))\n",
    "        anchors = self.getAnchorNeighbours()\n",
    "        if len(anchors) < 3:\n",
    "            return False\n",
    "        else:\n",
    "            neighbour1 = anchors[0]\n",
    "            neighbour2 = anchors[1]\n",
    "            neighbour3 = anchors[2]\n",
    "\n",
    "            rand = np.random.randint(0, 10)  # to simulate the incorrect distance measured\n",
    "            noise = None\n",
    "            if (rand < 5):\n",
    "                noise = 1 - r / 100.0\n",
    "            else:\n",
    "                noise = 1 + r / 100.0\n",
    "\n",
    "            r1 = self.euclideanDistance(neighbour1) * noise\n",
    "            r2 = self.euclideanDistance(neighbour2) * noise\n",
    "            r3 = self.euclideanDistance(neighbour3) * noise\n",
    "\n",
    "            pt_a = [neighbour1.x_coord, neighbour1.y_coord, r1]\n",
    "            pt_b = [neighbour2.x_coord, neighbour2.y_coord, r2]\n",
    "            pt_c = [neighbour3.x_coord, neighbour3.y_coord, r3]\n",
    "\n",
    "            result = trilateration(pt_a, pt_b, pt_c)\n",
    "\n",
    "            self.estimated = True\n",
    "            self.x_estimated = result[0]\n",
    "            self.y_estimated = result[1]\n",
    "            self.isAnchor = cycles + 1\n",
    "            self.unreliability = neighbour1.unreliability + neighbour2.unreliability + neighbour3.unreliability + 1\n",
    "            return True\n",
    "    \n",
    "    def estimateLocation2(self, cycles, r):\n",
    "        self.neighbours.sort(key=lambda neighbour: self.minUnreliability(neighbour))\n",
    "        anchors = self.getAnchorNeighbours()\n",
    "        if len(anchors) < 3:\n",
    "            return False\n",
    "        else:\n",
    "            neighbour1 = anchors[0]\n",
    "            neighbour2 = anchors[1]\n",
    "            neighbour3 = anchors[2]\n",
    "\n",
    "            rand = np.random.randint(0, 10)  # to simulate the incorrect distance measured\n",
    "            noise = None\n",
    "            if (rand < 5):\n",
    "                noise = 1 - r / 100.0\n",
    "            else:\n",
    "                noise = 1 + r / 100.0\n",
    "\n",
    "            r1 = self.euclideanDistance(neighbour1) * noise\n",
    "            r2 = self.euclideanDistance(neighbour2) * noise\n",
    "            r3 = self.euclideanDistance(neighbour3) * noise\n",
    "\n",
    "            pt_a = [neighbour1.x_coord, neighbour1.y_coord, r1]\n",
    "            pt_b = [neighbour2.x_coord, neighbour2.y_coord, r2]\n",
    "            pt_c = [neighbour3.x_coord, neighbour3.y_coord, r3]\n",
    "\n",
    "            result = trilateration(pt_a, pt_b, pt_c)\n",
    "\n",
    "            self.estimated = True\n",
    "            self.x_estimated = result[0]\n",
    "            self.y_estimated = result[1]\n",
    "            self.isAnchor = cycles + 1\n",
    "            self.unreliability = neighbour1.unreliability + neighbour2.unreliability + neighbour3.unreliability + 1\n",
    "            return True\n",
    "    \n",
    "    \n",
    "def generateNodes(N, L, R, r, f):\n",
    "    nodes = dict()\n",
    "    coordinates = [(float(x) * L, float(y) * L) for x, y in np.random.rand(N, 2)]\n",
    "    # print(coordinates)\n",
    "    anchorNodesNumber = int(f / 100 * N)\n",
    "    for id in range(N):\n",
    "        node = Node()\n",
    "        node.id = id\n",
    "        x = coordinates[id][0]\n",
    "        y = coordinates[id][1]\n",
    "        node.x_coord = x\n",
    "        node.y_coord = y\n",
    "        if id < anchorNodesNumber:\n",
    "            node.isAnchor = 1\n",
    "            node.unreliability = 0\n",
    "            node.x_estimated = node.x_coord\n",
    "            node.y_estimated = node.y_coord\n",
    "            node.estimated = True\n",
    "        nodes[id] = node\n",
    "    return nodes\n",
    "\n",
    "\n",
    "def plot(nodes, N, L, f):\n",
    "    anchorNodesNumber = int(f / 100 * N)\n",
    "    x_anchorNodes = [nodes[i].x_coord for i in range(anchorNodesNumber)]\n",
    "    y_anchorNodes = [nodes[i].y_coord for i in range(anchorNodesNumber)]\n",
    "\n",
    "    x_other = [nodes[i].x_coord for i in range(anchorNodesNumber + 1, len(nodes))]\n",
    "    y_other = [nodes[i].y_coord for i in range(anchorNodesNumber + 1, len(nodes))]\n",
    "\n",
    "    anchorNodes = {\"x\": x_anchorNodes,\n",
    "                   \"y\": y_anchorNodes,\n",
    "                   \"mode\": \"markers\",\n",
    "                   \"marker\": {\"color\": \"red\", \"size\": 8},\n",
    "                   \"name\": \"Anchor Nodes\"\n",
    "                   }\n",
    "    otherNodes = {\"x\": x_other,\n",
    "                  \"y\": y_other,\n",
    "                  \"mode\": \"markers\",\n",
    "                  \"marker\": {\"color\": \"blue\", \"size\": 5},\n",
    "                  \"name\": \"Other Nodes\"\n",
    "                  }\n",
    "    data = [anchorNodes, otherNodes]\n",
    "\n",
    "    iplot(data)\n",
    "\n",
    "\n",
    "def findNeighbours(nodes, R):\n",
    "    for id in range(len(nodes.keys())):\n",
    "        neighbours = []\n",
    "        distances = []\n",
    "        for id2 in range(len(nodes.keys())):\n",
    "            if (id == id2):\n",
    "                continue\n",
    "            distance = nodes[id].euclideanDistance(nodes[id2])\n",
    "            if (distance < R):\n",
    "                neighbours.append(nodes[id2])\n",
    "                distances.append(distance)\n",
    "        nodes[id].neighbours = neighbours\n",
    "        nodes[id].distances = distances\n",
    "    return nodes\n",
    "\n",
    "\n",
    "\n",
    "\"\"\"\n",
    "    generateNodes(N, L, R, r, f)\n",
    "\"\"\"\n",
    "nodes = generateNodes(100, 100, 0, 0, 10)\n",
    "plot(nodes, 100, 100, 10)\n",
    "\n",
    "\n",
    "\"\"\"\n",
    "    findNeighbours(nodes, R)\n",
    "\"\"\"\n",
    "nodes = findNeighbours(nodes, 25)"
   ]
  },
  {
   "cell_type": "code",
   "execution_count": 205,
   "metadata": {
    "ExecuteTime": {
     "end_time": "2019-12-27T09:34:34.228724Z",
     "start_time": "2019-12-27T09:34:34.211767Z"
    }
   },
   "outputs": [
    {
     "name": "stdout",
     "output_type": "stream",
     "text": [
      "Total of Black Nodes: 1\n",
      "Total of Anchor Nodes: 10\n",
      "Total of Estimated Nodes: 89\n",
      "Cycles needed to estimate as much as possible nodes:  4\n"
     ]
    }
   ],
   "source": [
    "def estimateLocations(nodes, heuristic, r = 10, iterative = True):\n",
    "    global cycles \n",
    "    cycles = 0\n",
    "    if iterative:\n",
    "        while (True):\n",
    "            cycles = cycles + 1\n",
    "            estimatedSmth = False\n",
    "            for idx in range(len(nodes)):\n",
    "                # print(nodes[idx].estimateLocation())\n",
    "                est = nodes[idx].estimateLocation(cycles, heuristic, r)\n",
    "                if est:\n",
    "                    # print(nodes[idx])\n",
    "                    estimatedSmth = True\n",
    "                    nodes[idx].estimated = True\n",
    "            if not estimatedSmth:\n",
    "                break\n",
    "    else:\n",
    "        # print('Fisnik')\n",
    "        cycles = cycles + 1\n",
    "        for idx in range(len(nodes)):\n",
    "            est = nodes[idx].estimateLocation(cycles, heuristic, r)\n",
    "            \n",
    "    return nodes\n",
    "\n",
    "nodes = estimateLocations(nodes, 1)\n",
    "            \n",
    "black_nodes = []\n",
    "anchor_nodes = []\n",
    "estimated_nodes = []\n",
    "\n",
    "\n",
    "for idx in range(len(nodes)):\n",
    "    if nodes[idx].isAnchor == 1:\n",
    "        anchor_nodes.append(nodes[idx])\n",
    "    elif nodes[idx].estimated:\n",
    "        estimated_nodes.append(nodes[idx])\n",
    "    else:\n",
    "        black_nodes.append(nodes[idx])\n",
    "\n",
    "print(\"Total of Black Nodes:\", len(black_nodes))\n",
    "print(\"Total of Anchor Nodes:\", len(anchor_nodes))\n",
    "print(\"Total of Estimated Nodes:\", len(estimated_nodes))\n",
    "print(\"Cycles needed to estimate as much as possible nodes: \", cycles)"
   ]
  },
  {
   "cell_type": "code",
   "execution_count": 206,
   "metadata": {
    "ExecuteTime": {
     "end_time": "2019-12-27T09:34:56.409307Z",
     "start_time": "2019-12-27T09:34:56.391394Z"
    }
   },
   "outputs": [],
   "source": [
    "\"\"\"\n",
    "    This is a function that plots the Anchor Nodes (RED), Nodes that could have been estimated (YELLOW)\n",
    "    and nodes that couldn't have been estimated (BLACK)\n",
    "\n",
    "\"\"\"\n",
    "\n",
    "def plot2(black_nodes, anchor_nodes, estimated_nodes, cycles):\n",
    "    x_black_nodes = [black_nodes[i].x_coord for i in range(len(black_nodes))]\n",
    "    y_black_nodes = [black_nodes[i].y_coord for i in range(len(black_nodes))]\n",
    "\n",
    "    x_anchor_nodes = [anchor_nodes[i].x_coord for i in range(len(anchor_nodes))]\n",
    "    y_anchor_nodes = [anchor_nodes[i].y_coord for i in range(len(anchor_nodes))]\n",
    "    \n",
    "    x_estimated_nodes = [estimated_nodes[i].x_coord for i in range(len(estimated_nodes))]\n",
    "    y_estimated_nodes = [estimated_nodes[i].y_coord for i in range(len(estimated_nodes))]\n",
    "    \n",
    "    name_black = \"Black Nodes (\" + str(len(black_nodes)) + \")\"\n",
    "    black_nodes = {\"x\" : x_black_nodes,\n",
    "                   \"y\" : y_black_nodes,\n",
    "                   \"mode\" : \"markers\",\n",
    "                   \"marker\" : {\"color\" : \"black\", \"size\":5},\n",
    "                   \"name\" : name_black\n",
    "                  }\n",
    "    \n",
    "    name_anchor = \"Anchor Nodes (\" + str(len(anchor_nodes)) + \")\"\n",
    "    anchor_nodes = {\"x\" : x_anchor_nodes,\n",
    "                  \"y\" : y_anchor_nodes,\n",
    "                  \"mode\" : \"markers\",\n",
    "                  \"marker\" : {\"color\" : \"red\", \"size\" : 8},\n",
    "                  \"name\" : name_anchor\n",
    "                 }\n",
    "    \n",
    "    name_estimated = \"Estimated Nodes (\" + str(len(estimated_nodes)) + \")\"\n",
    "    estimated_nodes = {\"x\" : x_estimated_nodes,\n",
    "                  \"y\" : y_estimated_nodes,\n",
    "                  \"mode\" : \"markers\",\n",
    "                  \"marker\" : {\"color\" : \"yellow\", \"size\" : 5},\n",
    "                  \"name\" : name_estimated\n",
    "                 }\n",
    "    \n",
    "    data = [black_nodes, anchor_nodes, estimated_nodes]\n",
    "\n",
    "    iplot(data)\n",
    "    \n",
    "\n",
    "    \n",
    "\"\"\"\n",
    "    This is a function that plots the correct location of a node (red) and the estimated location of the\n",
    "    node by trilateration (blue)\n",
    "\"\"\"\n",
    "def plot3(original_node, estimated_node):\n",
    "    x_original_node = [original_node[i][0] for i in range(len(original_node))]\n",
    "    y_original_node = [original_node[i][1] for i in range(len(original_node))]\n",
    "\n",
    "    x_estimated_node = [estimated_node[i][0] for i in range(len(estimated_node))]\n",
    "    y_estimated_node = [estimated_node[i][1] for i in range(len(estimated_node))]\n",
    "    \n",
    "    original_node_name = \"Correct Location\"\n",
    "    original_nodes = {\"x\" : x_original_node,\n",
    "                   \"y\" : y_original_node,\n",
    "                   \"mode\" : \"markers\",\n",
    "                   \"marker\" : {\"color\" : \"red\", \"size\":5},\n",
    "                   \"name\" : original_node_name\n",
    "                  }\n",
    "    \n",
    "    estimated_node_name = \"Estimated Node\"\n",
    "    estimated_nodes = {\"x\" : x_estimated_node,\n",
    "                  \"y\" : y_estimated_node,\n",
    "                  \"mode\" : \"markers\",\n",
    "                  \"marker\" : {\"color\" : \"blue\", \"size\" : 5},\n",
    "                  \"name\" : estimated_node_name\n",
    "                 }\n",
    "    \n",
    "    \n",
    "    data = [original_nodes, estimated_nodes]\n",
    "\n",
    "    iplot(data)\n",
    "    \n",
    "\n",
    "original_node = []\n",
    "estimated_node = []\n",
    "\n",
    "\n",
    "for node in estimated_nodes:\n",
    "    node_original = node.x_coord, node.y_coord\n",
    "    node_estimated = node.x_estimated, node.y_estimated\n",
    "    \n",
    "    original_node.append(node_original)\n",
    "    estimated_node.append(node_estimated)\n",
    "    \n",
    "\n",
    "# for id in range(len(original_node)):\n",
    "#     print(original_node[id])\n",
    "#     print(estimated_node[id])\n",
    "#     print()\n",
    "\n",
    "x_original_node = [original_node[i][0] for i in range(len(original_node))]\n",
    "y_original_node = [original_node[i][1] for i in range(len(original_node))]\n",
    "\n",
    "x_estimated_node = [estimated_node[i][0] for i in range(len(estimated_node))]\n",
    "y_estimated_node = [estimated_node[i][1] for i in range(len(estimated_node))]"
   ]
  },
  {
   "cell_type": "code",
   "execution_count": 207,
   "metadata": {
    "ExecuteTime": {
     "end_time": "2019-12-27T09:35:01.964141Z",
     "start_time": "2019-12-27T09:35:01.704789Z"
    }
   },
   "outputs": [
    {
     "data": {
      "application/vnd.plotly.v1+json": {
       "config": {
        "linkText": "Export to plot.ly",
        "plotlyServerURL": "https://plot.ly",
        "showLink": false
       },
       "data": [
        {
         "marker": {
          "color": "black",
          "size": 5
         },
         "mode": "markers",
         "name": "Black Nodes (1)",
         "type": "scatter",
         "x": [
          94.34402572551707
         ],
         "y": [
          1.084864347850012
         ]
        },
        {
         "marker": {
          "color": "red",
          "size": 8
         },
         "mode": "markers",
         "name": "Anchor Nodes (10)",
         "type": "scatter",
         "x": [
          50.45740786243018,
          37.38090868696246,
          46.22348388431704,
          22.708951848477476,
          14.448740638747214,
          92.96123972459742,
          82.89587680524104,
          42.80346368784544,
          77.22182312828741,
          77.9404869602696
         ],
         "y": [
          78.6956323342661,
          58.988447162838895,
          67.17190992702834,
          52.51566091220619,
          56.62305335430256,
          50.58438326918127,
          60.986944449454015,
          68.80045527200691,
          53.41915925840388,
          73.54651903553035
         ]
        },
        {
         "marker": {
          "color": "yellow",
          "size": 5
         },
         "mode": "markers",
         "name": "Estimated Nodes (89)",
         "type": "scatter",
         "x": [
          93.54221925094348,
          32.46525503047148,
          22.49033225066569,
          36.15292095912236,
          65.98361737558925,
          60.6579540629371,
          42.935493588151985,
          45.916775850680736,
          34.069006404218506,
          78.61262211391661,
          28.49321398442125,
          9.210921022760488,
          57.26029280753485,
          15.393176714882618,
          58.724757962559636,
          94.82533998624008,
          52.80042391325503,
          32.288107584758265,
          96.51162492470058,
          90.4223776117667,
          60.50359729167318,
          9.458251034646036,
          53.15061133227148,
          33.410711199936394,
          2.9926407136840583,
          90.63205502822633,
          27.997847119213315,
          74.02378809739639,
          1.4880439124536515,
          56.30838340047821,
          22.50272484808422,
          37.00809662162781,
          59.30685441005503,
          97.39577339375307,
          46.54345963368029,
          72.17112802704962,
          89.36257697592644,
          39.98013629883683,
          77.84121421594702,
          35.30215194298398,
          94.60867987076465,
          48.419360797614175,
          91.68263410076696,
          43.40116717081841,
          24.859338243663252,
          7.510174364895484,
          23.464304985502704,
          88.51786078566363,
          13.476796983087802,
          95.35378360361527,
          59.606395112219225,
          39.267316699025926,
          12.782838268639008,
          75.23355353068776,
          13.645618578630236,
          91.80117567895947,
          54.893528872822074,
          45.88687139758196,
          56.15797590367059,
          4.674944202154519,
          29.759529529886773,
          43.4504148275378,
          47.95424429480683,
          99.13342909762457,
          73.99994482912537,
          22.842077682942673,
          64.40108010403355,
          14.517908459076844,
          11.282826132033074,
          70.37904520439572,
          27.958369584168185,
          73.35219635694853,
          25.751087134320116,
          26.02026462194562,
          96.63013169605344,
          38.13875422041198,
          11.41963495597177,
          3.2853764345661562,
          99.05719214023533,
          83.7864336393738,
          58.487551805129534,
          90.31381765524445,
          19.405575345092686,
          17.920332137961836,
          15.175686773631769,
          35.15860578673671,
          86.07556595731184,
          17.588048361782327,
          20.829480095528496
         ],
         "y": [
          63.17429487819756,
          99.4537014834545,
          25.19291255030176,
          4.7377761683564,
          26.289211373546628,
          0.30574945559650457,
          32.73390465609393,
          74.87885412745881,
          14.46923732857045,
          52.824737529925784,
          72.01190201232556,
          15.15818175933008,
          15.449604553159125,
          83.65524330589113,
          30.560004273866703,
          65.05188625115429,
          21.155498669261984,
          32.408069199322995,
          81.21578935365916,
          38.274430140733884,
          29.54472896189403,
          94.91223803138273,
          25.7105648458403,
          27.305451932418954,
          40.5621854435927,
          29.65424483733542,
          51.718118432014805,
          58.833805367354216,
          76.32619597888565,
          7.339622738829421,
          10.940878829507195,
          82.41502062644311,
          43.81462813772372,
          27.011492162337813,
          76.18935665490085,
          17.96658497935012,
          96.04471460012498,
          6.1962564098920865,
          50.48003388486993,
          47.26833164216243,
          88.69828080212055,
          7.3542867321658605,
          32.8158924772003,
          39.214395520210054,
          17.73195606905813,
          60.399971405281235,
          56.843887815982576,
          52.75302636457061,
          35.61617877122363,
          28.381243535731194,
          29.348279607276282,
          16.15315439989563,
          9.06834613640367,
          17.827744106314647,
          6.899840464352813,
          17.419380574121735,
          67.58103998752651,
          90.85260199654181,
          57.998005441951314,
          96.80774255797971,
          52.623885383182134,
          55.111681211938524,
          25.984308171574554,
          97.59011266735496,
          99.48640738972551,
          8.915998115990654,
          57.305377636464016,
          26.030229920752333,
          30.75404363199712,
          32.893741014138655,
          73.59001559990747,
          93.60055900967383,
          92.63137712503435,
          59.82077829414171,
          18.370629134457005,
          45.890939677697126,
          36.55168682054472,
          98.60823148080867,
          73.00480974582962,
          46.258903448157525,
          15.304230392491347,
          38.335827267696345,
          64.8739835674054,
          45.40658875808734,
          98.44314122708643,
          93.21016712252525,
          73.82861539854542,
          52.01548238174328,
          49.32757682911514
         ]
        }
       ],
       "layout": {
        "template": {
         "data": {
          "bar": [
           {
            "error_x": {
             "color": "#2a3f5f"
            },
            "error_y": {
             "color": "#2a3f5f"
            },
            "marker": {
             "line": {
              "color": "#E5ECF6",
              "width": 0.5
             }
            },
            "type": "bar"
           }
          ],
          "barpolar": [
           {
            "marker": {
             "line": {
              "color": "#E5ECF6",
              "width": 0.5
             }
            },
            "type": "barpolar"
           }
          ],
          "carpet": [
           {
            "aaxis": {
             "endlinecolor": "#2a3f5f",
             "gridcolor": "white",
             "linecolor": "white",
             "minorgridcolor": "white",
             "startlinecolor": "#2a3f5f"
            },
            "baxis": {
             "endlinecolor": "#2a3f5f",
             "gridcolor": "white",
             "linecolor": "white",
             "minorgridcolor": "white",
             "startlinecolor": "#2a3f5f"
            },
            "type": "carpet"
           }
          ],
          "choropleth": [
           {
            "colorbar": {
             "outlinewidth": 0,
             "ticks": ""
            },
            "type": "choropleth"
           }
          ],
          "contour": [
           {
            "colorbar": {
             "outlinewidth": 0,
             "ticks": ""
            },
            "colorscale": [
             [
              0,
              "#0d0887"
             ],
             [
              0.1111111111111111,
              "#46039f"
             ],
             [
              0.2222222222222222,
              "#7201a8"
             ],
             [
              0.3333333333333333,
              "#9c179e"
             ],
             [
              0.4444444444444444,
              "#bd3786"
             ],
             [
              0.5555555555555556,
              "#d8576b"
             ],
             [
              0.6666666666666666,
              "#ed7953"
             ],
             [
              0.7777777777777778,
              "#fb9f3a"
             ],
             [
              0.8888888888888888,
              "#fdca26"
             ],
             [
              1,
              "#f0f921"
             ]
            ],
            "type": "contour"
           }
          ],
          "contourcarpet": [
           {
            "colorbar": {
             "outlinewidth": 0,
             "ticks": ""
            },
            "type": "contourcarpet"
           }
          ],
          "heatmap": [
           {
            "colorbar": {
             "outlinewidth": 0,
             "ticks": ""
            },
            "colorscale": [
             [
              0,
              "#0d0887"
             ],
             [
              0.1111111111111111,
              "#46039f"
             ],
             [
              0.2222222222222222,
              "#7201a8"
             ],
             [
              0.3333333333333333,
              "#9c179e"
             ],
             [
              0.4444444444444444,
              "#bd3786"
             ],
             [
              0.5555555555555556,
              "#d8576b"
             ],
             [
              0.6666666666666666,
              "#ed7953"
             ],
             [
              0.7777777777777778,
              "#fb9f3a"
             ],
             [
              0.8888888888888888,
              "#fdca26"
             ],
             [
              1,
              "#f0f921"
             ]
            ],
            "type": "heatmap"
           }
          ],
          "heatmapgl": [
           {
            "colorbar": {
             "outlinewidth": 0,
             "ticks": ""
            },
            "colorscale": [
             [
              0,
              "#0d0887"
             ],
             [
              0.1111111111111111,
              "#46039f"
             ],
             [
              0.2222222222222222,
              "#7201a8"
             ],
             [
              0.3333333333333333,
              "#9c179e"
             ],
             [
              0.4444444444444444,
              "#bd3786"
             ],
             [
              0.5555555555555556,
              "#d8576b"
             ],
             [
              0.6666666666666666,
              "#ed7953"
             ],
             [
              0.7777777777777778,
              "#fb9f3a"
             ],
             [
              0.8888888888888888,
              "#fdca26"
             ],
             [
              1,
              "#f0f921"
             ]
            ],
            "type": "heatmapgl"
           }
          ],
          "histogram": [
           {
            "marker": {
             "colorbar": {
              "outlinewidth": 0,
              "ticks": ""
             }
            },
            "type": "histogram"
           }
          ],
          "histogram2d": [
           {
            "colorbar": {
             "outlinewidth": 0,
             "ticks": ""
            },
            "colorscale": [
             [
              0,
              "#0d0887"
             ],
             [
              0.1111111111111111,
              "#46039f"
             ],
             [
              0.2222222222222222,
              "#7201a8"
             ],
             [
              0.3333333333333333,
              "#9c179e"
             ],
             [
              0.4444444444444444,
              "#bd3786"
             ],
             [
              0.5555555555555556,
              "#d8576b"
             ],
             [
              0.6666666666666666,
              "#ed7953"
             ],
             [
              0.7777777777777778,
              "#fb9f3a"
             ],
             [
              0.8888888888888888,
              "#fdca26"
             ],
             [
              1,
              "#f0f921"
             ]
            ],
            "type": "histogram2d"
           }
          ],
          "histogram2dcontour": [
           {
            "colorbar": {
             "outlinewidth": 0,
             "ticks": ""
            },
            "colorscale": [
             [
              0,
              "#0d0887"
             ],
             [
              0.1111111111111111,
              "#46039f"
             ],
             [
              0.2222222222222222,
              "#7201a8"
             ],
             [
              0.3333333333333333,
              "#9c179e"
             ],
             [
              0.4444444444444444,
              "#bd3786"
             ],
             [
              0.5555555555555556,
              "#d8576b"
             ],
             [
              0.6666666666666666,
              "#ed7953"
             ],
             [
              0.7777777777777778,
              "#fb9f3a"
             ],
             [
              0.8888888888888888,
              "#fdca26"
             ],
             [
              1,
              "#f0f921"
             ]
            ],
            "type": "histogram2dcontour"
           }
          ],
          "mesh3d": [
           {
            "colorbar": {
             "outlinewidth": 0,
             "ticks": ""
            },
            "type": "mesh3d"
           }
          ],
          "parcoords": [
           {
            "line": {
             "colorbar": {
              "outlinewidth": 0,
              "ticks": ""
             }
            },
            "type": "parcoords"
           }
          ],
          "scatter": [
           {
            "marker": {
             "colorbar": {
              "outlinewidth": 0,
              "ticks": ""
             }
            },
            "type": "scatter"
           }
          ],
          "scatter3d": [
           {
            "line": {
             "colorbar": {
              "outlinewidth": 0,
              "ticks": ""
             }
            },
            "marker": {
             "colorbar": {
              "outlinewidth": 0,
              "ticks": ""
             }
            },
            "type": "scatter3d"
           }
          ],
          "scattercarpet": [
           {
            "marker": {
             "colorbar": {
              "outlinewidth": 0,
              "ticks": ""
             }
            },
            "type": "scattercarpet"
           }
          ],
          "scattergeo": [
           {
            "marker": {
             "colorbar": {
              "outlinewidth": 0,
              "ticks": ""
             }
            },
            "type": "scattergeo"
           }
          ],
          "scattergl": [
           {
            "marker": {
             "colorbar": {
              "outlinewidth": 0,
              "ticks": ""
             }
            },
            "type": "scattergl"
           }
          ],
          "scattermapbox": [
           {
            "marker": {
             "colorbar": {
              "outlinewidth": 0,
              "ticks": ""
             }
            },
            "type": "scattermapbox"
           }
          ],
          "scatterpolar": [
           {
            "marker": {
             "colorbar": {
              "outlinewidth": 0,
              "ticks": ""
             }
            },
            "type": "scatterpolar"
           }
          ],
          "scatterpolargl": [
           {
            "marker": {
             "colorbar": {
              "outlinewidth": 0,
              "ticks": ""
             }
            },
            "type": "scatterpolargl"
           }
          ],
          "scatterternary": [
           {
            "marker": {
             "colorbar": {
              "outlinewidth": 0,
              "ticks": ""
             }
            },
            "type": "scatterternary"
           }
          ],
          "surface": [
           {
            "colorbar": {
             "outlinewidth": 0,
             "ticks": ""
            },
            "colorscale": [
             [
              0,
              "#0d0887"
             ],
             [
              0.1111111111111111,
              "#46039f"
             ],
             [
              0.2222222222222222,
              "#7201a8"
             ],
             [
              0.3333333333333333,
              "#9c179e"
             ],
             [
              0.4444444444444444,
              "#bd3786"
             ],
             [
              0.5555555555555556,
              "#d8576b"
             ],
             [
              0.6666666666666666,
              "#ed7953"
             ],
             [
              0.7777777777777778,
              "#fb9f3a"
             ],
             [
              0.8888888888888888,
              "#fdca26"
             ],
             [
              1,
              "#f0f921"
             ]
            ],
            "type": "surface"
           }
          ],
          "table": [
           {
            "cells": {
             "fill": {
              "color": "#EBF0F8"
             },
             "line": {
              "color": "white"
             }
            },
            "header": {
             "fill": {
              "color": "#C8D4E3"
             },
             "line": {
              "color": "white"
             }
            },
            "type": "table"
           }
          ]
         },
         "layout": {
          "annotationdefaults": {
           "arrowcolor": "#2a3f5f",
           "arrowhead": 0,
           "arrowwidth": 1
          },
          "colorscale": {
           "diverging": [
            [
             0,
             "#8e0152"
            ],
            [
             0.1,
             "#c51b7d"
            ],
            [
             0.2,
             "#de77ae"
            ],
            [
             0.3,
             "#f1b6da"
            ],
            [
             0.4,
             "#fde0ef"
            ],
            [
             0.5,
             "#f7f7f7"
            ],
            [
             0.6,
             "#e6f5d0"
            ],
            [
             0.7,
             "#b8e186"
            ],
            [
             0.8,
             "#7fbc41"
            ],
            [
             0.9,
             "#4d9221"
            ],
            [
             1,
             "#276419"
            ]
           ],
           "sequential": [
            [
             0,
             "#0d0887"
            ],
            [
             0.1111111111111111,
             "#46039f"
            ],
            [
             0.2222222222222222,
             "#7201a8"
            ],
            [
             0.3333333333333333,
             "#9c179e"
            ],
            [
             0.4444444444444444,
             "#bd3786"
            ],
            [
             0.5555555555555556,
             "#d8576b"
            ],
            [
             0.6666666666666666,
             "#ed7953"
            ],
            [
             0.7777777777777778,
             "#fb9f3a"
            ],
            [
             0.8888888888888888,
             "#fdca26"
            ],
            [
             1,
             "#f0f921"
            ]
           ],
           "sequentialminus": [
            [
             0,
             "#0d0887"
            ],
            [
             0.1111111111111111,
             "#46039f"
            ],
            [
             0.2222222222222222,
             "#7201a8"
            ],
            [
             0.3333333333333333,
             "#9c179e"
            ],
            [
             0.4444444444444444,
             "#bd3786"
            ],
            [
             0.5555555555555556,
             "#d8576b"
            ],
            [
             0.6666666666666666,
             "#ed7953"
            ],
            [
             0.7777777777777778,
             "#fb9f3a"
            ],
            [
             0.8888888888888888,
             "#fdca26"
            ],
            [
             1,
             "#f0f921"
            ]
           ]
          },
          "colorway": [
           "#636efa",
           "#EF553B",
           "#00cc96",
           "#ab63fa",
           "#FFA15A",
           "#19d3f3",
           "#FF6692",
           "#B6E880",
           "#FF97FF",
           "#FECB52"
          ],
          "font": {
           "color": "#2a3f5f"
          },
          "geo": {
           "bgcolor": "white",
           "lakecolor": "white",
           "landcolor": "#E5ECF6",
           "showlakes": true,
           "showland": true,
           "subunitcolor": "white"
          },
          "hoverlabel": {
           "align": "left"
          },
          "hovermode": "closest",
          "mapbox": {
           "style": "light"
          },
          "paper_bgcolor": "white",
          "plot_bgcolor": "#E5ECF6",
          "polar": {
           "angularaxis": {
            "gridcolor": "white",
            "linecolor": "white",
            "ticks": ""
           },
           "bgcolor": "#E5ECF6",
           "radialaxis": {
            "gridcolor": "white",
            "linecolor": "white",
            "ticks": ""
           }
          },
          "scene": {
           "xaxis": {
            "backgroundcolor": "#E5ECF6",
            "gridcolor": "white",
            "gridwidth": 2,
            "linecolor": "white",
            "showbackground": true,
            "ticks": "",
            "zerolinecolor": "white"
           },
           "yaxis": {
            "backgroundcolor": "#E5ECF6",
            "gridcolor": "white",
            "gridwidth": 2,
            "linecolor": "white",
            "showbackground": true,
            "ticks": "",
            "zerolinecolor": "white"
           },
           "zaxis": {
            "backgroundcolor": "#E5ECF6",
            "gridcolor": "white",
            "gridwidth": 2,
            "linecolor": "white",
            "showbackground": true,
            "ticks": "",
            "zerolinecolor": "white"
           }
          },
          "shapedefaults": {
           "line": {
            "color": "#2a3f5f"
           }
          },
          "ternary": {
           "aaxis": {
            "gridcolor": "white",
            "linecolor": "white",
            "ticks": ""
           },
           "baxis": {
            "gridcolor": "white",
            "linecolor": "white",
            "ticks": ""
           },
           "bgcolor": "#E5ECF6",
           "caxis": {
            "gridcolor": "white",
            "linecolor": "white",
            "ticks": ""
           }
          },
          "title": {
           "x": 0.05
          },
          "xaxis": {
           "automargin": true,
           "gridcolor": "white",
           "linecolor": "white",
           "ticks": "",
           "zerolinecolor": "white",
           "zerolinewidth": 2
          },
          "yaxis": {
           "automargin": true,
           "gridcolor": "white",
           "linecolor": "white",
           "ticks": "",
           "zerolinecolor": "white",
           "zerolinewidth": 2
          }
         }
        }
       }
      },
      "text/html": [
       "<div>\n",
       "        \n",
       "        \n",
       "            <div id=\"9174a5ad-f4af-49d3-b702-d1e7f427bd25\" class=\"plotly-graph-div\" style=\"height:525px; width:100%;\"></div>\n",
       "            <script type=\"text/javascript\">\n",
       "                require([\"plotly\"], function(Plotly) {\n",
       "                    window.PLOTLYENV=window.PLOTLYENV || {};\n",
       "                    \n",
       "                if (document.getElementById(\"9174a5ad-f4af-49d3-b702-d1e7f427bd25\")) {\n",
       "                    Plotly.newPlot(\n",
       "                        '9174a5ad-f4af-49d3-b702-d1e7f427bd25',\n",
       "                        [{\"marker\": {\"color\": \"black\", \"size\": 5}, \"mode\": \"markers\", \"name\": \"Black Nodes (1)\", \"type\": \"scatter\", \"x\": [94.34402572551707], \"y\": [1.084864347850012]}, {\"marker\": {\"color\": \"red\", \"size\": 8}, \"mode\": \"markers\", \"name\": \"Anchor Nodes (10)\", \"type\": \"scatter\", \"x\": [50.45740786243018, 37.38090868696246, 46.22348388431704, 22.708951848477476, 14.448740638747214, 92.96123972459742, 82.89587680524104, 42.80346368784544, 77.22182312828741, 77.9404869602696], \"y\": [78.6956323342661, 58.988447162838895, 67.17190992702834, 52.51566091220619, 56.62305335430256, 50.58438326918127, 60.986944449454015, 68.80045527200691, 53.41915925840388, 73.54651903553035]}, {\"marker\": {\"color\": \"yellow\", \"size\": 5}, \"mode\": \"markers\", \"name\": \"Estimated Nodes (89)\", \"type\": \"scatter\", \"x\": [93.54221925094348, 32.46525503047148, 22.49033225066569, 36.15292095912236, 65.98361737558925, 60.6579540629371, 42.935493588151985, 45.916775850680736, 34.069006404218506, 78.61262211391661, 28.49321398442125, 9.210921022760488, 57.26029280753485, 15.393176714882618, 58.724757962559636, 94.82533998624008, 52.80042391325503, 32.288107584758265, 96.51162492470058, 90.4223776117667, 60.50359729167318, 9.458251034646036, 53.15061133227148, 33.410711199936394, 2.9926407136840583, 90.63205502822633, 27.997847119213315, 74.02378809739639, 1.4880439124536515, 56.30838340047821, 22.50272484808422, 37.00809662162781, 59.30685441005503, 97.39577339375307, 46.54345963368029, 72.17112802704962, 89.36257697592644, 39.98013629883683, 77.84121421594702, 35.30215194298398, 94.60867987076465, 48.419360797614175, 91.68263410076696, 43.40116717081841, 24.859338243663252, 7.510174364895484, 23.464304985502704, 88.51786078566363, 13.476796983087802, 95.35378360361527, 59.606395112219225, 39.267316699025926, 12.782838268639008, 75.23355353068776, 13.645618578630236, 91.80117567895947, 54.893528872822074, 45.88687139758196, 56.15797590367059, 4.674944202154519, 29.759529529886773, 43.4504148275378, 47.95424429480683, 99.13342909762457, 73.99994482912537, 22.842077682942673, 64.40108010403355, 14.517908459076844, 11.282826132033074, 70.37904520439572, 27.958369584168185, 73.35219635694853, 25.751087134320116, 26.02026462194562, 96.63013169605344, 38.13875422041198, 11.41963495597177, 3.2853764345661562, 99.05719214023533, 83.7864336393738, 58.487551805129534, 90.31381765524445, 19.405575345092686, 17.920332137961836, 15.175686773631769, 35.15860578673671, 86.07556595731184, 17.588048361782327, 20.829480095528496], \"y\": [63.17429487819756, 99.4537014834545, 25.19291255030176, 4.7377761683564, 26.289211373546628, 0.30574945559650457, 32.73390465609393, 74.87885412745881, 14.46923732857045, 52.824737529925784, 72.01190201232556, 15.15818175933008, 15.449604553159125, 83.65524330589113, 30.560004273866703, 65.05188625115429, 21.155498669261984, 32.408069199322995, 81.21578935365916, 38.274430140733884, 29.54472896189403, 94.91223803138273, 25.7105648458403, 27.305451932418954, 40.5621854435927, 29.65424483733542, 51.718118432014805, 58.833805367354216, 76.32619597888565, 7.339622738829421, 10.940878829507195, 82.41502062644311, 43.81462813772372, 27.011492162337813, 76.18935665490085, 17.96658497935012, 96.04471460012498, 6.1962564098920865, 50.48003388486993, 47.26833164216243, 88.69828080212055, 7.3542867321658605, 32.8158924772003, 39.214395520210054, 17.73195606905813, 60.399971405281235, 56.843887815982576, 52.75302636457061, 35.61617877122363, 28.381243535731194, 29.348279607276282, 16.15315439989563, 9.06834613640367, 17.827744106314647, 6.899840464352813, 17.419380574121735, 67.58103998752651, 90.85260199654181, 57.998005441951314, 96.80774255797971, 52.623885383182134, 55.111681211938524, 25.984308171574554, 97.59011266735496, 99.48640738972551, 8.915998115990654, 57.305377636464016, 26.030229920752333, 30.75404363199712, 32.893741014138655, 73.59001559990747, 93.60055900967383, 92.63137712503435, 59.82077829414171, 18.370629134457005, 45.890939677697126, 36.55168682054472, 98.60823148080867, 73.00480974582962, 46.258903448157525, 15.304230392491347, 38.335827267696345, 64.8739835674054, 45.40658875808734, 98.44314122708643, 93.21016712252525, 73.82861539854542, 52.01548238174328, 49.32757682911514]}],\n",
       "                        {\"template\": {\"data\": {\"bar\": [{\"error_x\": {\"color\": \"#2a3f5f\"}, \"error_y\": {\"color\": \"#2a3f5f\"}, \"marker\": {\"line\": {\"color\": \"#E5ECF6\", \"width\": 0.5}}, \"type\": \"bar\"}], \"barpolar\": [{\"marker\": {\"line\": {\"color\": \"#E5ECF6\", \"width\": 0.5}}, \"type\": \"barpolar\"}], \"carpet\": [{\"aaxis\": {\"endlinecolor\": \"#2a3f5f\", \"gridcolor\": \"white\", \"linecolor\": \"white\", \"minorgridcolor\": \"white\", \"startlinecolor\": \"#2a3f5f\"}, \"baxis\": {\"endlinecolor\": \"#2a3f5f\", \"gridcolor\": \"white\", \"linecolor\": \"white\", \"minorgridcolor\": \"white\", \"startlinecolor\": \"#2a3f5f\"}, \"type\": \"carpet\"}], \"choropleth\": [{\"colorbar\": {\"outlinewidth\": 0, \"ticks\": \"\"}, \"type\": \"choropleth\"}], \"contour\": [{\"colorbar\": {\"outlinewidth\": 0, \"ticks\": \"\"}, \"colorscale\": [[0.0, \"#0d0887\"], [0.1111111111111111, \"#46039f\"], [0.2222222222222222, \"#7201a8\"], [0.3333333333333333, \"#9c179e\"], [0.4444444444444444, \"#bd3786\"], [0.5555555555555556, \"#d8576b\"], [0.6666666666666666, \"#ed7953\"], [0.7777777777777778, \"#fb9f3a\"], [0.8888888888888888, \"#fdca26\"], [1.0, \"#f0f921\"]], \"type\": \"contour\"}], \"contourcarpet\": [{\"colorbar\": {\"outlinewidth\": 0, \"ticks\": \"\"}, \"type\": \"contourcarpet\"}], \"heatmap\": [{\"colorbar\": {\"outlinewidth\": 0, \"ticks\": \"\"}, \"colorscale\": [[0.0, \"#0d0887\"], [0.1111111111111111, \"#46039f\"], [0.2222222222222222, \"#7201a8\"], [0.3333333333333333, \"#9c179e\"], [0.4444444444444444, \"#bd3786\"], [0.5555555555555556, \"#d8576b\"], [0.6666666666666666, \"#ed7953\"], [0.7777777777777778, \"#fb9f3a\"], [0.8888888888888888, \"#fdca26\"], [1.0, \"#f0f921\"]], \"type\": \"heatmap\"}], \"heatmapgl\": [{\"colorbar\": {\"outlinewidth\": 0, \"ticks\": \"\"}, \"colorscale\": [[0.0, \"#0d0887\"], [0.1111111111111111, \"#46039f\"], [0.2222222222222222, \"#7201a8\"], [0.3333333333333333, \"#9c179e\"], [0.4444444444444444, \"#bd3786\"], [0.5555555555555556, \"#d8576b\"], [0.6666666666666666, \"#ed7953\"], [0.7777777777777778, \"#fb9f3a\"], [0.8888888888888888, \"#fdca26\"], [1.0, \"#f0f921\"]], \"type\": \"heatmapgl\"}], \"histogram\": [{\"marker\": {\"colorbar\": {\"outlinewidth\": 0, \"ticks\": \"\"}}, \"type\": \"histogram\"}], \"histogram2d\": [{\"colorbar\": {\"outlinewidth\": 0, \"ticks\": \"\"}, \"colorscale\": [[0.0, \"#0d0887\"], [0.1111111111111111, \"#46039f\"], [0.2222222222222222, \"#7201a8\"], [0.3333333333333333, \"#9c179e\"], [0.4444444444444444, \"#bd3786\"], [0.5555555555555556, \"#d8576b\"], [0.6666666666666666, \"#ed7953\"], [0.7777777777777778, \"#fb9f3a\"], [0.8888888888888888, \"#fdca26\"], [1.0, \"#f0f921\"]], \"type\": \"histogram2d\"}], \"histogram2dcontour\": [{\"colorbar\": {\"outlinewidth\": 0, \"ticks\": \"\"}, \"colorscale\": [[0.0, \"#0d0887\"], [0.1111111111111111, \"#46039f\"], [0.2222222222222222, \"#7201a8\"], [0.3333333333333333, \"#9c179e\"], [0.4444444444444444, \"#bd3786\"], [0.5555555555555556, \"#d8576b\"], [0.6666666666666666, \"#ed7953\"], [0.7777777777777778, \"#fb9f3a\"], [0.8888888888888888, \"#fdca26\"], [1.0, \"#f0f921\"]], \"type\": \"histogram2dcontour\"}], \"mesh3d\": [{\"colorbar\": {\"outlinewidth\": 0, \"ticks\": \"\"}, \"type\": \"mesh3d\"}], \"parcoords\": [{\"line\": {\"colorbar\": {\"outlinewidth\": 0, \"ticks\": \"\"}}, \"type\": \"parcoords\"}], \"scatter\": [{\"marker\": {\"colorbar\": {\"outlinewidth\": 0, \"ticks\": \"\"}}, \"type\": \"scatter\"}], \"scatter3d\": [{\"line\": {\"colorbar\": {\"outlinewidth\": 0, \"ticks\": \"\"}}, \"marker\": {\"colorbar\": {\"outlinewidth\": 0, \"ticks\": \"\"}}, \"type\": \"scatter3d\"}], \"scattercarpet\": [{\"marker\": {\"colorbar\": {\"outlinewidth\": 0, \"ticks\": \"\"}}, \"type\": \"scattercarpet\"}], \"scattergeo\": [{\"marker\": {\"colorbar\": {\"outlinewidth\": 0, \"ticks\": \"\"}}, \"type\": \"scattergeo\"}], \"scattergl\": [{\"marker\": {\"colorbar\": {\"outlinewidth\": 0, \"ticks\": \"\"}}, \"type\": \"scattergl\"}], \"scattermapbox\": [{\"marker\": {\"colorbar\": {\"outlinewidth\": 0, \"ticks\": \"\"}}, \"type\": \"scattermapbox\"}], \"scatterpolar\": [{\"marker\": {\"colorbar\": {\"outlinewidth\": 0, \"ticks\": \"\"}}, \"type\": \"scatterpolar\"}], \"scatterpolargl\": [{\"marker\": {\"colorbar\": {\"outlinewidth\": 0, \"ticks\": \"\"}}, \"type\": \"scatterpolargl\"}], \"scatterternary\": [{\"marker\": {\"colorbar\": {\"outlinewidth\": 0, \"ticks\": \"\"}}, \"type\": \"scatterternary\"}], \"surface\": [{\"colorbar\": {\"outlinewidth\": 0, \"ticks\": \"\"}, \"colorscale\": [[0.0, \"#0d0887\"], [0.1111111111111111, \"#46039f\"], [0.2222222222222222, \"#7201a8\"], [0.3333333333333333, \"#9c179e\"], [0.4444444444444444, \"#bd3786\"], [0.5555555555555556, \"#d8576b\"], [0.6666666666666666, \"#ed7953\"], [0.7777777777777778, \"#fb9f3a\"], [0.8888888888888888, \"#fdca26\"], [1.0, \"#f0f921\"]], \"type\": \"surface\"}], \"table\": [{\"cells\": {\"fill\": {\"color\": \"#EBF0F8\"}, \"line\": {\"color\": \"white\"}}, \"header\": {\"fill\": {\"color\": \"#C8D4E3\"}, \"line\": {\"color\": \"white\"}}, \"type\": \"table\"}]}, \"layout\": {\"annotationdefaults\": {\"arrowcolor\": \"#2a3f5f\", \"arrowhead\": 0, \"arrowwidth\": 1}, \"colorscale\": {\"diverging\": [[0, \"#8e0152\"], [0.1, \"#c51b7d\"], [0.2, \"#de77ae\"], [0.3, \"#f1b6da\"], [0.4, \"#fde0ef\"], [0.5, \"#f7f7f7\"], [0.6, \"#e6f5d0\"], [0.7, \"#b8e186\"], [0.8, \"#7fbc41\"], [0.9, \"#4d9221\"], [1, \"#276419\"]], \"sequential\": [[0.0, \"#0d0887\"], [0.1111111111111111, \"#46039f\"], [0.2222222222222222, \"#7201a8\"], [0.3333333333333333, \"#9c179e\"], [0.4444444444444444, \"#bd3786\"], [0.5555555555555556, \"#d8576b\"], [0.6666666666666666, \"#ed7953\"], [0.7777777777777778, \"#fb9f3a\"], [0.8888888888888888, \"#fdca26\"], [1.0, \"#f0f921\"]], \"sequentialminus\": [[0.0, \"#0d0887\"], [0.1111111111111111, \"#46039f\"], [0.2222222222222222, \"#7201a8\"], [0.3333333333333333, \"#9c179e\"], [0.4444444444444444, \"#bd3786\"], [0.5555555555555556, \"#d8576b\"], [0.6666666666666666, \"#ed7953\"], [0.7777777777777778, \"#fb9f3a\"], [0.8888888888888888, \"#fdca26\"], [1.0, \"#f0f921\"]]}, \"colorway\": [\"#636efa\", \"#EF553B\", \"#00cc96\", \"#ab63fa\", \"#FFA15A\", \"#19d3f3\", \"#FF6692\", \"#B6E880\", \"#FF97FF\", \"#FECB52\"], \"font\": {\"color\": \"#2a3f5f\"}, \"geo\": {\"bgcolor\": \"white\", \"lakecolor\": \"white\", \"landcolor\": \"#E5ECF6\", \"showlakes\": true, \"showland\": true, \"subunitcolor\": \"white\"}, \"hoverlabel\": {\"align\": \"left\"}, \"hovermode\": \"closest\", \"mapbox\": {\"style\": \"light\"}, \"paper_bgcolor\": \"white\", \"plot_bgcolor\": \"#E5ECF6\", \"polar\": {\"angularaxis\": {\"gridcolor\": \"white\", \"linecolor\": \"white\", \"ticks\": \"\"}, \"bgcolor\": \"#E5ECF6\", \"radialaxis\": {\"gridcolor\": \"white\", \"linecolor\": \"white\", \"ticks\": \"\"}}, \"scene\": {\"xaxis\": {\"backgroundcolor\": \"#E5ECF6\", \"gridcolor\": \"white\", \"gridwidth\": 2, \"linecolor\": \"white\", \"showbackground\": true, \"ticks\": \"\", \"zerolinecolor\": \"white\"}, \"yaxis\": {\"backgroundcolor\": \"#E5ECF6\", \"gridcolor\": \"white\", \"gridwidth\": 2, \"linecolor\": \"white\", \"showbackground\": true, \"ticks\": \"\", \"zerolinecolor\": \"white\"}, \"zaxis\": {\"backgroundcolor\": \"#E5ECF6\", \"gridcolor\": \"white\", \"gridwidth\": 2, \"linecolor\": \"white\", \"showbackground\": true, \"ticks\": \"\", \"zerolinecolor\": \"white\"}}, \"shapedefaults\": {\"line\": {\"color\": \"#2a3f5f\"}}, \"ternary\": {\"aaxis\": {\"gridcolor\": \"white\", \"linecolor\": \"white\", \"ticks\": \"\"}, \"baxis\": {\"gridcolor\": \"white\", \"linecolor\": \"white\", \"ticks\": \"\"}, \"bgcolor\": \"#E5ECF6\", \"caxis\": {\"gridcolor\": \"white\", \"linecolor\": \"white\", \"ticks\": \"\"}}, \"title\": {\"x\": 0.05}, \"xaxis\": {\"automargin\": true, \"gridcolor\": \"white\", \"linecolor\": \"white\", \"ticks\": \"\", \"zerolinecolor\": \"white\", \"zerolinewidth\": 2}, \"yaxis\": {\"automargin\": true, \"gridcolor\": \"white\", \"linecolor\": \"white\", \"ticks\": \"\", \"zerolinecolor\": \"white\", \"zerolinewidth\": 2}}}},\n",
       "                        {\"responsive\": true}\n",
       "                    ).then(function(){\n",
       "                            \n",
       "var gd = document.getElementById('9174a5ad-f4af-49d3-b702-d1e7f427bd25');\n",
       "var x = new MutationObserver(function (mutations, observer) {{\n",
       "        var display = window.getComputedStyle(gd).display;\n",
       "        if (!display || display === 'none') {{\n",
       "            console.log([gd, 'removed!']);\n",
       "            Plotly.purge(gd);\n",
       "            observer.disconnect();\n",
       "        }}\n",
       "}});\n",
       "\n",
       "// Listen for the removal of the full notebook cells\n",
       "var notebookContainer = gd.closest('#notebook-container');\n",
       "if (notebookContainer) {{\n",
       "    x.observe(notebookContainer, {childList: true});\n",
       "}}\n",
       "\n",
       "// Listen for the clearing of the current output cell\n",
       "var outputEl = gd.closest('.output');\n",
       "if (outputEl) {{\n",
       "    x.observe(outputEl, {childList: true});\n",
       "}}\n",
       "\n",
       "                        })\n",
       "                };\n",
       "                });\n",
       "            </script>\n",
       "        </div>"
      ]
     },
     "metadata": {},
     "output_type": "display_data"
    }
   ],
   "source": [
    "plot2(black_nodes, anchor_nodes, estimated_nodes, cycles)"
   ]
  },
  {
   "cell_type": "code",
   "execution_count": 75,
   "metadata": {
    "ExecuteTime": {
     "end_time": "2019-12-26T10:34:53.030355Z",
     "start_time": "2019-12-26T10:34:52.791958Z"
    }
   },
   "outputs": [
    {
     "data": {
      "application/vnd.plotly.v1+json": {
       "config": {
        "linkText": "Export to plot.ly",
        "plotlyServerURL": "https://plot.ly",
        "showLink": false
       },
       "data": [
        {
         "marker": {
          "color": "red",
          "size": 5
         },
         "mode": "markers",
         "name": "Correct Location",
         "type": "scatter",
         "x": [
          73.41277143983821,
          21.511040788132775,
          78.61513471577314,
          42.7855034415329,
          54.410453626095304,
          11.266022654545083,
          78.04797650149797,
          0.9693869005016342,
          35.874973982826994,
          23.462879991398033,
          98.6135796058994,
          67.28966417208999,
          45.56135005204966,
          27.061375998005577,
          91.15863477310684,
          5.4198875942836455,
          9.698632047120492,
          45.62644771721514,
          40.75646065576799,
          37.24086455284687,
          81.80486627938598,
          30.946267121927672,
          98.01581444491305,
          5.143848400979312,
          21.010214535397086,
          97.32676454941094,
          50.82400320334111,
          86.27542653404178,
          10.51984710938635,
          18.826123850715447,
          42.56317464034719,
          52.589057447192246,
          52.24784191068053,
          38.71007034614993,
          0.5286687761940412,
          13.62855959973448,
          64.59764664586504,
          46.21513605853475,
          92.36399079235808,
          0.10743575771166025,
          16.149168695107406,
          29.420742124185693,
          11.308020208610959,
          62.83891359132365,
          46.62319787269011,
          79.22751559721137,
          35.62557894449522,
          42.113134679992534,
          34.68131252757048,
          39.97287917207607,
          88.42389048617727,
          7.769865602965586,
          63.329883630377935,
          23.424216156001986,
          5.059968952633698,
          32.683968492250834,
          40.397743065485024,
          66.89180959412285,
          93.19588323095086,
          41.869396308094295,
          82.39720918937465,
          83.1473166110041,
          37.34085418912709,
          64.13089976149945,
          65.09006687136886,
          87.37710806431517,
          98.62212351818941,
          26.55596892887283,
          65.66341221909265,
          83.26207316105383,
          11.612373151537692,
          48.63890014618022,
          50.056443566754524,
          56.32509443048127,
          10.960259082197666,
          5.916913717976346,
          21.515866550906182,
          92.5252944841643,
          99.52918798587204,
          93.51495966492368,
          91.27801067977094,
          0.022431072136785968,
          90.96184021492924,
          24.356939755830453,
          64.7963186626539,
          77.27485116015711,
          86.39042830226289,
          17.120637768142586,
          20.156289701008014,
          75.60229947704312
         ],
         "y": [
          57.52690036732706,
          70.12199372562566,
          9.195223830094735,
          28.554880982641507,
          86.44831398803225,
          5.148256013601005,
          1.118495986385959,
          56.7800745361291,
          59.36957627453396,
          64.82614611560261,
          20.53920317438722,
          78.1437847835718,
          33.8397114493695,
          82.80491774134491,
          78.26054387516545,
          90.73868628150726,
          83.45276705465515,
          91.44786768150307,
          24.58537728089315,
          75.78662749496694,
          65.14385790145766,
          8.013571897432614,
          40.151413821406955,
          12.469179972423062,
          79.80212377428334,
          94.91930820343909,
          55.86965438981254,
          89.6964234330075,
          75.37071523013327,
          58.69566632020427,
          83.33610773558068,
          32.239804126991835,
          20.35953063682693,
          11.2230087074221,
          83.04513780703499,
          17.10186284740518,
          64.60097163890806,
          67.45182693538409,
          27.71108062454285,
          97.74362383133169,
          33.48007774204369,
          48.69419039004048,
          70.23799012383107,
          66.11114244961277,
          88.97518649803104,
          72.7966780167168,
          46.19346653312647,
          56.086559457411376,
          31.155363971802263,
          76.3073723017339,
          67.11986509585259,
          65.32386147900749,
          67.47431380884724,
          74.2068358637859,
          33.70499506660255,
          89.6446803043005,
          80.2316449111521,
          11.047070108275935,
          12.601170650734794,
          24.39160172769581,
          48.21191967510296,
          25.6417540354296,
          39.40834335865142,
          34.46625313083732,
          42.085421036946904,
          45.472601033041094,
          67.23384665825664,
          45.3027126414267,
          54.94175588966994,
          10.90622834893229,
          67.77055461258897,
          1.31023242444257,
          74.20041070753214,
          89.40677934355577,
          46.904822397430536,
          14.330591164498863,
          6.842189042042035,
          54.5636403547186,
          25.622307079297236,
          44.66141755775828,
          98.56493014292805,
          49.63323169045323,
          93.20509243563747,
          49.73263977278527,
          58.39129764726674,
          14.72693700380926,
          65.40262507583915,
          98.72131181646682,
          58.43353770410605,
          91.71796535364253
         ]
        },
        {
         "marker": {
          "color": "blue",
          "size": 5
         },
         "mode": "markers",
         "name": "Estimated Node",
         "type": "scatter",
         "x": [
          74.39303881542057,
          19.374080997788166,
          78.45828857324851,
          41.939686540132605,
          54.06363871739641,
          9.578777734860312,
          76.99698684513662,
          -1.1526549798920165,
          35.32619777771686,
          21.012681012546675,
          97.3802059489213,
          66.1834561200986,
          45.28864000548844,
          26.864712982861082,
          92.62099516035558,
          3.222628076826954,
          11.682608678330064,
          46.2432370661729,
          40.54829400874001,
          37.744619642314056,
          81.79918449572729,
          26.250726359334035,
          96.48735485410118,
          3.1221859672079915,
          30.02461724611832,
          96.4041669479057,
          52.673654920334535,
          87.50957202805846,
          9.418038097594765,
          18.480050876185896,
          39.02325501143522,
          53.44139621470716,
          52.069835938573185,
          39.58063893662317,
          1.65928470491213,
          15.269666915785848,
          61.927954535769494,
          48.032879507436405,
          92.20040473795086,
          0.6366073871844341,
          13.661439053485553,
          32.10094949364763,
          10.25460165734456,
          62.656884891126936,
          47.052843360438146,
          77.1978987301285,
          30.15404748833559,
          43.56262434669594,
          35.2199278955709,
          39.3853106990976,
          87.518404468372,
          9.211642563278238,
          63.270363822976925,
          25.152088194270693,
          3.7589624308875735,
          32.56532375293061,
          39.509820427132944,
          64.97627072282059,
          94.31524434369972,
          41.73386386532278,
          87.76281075803665,
          81.1337689833871,
          35.25362655933854,
          62.82450473195437,
          66.6161935608216,
          84.79820492847894,
          99.98236470866023,
          26.00981432754342,
          64.37544095954378,
          81.6226325048309,
          10.82426554344874,
          50.65886766171409,
          50.62167402844125,
          57.18308580136975,
          12.822112988897691,
          6.914571918661989,
          22.855034985559286,
          91.11821403895465,
          97.73944070914119,
          94.09045372006705,
          89.5867263801224,
          1.5425856400959084,
          92.00904782773476,
          24.866696894273854,
          67.44201116575182,
          77.24475829711093,
          85.26678435613333,
          17.038802794109916,
          21.763426663168104,
          77.12960448263387
         ],
         "y": [
          57.410236077380034,
          71.35485792074483,
          9.92305122872194,
          27.559833212844236,
          86.8328583722431,
          4.653820683993456,
          0.20298756548955646,
          56.791684921015275,
          60.37669988377797,
          65.33457554087822,
          21.482726853993956,
          77.26183053319745,
          33.230014067340235,
          82.57698540771493,
          78.96690091969187,
          91.68118127138611,
          84.94560663095479,
          90.75418982503827,
          24.014417731832697,
          77.95514315432882,
          65.70186554683589,
          14.83351065972211,
          39.286713591937975,
          11.772667637227793,
          76.02407799294717,
          94.97892198714449,
          57.3766226239725,
          91.36645761695455,
          74.60395497796985,
          58.26002707402711,
          85.48265024112045,
          32.38190191031802,
          19.008327960251993,
          9.346186461443123,
          83.36504441175944,
          16.764582333313278,
          64.78165182832957,
          68.21751697509193,
          28.005017767004997,
          99.45440500853043,
          34.49561800425125,
          48.31225118037474,
          69.64844866797763,
          66.50177422134176,
          89.65698240885821,
          72.69655187134398,
          41.441678052162615,
          54.624117660811926,
          33.49585515022858,
          76.94221511317859,
          67.51964820444246,
          64.31309537940109,
          67.68076248435146,
          78.33054567034507,
          33.68431403349811,
          92.24901241098132,
          80.82716984950203,
          11.803957423151695,
          10.775955465198905,
          24.86970814409321,
          49.57108325374161,
          26.45470268156687,
          39.338077172653705,
          34.49447067243781,
          42.57368340233774,
          43.733969817319945,
          68.66928529983267,
          45.022857747170185,
          55.921016600964485,
          12.451703207271747,
          68.190220243976,
          0.7247966413171673,
          73.09429042002485,
          88.41483521631237,
          48.14797229453916,
          13.513003188222319,
          10.311181306530562,
          54.533411683925124,
          24.889338924685834,
          43.658267297776455,
          97.66485317443522,
          49.6667398335233,
          93.35816472278509,
          49.38292126137884,
          58.47302206045352,
          15.586197484234766,
          64.2595042682539,
          96.38217319890778,
          57.87244883991499,
          93.88878430660786
         ]
        }
       ],
       "layout": {
        "template": {
         "data": {
          "bar": [
           {
            "error_x": {
             "color": "#2a3f5f"
            },
            "error_y": {
             "color": "#2a3f5f"
            },
            "marker": {
             "line": {
              "color": "#E5ECF6",
              "width": 0.5
             }
            },
            "type": "bar"
           }
          ],
          "barpolar": [
           {
            "marker": {
             "line": {
              "color": "#E5ECF6",
              "width": 0.5
             }
            },
            "type": "barpolar"
           }
          ],
          "carpet": [
           {
            "aaxis": {
             "endlinecolor": "#2a3f5f",
             "gridcolor": "white",
             "linecolor": "white",
             "minorgridcolor": "white",
             "startlinecolor": "#2a3f5f"
            },
            "baxis": {
             "endlinecolor": "#2a3f5f",
             "gridcolor": "white",
             "linecolor": "white",
             "minorgridcolor": "white",
             "startlinecolor": "#2a3f5f"
            },
            "type": "carpet"
           }
          ],
          "choropleth": [
           {
            "colorbar": {
             "outlinewidth": 0,
             "ticks": ""
            },
            "type": "choropleth"
           }
          ],
          "contour": [
           {
            "colorbar": {
             "outlinewidth": 0,
             "ticks": ""
            },
            "colorscale": [
             [
              0,
              "#0d0887"
             ],
             [
              0.1111111111111111,
              "#46039f"
             ],
             [
              0.2222222222222222,
              "#7201a8"
             ],
             [
              0.3333333333333333,
              "#9c179e"
             ],
             [
              0.4444444444444444,
              "#bd3786"
             ],
             [
              0.5555555555555556,
              "#d8576b"
             ],
             [
              0.6666666666666666,
              "#ed7953"
             ],
             [
              0.7777777777777778,
              "#fb9f3a"
             ],
             [
              0.8888888888888888,
              "#fdca26"
             ],
             [
              1,
              "#f0f921"
             ]
            ],
            "type": "contour"
           }
          ],
          "contourcarpet": [
           {
            "colorbar": {
             "outlinewidth": 0,
             "ticks": ""
            },
            "type": "contourcarpet"
           }
          ],
          "heatmap": [
           {
            "colorbar": {
             "outlinewidth": 0,
             "ticks": ""
            },
            "colorscale": [
             [
              0,
              "#0d0887"
             ],
             [
              0.1111111111111111,
              "#46039f"
             ],
             [
              0.2222222222222222,
              "#7201a8"
             ],
             [
              0.3333333333333333,
              "#9c179e"
             ],
             [
              0.4444444444444444,
              "#bd3786"
             ],
             [
              0.5555555555555556,
              "#d8576b"
             ],
             [
              0.6666666666666666,
              "#ed7953"
             ],
             [
              0.7777777777777778,
              "#fb9f3a"
             ],
             [
              0.8888888888888888,
              "#fdca26"
             ],
             [
              1,
              "#f0f921"
             ]
            ],
            "type": "heatmap"
           }
          ],
          "heatmapgl": [
           {
            "colorbar": {
             "outlinewidth": 0,
             "ticks": ""
            },
            "colorscale": [
             [
              0,
              "#0d0887"
             ],
             [
              0.1111111111111111,
              "#46039f"
             ],
             [
              0.2222222222222222,
              "#7201a8"
             ],
             [
              0.3333333333333333,
              "#9c179e"
             ],
             [
              0.4444444444444444,
              "#bd3786"
             ],
             [
              0.5555555555555556,
              "#d8576b"
             ],
             [
              0.6666666666666666,
              "#ed7953"
             ],
             [
              0.7777777777777778,
              "#fb9f3a"
             ],
             [
              0.8888888888888888,
              "#fdca26"
             ],
             [
              1,
              "#f0f921"
             ]
            ],
            "type": "heatmapgl"
           }
          ],
          "histogram": [
           {
            "marker": {
             "colorbar": {
              "outlinewidth": 0,
              "ticks": ""
             }
            },
            "type": "histogram"
           }
          ],
          "histogram2d": [
           {
            "colorbar": {
             "outlinewidth": 0,
             "ticks": ""
            },
            "colorscale": [
             [
              0,
              "#0d0887"
             ],
             [
              0.1111111111111111,
              "#46039f"
             ],
             [
              0.2222222222222222,
              "#7201a8"
             ],
             [
              0.3333333333333333,
              "#9c179e"
             ],
             [
              0.4444444444444444,
              "#bd3786"
             ],
             [
              0.5555555555555556,
              "#d8576b"
             ],
             [
              0.6666666666666666,
              "#ed7953"
             ],
             [
              0.7777777777777778,
              "#fb9f3a"
             ],
             [
              0.8888888888888888,
              "#fdca26"
             ],
             [
              1,
              "#f0f921"
             ]
            ],
            "type": "histogram2d"
           }
          ],
          "histogram2dcontour": [
           {
            "colorbar": {
             "outlinewidth": 0,
             "ticks": ""
            },
            "colorscale": [
             [
              0,
              "#0d0887"
             ],
             [
              0.1111111111111111,
              "#46039f"
             ],
             [
              0.2222222222222222,
              "#7201a8"
             ],
             [
              0.3333333333333333,
              "#9c179e"
             ],
             [
              0.4444444444444444,
              "#bd3786"
             ],
             [
              0.5555555555555556,
              "#d8576b"
             ],
             [
              0.6666666666666666,
              "#ed7953"
             ],
             [
              0.7777777777777778,
              "#fb9f3a"
             ],
             [
              0.8888888888888888,
              "#fdca26"
             ],
             [
              1,
              "#f0f921"
             ]
            ],
            "type": "histogram2dcontour"
           }
          ],
          "mesh3d": [
           {
            "colorbar": {
             "outlinewidth": 0,
             "ticks": ""
            },
            "type": "mesh3d"
           }
          ],
          "parcoords": [
           {
            "line": {
             "colorbar": {
              "outlinewidth": 0,
              "ticks": ""
             }
            },
            "type": "parcoords"
           }
          ],
          "scatter": [
           {
            "marker": {
             "colorbar": {
              "outlinewidth": 0,
              "ticks": ""
             }
            },
            "type": "scatter"
           }
          ],
          "scatter3d": [
           {
            "line": {
             "colorbar": {
              "outlinewidth": 0,
              "ticks": ""
             }
            },
            "marker": {
             "colorbar": {
              "outlinewidth": 0,
              "ticks": ""
             }
            },
            "type": "scatter3d"
           }
          ],
          "scattercarpet": [
           {
            "marker": {
             "colorbar": {
              "outlinewidth": 0,
              "ticks": ""
             }
            },
            "type": "scattercarpet"
           }
          ],
          "scattergeo": [
           {
            "marker": {
             "colorbar": {
              "outlinewidth": 0,
              "ticks": ""
             }
            },
            "type": "scattergeo"
           }
          ],
          "scattergl": [
           {
            "marker": {
             "colorbar": {
              "outlinewidth": 0,
              "ticks": ""
             }
            },
            "type": "scattergl"
           }
          ],
          "scattermapbox": [
           {
            "marker": {
             "colorbar": {
              "outlinewidth": 0,
              "ticks": ""
             }
            },
            "type": "scattermapbox"
           }
          ],
          "scatterpolar": [
           {
            "marker": {
             "colorbar": {
              "outlinewidth": 0,
              "ticks": ""
             }
            },
            "type": "scatterpolar"
           }
          ],
          "scatterpolargl": [
           {
            "marker": {
             "colorbar": {
              "outlinewidth": 0,
              "ticks": ""
             }
            },
            "type": "scatterpolargl"
           }
          ],
          "scatterternary": [
           {
            "marker": {
             "colorbar": {
              "outlinewidth": 0,
              "ticks": ""
             }
            },
            "type": "scatterternary"
           }
          ],
          "surface": [
           {
            "colorbar": {
             "outlinewidth": 0,
             "ticks": ""
            },
            "colorscale": [
             [
              0,
              "#0d0887"
             ],
             [
              0.1111111111111111,
              "#46039f"
             ],
             [
              0.2222222222222222,
              "#7201a8"
             ],
             [
              0.3333333333333333,
              "#9c179e"
             ],
             [
              0.4444444444444444,
              "#bd3786"
             ],
             [
              0.5555555555555556,
              "#d8576b"
             ],
             [
              0.6666666666666666,
              "#ed7953"
             ],
             [
              0.7777777777777778,
              "#fb9f3a"
             ],
             [
              0.8888888888888888,
              "#fdca26"
             ],
             [
              1,
              "#f0f921"
             ]
            ],
            "type": "surface"
           }
          ],
          "table": [
           {
            "cells": {
             "fill": {
              "color": "#EBF0F8"
             },
             "line": {
              "color": "white"
             }
            },
            "header": {
             "fill": {
              "color": "#C8D4E3"
             },
             "line": {
              "color": "white"
             }
            },
            "type": "table"
           }
          ]
         },
         "layout": {
          "annotationdefaults": {
           "arrowcolor": "#2a3f5f",
           "arrowhead": 0,
           "arrowwidth": 1
          },
          "colorscale": {
           "diverging": [
            [
             0,
             "#8e0152"
            ],
            [
             0.1,
             "#c51b7d"
            ],
            [
             0.2,
             "#de77ae"
            ],
            [
             0.3,
             "#f1b6da"
            ],
            [
             0.4,
             "#fde0ef"
            ],
            [
             0.5,
             "#f7f7f7"
            ],
            [
             0.6,
             "#e6f5d0"
            ],
            [
             0.7,
             "#b8e186"
            ],
            [
             0.8,
             "#7fbc41"
            ],
            [
             0.9,
             "#4d9221"
            ],
            [
             1,
             "#276419"
            ]
           ],
           "sequential": [
            [
             0,
             "#0d0887"
            ],
            [
             0.1111111111111111,
             "#46039f"
            ],
            [
             0.2222222222222222,
             "#7201a8"
            ],
            [
             0.3333333333333333,
             "#9c179e"
            ],
            [
             0.4444444444444444,
             "#bd3786"
            ],
            [
             0.5555555555555556,
             "#d8576b"
            ],
            [
             0.6666666666666666,
             "#ed7953"
            ],
            [
             0.7777777777777778,
             "#fb9f3a"
            ],
            [
             0.8888888888888888,
             "#fdca26"
            ],
            [
             1,
             "#f0f921"
            ]
           ],
           "sequentialminus": [
            [
             0,
             "#0d0887"
            ],
            [
             0.1111111111111111,
             "#46039f"
            ],
            [
             0.2222222222222222,
             "#7201a8"
            ],
            [
             0.3333333333333333,
             "#9c179e"
            ],
            [
             0.4444444444444444,
             "#bd3786"
            ],
            [
             0.5555555555555556,
             "#d8576b"
            ],
            [
             0.6666666666666666,
             "#ed7953"
            ],
            [
             0.7777777777777778,
             "#fb9f3a"
            ],
            [
             0.8888888888888888,
             "#fdca26"
            ],
            [
             1,
             "#f0f921"
            ]
           ]
          },
          "colorway": [
           "#636efa",
           "#EF553B",
           "#00cc96",
           "#ab63fa",
           "#FFA15A",
           "#19d3f3",
           "#FF6692",
           "#B6E880",
           "#FF97FF",
           "#FECB52"
          ],
          "font": {
           "color": "#2a3f5f"
          },
          "geo": {
           "bgcolor": "white",
           "lakecolor": "white",
           "landcolor": "#E5ECF6",
           "showlakes": true,
           "showland": true,
           "subunitcolor": "white"
          },
          "hoverlabel": {
           "align": "left"
          },
          "hovermode": "closest",
          "mapbox": {
           "style": "light"
          },
          "paper_bgcolor": "white",
          "plot_bgcolor": "#E5ECF6",
          "polar": {
           "angularaxis": {
            "gridcolor": "white",
            "linecolor": "white",
            "ticks": ""
           },
           "bgcolor": "#E5ECF6",
           "radialaxis": {
            "gridcolor": "white",
            "linecolor": "white",
            "ticks": ""
           }
          },
          "scene": {
           "xaxis": {
            "backgroundcolor": "#E5ECF6",
            "gridcolor": "white",
            "gridwidth": 2,
            "linecolor": "white",
            "showbackground": true,
            "ticks": "",
            "zerolinecolor": "white"
           },
           "yaxis": {
            "backgroundcolor": "#E5ECF6",
            "gridcolor": "white",
            "gridwidth": 2,
            "linecolor": "white",
            "showbackground": true,
            "ticks": "",
            "zerolinecolor": "white"
           },
           "zaxis": {
            "backgroundcolor": "#E5ECF6",
            "gridcolor": "white",
            "gridwidth": 2,
            "linecolor": "white",
            "showbackground": true,
            "ticks": "",
            "zerolinecolor": "white"
           }
          },
          "shapedefaults": {
           "line": {
            "color": "#2a3f5f"
           }
          },
          "ternary": {
           "aaxis": {
            "gridcolor": "white",
            "linecolor": "white",
            "ticks": ""
           },
           "baxis": {
            "gridcolor": "white",
            "linecolor": "white",
            "ticks": ""
           },
           "bgcolor": "#E5ECF6",
           "caxis": {
            "gridcolor": "white",
            "linecolor": "white",
            "ticks": ""
           }
          },
          "title": {
           "x": 0.05
          },
          "xaxis": {
           "automargin": true,
           "gridcolor": "white",
           "linecolor": "white",
           "ticks": "",
           "zerolinecolor": "white",
           "zerolinewidth": 2
          },
          "yaxis": {
           "automargin": true,
           "gridcolor": "white",
           "linecolor": "white",
           "ticks": "",
           "zerolinecolor": "white",
           "zerolinewidth": 2
          }
         }
        }
       }
      },
      "text/html": [
       "<div>\n",
       "        \n",
       "        \n",
       "            <div id=\"1e456452-892f-42b7-9507-95cedc3ef8ca\" class=\"plotly-graph-div\" style=\"height:525px; width:100%;\"></div>\n",
       "            <script type=\"text/javascript\">\n",
       "                require([\"plotly\"], function(Plotly) {\n",
       "                    window.PLOTLYENV=window.PLOTLYENV || {};\n",
       "                    \n",
       "                if (document.getElementById(\"1e456452-892f-42b7-9507-95cedc3ef8ca\")) {\n",
       "                    Plotly.newPlot(\n",
       "                        '1e456452-892f-42b7-9507-95cedc3ef8ca',\n",
       "                        [{\"marker\": {\"color\": \"red\", \"size\": 5}, \"mode\": \"markers\", \"name\": \"Correct Location\", \"type\": \"scatter\", \"x\": [73.41277143983821, 21.511040788132775, 78.61513471577314, 42.7855034415329, 54.410453626095304, 11.266022654545083, 78.04797650149797, 0.9693869005016342, 35.874973982826994, 23.462879991398033, 98.6135796058994, 67.28966417208999, 45.56135005204966, 27.061375998005577, 91.15863477310684, 5.4198875942836455, 9.698632047120492, 45.62644771721514, 40.75646065576799, 37.24086455284687, 81.80486627938598, 30.946267121927672, 98.01581444491305, 5.143848400979312, 21.010214535397086, 97.32676454941094, 50.82400320334111, 86.27542653404178, 10.51984710938635, 18.826123850715447, 42.56317464034719, 52.589057447192246, 52.24784191068053, 38.71007034614993, 0.5286687761940412, 13.62855959973448, 64.59764664586504, 46.21513605853475, 92.36399079235808, 0.10743575771166025, 16.149168695107406, 29.420742124185693, 11.308020208610959, 62.83891359132365, 46.62319787269011, 79.22751559721137, 35.62557894449522, 42.113134679992534, 34.68131252757048, 39.97287917207607, 88.42389048617727, 7.769865602965586, 63.329883630377935, 23.424216156001986, 5.059968952633698, 32.683968492250834, 40.397743065485024, 66.89180959412285, 93.19588323095086, 41.869396308094295, 82.39720918937465, 83.1473166110041, 37.34085418912709, 64.13089976149945, 65.09006687136886, 87.37710806431517, 98.62212351818941, 26.55596892887283, 65.66341221909265, 83.26207316105383, 11.612373151537692, 48.63890014618022, 50.056443566754524, 56.32509443048127, 10.960259082197666, 5.916913717976346, 21.515866550906182, 92.5252944841643, 99.52918798587204, 93.51495966492368, 91.27801067977094, 0.022431072136785968, 90.96184021492924, 24.356939755830453, 64.7963186626539, 77.27485116015711, 86.39042830226289, 17.120637768142586, 20.156289701008014, 75.60229947704312], \"y\": [57.52690036732706, 70.12199372562566, 9.195223830094735, 28.554880982641507, 86.44831398803225, 5.148256013601005, 1.118495986385959, 56.7800745361291, 59.36957627453396, 64.82614611560261, 20.53920317438722, 78.1437847835718, 33.8397114493695, 82.80491774134491, 78.26054387516545, 90.73868628150726, 83.45276705465515, 91.44786768150307, 24.58537728089315, 75.78662749496694, 65.14385790145766, 8.013571897432614, 40.151413821406955, 12.469179972423062, 79.80212377428334, 94.91930820343909, 55.86965438981254, 89.6964234330075, 75.37071523013327, 58.69566632020427, 83.33610773558068, 32.239804126991835, 20.35953063682693, 11.2230087074221, 83.04513780703499, 17.10186284740518, 64.60097163890806, 67.45182693538409, 27.71108062454285, 97.74362383133169, 33.48007774204369, 48.69419039004048, 70.23799012383107, 66.11114244961277, 88.97518649803104, 72.7966780167168, 46.19346653312647, 56.086559457411376, 31.155363971802263, 76.3073723017339, 67.11986509585259, 65.32386147900749, 67.47431380884724, 74.2068358637859, 33.70499506660255, 89.6446803043005, 80.2316449111521, 11.047070108275935, 12.601170650734794, 24.39160172769581, 48.21191967510296, 25.6417540354296, 39.40834335865142, 34.46625313083732, 42.085421036946904, 45.472601033041094, 67.23384665825664, 45.3027126414267, 54.94175588966994, 10.90622834893229, 67.77055461258897, 1.31023242444257, 74.20041070753214, 89.40677934355577, 46.904822397430536, 14.330591164498863, 6.842189042042035, 54.5636403547186, 25.622307079297236, 44.66141755775828, 98.56493014292805, 49.63323169045323, 93.20509243563747, 49.73263977278527, 58.39129764726674, 14.72693700380926, 65.40262507583915, 98.72131181646682, 58.43353770410605, 91.71796535364253]}, {\"marker\": {\"color\": \"blue\", \"size\": 5}, \"mode\": \"markers\", \"name\": \"Estimated Node\", \"type\": \"scatter\", \"x\": [74.39303881542057, 19.374080997788166, 78.45828857324851, 41.939686540132605, 54.06363871739641, 9.578777734860312, 76.99698684513662, -1.1526549798920165, 35.32619777771686, 21.012681012546675, 97.3802059489213, 66.1834561200986, 45.28864000548844, 26.864712982861082, 92.62099516035558, 3.222628076826954, 11.682608678330064, 46.2432370661729, 40.54829400874001, 37.744619642314056, 81.79918449572729, 26.250726359334035, 96.48735485410118, 3.1221859672079915, 30.02461724611832, 96.4041669479057, 52.673654920334535, 87.50957202805846, 9.418038097594765, 18.480050876185896, 39.02325501143522, 53.44139621470716, 52.069835938573185, 39.58063893662317, 1.65928470491213, 15.269666915785848, 61.927954535769494, 48.032879507436405, 92.20040473795086, 0.6366073871844341, 13.661439053485553, 32.10094949364763, 10.25460165734456, 62.656884891126936, 47.052843360438146, 77.1978987301285, 30.15404748833559, 43.56262434669594, 35.2199278955709, 39.3853106990976, 87.518404468372, 9.211642563278238, 63.270363822976925, 25.152088194270693, 3.7589624308875735, 32.56532375293061, 39.509820427132944, 64.97627072282059, 94.31524434369972, 41.73386386532278, 87.76281075803665, 81.1337689833871, 35.25362655933854, 62.82450473195437, 66.6161935608216, 84.79820492847894, 99.98236470866023, 26.00981432754342, 64.37544095954378, 81.6226325048309, 10.82426554344874, 50.65886766171409, 50.62167402844125, 57.18308580136975, 12.822112988897691, 6.914571918661989, 22.855034985559286, 91.11821403895465, 97.73944070914119, 94.09045372006705, 89.5867263801224, 1.5425856400959084, 92.00904782773476, 24.866696894273854, 67.44201116575182, 77.24475829711093, 85.26678435613333, 17.038802794109916, 21.763426663168104, 77.12960448263387], \"y\": [57.410236077380034, 71.35485792074483, 9.92305122872194, 27.559833212844236, 86.8328583722431, 4.653820683993456, 0.20298756548955646, 56.791684921015275, 60.37669988377797, 65.33457554087822, 21.482726853993956, 77.26183053319745, 33.230014067340235, 82.57698540771493, 78.96690091969187, 91.68118127138611, 84.94560663095479, 90.75418982503827, 24.014417731832697, 77.95514315432882, 65.70186554683589, 14.83351065972211, 39.286713591937975, 11.772667637227793, 76.02407799294717, 94.97892198714449, 57.3766226239725, 91.36645761695455, 74.60395497796985, 58.26002707402711, 85.48265024112045, 32.38190191031802, 19.008327960251993, 9.346186461443123, 83.36504441175944, 16.764582333313278, 64.78165182832957, 68.21751697509193, 28.005017767004997, 99.45440500853043, 34.49561800425125, 48.31225118037474, 69.64844866797763, 66.50177422134176, 89.65698240885821, 72.69655187134398, 41.441678052162615, 54.624117660811926, 33.49585515022858, 76.94221511317859, 67.51964820444246, 64.31309537940109, 67.68076248435146, 78.33054567034507, 33.68431403349811, 92.24901241098132, 80.82716984950203, 11.803957423151695, 10.775955465198905, 24.86970814409321, 49.57108325374161, 26.45470268156687, 39.338077172653705, 34.49447067243781, 42.57368340233774, 43.733969817319945, 68.66928529983267, 45.022857747170185, 55.921016600964485, 12.451703207271747, 68.190220243976, 0.7247966413171673, 73.09429042002485, 88.41483521631237, 48.14797229453916, 13.513003188222319, 10.311181306530562, 54.533411683925124, 24.889338924685834, 43.658267297776455, 97.66485317443522, 49.6667398335233, 93.35816472278509, 49.38292126137884, 58.47302206045352, 15.586197484234766, 64.2595042682539, 96.38217319890778, 57.87244883991499, 93.88878430660786]}],\n",
       "                        {\"template\": {\"data\": {\"bar\": [{\"error_x\": {\"color\": \"#2a3f5f\"}, \"error_y\": {\"color\": \"#2a3f5f\"}, \"marker\": {\"line\": {\"color\": \"#E5ECF6\", \"width\": 0.5}}, \"type\": \"bar\"}], \"barpolar\": [{\"marker\": {\"line\": {\"color\": \"#E5ECF6\", \"width\": 0.5}}, \"type\": \"barpolar\"}], \"carpet\": [{\"aaxis\": {\"endlinecolor\": \"#2a3f5f\", \"gridcolor\": \"white\", \"linecolor\": \"white\", \"minorgridcolor\": \"white\", \"startlinecolor\": \"#2a3f5f\"}, \"baxis\": {\"endlinecolor\": \"#2a3f5f\", \"gridcolor\": \"white\", \"linecolor\": \"white\", \"minorgridcolor\": \"white\", \"startlinecolor\": \"#2a3f5f\"}, \"type\": \"carpet\"}], \"choropleth\": [{\"colorbar\": {\"outlinewidth\": 0, \"ticks\": \"\"}, \"type\": \"choropleth\"}], \"contour\": [{\"colorbar\": {\"outlinewidth\": 0, \"ticks\": \"\"}, \"colorscale\": [[0.0, \"#0d0887\"], [0.1111111111111111, \"#46039f\"], [0.2222222222222222, \"#7201a8\"], [0.3333333333333333, \"#9c179e\"], [0.4444444444444444, \"#bd3786\"], [0.5555555555555556, \"#d8576b\"], [0.6666666666666666, \"#ed7953\"], [0.7777777777777778, \"#fb9f3a\"], [0.8888888888888888, \"#fdca26\"], [1.0, \"#f0f921\"]], \"type\": \"contour\"}], \"contourcarpet\": [{\"colorbar\": {\"outlinewidth\": 0, \"ticks\": \"\"}, \"type\": \"contourcarpet\"}], \"heatmap\": [{\"colorbar\": {\"outlinewidth\": 0, \"ticks\": \"\"}, \"colorscale\": [[0.0, \"#0d0887\"], [0.1111111111111111, \"#46039f\"], [0.2222222222222222, \"#7201a8\"], [0.3333333333333333, \"#9c179e\"], [0.4444444444444444, \"#bd3786\"], [0.5555555555555556, \"#d8576b\"], [0.6666666666666666, \"#ed7953\"], [0.7777777777777778, \"#fb9f3a\"], [0.8888888888888888, \"#fdca26\"], [1.0, \"#f0f921\"]], \"type\": \"heatmap\"}], \"heatmapgl\": [{\"colorbar\": {\"outlinewidth\": 0, \"ticks\": \"\"}, \"colorscale\": [[0.0, \"#0d0887\"], [0.1111111111111111, \"#46039f\"], [0.2222222222222222, \"#7201a8\"], [0.3333333333333333, \"#9c179e\"], [0.4444444444444444, \"#bd3786\"], [0.5555555555555556, \"#d8576b\"], [0.6666666666666666, \"#ed7953\"], [0.7777777777777778, \"#fb9f3a\"], [0.8888888888888888, \"#fdca26\"], [1.0, \"#f0f921\"]], \"type\": \"heatmapgl\"}], \"histogram\": [{\"marker\": {\"colorbar\": {\"outlinewidth\": 0, \"ticks\": \"\"}}, \"type\": \"histogram\"}], \"histogram2d\": [{\"colorbar\": {\"outlinewidth\": 0, \"ticks\": \"\"}, \"colorscale\": [[0.0, \"#0d0887\"], [0.1111111111111111, \"#46039f\"], [0.2222222222222222, \"#7201a8\"], [0.3333333333333333, \"#9c179e\"], [0.4444444444444444, \"#bd3786\"], [0.5555555555555556, \"#d8576b\"], [0.6666666666666666, \"#ed7953\"], [0.7777777777777778, \"#fb9f3a\"], [0.8888888888888888, \"#fdca26\"], [1.0, \"#f0f921\"]], \"type\": \"histogram2d\"}], \"histogram2dcontour\": [{\"colorbar\": {\"outlinewidth\": 0, \"ticks\": \"\"}, \"colorscale\": [[0.0, \"#0d0887\"], [0.1111111111111111, \"#46039f\"], [0.2222222222222222, \"#7201a8\"], [0.3333333333333333, \"#9c179e\"], [0.4444444444444444, \"#bd3786\"], [0.5555555555555556, \"#d8576b\"], [0.6666666666666666, \"#ed7953\"], [0.7777777777777778, \"#fb9f3a\"], [0.8888888888888888, \"#fdca26\"], [1.0, \"#f0f921\"]], \"type\": \"histogram2dcontour\"}], \"mesh3d\": [{\"colorbar\": {\"outlinewidth\": 0, \"ticks\": \"\"}, \"type\": \"mesh3d\"}], \"parcoords\": [{\"line\": {\"colorbar\": {\"outlinewidth\": 0, \"ticks\": \"\"}}, \"type\": \"parcoords\"}], \"scatter\": [{\"marker\": {\"colorbar\": {\"outlinewidth\": 0, \"ticks\": \"\"}}, \"type\": \"scatter\"}], \"scatter3d\": [{\"line\": {\"colorbar\": {\"outlinewidth\": 0, \"ticks\": \"\"}}, \"marker\": {\"colorbar\": {\"outlinewidth\": 0, \"ticks\": \"\"}}, \"type\": \"scatter3d\"}], \"scattercarpet\": [{\"marker\": {\"colorbar\": {\"outlinewidth\": 0, \"ticks\": \"\"}}, \"type\": \"scattercarpet\"}], \"scattergeo\": [{\"marker\": {\"colorbar\": {\"outlinewidth\": 0, \"ticks\": \"\"}}, \"type\": \"scattergeo\"}], \"scattergl\": [{\"marker\": {\"colorbar\": {\"outlinewidth\": 0, \"ticks\": \"\"}}, \"type\": \"scattergl\"}], \"scattermapbox\": [{\"marker\": {\"colorbar\": {\"outlinewidth\": 0, \"ticks\": \"\"}}, \"type\": \"scattermapbox\"}], \"scatterpolar\": [{\"marker\": {\"colorbar\": {\"outlinewidth\": 0, \"ticks\": \"\"}}, \"type\": \"scatterpolar\"}], \"scatterpolargl\": [{\"marker\": {\"colorbar\": {\"outlinewidth\": 0, \"ticks\": \"\"}}, \"type\": \"scatterpolargl\"}], \"scatterternary\": [{\"marker\": {\"colorbar\": {\"outlinewidth\": 0, \"ticks\": \"\"}}, \"type\": \"scatterternary\"}], \"surface\": [{\"colorbar\": {\"outlinewidth\": 0, \"ticks\": \"\"}, \"colorscale\": [[0.0, \"#0d0887\"], [0.1111111111111111, \"#46039f\"], [0.2222222222222222, \"#7201a8\"], [0.3333333333333333, \"#9c179e\"], [0.4444444444444444, \"#bd3786\"], [0.5555555555555556, \"#d8576b\"], [0.6666666666666666, \"#ed7953\"], [0.7777777777777778, \"#fb9f3a\"], [0.8888888888888888, \"#fdca26\"], [1.0, \"#f0f921\"]], \"type\": \"surface\"}], \"table\": [{\"cells\": {\"fill\": {\"color\": \"#EBF0F8\"}, \"line\": {\"color\": \"white\"}}, \"header\": {\"fill\": {\"color\": \"#C8D4E3\"}, \"line\": {\"color\": \"white\"}}, \"type\": \"table\"}]}, \"layout\": {\"annotationdefaults\": {\"arrowcolor\": \"#2a3f5f\", \"arrowhead\": 0, \"arrowwidth\": 1}, \"colorscale\": {\"diverging\": [[0, \"#8e0152\"], [0.1, \"#c51b7d\"], [0.2, \"#de77ae\"], [0.3, \"#f1b6da\"], [0.4, \"#fde0ef\"], [0.5, \"#f7f7f7\"], [0.6, \"#e6f5d0\"], [0.7, \"#b8e186\"], [0.8, \"#7fbc41\"], [0.9, \"#4d9221\"], [1, \"#276419\"]], \"sequential\": [[0.0, \"#0d0887\"], [0.1111111111111111, \"#46039f\"], [0.2222222222222222, \"#7201a8\"], [0.3333333333333333, \"#9c179e\"], [0.4444444444444444, \"#bd3786\"], [0.5555555555555556, \"#d8576b\"], [0.6666666666666666, \"#ed7953\"], [0.7777777777777778, \"#fb9f3a\"], [0.8888888888888888, \"#fdca26\"], [1.0, \"#f0f921\"]], \"sequentialminus\": [[0.0, \"#0d0887\"], [0.1111111111111111, \"#46039f\"], [0.2222222222222222, \"#7201a8\"], [0.3333333333333333, \"#9c179e\"], [0.4444444444444444, \"#bd3786\"], [0.5555555555555556, \"#d8576b\"], [0.6666666666666666, \"#ed7953\"], [0.7777777777777778, \"#fb9f3a\"], [0.8888888888888888, \"#fdca26\"], [1.0, \"#f0f921\"]]}, \"colorway\": [\"#636efa\", \"#EF553B\", \"#00cc96\", \"#ab63fa\", \"#FFA15A\", \"#19d3f3\", \"#FF6692\", \"#B6E880\", \"#FF97FF\", \"#FECB52\"], \"font\": {\"color\": \"#2a3f5f\"}, \"geo\": {\"bgcolor\": \"white\", \"lakecolor\": \"white\", \"landcolor\": \"#E5ECF6\", \"showlakes\": true, \"showland\": true, \"subunitcolor\": \"white\"}, \"hoverlabel\": {\"align\": \"left\"}, \"hovermode\": \"closest\", \"mapbox\": {\"style\": \"light\"}, \"paper_bgcolor\": \"white\", \"plot_bgcolor\": \"#E5ECF6\", \"polar\": {\"angularaxis\": {\"gridcolor\": \"white\", \"linecolor\": \"white\", \"ticks\": \"\"}, \"bgcolor\": \"#E5ECF6\", \"radialaxis\": {\"gridcolor\": \"white\", \"linecolor\": \"white\", \"ticks\": \"\"}}, \"scene\": {\"xaxis\": {\"backgroundcolor\": \"#E5ECF6\", \"gridcolor\": \"white\", \"gridwidth\": 2, \"linecolor\": \"white\", \"showbackground\": true, \"ticks\": \"\", \"zerolinecolor\": \"white\"}, \"yaxis\": {\"backgroundcolor\": \"#E5ECF6\", \"gridcolor\": \"white\", \"gridwidth\": 2, \"linecolor\": \"white\", \"showbackground\": true, \"ticks\": \"\", \"zerolinecolor\": \"white\"}, \"zaxis\": {\"backgroundcolor\": \"#E5ECF6\", \"gridcolor\": \"white\", \"gridwidth\": 2, \"linecolor\": \"white\", \"showbackground\": true, \"ticks\": \"\", \"zerolinecolor\": \"white\"}}, \"shapedefaults\": {\"line\": {\"color\": \"#2a3f5f\"}}, \"ternary\": {\"aaxis\": {\"gridcolor\": \"white\", \"linecolor\": \"white\", \"ticks\": \"\"}, \"baxis\": {\"gridcolor\": \"white\", \"linecolor\": \"white\", \"ticks\": \"\"}, \"bgcolor\": \"#E5ECF6\", \"caxis\": {\"gridcolor\": \"white\", \"linecolor\": \"white\", \"ticks\": \"\"}}, \"title\": {\"x\": 0.05}, \"xaxis\": {\"automargin\": true, \"gridcolor\": \"white\", \"linecolor\": \"white\", \"ticks\": \"\", \"zerolinecolor\": \"white\", \"zerolinewidth\": 2}, \"yaxis\": {\"automargin\": true, \"gridcolor\": \"white\", \"linecolor\": \"white\", \"ticks\": \"\", \"zerolinecolor\": \"white\", \"zerolinewidth\": 2}}}},\n",
       "                        {\"responsive\": true}\n",
       "                    ).then(function(){\n",
       "                            \n",
       "var gd = document.getElementById('1e456452-892f-42b7-9507-95cedc3ef8ca');\n",
       "var x = new MutationObserver(function (mutations, observer) {{\n",
       "        var display = window.getComputedStyle(gd).display;\n",
       "        if (!display || display === 'none') {{\n",
       "            console.log([gd, 'removed!']);\n",
       "            Plotly.purge(gd);\n",
       "            observer.disconnect();\n",
       "        }}\n",
       "}});\n",
       "\n",
       "// Listen for the removal of the full notebook cells\n",
       "var notebookContainer = gd.closest('#notebook-container');\n",
       "if (notebookContainer) {{\n",
       "    x.observe(notebookContainer, {childList: true});\n",
       "}}\n",
       "\n",
       "// Listen for the clearing of the current output cell\n",
       "var outputEl = gd.closest('.output');\n",
       "if (outputEl) {{\n",
       "    x.observe(outputEl, {childList: true});\n",
       "}}\n",
       "\n",
       "                        })\n",
       "                };\n",
       "                });\n",
       "            </script>\n",
       "        </div>"
      ]
     },
     "metadata": {},
     "output_type": "display_data"
    }
   ],
   "source": [
    "plot3(original_node, estimated_node)"
   ]
  },
  {
   "cell_type": "code",
   "execution_count": 76,
   "metadata": {
    "ExecuteTime": {
     "end_time": "2019-12-26T10:34:57.865422Z",
     "start_time": "2019-12-26T10:34:57.518025Z"
    },
    "scrolled": true
   },
   "outputs": [],
   "source": [
    "data = []\n",
    "\n",
    "original_node_name = \"Correct Location\"\n",
    "original_nodes = {\"x\" : x_original_node,\n",
    "               \"y\" : y_original_node,\n",
    "               \"mode\" : \"markers\",\n",
    "               \"marker\" : {\"color\" : \"red\", \"size\":5},\n",
    "               \"name\" : original_node_name\n",
    "              }\n",
    "\n",
    "estimated_node_name = \"Estimated Nodes\"\n",
    "estimated_nodes1 = {\"x\" : x_estimated_node,\n",
    "              \"y\" : y_estimated_node,\n",
    "              \"mode\" : \"markers\",\n",
    "              \"marker\" : {\"color\" : \"blue\", \"size\" : 5},\n",
    "              \"name\" : estimated_node_name\n",
    "             }    \n",
    "\n",
    "x_black_nodes = [black_nodes[i].x_coord for i in range(len(black_nodes))]\n",
    "y_black_nodes = [black_nodes[i].y_coord for i in range(len(black_nodes))]\n",
    "\n",
    "name_black = \"Black Nodes (\" + str(len(black_nodes)) + \")\"\n",
    "black_nodes = {\"x\" : x_black_nodes,\n",
    "               \"y\" : y_black_nodes,\n",
    "               \"mode\" : \"markers\",\n",
    "               \"marker\" : {\"color\" : \"black\", \"size\":5},\n",
    "               \"name\" : name_black\n",
    "              }\n",
    "\n",
    "data.append(original_nodes)\n",
    "data.append(estimated_nodes1)\n",
    "data.append(black_nodes)\n",
    "\n",
    "for node in estimated_nodes:\n",
    "    trace = go.Scatter(\n",
    "        x = [node.x_coord, node.x_estimated],\n",
    "        y = [node.y_coord, node.y_estimated],\n",
    "        mode = 'lines',\n",
    "        name = 'Node ' + str(node.id),\n",
    "        marker = dict(\n",
    "            size = 10,\n",
    "            color = 'black',\n",
    "            line = dict(\n",
    "                width = 1,\n",
    "                color = 'black'\n",
    "            )\n",
    "        )\n",
    "    )\n",
    "    data.append(trace)"
   ]
  },
  {
   "cell_type": "code",
   "execution_count": 77,
   "metadata": {
    "ExecuteTime": {
     "end_time": "2019-12-26T10:35:00.711934Z",
     "start_time": "2019-12-26T10:34:59.805502Z"
    }
   },
   "outputs": [
    {
     "data": {
      "application/vnd.plotly.v1+json": {
       "config": {
        "linkText": "Export to plot.ly",
        "plotlyServerURL": "https://plot.ly",
        "showLink": false
       },
       "data": [
        {
         "marker": {
          "color": "red",
          "size": 5
         },
         "mode": "markers",
         "name": "Correct Location",
         "type": "scatter",
         "x": [
          73.41277143983821,
          21.511040788132775,
          78.61513471577314,
          42.7855034415329,
          54.410453626095304,
          11.266022654545083,
          78.04797650149797,
          0.9693869005016342,
          35.874973982826994,
          23.462879991398033,
          98.6135796058994,
          67.28966417208999,
          45.56135005204966,
          27.061375998005577,
          91.15863477310684,
          5.4198875942836455,
          9.698632047120492,
          45.62644771721514,
          40.75646065576799,
          37.24086455284687,
          81.80486627938598,
          30.946267121927672,
          98.01581444491305,
          5.143848400979312,
          21.010214535397086,
          97.32676454941094,
          50.82400320334111,
          86.27542653404178,
          10.51984710938635,
          18.826123850715447,
          42.56317464034719,
          52.589057447192246,
          52.24784191068053,
          38.71007034614993,
          0.5286687761940412,
          13.62855959973448,
          64.59764664586504,
          46.21513605853475,
          92.36399079235808,
          0.10743575771166025,
          16.149168695107406,
          29.420742124185693,
          11.308020208610959,
          62.83891359132365,
          46.62319787269011,
          79.22751559721137,
          35.62557894449522,
          42.113134679992534,
          34.68131252757048,
          39.97287917207607,
          88.42389048617727,
          7.769865602965586,
          63.329883630377935,
          23.424216156001986,
          5.059968952633698,
          32.683968492250834,
          40.397743065485024,
          66.89180959412285,
          93.19588323095086,
          41.869396308094295,
          82.39720918937465,
          83.1473166110041,
          37.34085418912709,
          64.13089976149945,
          65.09006687136886,
          87.37710806431517,
          98.62212351818941,
          26.55596892887283,
          65.66341221909265,
          83.26207316105383,
          11.612373151537692,
          48.63890014618022,
          50.056443566754524,
          56.32509443048127,
          10.960259082197666,
          5.916913717976346,
          21.515866550906182,
          92.5252944841643,
          99.52918798587204,
          93.51495966492368,
          91.27801067977094,
          0.022431072136785968,
          90.96184021492924,
          24.356939755830453,
          64.7963186626539,
          77.27485116015711,
          86.39042830226289,
          17.120637768142586,
          20.156289701008014,
          75.60229947704312
         ],
         "y": [
          57.52690036732706,
          70.12199372562566,
          9.195223830094735,
          28.554880982641507,
          86.44831398803225,
          5.148256013601005,
          1.118495986385959,
          56.7800745361291,
          59.36957627453396,
          64.82614611560261,
          20.53920317438722,
          78.1437847835718,
          33.8397114493695,
          82.80491774134491,
          78.26054387516545,
          90.73868628150726,
          83.45276705465515,
          91.44786768150307,
          24.58537728089315,
          75.78662749496694,
          65.14385790145766,
          8.013571897432614,
          40.151413821406955,
          12.469179972423062,
          79.80212377428334,
          94.91930820343909,
          55.86965438981254,
          89.6964234330075,
          75.37071523013327,
          58.69566632020427,
          83.33610773558068,
          32.239804126991835,
          20.35953063682693,
          11.2230087074221,
          83.04513780703499,
          17.10186284740518,
          64.60097163890806,
          67.45182693538409,
          27.71108062454285,
          97.74362383133169,
          33.48007774204369,
          48.69419039004048,
          70.23799012383107,
          66.11114244961277,
          88.97518649803104,
          72.7966780167168,
          46.19346653312647,
          56.086559457411376,
          31.155363971802263,
          76.3073723017339,
          67.11986509585259,
          65.32386147900749,
          67.47431380884724,
          74.2068358637859,
          33.70499506660255,
          89.6446803043005,
          80.2316449111521,
          11.047070108275935,
          12.601170650734794,
          24.39160172769581,
          48.21191967510296,
          25.6417540354296,
          39.40834335865142,
          34.46625313083732,
          42.085421036946904,
          45.472601033041094,
          67.23384665825664,
          45.3027126414267,
          54.94175588966994,
          10.90622834893229,
          67.77055461258897,
          1.31023242444257,
          74.20041070753214,
          89.40677934355577,
          46.904822397430536,
          14.330591164498863,
          6.842189042042035,
          54.5636403547186,
          25.622307079297236,
          44.66141755775828,
          98.56493014292805,
          49.63323169045323,
          93.20509243563747,
          49.73263977278527,
          58.39129764726674,
          14.72693700380926,
          65.40262507583915,
          98.72131181646682,
          58.43353770410605,
          91.71796535364253
         ]
        },
        {
         "marker": {
          "color": "blue",
          "size": 5
         },
         "mode": "markers",
         "name": "Estimated Nodes",
         "type": "scatter",
         "x": [
          74.39303881542057,
          19.374080997788166,
          78.45828857324851,
          41.939686540132605,
          54.06363871739641,
          9.578777734860312,
          76.99698684513662,
          -1.1526549798920165,
          35.32619777771686,
          21.012681012546675,
          97.3802059489213,
          66.1834561200986,
          45.28864000548844,
          26.864712982861082,
          92.62099516035558,
          3.222628076826954,
          11.682608678330064,
          46.2432370661729,
          40.54829400874001,
          37.744619642314056,
          81.79918449572729,
          26.250726359334035,
          96.48735485410118,
          3.1221859672079915,
          30.02461724611832,
          96.4041669479057,
          52.673654920334535,
          87.50957202805846,
          9.418038097594765,
          18.480050876185896,
          39.02325501143522,
          53.44139621470716,
          52.069835938573185,
          39.58063893662317,
          1.65928470491213,
          15.269666915785848,
          61.927954535769494,
          48.032879507436405,
          92.20040473795086,
          0.6366073871844341,
          13.661439053485553,
          32.10094949364763,
          10.25460165734456,
          62.656884891126936,
          47.052843360438146,
          77.1978987301285,
          30.15404748833559,
          43.56262434669594,
          35.2199278955709,
          39.3853106990976,
          87.518404468372,
          9.211642563278238,
          63.270363822976925,
          25.152088194270693,
          3.7589624308875735,
          32.56532375293061,
          39.509820427132944,
          64.97627072282059,
          94.31524434369972,
          41.73386386532278,
          87.76281075803665,
          81.1337689833871,
          35.25362655933854,
          62.82450473195437,
          66.6161935608216,
          84.79820492847894,
          99.98236470866023,
          26.00981432754342,
          64.37544095954378,
          81.6226325048309,
          10.82426554344874,
          50.65886766171409,
          50.62167402844125,
          57.18308580136975,
          12.822112988897691,
          6.914571918661989,
          22.855034985559286,
          91.11821403895465,
          97.73944070914119,
          94.09045372006705,
          89.5867263801224,
          1.5425856400959084,
          92.00904782773476,
          24.866696894273854,
          67.44201116575182,
          77.24475829711093,
          85.26678435613333,
          17.038802794109916,
          21.763426663168104,
          77.12960448263387
         ],
         "y": [
          57.410236077380034,
          71.35485792074483,
          9.92305122872194,
          27.559833212844236,
          86.8328583722431,
          4.653820683993456,
          0.20298756548955646,
          56.791684921015275,
          60.37669988377797,
          65.33457554087822,
          21.482726853993956,
          77.26183053319745,
          33.230014067340235,
          82.57698540771493,
          78.96690091969187,
          91.68118127138611,
          84.94560663095479,
          90.75418982503827,
          24.014417731832697,
          77.95514315432882,
          65.70186554683589,
          14.83351065972211,
          39.286713591937975,
          11.772667637227793,
          76.02407799294717,
          94.97892198714449,
          57.3766226239725,
          91.36645761695455,
          74.60395497796985,
          58.26002707402711,
          85.48265024112045,
          32.38190191031802,
          19.008327960251993,
          9.346186461443123,
          83.36504441175944,
          16.764582333313278,
          64.78165182832957,
          68.21751697509193,
          28.005017767004997,
          99.45440500853043,
          34.49561800425125,
          48.31225118037474,
          69.64844866797763,
          66.50177422134176,
          89.65698240885821,
          72.69655187134398,
          41.441678052162615,
          54.624117660811926,
          33.49585515022858,
          76.94221511317859,
          67.51964820444246,
          64.31309537940109,
          67.68076248435146,
          78.33054567034507,
          33.68431403349811,
          92.24901241098132,
          80.82716984950203,
          11.803957423151695,
          10.775955465198905,
          24.86970814409321,
          49.57108325374161,
          26.45470268156687,
          39.338077172653705,
          34.49447067243781,
          42.57368340233774,
          43.733969817319945,
          68.66928529983267,
          45.022857747170185,
          55.921016600964485,
          12.451703207271747,
          68.190220243976,
          0.7247966413171673,
          73.09429042002485,
          88.41483521631237,
          48.14797229453916,
          13.513003188222319,
          10.311181306530562,
          54.533411683925124,
          24.889338924685834,
          43.658267297776455,
          97.66485317443522,
          49.6667398335233,
          93.35816472278509,
          49.38292126137884,
          58.47302206045352,
          15.586197484234766,
          64.2595042682539,
          96.38217319890778,
          57.87244883991499,
          93.88878430660786
         ]
        },
        {
         "marker": {
          "color": "black",
          "size": 5
         },
         "mode": "markers",
         "name": "Black Nodes (0)",
         "type": "scatter",
         "x": [],
         "y": []
        },
        {
         "marker": {
          "color": "black",
          "line": {
           "color": "black",
           "width": 1
          },
          "size": 10
         },
         "mode": "lines",
         "name": "Node 10",
         "type": "scatter",
         "x": [
          73.41277143983821,
          74.39303881542057
         ],
         "y": [
          57.52690036732706,
          57.410236077380034
         ]
        },
        {
         "marker": {
          "color": "black",
          "line": {
           "color": "black",
           "width": 1
          },
          "size": 10
         },
         "mode": "lines",
         "name": "Node 11",
         "type": "scatter",
         "x": [
          21.511040788132775,
          19.374080997788166
         ],
         "y": [
          70.12199372562566,
          71.35485792074483
         ]
        },
        {
         "marker": {
          "color": "black",
          "line": {
           "color": "black",
           "width": 1
          },
          "size": 10
         },
         "mode": "lines",
         "name": "Node 12",
         "type": "scatter",
         "x": [
          78.61513471577314,
          78.45828857324851
         ],
         "y": [
          9.195223830094735,
          9.92305122872194
         ]
        },
        {
         "marker": {
          "color": "black",
          "line": {
           "color": "black",
           "width": 1
          },
          "size": 10
         },
         "mode": "lines",
         "name": "Node 13",
         "type": "scatter",
         "x": [
          42.7855034415329,
          41.939686540132605
         ],
         "y": [
          28.554880982641507,
          27.559833212844236
         ]
        },
        {
         "marker": {
          "color": "black",
          "line": {
           "color": "black",
           "width": 1
          },
          "size": 10
         },
         "mode": "lines",
         "name": "Node 14",
         "type": "scatter",
         "x": [
          54.410453626095304,
          54.06363871739641
         ],
         "y": [
          86.44831398803225,
          86.8328583722431
         ]
        },
        {
         "marker": {
          "color": "black",
          "line": {
           "color": "black",
           "width": 1
          },
          "size": 10
         },
         "mode": "lines",
         "name": "Node 15",
         "type": "scatter",
         "x": [
          11.266022654545083,
          9.578777734860312
         ],
         "y": [
          5.148256013601005,
          4.653820683993456
         ]
        },
        {
         "marker": {
          "color": "black",
          "line": {
           "color": "black",
           "width": 1
          },
          "size": 10
         },
         "mode": "lines",
         "name": "Node 16",
         "type": "scatter",
         "x": [
          78.04797650149797,
          76.99698684513662
         ],
         "y": [
          1.118495986385959,
          0.20298756548955646
         ]
        },
        {
         "marker": {
          "color": "black",
          "line": {
           "color": "black",
           "width": 1
          },
          "size": 10
         },
         "mode": "lines",
         "name": "Node 17",
         "type": "scatter",
         "x": [
          0.9693869005016342,
          -1.1526549798920165
         ],
         "y": [
          56.7800745361291,
          56.791684921015275
         ]
        },
        {
         "marker": {
          "color": "black",
          "line": {
           "color": "black",
           "width": 1
          },
          "size": 10
         },
         "mode": "lines",
         "name": "Node 18",
         "type": "scatter",
         "x": [
          35.874973982826994,
          35.32619777771686
         ],
         "y": [
          59.36957627453396,
          60.37669988377797
         ]
        },
        {
         "marker": {
          "color": "black",
          "line": {
           "color": "black",
           "width": 1
          },
          "size": 10
         },
         "mode": "lines",
         "name": "Node 19",
         "type": "scatter",
         "x": [
          23.462879991398033,
          21.012681012546675
         ],
         "y": [
          64.82614611560261,
          65.33457554087822
         ]
        },
        {
         "marker": {
          "color": "black",
          "line": {
           "color": "black",
           "width": 1
          },
          "size": 10
         },
         "mode": "lines",
         "name": "Node 20",
         "type": "scatter",
         "x": [
          98.6135796058994,
          97.3802059489213
         ],
         "y": [
          20.53920317438722,
          21.482726853993956
         ]
        },
        {
         "marker": {
          "color": "black",
          "line": {
           "color": "black",
           "width": 1
          },
          "size": 10
         },
         "mode": "lines",
         "name": "Node 21",
         "type": "scatter",
         "x": [
          67.28966417208999,
          66.1834561200986
         ],
         "y": [
          78.1437847835718,
          77.26183053319745
         ]
        },
        {
         "marker": {
          "color": "black",
          "line": {
           "color": "black",
           "width": 1
          },
          "size": 10
         },
         "mode": "lines",
         "name": "Node 22",
         "type": "scatter",
         "x": [
          45.56135005204966,
          45.28864000548844
         ],
         "y": [
          33.8397114493695,
          33.230014067340235
         ]
        },
        {
         "marker": {
          "color": "black",
          "line": {
           "color": "black",
           "width": 1
          },
          "size": 10
         },
         "mode": "lines",
         "name": "Node 23",
         "type": "scatter",
         "x": [
          27.061375998005577,
          26.864712982861082
         ],
         "y": [
          82.80491774134491,
          82.57698540771493
         ]
        },
        {
         "marker": {
          "color": "black",
          "line": {
           "color": "black",
           "width": 1
          },
          "size": 10
         },
         "mode": "lines",
         "name": "Node 24",
         "type": "scatter",
         "x": [
          91.15863477310684,
          92.62099516035558
         ],
         "y": [
          78.26054387516545,
          78.96690091969187
         ]
        },
        {
         "marker": {
          "color": "black",
          "line": {
           "color": "black",
           "width": 1
          },
          "size": 10
         },
         "mode": "lines",
         "name": "Node 25",
         "type": "scatter",
         "x": [
          5.4198875942836455,
          3.222628076826954
         ],
         "y": [
          90.73868628150726,
          91.68118127138611
         ]
        },
        {
         "marker": {
          "color": "black",
          "line": {
           "color": "black",
           "width": 1
          },
          "size": 10
         },
         "mode": "lines",
         "name": "Node 26",
         "type": "scatter",
         "x": [
          9.698632047120492,
          11.682608678330064
         ],
         "y": [
          83.45276705465515,
          84.94560663095479
         ]
        },
        {
         "marker": {
          "color": "black",
          "line": {
           "color": "black",
           "width": 1
          },
          "size": 10
         },
         "mode": "lines",
         "name": "Node 27",
         "type": "scatter",
         "x": [
          45.62644771721514,
          46.2432370661729
         ],
         "y": [
          91.44786768150307,
          90.75418982503827
         ]
        },
        {
         "marker": {
          "color": "black",
          "line": {
           "color": "black",
           "width": 1
          },
          "size": 10
         },
         "mode": "lines",
         "name": "Node 28",
         "type": "scatter",
         "x": [
          40.75646065576799,
          40.54829400874001
         ],
         "y": [
          24.58537728089315,
          24.014417731832697
         ]
        },
        {
         "marker": {
          "color": "black",
          "line": {
           "color": "black",
           "width": 1
          },
          "size": 10
         },
         "mode": "lines",
         "name": "Node 29",
         "type": "scatter",
         "x": [
          37.24086455284687,
          37.744619642314056
         ],
         "y": [
          75.78662749496694,
          77.95514315432882
         ]
        },
        {
         "marker": {
          "color": "black",
          "line": {
           "color": "black",
           "width": 1
          },
          "size": 10
         },
         "mode": "lines",
         "name": "Node 30",
         "type": "scatter",
         "x": [
          81.80486627938598,
          81.79918449572729
         ],
         "y": [
          65.14385790145766,
          65.70186554683589
         ]
        },
        {
         "marker": {
          "color": "black",
          "line": {
           "color": "black",
           "width": 1
          },
          "size": 10
         },
         "mode": "lines",
         "name": "Node 31",
         "type": "scatter",
         "x": [
          30.946267121927672,
          26.250726359334035
         ],
         "y": [
          8.013571897432614,
          14.83351065972211
         ]
        },
        {
         "marker": {
          "color": "black",
          "line": {
           "color": "black",
           "width": 1
          },
          "size": 10
         },
         "mode": "lines",
         "name": "Node 32",
         "type": "scatter",
         "x": [
          98.01581444491305,
          96.48735485410118
         ],
         "y": [
          40.151413821406955,
          39.286713591937975
         ]
        },
        {
         "marker": {
          "color": "black",
          "line": {
           "color": "black",
           "width": 1
          },
          "size": 10
         },
         "mode": "lines",
         "name": "Node 33",
         "type": "scatter",
         "x": [
          5.143848400979312,
          3.1221859672079915
         ],
         "y": [
          12.469179972423062,
          11.772667637227793
         ]
        },
        {
         "marker": {
          "color": "black",
          "line": {
           "color": "black",
           "width": 1
          },
          "size": 10
         },
         "mode": "lines",
         "name": "Node 34",
         "type": "scatter",
         "x": [
          21.010214535397086,
          30.02461724611832
         ],
         "y": [
          79.80212377428334,
          76.02407799294717
         ]
        },
        {
         "marker": {
          "color": "black",
          "line": {
           "color": "black",
           "width": 1
          },
          "size": 10
         },
         "mode": "lines",
         "name": "Node 35",
         "type": "scatter",
         "x": [
          97.32676454941094,
          96.4041669479057
         ],
         "y": [
          94.91930820343909,
          94.97892198714449
         ]
        },
        {
         "marker": {
          "color": "black",
          "line": {
           "color": "black",
           "width": 1
          },
          "size": 10
         },
         "mode": "lines",
         "name": "Node 36",
         "type": "scatter",
         "x": [
          50.82400320334111,
          52.673654920334535
         ],
         "y": [
          55.86965438981254,
          57.3766226239725
         ]
        },
        {
         "marker": {
          "color": "black",
          "line": {
           "color": "black",
           "width": 1
          },
          "size": 10
         },
         "mode": "lines",
         "name": "Node 37",
         "type": "scatter",
         "x": [
          86.27542653404178,
          87.50957202805846
         ],
         "y": [
          89.6964234330075,
          91.36645761695455
         ]
        },
        {
         "marker": {
          "color": "black",
          "line": {
           "color": "black",
           "width": 1
          },
          "size": 10
         },
         "mode": "lines",
         "name": "Node 38",
         "type": "scatter",
         "x": [
          10.51984710938635,
          9.418038097594765
         ],
         "y": [
          75.37071523013327,
          74.60395497796985
         ]
        },
        {
         "marker": {
          "color": "black",
          "line": {
           "color": "black",
           "width": 1
          },
          "size": 10
         },
         "mode": "lines",
         "name": "Node 39",
         "type": "scatter",
         "x": [
          18.826123850715447,
          18.480050876185896
         ],
         "y": [
          58.69566632020427,
          58.26002707402711
         ]
        },
        {
         "marker": {
          "color": "black",
          "line": {
           "color": "black",
           "width": 1
          },
          "size": 10
         },
         "mode": "lines",
         "name": "Node 40",
         "type": "scatter",
         "x": [
          42.56317464034719,
          39.02325501143522
         ],
         "y": [
          83.33610773558068,
          85.48265024112045
         ]
        },
        {
         "marker": {
          "color": "black",
          "line": {
           "color": "black",
           "width": 1
          },
          "size": 10
         },
         "mode": "lines",
         "name": "Node 41",
         "type": "scatter",
         "x": [
          52.589057447192246,
          53.44139621470716
         ],
         "y": [
          32.239804126991835,
          32.38190191031802
         ]
        },
        {
         "marker": {
          "color": "black",
          "line": {
           "color": "black",
           "width": 1
          },
          "size": 10
         },
         "mode": "lines",
         "name": "Node 42",
         "type": "scatter",
         "x": [
          52.24784191068053,
          52.069835938573185
         ],
         "y": [
          20.35953063682693,
          19.008327960251993
         ]
        },
        {
         "marker": {
          "color": "black",
          "line": {
           "color": "black",
           "width": 1
          },
          "size": 10
         },
         "mode": "lines",
         "name": "Node 43",
         "type": "scatter",
         "x": [
          38.71007034614993,
          39.58063893662317
         ],
         "y": [
          11.2230087074221,
          9.346186461443123
         ]
        },
        {
         "marker": {
          "color": "black",
          "line": {
           "color": "black",
           "width": 1
          },
          "size": 10
         },
         "mode": "lines",
         "name": "Node 44",
         "type": "scatter",
         "x": [
          0.5286687761940412,
          1.65928470491213
         ],
         "y": [
          83.04513780703499,
          83.36504441175944
         ]
        },
        {
         "marker": {
          "color": "black",
          "line": {
           "color": "black",
           "width": 1
          },
          "size": 10
         },
         "mode": "lines",
         "name": "Node 45",
         "type": "scatter",
         "x": [
          13.62855959973448,
          15.269666915785848
         ],
         "y": [
          17.10186284740518,
          16.764582333313278
         ]
        },
        {
         "marker": {
          "color": "black",
          "line": {
           "color": "black",
           "width": 1
          },
          "size": 10
         },
         "mode": "lines",
         "name": "Node 46",
         "type": "scatter",
         "x": [
          64.59764664586504,
          61.927954535769494
         ],
         "y": [
          64.60097163890806,
          64.78165182832957
         ]
        },
        {
         "marker": {
          "color": "black",
          "line": {
           "color": "black",
           "width": 1
          },
          "size": 10
         },
         "mode": "lines",
         "name": "Node 47",
         "type": "scatter",
         "x": [
          46.21513605853475,
          48.032879507436405
         ],
         "y": [
          67.45182693538409,
          68.21751697509193
         ]
        },
        {
         "marker": {
          "color": "black",
          "line": {
           "color": "black",
           "width": 1
          },
          "size": 10
         },
         "mode": "lines",
         "name": "Node 48",
         "type": "scatter",
         "x": [
          92.36399079235808,
          92.20040473795086
         ],
         "y": [
          27.71108062454285,
          28.005017767004997
         ]
        },
        {
         "marker": {
          "color": "black",
          "line": {
           "color": "black",
           "width": 1
          },
          "size": 10
         },
         "mode": "lines",
         "name": "Node 49",
         "type": "scatter",
         "x": [
          0.10743575771166025,
          0.6366073871844341
         ],
         "y": [
          97.74362383133169,
          99.45440500853043
         ]
        },
        {
         "marker": {
          "color": "black",
          "line": {
           "color": "black",
           "width": 1
          },
          "size": 10
         },
         "mode": "lines",
         "name": "Node 50",
         "type": "scatter",
         "x": [
          16.149168695107406,
          13.661439053485553
         ],
         "y": [
          33.48007774204369,
          34.49561800425125
         ]
        },
        {
         "marker": {
          "color": "black",
          "line": {
           "color": "black",
           "width": 1
          },
          "size": 10
         },
         "mode": "lines",
         "name": "Node 51",
         "type": "scatter",
         "x": [
          29.420742124185693,
          32.10094949364763
         ],
         "y": [
          48.69419039004048,
          48.31225118037474
         ]
        },
        {
         "marker": {
          "color": "black",
          "line": {
           "color": "black",
           "width": 1
          },
          "size": 10
         },
         "mode": "lines",
         "name": "Node 52",
         "type": "scatter",
         "x": [
          11.308020208610959,
          10.25460165734456
         ],
         "y": [
          70.23799012383107,
          69.64844866797763
         ]
        },
        {
         "marker": {
          "color": "black",
          "line": {
           "color": "black",
           "width": 1
          },
          "size": 10
         },
         "mode": "lines",
         "name": "Node 53",
         "type": "scatter",
         "x": [
          62.83891359132365,
          62.656884891126936
         ],
         "y": [
          66.11114244961277,
          66.50177422134176
         ]
        },
        {
         "marker": {
          "color": "black",
          "line": {
           "color": "black",
           "width": 1
          },
          "size": 10
         },
         "mode": "lines",
         "name": "Node 54",
         "type": "scatter",
         "x": [
          46.62319787269011,
          47.052843360438146
         ],
         "y": [
          88.97518649803104,
          89.65698240885821
         ]
        },
        {
         "marker": {
          "color": "black",
          "line": {
           "color": "black",
           "width": 1
          },
          "size": 10
         },
         "mode": "lines",
         "name": "Node 55",
         "type": "scatter",
         "x": [
          79.22751559721137,
          77.1978987301285
         ],
         "y": [
          72.7966780167168,
          72.69655187134398
         ]
        },
        {
         "marker": {
          "color": "black",
          "line": {
           "color": "black",
           "width": 1
          },
          "size": 10
         },
         "mode": "lines",
         "name": "Node 56",
         "type": "scatter",
         "x": [
          35.62557894449522,
          30.15404748833559
         ],
         "y": [
          46.19346653312647,
          41.441678052162615
         ]
        },
        {
         "marker": {
          "color": "black",
          "line": {
           "color": "black",
           "width": 1
          },
          "size": 10
         },
         "mode": "lines",
         "name": "Node 57",
         "type": "scatter",
         "x": [
          42.113134679992534,
          43.56262434669594
         ],
         "y": [
          56.086559457411376,
          54.624117660811926
         ]
        },
        {
         "marker": {
          "color": "black",
          "line": {
           "color": "black",
           "width": 1
          },
          "size": 10
         },
         "mode": "lines",
         "name": "Node 58",
         "type": "scatter",
         "x": [
          34.68131252757048,
          35.2199278955709
         ],
         "y": [
          31.155363971802263,
          33.49585515022858
         ]
        },
        {
         "marker": {
          "color": "black",
          "line": {
           "color": "black",
           "width": 1
          },
          "size": 10
         },
         "mode": "lines",
         "name": "Node 59",
         "type": "scatter",
         "x": [
          39.97287917207607,
          39.3853106990976
         ],
         "y": [
          76.3073723017339,
          76.94221511317859
         ]
        },
        {
         "marker": {
          "color": "black",
          "line": {
           "color": "black",
           "width": 1
          },
          "size": 10
         },
         "mode": "lines",
         "name": "Node 60",
         "type": "scatter",
         "x": [
          88.42389048617727,
          87.518404468372
         ],
         "y": [
          67.11986509585259,
          67.51964820444246
         ]
        },
        {
         "marker": {
          "color": "black",
          "line": {
           "color": "black",
           "width": 1
          },
          "size": 10
         },
         "mode": "lines",
         "name": "Node 61",
         "type": "scatter",
         "x": [
          7.769865602965586,
          9.211642563278238
         ],
         "y": [
          65.32386147900749,
          64.31309537940109
         ]
        },
        {
         "marker": {
          "color": "black",
          "line": {
           "color": "black",
           "width": 1
          },
          "size": 10
         },
         "mode": "lines",
         "name": "Node 62",
         "type": "scatter",
         "x": [
          63.329883630377935,
          63.270363822976925
         ],
         "y": [
          67.47431380884724,
          67.68076248435146
         ]
        },
        {
         "marker": {
          "color": "black",
          "line": {
           "color": "black",
           "width": 1
          },
          "size": 10
         },
         "mode": "lines",
         "name": "Node 63",
         "type": "scatter",
         "x": [
          23.424216156001986,
          25.152088194270693
         ],
         "y": [
          74.2068358637859,
          78.33054567034507
         ]
        },
        {
         "marker": {
          "color": "black",
          "line": {
           "color": "black",
           "width": 1
          },
          "size": 10
         },
         "mode": "lines",
         "name": "Node 64",
         "type": "scatter",
         "x": [
          5.059968952633698,
          3.7589624308875735
         ],
         "y": [
          33.70499506660255,
          33.68431403349811
         ]
        },
        {
         "marker": {
          "color": "black",
          "line": {
           "color": "black",
           "width": 1
          },
          "size": 10
         },
         "mode": "lines",
         "name": "Node 65",
         "type": "scatter",
         "x": [
          32.683968492250834,
          32.56532375293061
         ],
         "y": [
          89.6446803043005,
          92.24901241098132
         ]
        },
        {
         "marker": {
          "color": "black",
          "line": {
           "color": "black",
           "width": 1
          },
          "size": 10
         },
         "mode": "lines",
         "name": "Node 66",
         "type": "scatter",
         "x": [
          40.397743065485024,
          39.509820427132944
         ],
         "y": [
          80.2316449111521,
          80.82716984950203
         ]
        },
        {
         "marker": {
          "color": "black",
          "line": {
           "color": "black",
           "width": 1
          },
          "size": 10
         },
         "mode": "lines",
         "name": "Node 67",
         "type": "scatter",
         "x": [
          66.89180959412285,
          64.97627072282059
         ],
         "y": [
          11.047070108275935,
          11.803957423151695
         ]
        },
        {
         "marker": {
          "color": "black",
          "line": {
           "color": "black",
           "width": 1
          },
          "size": 10
         },
         "mode": "lines",
         "name": "Node 68",
         "type": "scatter",
         "x": [
          93.19588323095086,
          94.31524434369972
         ],
         "y": [
          12.601170650734794,
          10.775955465198905
         ]
        },
        {
         "marker": {
          "color": "black",
          "line": {
           "color": "black",
           "width": 1
          },
          "size": 10
         },
         "mode": "lines",
         "name": "Node 69",
         "type": "scatter",
         "x": [
          41.869396308094295,
          41.73386386532278
         ],
         "y": [
          24.39160172769581,
          24.86970814409321
         ]
        },
        {
         "marker": {
          "color": "black",
          "line": {
           "color": "black",
           "width": 1
          },
          "size": 10
         },
         "mode": "lines",
         "name": "Node 70",
         "type": "scatter",
         "x": [
          82.39720918937465,
          87.76281075803665
         ],
         "y": [
          48.21191967510296,
          49.57108325374161
         ]
        },
        {
         "marker": {
          "color": "black",
          "line": {
           "color": "black",
           "width": 1
          },
          "size": 10
         },
         "mode": "lines",
         "name": "Node 71",
         "type": "scatter",
         "x": [
          83.1473166110041,
          81.1337689833871
         ],
         "y": [
          25.6417540354296,
          26.45470268156687
         ]
        },
        {
         "marker": {
          "color": "black",
          "line": {
           "color": "black",
           "width": 1
          },
          "size": 10
         },
         "mode": "lines",
         "name": "Node 72",
         "type": "scatter",
         "x": [
          37.34085418912709,
          35.25362655933854
         ],
         "y": [
          39.40834335865142,
          39.338077172653705
         ]
        },
        {
         "marker": {
          "color": "black",
          "line": {
           "color": "black",
           "width": 1
          },
          "size": 10
         },
         "mode": "lines",
         "name": "Node 73",
         "type": "scatter",
         "x": [
          64.13089976149945,
          62.82450473195437
         ],
         "y": [
          34.46625313083732,
          34.49447067243781
         ]
        },
        {
         "marker": {
          "color": "black",
          "line": {
           "color": "black",
           "width": 1
          },
          "size": 10
         },
         "mode": "lines",
         "name": "Node 74",
         "type": "scatter",
         "x": [
          65.09006687136886,
          66.6161935608216
         ],
         "y": [
          42.085421036946904,
          42.57368340233774
         ]
        },
        {
         "marker": {
          "color": "black",
          "line": {
           "color": "black",
           "width": 1
          },
          "size": 10
         },
         "mode": "lines",
         "name": "Node 75",
         "type": "scatter",
         "x": [
          87.37710806431517,
          84.79820492847894
         ],
         "y": [
          45.472601033041094,
          43.733969817319945
         ]
        },
        {
         "marker": {
          "color": "black",
          "line": {
           "color": "black",
           "width": 1
          },
          "size": 10
         },
         "mode": "lines",
         "name": "Node 76",
         "type": "scatter",
         "x": [
          98.62212351818941,
          99.98236470866023
         ],
         "y": [
          67.23384665825664,
          68.66928529983267
         ]
        },
        {
         "marker": {
          "color": "black",
          "line": {
           "color": "black",
           "width": 1
          },
          "size": 10
         },
         "mode": "lines",
         "name": "Node 77",
         "type": "scatter",
         "x": [
          26.55596892887283,
          26.00981432754342
         ],
         "y": [
          45.3027126414267,
          45.022857747170185
         ]
        },
        {
         "marker": {
          "color": "black",
          "line": {
           "color": "black",
           "width": 1
          },
          "size": 10
         },
         "mode": "lines",
         "name": "Node 78",
         "type": "scatter",
         "x": [
          65.66341221909265,
          64.37544095954378
         ],
         "y": [
          54.94175588966994,
          55.921016600964485
         ]
        },
        {
         "marker": {
          "color": "black",
          "line": {
           "color": "black",
           "width": 1
          },
          "size": 10
         },
         "mode": "lines",
         "name": "Node 79",
         "type": "scatter",
         "x": [
          83.26207316105383,
          81.6226325048309
         ],
         "y": [
          10.90622834893229,
          12.451703207271747
         ]
        },
        {
         "marker": {
          "color": "black",
          "line": {
           "color": "black",
           "width": 1
          },
          "size": 10
         },
         "mode": "lines",
         "name": "Node 80",
         "type": "scatter",
         "x": [
          11.612373151537692,
          10.82426554344874
         ],
         "y": [
          67.77055461258897,
          68.190220243976
         ]
        },
        {
         "marker": {
          "color": "black",
          "line": {
           "color": "black",
           "width": 1
          },
          "size": 10
         },
         "mode": "lines",
         "name": "Node 81",
         "type": "scatter",
         "x": [
          48.63890014618022,
          50.65886766171409
         ],
         "y": [
          1.31023242444257,
          0.7247966413171673
         ]
        },
        {
         "marker": {
          "color": "black",
          "line": {
           "color": "black",
           "width": 1
          },
          "size": 10
         },
         "mode": "lines",
         "name": "Node 82",
         "type": "scatter",
         "x": [
          50.056443566754524,
          50.62167402844125
         ],
         "y": [
          74.20041070753214,
          73.09429042002485
         ]
        },
        {
         "marker": {
          "color": "black",
          "line": {
           "color": "black",
           "width": 1
          },
          "size": 10
         },
         "mode": "lines",
         "name": "Node 83",
         "type": "scatter",
         "x": [
          56.32509443048127,
          57.18308580136975
         ],
         "y": [
          89.40677934355577,
          88.41483521631237
         ]
        },
        {
         "marker": {
          "color": "black",
          "line": {
           "color": "black",
           "width": 1
          },
          "size": 10
         },
         "mode": "lines",
         "name": "Node 84",
         "type": "scatter",
         "x": [
          10.960259082197666,
          12.822112988897691
         ],
         "y": [
          46.904822397430536,
          48.14797229453916
         ]
        },
        {
         "marker": {
          "color": "black",
          "line": {
           "color": "black",
           "width": 1
          },
          "size": 10
         },
         "mode": "lines",
         "name": "Node 85",
         "type": "scatter",
         "x": [
          5.916913717976346,
          6.914571918661989
         ],
         "y": [
          14.330591164498863,
          13.513003188222319
         ]
        },
        {
         "marker": {
          "color": "black",
          "line": {
           "color": "black",
           "width": 1
          },
          "size": 10
         },
         "mode": "lines",
         "name": "Node 86",
         "type": "scatter",
         "x": [
          21.515866550906182,
          22.855034985559286
         ],
         "y": [
          6.842189042042035,
          10.311181306530562
         ]
        },
        {
         "marker": {
          "color": "black",
          "line": {
           "color": "black",
           "width": 1
          },
          "size": 10
         },
         "mode": "lines",
         "name": "Node 87",
         "type": "scatter",
         "x": [
          92.5252944841643,
          91.11821403895465
         ],
         "y": [
          54.5636403547186,
          54.533411683925124
         ]
        },
        {
         "marker": {
          "color": "black",
          "line": {
           "color": "black",
           "width": 1
          },
          "size": 10
         },
         "mode": "lines",
         "name": "Node 88",
         "type": "scatter",
         "x": [
          99.52918798587204,
          97.73944070914119
         ],
         "y": [
          25.622307079297236,
          24.889338924685834
         ]
        },
        {
         "marker": {
          "color": "black",
          "line": {
           "color": "black",
           "width": 1
          },
          "size": 10
         },
         "mode": "lines",
         "name": "Node 89",
         "type": "scatter",
         "x": [
          93.51495966492368,
          94.09045372006705
         ],
         "y": [
          44.66141755775828,
          43.658267297776455
         ]
        },
        {
         "marker": {
          "color": "black",
          "line": {
           "color": "black",
           "width": 1
          },
          "size": 10
         },
         "mode": "lines",
         "name": "Node 90",
         "type": "scatter",
         "x": [
          91.27801067977094,
          89.5867263801224
         ],
         "y": [
          98.56493014292805,
          97.66485317443522
         ]
        },
        {
         "marker": {
          "color": "black",
          "line": {
           "color": "black",
           "width": 1
          },
          "size": 10
         },
         "mode": "lines",
         "name": "Node 91",
         "type": "scatter",
         "x": [
          0.022431072136785968,
          1.5425856400959084
         ],
         "y": [
          49.63323169045323,
          49.6667398335233
         ]
        },
        {
         "marker": {
          "color": "black",
          "line": {
           "color": "black",
           "width": 1
          },
          "size": 10
         },
         "mode": "lines",
         "name": "Node 92",
         "type": "scatter",
         "x": [
          90.96184021492924,
          92.00904782773476
         ],
         "y": [
          93.20509243563747,
          93.35816472278509
         ]
        },
        {
         "marker": {
          "color": "black",
          "line": {
           "color": "black",
           "width": 1
          },
          "size": 10
         },
         "mode": "lines",
         "name": "Node 93",
         "type": "scatter",
         "x": [
          24.356939755830453,
          24.866696894273854
         ],
         "y": [
          49.73263977278527,
          49.38292126137884
         ]
        },
        {
         "marker": {
          "color": "black",
          "line": {
           "color": "black",
           "width": 1
          },
          "size": 10
         },
         "mode": "lines",
         "name": "Node 94",
         "type": "scatter",
         "x": [
          64.7963186626539,
          67.44201116575182
         ],
         "y": [
          58.39129764726674,
          58.47302206045352
         ]
        },
        {
         "marker": {
          "color": "black",
          "line": {
           "color": "black",
           "width": 1
          },
          "size": 10
         },
         "mode": "lines",
         "name": "Node 95",
         "type": "scatter",
         "x": [
          77.27485116015711,
          77.24475829711093
         ],
         "y": [
          14.72693700380926,
          15.586197484234766
         ]
        },
        {
         "marker": {
          "color": "black",
          "line": {
           "color": "black",
           "width": 1
          },
          "size": 10
         },
         "mode": "lines",
         "name": "Node 96",
         "type": "scatter",
         "x": [
          86.39042830226289,
          85.26678435613333
         ],
         "y": [
          65.40262507583915,
          64.2595042682539
         ]
        },
        {
         "marker": {
          "color": "black",
          "line": {
           "color": "black",
           "width": 1
          },
          "size": 10
         },
         "mode": "lines",
         "name": "Node 97",
         "type": "scatter",
         "x": [
          17.120637768142586,
          17.038802794109916
         ],
         "y": [
          98.72131181646682,
          96.38217319890778
         ]
        },
        {
         "marker": {
          "color": "black",
          "line": {
           "color": "black",
           "width": 1
          },
          "size": 10
         },
         "mode": "lines",
         "name": "Node 98",
         "type": "scatter",
         "x": [
          20.156289701008014,
          21.763426663168104
         ],
         "y": [
          58.43353770410605,
          57.87244883991499
         ]
        },
        {
         "marker": {
          "color": "black",
          "line": {
           "color": "black",
           "width": 1
          },
          "size": 10
         },
         "mode": "lines",
         "name": "Node 99",
         "type": "scatter",
         "x": [
          75.60229947704312,
          77.12960448263387
         ],
         "y": [
          91.71796535364253,
          93.88878430660786
         ]
        }
       ],
       "layout": {
        "template": {
         "data": {
          "bar": [
           {
            "error_x": {
             "color": "#2a3f5f"
            },
            "error_y": {
             "color": "#2a3f5f"
            },
            "marker": {
             "line": {
              "color": "#E5ECF6",
              "width": 0.5
             }
            },
            "type": "bar"
           }
          ],
          "barpolar": [
           {
            "marker": {
             "line": {
              "color": "#E5ECF6",
              "width": 0.5
             }
            },
            "type": "barpolar"
           }
          ],
          "carpet": [
           {
            "aaxis": {
             "endlinecolor": "#2a3f5f",
             "gridcolor": "white",
             "linecolor": "white",
             "minorgridcolor": "white",
             "startlinecolor": "#2a3f5f"
            },
            "baxis": {
             "endlinecolor": "#2a3f5f",
             "gridcolor": "white",
             "linecolor": "white",
             "minorgridcolor": "white",
             "startlinecolor": "#2a3f5f"
            },
            "type": "carpet"
           }
          ],
          "choropleth": [
           {
            "colorbar": {
             "outlinewidth": 0,
             "ticks": ""
            },
            "type": "choropleth"
           }
          ],
          "contour": [
           {
            "colorbar": {
             "outlinewidth": 0,
             "ticks": ""
            },
            "colorscale": [
             [
              0,
              "#0d0887"
             ],
             [
              0.1111111111111111,
              "#46039f"
             ],
             [
              0.2222222222222222,
              "#7201a8"
             ],
             [
              0.3333333333333333,
              "#9c179e"
             ],
             [
              0.4444444444444444,
              "#bd3786"
             ],
             [
              0.5555555555555556,
              "#d8576b"
             ],
             [
              0.6666666666666666,
              "#ed7953"
             ],
             [
              0.7777777777777778,
              "#fb9f3a"
             ],
             [
              0.8888888888888888,
              "#fdca26"
             ],
             [
              1,
              "#f0f921"
             ]
            ],
            "type": "contour"
           }
          ],
          "contourcarpet": [
           {
            "colorbar": {
             "outlinewidth": 0,
             "ticks": ""
            },
            "type": "contourcarpet"
           }
          ],
          "heatmap": [
           {
            "colorbar": {
             "outlinewidth": 0,
             "ticks": ""
            },
            "colorscale": [
             [
              0,
              "#0d0887"
             ],
             [
              0.1111111111111111,
              "#46039f"
             ],
             [
              0.2222222222222222,
              "#7201a8"
             ],
             [
              0.3333333333333333,
              "#9c179e"
             ],
             [
              0.4444444444444444,
              "#bd3786"
             ],
             [
              0.5555555555555556,
              "#d8576b"
             ],
             [
              0.6666666666666666,
              "#ed7953"
             ],
             [
              0.7777777777777778,
              "#fb9f3a"
             ],
             [
              0.8888888888888888,
              "#fdca26"
             ],
             [
              1,
              "#f0f921"
             ]
            ],
            "type": "heatmap"
           }
          ],
          "heatmapgl": [
           {
            "colorbar": {
             "outlinewidth": 0,
             "ticks": ""
            },
            "colorscale": [
             [
              0,
              "#0d0887"
             ],
             [
              0.1111111111111111,
              "#46039f"
             ],
             [
              0.2222222222222222,
              "#7201a8"
             ],
             [
              0.3333333333333333,
              "#9c179e"
             ],
             [
              0.4444444444444444,
              "#bd3786"
             ],
             [
              0.5555555555555556,
              "#d8576b"
             ],
             [
              0.6666666666666666,
              "#ed7953"
             ],
             [
              0.7777777777777778,
              "#fb9f3a"
             ],
             [
              0.8888888888888888,
              "#fdca26"
             ],
             [
              1,
              "#f0f921"
             ]
            ],
            "type": "heatmapgl"
           }
          ],
          "histogram": [
           {
            "marker": {
             "colorbar": {
              "outlinewidth": 0,
              "ticks": ""
             }
            },
            "type": "histogram"
           }
          ],
          "histogram2d": [
           {
            "colorbar": {
             "outlinewidth": 0,
             "ticks": ""
            },
            "colorscale": [
             [
              0,
              "#0d0887"
             ],
             [
              0.1111111111111111,
              "#46039f"
             ],
             [
              0.2222222222222222,
              "#7201a8"
             ],
             [
              0.3333333333333333,
              "#9c179e"
             ],
             [
              0.4444444444444444,
              "#bd3786"
             ],
             [
              0.5555555555555556,
              "#d8576b"
             ],
             [
              0.6666666666666666,
              "#ed7953"
             ],
             [
              0.7777777777777778,
              "#fb9f3a"
             ],
             [
              0.8888888888888888,
              "#fdca26"
             ],
             [
              1,
              "#f0f921"
             ]
            ],
            "type": "histogram2d"
           }
          ],
          "histogram2dcontour": [
           {
            "colorbar": {
             "outlinewidth": 0,
             "ticks": ""
            },
            "colorscale": [
             [
              0,
              "#0d0887"
             ],
             [
              0.1111111111111111,
              "#46039f"
             ],
             [
              0.2222222222222222,
              "#7201a8"
             ],
             [
              0.3333333333333333,
              "#9c179e"
             ],
             [
              0.4444444444444444,
              "#bd3786"
             ],
             [
              0.5555555555555556,
              "#d8576b"
             ],
             [
              0.6666666666666666,
              "#ed7953"
             ],
             [
              0.7777777777777778,
              "#fb9f3a"
             ],
             [
              0.8888888888888888,
              "#fdca26"
             ],
             [
              1,
              "#f0f921"
             ]
            ],
            "type": "histogram2dcontour"
           }
          ],
          "mesh3d": [
           {
            "colorbar": {
             "outlinewidth": 0,
             "ticks": ""
            },
            "type": "mesh3d"
           }
          ],
          "parcoords": [
           {
            "line": {
             "colorbar": {
              "outlinewidth": 0,
              "ticks": ""
             }
            },
            "type": "parcoords"
           }
          ],
          "scatter": [
           {
            "marker": {
             "colorbar": {
              "outlinewidth": 0,
              "ticks": ""
             }
            },
            "type": "scatter"
           }
          ],
          "scatter3d": [
           {
            "line": {
             "colorbar": {
              "outlinewidth": 0,
              "ticks": ""
             }
            },
            "marker": {
             "colorbar": {
              "outlinewidth": 0,
              "ticks": ""
             }
            },
            "type": "scatter3d"
           }
          ],
          "scattercarpet": [
           {
            "marker": {
             "colorbar": {
              "outlinewidth": 0,
              "ticks": ""
             }
            },
            "type": "scattercarpet"
           }
          ],
          "scattergeo": [
           {
            "marker": {
             "colorbar": {
              "outlinewidth": 0,
              "ticks": ""
             }
            },
            "type": "scattergeo"
           }
          ],
          "scattergl": [
           {
            "marker": {
             "colorbar": {
              "outlinewidth": 0,
              "ticks": ""
             }
            },
            "type": "scattergl"
           }
          ],
          "scattermapbox": [
           {
            "marker": {
             "colorbar": {
              "outlinewidth": 0,
              "ticks": ""
             }
            },
            "type": "scattermapbox"
           }
          ],
          "scatterpolar": [
           {
            "marker": {
             "colorbar": {
              "outlinewidth": 0,
              "ticks": ""
             }
            },
            "type": "scatterpolar"
           }
          ],
          "scatterpolargl": [
           {
            "marker": {
             "colorbar": {
              "outlinewidth": 0,
              "ticks": ""
             }
            },
            "type": "scatterpolargl"
           }
          ],
          "scatterternary": [
           {
            "marker": {
             "colorbar": {
              "outlinewidth": 0,
              "ticks": ""
             }
            },
            "type": "scatterternary"
           }
          ],
          "surface": [
           {
            "colorbar": {
             "outlinewidth": 0,
             "ticks": ""
            },
            "colorscale": [
             [
              0,
              "#0d0887"
             ],
             [
              0.1111111111111111,
              "#46039f"
             ],
             [
              0.2222222222222222,
              "#7201a8"
             ],
             [
              0.3333333333333333,
              "#9c179e"
             ],
             [
              0.4444444444444444,
              "#bd3786"
             ],
             [
              0.5555555555555556,
              "#d8576b"
             ],
             [
              0.6666666666666666,
              "#ed7953"
             ],
             [
              0.7777777777777778,
              "#fb9f3a"
             ],
             [
              0.8888888888888888,
              "#fdca26"
             ],
             [
              1,
              "#f0f921"
             ]
            ],
            "type": "surface"
           }
          ],
          "table": [
           {
            "cells": {
             "fill": {
              "color": "#EBF0F8"
             },
             "line": {
              "color": "white"
             }
            },
            "header": {
             "fill": {
              "color": "#C8D4E3"
             },
             "line": {
              "color": "white"
             }
            },
            "type": "table"
           }
          ]
         },
         "layout": {
          "annotationdefaults": {
           "arrowcolor": "#2a3f5f",
           "arrowhead": 0,
           "arrowwidth": 1
          },
          "colorscale": {
           "diverging": [
            [
             0,
             "#8e0152"
            ],
            [
             0.1,
             "#c51b7d"
            ],
            [
             0.2,
             "#de77ae"
            ],
            [
             0.3,
             "#f1b6da"
            ],
            [
             0.4,
             "#fde0ef"
            ],
            [
             0.5,
             "#f7f7f7"
            ],
            [
             0.6,
             "#e6f5d0"
            ],
            [
             0.7,
             "#b8e186"
            ],
            [
             0.8,
             "#7fbc41"
            ],
            [
             0.9,
             "#4d9221"
            ],
            [
             1,
             "#276419"
            ]
           ],
           "sequential": [
            [
             0,
             "#0d0887"
            ],
            [
             0.1111111111111111,
             "#46039f"
            ],
            [
             0.2222222222222222,
             "#7201a8"
            ],
            [
             0.3333333333333333,
             "#9c179e"
            ],
            [
             0.4444444444444444,
             "#bd3786"
            ],
            [
             0.5555555555555556,
             "#d8576b"
            ],
            [
             0.6666666666666666,
             "#ed7953"
            ],
            [
             0.7777777777777778,
             "#fb9f3a"
            ],
            [
             0.8888888888888888,
             "#fdca26"
            ],
            [
             1,
             "#f0f921"
            ]
           ],
           "sequentialminus": [
            [
             0,
             "#0d0887"
            ],
            [
             0.1111111111111111,
             "#46039f"
            ],
            [
             0.2222222222222222,
             "#7201a8"
            ],
            [
             0.3333333333333333,
             "#9c179e"
            ],
            [
             0.4444444444444444,
             "#bd3786"
            ],
            [
             0.5555555555555556,
             "#d8576b"
            ],
            [
             0.6666666666666666,
             "#ed7953"
            ],
            [
             0.7777777777777778,
             "#fb9f3a"
            ],
            [
             0.8888888888888888,
             "#fdca26"
            ],
            [
             1,
             "#f0f921"
            ]
           ]
          },
          "colorway": [
           "#636efa",
           "#EF553B",
           "#00cc96",
           "#ab63fa",
           "#FFA15A",
           "#19d3f3",
           "#FF6692",
           "#B6E880",
           "#FF97FF",
           "#FECB52"
          ],
          "font": {
           "color": "#2a3f5f"
          },
          "geo": {
           "bgcolor": "white",
           "lakecolor": "white",
           "landcolor": "#E5ECF6",
           "showlakes": true,
           "showland": true,
           "subunitcolor": "white"
          },
          "hoverlabel": {
           "align": "left"
          },
          "hovermode": "closest",
          "mapbox": {
           "style": "light"
          },
          "paper_bgcolor": "white",
          "plot_bgcolor": "#E5ECF6",
          "polar": {
           "angularaxis": {
            "gridcolor": "white",
            "linecolor": "white",
            "ticks": ""
           },
           "bgcolor": "#E5ECF6",
           "radialaxis": {
            "gridcolor": "white",
            "linecolor": "white",
            "ticks": ""
           }
          },
          "scene": {
           "xaxis": {
            "backgroundcolor": "#E5ECF6",
            "gridcolor": "white",
            "gridwidth": 2,
            "linecolor": "white",
            "showbackground": true,
            "ticks": "",
            "zerolinecolor": "white"
           },
           "yaxis": {
            "backgroundcolor": "#E5ECF6",
            "gridcolor": "white",
            "gridwidth": 2,
            "linecolor": "white",
            "showbackground": true,
            "ticks": "",
            "zerolinecolor": "white"
           },
           "zaxis": {
            "backgroundcolor": "#E5ECF6",
            "gridcolor": "white",
            "gridwidth": 2,
            "linecolor": "white",
            "showbackground": true,
            "ticks": "",
            "zerolinecolor": "white"
           }
          },
          "shapedefaults": {
           "line": {
            "color": "#2a3f5f"
           }
          },
          "ternary": {
           "aaxis": {
            "gridcolor": "white",
            "linecolor": "white",
            "ticks": ""
           },
           "baxis": {
            "gridcolor": "white",
            "linecolor": "white",
            "ticks": ""
           },
           "bgcolor": "#E5ECF6",
           "caxis": {
            "gridcolor": "white",
            "linecolor": "white",
            "ticks": ""
           }
          },
          "title": {
           "x": 0.05
          },
          "xaxis": {
           "automargin": true,
           "gridcolor": "white",
           "linecolor": "white",
           "ticks": "",
           "zerolinecolor": "white",
           "zerolinewidth": 2
          },
          "yaxis": {
           "automargin": true,
           "gridcolor": "white",
           "linecolor": "white",
           "ticks": "",
           "zerolinecolor": "white",
           "zerolinewidth": 2
          }
         }
        }
       }
      },
      "text/html": [
       "<div>\n",
       "        \n",
       "        \n",
       "            <div id=\"a85e9bc2-ce0c-45eb-8b8d-9ad9e64aff27\" class=\"plotly-graph-div\" style=\"height:525px; width:100%;\"></div>\n",
       "            <script type=\"text/javascript\">\n",
       "                require([\"plotly\"], function(Plotly) {\n",
       "                    window.PLOTLYENV=window.PLOTLYENV || {};\n",
       "                    \n",
       "                if (document.getElementById(\"a85e9bc2-ce0c-45eb-8b8d-9ad9e64aff27\")) {\n",
       "                    Plotly.newPlot(\n",
       "                        'a85e9bc2-ce0c-45eb-8b8d-9ad9e64aff27',\n",
       "                        [{\"marker\": {\"color\": \"red\", \"size\": 5}, \"mode\": \"markers\", \"name\": \"Correct Location\", \"type\": \"scatter\", \"x\": [73.41277143983821, 21.511040788132775, 78.61513471577314, 42.7855034415329, 54.410453626095304, 11.266022654545083, 78.04797650149797, 0.9693869005016342, 35.874973982826994, 23.462879991398033, 98.6135796058994, 67.28966417208999, 45.56135005204966, 27.061375998005577, 91.15863477310684, 5.4198875942836455, 9.698632047120492, 45.62644771721514, 40.75646065576799, 37.24086455284687, 81.80486627938598, 30.946267121927672, 98.01581444491305, 5.143848400979312, 21.010214535397086, 97.32676454941094, 50.82400320334111, 86.27542653404178, 10.51984710938635, 18.826123850715447, 42.56317464034719, 52.589057447192246, 52.24784191068053, 38.71007034614993, 0.5286687761940412, 13.62855959973448, 64.59764664586504, 46.21513605853475, 92.36399079235808, 0.10743575771166025, 16.149168695107406, 29.420742124185693, 11.308020208610959, 62.83891359132365, 46.62319787269011, 79.22751559721137, 35.62557894449522, 42.113134679992534, 34.68131252757048, 39.97287917207607, 88.42389048617727, 7.769865602965586, 63.329883630377935, 23.424216156001986, 5.059968952633698, 32.683968492250834, 40.397743065485024, 66.89180959412285, 93.19588323095086, 41.869396308094295, 82.39720918937465, 83.1473166110041, 37.34085418912709, 64.13089976149945, 65.09006687136886, 87.37710806431517, 98.62212351818941, 26.55596892887283, 65.66341221909265, 83.26207316105383, 11.612373151537692, 48.63890014618022, 50.056443566754524, 56.32509443048127, 10.960259082197666, 5.916913717976346, 21.515866550906182, 92.5252944841643, 99.52918798587204, 93.51495966492368, 91.27801067977094, 0.022431072136785968, 90.96184021492924, 24.356939755830453, 64.7963186626539, 77.27485116015711, 86.39042830226289, 17.120637768142586, 20.156289701008014, 75.60229947704312], \"y\": [57.52690036732706, 70.12199372562566, 9.195223830094735, 28.554880982641507, 86.44831398803225, 5.148256013601005, 1.118495986385959, 56.7800745361291, 59.36957627453396, 64.82614611560261, 20.53920317438722, 78.1437847835718, 33.8397114493695, 82.80491774134491, 78.26054387516545, 90.73868628150726, 83.45276705465515, 91.44786768150307, 24.58537728089315, 75.78662749496694, 65.14385790145766, 8.013571897432614, 40.151413821406955, 12.469179972423062, 79.80212377428334, 94.91930820343909, 55.86965438981254, 89.6964234330075, 75.37071523013327, 58.69566632020427, 83.33610773558068, 32.239804126991835, 20.35953063682693, 11.2230087074221, 83.04513780703499, 17.10186284740518, 64.60097163890806, 67.45182693538409, 27.71108062454285, 97.74362383133169, 33.48007774204369, 48.69419039004048, 70.23799012383107, 66.11114244961277, 88.97518649803104, 72.7966780167168, 46.19346653312647, 56.086559457411376, 31.155363971802263, 76.3073723017339, 67.11986509585259, 65.32386147900749, 67.47431380884724, 74.2068358637859, 33.70499506660255, 89.6446803043005, 80.2316449111521, 11.047070108275935, 12.601170650734794, 24.39160172769581, 48.21191967510296, 25.6417540354296, 39.40834335865142, 34.46625313083732, 42.085421036946904, 45.472601033041094, 67.23384665825664, 45.3027126414267, 54.94175588966994, 10.90622834893229, 67.77055461258897, 1.31023242444257, 74.20041070753214, 89.40677934355577, 46.904822397430536, 14.330591164498863, 6.842189042042035, 54.5636403547186, 25.622307079297236, 44.66141755775828, 98.56493014292805, 49.63323169045323, 93.20509243563747, 49.73263977278527, 58.39129764726674, 14.72693700380926, 65.40262507583915, 98.72131181646682, 58.43353770410605, 91.71796535364253]}, {\"marker\": {\"color\": \"blue\", \"size\": 5}, \"mode\": \"markers\", \"name\": \"Estimated Nodes\", \"type\": \"scatter\", \"x\": [74.39303881542057, 19.374080997788166, 78.45828857324851, 41.939686540132605, 54.06363871739641, 9.578777734860312, 76.99698684513662, -1.1526549798920165, 35.32619777771686, 21.012681012546675, 97.3802059489213, 66.1834561200986, 45.28864000548844, 26.864712982861082, 92.62099516035558, 3.222628076826954, 11.682608678330064, 46.2432370661729, 40.54829400874001, 37.744619642314056, 81.79918449572729, 26.250726359334035, 96.48735485410118, 3.1221859672079915, 30.02461724611832, 96.4041669479057, 52.673654920334535, 87.50957202805846, 9.418038097594765, 18.480050876185896, 39.02325501143522, 53.44139621470716, 52.069835938573185, 39.58063893662317, 1.65928470491213, 15.269666915785848, 61.927954535769494, 48.032879507436405, 92.20040473795086, 0.6366073871844341, 13.661439053485553, 32.10094949364763, 10.25460165734456, 62.656884891126936, 47.052843360438146, 77.1978987301285, 30.15404748833559, 43.56262434669594, 35.2199278955709, 39.3853106990976, 87.518404468372, 9.211642563278238, 63.270363822976925, 25.152088194270693, 3.7589624308875735, 32.56532375293061, 39.509820427132944, 64.97627072282059, 94.31524434369972, 41.73386386532278, 87.76281075803665, 81.1337689833871, 35.25362655933854, 62.82450473195437, 66.6161935608216, 84.79820492847894, 99.98236470866023, 26.00981432754342, 64.37544095954378, 81.6226325048309, 10.82426554344874, 50.65886766171409, 50.62167402844125, 57.18308580136975, 12.822112988897691, 6.914571918661989, 22.855034985559286, 91.11821403895465, 97.73944070914119, 94.09045372006705, 89.5867263801224, 1.5425856400959084, 92.00904782773476, 24.866696894273854, 67.44201116575182, 77.24475829711093, 85.26678435613333, 17.038802794109916, 21.763426663168104, 77.12960448263387], \"y\": [57.410236077380034, 71.35485792074483, 9.92305122872194, 27.559833212844236, 86.8328583722431, 4.653820683993456, 0.20298756548955646, 56.791684921015275, 60.37669988377797, 65.33457554087822, 21.482726853993956, 77.26183053319745, 33.230014067340235, 82.57698540771493, 78.96690091969187, 91.68118127138611, 84.94560663095479, 90.75418982503827, 24.014417731832697, 77.95514315432882, 65.70186554683589, 14.83351065972211, 39.286713591937975, 11.772667637227793, 76.02407799294717, 94.97892198714449, 57.3766226239725, 91.36645761695455, 74.60395497796985, 58.26002707402711, 85.48265024112045, 32.38190191031802, 19.008327960251993, 9.346186461443123, 83.36504441175944, 16.764582333313278, 64.78165182832957, 68.21751697509193, 28.005017767004997, 99.45440500853043, 34.49561800425125, 48.31225118037474, 69.64844866797763, 66.50177422134176, 89.65698240885821, 72.69655187134398, 41.441678052162615, 54.624117660811926, 33.49585515022858, 76.94221511317859, 67.51964820444246, 64.31309537940109, 67.68076248435146, 78.33054567034507, 33.68431403349811, 92.24901241098132, 80.82716984950203, 11.803957423151695, 10.775955465198905, 24.86970814409321, 49.57108325374161, 26.45470268156687, 39.338077172653705, 34.49447067243781, 42.57368340233774, 43.733969817319945, 68.66928529983267, 45.022857747170185, 55.921016600964485, 12.451703207271747, 68.190220243976, 0.7247966413171673, 73.09429042002485, 88.41483521631237, 48.14797229453916, 13.513003188222319, 10.311181306530562, 54.533411683925124, 24.889338924685834, 43.658267297776455, 97.66485317443522, 49.6667398335233, 93.35816472278509, 49.38292126137884, 58.47302206045352, 15.586197484234766, 64.2595042682539, 96.38217319890778, 57.87244883991499, 93.88878430660786]}, {\"marker\": {\"color\": \"black\", \"size\": 5}, \"mode\": \"markers\", \"name\": \"Black Nodes (0)\", \"type\": \"scatter\", \"x\": [], \"y\": []}, {\"marker\": {\"color\": \"black\", \"line\": {\"color\": \"black\", \"width\": 1}, \"size\": 10}, \"mode\": \"lines\", \"name\": \"Node 10\", \"type\": \"scatter\", \"x\": [73.41277143983821, 74.39303881542057], \"y\": [57.52690036732706, 57.410236077380034]}, {\"marker\": {\"color\": \"black\", \"line\": {\"color\": \"black\", \"width\": 1}, \"size\": 10}, \"mode\": \"lines\", \"name\": \"Node 11\", \"type\": \"scatter\", \"x\": [21.511040788132775, 19.374080997788166], \"y\": [70.12199372562566, 71.35485792074483]}, {\"marker\": {\"color\": \"black\", \"line\": {\"color\": \"black\", \"width\": 1}, \"size\": 10}, \"mode\": \"lines\", \"name\": \"Node 12\", \"type\": \"scatter\", \"x\": [78.61513471577314, 78.45828857324851], \"y\": [9.195223830094735, 9.92305122872194]}, {\"marker\": {\"color\": \"black\", \"line\": {\"color\": \"black\", \"width\": 1}, \"size\": 10}, \"mode\": \"lines\", \"name\": \"Node 13\", \"type\": \"scatter\", \"x\": [42.7855034415329, 41.939686540132605], \"y\": [28.554880982641507, 27.559833212844236]}, {\"marker\": {\"color\": \"black\", \"line\": {\"color\": \"black\", \"width\": 1}, \"size\": 10}, \"mode\": \"lines\", \"name\": \"Node 14\", \"type\": \"scatter\", \"x\": [54.410453626095304, 54.06363871739641], \"y\": [86.44831398803225, 86.8328583722431]}, {\"marker\": {\"color\": \"black\", \"line\": {\"color\": \"black\", \"width\": 1}, \"size\": 10}, \"mode\": \"lines\", \"name\": \"Node 15\", \"type\": \"scatter\", \"x\": [11.266022654545083, 9.578777734860312], \"y\": [5.148256013601005, 4.653820683993456]}, {\"marker\": {\"color\": \"black\", \"line\": {\"color\": \"black\", \"width\": 1}, \"size\": 10}, \"mode\": \"lines\", \"name\": \"Node 16\", \"type\": \"scatter\", \"x\": [78.04797650149797, 76.99698684513662], \"y\": [1.118495986385959, 0.20298756548955646]}, {\"marker\": {\"color\": \"black\", \"line\": {\"color\": \"black\", \"width\": 1}, \"size\": 10}, \"mode\": \"lines\", \"name\": \"Node 17\", \"type\": \"scatter\", \"x\": [0.9693869005016342, -1.1526549798920165], \"y\": [56.7800745361291, 56.791684921015275]}, {\"marker\": {\"color\": \"black\", \"line\": {\"color\": \"black\", \"width\": 1}, \"size\": 10}, \"mode\": \"lines\", \"name\": \"Node 18\", \"type\": \"scatter\", \"x\": [35.874973982826994, 35.32619777771686], \"y\": [59.36957627453396, 60.37669988377797]}, {\"marker\": {\"color\": \"black\", \"line\": {\"color\": \"black\", \"width\": 1}, \"size\": 10}, \"mode\": \"lines\", \"name\": \"Node 19\", \"type\": \"scatter\", \"x\": [23.462879991398033, 21.012681012546675], \"y\": [64.82614611560261, 65.33457554087822]}, {\"marker\": {\"color\": \"black\", \"line\": {\"color\": \"black\", \"width\": 1}, \"size\": 10}, \"mode\": \"lines\", \"name\": \"Node 20\", \"type\": \"scatter\", \"x\": [98.6135796058994, 97.3802059489213], \"y\": [20.53920317438722, 21.482726853993956]}, {\"marker\": {\"color\": \"black\", \"line\": {\"color\": \"black\", \"width\": 1}, \"size\": 10}, \"mode\": \"lines\", \"name\": \"Node 21\", \"type\": \"scatter\", \"x\": [67.28966417208999, 66.1834561200986], \"y\": [78.1437847835718, 77.26183053319745]}, {\"marker\": {\"color\": \"black\", \"line\": {\"color\": \"black\", \"width\": 1}, \"size\": 10}, \"mode\": \"lines\", \"name\": \"Node 22\", \"type\": \"scatter\", \"x\": [45.56135005204966, 45.28864000548844], \"y\": [33.8397114493695, 33.230014067340235]}, {\"marker\": {\"color\": \"black\", \"line\": {\"color\": \"black\", \"width\": 1}, \"size\": 10}, \"mode\": \"lines\", \"name\": \"Node 23\", \"type\": \"scatter\", \"x\": [27.061375998005577, 26.864712982861082], \"y\": [82.80491774134491, 82.57698540771493]}, {\"marker\": {\"color\": \"black\", \"line\": {\"color\": \"black\", \"width\": 1}, \"size\": 10}, \"mode\": \"lines\", \"name\": \"Node 24\", \"type\": \"scatter\", \"x\": [91.15863477310684, 92.62099516035558], \"y\": [78.26054387516545, 78.96690091969187]}, {\"marker\": {\"color\": \"black\", \"line\": {\"color\": \"black\", \"width\": 1}, \"size\": 10}, \"mode\": \"lines\", \"name\": \"Node 25\", \"type\": \"scatter\", \"x\": [5.4198875942836455, 3.222628076826954], \"y\": [90.73868628150726, 91.68118127138611]}, {\"marker\": {\"color\": \"black\", \"line\": {\"color\": \"black\", \"width\": 1}, \"size\": 10}, \"mode\": \"lines\", \"name\": \"Node 26\", \"type\": \"scatter\", \"x\": [9.698632047120492, 11.682608678330064], \"y\": [83.45276705465515, 84.94560663095479]}, {\"marker\": {\"color\": \"black\", \"line\": {\"color\": \"black\", \"width\": 1}, \"size\": 10}, \"mode\": \"lines\", \"name\": \"Node 27\", \"type\": \"scatter\", \"x\": [45.62644771721514, 46.2432370661729], \"y\": [91.44786768150307, 90.75418982503827]}, {\"marker\": {\"color\": \"black\", \"line\": {\"color\": \"black\", \"width\": 1}, \"size\": 10}, \"mode\": \"lines\", \"name\": \"Node 28\", \"type\": \"scatter\", \"x\": [40.75646065576799, 40.54829400874001], \"y\": [24.58537728089315, 24.014417731832697]}, {\"marker\": {\"color\": \"black\", \"line\": {\"color\": \"black\", \"width\": 1}, \"size\": 10}, \"mode\": \"lines\", \"name\": \"Node 29\", \"type\": \"scatter\", \"x\": [37.24086455284687, 37.744619642314056], \"y\": [75.78662749496694, 77.95514315432882]}, {\"marker\": {\"color\": \"black\", \"line\": {\"color\": \"black\", \"width\": 1}, \"size\": 10}, \"mode\": \"lines\", \"name\": \"Node 30\", \"type\": \"scatter\", \"x\": [81.80486627938598, 81.79918449572729], \"y\": [65.14385790145766, 65.70186554683589]}, {\"marker\": {\"color\": \"black\", \"line\": {\"color\": \"black\", \"width\": 1}, \"size\": 10}, \"mode\": \"lines\", \"name\": \"Node 31\", \"type\": \"scatter\", \"x\": [30.946267121927672, 26.250726359334035], \"y\": [8.013571897432614, 14.83351065972211]}, {\"marker\": {\"color\": \"black\", \"line\": {\"color\": \"black\", \"width\": 1}, \"size\": 10}, \"mode\": \"lines\", \"name\": \"Node 32\", \"type\": \"scatter\", \"x\": [98.01581444491305, 96.48735485410118], \"y\": [40.151413821406955, 39.286713591937975]}, {\"marker\": {\"color\": \"black\", \"line\": {\"color\": \"black\", \"width\": 1}, \"size\": 10}, \"mode\": \"lines\", \"name\": \"Node 33\", \"type\": \"scatter\", \"x\": [5.143848400979312, 3.1221859672079915], \"y\": [12.469179972423062, 11.772667637227793]}, {\"marker\": {\"color\": \"black\", \"line\": {\"color\": \"black\", \"width\": 1}, \"size\": 10}, \"mode\": \"lines\", \"name\": \"Node 34\", \"type\": \"scatter\", \"x\": [21.010214535397086, 30.02461724611832], \"y\": [79.80212377428334, 76.02407799294717]}, {\"marker\": {\"color\": \"black\", \"line\": {\"color\": \"black\", \"width\": 1}, \"size\": 10}, \"mode\": \"lines\", \"name\": \"Node 35\", \"type\": \"scatter\", \"x\": [97.32676454941094, 96.4041669479057], \"y\": [94.91930820343909, 94.97892198714449]}, {\"marker\": {\"color\": \"black\", \"line\": {\"color\": \"black\", \"width\": 1}, \"size\": 10}, \"mode\": \"lines\", \"name\": \"Node 36\", \"type\": \"scatter\", \"x\": [50.82400320334111, 52.673654920334535], \"y\": [55.86965438981254, 57.3766226239725]}, {\"marker\": {\"color\": \"black\", \"line\": {\"color\": \"black\", \"width\": 1}, \"size\": 10}, \"mode\": \"lines\", \"name\": \"Node 37\", \"type\": \"scatter\", \"x\": [86.27542653404178, 87.50957202805846], \"y\": [89.6964234330075, 91.36645761695455]}, {\"marker\": {\"color\": \"black\", \"line\": {\"color\": \"black\", \"width\": 1}, \"size\": 10}, \"mode\": \"lines\", \"name\": \"Node 38\", \"type\": \"scatter\", \"x\": [10.51984710938635, 9.418038097594765], \"y\": [75.37071523013327, 74.60395497796985]}, {\"marker\": {\"color\": \"black\", \"line\": {\"color\": \"black\", \"width\": 1}, \"size\": 10}, \"mode\": \"lines\", \"name\": \"Node 39\", \"type\": \"scatter\", \"x\": [18.826123850715447, 18.480050876185896], \"y\": [58.69566632020427, 58.26002707402711]}, {\"marker\": {\"color\": \"black\", \"line\": {\"color\": \"black\", \"width\": 1}, \"size\": 10}, \"mode\": \"lines\", \"name\": \"Node 40\", \"type\": \"scatter\", \"x\": [42.56317464034719, 39.02325501143522], \"y\": [83.33610773558068, 85.48265024112045]}, {\"marker\": {\"color\": \"black\", \"line\": {\"color\": \"black\", \"width\": 1}, \"size\": 10}, \"mode\": \"lines\", \"name\": \"Node 41\", \"type\": \"scatter\", \"x\": [52.589057447192246, 53.44139621470716], \"y\": [32.239804126991835, 32.38190191031802]}, {\"marker\": {\"color\": \"black\", \"line\": {\"color\": \"black\", \"width\": 1}, \"size\": 10}, \"mode\": \"lines\", \"name\": \"Node 42\", \"type\": \"scatter\", \"x\": [52.24784191068053, 52.069835938573185], \"y\": [20.35953063682693, 19.008327960251993]}, {\"marker\": {\"color\": \"black\", \"line\": {\"color\": \"black\", \"width\": 1}, \"size\": 10}, \"mode\": \"lines\", \"name\": \"Node 43\", \"type\": \"scatter\", \"x\": [38.71007034614993, 39.58063893662317], \"y\": [11.2230087074221, 9.346186461443123]}, {\"marker\": {\"color\": \"black\", \"line\": {\"color\": \"black\", \"width\": 1}, \"size\": 10}, \"mode\": \"lines\", \"name\": \"Node 44\", \"type\": \"scatter\", \"x\": [0.5286687761940412, 1.65928470491213], \"y\": [83.04513780703499, 83.36504441175944]}, {\"marker\": {\"color\": \"black\", \"line\": {\"color\": \"black\", \"width\": 1}, \"size\": 10}, \"mode\": \"lines\", \"name\": \"Node 45\", \"type\": \"scatter\", \"x\": [13.62855959973448, 15.269666915785848], \"y\": [17.10186284740518, 16.764582333313278]}, {\"marker\": {\"color\": \"black\", \"line\": {\"color\": \"black\", \"width\": 1}, \"size\": 10}, \"mode\": \"lines\", \"name\": \"Node 46\", \"type\": \"scatter\", \"x\": [64.59764664586504, 61.927954535769494], \"y\": [64.60097163890806, 64.78165182832957]}, {\"marker\": {\"color\": \"black\", \"line\": {\"color\": \"black\", \"width\": 1}, \"size\": 10}, \"mode\": \"lines\", \"name\": \"Node 47\", \"type\": \"scatter\", \"x\": [46.21513605853475, 48.032879507436405], \"y\": [67.45182693538409, 68.21751697509193]}, {\"marker\": {\"color\": \"black\", \"line\": {\"color\": \"black\", \"width\": 1}, \"size\": 10}, \"mode\": \"lines\", \"name\": \"Node 48\", \"type\": \"scatter\", \"x\": [92.36399079235808, 92.20040473795086], \"y\": [27.71108062454285, 28.005017767004997]}, {\"marker\": {\"color\": \"black\", \"line\": {\"color\": \"black\", \"width\": 1}, \"size\": 10}, \"mode\": \"lines\", \"name\": \"Node 49\", \"type\": \"scatter\", \"x\": [0.10743575771166025, 0.6366073871844341], \"y\": [97.74362383133169, 99.45440500853043]}, {\"marker\": {\"color\": \"black\", \"line\": {\"color\": \"black\", \"width\": 1}, \"size\": 10}, \"mode\": \"lines\", \"name\": \"Node 50\", \"type\": \"scatter\", \"x\": [16.149168695107406, 13.661439053485553], \"y\": [33.48007774204369, 34.49561800425125]}, {\"marker\": {\"color\": \"black\", \"line\": {\"color\": \"black\", \"width\": 1}, \"size\": 10}, \"mode\": \"lines\", \"name\": \"Node 51\", \"type\": \"scatter\", \"x\": [29.420742124185693, 32.10094949364763], \"y\": [48.69419039004048, 48.31225118037474]}, {\"marker\": {\"color\": \"black\", \"line\": {\"color\": \"black\", \"width\": 1}, \"size\": 10}, \"mode\": \"lines\", \"name\": \"Node 52\", \"type\": \"scatter\", \"x\": [11.308020208610959, 10.25460165734456], \"y\": [70.23799012383107, 69.64844866797763]}, {\"marker\": {\"color\": \"black\", \"line\": {\"color\": \"black\", \"width\": 1}, \"size\": 10}, \"mode\": \"lines\", \"name\": \"Node 53\", \"type\": \"scatter\", \"x\": [62.83891359132365, 62.656884891126936], \"y\": [66.11114244961277, 66.50177422134176]}, {\"marker\": {\"color\": \"black\", \"line\": {\"color\": \"black\", \"width\": 1}, \"size\": 10}, \"mode\": \"lines\", \"name\": \"Node 54\", \"type\": \"scatter\", \"x\": [46.62319787269011, 47.052843360438146], \"y\": [88.97518649803104, 89.65698240885821]}, {\"marker\": {\"color\": \"black\", \"line\": {\"color\": \"black\", \"width\": 1}, \"size\": 10}, \"mode\": \"lines\", \"name\": \"Node 55\", \"type\": \"scatter\", \"x\": [79.22751559721137, 77.1978987301285], \"y\": [72.7966780167168, 72.69655187134398]}, {\"marker\": {\"color\": \"black\", \"line\": {\"color\": \"black\", \"width\": 1}, \"size\": 10}, \"mode\": \"lines\", \"name\": \"Node 56\", \"type\": \"scatter\", \"x\": [35.62557894449522, 30.15404748833559], \"y\": [46.19346653312647, 41.441678052162615]}, {\"marker\": {\"color\": \"black\", \"line\": {\"color\": \"black\", \"width\": 1}, \"size\": 10}, \"mode\": \"lines\", \"name\": \"Node 57\", \"type\": \"scatter\", \"x\": [42.113134679992534, 43.56262434669594], \"y\": [56.086559457411376, 54.624117660811926]}, {\"marker\": {\"color\": \"black\", \"line\": {\"color\": \"black\", \"width\": 1}, \"size\": 10}, \"mode\": \"lines\", \"name\": \"Node 58\", \"type\": \"scatter\", \"x\": [34.68131252757048, 35.2199278955709], \"y\": [31.155363971802263, 33.49585515022858]}, {\"marker\": {\"color\": \"black\", \"line\": {\"color\": \"black\", \"width\": 1}, \"size\": 10}, \"mode\": \"lines\", \"name\": \"Node 59\", \"type\": \"scatter\", \"x\": [39.97287917207607, 39.3853106990976], \"y\": [76.3073723017339, 76.94221511317859]}, {\"marker\": {\"color\": \"black\", \"line\": {\"color\": \"black\", \"width\": 1}, \"size\": 10}, \"mode\": \"lines\", \"name\": \"Node 60\", \"type\": \"scatter\", \"x\": [88.42389048617727, 87.518404468372], \"y\": [67.11986509585259, 67.51964820444246]}, {\"marker\": {\"color\": \"black\", \"line\": {\"color\": \"black\", \"width\": 1}, \"size\": 10}, \"mode\": \"lines\", \"name\": \"Node 61\", \"type\": \"scatter\", \"x\": [7.769865602965586, 9.211642563278238], \"y\": [65.32386147900749, 64.31309537940109]}, {\"marker\": {\"color\": \"black\", \"line\": {\"color\": \"black\", \"width\": 1}, \"size\": 10}, \"mode\": \"lines\", \"name\": \"Node 62\", \"type\": \"scatter\", \"x\": [63.329883630377935, 63.270363822976925], \"y\": [67.47431380884724, 67.68076248435146]}, {\"marker\": {\"color\": \"black\", \"line\": {\"color\": \"black\", \"width\": 1}, \"size\": 10}, \"mode\": \"lines\", \"name\": \"Node 63\", \"type\": \"scatter\", \"x\": [23.424216156001986, 25.152088194270693], \"y\": [74.2068358637859, 78.33054567034507]}, {\"marker\": {\"color\": \"black\", \"line\": {\"color\": \"black\", \"width\": 1}, \"size\": 10}, \"mode\": \"lines\", \"name\": \"Node 64\", \"type\": \"scatter\", \"x\": [5.059968952633698, 3.7589624308875735], \"y\": [33.70499506660255, 33.68431403349811]}, {\"marker\": {\"color\": \"black\", \"line\": {\"color\": \"black\", \"width\": 1}, \"size\": 10}, \"mode\": \"lines\", \"name\": \"Node 65\", \"type\": \"scatter\", \"x\": [32.683968492250834, 32.56532375293061], \"y\": [89.6446803043005, 92.24901241098132]}, {\"marker\": {\"color\": \"black\", \"line\": {\"color\": \"black\", \"width\": 1}, \"size\": 10}, \"mode\": \"lines\", \"name\": \"Node 66\", \"type\": \"scatter\", \"x\": [40.397743065485024, 39.509820427132944], \"y\": [80.2316449111521, 80.82716984950203]}, {\"marker\": {\"color\": \"black\", \"line\": {\"color\": \"black\", \"width\": 1}, \"size\": 10}, \"mode\": \"lines\", \"name\": \"Node 67\", \"type\": \"scatter\", \"x\": [66.89180959412285, 64.97627072282059], \"y\": [11.047070108275935, 11.803957423151695]}, {\"marker\": {\"color\": \"black\", \"line\": {\"color\": \"black\", \"width\": 1}, \"size\": 10}, \"mode\": \"lines\", \"name\": \"Node 68\", \"type\": \"scatter\", \"x\": [93.19588323095086, 94.31524434369972], \"y\": [12.601170650734794, 10.775955465198905]}, {\"marker\": {\"color\": \"black\", \"line\": {\"color\": \"black\", \"width\": 1}, \"size\": 10}, \"mode\": \"lines\", \"name\": \"Node 69\", \"type\": \"scatter\", \"x\": [41.869396308094295, 41.73386386532278], \"y\": [24.39160172769581, 24.86970814409321]}, {\"marker\": {\"color\": \"black\", \"line\": {\"color\": \"black\", \"width\": 1}, \"size\": 10}, \"mode\": \"lines\", \"name\": \"Node 70\", \"type\": \"scatter\", \"x\": [82.39720918937465, 87.76281075803665], \"y\": [48.21191967510296, 49.57108325374161]}, {\"marker\": {\"color\": \"black\", \"line\": {\"color\": \"black\", \"width\": 1}, \"size\": 10}, \"mode\": \"lines\", \"name\": \"Node 71\", \"type\": \"scatter\", \"x\": [83.1473166110041, 81.1337689833871], \"y\": [25.6417540354296, 26.45470268156687]}, {\"marker\": {\"color\": \"black\", \"line\": {\"color\": \"black\", \"width\": 1}, \"size\": 10}, \"mode\": \"lines\", \"name\": \"Node 72\", \"type\": \"scatter\", \"x\": [37.34085418912709, 35.25362655933854], \"y\": [39.40834335865142, 39.338077172653705]}, {\"marker\": {\"color\": \"black\", \"line\": {\"color\": \"black\", \"width\": 1}, \"size\": 10}, \"mode\": \"lines\", \"name\": \"Node 73\", \"type\": \"scatter\", \"x\": [64.13089976149945, 62.82450473195437], \"y\": [34.46625313083732, 34.49447067243781]}, {\"marker\": {\"color\": \"black\", \"line\": {\"color\": \"black\", \"width\": 1}, \"size\": 10}, \"mode\": \"lines\", \"name\": \"Node 74\", \"type\": \"scatter\", \"x\": [65.09006687136886, 66.6161935608216], \"y\": [42.085421036946904, 42.57368340233774]}, {\"marker\": {\"color\": \"black\", \"line\": {\"color\": \"black\", \"width\": 1}, \"size\": 10}, \"mode\": \"lines\", \"name\": \"Node 75\", \"type\": \"scatter\", \"x\": [87.37710806431517, 84.79820492847894], \"y\": [45.472601033041094, 43.733969817319945]}, {\"marker\": {\"color\": \"black\", \"line\": {\"color\": \"black\", \"width\": 1}, \"size\": 10}, \"mode\": \"lines\", \"name\": \"Node 76\", \"type\": \"scatter\", \"x\": [98.62212351818941, 99.98236470866023], \"y\": [67.23384665825664, 68.66928529983267]}, {\"marker\": {\"color\": \"black\", \"line\": {\"color\": \"black\", \"width\": 1}, \"size\": 10}, \"mode\": \"lines\", \"name\": \"Node 77\", \"type\": \"scatter\", \"x\": [26.55596892887283, 26.00981432754342], \"y\": [45.3027126414267, 45.022857747170185]}, {\"marker\": {\"color\": \"black\", \"line\": {\"color\": \"black\", \"width\": 1}, \"size\": 10}, \"mode\": \"lines\", \"name\": \"Node 78\", \"type\": \"scatter\", \"x\": [65.66341221909265, 64.37544095954378], \"y\": [54.94175588966994, 55.921016600964485]}, {\"marker\": {\"color\": \"black\", \"line\": {\"color\": \"black\", \"width\": 1}, \"size\": 10}, \"mode\": \"lines\", \"name\": \"Node 79\", \"type\": \"scatter\", \"x\": [83.26207316105383, 81.6226325048309], \"y\": [10.90622834893229, 12.451703207271747]}, {\"marker\": {\"color\": \"black\", \"line\": {\"color\": \"black\", \"width\": 1}, \"size\": 10}, \"mode\": \"lines\", \"name\": \"Node 80\", \"type\": \"scatter\", \"x\": [11.612373151537692, 10.82426554344874], \"y\": [67.77055461258897, 68.190220243976]}, {\"marker\": {\"color\": \"black\", \"line\": {\"color\": \"black\", \"width\": 1}, \"size\": 10}, \"mode\": \"lines\", \"name\": \"Node 81\", \"type\": \"scatter\", \"x\": [48.63890014618022, 50.65886766171409], \"y\": [1.31023242444257, 0.7247966413171673]}, {\"marker\": {\"color\": \"black\", \"line\": {\"color\": \"black\", \"width\": 1}, \"size\": 10}, \"mode\": \"lines\", \"name\": \"Node 82\", \"type\": \"scatter\", \"x\": [50.056443566754524, 50.62167402844125], \"y\": [74.20041070753214, 73.09429042002485]}, {\"marker\": {\"color\": \"black\", \"line\": {\"color\": \"black\", \"width\": 1}, \"size\": 10}, \"mode\": \"lines\", \"name\": \"Node 83\", \"type\": \"scatter\", \"x\": [56.32509443048127, 57.18308580136975], \"y\": [89.40677934355577, 88.41483521631237]}, {\"marker\": {\"color\": \"black\", \"line\": {\"color\": \"black\", \"width\": 1}, \"size\": 10}, \"mode\": \"lines\", \"name\": \"Node 84\", \"type\": \"scatter\", \"x\": [10.960259082197666, 12.822112988897691], \"y\": [46.904822397430536, 48.14797229453916]}, {\"marker\": {\"color\": \"black\", \"line\": {\"color\": \"black\", \"width\": 1}, \"size\": 10}, \"mode\": \"lines\", \"name\": \"Node 85\", \"type\": \"scatter\", \"x\": [5.916913717976346, 6.914571918661989], \"y\": [14.330591164498863, 13.513003188222319]}, {\"marker\": {\"color\": \"black\", \"line\": {\"color\": \"black\", \"width\": 1}, \"size\": 10}, \"mode\": \"lines\", \"name\": \"Node 86\", \"type\": \"scatter\", \"x\": [21.515866550906182, 22.855034985559286], \"y\": [6.842189042042035, 10.311181306530562]}, {\"marker\": {\"color\": \"black\", \"line\": {\"color\": \"black\", \"width\": 1}, \"size\": 10}, \"mode\": \"lines\", \"name\": \"Node 87\", \"type\": \"scatter\", \"x\": [92.5252944841643, 91.11821403895465], \"y\": [54.5636403547186, 54.533411683925124]}, {\"marker\": {\"color\": \"black\", \"line\": {\"color\": \"black\", \"width\": 1}, \"size\": 10}, \"mode\": \"lines\", \"name\": \"Node 88\", \"type\": \"scatter\", \"x\": [99.52918798587204, 97.73944070914119], \"y\": [25.622307079297236, 24.889338924685834]}, {\"marker\": {\"color\": \"black\", \"line\": {\"color\": \"black\", \"width\": 1}, \"size\": 10}, \"mode\": \"lines\", \"name\": \"Node 89\", \"type\": \"scatter\", \"x\": [93.51495966492368, 94.09045372006705], \"y\": [44.66141755775828, 43.658267297776455]}, {\"marker\": {\"color\": \"black\", \"line\": {\"color\": \"black\", \"width\": 1}, \"size\": 10}, \"mode\": \"lines\", \"name\": \"Node 90\", \"type\": \"scatter\", \"x\": [91.27801067977094, 89.5867263801224], \"y\": [98.56493014292805, 97.66485317443522]}, {\"marker\": {\"color\": \"black\", \"line\": {\"color\": \"black\", \"width\": 1}, \"size\": 10}, \"mode\": \"lines\", \"name\": \"Node 91\", \"type\": \"scatter\", \"x\": [0.022431072136785968, 1.5425856400959084], \"y\": [49.63323169045323, 49.6667398335233]}, {\"marker\": {\"color\": \"black\", \"line\": {\"color\": \"black\", \"width\": 1}, \"size\": 10}, \"mode\": \"lines\", \"name\": \"Node 92\", \"type\": \"scatter\", \"x\": [90.96184021492924, 92.00904782773476], \"y\": [93.20509243563747, 93.35816472278509]}, {\"marker\": {\"color\": \"black\", \"line\": {\"color\": \"black\", \"width\": 1}, \"size\": 10}, \"mode\": \"lines\", \"name\": \"Node 93\", \"type\": \"scatter\", \"x\": [24.356939755830453, 24.866696894273854], \"y\": [49.73263977278527, 49.38292126137884]}, {\"marker\": {\"color\": \"black\", \"line\": {\"color\": \"black\", \"width\": 1}, \"size\": 10}, \"mode\": \"lines\", \"name\": \"Node 94\", \"type\": \"scatter\", \"x\": [64.7963186626539, 67.44201116575182], \"y\": [58.39129764726674, 58.47302206045352]}, {\"marker\": {\"color\": \"black\", \"line\": {\"color\": \"black\", \"width\": 1}, \"size\": 10}, \"mode\": \"lines\", \"name\": \"Node 95\", \"type\": \"scatter\", \"x\": [77.27485116015711, 77.24475829711093], \"y\": [14.72693700380926, 15.586197484234766]}, {\"marker\": {\"color\": \"black\", \"line\": {\"color\": \"black\", \"width\": 1}, \"size\": 10}, \"mode\": \"lines\", \"name\": \"Node 96\", \"type\": \"scatter\", \"x\": [86.39042830226289, 85.26678435613333], \"y\": [65.40262507583915, 64.2595042682539]}, {\"marker\": {\"color\": \"black\", \"line\": {\"color\": \"black\", \"width\": 1}, \"size\": 10}, \"mode\": \"lines\", \"name\": \"Node 97\", \"type\": \"scatter\", \"x\": [17.120637768142586, 17.038802794109916], \"y\": [98.72131181646682, 96.38217319890778]}, {\"marker\": {\"color\": \"black\", \"line\": {\"color\": \"black\", \"width\": 1}, \"size\": 10}, \"mode\": \"lines\", \"name\": \"Node 98\", \"type\": \"scatter\", \"x\": [20.156289701008014, 21.763426663168104], \"y\": [58.43353770410605, 57.87244883991499]}, {\"marker\": {\"color\": \"black\", \"line\": {\"color\": \"black\", \"width\": 1}, \"size\": 10}, \"mode\": \"lines\", \"name\": \"Node 99\", \"type\": \"scatter\", \"x\": [75.60229947704312, 77.12960448263387], \"y\": [91.71796535364253, 93.88878430660786]}],\n",
       "                        {\"template\": {\"data\": {\"bar\": [{\"error_x\": {\"color\": \"#2a3f5f\"}, \"error_y\": {\"color\": \"#2a3f5f\"}, \"marker\": {\"line\": {\"color\": \"#E5ECF6\", \"width\": 0.5}}, \"type\": \"bar\"}], \"barpolar\": [{\"marker\": {\"line\": {\"color\": \"#E5ECF6\", \"width\": 0.5}}, \"type\": \"barpolar\"}], \"carpet\": [{\"aaxis\": {\"endlinecolor\": \"#2a3f5f\", \"gridcolor\": \"white\", \"linecolor\": \"white\", \"minorgridcolor\": \"white\", \"startlinecolor\": \"#2a3f5f\"}, \"baxis\": {\"endlinecolor\": \"#2a3f5f\", \"gridcolor\": \"white\", \"linecolor\": \"white\", \"minorgridcolor\": \"white\", \"startlinecolor\": \"#2a3f5f\"}, \"type\": \"carpet\"}], \"choropleth\": [{\"colorbar\": {\"outlinewidth\": 0, \"ticks\": \"\"}, \"type\": \"choropleth\"}], \"contour\": [{\"colorbar\": {\"outlinewidth\": 0, \"ticks\": \"\"}, \"colorscale\": [[0.0, \"#0d0887\"], [0.1111111111111111, \"#46039f\"], [0.2222222222222222, \"#7201a8\"], [0.3333333333333333, \"#9c179e\"], [0.4444444444444444, \"#bd3786\"], [0.5555555555555556, \"#d8576b\"], [0.6666666666666666, \"#ed7953\"], [0.7777777777777778, \"#fb9f3a\"], [0.8888888888888888, \"#fdca26\"], [1.0, \"#f0f921\"]], \"type\": \"contour\"}], \"contourcarpet\": [{\"colorbar\": {\"outlinewidth\": 0, \"ticks\": \"\"}, \"type\": \"contourcarpet\"}], \"heatmap\": [{\"colorbar\": {\"outlinewidth\": 0, \"ticks\": \"\"}, \"colorscale\": [[0.0, \"#0d0887\"], [0.1111111111111111, \"#46039f\"], [0.2222222222222222, \"#7201a8\"], [0.3333333333333333, \"#9c179e\"], [0.4444444444444444, \"#bd3786\"], [0.5555555555555556, \"#d8576b\"], [0.6666666666666666, \"#ed7953\"], [0.7777777777777778, \"#fb9f3a\"], [0.8888888888888888, \"#fdca26\"], [1.0, \"#f0f921\"]], \"type\": \"heatmap\"}], \"heatmapgl\": [{\"colorbar\": {\"outlinewidth\": 0, \"ticks\": \"\"}, \"colorscale\": [[0.0, \"#0d0887\"], [0.1111111111111111, \"#46039f\"], [0.2222222222222222, \"#7201a8\"], [0.3333333333333333, \"#9c179e\"], [0.4444444444444444, \"#bd3786\"], [0.5555555555555556, \"#d8576b\"], [0.6666666666666666, \"#ed7953\"], [0.7777777777777778, \"#fb9f3a\"], [0.8888888888888888, \"#fdca26\"], [1.0, \"#f0f921\"]], \"type\": \"heatmapgl\"}], \"histogram\": [{\"marker\": {\"colorbar\": {\"outlinewidth\": 0, \"ticks\": \"\"}}, \"type\": \"histogram\"}], \"histogram2d\": [{\"colorbar\": {\"outlinewidth\": 0, \"ticks\": \"\"}, \"colorscale\": [[0.0, \"#0d0887\"], [0.1111111111111111, \"#46039f\"], [0.2222222222222222, \"#7201a8\"], [0.3333333333333333, \"#9c179e\"], [0.4444444444444444, \"#bd3786\"], [0.5555555555555556, \"#d8576b\"], [0.6666666666666666, \"#ed7953\"], [0.7777777777777778, \"#fb9f3a\"], [0.8888888888888888, \"#fdca26\"], [1.0, \"#f0f921\"]], \"type\": \"histogram2d\"}], \"histogram2dcontour\": [{\"colorbar\": {\"outlinewidth\": 0, \"ticks\": \"\"}, \"colorscale\": [[0.0, \"#0d0887\"], [0.1111111111111111, \"#46039f\"], [0.2222222222222222, \"#7201a8\"], [0.3333333333333333, \"#9c179e\"], [0.4444444444444444, \"#bd3786\"], [0.5555555555555556, \"#d8576b\"], [0.6666666666666666, \"#ed7953\"], [0.7777777777777778, \"#fb9f3a\"], [0.8888888888888888, \"#fdca26\"], [1.0, \"#f0f921\"]], \"type\": \"histogram2dcontour\"}], \"mesh3d\": [{\"colorbar\": {\"outlinewidth\": 0, \"ticks\": \"\"}, \"type\": \"mesh3d\"}], \"parcoords\": [{\"line\": {\"colorbar\": {\"outlinewidth\": 0, \"ticks\": \"\"}}, \"type\": \"parcoords\"}], \"scatter\": [{\"marker\": {\"colorbar\": {\"outlinewidth\": 0, \"ticks\": \"\"}}, \"type\": \"scatter\"}], \"scatter3d\": [{\"line\": {\"colorbar\": {\"outlinewidth\": 0, \"ticks\": \"\"}}, \"marker\": {\"colorbar\": {\"outlinewidth\": 0, \"ticks\": \"\"}}, \"type\": \"scatter3d\"}], \"scattercarpet\": [{\"marker\": {\"colorbar\": {\"outlinewidth\": 0, \"ticks\": \"\"}}, \"type\": \"scattercarpet\"}], \"scattergeo\": [{\"marker\": {\"colorbar\": {\"outlinewidth\": 0, \"ticks\": \"\"}}, \"type\": \"scattergeo\"}], \"scattergl\": [{\"marker\": {\"colorbar\": {\"outlinewidth\": 0, \"ticks\": \"\"}}, \"type\": \"scattergl\"}], \"scattermapbox\": [{\"marker\": {\"colorbar\": {\"outlinewidth\": 0, \"ticks\": \"\"}}, \"type\": \"scattermapbox\"}], \"scatterpolar\": [{\"marker\": {\"colorbar\": {\"outlinewidth\": 0, \"ticks\": \"\"}}, \"type\": \"scatterpolar\"}], \"scatterpolargl\": [{\"marker\": {\"colorbar\": {\"outlinewidth\": 0, \"ticks\": \"\"}}, \"type\": \"scatterpolargl\"}], \"scatterternary\": [{\"marker\": {\"colorbar\": {\"outlinewidth\": 0, \"ticks\": \"\"}}, \"type\": \"scatterternary\"}], \"surface\": [{\"colorbar\": {\"outlinewidth\": 0, \"ticks\": \"\"}, \"colorscale\": [[0.0, \"#0d0887\"], [0.1111111111111111, \"#46039f\"], [0.2222222222222222, \"#7201a8\"], [0.3333333333333333, \"#9c179e\"], [0.4444444444444444, \"#bd3786\"], [0.5555555555555556, \"#d8576b\"], [0.6666666666666666, \"#ed7953\"], [0.7777777777777778, \"#fb9f3a\"], [0.8888888888888888, \"#fdca26\"], [1.0, \"#f0f921\"]], \"type\": \"surface\"}], \"table\": [{\"cells\": {\"fill\": {\"color\": \"#EBF0F8\"}, \"line\": {\"color\": \"white\"}}, \"header\": {\"fill\": {\"color\": \"#C8D4E3\"}, \"line\": {\"color\": \"white\"}}, \"type\": \"table\"}]}, \"layout\": {\"annotationdefaults\": {\"arrowcolor\": \"#2a3f5f\", \"arrowhead\": 0, \"arrowwidth\": 1}, \"colorscale\": {\"diverging\": [[0, \"#8e0152\"], [0.1, \"#c51b7d\"], [0.2, \"#de77ae\"], [0.3, \"#f1b6da\"], [0.4, \"#fde0ef\"], [0.5, \"#f7f7f7\"], [0.6, \"#e6f5d0\"], [0.7, \"#b8e186\"], [0.8, \"#7fbc41\"], [0.9, \"#4d9221\"], [1, \"#276419\"]], \"sequential\": [[0.0, \"#0d0887\"], [0.1111111111111111, \"#46039f\"], [0.2222222222222222, \"#7201a8\"], [0.3333333333333333, \"#9c179e\"], [0.4444444444444444, \"#bd3786\"], [0.5555555555555556, \"#d8576b\"], [0.6666666666666666, \"#ed7953\"], [0.7777777777777778, \"#fb9f3a\"], [0.8888888888888888, \"#fdca26\"], [1.0, \"#f0f921\"]], \"sequentialminus\": [[0.0, \"#0d0887\"], [0.1111111111111111, \"#46039f\"], [0.2222222222222222, \"#7201a8\"], [0.3333333333333333, \"#9c179e\"], [0.4444444444444444, \"#bd3786\"], [0.5555555555555556, \"#d8576b\"], [0.6666666666666666, \"#ed7953\"], [0.7777777777777778, \"#fb9f3a\"], [0.8888888888888888, \"#fdca26\"], [1.0, \"#f0f921\"]]}, \"colorway\": [\"#636efa\", \"#EF553B\", \"#00cc96\", \"#ab63fa\", \"#FFA15A\", \"#19d3f3\", \"#FF6692\", \"#B6E880\", \"#FF97FF\", \"#FECB52\"], \"font\": {\"color\": \"#2a3f5f\"}, \"geo\": {\"bgcolor\": \"white\", \"lakecolor\": \"white\", \"landcolor\": \"#E5ECF6\", \"showlakes\": true, \"showland\": true, \"subunitcolor\": \"white\"}, \"hoverlabel\": {\"align\": \"left\"}, \"hovermode\": \"closest\", \"mapbox\": {\"style\": \"light\"}, \"paper_bgcolor\": \"white\", \"plot_bgcolor\": \"#E5ECF6\", \"polar\": {\"angularaxis\": {\"gridcolor\": \"white\", \"linecolor\": \"white\", \"ticks\": \"\"}, \"bgcolor\": \"#E5ECF6\", \"radialaxis\": {\"gridcolor\": \"white\", \"linecolor\": \"white\", \"ticks\": \"\"}}, \"scene\": {\"xaxis\": {\"backgroundcolor\": \"#E5ECF6\", \"gridcolor\": \"white\", \"gridwidth\": 2, \"linecolor\": \"white\", \"showbackground\": true, \"ticks\": \"\", \"zerolinecolor\": \"white\"}, \"yaxis\": {\"backgroundcolor\": \"#E5ECF6\", \"gridcolor\": \"white\", \"gridwidth\": 2, \"linecolor\": \"white\", \"showbackground\": true, \"ticks\": \"\", \"zerolinecolor\": \"white\"}, \"zaxis\": {\"backgroundcolor\": \"#E5ECF6\", \"gridcolor\": \"white\", \"gridwidth\": 2, \"linecolor\": \"white\", \"showbackground\": true, \"ticks\": \"\", \"zerolinecolor\": \"white\"}}, \"shapedefaults\": {\"line\": {\"color\": \"#2a3f5f\"}}, \"ternary\": {\"aaxis\": {\"gridcolor\": \"white\", \"linecolor\": \"white\", \"ticks\": \"\"}, \"baxis\": {\"gridcolor\": \"white\", \"linecolor\": \"white\", \"ticks\": \"\"}, \"bgcolor\": \"#E5ECF6\", \"caxis\": {\"gridcolor\": \"white\", \"linecolor\": \"white\", \"ticks\": \"\"}}, \"title\": {\"x\": 0.05}, \"xaxis\": {\"automargin\": true, \"gridcolor\": \"white\", \"linecolor\": \"white\", \"ticks\": \"\", \"zerolinecolor\": \"white\", \"zerolinewidth\": 2}, \"yaxis\": {\"automargin\": true, \"gridcolor\": \"white\", \"linecolor\": \"white\", \"ticks\": \"\", \"zerolinecolor\": \"white\", \"zerolinewidth\": 2}}}},\n",
       "                        {\"responsive\": true}\n",
       "                    ).then(function(){\n",
       "                            \n",
       "var gd = document.getElementById('a85e9bc2-ce0c-45eb-8b8d-9ad9e64aff27');\n",
       "var x = new MutationObserver(function (mutations, observer) {{\n",
       "        var display = window.getComputedStyle(gd).display;\n",
       "        if (!display || display === 'none') {{\n",
       "            console.log([gd, 'removed!']);\n",
       "            Plotly.purge(gd);\n",
       "            observer.disconnect();\n",
       "        }}\n",
       "}});\n",
       "\n",
       "// Listen for the removal of the full notebook cells\n",
       "var notebookContainer = gd.closest('#notebook-container');\n",
       "if (notebookContainer) {{\n",
       "    x.observe(notebookContainer, {childList: true});\n",
       "}}\n",
       "\n",
       "// Listen for the clearing of the current output cell\n",
       "var outputEl = gd.closest('.output');\n",
       "if (outputEl) {{\n",
       "    x.observe(outputEl, {childList: true});\n",
       "}}\n",
       "\n",
       "                        })\n",
       "                };\n",
       "                });\n",
       "            </script>\n",
       "        </div>"
      ]
     },
     "metadata": {},
     "output_type": "display_data"
    }
   ],
   "source": [
    "iplot(data)"
   ]
  },
  {
   "cell_type": "code",
   "execution_count": 78,
   "metadata": {
    "ExecuteTime": {
     "end_time": "2019-12-26T10:35:05.020112Z",
     "start_time": "2019-12-26T10:35:04.993134Z"
    }
   },
   "outputs": [],
   "source": [
    "\"\"\"\n",
    "    generateNodes(N, L, R, r, f)\n",
    "\"\"\"\n",
    "nodes = generateNodes(100, 100, 0, 0, 10)\n",
    "\n",
    "\"\"\"\n",
    "    findNeighbours(nodes, R)\n",
    "\"\"\"\n",
    "nodes = findNeighbours(nodes, 25)\n",
    "\n",
    "ErrorHeuristic1 = 0\n",
    "ErrorHeuristic2 = 0"
   ]
  },
  {
   "cell_type": "code",
   "execution_count": 79,
   "metadata": {
    "ExecuteTime": {
     "end_time": "2019-12-26T10:36:39.665226Z",
     "start_time": "2019-12-26T10:36:39.658208Z"
    }
   },
   "outputs": [],
   "source": [
    "def calculateError(nodes, N, f):\n",
    "    estimated = 0\n",
    "    error = 0\n",
    "    for idx in range(len(nodes)):\n",
    "        if nodes[idx].isAnchor > 1:\n",
    "            estimated = estimated + 1\n",
    "            error = error + nodes[idx].getErrorOfEstimation()\n",
    "    return error/(N-f)"
   ]
  },
  {
   "cell_type": "markdown",
   "metadata": {},
   "source": [
    "# ------------------------------------------------------------------------------------------------------------\n",
    "# МЕТРИКА 1\n",
    "## Просечна вредност на грешка (error) на 20 топологии\n",
    "\n",
    "# ------------------------------------------------------------------------------------------------------------"
   ]
  },
  {
   "cell_type": "markdown",
   "metadata": {},
   "source": [
    "# PLOT 1\n",
    "\n",
    "## Фракција на anchor nodes vs Error"
   ]
  },
  {
   "cell_type": "code",
   "execution_count": 80,
   "metadata": {
    "ExecuteTime": {
     "end_time": "2019-12-26T10:36:44.918351Z",
     "start_time": "2019-12-26T10:36:43.574545Z"
    }
   },
   "outputs": [
    {
     "name": "stdout",
     "output_type": "stream",
     "text": [
      "[2.180103725259584, 1.9581225689415902, 1.750288196106299, 1.694811502733387, 1.7493165988536739]\n"
     ]
    }
   ],
   "source": [
    "N = 100\n",
    "L = 100\n",
    "R = 30\n",
    "r = 10\n",
    "# f = {10,20,30,40,50}\n",
    "heuristic = 1\n",
    "errorsH1 = []\n",
    "\n",
    "nodes = None\n",
    "for f in range(10, 51, 10):\n",
    "    error = 0\n",
    "    for i in range(0, 20):\n",
    "        nodes = generateNodes(N, L, R, r, f)\n",
    "        nodes = findNeighbours(nodes, R)\n",
    "        nodes = estimateLocations(nodes, heuristic)\n",
    "        error = error + calculateError(nodes, N, f)\n",
    "    errorsH1.append(error/20)\n",
    "\n",
    "print(errorsH1)"
   ]
  },
  {
   "cell_type": "code",
   "execution_count": 81,
   "metadata": {
    "ExecuteTime": {
     "end_time": "2019-12-26T10:36:54.310488Z",
     "start_time": "2019-12-26T10:36:53.112032Z"
    }
   },
   "outputs": [
    {
     "name": "stdout",
     "output_type": "stream",
     "text": [
      "[3.935859869443089, 3.7161774165083346, 3.720669803314087, 3.7756924052144454, 3.6639523204958087]\n"
     ]
    }
   ],
   "source": [
    "heuristic = 2\n",
    "errorsH2 = []\n",
    "\n",
    "nodes = None\n",
    "for f in range(10, 51, 10):\n",
    "    error = 0\n",
    "    for i in range(0, 20):\n",
    "        nodes = generateNodes(N, L, R, r, f)\n",
    "        nodes = findNeighbours(nodes, R)\n",
    "        nodes = estimateLocations(nodes, heuristic)\n",
    "        error = error + calculateError(nodes, N, f)\n",
    "    errorsH2.append(error/20)\n",
    "\n",
    "print(errorsH2)"
   ]
  },
  {
   "cell_type": "code",
   "execution_count": 82,
   "metadata": {
    "ExecuteTime": {
     "end_time": "2019-12-26T10:37:00.435072Z",
     "start_time": "2019-12-26T10:37:00.132882Z"
    }
   },
   "outputs": [
    {
     "data": {
      "application/vnd.plotly.v1+json": {
       "config": {
        "linkText": "Export to plot.ly",
        "plotlyServerURL": "https://plot.ly",
        "showLink": false
       },
       "data": [
        {
         "mode": "lines",
         "name": "Heuristic1",
         "type": "scatter",
         "x": [
          10,
          20,
          30,
          40,
          50
         ],
         "y": [
          2.180103725259584,
          1.9581225689415902,
          1.750288196106299,
          1.694811502733387,
          1.7493165988536739
         ]
        },
        {
         "mode": "lines",
         "name": "Heuristic2",
         "type": "scatter",
         "x": [
          10,
          20,
          30,
          40,
          50
         ],
         "y": [
          3.935859869443089,
          3.7161774165083346,
          3.720669803314087,
          3.7756924052144454,
          3.6639523204958087
         ]
        }
       ],
       "layout": {
        "template": {
         "data": {
          "bar": [
           {
            "error_x": {
             "color": "#2a3f5f"
            },
            "error_y": {
             "color": "#2a3f5f"
            },
            "marker": {
             "line": {
              "color": "#E5ECF6",
              "width": 0.5
             }
            },
            "type": "bar"
           }
          ],
          "barpolar": [
           {
            "marker": {
             "line": {
              "color": "#E5ECF6",
              "width": 0.5
             }
            },
            "type": "barpolar"
           }
          ],
          "carpet": [
           {
            "aaxis": {
             "endlinecolor": "#2a3f5f",
             "gridcolor": "white",
             "linecolor": "white",
             "minorgridcolor": "white",
             "startlinecolor": "#2a3f5f"
            },
            "baxis": {
             "endlinecolor": "#2a3f5f",
             "gridcolor": "white",
             "linecolor": "white",
             "minorgridcolor": "white",
             "startlinecolor": "#2a3f5f"
            },
            "type": "carpet"
           }
          ],
          "choropleth": [
           {
            "colorbar": {
             "outlinewidth": 0,
             "ticks": ""
            },
            "type": "choropleth"
           }
          ],
          "contour": [
           {
            "colorbar": {
             "outlinewidth": 0,
             "ticks": ""
            },
            "colorscale": [
             [
              0,
              "#0d0887"
             ],
             [
              0.1111111111111111,
              "#46039f"
             ],
             [
              0.2222222222222222,
              "#7201a8"
             ],
             [
              0.3333333333333333,
              "#9c179e"
             ],
             [
              0.4444444444444444,
              "#bd3786"
             ],
             [
              0.5555555555555556,
              "#d8576b"
             ],
             [
              0.6666666666666666,
              "#ed7953"
             ],
             [
              0.7777777777777778,
              "#fb9f3a"
             ],
             [
              0.8888888888888888,
              "#fdca26"
             ],
             [
              1,
              "#f0f921"
             ]
            ],
            "type": "contour"
           }
          ],
          "contourcarpet": [
           {
            "colorbar": {
             "outlinewidth": 0,
             "ticks": ""
            },
            "type": "contourcarpet"
           }
          ],
          "heatmap": [
           {
            "colorbar": {
             "outlinewidth": 0,
             "ticks": ""
            },
            "colorscale": [
             [
              0,
              "#0d0887"
             ],
             [
              0.1111111111111111,
              "#46039f"
             ],
             [
              0.2222222222222222,
              "#7201a8"
             ],
             [
              0.3333333333333333,
              "#9c179e"
             ],
             [
              0.4444444444444444,
              "#bd3786"
             ],
             [
              0.5555555555555556,
              "#d8576b"
             ],
             [
              0.6666666666666666,
              "#ed7953"
             ],
             [
              0.7777777777777778,
              "#fb9f3a"
             ],
             [
              0.8888888888888888,
              "#fdca26"
             ],
             [
              1,
              "#f0f921"
             ]
            ],
            "type": "heatmap"
           }
          ],
          "heatmapgl": [
           {
            "colorbar": {
             "outlinewidth": 0,
             "ticks": ""
            },
            "colorscale": [
             [
              0,
              "#0d0887"
             ],
             [
              0.1111111111111111,
              "#46039f"
             ],
             [
              0.2222222222222222,
              "#7201a8"
             ],
             [
              0.3333333333333333,
              "#9c179e"
             ],
             [
              0.4444444444444444,
              "#bd3786"
             ],
             [
              0.5555555555555556,
              "#d8576b"
             ],
             [
              0.6666666666666666,
              "#ed7953"
             ],
             [
              0.7777777777777778,
              "#fb9f3a"
             ],
             [
              0.8888888888888888,
              "#fdca26"
             ],
             [
              1,
              "#f0f921"
             ]
            ],
            "type": "heatmapgl"
           }
          ],
          "histogram": [
           {
            "marker": {
             "colorbar": {
              "outlinewidth": 0,
              "ticks": ""
             }
            },
            "type": "histogram"
           }
          ],
          "histogram2d": [
           {
            "colorbar": {
             "outlinewidth": 0,
             "ticks": ""
            },
            "colorscale": [
             [
              0,
              "#0d0887"
             ],
             [
              0.1111111111111111,
              "#46039f"
             ],
             [
              0.2222222222222222,
              "#7201a8"
             ],
             [
              0.3333333333333333,
              "#9c179e"
             ],
             [
              0.4444444444444444,
              "#bd3786"
             ],
             [
              0.5555555555555556,
              "#d8576b"
             ],
             [
              0.6666666666666666,
              "#ed7953"
             ],
             [
              0.7777777777777778,
              "#fb9f3a"
             ],
             [
              0.8888888888888888,
              "#fdca26"
             ],
             [
              1,
              "#f0f921"
             ]
            ],
            "type": "histogram2d"
           }
          ],
          "histogram2dcontour": [
           {
            "colorbar": {
             "outlinewidth": 0,
             "ticks": ""
            },
            "colorscale": [
             [
              0,
              "#0d0887"
             ],
             [
              0.1111111111111111,
              "#46039f"
             ],
             [
              0.2222222222222222,
              "#7201a8"
             ],
             [
              0.3333333333333333,
              "#9c179e"
             ],
             [
              0.4444444444444444,
              "#bd3786"
             ],
             [
              0.5555555555555556,
              "#d8576b"
             ],
             [
              0.6666666666666666,
              "#ed7953"
             ],
             [
              0.7777777777777778,
              "#fb9f3a"
             ],
             [
              0.8888888888888888,
              "#fdca26"
             ],
             [
              1,
              "#f0f921"
             ]
            ],
            "type": "histogram2dcontour"
           }
          ],
          "mesh3d": [
           {
            "colorbar": {
             "outlinewidth": 0,
             "ticks": ""
            },
            "type": "mesh3d"
           }
          ],
          "parcoords": [
           {
            "line": {
             "colorbar": {
              "outlinewidth": 0,
              "ticks": ""
             }
            },
            "type": "parcoords"
           }
          ],
          "scatter": [
           {
            "marker": {
             "colorbar": {
              "outlinewidth": 0,
              "ticks": ""
             }
            },
            "type": "scatter"
           }
          ],
          "scatter3d": [
           {
            "line": {
             "colorbar": {
              "outlinewidth": 0,
              "ticks": ""
             }
            },
            "marker": {
             "colorbar": {
              "outlinewidth": 0,
              "ticks": ""
             }
            },
            "type": "scatter3d"
           }
          ],
          "scattercarpet": [
           {
            "marker": {
             "colorbar": {
              "outlinewidth": 0,
              "ticks": ""
             }
            },
            "type": "scattercarpet"
           }
          ],
          "scattergeo": [
           {
            "marker": {
             "colorbar": {
              "outlinewidth": 0,
              "ticks": ""
             }
            },
            "type": "scattergeo"
           }
          ],
          "scattergl": [
           {
            "marker": {
             "colorbar": {
              "outlinewidth": 0,
              "ticks": ""
             }
            },
            "type": "scattergl"
           }
          ],
          "scattermapbox": [
           {
            "marker": {
             "colorbar": {
              "outlinewidth": 0,
              "ticks": ""
             }
            },
            "type": "scattermapbox"
           }
          ],
          "scatterpolar": [
           {
            "marker": {
             "colorbar": {
              "outlinewidth": 0,
              "ticks": ""
             }
            },
            "type": "scatterpolar"
           }
          ],
          "scatterpolargl": [
           {
            "marker": {
             "colorbar": {
              "outlinewidth": 0,
              "ticks": ""
             }
            },
            "type": "scatterpolargl"
           }
          ],
          "scatterternary": [
           {
            "marker": {
             "colorbar": {
              "outlinewidth": 0,
              "ticks": ""
             }
            },
            "type": "scatterternary"
           }
          ],
          "surface": [
           {
            "colorbar": {
             "outlinewidth": 0,
             "ticks": ""
            },
            "colorscale": [
             [
              0,
              "#0d0887"
             ],
             [
              0.1111111111111111,
              "#46039f"
             ],
             [
              0.2222222222222222,
              "#7201a8"
             ],
             [
              0.3333333333333333,
              "#9c179e"
             ],
             [
              0.4444444444444444,
              "#bd3786"
             ],
             [
              0.5555555555555556,
              "#d8576b"
             ],
             [
              0.6666666666666666,
              "#ed7953"
             ],
             [
              0.7777777777777778,
              "#fb9f3a"
             ],
             [
              0.8888888888888888,
              "#fdca26"
             ],
             [
              1,
              "#f0f921"
             ]
            ],
            "type": "surface"
           }
          ],
          "table": [
           {
            "cells": {
             "fill": {
              "color": "#EBF0F8"
             },
             "line": {
              "color": "white"
             }
            },
            "header": {
             "fill": {
              "color": "#C8D4E3"
             },
             "line": {
              "color": "white"
             }
            },
            "type": "table"
           }
          ]
         },
         "layout": {
          "annotationdefaults": {
           "arrowcolor": "#2a3f5f",
           "arrowhead": 0,
           "arrowwidth": 1
          },
          "colorscale": {
           "diverging": [
            [
             0,
             "#8e0152"
            ],
            [
             0.1,
             "#c51b7d"
            ],
            [
             0.2,
             "#de77ae"
            ],
            [
             0.3,
             "#f1b6da"
            ],
            [
             0.4,
             "#fde0ef"
            ],
            [
             0.5,
             "#f7f7f7"
            ],
            [
             0.6,
             "#e6f5d0"
            ],
            [
             0.7,
             "#b8e186"
            ],
            [
             0.8,
             "#7fbc41"
            ],
            [
             0.9,
             "#4d9221"
            ],
            [
             1,
             "#276419"
            ]
           ],
           "sequential": [
            [
             0,
             "#0d0887"
            ],
            [
             0.1111111111111111,
             "#46039f"
            ],
            [
             0.2222222222222222,
             "#7201a8"
            ],
            [
             0.3333333333333333,
             "#9c179e"
            ],
            [
             0.4444444444444444,
             "#bd3786"
            ],
            [
             0.5555555555555556,
             "#d8576b"
            ],
            [
             0.6666666666666666,
             "#ed7953"
            ],
            [
             0.7777777777777778,
             "#fb9f3a"
            ],
            [
             0.8888888888888888,
             "#fdca26"
            ],
            [
             1,
             "#f0f921"
            ]
           ],
           "sequentialminus": [
            [
             0,
             "#0d0887"
            ],
            [
             0.1111111111111111,
             "#46039f"
            ],
            [
             0.2222222222222222,
             "#7201a8"
            ],
            [
             0.3333333333333333,
             "#9c179e"
            ],
            [
             0.4444444444444444,
             "#bd3786"
            ],
            [
             0.5555555555555556,
             "#d8576b"
            ],
            [
             0.6666666666666666,
             "#ed7953"
            ],
            [
             0.7777777777777778,
             "#fb9f3a"
            ],
            [
             0.8888888888888888,
             "#fdca26"
            ],
            [
             1,
             "#f0f921"
            ]
           ]
          },
          "colorway": [
           "#636efa",
           "#EF553B",
           "#00cc96",
           "#ab63fa",
           "#FFA15A",
           "#19d3f3",
           "#FF6692",
           "#B6E880",
           "#FF97FF",
           "#FECB52"
          ],
          "font": {
           "color": "#2a3f5f"
          },
          "geo": {
           "bgcolor": "white",
           "lakecolor": "white",
           "landcolor": "#E5ECF6",
           "showlakes": true,
           "showland": true,
           "subunitcolor": "white"
          },
          "hoverlabel": {
           "align": "left"
          },
          "hovermode": "closest",
          "mapbox": {
           "style": "light"
          },
          "paper_bgcolor": "white",
          "plot_bgcolor": "#E5ECF6",
          "polar": {
           "angularaxis": {
            "gridcolor": "white",
            "linecolor": "white",
            "ticks": ""
           },
           "bgcolor": "#E5ECF6",
           "radialaxis": {
            "gridcolor": "white",
            "linecolor": "white",
            "ticks": ""
           }
          },
          "scene": {
           "xaxis": {
            "backgroundcolor": "#E5ECF6",
            "gridcolor": "white",
            "gridwidth": 2,
            "linecolor": "white",
            "showbackground": true,
            "ticks": "",
            "zerolinecolor": "white"
           },
           "yaxis": {
            "backgroundcolor": "#E5ECF6",
            "gridcolor": "white",
            "gridwidth": 2,
            "linecolor": "white",
            "showbackground": true,
            "ticks": "",
            "zerolinecolor": "white"
           },
           "zaxis": {
            "backgroundcolor": "#E5ECF6",
            "gridcolor": "white",
            "gridwidth": 2,
            "linecolor": "white",
            "showbackground": true,
            "ticks": "",
            "zerolinecolor": "white"
           }
          },
          "shapedefaults": {
           "line": {
            "color": "#2a3f5f"
           }
          },
          "ternary": {
           "aaxis": {
            "gridcolor": "white",
            "linecolor": "white",
            "ticks": ""
           },
           "baxis": {
            "gridcolor": "white",
            "linecolor": "white",
            "ticks": ""
           },
           "bgcolor": "#E5ECF6",
           "caxis": {
            "gridcolor": "white",
            "linecolor": "white",
            "ticks": ""
           }
          },
          "title": {
           "x": 0.05
          },
          "xaxis": {
           "automargin": true,
           "gridcolor": "white",
           "linecolor": "white",
           "ticks": "",
           "zerolinecolor": "white",
           "zerolinewidth": 2
          },
          "yaxis": {
           "automargin": true,
           "gridcolor": "white",
           "linecolor": "white",
           "ticks": "",
           "zerolinecolor": "white",
           "zerolinewidth": 2
          }
         }
        }
       }
      },
      "text/html": [
       "<div>\n",
       "        \n",
       "        \n",
       "            <div id=\"719e4824-9d62-4ec5-a76f-6ac4ee393096\" class=\"plotly-graph-div\" style=\"height:525px; width:100%;\"></div>\n",
       "            <script type=\"text/javascript\">\n",
       "                require([\"plotly\"], function(Plotly) {\n",
       "                    window.PLOTLYENV=window.PLOTLYENV || {};\n",
       "                    \n",
       "                if (document.getElementById(\"719e4824-9d62-4ec5-a76f-6ac4ee393096\")) {\n",
       "                    Plotly.newPlot(\n",
       "                        '719e4824-9d62-4ec5-a76f-6ac4ee393096',\n",
       "                        [{\"mode\": \"lines\", \"name\": \"Heuristic1\", \"type\": \"scatter\", \"x\": [10, 20, 30, 40, 50], \"y\": [2.180103725259584, 1.9581225689415902, 1.750288196106299, 1.694811502733387, 1.7493165988536739]}, {\"mode\": \"lines\", \"name\": \"Heuristic2\", \"type\": \"scatter\", \"x\": [10, 20, 30, 40, 50], \"y\": [3.935859869443089, 3.7161774165083346, 3.720669803314087, 3.7756924052144454, 3.6639523204958087]}],\n",
       "                        {\"template\": {\"data\": {\"bar\": [{\"error_x\": {\"color\": \"#2a3f5f\"}, \"error_y\": {\"color\": \"#2a3f5f\"}, \"marker\": {\"line\": {\"color\": \"#E5ECF6\", \"width\": 0.5}}, \"type\": \"bar\"}], \"barpolar\": [{\"marker\": {\"line\": {\"color\": \"#E5ECF6\", \"width\": 0.5}}, \"type\": \"barpolar\"}], \"carpet\": [{\"aaxis\": {\"endlinecolor\": \"#2a3f5f\", \"gridcolor\": \"white\", \"linecolor\": \"white\", \"minorgridcolor\": \"white\", \"startlinecolor\": \"#2a3f5f\"}, \"baxis\": {\"endlinecolor\": \"#2a3f5f\", \"gridcolor\": \"white\", \"linecolor\": \"white\", \"minorgridcolor\": \"white\", \"startlinecolor\": \"#2a3f5f\"}, \"type\": \"carpet\"}], \"choropleth\": [{\"colorbar\": {\"outlinewidth\": 0, \"ticks\": \"\"}, \"type\": \"choropleth\"}], \"contour\": [{\"colorbar\": {\"outlinewidth\": 0, \"ticks\": \"\"}, \"colorscale\": [[0.0, \"#0d0887\"], [0.1111111111111111, \"#46039f\"], [0.2222222222222222, \"#7201a8\"], [0.3333333333333333, \"#9c179e\"], [0.4444444444444444, \"#bd3786\"], [0.5555555555555556, \"#d8576b\"], [0.6666666666666666, \"#ed7953\"], [0.7777777777777778, \"#fb9f3a\"], [0.8888888888888888, \"#fdca26\"], [1.0, \"#f0f921\"]], \"type\": \"contour\"}], \"contourcarpet\": [{\"colorbar\": {\"outlinewidth\": 0, \"ticks\": \"\"}, \"type\": \"contourcarpet\"}], \"heatmap\": [{\"colorbar\": {\"outlinewidth\": 0, \"ticks\": \"\"}, \"colorscale\": [[0.0, \"#0d0887\"], [0.1111111111111111, \"#46039f\"], [0.2222222222222222, \"#7201a8\"], [0.3333333333333333, \"#9c179e\"], [0.4444444444444444, \"#bd3786\"], [0.5555555555555556, \"#d8576b\"], [0.6666666666666666, \"#ed7953\"], [0.7777777777777778, \"#fb9f3a\"], [0.8888888888888888, \"#fdca26\"], [1.0, \"#f0f921\"]], \"type\": \"heatmap\"}], \"heatmapgl\": [{\"colorbar\": {\"outlinewidth\": 0, \"ticks\": \"\"}, \"colorscale\": [[0.0, \"#0d0887\"], [0.1111111111111111, \"#46039f\"], [0.2222222222222222, \"#7201a8\"], [0.3333333333333333, \"#9c179e\"], [0.4444444444444444, \"#bd3786\"], [0.5555555555555556, \"#d8576b\"], [0.6666666666666666, \"#ed7953\"], [0.7777777777777778, \"#fb9f3a\"], [0.8888888888888888, \"#fdca26\"], [1.0, \"#f0f921\"]], \"type\": \"heatmapgl\"}], \"histogram\": [{\"marker\": {\"colorbar\": {\"outlinewidth\": 0, \"ticks\": \"\"}}, \"type\": \"histogram\"}], \"histogram2d\": [{\"colorbar\": {\"outlinewidth\": 0, \"ticks\": \"\"}, \"colorscale\": [[0.0, \"#0d0887\"], [0.1111111111111111, \"#46039f\"], [0.2222222222222222, \"#7201a8\"], [0.3333333333333333, \"#9c179e\"], [0.4444444444444444, \"#bd3786\"], [0.5555555555555556, \"#d8576b\"], [0.6666666666666666, \"#ed7953\"], [0.7777777777777778, \"#fb9f3a\"], [0.8888888888888888, \"#fdca26\"], [1.0, \"#f0f921\"]], \"type\": \"histogram2d\"}], \"histogram2dcontour\": [{\"colorbar\": {\"outlinewidth\": 0, \"ticks\": \"\"}, \"colorscale\": [[0.0, \"#0d0887\"], [0.1111111111111111, \"#46039f\"], [0.2222222222222222, \"#7201a8\"], [0.3333333333333333, \"#9c179e\"], [0.4444444444444444, \"#bd3786\"], [0.5555555555555556, \"#d8576b\"], [0.6666666666666666, \"#ed7953\"], [0.7777777777777778, \"#fb9f3a\"], [0.8888888888888888, \"#fdca26\"], [1.0, \"#f0f921\"]], \"type\": \"histogram2dcontour\"}], \"mesh3d\": [{\"colorbar\": {\"outlinewidth\": 0, \"ticks\": \"\"}, \"type\": \"mesh3d\"}], \"parcoords\": [{\"line\": {\"colorbar\": {\"outlinewidth\": 0, \"ticks\": \"\"}}, \"type\": \"parcoords\"}], \"scatter\": [{\"marker\": {\"colorbar\": {\"outlinewidth\": 0, \"ticks\": \"\"}}, \"type\": \"scatter\"}], \"scatter3d\": [{\"line\": {\"colorbar\": {\"outlinewidth\": 0, \"ticks\": \"\"}}, \"marker\": {\"colorbar\": {\"outlinewidth\": 0, \"ticks\": \"\"}}, \"type\": \"scatter3d\"}], \"scattercarpet\": [{\"marker\": {\"colorbar\": {\"outlinewidth\": 0, \"ticks\": \"\"}}, \"type\": \"scattercarpet\"}], \"scattergeo\": [{\"marker\": {\"colorbar\": {\"outlinewidth\": 0, \"ticks\": \"\"}}, \"type\": \"scattergeo\"}], \"scattergl\": [{\"marker\": {\"colorbar\": {\"outlinewidth\": 0, \"ticks\": \"\"}}, \"type\": \"scattergl\"}], \"scattermapbox\": [{\"marker\": {\"colorbar\": {\"outlinewidth\": 0, \"ticks\": \"\"}}, \"type\": \"scattermapbox\"}], \"scatterpolar\": [{\"marker\": {\"colorbar\": {\"outlinewidth\": 0, \"ticks\": \"\"}}, \"type\": \"scatterpolar\"}], \"scatterpolargl\": [{\"marker\": {\"colorbar\": {\"outlinewidth\": 0, \"ticks\": \"\"}}, \"type\": \"scatterpolargl\"}], \"scatterternary\": [{\"marker\": {\"colorbar\": {\"outlinewidth\": 0, \"ticks\": \"\"}}, \"type\": \"scatterternary\"}], \"surface\": [{\"colorbar\": {\"outlinewidth\": 0, \"ticks\": \"\"}, \"colorscale\": [[0.0, \"#0d0887\"], [0.1111111111111111, \"#46039f\"], [0.2222222222222222, \"#7201a8\"], [0.3333333333333333, \"#9c179e\"], [0.4444444444444444, \"#bd3786\"], [0.5555555555555556, \"#d8576b\"], [0.6666666666666666, \"#ed7953\"], [0.7777777777777778, \"#fb9f3a\"], [0.8888888888888888, \"#fdca26\"], [1.0, \"#f0f921\"]], \"type\": \"surface\"}], \"table\": [{\"cells\": {\"fill\": {\"color\": \"#EBF0F8\"}, \"line\": {\"color\": \"white\"}}, \"header\": {\"fill\": {\"color\": \"#C8D4E3\"}, \"line\": {\"color\": \"white\"}}, \"type\": \"table\"}]}, \"layout\": {\"annotationdefaults\": {\"arrowcolor\": \"#2a3f5f\", \"arrowhead\": 0, \"arrowwidth\": 1}, \"colorscale\": {\"diverging\": [[0, \"#8e0152\"], [0.1, \"#c51b7d\"], [0.2, \"#de77ae\"], [0.3, \"#f1b6da\"], [0.4, \"#fde0ef\"], [0.5, \"#f7f7f7\"], [0.6, \"#e6f5d0\"], [0.7, \"#b8e186\"], [0.8, \"#7fbc41\"], [0.9, \"#4d9221\"], [1, \"#276419\"]], \"sequential\": [[0.0, \"#0d0887\"], [0.1111111111111111, \"#46039f\"], [0.2222222222222222, \"#7201a8\"], [0.3333333333333333, \"#9c179e\"], [0.4444444444444444, \"#bd3786\"], [0.5555555555555556, \"#d8576b\"], [0.6666666666666666, \"#ed7953\"], [0.7777777777777778, \"#fb9f3a\"], [0.8888888888888888, \"#fdca26\"], [1.0, \"#f0f921\"]], \"sequentialminus\": [[0.0, \"#0d0887\"], [0.1111111111111111, \"#46039f\"], [0.2222222222222222, \"#7201a8\"], [0.3333333333333333, \"#9c179e\"], [0.4444444444444444, \"#bd3786\"], [0.5555555555555556, \"#d8576b\"], [0.6666666666666666, \"#ed7953\"], [0.7777777777777778, \"#fb9f3a\"], [0.8888888888888888, \"#fdca26\"], [1.0, \"#f0f921\"]]}, \"colorway\": [\"#636efa\", \"#EF553B\", \"#00cc96\", \"#ab63fa\", \"#FFA15A\", \"#19d3f3\", \"#FF6692\", \"#B6E880\", \"#FF97FF\", \"#FECB52\"], \"font\": {\"color\": \"#2a3f5f\"}, \"geo\": {\"bgcolor\": \"white\", \"lakecolor\": \"white\", \"landcolor\": \"#E5ECF6\", \"showlakes\": true, \"showland\": true, \"subunitcolor\": \"white\"}, \"hoverlabel\": {\"align\": \"left\"}, \"hovermode\": \"closest\", \"mapbox\": {\"style\": \"light\"}, \"paper_bgcolor\": \"white\", \"plot_bgcolor\": \"#E5ECF6\", \"polar\": {\"angularaxis\": {\"gridcolor\": \"white\", \"linecolor\": \"white\", \"ticks\": \"\"}, \"bgcolor\": \"#E5ECF6\", \"radialaxis\": {\"gridcolor\": \"white\", \"linecolor\": \"white\", \"ticks\": \"\"}}, \"scene\": {\"xaxis\": {\"backgroundcolor\": \"#E5ECF6\", \"gridcolor\": \"white\", \"gridwidth\": 2, \"linecolor\": \"white\", \"showbackground\": true, \"ticks\": \"\", \"zerolinecolor\": \"white\"}, \"yaxis\": {\"backgroundcolor\": \"#E5ECF6\", \"gridcolor\": \"white\", \"gridwidth\": 2, \"linecolor\": \"white\", \"showbackground\": true, \"ticks\": \"\", \"zerolinecolor\": \"white\"}, \"zaxis\": {\"backgroundcolor\": \"#E5ECF6\", \"gridcolor\": \"white\", \"gridwidth\": 2, \"linecolor\": \"white\", \"showbackground\": true, \"ticks\": \"\", \"zerolinecolor\": \"white\"}}, \"shapedefaults\": {\"line\": {\"color\": \"#2a3f5f\"}}, \"ternary\": {\"aaxis\": {\"gridcolor\": \"white\", \"linecolor\": \"white\", \"ticks\": \"\"}, \"baxis\": {\"gridcolor\": \"white\", \"linecolor\": \"white\", \"ticks\": \"\"}, \"bgcolor\": \"#E5ECF6\", \"caxis\": {\"gridcolor\": \"white\", \"linecolor\": \"white\", \"ticks\": \"\"}}, \"title\": {\"x\": 0.05}, \"xaxis\": {\"automargin\": true, \"gridcolor\": \"white\", \"linecolor\": \"white\", \"ticks\": \"\", \"zerolinecolor\": \"white\", \"zerolinewidth\": 2}, \"yaxis\": {\"automargin\": true, \"gridcolor\": \"white\", \"linecolor\": \"white\", \"ticks\": \"\", \"zerolinecolor\": \"white\", \"zerolinewidth\": 2}}}},\n",
       "                        {\"responsive\": true}\n",
       "                    ).then(function(){\n",
       "                            \n",
       "var gd = document.getElementById('719e4824-9d62-4ec5-a76f-6ac4ee393096');\n",
       "var x = new MutationObserver(function (mutations, observer) {{\n",
       "        var display = window.getComputedStyle(gd).display;\n",
       "        if (!display || display === 'none') {{\n",
       "            console.log([gd, 'removed!']);\n",
       "            Plotly.purge(gd);\n",
       "            observer.disconnect();\n",
       "        }}\n",
       "}});\n",
       "\n",
       "// Listen for the removal of the full notebook cells\n",
       "var notebookContainer = gd.closest('#notebook-container');\n",
       "if (notebookContainer) {{\n",
       "    x.observe(notebookContainer, {childList: true});\n",
       "}}\n",
       "\n",
       "// Listen for the clearing of the current output cell\n",
       "var outputEl = gd.closest('.output');\n",
       "if (outputEl) {{\n",
       "    x.observe(outputEl, {childList: true});\n",
       "}}\n",
       "\n",
       "                        })\n",
       "                };\n",
       "                });\n",
       "            </script>\n",
       "        </div>"
      ]
     },
     "metadata": {},
     "output_type": "display_data"
    }
   ],
   "source": [
    "f = [10, 20, 30, 40, 50]\n",
    "\n",
    "trace0 = go.Scatter(\n",
    "    x = f,\n",
    "    y = errorsH1,\n",
    "    mode = 'lines',\n",
    "    name = 'Heuristic1'\n",
    ")\n",
    "\n",
    "trace1 = go.Scatter(\n",
    "    x = f,\n",
    "    y = errorsH2,\n",
    "    mode = 'lines',\n",
    "    name = 'Heuristic2'\n",
    ")\n",
    "\n",
    "data = [trace0, trace1]\n",
    "\n",
    "iplot(data)"
   ]
  },
  {
   "cell_type": "markdown",
   "metadata": {
    "ExecuteTime": {
     "end_time": "2019-06-15T18:20:28.652904Z",
     "start_time": "2019-06-15T18:20:28.327767Z"
    }
   },
   "source": [
    "# PLOT 2\n",
    "\n",
    "## Радио опсег vs Error"
   ]
  },
  {
   "cell_type": "code",
   "execution_count": 83,
   "metadata": {
    "ExecuteTime": {
     "end_time": "2019-12-26T10:37:13.845061Z",
     "start_time": "2019-12-26T10:37:12.635297Z"
    }
   },
   "outputs": [
    {
     "name": "stdout",
     "output_type": "stream",
     "text": [
      "[1.7731675780329215, 1.9857556853550384, 1.9245117041414033, 1.9215700132944253]\n"
     ]
    }
   ],
   "source": [
    "N = 100\n",
    "L = 100\n",
    "f = 25\n",
    "r = 10\n",
    "# R = {20, 30, 40, 50}\n",
    "\n",
    "heuristic = 1\n",
    "errorsH1 = []\n",
    "\n",
    "nodes = None\n",
    "for R in range(20, 51, 10):\n",
    "    error = 0\n",
    "    for i in range(0, 20):\n",
    "        nodes = generateNodes(N, L, R, r, f)\n",
    "        nodes = findNeighbours(nodes, R)\n",
    "        nodes = estimateLocations(nodes, heuristic)\n",
    "        error = error + calculateError(nodes, N, f)\n",
    "    errorsH1.append(error/20)\n",
    "\n",
    "print(errorsH1)"
   ]
  },
  {
   "cell_type": "code",
   "execution_count": 84,
   "metadata": {
    "ExecuteTime": {
     "end_time": "2019-12-26T10:37:18.962548Z",
     "start_time": "2019-12-26T10:37:17.792792Z"
    }
   },
   "outputs": [
    {
     "name": "stdout",
     "output_type": "stream",
     "text": [
      "[2.6437830670182527, 3.9565646115489157, 4.842298532634191, 6.146444812141929]\n"
     ]
    }
   ],
   "source": [
    "heuristic = 2\n",
    "errorsH2 = []\n",
    "\n",
    "nodes = None\n",
    "for R in range(20, 51, 10):\n",
    "    error = 0\n",
    "    for i in range(0, 20):\n",
    "        nodes = generateNodes(N, L, R, r, f)\n",
    "        nodes = findNeighbours(nodes, R)\n",
    "        nodes = estimateLocations(nodes, heuristic)\n",
    "        error = error + calculateError(nodes, N, f)\n",
    "    errorsH2.append(error/20)\n",
    "\n",
    "print(errorsH2)"
   ]
  },
  {
   "cell_type": "code",
   "execution_count": 85,
   "metadata": {
    "ExecuteTime": {
     "end_time": "2019-12-26T10:37:30.336659Z",
     "start_time": "2019-12-26T10:37:29.965752Z"
    }
   },
   "outputs": [
    {
     "data": {
      "application/vnd.plotly.v1+json": {
       "config": {
        "linkText": "Export to plot.ly",
        "plotlyServerURL": "https://plot.ly",
        "showLink": false
       },
       "data": [
        {
         "mode": "lines",
         "name": "Heuristic1",
         "type": "scatter",
         "x": [
          10,
          20,
          30,
          40,
          50
         ],
         "y": [
          1.7731675780329215,
          1.9857556853550384,
          1.9245117041414033,
          1.9215700132944253
         ]
        },
        {
         "mode": "lines",
         "name": "Heuristic2",
         "type": "scatter",
         "x": [
          10,
          20,
          30,
          40,
          50
         ],
         "y": [
          2.6437830670182527,
          3.9565646115489157,
          4.842298532634191,
          6.146444812141929
         ]
        }
       ],
       "layout": {
        "template": {
         "data": {
          "bar": [
           {
            "error_x": {
             "color": "#2a3f5f"
            },
            "error_y": {
             "color": "#2a3f5f"
            },
            "marker": {
             "line": {
              "color": "#E5ECF6",
              "width": 0.5
             }
            },
            "type": "bar"
           }
          ],
          "barpolar": [
           {
            "marker": {
             "line": {
              "color": "#E5ECF6",
              "width": 0.5
             }
            },
            "type": "barpolar"
           }
          ],
          "carpet": [
           {
            "aaxis": {
             "endlinecolor": "#2a3f5f",
             "gridcolor": "white",
             "linecolor": "white",
             "minorgridcolor": "white",
             "startlinecolor": "#2a3f5f"
            },
            "baxis": {
             "endlinecolor": "#2a3f5f",
             "gridcolor": "white",
             "linecolor": "white",
             "minorgridcolor": "white",
             "startlinecolor": "#2a3f5f"
            },
            "type": "carpet"
           }
          ],
          "choropleth": [
           {
            "colorbar": {
             "outlinewidth": 0,
             "ticks": ""
            },
            "type": "choropleth"
           }
          ],
          "contour": [
           {
            "colorbar": {
             "outlinewidth": 0,
             "ticks": ""
            },
            "colorscale": [
             [
              0,
              "#0d0887"
             ],
             [
              0.1111111111111111,
              "#46039f"
             ],
             [
              0.2222222222222222,
              "#7201a8"
             ],
             [
              0.3333333333333333,
              "#9c179e"
             ],
             [
              0.4444444444444444,
              "#bd3786"
             ],
             [
              0.5555555555555556,
              "#d8576b"
             ],
             [
              0.6666666666666666,
              "#ed7953"
             ],
             [
              0.7777777777777778,
              "#fb9f3a"
             ],
             [
              0.8888888888888888,
              "#fdca26"
             ],
             [
              1,
              "#f0f921"
             ]
            ],
            "type": "contour"
           }
          ],
          "contourcarpet": [
           {
            "colorbar": {
             "outlinewidth": 0,
             "ticks": ""
            },
            "type": "contourcarpet"
           }
          ],
          "heatmap": [
           {
            "colorbar": {
             "outlinewidth": 0,
             "ticks": ""
            },
            "colorscale": [
             [
              0,
              "#0d0887"
             ],
             [
              0.1111111111111111,
              "#46039f"
             ],
             [
              0.2222222222222222,
              "#7201a8"
             ],
             [
              0.3333333333333333,
              "#9c179e"
             ],
             [
              0.4444444444444444,
              "#bd3786"
             ],
             [
              0.5555555555555556,
              "#d8576b"
             ],
             [
              0.6666666666666666,
              "#ed7953"
             ],
             [
              0.7777777777777778,
              "#fb9f3a"
             ],
             [
              0.8888888888888888,
              "#fdca26"
             ],
             [
              1,
              "#f0f921"
             ]
            ],
            "type": "heatmap"
           }
          ],
          "heatmapgl": [
           {
            "colorbar": {
             "outlinewidth": 0,
             "ticks": ""
            },
            "colorscale": [
             [
              0,
              "#0d0887"
             ],
             [
              0.1111111111111111,
              "#46039f"
             ],
             [
              0.2222222222222222,
              "#7201a8"
             ],
             [
              0.3333333333333333,
              "#9c179e"
             ],
             [
              0.4444444444444444,
              "#bd3786"
             ],
             [
              0.5555555555555556,
              "#d8576b"
             ],
             [
              0.6666666666666666,
              "#ed7953"
             ],
             [
              0.7777777777777778,
              "#fb9f3a"
             ],
             [
              0.8888888888888888,
              "#fdca26"
             ],
             [
              1,
              "#f0f921"
             ]
            ],
            "type": "heatmapgl"
           }
          ],
          "histogram": [
           {
            "marker": {
             "colorbar": {
              "outlinewidth": 0,
              "ticks": ""
             }
            },
            "type": "histogram"
           }
          ],
          "histogram2d": [
           {
            "colorbar": {
             "outlinewidth": 0,
             "ticks": ""
            },
            "colorscale": [
             [
              0,
              "#0d0887"
             ],
             [
              0.1111111111111111,
              "#46039f"
             ],
             [
              0.2222222222222222,
              "#7201a8"
             ],
             [
              0.3333333333333333,
              "#9c179e"
             ],
             [
              0.4444444444444444,
              "#bd3786"
             ],
             [
              0.5555555555555556,
              "#d8576b"
             ],
             [
              0.6666666666666666,
              "#ed7953"
             ],
             [
              0.7777777777777778,
              "#fb9f3a"
             ],
             [
              0.8888888888888888,
              "#fdca26"
             ],
             [
              1,
              "#f0f921"
             ]
            ],
            "type": "histogram2d"
           }
          ],
          "histogram2dcontour": [
           {
            "colorbar": {
             "outlinewidth": 0,
             "ticks": ""
            },
            "colorscale": [
             [
              0,
              "#0d0887"
             ],
             [
              0.1111111111111111,
              "#46039f"
             ],
             [
              0.2222222222222222,
              "#7201a8"
             ],
             [
              0.3333333333333333,
              "#9c179e"
             ],
             [
              0.4444444444444444,
              "#bd3786"
             ],
             [
              0.5555555555555556,
              "#d8576b"
             ],
             [
              0.6666666666666666,
              "#ed7953"
             ],
             [
              0.7777777777777778,
              "#fb9f3a"
             ],
             [
              0.8888888888888888,
              "#fdca26"
             ],
             [
              1,
              "#f0f921"
             ]
            ],
            "type": "histogram2dcontour"
           }
          ],
          "mesh3d": [
           {
            "colorbar": {
             "outlinewidth": 0,
             "ticks": ""
            },
            "type": "mesh3d"
           }
          ],
          "parcoords": [
           {
            "line": {
             "colorbar": {
              "outlinewidth": 0,
              "ticks": ""
             }
            },
            "type": "parcoords"
           }
          ],
          "scatter": [
           {
            "marker": {
             "colorbar": {
              "outlinewidth": 0,
              "ticks": ""
             }
            },
            "type": "scatter"
           }
          ],
          "scatter3d": [
           {
            "line": {
             "colorbar": {
              "outlinewidth": 0,
              "ticks": ""
             }
            },
            "marker": {
             "colorbar": {
              "outlinewidth": 0,
              "ticks": ""
             }
            },
            "type": "scatter3d"
           }
          ],
          "scattercarpet": [
           {
            "marker": {
             "colorbar": {
              "outlinewidth": 0,
              "ticks": ""
             }
            },
            "type": "scattercarpet"
           }
          ],
          "scattergeo": [
           {
            "marker": {
             "colorbar": {
              "outlinewidth": 0,
              "ticks": ""
             }
            },
            "type": "scattergeo"
           }
          ],
          "scattergl": [
           {
            "marker": {
             "colorbar": {
              "outlinewidth": 0,
              "ticks": ""
             }
            },
            "type": "scattergl"
           }
          ],
          "scattermapbox": [
           {
            "marker": {
             "colorbar": {
              "outlinewidth": 0,
              "ticks": ""
             }
            },
            "type": "scattermapbox"
           }
          ],
          "scatterpolar": [
           {
            "marker": {
             "colorbar": {
              "outlinewidth": 0,
              "ticks": ""
             }
            },
            "type": "scatterpolar"
           }
          ],
          "scatterpolargl": [
           {
            "marker": {
             "colorbar": {
              "outlinewidth": 0,
              "ticks": ""
             }
            },
            "type": "scatterpolargl"
           }
          ],
          "scatterternary": [
           {
            "marker": {
             "colorbar": {
              "outlinewidth": 0,
              "ticks": ""
             }
            },
            "type": "scatterternary"
           }
          ],
          "surface": [
           {
            "colorbar": {
             "outlinewidth": 0,
             "ticks": ""
            },
            "colorscale": [
             [
              0,
              "#0d0887"
             ],
             [
              0.1111111111111111,
              "#46039f"
             ],
             [
              0.2222222222222222,
              "#7201a8"
             ],
             [
              0.3333333333333333,
              "#9c179e"
             ],
             [
              0.4444444444444444,
              "#bd3786"
             ],
             [
              0.5555555555555556,
              "#d8576b"
             ],
             [
              0.6666666666666666,
              "#ed7953"
             ],
             [
              0.7777777777777778,
              "#fb9f3a"
             ],
             [
              0.8888888888888888,
              "#fdca26"
             ],
             [
              1,
              "#f0f921"
             ]
            ],
            "type": "surface"
           }
          ],
          "table": [
           {
            "cells": {
             "fill": {
              "color": "#EBF0F8"
             },
             "line": {
              "color": "white"
             }
            },
            "header": {
             "fill": {
              "color": "#C8D4E3"
             },
             "line": {
              "color": "white"
             }
            },
            "type": "table"
           }
          ]
         },
         "layout": {
          "annotationdefaults": {
           "arrowcolor": "#2a3f5f",
           "arrowhead": 0,
           "arrowwidth": 1
          },
          "colorscale": {
           "diverging": [
            [
             0,
             "#8e0152"
            ],
            [
             0.1,
             "#c51b7d"
            ],
            [
             0.2,
             "#de77ae"
            ],
            [
             0.3,
             "#f1b6da"
            ],
            [
             0.4,
             "#fde0ef"
            ],
            [
             0.5,
             "#f7f7f7"
            ],
            [
             0.6,
             "#e6f5d0"
            ],
            [
             0.7,
             "#b8e186"
            ],
            [
             0.8,
             "#7fbc41"
            ],
            [
             0.9,
             "#4d9221"
            ],
            [
             1,
             "#276419"
            ]
           ],
           "sequential": [
            [
             0,
             "#0d0887"
            ],
            [
             0.1111111111111111,
             "#46039f"
            ],
            [
             0.2222222222222222,
             "#7201a8"
            ],
            [
             0.3333333333333333,
             "#9c179e"
            ],
            [
             0.4444444444444444,
             "#bd3786"
            ],
            [
             0.5555555555555556,
             "#d8576b"
            ],
            [
             0.6666666666666666,
             "#ed7953"
            ],
            [
             0.7777777777777778,
             "#fb9f3a"
            ],
            [
             0.8888888888888888,
             "#fdca26"
            ],
            [
             1,
             "#f0f921"
            ]
           ],
           "sequentialminus": [
            [
             0,
             "#0d0887"
            ],
            [
             0.1111111111111111,
             "#46039f"
            ],
            [
             0.2222222222222222,
             "#7201a8"
            ],
            [
             0.3333333333333333,
             "#9c179e"
            ],
            [
             0.4444444444444444,
             "#bd3786"
            ],
            [
             0.5555555555555556,
             "#d8576b"
            ],
            [
             0.6666666666666666,
             "#ed7953"
            ],
            [
             0.7777777777777778,
             "#fb9f3a"
            ],
            [
             0.8888888888888888,
             "#fdca26"
            ],
            [
             1,
             "#f0f921"
            ]
           ]
          },
          "colorway": [
           "#636efa",
           "#EF553B",
           "#00cc96",
           "#ab63fa",
           "#FFA15A",
           "#19d3f3",
           "#FF6692",
           "#B6E880",
           "#FF97FF",
           "#FECB52"
          ],
          "font": {
           "color": "#2a3f5f"
          },
          "geo": {
           "bgcolor": "white",
           "lakecolor": "white",
           "landcolor": "#E5ECF6",
           "showlakes": true,
           "showland": true,
           "subunitcolor": "white"
          },
          "hoverlabel": {
           "align": "left"
          },
          "hovermode": "closest",
          "mapbox": {
           "style": "light"
          },
          "paper_bgcolor": "white",
          "plot_bgcolor": "#E5ECF6",
          "polar": {
           "angularaxis": {
            "gridcolor": "white",
            "linecolor": "white",
            "ticks": ""
           },
           "bgcolor": "#E5ECF6",
           "radialaxis": {
            "gridcolor": "white",
            "linecolor": "white",
            "ticks": ""
           }
          },
          "scene": {
           "xaxis": {
            "backgroundcolor": "#E5ECF6",
            "gridcolor": "white",
            "gridwidth": 2,
            "linecolor": "white",
            "showbackground": true,
            "ticks": "",
            "zerolinecolor": "white"
           },
           "yaxis": {
            "backgroundcolor": "#E5ECF6",
            "gridcolor": "white",
            "gridwidth": 2,
            "linecolor": "white",
            "showbackground": true,
            "ticks": "",
            "zerolinecolor": "white"
           },
           "zaxis": {
            "backgroundcolor": "#E5ECF6",
            "gridcolor": "white",
            "gridwidth": 2,
            "linecolor": "white",
            "showbackground": true,
            "ticks": "",
            "zerolinecolor": "white"
           }
          },
          "shapedefaults": {
           "line": {
            "color": "#2a3f5f"
           }
          },
          "ternary": {
           "aaxis": {
            "gridcolor": "white",
            "linecolor": "white",
            "ticks": ""
           },
           "baxis": {
            "gridcolor": "white",
            "linecolor": "white",
            "ticks": ""
           },
           "bgcolor": "#E5ECF6",
           "caxis": {
            "gridcolor": "white",
            "linecolor": "white",
            "ticks": ""
           }
          },
          "title": {
           "x": 0.05
          },
          "xaxis": {
           "automargin": true,
           "gridcolor": "white",
           "linecolor": "white",
           "ticks": "",
           "zerolinecolor": "white",
           "zerolinewidth": 2
          },
          "yaxis": {
           "automargin": true,
           "gridcolor": "white",
           "linecolor": "white",
           "ticks": "",
           "zerolinecolor": "white",
           "zerolinewidth": 2
          }
         }
        }
       }
      },
      "text/html": [
       "<div>\n",
       "        \n",
       "        \n",
       "            <div id=\"41b43587-41b0-4bdb-b091-3937ff489ffc\" class=\"plotly-graph-div\" style=\"height:525px; width:100%;\"></div>\n",
       "            <script type=\"text/javascript\">\n",
       "                require([\"plotly\"], function(Plotly) {\n",
       "                    window.PLOTLYENV=window.PLOTLYENV || {};\n",
       "                    \n",
       "                if (document.getElementById(\"41b43587-41b0-4bdb-b091-3937ff489ffc\")) {\n",
       "                    Plotly.newPlot(\n",
       "                        '41b43587-41b0-4bdb-b091-3937ff489ffc',\n",
       "                        [{\"mode\": \"lines\", \"name\": \"Heuristic1\", \"type\": \"scatter\", \"x\": [10, 20, 30, 40, 50], \"y\": [1.7731675780329215, 1.9857556853550384, 1.9245117041414033, 1.9215700132944253]}, {\"mode\": \"lines\", \"name\": \"Heuristic2\", \"type\": \"scatter\", \"x\": [10, 20, 30, 40, 50], \"y\": [2.6437830670182527, 3.9565646115489157, 4.842298532634191, 6.146444812141929]}],\n",
       "                        {\"template\": {\"data\": {\"bar\": [{\"error_x\": {\"color\": \"#2a3f5f\"}, \"error_y\": {\"color\": \"#2a3f5f\"}, \"marker\": {\"line\": {\"color\": \"#E5ECF6\", \"width\": 0.5}}, \"type\": \"bar\"}], \"barpolar\": [{\"marker\": {\"line\": {\"color\": \"#E5ECF6\", \"width\": 0.5}}, \"type\": \"barpolar\"}], \"carpet\": [{\"aaxis\": {\"endlinecolor\": \"#2a3f5f\", \"gridcolor\": \"white\", \"linecolor\": \"white\", \"minorgridcolor\": \"white\", \"startlinecolor\": \"#2a3f5f\"}, \"baxis\": {\"endlinecolor\": \"#2a3f5f\", \"gridcolor\": \"white\", \"linecolor\": \"white\", \"minorgridcolor\": \"white\", \"startlinecolor\": \"#2a3f5f\"}, \"type\": \"carpet\"}], \"choropleth\": [{\"colorbar\": {\"outlinewidth\": 0, \"ticks\": \"\"}, \"type\": \"choropleth\"}], \"contour\": [{\"colorbar\": {\"outlinewidth\": 0, \"ticks\": \"\"}, \"colorscale\": [[0.0, \"#0d0887\"], [0.1111111111111111, \"#46039f\"], [0.2222222222222222, \"#7201a8\"], [0.3333333333333333, \"#9c179e\"], [0.4444444444444444, \"#bd3786\"], [0.5555555555555556, \"#d8576b\"], [0.6666666666666666, \"#ed7953\"], [0.7777777777777778, \"#fb9f3a\"], [0.8888888888888888, \"#fdca26\"], [1.0, \"#f0f921\"]], \"type\": \"contour\"}], \"contourcarpet\": [{\"colorbar\": {\"outlinewidth\": 0, \"ticks\": \"\"}, \"type\": \"contourcarpet\"}], \"heatmap\": [{\"colorbar\": {\"outlinewidth\": 0, \"ticks\": \"\"}, \"colorscale\": [[0.0, \"#0d0887\"], [0.1111111111111111, \"#46039f\"], [0.2222222222222222, \"#7201a8\"], [0.3333333333333333, \"#9c179e\"], [0.4444444444444444, \"#bd3786\"], [0.5555555555555556, \"#d8576b\"], [0.6666666666666666, \"#ed7953\"], [0.7777777777777778, \"#fb9f3a\"], [0.8888888888888888, \"#fdca26\"], [1.0, \"#f0f921\"]], \"type\": \"heatmap\"}], \"heatmapgl\": [{\"colorbar\": {\"outlinewidth\": 0, \"ticks\": \"\"}, \"colorscale\": [[0.0, \"#0d0887\"], [0.1111111111111111, \"#46039f\"], [0.2222222222222222, \"#7201a8\"], [0.3333333333333333, \"#9c179e\"], [0.4444444444444444, \"#bd3786\"], [0.5555555555555556, \"#d8576b\"], [0.6666666666666666, \"#ed7953\"], [0.7777777777777778, \"#fb9f3a\"], [0.8888888888888888, \"#fdca26\"], [1.0, \"#f0f921\"]], \"type\": \"heatmapgl\"}], \"histogram\": [{\"marker\": {\"colorbar\": {\"outlinewidth\": 0, \"ticks\": \"\"}}, \"type\": \"histogram\"}], \"histogram2d\": [{\"colorbar\": {\"outlinewidth\": 0, \"ticks\": \"\"}, \"colorscale\": [[0.0, \"#0d0887\"], [0.1111111111111111, \"#46039f\"], [0.2222222222222222, \"#7201a8\"], [0.3333333333333333, \"#9c179e\"], [0.4444444444444444, \"#bd3786\"], [0.5555555555555556, \"#d8576b\"], [0.6666666666666666, \"#ed7953\"], [0.7777777777777778, \"#fb9f3a\"], [0.8888888888888888, \"#fdca26\"], [1.0, \"#f0f921\"]], \"type\": \"histogram2d\"}], \"histogram2dcontour\": [{\"colorbar\": {\"outlinewidth\": 0, \"ticks\": \"\"}, \"colorscale\": [[0.0, \"#0d0887\"], [0.1111111111111111, \"#46039f\"], [0.2222222222222222, \"#7201a8\"], [0.3333333333333333, \"#9c179e\"], [0.4444444444444444, \"#bd3786\"], [0.5555555555555556, \"#d8576b\"], [0.6666666666666666, \"#ed7953\"], [0.7777777777777778, \"#fb9f3a\"], [0.8888888888888888, \"#fdca26\"], [1.0, \"#f0f921\"]], \"type\": \"histogram2dcontour\"}], \"mesh3d\": [{\"colorbar\": {\"outlinewidth\": 0, \"ticks\": \"\"}, \"type\": \"mesh3d\"}], \"parcoords\": [{\"line\": {\"colorbar\": {\"outlinewidth\": 0, \"ticks\": \"\"}}, \"type\": \"parcoords\"}], \"scatter\": [{\"marker\": {\"colorbar\": {\"outlinewidth\": 0, \"ticks\": \"\"}}, \"type\": \"scatter\"}], \"scatter3d\": [{\"line\": {\"colorbar\": {\"outlinewidth\": 0, \"ticks\": \"\"}}, \"marker\": {\"colorbar\": {\"outlinewidth\": 0, \"ticks\": \"\"}}, \"type\": \"scatter3d\"}], \"scattercarpet\": [{\"marker\": {\"colorbar\": {\"outlinewidth\": 0, \"ticks\": \"\"}}, \"type\": \"scattercarpet\"}], \"scattergeo\": [{\"marker\": {\"colorbar\": {\"outlinewidth\": 0, \"ticks\": \"\"}}, \"type\": \"scattergeo\"}], \"scattergl\": [{\"marker\": {\"colorbar\": {\"outlinewidth\": 0, \"ticks\": \"\"}}, \"type\": \"scattergl\"}], \"scattermapbox\": [{\"marker\": {\"colorbar\": {\"outlinewidth\": 0, \"ticks\": \"\"}}, \"type\": \"scattermapbox\"}], \"scatterpolar\": [{\"marker\": {\"colorbar\": {\"outlinewidth\": 0, \"ticks\": \"\"}}, \"type\": \"scatterpolar\"}], \"scatterpolargl\": [{\"marker\": {\"colorbar\": {\"outlinewidth\": 0, \"ticks\": \"\"}}, \"type\": \"scatterpolargl\"}], \"scatterternary\": [{\"marker\": {\"colorbar\": {\"outlinewidth\": 0, \"ticks\": \"\"}}, \"type\": \"scatterternary\"}], \"surface\": [{\"colorbar\": {\"outlinewidth\": 0, \"ticks\": \"\"}, \"colorscale\": [[0.0, \"#0d0887\"], [0.1111111111111111, \"#46039f\"], [0.2222222222222222, \"#7201a8\"], [0.3333333333333333, \"#9c179e\"], [0.4444444444444444, \"#bd3786\"], [0.5555555555555556, \"#d8576b\"], [0.6666666666666666, \"#ed7953\"], [0.7777777777777778, \"#fb9f3a\"], [0.8888888888888888, \"#fdca26\"], [1.0, \"#f0f921\"]], \"type\": \"surface\"}], \"table\": [{\"cells\": {\"fill\": {\"color\": \"#EBF0F8\"}, \"line\": {\"color\": \"white\"}}, \"header\": {\"fill\": {\"color\": \"#C8D4E3\"}, \"line\": {\"color\": \"white\"}}, \"type\": \"table\"}]}, \"layout\": {\"annotationdefaults\": {\"arrowcolor\": \"#2a3f5f\", \"arrowhead\": 0, \"arrowwidth\": 1}, \"colorscale\": {\"diverging\": [[0, \"#8e0152\"], [0.1, \"#c51b7d\"], [0.2, \"#de77ae\"], [0.3, \"#f1b6da\"], [0.4, \"#fde0ef\"], [0.5, \"#f7f7f7\"], [0.6, \"#e6f5d0\"], [0.7, \"#b8e186\"], [0.8, \"#7fbc41\"], [0.9, \"#4d9221\"], [1, \"#276419\"]], \"sequential\": [[0.0, \"#0d0887\"], [0.1111111111111111, \"#46039f\"], [0.2222222222222222, \"#7201a8\"], [0.3333333333333333, \"#9c179e\"], [0.4444444444444444, \"#bd3786\"], [0.5555555555555556, \"#d8576b\"], [0.6666666666666666, \"#ed7953\"], [0.7777777777777778, \"#fb9f3a\"], [0.8888888888888888, \"#fdca26\"], [1.0, \"#f0f921\"]], \"sequentialminus\": [[0.0, \"#0d0887\"], [0.1111111111111111, \"#46039f\"], [0.2222222222222222, \"#7201a8\"], [0.3333333333333333, \"#9c179e\"], [0.4444444444444444, \"#bd3786\"], [0.5555555555555556, \"#d8576b\"], [0.6666666666666666, \"#ed7953\"], [0.7777777777777778, \"#fb9f3a\"], [0.8888888888888888, \"#fdca26\"], [1.0, \"#f0f921\"]]}, \"colorway\": [\"#636efa\", \"#EF553B\", \"#00cc96\", \"#ab63fa\", \"#FFA15A\", \"#19d3f3\", \"#FF6692\", \"#B6E880\", \"#FF97FF\", \"#FECB52\"], \"font\": {\"color\": \"#2a3f5f\"}, \"geo\": {\"bgcolor\": \"white\", \"lakecolor\": \"white\", \"landcolor\": \"#E5ECF6\", \"showlakes\": true, \"showland\": true, \"subunitcolor\": \"white\"}, \"hoverlabel\": {\"align\": \"left\"}, \"hovermode\": \"closest\", \"mapbox\": {\"style\": \"light\"}, \"paper_bgcolor\": \"white\", \"plot_bgcolor\": \"#E5ECF6\", \"polar\": {\"angularaxis\": {\"gridcolor\": \"white\", \"linecolor\": \"white\", \"ticks\": \"\"}, \"bgcolor\": \"#E5ECF6\", \"radialaxis\": {\"gridcolor\": \"white\", \"linecolor\": \"white\", \"ticks\": \"\"}}, \"scene\": {\"xaxis\": {\"backgroundcolor\": \"#E5ECF6\", \"gridcolor\": \"white\", \"gridwidth\": 2, \"linecolor\": \"white\", \"showbackground\": true, \"ticks\": \"\", \"zerolinecolor\": \"white\"}, \"yaxis\": {\"backgroundcolor\": \"#E5ECF6\", \"gridcolor\": \"white\", \"gridwidth\": 2, \"linecolor\": \"white\", \"showbackground\": true, \"ticks\": \"\", \"zerolinecolor\": \"white\"}, \"zaxis\": {\"backgroundcolor\": \"#E5ECF6\", \"gridcolor\": \"white\", \"gridwidth\": 2, \"linecolor\": \"white\", \"showbackground\": true, \"ticks\": \"\", \"zerolinecolor\": \"white\"}}, \"shapedefaults\": {\"line\": {\"color\": \"#2a3f5f\"}}, \"ternary\": {\"aaxis\": {\"gridcolor\": \"white\", \"linecolor\": \"white\", \"ticks\": \"\"}, \"baxis\": {\"gridcolor\": \"white\", \"linecolor\": \"white\", \"ticks\": \"\"}, \"bgcolor\": \"#E5ECF6\", \"caxis\": {\"gridcolor\": \"white\", \"linecolor\": \"white\", \"ticks\": \"\"}}, \"title\": {\"x\": 0.05}, \"xaxis\": {\"automargin\": true, \"gridcolor\": \"white\", \"linecolor\": \"white\", \"ticks\": \"\", \"zerolinecolor\": \"white\", \"zerolinewidth\": 2}, \"yaxis\": {\"automargin\": true, \"gridcolor\": \"white\", \"linecolor\": \"white\", \"ticks\": \"\", \"zerolinecolor\": \"white\", \"zerolinewidth\": 2}}}},\n",
       "                        {\"responsive\": true}\n",
       "                    ).then(function(){\n",
       "                            \n",
       "var gd = document.getElementById('41b43587-41b0-4bdb-b091-3937ff489ffc');\n",
       "var x = new MutationObserver(function (mutations, observer) {{\n",
       "        var display = window.getComputedStyle(gd).display;\n",
       "        if (!display || display === 'none') {{\n",
       "            console.log([gd, 'removed!']);\n",
       "            Plotly.purge(gd);\n",
       "            observer.disconnect();\n",
       "        }}\n",
       "}});\n",
       "\n",
       "// Listen for the removal of the full notebook cells\n",
       "var notebookContainer = gd.closest('#notebook-container');\n",
       "if (notebookContainer) {{\n",
       "    x.observe(notebookContainer, {childList: true});\n",
       "}}\n",
       "\n",
       "// Listen for the clearing of the current output cell\n",
       "var outputEl = gd.closest('.output');\n",
       "if (outputEl) {{\n",
       "    x.observe(outputEl, {childList: true});\n",
       "}}\n",
       "\n",
       "                        })\n",
       "                };\n",
       "                });\n",
       "            </script>\n",
       "        </div>"
      ]
     },
     "metadata": {},
     "output_type": "display_data"
    }
   ],
   "source": [
    "R = [10, 20, 30, 40, 50]\n",
    "\n",
    "trace0 = go.Scatter(\n",
    "    x = R,\n",
    "    y = errorsH1,\n",
    "    mode = 'lines',\n",
    "    name = 'Heuristic1'\n",
    ")\n",
    "\n",
    "trace1 = go.Scatter(\n",
    "    x = R,\n",
    "    y = errorsH2,\n",
    "    mode = 'lines',\n",
    "    name = 'Heuristic2'\n",
    ")\n",
    "\n",
    "data = [trace0, trace1]\n",
    "\n",
    "iplot(data)"
   ]
  },
  {
   "cell_type": "markdown",
   "metadata": {},
   "source": [
    "# PLOT 3\n",
    "\n",
    "## Шум vs Error"
   ]
  },
  {
   "cell_type": "code",
   "execution_count": 86,
   "metadata": {
    "ExecuteTime": {
     "end_time": "2019-12-26T10:38:09.365834Z",
     "start_time": "2019-12-26T10:38:07.971274Z"
    }
   },
   "outputs": [
    {
     "name": "stdout",
     "output_type": "stream",
     "text": [
      "[1.0303119574627444, 2.0180821469171666, 2.671491917239024, 3.285875551251602, 4.030617398419324]\n"
     ]
    }
   ],
   "source": [
    "N = 100\n",
    "L = 100\n",
    "f = 25\n",
    "R = 35\n",
    "# r = {5,10,15,20,25}\n",
    "\n",
    "heuristic = 1\n",
    "errorsH1 = []\n",
    "\n",
    "nodes = None\n",
    "for r in range(5, 26, 5):\n",
    "    error = 0\n",
    "    for i in range(0, 20):\n",
    "        nodes = generateNodes(N, L, R, r, f)\n",
    "        nodes = findNeighbours(nodes, R)\n",
    "        nodes = estimateLocations(nodes, heuristic, r)\n",
    "        error = error + calculateError(nodes, N, f)\n",
    "    errorsH1.append(error/20)\n",
    "\n",
    "print(errorsH1)"
   ]
  },
  {
   "cell_type": "code",
   "execution_count": 87,
   "metadata": {
    "ExecuteTime": {
     "end_time": "2019-12-26T10:38:12.445127Z",
     "start_time": "2019-12-26T10:38:11.113663Z"
    }
   },
   "outputs": [
    {
     "name": "stdout",
     "output_type": "stream",
     "text": [
      "[2.487417779793502, 3.9921072299972877, 6.463715783825483, 7.955255566339927, 8.88574253548418]\n"
     ]
    }
   ],
   "source": [
    "heuristic = 2\n",
    "errorsH2 = []\n",
    "\n",
    "nodes = None\n",
    "for r in range(5, 26, 5):\n",
    "    error = 0\n",
    "    for i in range(0, 20):\n",
    "        nodes = generateNodes(N, L, R, r, f)\n",
    "        nodes = findNeighbours(nodes, R)\n",
    "        nodes = estimateLocations(nodes, heuristic, r)\n",
    "        error = error + calculateError(nodes, N, f)\n",
    "    errorsH2.append(error/20)\n",
    "\n",
    "print(errorsH2)"
   ]
  },
  {
   "cell_type": "code",
   "execution_count": 88,
   "metadata": {
    "ExecuteTime": {
     "end_time": "2019-12-26T10:38:21.628974Z",
     "start_time": "2019-12-26T10:38:21.393560Z"
    }
   },
   "outputs": [
    {
     "data": {
      "application/vnd.plotly.v1+json": {
       "config": {
        "linkText": "Export to plot.ly",
        "plotlyServerURL": "https://plot.ly",
        "showLink": false
       },
       "data": [
        {
         "mode": "lines",
         "name": "Heuristic1",
         "type": "scatter",
         "x": [
          5,
          10,
          15,
          20,
          25
         ],
         "y": [
          1.0303119574627444,
          2.0180821469171666,
          2.671491917239024,
          3.285875551251602,
          4.030617398419324
         ]
        },
        {
         "mode": "lines",
         "name": "Heuristic2",
         "type": "scatter",
         "x": [
          5,
          10,
          15,
          20,
          25
         ],
         "y": [
          2.487417779793502,
          3.9921072299972877,
          6.463715783825483,
          7.955255566339927,
          8.88574253548418
         ]
        }
       ],
       "layout": {
        "template": {
         "data": {
          "bar": [
           {
            "error_x": {
             "color": "#2a3f5f"
            },
            "error_y": {
             "color": "#2a3f5f"
            },
            "marker": {
             "line": {
              "color": "#E5ECF6",
              "width": 0.5
             }
            },
            "type": "bar"
           }
          ],
          "barpolar": [
           {
            "marker": {
             "line": {
              "color": "#E5ECF6",
              "width": 0.5
             }
            },
            "type": "barpolar"
           }
          ],
          "carpet": [
           {
            "aaxis": {
             "endlinecolor": "#2a3f5f",
             "gridcolor": "white",
             "linecolor": "white",
             "minorgridcolor": "white",
             "startlinecolor": "#2a3f5f"
            },
            "baxis": {
             "endlinecolor": "#2a3f5f",
             "gridcolor": "white",
             "linecolor": "white",
             "minorgridcolor": "white",
             "startlinecolor": "#2a3f5f"
            },
            "type": "carpet"
           }
          ],
          "choropleth": [
           {
            "colorbar": {
             "outlinewidth": 0,
             "ticks": ""
            },
            "type": "choropleth"
           }
          ],
          "contour": [
           {
            "colorbar": {
             "outlinewidth": 0,
             "ticks": ""
            },
            "colorscale": [
             [
              0,
              "#0d0887"
             ],
             [
              0.1111111111111111,
              "#46039f"
             ],
             [
              0.2222222222222222,
              "#7201a8"
             ],
             [
              0.3333333333333333,
              "#9c179e"
             ],
             [
              0.4444444444444444,
              "#bd3786"
             ],
             [
              0.5555555555555556,
              "#d8576b"
             ],
             [
              0.6666666666666666,
              "#ed7953"
             ],
             [
              0.7777777777777778,
              "#fb9f3a"
             ],
             [
              0.8888888888888888,
              "#fdca26"
             ],
             [
              1,
              "#f0f921"
             ]
            ],
            "type": "contour"
           }
          ],
          "contourcarpet": [
           {
            "colorbar": {
             "outlinewidth": 0,
             "ticks": ""
            },
            "type": "contourcarpet"
           }
          ],
          "heatmap": [
           {
            "colorbar": {
             "outlinewidth": 0,
             "ticks": ""
            },
            "colorscale": [
             [
              0,
              "#0d0887"
             ],
             [
              0.1111111111111111,
              "#46039f"
             ],
             [
              0.2222222222222222,
              "#7201a8"
             ],
             [
              0.3333333333333333,
              "#9c179e"
             ],
             [
              0.4444444444444444,
              "#bd3786"
             ],
             [
              0.5555555555555556,
              "#d8576b"
             ],
             [
              0.6666666666666666,
              "#ed7953"
             ],
             [
              0.7777777777777778,
              "#fb9f3a"
             ],
             [
              0.8888888888888888,
              "#fdca26"
             ],
             [
              1,
              "#f0f921"
             ]
            ],
            "type": "heatmap"
           }
          ],
          "heatmapgl": [
           {
            "colorbar": {
             "outlinewidth": 0,
             "ticks": ""
            },
            "colorscale": [
             [
              0,
              "#0d0887"
             ],
             [
              0.1111111111111111,
              "#46039f"
             ],
             [
              0.2222222222222222,
              "#7201a8"
             ],
             [
              0.3333333333333333,
              "#9c179e"
             ],
             [
              0.4444444444444444,
              "#bd3786"
             ],
             [
              0.5555555555555556,
              "#d8576b"
             ],
             [
              0.6666666666666666,
              "#ed7953"
             ],
             [
              0.7777777777777778,
              "#fb9f3a"
             ],
             [
              0.8888888888888888,
              "#fdca26"
             ],
             [
              1,
              "#f0f921"
             ]
            ],
            "type": "heatmapgl"
           }
          ],
          "histogram": [
           {
            "marker": {
             "colorbar": {
              "outlinewidth": 0,
              "ticks": ""
             }
            },
            "type": "histogram"
           }
          ],
          "histogram2d": [
           {
            "colorbar": {
             "outlinewidth": 0,
             "ticks": ""
            },
            "colorscale": [
             [
              0,
              "#0d0887"
             ],
             [
              0.1111111111111111,
              "#46039f"
             ],
             [
              0.2222222222222222,
              "#7201a8"
             ],
             [
              0.3333333333333333,
              "#9c179e"
             ],
             [
              0.4444444444444444,
              "#bd3786"
             ],
             [
              0.5555555555555556,
              "#d8576b"
             ],
             [
              0.6666666666666666,
              "#ed7953"
             ],
             [
              0.7777777777777778,
              "#fb9f3a"
             ],
             [
              0.8888888888888888,
              "#fdca26"
             ],
             [
              1,
              "#f0f921"
             ]
            ],
            "type": "histogram2d"
           }
          ],
          "histogram2dcontour": [
           {
            "colorbar": {
             "outlinewidth": 0,
             "ticks": ""
            },
            "colorscale": [
             [
              0,
              "#0d0887"
             ],
             [
              0.1111111111111111,
              "#46039f"
             ],
             [
              0.2222222222222222,
              "#7201a8"
             ],
             [
              0.3333333333333333,
              "#9c179e"
             ],
             [
              0.4444444444444444,
              "#bd3786"
             ],
             [
              0.5555555555555556,
              "#d8576b"
             ],
             [
              0.6666666666666666,
              "#ed7953"
             ],
             [
              0.7777777777777778,
              "#fb9f3a"
             ],
             [
              0.8888888888888888,
              "#fdca26"
             ],
             [
              1,
              "#f0f921"
             ]
            ],
            "type": "histogram2dcontour"
           }
          ],
          "mesh3d": [
           {
            "colorbar": {
             "outlinewidth": 0,
             "ticks": ""
            },
            "type": "mesh3d"
           }
          ],
          "parcoords": [
           {
            "line": {
             "colorbar": {
              "outlinewidth": 0,
              "ticks": ""
             }
            },
            "type": "parcoords"
           }
          ],
          "scatter": [
           {
            "marker": {
             "colorbar": {
              "outlinewidth": 0,
              "ticks": ""
             }
            },
            "type": "scatter"
           }
          ],
          "scatter3d": [
           {
            "line": {
             "colorbar": {
              "outlinewidth": 0,
              "ticks": ""
             }
            },
            "marker": {
             "colorbar": {
              "outlinewidth": 0,
              "ticks": ""
             }
            },
            "type": "scatter3d"
           }
          ],
          "scattercarpet": [
           {
            "marker": {
             "colorbar": {
              "outlinewidth": 0,
              "ticks": ""
             }
            },
            "type": "scattercarpet"
           }
          ],
          "scattergeo": [
           {
            "marker": {
             "colorbar": {
              "outlinewidth": 0,
              "ticks": ""
             }
            },
            "type": "scattergeo"
           }
          ],
          "scattergl": [
           {
            "marker": {
             "colorbar": {
              "outlinewidth": 0,
              "ticks": ""
             }
            },
            "type": "scattergl"
           }
          ],
          "scattermapbox": [
           {
            "marker": {
             "colorbar": {
              "outlinewidth": 0,
              "ticks": ""
             }
            },
            "type": "scattermapbox"
           }
          ],
          "scatterpolar": [
           {
            "marker": {
             "colorbar": {
              "outlinewidth": 0,
              "ticks": ""
             }
            },
            "type": "scatterpolar"
           }
          ],
          "scatterpolargl": [
           {
            "marker": {
             "colorbar": {
              "outlinewidth": 0,
              "ticks": ""
             }
            },
            "type": "scatterpolargl"
           }
          ],
          "scatterternary": [
           {
            "marker": {
             "colorbar": {
              "outlinewidth": 0,
              "ticks": ""
             }
            },
            "type": "scatterternary"
           }
          ],
          "surface": [
           {
            "colorbar": {
             "outlinewidth": 0,
             "ticks": ""
            },
            "colorscale": [
             [
              0,
              "#0d0887"
             ],
             [
              0.1111111111111111,
              "#46039f"
             ],
             [
              0.2222222222222222,
              "#7201a8"
             ],
             [
              0.3333333333333333,
              "#9c179e"
             ],
             [
              0.4444444444444444,
              "#bd3786"
             ],
             [
              0.5555555555555556,
              "#d8576b"
             ],
             [
              0.6666666666666666,
              "#ed7953"
             ],
             [
              0.7777777777777778,
              "#fb9f3a"
             ],
             [
              0.8888888888888888,
              "#fdca26"
             ],
             [
              1,
              "#f0f921"
             ]
            ],
            "type": "surface"
           }
          ],
          "table": [
           {
            "cells": {
             "fill": {
              "color": "#EBF0F8"
             },
             "line": {
              "color": "white"
             }
            },
            "header": {
             "fill": {
              "color": "#C8D4E3"
             },
             "line": {
              "color": "white"
             }
            },
            "type": "table"
           }
          ]
         },
         "layout": {
          "annotationdefaults": {
           "arrowcolor": "#2a3f5f",
           "arrowhead": 0,
           "arrowwidth": 1
          },
          "colorscale": {
           "diverging": [
            [
             0,
             "#8e0152"
            ],
            [
             0.1,
             "#c51b7d"
            ],
            [
             0.2,
             "#de77ae"
            ],
            [
             0.3,
             "#f1b6da"
            ],
            [
             0.4,
             "#fde0ef"
            ],
            [
             0.5,
             "#f7f7f7"
            ],
            [
             0.6,
             "#e6f5d0"
            ],
            [
             0.7,
             "#b8e186"
            ],
            [
             0.8,
             "#7fbc41"
            ],
            [
             0.9,
             "#4d9221"
            ],
            [
             1,
             "#276419"
            ]
           ],
           "sequential": [
            [
             0,
             "#0d0887"
            ],
            [
             0.1111111111111111,
             "#46039f"
            ],
            [
             0.2222222222222222,
             "#7201a8"
            ],
            [
             0.3333333333333333,
             "#9c179e"
            ],
            [
             0.4444444444444444,
             "#bd3786"
            ],
            [
             0.5555555555555556,
             "#d8576b"
            ],
            [
             0.6666666666666666,
             "#ed7953"
            ],
            [
             0.7777777777777778,
             "#fb9f3a"
            ],
            [
             0.8888888888888888,
             "#fdca26"
            ],
            [
             1,
             "#f0f921"
            ]
           ],
           "sequentialminus": [
            [
             0,
             "#0d0887"
            ],
            [
             0.1111111111111111,
             "#46039f"
            ],
            [
             0.2222222222222222,
             "#7201a8"
            ],
            [
             0.3333333333333333,
             "#9c179e"
            ],
            [
             0.4444444444444444,
             "#bd3786"
            ],
            [
             0.5555555555555556,
             "#d8576b"
            ],
            [
             0.6666666666666666,
             "#ed7953"
            ],
            [
             0.7777777777777778,
             "#fb9f3a"
            ],
            [
             0.8888888888888888,
             "#fdca26"
            ],
            [
             1,
             "#f0f921"
            ]
           ]
          },
          "colorway": [
           "#636efa",
           "#EF553B",
           "#00cc96",
           "#ab63fa",
           "#FFA15A",
           "#19d3f3",
           "#FF6692",
           "#B6E880",
           "#FF97FF",
           "#FECB52"
          ],
          "font": {
           "color": "#2a3f5f"
          },
          "geo": {
           "bgcolor": "white",
           "lakecolor": "white",
           "landcolor": "#E5ECF6",
           "showlakes": true,
           "showland": true,
           "subunitcolor": "white"
          },
          "hoverlabel": {
           "align": "left"
          },
          "hovermode": "closest",
          "mapbox": {
           "style": "light"
          },
          "paper_bgcolor": "white",
          "plot_bgcolor": "#E5ECF6",
          "polar": {
           "angularaxis": {
            "gridcolor": "white",
            "linecolor": "white",
            "ticks": ""
           },
           "bgcolor": "#E5ECF6",
           "radialaxis": {
            "gridcolor": "white",
            "linecolor": "white",
            "ticks": ""
           }
          },
          "scene": {
           "xaxis": {
            "backgroundcolor": "#E5ECF6",
            "gridcolor": "white",
            "gridwidth": 2,
            "linecolor": "white",
            "showbackground": true,
            "ticks": "",
            "zerolinecolor": "white"
           },
           "yaxis": {
            "backgroundcolor": "#E5ECF6",
            "gridcolor": "white",
            "gridwidth": 2,
            "linecolor": "white",
            "showbackground": true,
            "ticks": "",
            "zerolinecolor": "white"
           },
           "zaxis": {
            "backgroundcolor": "#E5ECF6",
            "gridcolor": "white",
            "gridwidth": 2,
            "linecolor": "white",
            "showbackground": true,
            "ticks": "",
            "zerolinecolor": "white"
           }
          },
          "shapedefaults": {
           "line": {
            "color": "#2a3f5f"
           }
          },
          "ternary": {
           "aaxis": {
            "gridcolor": "white",
            "linecolor": "white",
            "ticks": ""
           },
           "baxis": {
            "gridcolor": "white",
            "linecolor": "white",
            "ticks": ""
           },
           "bgcolor": "#E5ECF6",
           "caxis": {
            "gridcolor": "white",
            "linecolor": "white",
            "ticks": ""
           }
          },
          "title": {
           "x": 0.05
          },
          "xaxis": {
           "automargin": true,
           "gridcolor": "white",
           "linecolor": "white",
           "ticks": "",
           "zerolinecolor": "white",
           "zerolinewidth": 2
          },
          "yaxis": {
           "automargin": true,
           "gridcolor": "white",
           "linecolor": "white",
           "ticks": "",
           "zerolinecolor": "white",
           "zerolinewidth": 2
          }
         }
        }
       }
      },
      "text/html": [
       "<div>\n",
       "        \n",
       "        \n",
       "            <div id=\"e4bfa43b-1874-4bc6-a824-2a74404fe812\" class=\"plotly-graph-div\" style=\"height:525px; width:100%;\"></div>\n",
       "            <script type=\"text/javascript\">\n",
       "                require([\"plotly\"], function(Plotly) {\n",
       "                    window.PLOTLYENV=window.PLOTLYENV || {};\n",
       "                    \n",
       "                if (document.getElementById(\"e4bfa43b-1874-4bc6-a824-2a74404fe812\")) {\n",
       "                    Plotly.newPlot(\n",
       "                        'e4bfa43b-1874-4bc6-a824-2a74404fe812',\n",
       "                        [{\"mode\": \"lines\", \"name\": \"Heuristic1\", \"type\": \"scatter\", \"x\": [5, 10, 15, 20, 25], \"y\": [1.0303119574627444, 2.0180821469171666, 2.671491917239024, 3.285875551251602, 4.030617398419324]}, {\"mode\": \"lines\", \"name\": \"Heuristic2\", \"type\": \"scatter\", \"x\": [5, 10, 15, 20, 25], \"y\": [2.487417779793502, 3.9921072299972877, 6.463715783825483, 7.955255566339927, 8.88574253548418]}],\n",
       "                        {\"template\": {\"data\": {\"bar\": [{\"error_x\": {\"color\": \"#2a3f5f\"}, \"error_y\": {\"color\": \"#2a3f5f\"}, \"marker\": {\"line\": {\"color\": \"#E5ECF6\", \"width\": 0.5}}, \"type\": \"bar\"}], \"barpolar\": [{\"marker\": {\"line\": {\"color\": \"#E5ECF6\", \"width\": 0.5}}, \"type\": \"barpolar\"}], \"carpet\": [{\"aaxis\": {\"endlinecolor\": \"#2a3f5f\", \"gridcolor\": \"white\", \"linecolor\": \"white\", \"minorgridcolor\": \"white\", \"startlinecolor\": \"#2a3f5f\"}, \"baxis\": {\"endlinecolor\": \"#2a3f5f\", \"gridcolor\": \"white\", \"linecolor\": \"white\", \"minorgridcolor\": \"white\", \"startlinecolor\": \"#2a3f5f\"}, \"type\": \"carpet\"}], \"choropleth\": [{\"colorbar\": {\"outlinewidth\": 0, \"ticks\": \"\"}, \"type\": \"choropleth\"}], \"contour\": [{\"colorbar\": {\"outlinewidth\": 0, \"ticks\": \"\"}, \"colorscale\": [[0.0, \"#0d0887\"], [0.1111111111111111, \"#46039f\"], [0.2222222222222222, \"#7201a8\"], [0.3333333333333333, \"#9c179e\"], [0.4444444444444444, \"#bd3786\"], [0.5555555555555556, \"#d8576b\"], [0.6666666666666666, \"#ed7953\"], [0.7777777777777778, \"#fb9f3a\"], [0.8888888888888888, \"#fdca26\"], [1.0, \"#f0f921\"]], \"type\": \"contour\"}], \"contourcarpet\": [{\"colorbar\": {\"outlinewidth\": 0, \"ticks\": \"\"}, \"type\": \"contourcarpet\"}], \"heatmap\": [{\"colorbar\": {\"outlinewidth\": 0, \"ticks\": \"\"}, \"colorscale\": [[0.0, \"#0d0887\"], [0.1111111111111111, \"#46039f\"], [0.2222222222222222, \"#7201a8\"], [0.3333333333333333, \"#9c179e\"], [0.4444444444444444, \"#bd3786\"], [0.5555555555555556, \"#d8576b\"], [0.6666666666666666, \"#ed7953\"], [0.7777777777777778, \"#fb9f3a\"], [0.8888888888888888, \"#fdca26\"], [1.0, \"#f0f921\"]], \"type\": \"heatmap\"}], \"heatmapgl\": [{\"colorbar\": {\"outlinewidth\": 0, \"ticks\": \"\"}, \"colorscale\": [[0.0, \"#0d0887\"], [0.1111111111111111, \"#46039f\"], [0.2222222222222222, \"#7201a8\"], [0.3333333333333333, \"#9c179e\"], [0.4444444444444444, \"#bd3786\"], [0.5555555555555556, \"#d8576b\"], [0.6666666666666666, \"#ed7953\"], [0.7777777777777778, \"#fb9f3a\"], [0.8888888888888888, \"#fdca26\"], [1.0, \"#f0f921\"]], \"type\": \"heatmapgl\"}], \"histogram\": [{\"marker\": {\"colorbar\": {\"outlinewidth\": 0, \"ticks\": \"\"}}, \"type\": \"histogram\"}], \"histogram2d\": [{\"colorbar\": {\"outlinewidth\": 0, \"ticks\": \"\"}, \"colorscale\": [[0.0, \"#0d0887\"], [0.1111111111111111, \"#46039f\"], [0.2222222222222222, \"#7201a8\"], [0.3333333333333333, \"#9c179e\"], [0.4444444444444444, \"#bd3786\"], [0.5555555555555556, \"#d8576b\"], [0.6666666666666666, \"#ed7953\"], [0.7777777777777778, \"#fb9f3a\"], [0.8888888888888888, \"#fdca26\"], [1.0, \"#f0f921\"]], \"type\": \"histogram2d\"}], \"histogram2dcontour\": [{\"colorbar\": {\"outlinewidth\": 0, \"ticks\": \"\"}, \"colorscale\": [[0.0, \"#0d0887\"], [0.1111111111111111, \"#46039f\"], [0.2222222222222222, \"#7201a8\"], [0.3333333333333333, \"#9c179e\"], [0.4444444444444444, \"#bd3786\"], [0.5555555555555556, \"#d8576b\"], [0.6666666666666666, \"#ed7953\"], [0.7777777777777778, \"#fb9f3a\"], [0.8888888888888888, \"#fdca26\"], [1.0, \"#f0f921\"]], \"type\": \"histogram2dcontour\"}], \"mesh3d\": [{\"colorbar\": {\"outlinewidth\": 0, \"ticks\": \"\"}, \"type\": \"mesh3d\"}], \"parcoords\": [{\"line\": {\"colorbar\": {\"outlinewidth\": 0, \"ticks\": \"\"}}, \"type\": \"parcoords\"}], \"scatter\": [{\"marker\": {\"colorbar\": {\"outlinewidth\": 0, \"ticks\": \"\"}}, \"type\": \"scatter\"}], \"scatter3d\": [{\"line\": {\"colorbar\": {\"outlinewidth\": 0, \"ticks\": \"\"}}, \"marker\": {\"colorbar\": {\"outlinewidth\": 0, \"ticks\": \"\"}}, \"type\": \"scatter3d\"}], \"scattercarpet\": [{\"marker\": {\"colorbar\": {\"outlinewidth\": 0, \"ticks\": \"\"}}, \"type\": \"scattercarpet\"}], \"scattergeo\": [{\"marker\": {\"colorbar\": {\"outlinewidth\": 0, \"ticks\": \"\"}}, \"type\": \"scattergeo\"}], \"scattergl\": [{\"marker\": {\"colorbar\": {\"outlinewidth\": 0, \"ticks\": \"\"}}, \"type\": \"scattergl\"}], \"scattermapbox\": [{\"marker\": {\"colorbar\": {\"outlinewidth\": 0, \"ticks\": \"\"}}, \"type\": \"scattermapbox\"}], \"scatterpolar\": [{\"marker\": {\"colorbar\": {\"outlinewidth\": 0, \"ticks\": \"\"}}, \"type\": \"scatterpolar\"}], \"scatterpolargl\": [{\"marker\": {\"colorbar\": {\"outlinewidth\": 0, \"ticks\": \"\"}}, \"type\": \"scatterpolargl\"}], \"scatterternary\": [{\"marker\": {\"colorbar\": {\"outlinewidth\": 0, \"ticks\": \"\"}}, \"type\": \"scatterternary\"}], \"surface\": [{\"colorbar\": {\"outlinewidth\": 0, \"ticks\": \"\"}, \"colorscale\": [[0.0, \"#0d0887\"], [0.1111111111111111, \"#46039f\"], [0.2222222222222222, \"#7201a8\"], [0.3333333333333333, \"#9c179e\"], [0.4444444444444444, \"#bd3786\"], [0.5555555555555556, \"#d8576b\"], [0.6666666666666666, \"#ed7953\"], [0.7777777777777778, \"#fb9f3a\"], [0.8888888888888888, \"#fdca26\"], [1.0, \"#f0f921\"]], \"type\": \"surface\"}], \"table\": [{\"cells\": {\"fill\": {\"color\": \"#EBF0F8\"}, \"line\": {\"color\": \"white\"}}, \"header\": {\"fill\": {\"color\": \"#C8D4E3\"}, \"line\": {\"color\": \"white\"}}, \"type\": \"table\"}]}, \"layout\": {\"annotationdefaults\": {\"arrowcolor\": \"#2a3f5f\", \"arrowhead\": 0, \"arrowwidth\": 1}, \"colorscale\": {\"diverging\": [[0, \"#8e0152\"], [0.1, \"#c51b7d\"], [0.2, \"#de77ae\"], [0.3, \"#f1b6da\"], [0.4, \"#fde0ef\"], [0.5, \"#f7f7f7\"], [0.6, \"#e6f5d0\"], [0.7, \"#b8e186\"], [0.8, \"#7fbc41\"], [0.9, \"#4d9221\"], [1, \"#276419\"]], \"sequential\": [[0.0, \"#0d0887\"], [0.1111111111111111, \"#46039f\"], [0.2222222222222222, \"#7201a8\"], [0.3333333333333333, \"#9c179e\"], [0.4444444444444444, \"#bd3786\"], [0.5555555555555556, \"#d8576b\"], [0.6666666666666666, \"#ed7953\"], [0.7777777777777778, \"#fb9f3a\"], [0.8888888888888888, \"#fdca26\"], [1.0, \"#f0f921\"]], \"sequentialminus\": [[0.0, \"#0d0887\"], [0.1111111111111111, \"#46039f\"], [0.2222222222222222, \"#7201a8\"], [0.3333333333333333, \"#9c179e\"], [0.4444444444444444, \"#bd3786\"], [0.5555555555555556, \"#d8576b\"], [0.6666666666666666, \"#ed7953\"], [0.7777777777777778, \"#fb9f3a\"], [0.8888888888888888, \"#fdca26\"], [1.0, \"#f0f921\"]]}, \"colorway\": [\"#636efa\", \"#EF553B\", \"#00cc96\", \"#ab63fa\", \"#FFA15A\", \"#19d3f3\", \"#FF6692\", \"#B6E880\", \"#FF97FF\", \"#FECB52\"], \"font\": {\"color\": \"#2a3f5f\"}, \"geo\": {\"bgcolor\": \"white\", \"lakecolor\": \"white\", \"landcolor\": \"#E5ECF6\", \"showlakes\": true, \"showland\": true, \"subunitcolor\": \"white\"}, \"hoverlabel\": {\"align\": \"left\"}, \"hovermode\": \"closest\", \"mapbox\": {\"style\": \"light\"}, \"paper_bgcolor\": \"white\", \"plot_bgcolor\": \"#E5ECF6\", \"polar\": {\"angularaxis\": {\"gridcolor\": \"white\", \"linecolor\": \"white\", \"ticks\": \"\"}, \"bgcolor\": \"#E5ECF6\", \"radialaxis\": {\"gridcolor\": \"white\", \"linecolor\": \"white\", \"ticks\": \"\"}}, \"scene\": {\"xaxis\": {\"backgroundcolor\": \"#E5ECF6\", \"gridcolor\": \"white\", \"gridwidth\": 2, \"linecolor\": \"white\", \"showbackground\": true, \"ticks\": \"\", \"zerolinecolor\": \"white\"}, \"yaxis\": {\"backgroundcolor\": \"#E5ECF6\", \"gridcolor\": \"white\", \"gridwidth\": 2, \"linecolor\": \"white\", \"showbackground\": true, \"ticks\": \"\", \"zerolinecolor\": \"white\"}, \"zaxis\": {\"backgroundcolor\": \"#E5ECF6\", \"gridcolor\": \"white\", \"gridwidth\": 2, \"linecolor\": \"white\", \"showbackground\": true, \"ticks\": \"\", \"zerolinecolor\": \"white\"}}, \"shapedefaults\": {\"line\": {\"color\": \"#2a3f5f\"}}, \"ternary\": {\"aaxis\": {\"gridcolor\": \"white\", \"linecolor\": \"white\", \"ticks\": \"\"}, \"baxis\": {\"gridcolor\": \"white\", \"linecolor\": \"white\", \"ticks\": \"\"}, \"bgcolor\": \"#E5ECF6\", \"caxis\": {\"gridcolor\": \"white\", \"linecolor\": \"white\", \"ticks\": \"\"}}, \"title\": {\"x\": 0.05}, \"xaxis\": {\"automargin\": true, \"gridcolor\": \"white\", \"linecolor\": \"white\", \"ticks\": \"\", \"zerolinecolor\": \"white\", \"zerolinewidth\": 2}, \"yaxis\": {\"automargin\": true, \"gridcolor\": \"white\", \"linecolor\": \"white\", \"ticks\": \"\", \"zerolinecolor\": \"white\", \"zerolinewidth\": 2}}}},\n",
       "                        {\"responsive\": true}\n",
       "                    ).then(function(){\n",
       "                            \n",
       "var gd = document.getElementById('e4bfa43b-1874-4bc6-a824-2a74404fe812');\n",
       "var x = new MutationObserver(function (mutations, observer) {{\n",
       "        var display = window.getComputedStyle(gd).display;\n",
       "        if (!display || display === 'none') {{\n",
       "            console.log([gd, 'removed!']);\n",
       "            Plotly.purge(gd);\n",
       "            observer.disconnect();\n",
       "        }}\n",
       "}});\n",
       "\n",
       "// Listen for the removal of the full notebook cells\n",
       "var notebookContainer = gd.closest('#notebook-container');\n",
       "if (notebookContainer) {{\n",
       "    x.observe(notebookContainer, {childList: true});\n",
       "}}\n",
       "\n",
       "// Listen for the clearing of the current output cell\n",
       "var outputEl = gd.closest('.output');\n",
       "if (outputEl) {{\n",
       "    x.observe(outputEl, {childList: true});\n",
       "}}\n",
       "\n",
       "                        })\n",
       "                };\n",
       "                });\n",
       "            </script>\n",
       "        </div>"
      ]
     },
     "metadata": {},
     "output_type": "display_data"
    }
   ],
   "source": [
    "r = [5, 10, 15, 20, 25]\n",
    "\n",
    "trace0 = go.Scatter(\n",
    "    x = r,\n",
    "    y = errorsH1,\n",
    "    mode = 'lines',\n",
    "    name = 'Heuristic1'\n",
    ")\n",
    "\n",
    "trace1 = go.Scatter(\n",
    "    x = r,\n",
    "    y = errorsH2,\n",
    "    mode = 'lines',\n",
    "    name = 'Heuristic2'\n",
    ")\n",
    "\n",
    "data = [trace0, trace1]\n",
    "\n",
    "iplot(data)"
   ]
  },
  {
   "cell_type": "markdown",
   "metadata": {},
   "source": [
    "# ------------------------------------------------------------------------------------------------------------\n",
    "# МЕТРИКА 2\n",
    "## Процент на локализирани јазли (nodes) без итеративен пристап\n",
    "# ------------------------------------------------------------------------------------------------------------"
   ]
  },
  {
   "cell_type": "code",
   "execution_count": 152,
   "metadata": {
    "ExecuteTime": {
     "end_time": "2019-12-26T11:25:37.774534Z",
     "start_time": "2019-12-26T11:25:37.627959Z"
    }
   },
   "outputs": [
    {
     "name": "stdout",
     "output_type": "stream",
     "text": [
      "[41.05263157894737, 74.44444444444444, 94.11764705882354, 87.5, 98.66666666666667, 98.57142857142857, 100.0, 100.0]\n"
     ]
    }
   ],
   "source": [
    "N = 100\n",
    "L = 100\n",
    "R = 30\n",
    "r = 10\n",
    "# f = {5,10,15,20,25,30,35,40}\n",
    "heuristic = 1\n",
    "errorsH1 = []\n",
    "\n",
    "nodes = None\n",
    "localized_nodes_percentage1 = []\n",
    "for f in range(5, 41, 5):\n",
    "    error = 0\n",
    "    #for i in range(0, 20):\n",
    "    nodes = generateNodes(N, L, R, r, f)\n",
    "    nodes = findNeighbours(nodes, R)\n",
    "    nodes = estimateLocations(nodes, heuristic, iterative = False)\n",
    "\n",
    "    total = 0\n",
    "    for index in nodes:\n",
    "        if nodes[index].isAnchor > 1:\n",
    "            total += 1;\n",
    "    localized_nodes_percentage1.append(total*100/(N-f))\n",
    "\n",
    "print(localized_nodes_percentage1)"
   ]
  },
  {
   "cell_type": "code",
   "execution_count": 165,
   "metadata": {
    "ExecuteTime": {
     "end_time": "2019-12-26T11:28:36.853088Z",
     "start_time": "2019-12-26T11:28:36.701599Z"
    }
   },
   "outputs": [
    {
     "name": "stdout",
     "output_type": "stream",
     "text": [
      "[94.73684210526316, 96.66666666666667, 98.82352941176471, 100.0, 100.0, 100.0, 100.0, 100.0]\n"
     ]
    }
   ],
   "source": [
    "N = 100\n",
    "L = 100\n",
    "R = 40\n",
    "r = 10\n",
    "# f = {5,10,15,20,25,30,35,40}\n",
    "heuristic = 1\n",
    "errorsH1 = []\n",
    "\n",
    "nodes = None\n",
    "localized_nodes_percentage2 = []\n",
    "for f in range(5, 41, 5):\n",
    "    error = 0\n",
    "    #for i in range(0, 20):\n",
    "    nodes = generateNodes(N, L, R, r, f)\n",
    "    nodes = findNeighbours(nodes, R)\n",
    "    nodes = estimateLocations(nodes, heuristic, iterative = False)\n",
    "\n",
    "    total = 0\n",
    "    for index in nodes:\n",
    "        if nodes[index].isAnchor > 1:\n",
    "            total += 1;\n",
    "    localized_nodes_percentage2.append(total*100/(N-f))\n",
    "\n",
    "print(localized_nodes_percentage2)"
   ]
  },
  {
   "cell_type": "code",
   "execution_count": 167,
   "metadata": {
    "ExecuteTime": {
     "end_time": "2019-12-26T11:29:10.295340Z",
     "start_time": "2019-12-26T11:29:09.967217Z"
    }
   },
   "outputs": [
    {
     "data": {
      "application/vnd.plotly.v1+json": {
       "config": {
        "linkText": "Export to plot.ly",
        "plotlyServerURL": "https://plot.ly",
        "showLink": false
       },
       "data": [
        {
         "mode": "lines",
         "name": "R = 30",
         "type": "scatter",
         "x": [
          5,
          10,
          15,
          20,
          25,
          30,
          35,
          40
         ],
         "y": [
          41.05263157894737,
          74.44444444444444,
          94.11764705882354,
          87.5,
          98.66666666666667,
          98.57142857142857,
          100,
          100
         ]
        },
        {
         "mode": "lines",
         "name": "R = 40",
         "type": "scatter",
         "x": [
          5,
          10,
          15,
          20,
          25,
          30,
          35,
          40
         ],
         "y": [
          94.73684210526316,
          96.66666666666667,
          98.82352941176471,
          100,
          100,
          100,
          100,
          100
         ]
        }
       ],
       "layout": {
        "template": {
         "data": {
          "bar": [
           {
            "error_x": {
             "color": "#2a3f5f"
            },
            "error_y": {
             "color": "#2a3f5f"
            },
            "marker": {
             "line": {
              "color": "#E5ECF6",
              "width": 0.5
             }
            },
            "type": "bar"
           }
          ],
          "barpolar": [
           {
            "marker": {
             "line": {
              "color": "#E5ECF6",
              "width": 0.5
             }
            },
            "type": "barpolar"
           }
          ],
          "carpet": [
           {
            "aaxis": {
             "endlinecolor": "#2a3f5f",
             "gridcolor": "white",
             "linecolor": "white",
             "minorgridcolor": "white",
             "startlinecolor": "#2a3f5f"
            },
            "baxis": {
             "endlinecolor": "#2a3f5f",
             "gridcolor": "white",
             "linecolor": "white",
             "minorgridcolor": "white",
             "startlinecolor": "#2a3f5f"
            },
            "type": "carpet"
           }
          ],
          "choropleth": [
           {
            "colorbar": {
             "outlinewidth": 0,
             "ticks": ""
            },
            "type": "choropleth"
           }
          ],
          "contour": [
           {
            "colorbar": {
             "outlinewidth": 0,
             "ticks": ""
            },
            "colorscale": [
             [
              0,
              "#0d0887"
             ],
             [
              0.1111111111111111,
              "#46039f"
             ],
             [
              0.2222222222222222,
              "#7201a8"
             ],
             [
              0.3333333333333333,
              "#9c179e"
             ],
             [
              0.4444444444444444,
              "#bd3786"
             ],
             [
              0.5555555555555556,
              "#d8576b"
             ],
             [
              0.6666666666666666,
              "#ed7953"
             ],
             [
              0.7777777777777778,
              "#fb9f3a"
             ],
             [
              0.8888888888888888,
              "#fdca26"
             ],
             [
              1,
              "#f0f921"
             ]
            ],
            "type": "contour"
           }
          ],
          "contourcarpet": [
           {
            "colorbar": {
             "outlinewidth": 0,
             "ticks": ""
            },
            "type": "contourcarpet"
           }
          ],
          "heatmap": [
           {
            "colorbar": {
             "outlinewidth": 0,
             "ticks": ""
            },
            "colorscale": [
             [
              0,
              "#0d0887"
             ],
             [
              0.1111111111111111,
              "#46039f"
             ],
             [
              0.2222222222222222,
              "#7201a8"
             ],
             [
              0.3333333333333333,
              "#9c179e"
             ],
             [
              0.4444444444444444,
              "#bd3786"
             ],
             [
              0.5555555555555556,
              "#d8576b"
             ],
             [
              0.6666666666666666,
              "#ed7953"
             ],
             [
              0.7777777777777778,
              "#fb9f3a"
             ],
             [
              0.8888888888888888,
              "#fdca26"
             ],
             [
              1,
              "#f0f921"
             ]
            ],
            "type": "heatmap"
           }
          ],
          "heatmapgl": [
           {
            "colorbar": {
             "outlinewidth": 0,
             "ticks": ""
            },
            "colorscale": [
             [
              0,
              "#0d0887"
             ],
             [
              0.1111111111111111,
              "#46039f"
             ],
             [
              0.2222222222222222,
              "#7201a8"
             ],
             [
              0.3333333333333333,
              "#9c179e"
             ],
             [
              0.4444444444444444,
              "#bd3786"
             ],
             [
              0.5555555555555556,
              "#d8576b"
             ],
             [
              0.6666666666666666,
              "#ed7953"
             ],
             [
              0.7777777777777778,
              "#fb9f3a"
             ],
             [
              0.8888888888888888,
              "#fdca26"
             ],
             [
              1,
              "#f0f921"
             ]
            ],
            "type": "heatmapgl"
           }
          ],
          "histogram": [
           {
            "marker": {
             "colorbar": {
              "outlinewidth": 0,
              "ticks": ""
             }
            },
            "type": "histogram"
           }
          ],
          "histogram2d": [
           {
            "colorbar": {
             "outlinewidth": 0,
             "ticks": ""
            },
            "colorscale": [
             [
              0,
              "#0d0887"
             ],
             [
              0.1111111111111111,
              "#46039f"
             ],
             [
              0.2222222222222222,
              "#7201a8"
             ],
             [
              0.3333333333333333,
              "#9c179e"
             ],
             [
              0.4444444444444444,
              "#bd3786"
             ],
             [
              0.5555555555555556,
              "#d8576b"
             ],
             [
              0.6666666666666666,
              "#ed7953"
             ],
             [
              0.7777777777777778,
              "#fb9f3a"
             ],
             [
              0.8888888888888888,
              "#fdca26"
             ],
             [
              1,
              "#f0f921"
             ]
            ],
            "type": "histogram2d"
           }
          ],
          "histogram2dcontour": [
           {
            "colorbar": {
             "outlinewidth": 0,
             "ticks": ""
            },
            "colorscale": [
             [
              0,
              "#0d0887"
             ],
             [
              0.1111111111111111,
              "#46039f"
             ],
             [
              0.2222222222222222,
              "#7201a8"
             ],
             [
              0.3333333333333333,
              "#9c179e"
             ],
             [
              0.4444444444444444,
              "#bd3786"
             ],
             [
              0.5555555555555556,
              "#d8576b"
             ],
             [
              0.6666666666666666,
              "#ed7953"
             ],
             [
              0.7777777777777778,
              "#fb9f3a"
             ],
             [
              0.8888888888888888,
              "#fdca26"
             ],
             [
              1,
              "#f0f921"
             ]
            ],
            "type": "histogram2dcontour"
           }
          ],
          "mesh3d": [
           {
            "colorbar": {
             "outlinewidth": 0,
             "ticks": ""
            },
            "type": "mesh3d"
           }
          ],
          "parcoords": [
           {
            "line": {
             "colorbar": {
              "outlinewidth": 0,
              "ticks": ""
             }
            },
            "type": "parcoords"
           }
          ],
          "scatter": [
           {
            "marker": {
             "colorbar": {
              "outlinewidth": 0,
              "ticks": ""
             }
            },
            "type": "scatter"
           }
          ],
          "scatter3d": [
           {
            "line": {
             "colorbar": {
              "outlinewidth": 0,
              "ticks": ""
             }
            },
            "marker": {
             "colorbar": {
              "outlinewidth": 0,
              "ticks": ""
             }
            },
            "type": "scatter3d"
           }
          ],
          "scattercarpet": [
           {
            "marker": {
             "colorbar": {
              "outlinewidth": 0,
              "ticks": ""
             }
            },
            "type": "scattercarpet"
           }
          ],
          "scattergeo": [
           {
            "marker": {
             "colorbar": {
              "outlinewidth": 0,
              "ticks": ""
             }
            },
            "type": "scattergeo"
           }
          ],
          "scattergl": [
           {
            "marker": {
             "colorbar": {
              "outlinewidth": 0,
              "ticks": ""
             }
            },
            "type": "scattergl"
           }
          ],
          "scattermapbox": [
           {
            "marker": {
             "colorbar": {
              "outlinewidth": 0,
              "ticks": ""
             }
            },
            "type": "scattermapbox"
           }
          ],
          "scatterpolar": [
           {
            "marker": {
             "colorbar": {
              "outlinewidth": 0,
              "ticks": ""
             }
            },
            "type": "scatterpolar"
           }
          ],
          "scatterpolargl": [
           {
            "marker": {
             "colorbar": {
              "outlinewidth": 0,
              "ticks": ""
             }
            },
            "type": "scatterpolargl"
           }
          ],
          "scatterternary": [
           {
            "marker": {
             "colorbar": {
              "outlinewidth": 0,
              "ticks": ""
             }
            },
            "type": "scatterternary"
           }
          ],
          "surface": [
           {
            "colorbar": {
             "outlinewidth": 0,
             "ticks": ""
            },
            "colorscale": [
             [
              0,
              "#0d0887"
             ],
             [
              0.1111111111111111,
              "#46039f"
             ],
             [
              0.2222222222222222,
              "#7201a8"
             ],
             [
              0.3333333333333333,
              "#9c179e"
             ],
             [
              0.4444444444444444,
              "#bd3786"
             ],
             [
              0.5555555555555556,
              "#d8576b"
             ],
             [
              0.6666666666666666,
              "#ed7953"
             ],
             [
              0.7777777777777778,
              "#fb9f3a"
             ],
             [
              0.8888888888888888,
              "#fdca26"
             ],
             [
              1,
              "#f0f921"
             ]
            ],
            "type": "surface"
           }
          ],
          "table": [
           {
            "cells": {
             "fill": {
              "color": "#EBF0F8"
             },
             "line": {
              "color": "white"
             }
            },
            "header": {
             "fill": {
              "color": "#C8D4E3"
             },
             "line": {
              "color": "white"
             }
            },
            "type": "table"
           }
          ]
         },
         "layout": {
          "annotationdefaults": {
           "arrowcolor": "#2a3f5f",
           "arrowhead": 0,
           "arrowwidth": 1
          },
          "colorscale": {
           "diverging": [
            [
             0,
             "#8e0152"
            ],
            [
             0.1,
             "#c51b7d"
            ],
            [
             0.2,
             "#de77ae"
            ],
            [
             0.3,
             "#f1b6da"
            ],
            [
             0.4,
             "#fde0ef"
            ],
            [
             0.5,
             "#f7f7f7"
            ],
            [
             0.6,
             "#e6f5d0"
            ],
            [
             0.7,
             "#b8e186"
            ],
            [
             0.8,
             "#7fbc41"
            ],
            [
             0.9,
             "#4d9221"
            ],
            [
             1,
             "#276419"
            ]
           ],
           "sequential": [
            [
             0,
             "#0d0887"
            ],
            [
             0.1111111111111111,
             "#46039f"
            ],
            [
             0.2222222222222222,
             "#7201a8"
            ],
            [
             0.3333333333333333,
             "#9c179e"
            ],
            [
             0.4444444444444444,
             "#bd3786"
            ],
            [
             0.5555555555555556,
             "#d8576b"
            ],
            [
             0.6666666666666666,
             "#ed7953"
            ],
            [
             0.7777777777777778,
             "#fb9f3a"
            ],
            [
             0.8888888888888888,
             "#fdca26"
            ],
            [
             1,
             "#f0f921"
            ]
           ],
           "sequentialminus": [
            [
             0,
             "#0d0887"
            ],
            [
             0.1111111111111111,
             "#46039f"
            ],
            [
             0.2222222222222222,
             "#7201a8"
            ],
            [
             0.3333333333333333,
             "#9c179e"
            ],
            [
             0.4444444444444444,
             "#bd3786"
            ],
            [
             0.5555555555555556,
             "#d8576b"
            ],
            [
             0.6666666666666666,
             "#ed7953"
            ],
            [
             0.7777777777777778,
             "#fb9f3a"
            ],
            [
             0.8888888888888888,
             "#fdca26"
            ],
            [
             1,
             "#f0f921"
            ]
           ]
          },
          "colorway": [
           "#636efa",
           "#EF553B",
           "#00cc96",
           "#ab63fa",
           "#FFA15A",
           "#19d3f3",
           "#FF6692",
           "#B6E880",
           "#FF97FF",
           "#FECB52"
          ],
          "font": {
           "color": "#2a3f5f"
          },
          "geo": {
           "bgcolor": "white",
           "lakecolor": "white",
           "landcolor": "#E5ECF6",
           "showlakes": true,
           "showland": true,
           "subunitcolor": "white"
          },
          "hoverlabel": {
           "align": "left"
          },
          "hovermode": "closest",
          "mapbox": {
           "style": "light"
          },
          "paper_bgcolor": "white",
          "plot_bgcolor": "#E5ECF6",
          "polar": {
           "angularaxis": {
            "gridcolor": "white",
            "linecolor": "white",
            "ticks": ""
           },
           "bgcolor": "#E5ECF6",
           "radialaxis": {
            "gridcolor": "white",
            "linecolor": "white",
            "ticks": ""
           }
          },
          "scene": {
           "xaxis": {
            "backgroundcolor": "#E5ECF6",
            "gridcolor": "white",
            "gridwidth": 2,
            "linecolor": "white",
            "showbackground": true,
            "ticks": "",
            "zerolinecolor": "white"
           },
           "yaxis": {
            "backgroundcolor": "#E5ECF6",
            "gridcolor": "white",
            "gridwidth": 2,
            "linecolor": "white",
            "showbackground": true,
            "ticks": "",
            "zerolinecolor": "white"
           },
           "zaxis": {
            "backgroundcolor": "#E5ECF6",
            "gridcolor": "white",
            "gridwidth": 2,
            "linecolor": "white",
            "showbackground": true,
            "ticks": "",
            "zerolinecolor": "white"
           }
          },
          "shapedefaults": {
           "line": {
            "color": "#2a3f5f"
           }
          },
          "ternary": {
           "aaxis": {
            "gridcolor": "white",
            "linecolor": "white",
            "ticks": ""
           },
           "baxis": {
            "gridcolor": "white",
            "linecolor": "white",
            "ticks": ""
           },
           "bgcolor": "#E5ECF6",
           "caxis": {
            "gridcolor": "white",
            "linecolor": "white",
            "ticks": ""
           }
          },
          "title": {
           "x": 0.05
          },
          "xaxis": {
           "automargin": true,
           "gridcolor": "white",
           "linecolor": "white",
           "ticks": "",
           "zerolinecolor": "white",
           "zerolinewidth": 2
          },
          "yaxis": {
           "automargin": true,
           "gridcolor": "white",
           "linecolor": "white",
           "ticks": "",
           "zerolinecolor": "white",
           "zerolinewidth": 2
          }
         }
        }
       }
      },
      "text/html": [
       "<div>\n",
       "        \n",
       "        \n",
       "            <div id=\"1750a9bb-070e-4654-8ca7-08e0b9e5ad11\" class=\"plotly-graph-div\" style=\"height:525px; width:100%;\"></div>\n",
       "            <script type=\"text/javascript\">\n",
       "                require([\"plotly\"], function(Plotly) {\n",
       "                    window.PLOTLYENV=window.PLOTLYENV || {};\n",
       "                    \n",
       "                if (document.getElementById(\"1750a9bb-070e-4654-8ca7-08e0b9e5ad11\")) {\n",
       "                    Plotly.newPlot(\n",
       "                        '1750a9bb-070e-4654-8ca7-08e0b9e5ad11',\n",
       "                        [{\"mode\": \"lines\", \"name\": \"R = 30\", \"type\": \"scatter\", \"x\": [5, 10, 15, 20, 25, 30, 35, 40], \"y\": [41.05263157894737, 74.44444444444444, 94.11764705882354, 87.5, 98.66666666666667, 98.57142857142857, 100.0, 100.0]}, {\"mode\": \"lines\", \"name\": \"R = 40\", \"type\": \"scatter\", \"x\": [5, 10, 15, 20, 25, 30, 35, 40], \"y\": [94.73684210526316, 96.66666666666667, 98.82352941176471, 100.0, 100.0, 100.0, 100.0, 100.0]}],\n",
       "                        {\"template\": {\"data\": {\"bar\": [{\"error_x\": {\"color\": \"#2a3f5f\"}, \"error_y\": {\"color\": \"#2a3f5f\"}, \"marker\": {\"line\": {\"color\": \"#E5ECF6\", \"width\": 0.5}}, \"type\": \"bar\"}], \"barpolar\": [{\"marker\": {\"line\": {\"color\": \"#E5ECF6\", \"width\": 0.5}}, \"type\": \"barpolar\"}], \"carpet\": [{\"aaxis\": {\"endlinecolor\": \"#2a3f5f\", \"gridcolor\": \"white\", \"linecolor\": \"white\", \"minorgridcolor\": \"white\", \"startlinecolor\": \"#2a3f5f\"}, \"baxis\": {\"endlinecolor\": \"#2a3f5f\", \"gridcolor\": \"white\", \"linecolor\": \"white\", \"minorgridcolor\": \"white\", \"startlinecolor\": \"#2a3f5f\"}, \"type\": \"carpet\"}], \"choropleth\": [{\"colorbar\": {\"outlinewidth\": 0, \"ticks\": \"\"}, \"type\": \"choropleth\"}], \"contour\": [{\"colorbar\": {\"outlinewidth\": 0, \"ticks\": \"\"}, \"colorscale\": [[0.0, \"#0d0887\"], [0.1111111111111111, \"#46039f\"], [0.2222222222222222, \"#7201a8\"], [0.3333333333333333, \"#9c179e\"], [0.4444444444444444, \"#bd3786\"], [0.5555555555555556, \"#d8576b\"], [0.6666666666666666, \"#ed7953\"], [0.7777777777777778, \"#fb9f3a\"], [0.8888888888888888, \"#fdca26\"], [1.0, \"#f0f921\"]], \"type\": \"contour\"}], \"contourcarpet\": [{\"colorbar\": {\"outlinewidth\": 0, \"ticks\": \"\"}, \"type\": \"contourcarpet\"}], \"heatmap\": [{\"colorbar\": {\"outlinewidth\": 0, \"ticks\": \"\"}, \"colorscale\": [[0.0, \"#0d0887\"], [0.1111111111111111, \"#46039f\"], [0.2222222222222222, \"#7201a8\"], [0.3333333333333333, \"#9c179e\"], [0.4444444444444444, \"#bd3786\"], [0.5555555555555556, \"#d8576b\"], [0.6666666666666666, \"#ed7953\"], [0.7777777777777778, \"#fb9f3a\"], [0.8888888888888888, \"#fdca26\"], [1.0, \"#f0f921\"]], \"type\": \"heatmap\"}], \"heatmapgl\": [{\"colorbar\": {\"outlinewidth\": 0, \"ticks\": \"\"}, \"colorscale\": [[0.0, \"#0d0887\"], [0.1111111111111111, \"#46039f\"], [0.2222222222222222, \"#7201a8\"], [0.3333333333333333, \"#9c179e\"], [0.4444444444444444, \"#bd3786\"], [0.5555555555555556, \"#d8576b\"], [0.6666666666666666, \"#ed7953\"], [0.7777777777777778, \"#fb9f3a\"], [0.8888888888888888, \"#fdca26\"], [1.0, \"#f0f921\"]], \"type\": \"heatmapgl\"}], \"histogram\": [{\"marker\": {\"colorbar\": {\"outlinewidth\": 0, \"ticks\": \"\"}}, \"type\": \"histogram\"}], \"histogram2d\": [{\"colorbar\": {\"outlinewidth\": 0, \"ticks\": \"\"}, \"colorscale\": [[0.0, \"#0d0887\"], [0.1111111111111111, \"#46039f\"], [0.2222222222222222, \"#7201a8\"], [0.3333333333333333, \"#9c179e\"], [0.4444444444444444, \"#bd3786\"], [0.5555555555555556, \"#d8576b\"], [0.6666666666666666, \"#ed7953\"], [0.7777777777777778, \"#fb9f3a\"], [0.8888888888888888, \"#fdca26\"], [1.0, \"#f0f921\"]], \"type\": \"histogram2d\"}], \"histogram2dcontour\": [{\"colorbar\": {\"outlinewidth\": 0, \"ticks\": \"\"}, \"colorscale\": [[0.0, \"#0d0887\"], [0.1111111111111111, \"#46039f\"], [0.2222222222222222, \"#7201a8\"], [0.3333333333333333, \"#9c179e\"], [0.4444444444444444, \"#bd3786\"], [0.5555555555555556, \"#d8576b\"], [0.6666666666666666, \"#ed7953\"], [0.7777777777777778, \"#fb9f3a\"], [0.8888888888888888, \"#fdca26\"], [1.0, \"#f0f921\"]], \"type\": \"histogram2dcontour\"}], \"mesh3d\": [{\"colorbar\": {\"outlinewidth\": 0, \"ticks\": \"\"}, \"type\": \"mesh3d\"}], \"parcoords\": [{\"line\": {\"colorbar\": {\"outlinewidth\": 0, \"ticks\": \"\"}}, \"type\": \"parcoords\"}], \"scatter\": [{\"marker\": {\"colorbar\": {\"outlinewidth\": 0, \"ticks\": \"\"}}, \"type\": \"scatter\"}], \"scatter3d\": [{\"line\": {\"colorbar\": {\"outlinewidth\": 0, \"ticks\": \"\"}}, \"marker\": {\"colorbar\": {\"outlinewidth\": 0, \"ticks\": \"\"}}, \"type\": \"scatter3d\"}], \"scattercarpet\": [{\"marker\": {\"colorbar\": {\"outlinewidth\": 0, \"ticks\": \"\"}}, \"type\": \"scattercarpet\"}], \"scattergeo\": [{\"marker\": {\"colorbar\": {\"outlinewidth\": 0, \"ticks\": \"\"}}, \"type\": \"scattergeo\"}], \"scattergl\": [{\"marker\": {\"colorbar\": {\"outlinewidth\": 0, \"ticks\": \"\"}}, \"type\": \"scattergl\"}], \"scattermapbox\": [{\"marker\": {\"colorbar\": {\"outlinewidth\": 0, \"ticks\": \"\"}}, \"type\": \"scattermapbox\"}], \"scatterpolar\": [{\"marker\": {\"colorbar\": {\"outlinewidth\": 0, \"ticks\": \"\"}}, \"type\": \"scatterpolar\"}], \"scatterpolargl\": [{\"marker\": {\"colorbar\": {\"outlinewidth\": 0, \"ticks\": \"\"}}, \"type\": \"scatterpolargl\"}], \"scatterternary\": [{\"marker\": {\"colorbar\": {\"outlinewidth\": 0, \"ticks\": \"\"}}, \"type\": \"scatterternary\"}], \"surface\": [{\"colorbar\": {\"outlinewidth\": 0, \"ticks\": \"\"}, \"colorscale\": [[0.0, \"#0d0887\"], [0.1111111111111111, \"#46039f\"], [0.2222222222222222, \"#7201a8\"], [0.3333333333333333, \"#9c179e\"], [0.4444444444444444, \"#bd3786\"], [0.5555555555555556, \"#d8576b\"], [0.6666666666666666, \"#ed7953\"], [0.7777777777777778, \"#fb9f3a\"], [0.8888888888888888, \"#fdca26\"], [1.0, \"#f0f921\"]], \"type\": \"surface\"}], \"table\": [{\"cells\": {\"fill\": {\"color\": \"#EBF0F8\"}, \"line\": {\"color\": \"white\"}}, \"header\": {\"fill\": {\"color\": \"#C8D4E3\"}, \"line\": {\"color\": \"white\"}}, \"type\": \"table\"}]}, \"layout\": {\"annotationdefaults\": {\"arrowcolor\": \"#2a3f5f\", \"arrowhead\": 0, \"arrowwidth\": 1}, \"colorscale\": {\"diverging\": [[0, \"#8e0152\"], [0.1, \"#c51b7d\"], [0.2, \"#de77ae\"], [0.3, \"#f1b6da\"], [0.4, \"#fde0ef\"], [0.5, \"#f7f7f7\"], [0.6, \"#e6f5d0\"], [0.7, \"#b8e186\"], [0.8, \"#7fbc41\"], [0.9, \"#4d9221\"], [1, \"#276419\"]], \"sequential\": [[0.0, \"#0d0887\"], [0.1111111111111111, \"#46039f\"], [0.2222222222222222, \"#7201a8\"], [0.3333333333333333, \"#9c179e\"], [0.4444444444444444, \"#bd3786\"], [0.5555555555555556, \"#d8576b\"], [0.6666666666666666, \"#ed7953\"], [0.7777777777777778, \"#fb9f3a\"], [0.8888888888888888, \"#fdca26\"], [1.0, \"#f0f921\"]], \"sequentialminus\": [[0.0, \"#0d0887\"], [0.1111111111111111, \"#46039f\"], [0.2222222222222222, \"#7201a8\"], [0.3333333333333333, \"#9c179e\"], [0.4444444444444444, \"#bd3786\"], [0.5555555555555556, \"#d8576b\"], [0.6666666666666666, \"#ed7953\"], [0.7777777777777778, \"#fb9f3a\"], [0.8888888888888888, \"#fdca26\"], [1.0, \"#f0f921\"]]}, \"colorway\": [\"#636efa\", \"#EF553B\", \"#00cc96\", \"#ab63fa\", \"#FFA15A\", \"#19d3f3\", \"#FF6692\", \"#B6E880\", \"#FF97FF\", \"#FECB52\"], \"font\": {\"color\": \"#2a3f5f\"}, \"geo\": {\"bgcolor\": \"white\", \"lakecolor\": \"white\", \"landcolor\": \"#E5ECF6\", \"showlakes\": true, \"showland\": true, \"subunitcolor\": \"white\"}, \"hoverlabel\": {\"align\": \"left\"}, \"hovermode\": \"closest\", \"mapbox\": {\"style\": \"light\"}, \"paper_bgcolor\": \"white\", \"plot_bgcolor\": \"#E5ECF6\", \"polar\": {\"angularaxis\": {\"gridcolor\": \"white\", \"linecolor\": \"white\", \"ticks\": \"\"}, \"bgcolor\": \"#E5ECF6\", \"radialaxis\": {\"gridcolor\": \"white\", \"linecolor\": \"white\", \"ticks\": \"\"}}, \"scene\": {\"xaxis\": {\"backgroundcolor\": \"#E5ECF6\", \"gridcolor\": \"white\", \"gridwidth\": 2, \"linecolor\": \"white\", \"showbackground\": true, \"ticks\": \"\", \"zerolinecolor\": \"white\"}, \"yaxis\": {\"backgroundcolor\": \"#E5ECF6\", \"gridcolor\": \"white\", \"gridwidth\": 2, \"linecolor\": \"white\", \"showbackground\": true, \"ticks\": \"\", \"zerolinecolor\": \"white\"}, \"zaxis\": {\"backgroundcolor\": \"#E5ECF6\", \"gridcolor\": \"white\", \"gridwidth\": 2, \"linecolor\": \"white\", \"showbackground\": true, \"ticks\": \"\", \"zerolinecolor\": \"white\"}}, \"shapedefaults\": {\"line\": {\"color\": \"#2a3f5f\"}}, \"ternary\": {\"aaxis\": {\"gridcolor\": \"white\", \"linecolor\": \"white\", \"ticks\": \"\"}, \"baxis\": {\"gridcolor\": \"white\", \"linecolor\": \"white\", \"ticks\": \"\"}, \"bgcolor\": \"#E5ECF6\", \"caxis\": {\"gridcolor\": \"white\", \"linecolor\": \"white\", \"ticks\": \"\"}}, \"title\": {\"x\": 0.05}, \"xaxis\": {\"automargin\": true, \"gridcolor\": \"white\", \"linecolor\": \"white\", \"ticks\": \"\", \"zerolinecolor\": \"white\", \"zerolinewidth\": 2}, \"yaxis\": {\"automargin\": true, \"gridcolor\": \"white\", \"linecolor\": \"white\", \"ticks\": \"\", \"zerolinecolor\": \"white\", \"zerolinewidth\": 2}}}},\n",
       "                        {\"responsive\": true}\n",
       "                    ).then(function(){\n",
       "                            \n",
       "var gd = document.getElementById('1750a9bb-070e-4654-8ca7-08e0b9e5ad11');\n",
       "var x = new MutationObserver(function (mutations, observer) {{\n",
       "        var display = window.getComputedStyle(gd).display;\n",
       "        if (!display || display === 'none') {{\n",
       "            console.log([gd, 'removed!']);\n",
       "            Plotly.purge(gd);\n",
       "            observer.disconnect();\n",
       "        }}\n",
       "}});\n",
       "\n",
       "// Listen for the removal of the full notebook cells\n",
       "var notebookContainer = gd.closest('#notebook-container');\n",
       "if (notebookContainer) {{\n",
       "    x.observe(notebookContainer, {childList: true});\n",
       "}}\n",
       "\n",
       "// Listen for the clearing of the current output cell\n",
       "var outputEl = gd.closest('.output');\n",
       "if (outputEl) {{\n",
       "    x.observe(outputEl, {childList: true});\n",
       "}}\n",
       "\n",
       "                        })\n",
       "                };\n",
       "                });\n",
       "            </script>\n",
       "        </div>"
      ]
     },
     "metadata": {},
     "output_type": "display_data"
    }
   ],
   "source": [
    "r = [5, 10, 15, 20, 25, 30, 35, 40]\n",
    "\n",
    "trace0 = go.Scatter(\n",
    "    x = r,\n",
    "    y = localized_nodes_percentage1,\n",
    "    mode = 'lines',\n",
    "    name = 'R = 30'\n",
    ")\n",
    "\n",
    "trace1 = go.Scatter(\n",
    "    x = r,\n",
    "    y = localized_nodes_percentage2,\n",
    "    mode = 'lines',\n",
    "    name = 'R = 40'\n",
    ")\n",
    "\n",
    "data = [trace0, trace1]\n",
    "\n",
    "iplot(data)"
   ]
  },
  {
   "cell_type": "code",
   "execution_count": 200,
   "metadata": {
    "ExecuteTime": {
     "end_time": "2019-12-26T11:44:59.036983Z",
     "start_time": "2019-12-26T11:44:58.895334Z"
    }
   },
   "outputs": [
    {
     "name": "stdout",
     "output_type": "stream",
     "text": [
      "[90.0, 94.44444444444444, 86.66666666666667, 85.55555555555556, 86.66666666666667, 92.22222222222223, 93.33333333333333, 88.88888888888889]\n"
     ]
    }
   ],
   "source": [
    "N = 100\n",
    "L = 100\n",
    "R = 35\n",
    "# r = {5,10,15,20,25,30,35,40} \n",
    "f = 10\n",
    "heuristic = 1\n",
    "errorsH1 = []\n",
    "\n",
    "nodes = None\n",
    "localized_nodes_percentage1 = []\n",
    "for r in range(5, 41, 5):\n",
    "    # error = 0\n",
    "    #for i in range(0, 20):\n",
    "    nodes = generateNodes(N, L, R, r, f)\n",
    "    nodes = findNeighbours(nodes, R)\n",
    "    nodes = estimateLocations(nodes, heuristic, iterative = False)\n",
    "\n",
    "    total = 0\n",
    "    for index in nodes:\n",
    "        if nodes[index].isAnchor > 1:\n",
    "            total += 1;\n",
    "    localized_nodes_percentage1.append(total*100/(N-f))\n",
    "\n",
    "print(localized_nodes_percentage1)"
   ]
  },
  {
   "cell_type": "code",
   "execution_count": 192,
   "metadata": {
    "ExecuteTime": {
     "end_time": "2019-12-26T11:44:11.867251Z",
     "start_time": "2019-12-26T11:44:11.697810Z"
    }
   },
   "outputs": [
    {
     "name": "stdout",
     "output_type": "stream",
     "text": [
      "[100.0, 100.0, 100.0, 100.0, 98.88888888888889, 100.0, 98.88888888888889, 100.0]\n"
     ]
    }
   ],
   "source": [
    "N = 100\n",
    "L = 100\n",
    "R = 55\n",
    "# r = {5,10,15,20,25,30,35,40} \n",
    "f = 10\n",
    "heuristic = 1\n",
    "errorsH1 = []\n",
    "\n",
    "nodes = None\n",
    "localized_nodes_percentage1 = []\n",
    "for r in range(5, 41, 5):\n",
    "    # error = 0\n",
    "    #for i in range(0, 20):\n",
    "    nodes = generateNodes(N, L, R, r, f)\n",
    "    nodes = findNeighbours(nodes, R)\n",
    "    nodes = estimateLocations(nodes, heuristic, iterative = False)\n",
    "\n",
    "    total = 0\n",
    "    for index in nodes:\n",
    "        if nodes[index].isAnchor > 1:\n",
    "            total += 1;\n",
    "    localized_nodes_percentage1.append(total*100/(N-f))\n",
    "\n",
    "print(localized_nodes_percentage1)"
   ]
  },
  {
   "cell_type": "code",
   "execution_count": 201,
   "metadata": {
    "ExecuteTime": {
     "end_time": "2019-12-26T11:45:08.407608Z",
     "start_time": "2019-12-26T11:45:08.172517Z"
    }
   },
   "outputs": [
    {
     "data": {
      "application/vnd.plotly.v1+json": {
       "config": {
        "linkText": "Export to plot.ly",
        "plotlyServerURL": "https://plot.ly",
        "showLink": false
       },
       "data": [
        {
         "mode": "lines",
         "name": "R = 35",
         "type": "scatter",
         "x": [
          5,
          10,
          15,
          20,
          25,
          30,
          35,
          40
         ],
         "y": [
          90,
          94.44444444444444,
          86.66666666666667,
          85.55555555555556,
          86.66666666666667,
          92.22222222222223,
          93.33333333333333,
          88.88888888888889
         ]
        },
        {
         "mode": "lines",
         "name": "R = 55",
         "type": "scatter",
         "x": [
          5,
          10,
          15,
          20,
          25,
          30,
          35,
          40
         ],
         "y": [
          94.73684210526316,
          96.66666666666667,
          98.82352941176471,
          100,
          100,
          100,
          100,
          100
         ]
        }
       ],
       "layout": {
        "template": {
         "data": {
          "bar": [
           {
            "error_x": {
             "color": "#2a3f5f"
            },
            "error_y": {
             "color": "#2a3f5f"
            },
            "marker": {
             "line": {
              "color": "#E5ECF6",
              "width": 0.5
             }
            },
            "type": "bar"
           }
          ],
          "barpolar": [
           {
            "marker": {
             "line": {
              "color": "#E5ECF6",
              "width": 0.5
             }
            },
            "type": "barpolar"
           }
          ],
          "carpet": [
           {
            "aaxis": {
             "endlinecolor": "#2a3f5f",
             "gridcolor": "white",
             "linecolor": "white",
             "minorgridcolor": "white",
             "startlinecolor": "#2a3f5f"
            },
            "baxis": {
             "endlinecolor": "#2a3f5f",
             "gridcolor": "white",
             "linecolor": "white",
             "minorgridcolor": "white",
             "startlinecolor": "#2a3f5f"
            },
            "type": "carpet"
           }
          ],
          "choropleth": [
           {
            "colorbar": {
             "outlinewidth": 0,
             "ticks": ""
            },
            "type": "choropleth"
           }
          ],
          "contour": [
           {
            "colorbar": {
             "outlinewidth": 0,
             "ticks": ""
            },
            "colorscale": [
             [
              0,
              "#0d0887"
             ],
             [
              0.1111111111111111,
              "#46039f"
             ],
             [
              0.2222222222222222,
              "#7201a8"
             ],
             [
              0.3333333333333333,
              "#9c179e"
             ],
             [
              0.4444444444444444,
              "#bd3786"
             ],
             [
              0.5555555555555556,
              "#d8576b"
             ],
             [
              0.6666666666666666,
              "#ed7953"
             ],
             [
              0.7777777777777778,
              "#fb9f3a"
             ],
             [
              0.8888888888888888,
              "#fdca26"
             ],
             [
              1,
              "#f0f921"
             ]
            ],
            "type": "contour"
           }
          ],
          "contourcarpet": [
           {
            "colorbar": {
             "outlinewidth": 0,
             "ticks": ""
            },
            "type": "contourcarpet"
           }
          ],
          "heatmap": [
           {
            "colorbar": {
             "outlinewidth": 0,
             "ticks": ""
            },
            "colorscale": [
             [
              0,
              "#0d0887"
             ],
             [
              0.1111111111111111,
              "#46039f"
             ],
             [
              0.2222222222222222,
              "#7201a8"
             ],
             [
              0.3333333333333333,
              "#9c179e"
             ],
             [
              0.4444444444444444,
              "#bd3786"
             ],
             [
              0.5555555555555556,
              "#d8576b"
             ],
             [
              0.6666666666666666,
              "#ed7953"
             ],
             [
              0.7777777777777778,
              "#fb9f3a"
             ],
             [
              0.8888888888888888,
              "#fdca26"
             ],
             [
              1,
              "#f0f921"
             ]
            ],
            "type": "heatmap"
           }
          ],
          "heatmapgl": [
           {
            "colorbar": {
             "outlinewidth": 0,
             "ticks": ""
            },
            "colorscale": [
             [
              0,
              "#0d0887"
             ],
             [
              0.1111111111111111,
              "#46039f"
             ],
             [
              0.2222222222222222,
              "#7201a8"
             ],
             [
              0.3333333333333333,
              "#9c179e"
             ],
             [
              0.4444444444444444,
              "#bd3786"
             ],
             [
              0.5555555555555556,
              "#d8576b"
             ],
             [
              0.6666666666666666,
              "#ed7953"
             ],
             [
              0.7777777777777778,
              "#fb9f3a"
             ],
             [
              0.8888888888888888,
              "#fdca26"
             ],
             [
              1,
              "#f0f921"
             ]
            ],
            "type": "heatmapgl"
           }
          ],
          "histogram": [
           {
            "marker": {
             "colorbar": {
              "outlinewidth": 0,
              "ticks": ""
             }
            },
            "type": "histogram"
           }
          ],
          "histogram2d": [
           {
            "colorbar": {
             "outlinewidth": 0,
             "ticks": ""
            },
            "colorscale": [
             [
              0,
              "#0d0887"
             ],
             [
              0.1111111111111111,
              "#46039f"
             ],
             [
              0.2222222222222222,
              "#7201a8"
             ],
             [
              0.3333333333333333,
              "#9c179e"
             ],
             [
              0.4444444444444444,
              "#bd3786"
             ],
             [
              0.5555555555555556,
              "#d8576b"
             ],
             [
              0.6666666666666666,
              "#ed7953"
             ],
             [
              0.7777777777777778,
              "#fb9f3a"
             ],
             [
              0.8888888888888888,
              "#fdca26"
             ],
             [
              1,
              "#f0f921"
             ]
            ],
            "type": "histogram2d"
           }
          ],
          "histogram2dcontour": [
           {
            "colorbar": {
             "outlinewidth": 0,
             "ticks": ""
            },
            "colorscale": [
             [
              0,
              "#0d0887"
             ],
             [
              0.1111111111111111,
              "#46039f"
             ],
             [
              0.2222222222222222,
              "#7201a8"
             ],
             [
              0.3333333333333333,
              "#9c179e"
             ],
             [
              0.4444444444444444,
              "#bd3786"
             ],
             [
              0.5555555555555556,
              "#d8576b"
             ],
             [
              0.6666666666666666,
              "#ed7953"
             ],
             [
              0.7777777777777778,
              "#fb9f3a"
             ],
             [
              0.8888888888888888,
              "#fdca26"
             ],
             [
              1,
              "#f0f921"
             ]
            ],
            "type": "histogram2dcontour"
           }
          ],
          "mesh3d": [
           {
            "colorbar": {
             "outlinewidth": 0,
             "ticks": ""
            },
            "type": "mesh3d"
           }
          ],
          "parcoords": [
           {
            "line": {
             "colorbar": {
              "outlinewidth": 0,
              "ticks": ""
             }
            },
            "type": "parcoords"
           }
          ],
          "scatter": [
           {
            "marker": {
             "colorbar": {
              "outlinewidth": 0,
              "ticks": ""
             }
            },
            "type": "scatter"
           }
          ],
          "scatter3d": [
           {
            "line": {
             "colorbar": {
              "outlinewidth": 0,
              "ticks": ""
             }
            },
            "marker": {
             "colorbar": {
              "outlinewidth": 0,
              "ticks": ""
             }
            },
            "type": "scatter3d"
           }
          ],
          "scattercarpet": [
           {
            "marker": {
             "colorbar": {
              "outlinewidth": 0,
              "ticks": ""
             }
            },
            "type": "scattercarpet"
           }
          ],
          "scattergeo": [
           {
            "marker": {
             "colorbar": {
              "outlinewidth": 0,
              "ticks": ""
             }
            },
            "type": "scattergeo"
           }
          ],
          "scattergl": [
           {
            "marker": {
             "colorbar": {
              "outlinewidth": 0,
              "ticks": ""
             }
            },
            "type": "scattergl"
           }
          ],
          "scattermapbox": [
           {
            "marker": {
             "colorbar": {
              "outlinewidth": 0,
              "ticks": ""
             }
            },
            "type": "scattermapbox"
           }
          ],
          "scatterpolar": [
           {
            "marker": {
             "colorbar": {
              "outlinewidth": 0,
              "ticks": ""
             }
            },
            "type": "scatterpolar"
           }
          ],
          "scatterpolargl": [
           {
            "marker": {
             "colorbar": {
              "outlinewidth": 0,
              "ticks": ""
             }
            },
            "type": "scatterpolargl"
           }
          ],
          "scatterternary": [
           {
            "marker": {
             "colorbar": {
              "outlinewidth": 0,
              "ticks": ""
             }
            },
            "type": "scatterternary"
           }
          ],
          "surface": [
           {
            "colorbar": {
             "outlinewidth": 0,
             "ticks": ""
            },
            "colorscale": [
             [
              0,
              "#0d0887"
             ],
             [
              0.1111111111111111,
              "#46039f"
             ],
             [
              0.2222222222222222,
              "#7201a8"
             ],
             [
              0.3333333333333333,
              "#9c179e"
             ],
             [
              0.4444444444444444,
              "#bd3786"
             ],
             [
              0.5555555555555556,
              "#d8576b"
             ],
             [
              0.6666666666666666,
              "#ed7953"
             ],
             [
              0.7777777777777778,
              "#fb9f3a"
             ],
             [
              0.8888888888888888,
              "#fdca26"
             ],
             [
              1,
              "#f0f921"
             ]
            ],
            "type": "surface"
           }
          ],
          "table": [
           {
            "cells": {
             "fill": {
              "color": "#EBF0F8"
             },
             "line": {
              "color": "white"
             }
            },
            "header": {
             "fill": {
              "color": "#C8D4E3"
             },
             "line": {
              "color": "white"
             }
            },
            "type": "table"
           }
          ]
         },
         "layout": {
          "annotationdefaults": {
           "arrowcolor": "#2a3f5f",
           "arrowhead": 0,
           "arrowwidth": 1
          },
          "colorscale": {
           "diverging": [
            [
             0,
             "#8e0152"
            ],
            [
             0.1,
             "#c51b7d"
            ],
            [
             0.2,
             "#de77ae"
            ],
            [
             0.3,
             "#f1b6da"
            ],
            [
             0.4,
             "#fde0ef"
            ],
            [
             0.5,
             "#f7f7f7"
            ],
            [
             0.6,
             "#e6f5d0"
            ],
            [
             0.7,
             "#b8e186"
            ],
            [
             0.8,
             "#7fbc41"
            ],
            [
             0.9,
             "#4d9221"
            ],
            [
             1,
             "#276419"
            ]
           ],
           "sequential": [
            [
             0,
             "#0d0887"
            ],
            [
             0.1111111111111111,
             "#46039f"
            ],
            [
             0.2222222222222222,
             "#7201a8"
            ],
            [
             0.3333333333333333,
             "#9c179e"
            ],
            [
             0.4444444444444444,
             "#bd3786"
            ],
            [
             0.5555555555555556,
             "#d8576b"
            ],
            [
             0.6666666666666666,
             "#ed7953"
            ],
            [
             0.7777777777777778,
             "#fb9f3a"
            ],
            [
             0.8888888888888888,
             "#fdca26"
            ],
            [
             1,
             "#f0f921"
            ]
           ],
           "sequentialminus": [
            [
             0,
             "#0d0887"
            ],
            [
             0.1111111111111111,
             "#46039f"
            ],
            [
             0.2222222222222222,
             "#7201a8"
            ],
            [
             0.3333333333333333,
             "#9c179e"
            ],
            [
             0.4444444444444444,
             "#bd3786"
            ],
            [
             0.5555555555555556,
             "#d8576b"
            ],
            [
             0.6666666666666666,
             "#ed7953"
            ],
            [
             0.7777777777777778,
             "#fb9f3a"
            ],
            [
             0.8888888888888888,
             "#fdca26"
            ],
            [
             1,
             "#f0f921"
            ]
           ]
          },
          "colorway": [
           "#636efa",
           "#EF553B",
           "#00cc96",
           "#ab63fa",
           "#FFA15A",
           "#19d3f3",
           "#FF6692",
           "#B6E880",
           "#FF97FF",
           "#FECB52"
          ],
          "font": {
           "color": "#2a3f5f"
          },
          "geo": {
           "bgcolor": "white",
           "lakecolor": "white",
           "landcolor": "#E5ECF6",
           "showlakes": true,
           "showland": true,
           "subunitcolor": "white"
          },
          "hoverlabel": {
           "align": "left"
          },
          "hovermode": "closest",
          "mapbox": {
           "style": "light"
          },
          "paper_bgcolor": "white",
          "plot_bgcolor": "#E5ECF6",
          "polar": {
           "angularaxis": {
            "gridcolor": "white",
            "linecolor": "white",
            "ticks": ""
           },
           "bgcolor": "#E5ECF6",
           "radialaxis": {
            "gridcolor": "white",
            "linecolor": "white",
            "ticks": ""
           }
          },
          "scene": {
           "xaxis": {
            "backgroundcolor": "#E5ECF6",
            "gridcolor": "white",
            "gridwidth": 2,
            "linecolor": "white",
            "showbackground": true,
            "ticks": "",
            "zerolinecolor": "white"
           },
           "yaxis": {
            "backgroundcolor": "#E5ECF6",
            "gridcolor": "white",
            "gridwidth": 2,
            "linecolor": "white",
            "showbackground": true,
            "ticks": "",
            "zerolinecolor": "white"
           },
           "zaxis": {
            "backgroundcolor": "#E5ECF6",
            "gridcolor": "white",
            "gridwidth": 2,
            "linecolor": "white",
            "showbackground": true,
            "ticks": "",
            "zerolinecolor": "white"
           }
          },
          "shapedefaults": {
           "line": {
            "color": "#2a3f5f"
           }
          },
          "ternary": {
           "aaxis": {
            "gridcolor": "white",
            "linecolor": "white",
            "ticks": ""
           },
           "baxis": {
            "gridcolor": "white",
            "linecolor": "white",
            "ticks": ""
           },
           "bgcolor": "#E5ECF6",
           "caxis": {
            "gridcolor": "white",
            "linecolor": "white",
            "ticks": ""
           }
          },
          "title": {
           "x": 0.05
          },
          "xaxis": {
           "automargin": true,
           "gridcolor": "white",
           "linecolor": "white",
           "ticks": "",
           "zerolinecolor": "white",
           "zerolinewidth": 2
          },
          "yaxis": {
           "automargin": true,
           "gridcolor": "white",
           "linecolor": "white",
           "ticks": "",
           "zerolinecolor": "white",
           "zerolinewidth": 2
          }
         }
        }
       }
      },
      "text/html": [
       "<div>\n",
       "        \n",
       "        \n",
       "            <div id=\"1d58afe1-95d1-4ca0-a156-51c11e7206d7\" class=\"plotly-graph-div\" style=\"height:525px; width:100%;\"></div>\n",
       "            <script type=\"text/javascript\">\n",
       "                require([\"plotly\"], function(Plotly) {\n",
       "                    window.PLOTLYENV=window.PLOTLYENV || {};\n",
       "                    \n",
       "                if (document.getElementById(\"1d58afe1-95d1-4ca0-a156-51c11e7206d7\")) {\n",
       "                    Plotly.newPlot(\n",
       "                        '1d58afe1-95d1-4ca0-a156-51c11e7206d7',\n",
       "                        [{\"mode\": \"lines\", \"name\": \"R = 35\", \"type\": \"scatter\", \"x\": [5, 10, 15, 20, 25, 30, 35, 40], \"y\": [90.0, 94.44444444444444, 86.66666666666667, 85.55555555555556, 86.66666666666667, 92.22222222222223, 93.33333333333333, 88.88888888888889]}, {\"mode\": \"lines\", \"name\": \"R = 55\", \"type\": \"scatter\", \"x\": [5, 10, 15, 20, 25, 30, 35, 40], \"y\": [94.73684210526316, 96.66666666666667, 98.82352941176471, 100.0, 100.0, 100.0, 100.0, 100.0]}],\n",
       "                        {\"template\": {\"data\": {\"bar\": [{\"error_x\": {\"color\": \"#2a3f5f\"}, \"error_y\": {\"color\": \"#2a3f5f\"}, \"marker\": {\"line\": {\"color\": \"#E5ECF6\", \"width\": 0.5}}, \"type\": \"bar\"}], \"barpolar\": [{\"marker\": {\"line\": {\"color\": \"#E5ECF6\", \"width\": 0.5}}, \"type\": \"barpolar\"}], \"carpet\": [{\"aaxis\": {\"endlinecolor\": \"#2a3f5f\", \"gridcolor\": \"white\", \"linecolor\": \"white\", \"minorgridcolor\": \"white\", \"startlinecolor\": \"#2a3f5f\"}, \"baxis\": {\"endlinecolor\": \"#2a3f5f\", \"gridcolor\": \"white\", \"linecolor\": \"white\", \"minorgridcolor\": \"white\", \"startlinecolor\": \"#2a3f5f\"}, \"type\": \"carpet\"}], \"choropleth\": [{\"colorbar\": {\"outlinewidth\": 0, \"ticks\": \"\"}, \"type\": \"choropleth\"}], \"contour\": [{\"colorbar\": {\"outlinewidth\": 0, \"ticks\": \"\"}, \"colorscale\": [[0.0, \"#0d0887\"], [0.1111111111111111, \"#46039f\"], [0.2222222222222222, \"#7201a8\"], [0.3333333333333333, \"#9c179e\"], [0.4444444444444444, \"#bd3786\"], [0.5555555555555556, \"#d8576b\"], [0.6666666666666666, \"#ed7953\"], [0.7777777777777778, \"#fb9f3a\"], [0.8888888888888888, \"#fdca26\"], [1.0, \"#f0f921\"]], \"type\": \"contour\"}], \"contourcarpet\": [{\"colorbar\": {\"outlinewidth\": 0, \"ticks\": \"\"}, \"type\": \"contourcarpet\"}], \"heatmap\": [{\"colorbar\": {\"outlinewidth\": 0, \"ticks\": \"\"}, \"colorscale\": [[0.0, \"#0d0887\"], [0.1111111111111111, \"#46039f\"], [0.2222222222222222, \"#7201a8\"], [0.3333333333333333, \"#9c179e\"], [0.4444444444444444, \"#bd3786\"], [0.5555555555555556, \"#d8576b\"], [0.6666666666666666, \"#ed7953\"], [0.7777777777777778, \"#fb9f3a\"], [0.8888888888888888, \"#fdca26\"], [1.0, \"#f0f921\"]], \"type\": \"heatmap\"}], \"heatmapgl\": [{\"colorbar\": {\"outlinewidth\": 0, \"ticks\": \"\"}, \"colorscale\": [[0.0, \"#0d0887\"], [0.1111111111111111, \"#46039f\"], [0.2222222222222222, \"#7201a8\"], [0.3333333333333333, \"#9c179e\"], [0.4444444444444444, \"#bd3786\"], [0.5555555555555556, \"#d8576b\"], [0.6666666666666666, \"#ed7953\"], [0.7777777777777778, \"#fb9f3a\"], [0.8888888888888888, \"#fdca26\"], [1.0, \"#f0f921\"]], \"type\": \"heatmapgl\"}], \"histogram\": [{\"marker\": {\"colorbar\": {\"outlinewidth\": 0, \"ticks\": \"\"}}, \"type\": \"histogram\"}], \"histogram2d\": [{\"colorbar\": {\"outlinewidth\": 0, \"ticks\": \"\"}, \"colorscale\": [[0.0, \"#0d0887\"], [0.1111111111111111, \"#46039f\"], [0.2222222222222222, \"#7201a8\"], [0.3333333333333333, \"#9c179e\"], [0.4444444444444444, \"#bd3786\"], [0.5555555555555556, \"#d8576b\"], [0.6666666666666666, \"#ed7953\"], [0.7777777777777778, \"#fb9f3a\"], [0.8888888888888888, \"#fdca26\"], [1.0, \"#f0f921\"]], \"type\": \"histogram2d\"}], \"histogram2dcontour\": [{\"colorbar\": {\"outlinewidth\": 0, \"ticks\": \"\"}, \"colorscale\": [[0.0, \"#0d0887\"], [0.1111111111111111, \"#46039f\"], [0.2222222222222222, \"#7201a8\"], [0.3333333333333333, \"#9c179e\"], [0.4444444444444444, \"#bd3786\"], [0.5555555555555556, \"#d8576b\"], [0.6666666666666666, \"#ed7953\"], [0.7777777777777778, \"#fb9f3a\"], [0.8888888888888888, \"#fdca26\"], [1.0, \"#f0f921\"]], \"type\": \"histogram2dcontour\"}], \"mesh3d\": [{\"colorbar\": {\"outlinewidth\": 0, \"ticks\": \"\"}, \"type\": \"mesh3d\"}], \"parcoords\": [{\"line\": {\"colorbar\": {\"outlinewidth\": 0, \"ticks\": \"\"}}, \"type\": \"parcoords\"}], \"scatter\": [{\"marker\": {\"colorbar\": {\"outlinewidth\": 0, \"ticks\": \"\"}}, \"type\": \"scatter\"}], \"scatter3d\": [{\"line\": {\"colorbar\": {\"outlinewidth\": 0, \"ticks\": \"\"}}, \"marker\": {\"colorbar\": {\"outlinewidth\": 0, \"ticks\": \"\"}}, \"type\": \"scatter3d\"}], \"scattercarpet\": [{\"marker\": {\"colorbar\": {\"outlinewidth\": 0, \"ticks\": \"\"}}, \"type\": \"scattercarpet\"}], \"scattergeo\": [{\"marker\": {\"colorbar\": {\"outlinewidth\": 0, \"ticks\": \"\"}}, \"type\": \"scattergeo\"}], \"scattergl\": [{\"marker\": {\"colorbar\": {\"outlinewidth\": 0, \"ticks\": \"\"}}, \"type\": \"scattergl\"}], \"scattermapbox\": [{\"marker\": {\"colorbar\": {\"outlinewidth\": 0, \"ticks\": \"\"}}, \"type\": \"scattermapbox\"}], \"scatterpolar\": [{\"marker\": {\"colorbar\": {\"outlinewidth\": 0, \"ticks\": \"\"}}, \"type\": \"scatterpolar\"}], \"scatterpolargl\": [{\"marker\": {\"colorbar\": {\"outlinewidth\": 0, \"ticks\": \"\"}}, \"type\": \"scatterpolargl\"}], \"scatterternary\": [{\"marker\": {\"colorbar\": {\"outlinewidth\": 0, \"ticks\": \"\"}}, \"type\": \"scatterternary\"}], \"surface\": [{\"colorbar\": {\"outlinewidth\": 0, \"ticks\": \"\"}, \"colorscale\": [[0.0, \"#0d0887\"], [0.1111111111111111, \"#46039f\"], [0.2222222222222222, \"#7201a8\"], [0.3333333333333333, \"#9c179e\"], [0.4444444444444444, \"#bd3786\"], [0.5555555555555556, \"#d8576b\"], [0.6666666666666666, \"#ed7953\"], [0.7777777777777778, \"#fb9f3a\"], [0.8888888888888888, \"#fdca26\"], [1.0, \"#f0f921\"]], \"type\": \"surface\"}], \"table\": [{\"cells\": {\"fill\": {\"color\": \"#EBF0F8\"}, \"line\": {\"color\": \"white\"}}, \"header\": {\"fill\": {\"color\": \"#C8D4E3\"}, \"line\": {\"color\": \"white\"}}, \"type\": \"table\"}]}, \"layout\": {\"annotationdefaults\": {\"arrowcolor\": \"#2a3f5f\", \"arrowhead\": 0, \"arrowwidth\": 1}, \"colorscale\": {\"diverging\": [[0, \"#8e0152\"], [0.1, \"#c51b7d\"], [0.2, \"#de77ae\"], [0.3, \"#f1b6da\"], [0.4, \"#fde0ef\"], [0.5, \"#f7f7f7\"], [0.6, \"#e6f5d0\"], [0.7, \"#b8e186\"], [0.8, \"#7fbc41\"], [0.9, \"#4d9221\"], [1, \"#276419\"]], \"sequential\": [[0.0, \"#0d0887\"], [0.1111111111111111, \"#46039f\"], [0.2222222222222222, \"#7201a8\"], [0.3333333333333333, \"#9c179e\"], [0.4444444444444444, \"#bd3786\"], [0.5555555555555556, \"#d8576b\"], [0.6666666666666666, \"#ed7953\"], [0.7777777777777778, \"#fb9f3a\"], [0.8888888888888888, \"#fdca26\"], [1.0, \"#f0f921\"]], \"sequentialminus\": [[0.0, \"#0d0887\"], [0.1111111111111111, \"#46039f\"], [0.2222222222222222, \"#7201a8\"], [0.3333333333333333, \"#9c179e\"], [0.4444444444444444, \"#bd3786\"], [0.5555555555555556, \"#d8576b\"], [0.6666666666666666, \"#ed7953\"], [0.7777777777777778, \"#fb9f3a\"], [0.8888888888888888, \"#fdca26\"], [1.0, \"#f0f921\"]]}, \"colorway\": [\"#636efa\", \"#EF553B\", \"#00cc96\", \"#ab63fa\", \"#FFA15A\", \"#19d3f3\", \"#FF6692\", \"#B6E880\", \"#FF97FF\", \"#FECB52\"], \"font\": {\"color\": \"#2a3f5f\"}, \"geo\": {\"bgcolor\": \"white\", \"lakecolor\": \"white\", \"landcolor\": \"#E5ECF6\", \"showlakes\": true, \"showland\": true, \"subunitcolor\": \"white\"}, \"hoverlabel\": {\"align\": \"left\"}, \"hovermode\": \"closest\", \"mapbox\": {\"style\": \"light\"}, \"paper_bgcolor\": \"white\", \"plot_bgcolor\": \"#E5ECF6\", \"polar\": {\"angularaxis\": {\"gridcolor\": \"white\", \"linecolor\": \"white\", \"ticks\": \"\"}, \"bgcolor\": \"#E5ECF6\", \"radialaxis\": {\"gridcolor\": \"white\", \"linecolor\": \"white\", \"ticks\": \"\"}}, \"scene\": {\"xaxis\": {\"backgroundcolor\": \"#E5ECF6\", \"gridcolor\": \"white\", \"gridwidth\": 2, \"linecolor\": \"white\", \"showbackground\": true, \"ticks\": \"\", \"zerolinecolor\": \"white\"}, \"yaxis\": {\"backgroundcolor\": \"#E5ECF6\", \"gridcolor\": \"white\", \"gridwidth\": 2, \"linecolor\": \"white\", \"showbackground\": true, \"ticks\": \"\", \"zerolinecolor\": \"white\"}, \"zaxis\": {\"backgroundcolor\": \"#E5ECF6\", \"gridcolor\": \"white\", \"gridwidth\": 2, \"linecolor\": \"white\", \"showbackground\": true, \"ticks\": \"\", \"zerolinecolor\": \"white\"}}, \"shapedefaults\": {\"line\": {\"color\": \"#2a3f5f\"}}, \"ternary\": {\"aaxis\": {\"gridcolor\": \"white\", \"linecolor\": \"white\", \"ticks\": \"\"}, \"baxis\": {\"gridcolor\": \"white\", \"linecolor\": \"white\", \"ticks\": \"\"}, \"bgcolor\": \"#E5ECF6\", \"caxis\": {\"gridcolor\": \"white\", \"linecolor\": \"white\", \"ticks\": \"\"}}, \"title\": {\"x\": 0.05}, \"xaxis\": {\"automargin\": true, \"gridcolor\": \"white\", \"linecolor\": \"white\", \"ticks\": \"\", \"zerolinecolor\": \"white\", \"zerolinewidth\": 2}, \"yaxis\": {\"automargin\": true, \"gridcolor\": \"white\", \"linecolor\": \"white\", \"ticks\": \"\", \"zerolinecolor\": \"white\", \"zerolinewidth\": 2}}}},\n",
       "                        {\"responsive\": true}\n",
       "                    ).then(function(){\n",
       "                            \n",
       "var gd = document.getElementById('1d58afe1-95d1-4ca0-a156-51c11e7206d7');\n",
       "var x = new MutationObserver(function (mutations, observer) {{\n",
       "        var display = window.getComputedStyle(gd).display;\n",
       "        if (!display || display === 'none') {{\n",
       "            console.log([gd, 'removed!']);\n",
       "            Plotly.purge(gd);\n",
       "            observer.disconnect();\n",
       "        }}\n",
       "}});\n",
       "\n",
       "// Listen for the removal of the full notebook cells\n",
       "var notebookContainer = gd.closest('#notebook-container');\n",
       "if (notebookContainer) {{\n",
       "    x.observe(notebookContainer, {childList: true});\n",
       "}}\n",
       "\n",
       "// Listen for the clearing of the current output cell\n",
       "var outputEl = gd.closest('.output');\n",
       "if (outputEl) {{\n",
       "    x.observe(outputEl, {childList: true});\n",
       "}}\n",
       "\n",
       "                        })\n",
       "                };\n",
       "                });\n",
       "            </script>\n",
       "        </div>"
      ]
     },
     "metadata": {},
     "output_type": "display_data"
    }
   ],
   "source": [
    "r = [5, 10, 15, 20, 25, 30, 35, 40]\n",
    "\n",
    "trace0 = go.Scatter(\n",
    "    x = r,\n",
    "    y = localized_nodes_percentage1,\n",
    "    mode = 'lines',\n",
    "    name = 'R = 35'\n",
    ")\n",
    "\n",
    "trace1 = go.Scatter(\n",
    "    x = r,\n",
    "    y = localized_nodes_percentage2,\n",
    "    mode = 'lines',\n",
    "    name = 'R = 55'\n",
    ")\n",
    "\n",
    "data = [trace0, trace1]\n",
    "\n",
    "iplot(data)"
   ]
  }
 ],
 "metadata": {
  "kernelspec": {
   "display_name": "Python 3",
   "language": "python",
   "name": "python3"
  },
  "language_info": {
   "codemirror_mode": {
    "name": "ipython",
    "version": 3
   },
   "file_extension": ".py",
   "mimetype": "text/x-python",
   "name": "python",
   "nbconvert_exporter": "python",
   "pygments_lexer": "ipython3",
   "version": "3.7.3"
  }
 },
 "nbformat": 4,
 "nbformat_minor": 2
}
