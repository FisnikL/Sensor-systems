{
 "cells": [
  {
   "cell_type": "markdown",
   "metadata": {},
   "source": [
    "# COURSE: СЕНЗОРСКИ СИСТЕМИ\n",
    "<br/> \n",
    "\n",
    "# LAB3\n",
    "<br/>"
   ]
  },
  {
   "cell_type": "markdown",
   "metadata": {},
   "source": [
    "N - број на јазли \n",
    "\n",
    "L - должина на областа каде е дистрибуирана мрежата \n",
    "\n",
    "R - радио опсег \n",
    "\n",
    "r - шум  \n",
    "\n",
    "f - фракција (процент) на anchor јазли "
   ]
  },
  {
   "cell_type": "code",
   "execution_count": 202,
   "metadata": {
    "ExecuteTime": {
     "end_time": "2019-12-27T09:34:17.755181Z",
     "start_time": "2019-12-27T09:34:17.712268Z"
    }
   },
   "outputs": [
    {
     "data": {
      "text/html": [
       "        <script type=\"text/javascript\">\n",
       "        window.PlotlyConfig = {MathJaxConfig: 'local'};\n",
       "        if (window.MathJax) {MathJax.Hub.Config({SVG: {font: \"STIX-Web\"}});}\n",
       "        if (typeof require !== 'undefined') {\n",
       "        require.undef(\"plotly\");\n",
       "        requirejs.config({\n",
       "            paths: {\n",
       "                'plotly': ['https://cdn.plot.ly/plotly-latest.min']\n",
       "            }\n",
       "        });\n",
       "        require(['plotly'], function(Plotly) {\n",
       "            window._Plotly = Plotly;\n",
       "        });\n",
       "        }\n",
       "        </script>\n",
       "        "
      ]
     },
     "metadata": {},
     "output_type": "display_data"
    }
   ],
   "source": [
    "# IMPORTS\n",
    "import numpy as np\n",
    "import math\n",
    "import chart_studio.plotly as py\n",
    "import plotly.graph_objs as go\n",
    "from plotly.offline import download_plotlyjs, init_notebook_mode, plot, iplot\n",
    "init_notebook_mode(connected=True)\n",
    "import random\n",
    "from math import cos, sin, pi\n",
    "import matplotlib.cm as cm\n",
    "import matplotlib.pyplot as plt\n",
    "%matplotlib inline"
   ]
  },
  {
   "cell_type": "markdown",
   "metadata": {},
   "source": [
    "# TRILATERATION"
   ]
  },
  {
   "cell_type": "code",
   "execution_count": 203,
   "metadata": {
    "ExecuteTime": {
     "end_time": "2019-12-27T09:34:17.810972Z",
     "start_time": "2019-12-27T09:34:17.757117Z"
    },
    "hide_input": true
   },
   "outputs": [],
   "source": [
    "# https://github.com/rkcosmos/Location_Trilateration\n",
    "\n",
    "def distance(p1,p2):\n",
    "    dx = p1[0]-p2[0]\n",
    "    dy = p1[1]-p2[1]\n",
    "    distance = np.sqrt(dx*dx+dy*dy)\n",
    "    return distance\n",
    "\n",
    "def circle_intersection(circle1, circle2):\n",
    "    '''\n",
    "    Find 2 intersection points from 2 circles.\n",
    "    if circles are non overlap, return middle point between 2 perimeters\n",
    "    '''  \n",
    "    x1,y1,r1 = circle1\n",
    "    x2,y2,r2 = circle2\n",
    "    dx,dy = x2-x1,y2-y1\n",
    "    d = np.sqrt(dx*dx+dy*dy)\n",
    "    #d = distance([x1,y1],[x2,y2])\n",
    "    \n",
    "    # non-overlapping circles\n",
    "    if d >= r1+r2:\n",
    "        return (( (d+r1-r2)/(2*d)*(x2-x1)+x1, (d+r1-r2)/(2*d)*(y2-y1)+y1 ),) \n",
    "\n",
    "    # one circle inside another\n",
    "    elif r1 > (d+r2) or r2 > (d+r1):\n",
    "        if dx == 0: angle = pi/2\n",
    "        else: angle = np.arctan(dy/dx)\n",
    "        p11 = [ x1+r1*cos(angle), y1+r1*sin(angle) ]\n",
    "        p12 = [ x1-r1*cos(angle), y1-r1*sin(angle) ]\n",
    "        p21 = [ x2+r2*cos(angle), y2+r2*sin(angle) ]\n",
    "        p22 = [ x2-r2*cos(angle), y2-r2*sin(angle) ]\n",
    "        \n",
    "        point_set = [[p11,p21],[p11,p22],[p12,p21],[p12,p22]]\n",
    "        \n",
    "        dist_set = [distance(item[0],item[1]) for item in point_set]\n",
    "        points = point_set[np.argmin(dist_set)]\n",
    "        points = np.array(points)\n",
    "        points = sum(points)/len(points)\n",
    "\n",
    "        return (points,)\n",
    "    \n",
    "    # overlapping circles\n",
    "    else:\n",
    "        a = (r1*r1-r2*r2+d*d)/(2*d)\n",
    "        h = np.sqrt(r1*r1-a*a)\n",
    "        xm = x1 + a*dx/d\n",
    "        ym = y1 + a*dy/d\n",
    "        xs1 = xm + h*dy/d\n",
    "        xs2 = xm - h*dy/d\n",
    "        ys1 = ym - h*dx/d\n",
    "        ys2 = ym + h*dx/d\n",
    "\n",
    "        return (xs1,ys1),(xs2,ys2)\n",
    "\n",
    "def plot_t(cs):\n",
    "   \n",
    "    cmap = cm.plasma\n",
    "    \n",
    "    fig, ax = plt.subplots() \n",
    "    ax.set(xlim=[-10, 10], ylim=[-10, 10], aspect=1)\n",
    "    \n",
    "    for i,c in enumerate(cs):\n",
    "        ax.add_artist(plt.Circle(c[:2], c[2], color=cmap(i/len(cs)), alpha=0.5))\n",
    "        ax.plot(c[0], c[1], 'or')\n",
    "\n",
    "    return fig, ax\n",
    "\n",
    "def choose_point(points, circle, order):\n",
    "    '''\n",
    "    1. choose point nearest to perimeter of given circle\n",
    "    2. between choosen point and perimeter of circle, calculate location from weight average \n",
    "    \n",
    "    Args:\n",
    "        points: [[x1,y1],[x2,x2],...]\n",
    "        circle: [center_x, center_y, radius]\n",
    "        order = number of circle in this calculation\n",
    "    Returns:\n",
    "        result: [x,y]\n",
    "    ''' \n",
    "    distance = ()\n",
    "    for point in points:\n",
    "        dx = point[0]-circle[0]\n",
    "        dy = point[1]-circle[1]\n",
    "        dist = np.sqrt(dx*dx+dy*dy) - circle[2] \n",
    "        distance = distance + (dist,)\n",
    "    \n",
    "    arg = np.argmin([abs(i) for i in distance])\n",
    "    choosen_point = points[arg]\n",
    "    # ref_point = point on c3 perimeter closest to choosen_point\n",
    "    ref_point = [circle[0]+(choosen_point[0]-circle[0])*circle[2]/(circle[2]+distance[arg]), \n",
    "                 circle[1]+(choosen_point[1]-circle[1])*circle[2]/(circle[2]+distance[arg])]\n",
    "    result = [((order-1)*choosen_point[0]+ref_point[0])/order, ((order-1)*choosen_point[1]+ref_point[1])/order]\n",
    "        \n",
    "    return result\n",
    "\n",
    "\n",
    "def trilateration(c1, c2, c3):\n",
    "    \n",
    "    points = circle_intersection(c1, c2)\n",
    "    result = choose_point(points, c3, 3)\n",
    "    \n",
    "    #fig, ax = plot_t([c1, c2, c3])\n",
    "    #ax.plot(result[0], result[1], \"*\")\n",
    "    return result"
   ]
  },
  {
   "cell_type": "code",
   "execution_count": 204,
   "metadata": {
    "ExecuteTime": {
     "end_time": "2019-12-27T09:34:18.316680Z",
     "start_time": "2019-12-27T09:34:17.812967Z"
    },
    "hide_input": false
   },
   "outputs": [
    {
     "data": {
      "application/vnd.plotly.v1+json": {
       "config": {
        "linkText": "Export to plot.ly",
        "plotlyServerURL": "https://plot.ly",
        "showLink": false
       },
       "data": [
        {
         "marker": {
          "color": "red",
          "size": 8
         },
         "mode": "markers",
         "name": "Anchor Nodes",
         "type": "scatter",
         "x": [
          50.45740786243018,
          37.38090868696246,
          46.22348388431704,
          22.708951848477476,
          14.448740638747214,
          92.96123972459742,
          82.89587680524104,
          42.80346368784544,
          77.22182312828741,
          77.9404869602696
         ],
         "y": [
          78.6956323342661,
          58.988447162838895,
          67.17190992702834,
          52.51566091220619,
          56.62305335430256,
          50.58438326918127,
          60.986944449454015,
          68.80045527200691,
          53.41915925840388,
          73.54651903553035
         ]
        },
        {
         "marker": {
          "color": "blue",
          "size": 5
         },
         "mode": "markers",
         "name": "Other Nodes",
         "type": "scatter",
         "x": [
          32.46525503047148,
          22.49033225066569,
          36.15292095912236,
          65.98361737558925,
          60.6579540629371,
          42.935493588151985,
          45.916775850680736,
          34.069006404218506,
          78.61262211391661,
          28.49321398442125,
          9.210921022760488,
          57.26029280753485,
          15.393176714882618,
          58.724757962559636,
          94.82533998624008,
          52.80042391325503,
          32.288107584758265,
          96.51162492470058,
          90.4223776117667,
          60.50359729167318,
          9.458251034646036,
          53.15061133227148,
          33.410711199936394,
          2.9926407136840583,
          90.63205502822633,
          27.997847119213315,
          74.02378809739639,
          1.4880439124536515,
          56.30838340047821,
          22.50272484808422,
          37.00809662162781,
          59.30685441005503,
          97.39577339375307,
          46.54345963368029,
          72.17112802704962,
          89.36257697592644,
          39.98013629883683,
          77.84121421594702,
          35.30215194298398,
          94.60867987076465,
          48.419360797614175,
          91.68263410076696,
          43.40116717081841,
          24.859338243663252,
          7.510174364895484,
          23.464304985502704,
          88.51786078566363,
          13.476796983087802,
          95.35378360361527,
          59.606395112219225,
          94.34402572551707,
          39.267316699025926,
          12.782838268639008,
          75.23355353068776,
          13.645618578630236,
          91.80117567895947,
          54.893528872822074,
          45.88687139758196,
          56.15797590367059,
          4.674944202154519,
          29.759529529886773,
          43.4504148275378,
          47.95424429480683,
          99.13342909762457,
          73.99994482912537,
          22.842077682942673,
          64.40108010403355,
          14.517908459076844,
          11.282826132033074,
          70.37904520439572,
          27.958369584168185,
          73.35219635694853,
          25.751087134320116,
          26.02026462194562,
          96.63013169605344,
          38.13875422041198,
          11.41963495597177,
          3.2853764345661562,
          99.05719214023533,
          83.7864336393738,
          58.487551805129534,
          90.31381765524445,
          19.405575345092686,
          17.920332137961836,
          15.175686773631769,
          35.15860578673671,
          86.07556595731184,
          17.588048361782327,
          20.829480095528496
         ],
         "y": [
          99.4537014834545,
          25.19291255030176,
          4.7377761683564,
          26.289211373546628,
          0.30574945559650457,
          32.73390465609393,
          74.87885412745881,
          14.46923732857045,
          52.824737529925784,
          72.01190201232556,
          15.15818175933008,
          15.449604553159125,
          83.65524330589113,
          30.560004273866703,
          65.05188625115429,
          21.155498669261984,
          32.408069199322995,
          81.21578935365916,
          38.274430140733884,
          29.54472896189403,
          94.91223803138273,
          25.7105648458403,
          27.305451932418954,
          40.5621854435927,
          29.65424483733542,
          51.718118432014805,
          58.833805367354216,
          76.32619597888565,
          7.339622738829421,
          10.940878829507195,
          82.41502062644311,
          43.81462813772372,
          27.011492162337813,
          76.18935665490085,
          17.96658497935012,
          96.04471460012498,
          6.1962564098920865,
          50.48003388486993,
          47.26833164216243,
          88.69828080212055,
          7.3542867321658605,
          32.8158924772003,
          39.214395520210054,
          17.73195606905813,
          60.399971405281235,
          56.843887815982576,
          52.75302636457061,
          35.61617877122363,
          28.381243535731194,
          29.348279607276282,
          1.084864347850012,
          16.15315439989563,
          9.06834613640367,
          17.827744106314647,
          6.899840464352813,
          17.419380574121735,
          67.58103998752651,
          90.85260199654181,
          57.998005441951314,
          96.80774255797971,
          52.623885383182134,
          55.111681211938524,
          25.984308171574554,
          97.59011266735496,
          99.48640738972551,
          8.915998115990654,
          57.305377636464016,
          26.030229920752333,
          30.75404363199712,
          32.893741014138655,
          73.59001559990747,
          93.60055900967383,
          92.63137712503435,
          59.82077829414171,
          18.370629134457005,
          45.890939677697126,
          36.55168682054472,
          98.60823148080867,
          73.00480974582962,
          46.258903448157525,
          15.304230392491347,
          38.335827267696345,
          64.8739835674054,
          45.40658875808734,
          98.44314122708643,
          93.21016712252525,
          73.82861539854542,
          52.01548238174328,
          49.32757682911514
         ]
        }
       ],
       "layout": {
        "template": {
         "data": {
          "bar": [
           {
            "error_x": {
             "color": "#2a3f5f"
            },
            "error_y": {
             "color": "#2a3f5f"
            },
            "marker": {
             "line": {
              "color": "#E5ECF6",
              "width": 0.5
             }
            },
            "type": "bar"
           }
          ],
          "barpolar": [
           {
            "marker": {
             "line": {
              "color": "#E5ECF6",
              "width": 0.5
             }
            },
            "type": "barpolar"
           }
          ],
          "carpet": [
           {
            "aaxis": {
             "endlinecolor": "#2a3f5f",
             "gridcolor": "white",
             "linecolor": "white",
             "minorgridcolor": "white",
             "startlinecolor": "#2a3f5f"
            },
            "baxis": {
             "endlinecolor": "#2a3f5f",
             "gridcolor": "white",
             "linecolor": "white",
             "minorgridcolor": "white",
             "startlinecolor": "#2a3f5f"
            },
            "type": "carpet"
           }
          ],
          "choropleth": [
           {
            "colorbar": {
             "outlinewidth": 0,
             "ticks": ""
            },
            "type": "choropleth"
           }
          ],
          "contour": [
           {
            "colorbar": {
             "outlinewidth": 0,
             "ticks": ""
            },
            "colorscale": [
             [
              0,
              "#0d0887"
             ],
             [
              0.1111111111111111,
              "#46039f"
             ],
             [
              0.2222222222222222,
              "#7201a8"
             ],
             [
              0.3333333333333333,
              "#9c179e"
             ],
             [
              0.4444444444444444,
              "#bd3786"
             ],
             [
              0.5555555555555556,
              "#d8576b"
             ],
             [
              0.6666666666666666,
              "#ed7953"
             ],
             [
              0.7777777777777778,
              "#fb9f3a"
             ],
             [
              0.8888888888888888,
              "#fdca26"
             ],
             [
              1,
              "#f0f921"
             ]
            ],
            "type": "contour"
           }
          ],
          "contourcarpet": [
           {
            "colorbar": {
             "outlinewidth": 0,
             "ticks": ""
            },
            "type": "contourcarpet"
           }
          ],
          "heatmap": [
           {
            "colorbar": {
             "outlinewidth": 0,
             "ticks": ""
            },
            "colorscale": [
             [
              0,
              "#0d0887"
             ],
             [
              0.1111111111111111,
              "#46039f"
             ],
             [
              0.2222222222222222,
              "#7201a8"
             ],
             [
              0.3333333333333333,
              "#9c179e"
             ],
             [
              0.4444444444444444,
              "#bd3786"
             ],
             [
              0.5555555555555556,
              "#d8576b"
             ],
             [
              0.6666666666666666,
              "#ed7953"
             ],
             [
              0.7777777777777778,
              "#fb9f3a"
             ],
             [
              0.8888888888888888,
              "#fdca26"
             ],
             [
              1,
              "#f0f921"
             ]
            ],
            "type": "heatmap"
           }
          ],
          "heatmapgl": [
           {
            "colorbar": {
             "outlinewidth": 0,
             "ticks": ""
            },
            "colorscale": [
             [
              0,
              "#0d0887"
             ],
             [
              0.1111111111111111,
              "#46039f"
             ],
             [
              0.2222222222222222,
              "#7201a8"
             ],
             [
              0.3333333333333333,
              "#9c179e"
             ],
             [
              0.4444444444444444,
              "#bd3786"
             ],
             [
              0.5555555555555556,
              "#d8576b"
             ],
             [
              0.6666666666666666,
              "#ed7953"
             ],
             [
              0.7777777777777778,
              "#fb9f3a"
             ],
             [
              0.8888888888888888,
              "#fdca26"
             ],
             [
              1,
              "#f0f921"
             ]
            ],
            "type": "heatmapgl"
           }
          ],
          "histogram": [
           {
            "marker": {
             "colorbar": {
              "outlinewidth": 0,
              "ticks": ""
             }
            },
            "type": "histogram"
           }
          ],
          "histogram2d": [
           {
            "colorbar": {
             "outlinewidth": 0,
             "ticks": ""
            },
            "colorscale": [
             [
              0,
              "#0d0887"
             ],
             [
              0.1111111111111111,
              "#46039f"
             ],
             [
              0.2222222222222222,
              "#7201a8"
             ],
             [
              0.3333333333333333,
              "#9c179e"
             ],
             [
              0.4444444444444444,
              "#bd3786"
             ],
             [
              0.5555555555555556,
              "#d8576b"
             ],
             [
              0.6666666666666666,
              "#ed7953"
             ],
             [
              0.7777777777777778,
              "#fb9f3a"
             ],
             [
              0.8888888888888888,
              "#fdca26"
             ],
             [
              1,
              "#f0f921"
             ]
            ],
            "type": "histogram2d"
           }
          ],
          "histogram2dcontour": [
           {
            "colorbar": {
             "outlinewidth": 0,
             "ticks": ""
            },
            "colorscale": [
             [
              0,
              "#0d0887"
             ],
             [
              0.1111111111111111,
              "#46039f"
             ],
             [
              0.2222222222222222,
              "#7201a8"
             ],
             [
              0.3333333333333333,
              "#9c179e"
             ],
             [
              0.4444444444444444,
              "#bd3786"
             ],
             [
              0.5555555555555556,
              "#d8576b"
             ],
             [
              0.6666666666666666,
              "#ed7953"
             ],
             [
              0.7777777777777778,
              "#fb9f3a"
             ],
             [
              0.8888888888888888,
              "#fdca26"
             ],
             [
              1,
              "#f0f921"
             ]
            ],
            "type": "histogram2dcontour"
           }
          ],
          "mesh3d": [
           {
            "colorbar": {
             "outlinewidth": 0,
             "ticks": ""
            },
            "type": "mesh3d"
           }
          ],
          "parcoords": [
           {
            "line": {
             "colorbar": {
              "outlinewidth": 0,
              "ticks": ""
             }
            },
            "type": "parcoords"
           }
          ],
          "scatter": [
           {
            "marker": {
             "colorbar": {
              "outlinewidth": 0,
              "ticks": ""
             }
            },
            "type": "scatter"
           }
          ],
          "scatter3d": [
           {
            "line": {
             "colorbar": {
              "outlinewidth": 0,
              "ticks": ""
             }
            },
            "marker": {
             "colorbar": {
              "outlinewidth": 0,
              "ticks": ""
             }
            },
            "type": "scatter3d"
           }
          ],
          "scattercarpet": [
           {
            "marker": {
             "colorbar": {
              "outlinewidth": 0,
              "ticks": ""
             }
            },
            "type": "scattercarpet"
           }
          ],
          "scattergeo": [
           {
            "marker": {
             "colorbar": {
              "outlinewidth": 0,
              "ticks": ""
             }
            },
            "type": "scattergeo"
           }
          ],
          "scattergl": [
           {
            "marker": {
             "colorbar": {
              "outlinewidth": 0,
              "ticks": ""
             }
            },
            "type": "scattergl"
           }
          ],
          "scattermapbox": [
           {
            "marker": {
             "colorbar": {
              "outlinewidth": 0,
              "ticks": ""
             }
            },
            "type": "scattermapbox"
           }
          ],
          "scatterpolar": [
           {
            "marker": {
             "colorbar": {
              "outlinewidth": 0,
              "ticks": ""
             }
            },
            "type": "scatterpolar"
           }
          ],
          "scatterpolargl": [
           {
            "marker": {
             "colorbar": {
              "outlinewidth": 0,
              "ticks": ""
             }
            },
            "type": "scatterpolargl"
           }
          ],
          "scatterternary": [
           {
            "marker": {
             "colorbar": {
              "outlinewidth": 0,
              "ticks": ""
             }
            },
            "type": "scatterternary"
           }
          ],
          "surface": [
           {
            "colorbar": {
             "outlinewidth": 0,
             "ticks": ""
            },
            "colorscale": [
             [
              0,
              "#0d0887"
             ],
             [
              0.1111111111111111,
              "#46039f"
             ],
             [
              0.2222222222222222,
              "#7201a8"
             ],
             [
              0.3333333333333333,
              "#9c179e"
             ],
             [
              0.4444444444444444,
              "#bd3786"
             ],
             [
              0.5555555555555556,
              "#d8576b"
             ],
             [
              0.6666666666666666,
              "#ed7953"
             ],
             [
              0.7777777777777778,
              "#fb9f3a"
             ],
             [
              0.8888888888888888,
              "#fdca26"
             ],
             [
              1,
              "#f0f921"
             ]
            ],
            "type": "surface"
           }
          ],
          "table": [
           {
            "cells": {
             "fill": {
              "color": "#EBF0F8"
             },
             "line": {
              "color": "white"
             }
            },
            "header": {
             "fill": {
              "color": "#C8D4E3"
             },
             "line": {
              "color": "white"
             }
            },
            "type": "table"
           }
          ]
         },
         "layout": {
          "annotationdefaults": {
           "arrowcolor": "#2a3f5f",
           "arrowhead": 0,
           "arrowwidth": 1
          },
          "colorscale": {
           "diverging": [
            [
             0,
             "#8e0152"
            ],
            [
             0.1,
             "#c51b7d"
            ],
            [
             0.2,
             "#de77ae"
            ],
            [
             0.3,
             "#f1b6da"
            ],
            [
             0.4,
             "#fde0ef"
            ],
            [
             0.5,
             "#f7f7f7"
            ],
            [
             0.6,
             "#e6f5d0"
            ],
            [
             0.7,
             "#b8e186"
            ],
            [
             0.8,
             "#7fbc41"
            ],
            [
             0.9,
             "#4d9221"
            ],
            [
             1,
             "#276419"
            ]
           ],
           "sequential": [
            [
             0,
             "#0d0887"
            ],
            [
             0.1111111111111111,
             "#46039f"
            ],
            [
             0.2222222222222222,
             "#7201a8"
            ],
            [
             0.3333333333333333,
             "#9c179e"
            ],
            [
             0.4444444444444444,
             "#bd3786"
            ],
            [
             0.5555555555555556,
             "#d8576b"
            ],
            [
             0.6666666666666666,
             "#ed7953"
            ],
            [
             0.7777777777777778,
             "#fb9f3a"
            ],
            [
             0.8888888888888888,
             "#fdca26"
            ],
            [
             1,
             "#f0f921"
            ]
           ],
           "sequentialminus": [
            [
             0,
             "#0d0887"
            ],
            [
             0.1111111111111111,
             "#46039f"
            ],
            [
             0.2222222222222222,
             "#7201a8"
            ],
            [
             0.3333333333333333,
             "#9c179e"
            ],
            [
             0.4444444444444444,
             "#bd3786"
            ],
            [
             0.5555555555555556,
             "#d8576b"
            ],
            [
             0.6666666666666666,
             "#ed7953"
            ],
            [
             0.7777777777777778,
             "#fb9f3a"
            ],
            [
             0.8888888888888888,
             "#fdca26"
            ],
            [
             1,
             "#f0f921"
            ]
           ]
          },
          "colorway": [
           "#636efa",
           "#EF553B",
           "#00cc96",
           "#ab63fa",
           "#FFA15A",
           "#19d3f3",
           "#FF6692",
           "#B6E880",
           "#FF97FF",
           "#FECB52"
          ],
          "font": {
           "color": "#2a3f5f"
          },
          "geo": {
           "bgcolor": "white",
           "lakecolor": "white",
           "landcolor": "#E5ECF6",
           "showlakes": true,
           "showland": true,
           "subunitcolor": "white"
          },
          "hoverlabel": {
           "align": "left"
          },
          "hovermode": "closest",
          "mapbox": {
           "style": "light"
          },
          "paper_bgcolor": "white",
          "plot_bgcolor": "#E5ECF6",
          "polar": {
           "angularaxis": {
            "gridcolor": "white",
            "linecolor": "white",
            "ticks": ""
           },
           "bgcolor": "#E5ECF6",
           "radialaxis": {
            "gridcolor": "white",
            "linecolor": "white",
            "ticks": ""
           }
          },
          "scene": {
           "xaxis": {
            "backgroundcolor": "#E5ECF6",
            "gridcolor": "white",
            "gridwidth": 2,
            "linecolor": "white",
            "showbackground": true,
            "ticks": "",
            "zerolinecolor": "white"
           },
           "yaxis": {
            "backgroundcolor": "#E5ECF6",
            "gridcolor": "white",
            "gridwidth": 2,
            "linecolor": "white",
            "showbackground": true,
            "ticks": "",
            "zerolinecolor": "white"
           },
           "zaxis": {
            "backgroundcolor": "#E5ECF6",
            "gridcolor": "white",
            "gridwidth": 2,
            "linecolor": "white",
            "showbackground": true,
            "ticks": "",
            "zerolinecolor": "white"
           }
          },
          "shapedefaults": {
           "line": {
            "color": "#2a3f5f"
           }
          },
          "ternary": {
           "aaxis": {
            "gridcolor": "white",
            "linecolor": "white",
            "ticks": ""
           },
           "baxis": {
            "gridcolor": "white",
            "linecolor": "white",
            "ticks": ""
           },
           "bgcolor": "#E5ECF6",
           "caxis": {
            "gridcolor": "white",
            "linecolor": "white",
            "ticks": ""
           }
          },
          "title": {
           "x": 0.05
          },
          "xaxis": {
           "automargin": true,
           "gridcolor": "white",
           "linecolor": "white",
           "ticks": "",
           "zerolinecolor": "white",
           "zerolinewidth": 2
          },
          "yaxis": {
           "automargin": true,
           "gridcolor": "white",
           "linecolor": "white",
           "ticks": "",
           "zerolinecolor": "white",
           "zerolinewidth": 2
          }
         }
        }
       }
      },
      "text/html": [
       "<div>\n",
       "        \n",
       "        \n",
       "            <div id=\"6fd576f1-01f0-4931-9755-cf1c48508fed\" class=\"plotly-graph-div\" style=\"height:525px; width:100%;\"></div>\n",
       "            <script type=\"text/javascript\">\n",
       "                require([\"plotly\"], function(Plotly) {\n",
       "                    window.PLOTLYENV=window.PLOTLYENV || {};\n",
       "                    \n",
       "                if (document.getElementById(\"6fd576f1-01f0-4931-9755-cf1c48508fed\")) {\n",
       "                    Plotly.newPlot(\n",
       "                        '6fd576f1-01f0-4931-9755-cf1c48508fed',\n",
       "                        [{\"marker\": {\"color\": \"red\", \"size\": 8}, \"mode\": \"markers\", \"name\": \"Anchor Nodes\", \"type\": \"scatter\", \"x\": [50.45740786243018, 37.38090868696246, 46.22348388431704, 22.708951848477476, 14.448740638747214, 92.96123972459742, 82.89587680524104, 42.80346368784544, 77.22182312828741, 77.9404869602696], \"y\": [78.6956323342661, 58.988447162838895, 67.17190992702834, 52.51566091220619, 56.62305335430256, 50.58438326918127, 60.986944449454015, 68.80045527200691, 53.41915925840388, 73.54651903553035]}, {\"marker\": {\"color\": \"blue\", \"size\": 5}, \"mode\": \"markers\", \"name\": \"Other Nodes\", \"type\": \"scatter\", \"x\": [32.46525503047148, 22.49033225066569, 36.15292095912236, 65.98361737558925, 60.6579540629371, 42.935493588151985, 45.916775850680736, 34.069006404218506, 78.61262211391661, 28.49321398442125, 9.210921022760488, 57.26029280753485, 15.393176714882618, 58.724757962559636, 94.82533998624008, 52.80042391325503, 32.288107584758265, 96.51162492470058, 90.4223776117667, 60.50359729167318, 9.458251034646036, 53.15061133227148, 33.410711199936394, 2.9926407136840583, 90.63205502822633, 27.997847119213315, 74.02378809739639, 1.4880439124536515, 56.30838340047821, 22.50272484808422, 37.00809662162781, 59.30685441005503, 97.39577339375307, 46.54345963368029, 72.17112802704962, 89.36257697592644, 39.98013629883683, 77.84121421594702, 35.30215194298398, 94.60867987076465, 48.419360797614175, 91.68263410076696, 43.40116717081841, 24.859338243663252, 7.510174364895484, 23.464304985502704, 88.51786078566363, 13.476796983087802, 95.35378360361527, 59.606395112219225, 94.34402572551707, 39.267316699025926, 12.782838268639008, 75.23355353068776, 13.645618578630236, 91.80117567895947, 54.893528872822074, 45.88687139758196, 56.15797590367059, 4.674944202154519, 29.759529529886773, 43.4504148275378, 47.95424429480683, 99.13342909762457, 73.99994482912537, 22.842077682942673, 64.40108010403355, 14.517908459076844, 11.282826132033074, 70.37904520439572, 27.958369584168185, 73.35219635694853, 25.751087134320116, 26.02026462194562, 96.63013169605344, 38.13875422041198, 11.41963495597177, 3.2853764345661562, 99.05719214023533, 83.7864336393738, 58.487551805129534, 90.31381765524445, 19.405575345092686, 17.920332137961836, 15.175686773631769, 35.15860578673671, 86.07556595731184, 17.588048361782327, 20.829480095528496], \"y\": [99.4537014834545, 25.19291255030176, 4.7377761683564, 26.289211373546628, 0.30574945559650457, 32.73390465609393, 74.87885412745881, 14.46923732857045, 52.824737529925784, 72.01190201232556, 15.15818175933008, 15.449604553159125, 83.65524330589113, 30.560004273866703, 65.05188625115429, 21.155498669261984, 32.408069199322995, 81.21578935365916, 38.274430140733884, 29.54472896189403, 94.91223803138273, 25.7105648458403, 27.305451932418954, 40.5621854435927, 29.65424483733542, 51.718118432014805, 58.833805367354216, 76.32619597888565, 7.339622738829421, 10.940878829507195, 82.41502062644311, 43.81462813772372, 27.011492162337813, 76.18935665490085, 17.96658497935012, 96.04471460012498, 6.1962564098920865, 50.48003388486993, 47.26833164216243, 88.69828080212055, 7.3542867321658605, 32.8158924772003, 39.214395520210054, 17.73195606905813, 60.399971405281235, 56.843887815982576, 52.75302636457061, 35.61617877122363, 28.381243535731194, 29.348279607276282, 1.084864347850012, 16.15315439989563, 9.06834613640367, 17.827744106314647, 6.899840464352813, 17.419380574121735, 67.58103998752651, 90.85260199654181, 57.998005441951314, 96.80774255797971, 52.623885383182134, 55.111681211938524, 25.984308171574554, 97.59011266735496, 99.48640738972551, 8.915998115990654, 57.305377636464016, 26.030229920752333, 30.75404363199712, 32.893741014138655, 73.59001559990747, 93.60055900967383, 92.63137712503435, 59.82077829414171, 18.370629134457005, 45.890939677697126, 36.55168682054472, 98.60823148080867, 73.00480974582962, 46.258903448157525, 15.304230392491347, 38.335827267696345, 64.8739835674054, 45.40658875808734, 98.44314122708643, 93.21016712252525, 73.82861539854542, 52.01548238174328, 49.32757682911514]}],\n",
       "                        {\"template\": {\"data\": {\"bar\": [{\"error_x\": {\"color\": \"#2a3f5f\"}, \"error_y\": {\"color\": \"#2a3f5f\"}, \"marker\": {\"line\": {\"color\": \"#E5ECF6\", \"width\": 0.5}}, \"type\": \"bar\"}], \"barpolar\": [{\"marker\": {\"line\": {\"color\": \"#E5ECF6\", \"width\": 0.5}}, \"type\": \"barpolar\"}], \"carpet\": [{\"aaxis\": {\"endlinecolor\": \"#2a3f5f\", \"gridcolor\": \"white\", \"linecolor\": \"white\", \"minorgridcolor\": \"white\", \"startlinecolor\": \"#2a3f5f\"}, \"baxis\": {\"endlinecolor\": \"#2a3f5f\", \"gridcolor\": \"white\", \"linecolor\": \"white\", \"minorgridcolor\": \"white\", \"startlinecolor\": \"#2a3f5f\"}, \"type\": \"carpet\"}], \"choropleth\": [{\"colorbar\": {\"outlinewidth\": 0, \"ticks\": \"\"}, \"type\": \"choropleth\"}], \"contour\": [{\"colorbar\": {\"outlinewidth\": 0, \"ticks\": \"\"}, \"colorscale\": [[0.0, \"#0d0887\"], [0.1111111111111111, \"#46039f\"], [0.2222222222222222, \"#7201a8\"], [0.3333333333333333, \"#9c179e\"], [0.4444444444444444, \"#bd3786\"], [0.5555555555555556, \"#d8576b\"], [0.6666666666666666, \"#ed7953\"], [0.7777777777777778, \"#fb9f3a\"], [0.8888888888888888, \"#fdca26\"], [1.0, \"#f0f921\"]], \"type\": \"contour\"}], \"contourcarpet\": [{\"colorbar\": {\"outlinewidth\": 0, \"ticks\": \"\"}, \"type\": \"contourcarpet\"}], \"heatmap\": [{\"colorbar\": {\"outlinewidth\": 0, \"ticks\": \"\"}, \"colorscale\": [[0.0, \"#0d0887\"], [0.1111111111111111, \"#46039f\"], [0.2222222222222222, \"#7201a8\"], [0.3333333333333333, \"#9c179e\"], [0.4444444444444444, \"#bd3786\"], [0.5555555555555556, \"#d8576b\"], [0.6666666666666666, \"#ed7953\"], [0.7777777777777778, \"#fb9f3a\"], [0.8888888888888888, \"#fdca26\"], [1.0, \"#f0f921\"]], \"type\": \"heatmap\"}], \"heatmapgl\": [{\"colorbar\": {\"outlinewidth\": 0, \"ticks\": \"\"}, \"colorscale\": [[0.0, \"#0d0887\"], [0.1111111111111111, \"#46039f\"], [0.2222222222222222, \"#7201a8\"], [0.3333333333333333, \"#9c179e\"], [0.4444444444444444, \"#bd3786\"], [0.5555555555555556, \"#d8576b\"], [0.6666666666666666, \"#ed7953\"], [0.7777777777777778, \"#fb9f3a\"], [0.8888888888888888, \"#fdca26\"], [1.0, \"#f0f921\"]], \"type\": \"heatmapgl\"}], \"histogram\": [{\"marker\": {\"colorbar\": {\"outlinewidth\": 0, \"ticks\": \"\"}}, \"type\": \"histogram\"}], \"histogram2d\": [{\"colorbar\": {\"outlinewidth\": 0, \"ticks\": \"\"}, \"colorscale\": [[0.0, \"#0d0887\"], [0.1111111111111111, \"#46039f\"], [0.2222222222222222, \"#7201a8\"], [0.3333333333333333, \"#9c179e\"], [0.4444444444444444, \"#bd3786\"], [0.5555555555555556, \"#d8576b\"], [0.6666666666666666, \"#ed7953\"], [0.7777777777777778, \"#fb9f3a\"], [0.8888888888888888, \"#fdca26\"], [1.0, \"#f0f921\"]], \"type\": \"histogram2d\"}], \"histogram2dcontour\": [{\"colorbar\": {\"outlinewidth\": 0, \"ticks\": \"\"}, \"colorscale\": [[0.0, \"#0d0887\"], [0.1111111111111111, \"#46039f\"], [0.2222222222222222, \"#7201a8\"], [0.3333333333333333, \"#9c179e\"], [0.4444444444444444, \"#bd3786\"], [0.5555555555555556, \"#d8576b\"], [0.6666666666666666, \"#ed7953\"], [0.7777777777777778, \"#fb9f3a\"], [0.8888888888888888, \"#fdca26\"], [1.0, \"#f0f921\"]], \"type\": \"histogram2dcontour\"}], \"mesh3d\": [{\"colorbar\": {\"outlinewidth\": 0, \"ticks\": \"\"}, \"type\": \"mesh3d\"}], \"parcoords\": [{\"line\": {\"colorbar\": {\"outlinewidth\": 0, \"ticks\": \"\"}}, \"type\": \"parcoords\"}], \"scatter\": [{\"marker\": {\"colorbar\": {\"outlinewidth\": 0, \"ticks\": \"\"}}, \"type\": \"scatter\"}], \"scatter3d\": [{\"line\": {\"colorbar\": {\"outlinewidth\": 0, \"ticks\": \"\"}}, \"marker\": {\"colorbar\": {\"outlinewidth\": 0, \"ticks\": \"\"}}, \"type\": \"scatter3d\"}], \"scattercarpet\": [{\"marker\": {\"colorbar\": {\"outlinewidth\": 0, \"ticks\": \"\"}}, \"type\": \"scattercarpet\"}], \"scattergeo\": [{\"marker\": {\"colorbar\": {\"outlinewidth\": 0, \"ticks\": \"\"}}, \"type\": \"scattergeo\"}], \"scattergl\": [{\"marker\": {\"colorbar\": {\"outlinewidth\": 0, \"ticks\": \"\"}}, \"type\": \"scattergl\"}], \"scattermapbox\": [{\"marker\": {\"colorbar\": {\"outlinewidth\": 0, \"ticks\": \"\"}}, \"type\": \"scattermapbox\"}], \"scatterpolar\": [{\"marker\": {\"colorbar\": {\"outlinewidth\": 0, \"ticks\": \"\"}}, \"type\": \"scatterpolar\"}], \"scatterpolargl\": [{\"marker\": {\"colorbar\": {\"outlinewidth\": 0, \"ticks\": \"\"}}, \"type\": \"scatterpolargl\"}], \"scatterternary\": [{\"marker\": {\"colorbar\": {\"outlinewidth\": 0, \"ticks\": \"\"}}, \"type\": \"scatterternary\"}], \"surface\": [{\"colorbar\": {\"outlinewidth\": 0, \"ticks\": \"\"}, \"colorscale\": [[0.0, \"#0d0887\"], [0.1111111111111111, \"#46039f\"], [0.2222222222222222, \"#7201a8\"], [0.3333333333333333, \"#9c179e\"], [0.4444444444444444, \"#bd3786\"], [0.5555555555555556, \"#d8576b\"], [0.6666666666666666, \"#ed7953\"], [0.7777777777777778, \"#fb9f3a\"], [0.8888888888888888, \"#fdca26\"], [1.0, \"#f0f921\"]], \"type\": \"surface\"}], \"table\": [{\"cells\": {\"fill\": {\"color\": \"#EBF0F8\"}, \"line\": {\"color\": \"white\"}}, \"header\": {\"fill\": {\"color\": \"#C8D4E3\"}, \"line\": {\"color\": \"white\"}}, \"type\": \"table\"}]}, \"layout\": {\"annotationdefaults\": {\"arrowcolor\": \"#2a3f5f\", \"arrowhead\": 0, \"arrowwidth\": 1}, \"colorscale\": {\"diverging\": [[0, \"#8e0152\"], [0.1, \"#c51b7d\"], [0.2, \"#de77ae\"], [0.3, \"#f1b6da\"], [0.4, \"#fde0ef\"], [0.5, \"#f7f7f7\"], [0.6, \"#e6f5d0\"], [0.7, \"#b8e186\"], [0.8, \"#7fbc41\"], [0.9, \"#4d9221\"], [1, \"#276419\"]], \"sequential\": [[0.0, \"#0d0887\"], [0.1111111111111111, \"#46039f\"], [0.2222222222222222, \"#7201a8\"], [0.3333333333333333, \"#9c179e\"], [0.4444444444444444, \"#bd3786\"], [0.5555555555555556, \"#d8576b\"], [0.6666666666666666, \"#ed7953\"], [0.7777777777777778, \"#fb9f3a\"], [0.8888888888888888, \"#fdca26\"], [1.0, \"#f0f921\"]], \"sequentialminus\": [[0.0, \"#0d0887\"], [0.1111111111111111, \"#46039f\"], [0.2222222222222222, \"#7201a8\"], [0.3333333333333333, \"#9c179e\"], [0.4444444444444444, \"#bd3786\"], [0.5555555555555556, \"#d8576b\"], [0.6666666666666666, \"#ed7953\"], [0.7777777777777778, \"#fb9f3a\"], [0.8888888888888888, \"#fdca26\"], [1.0, \"#f0f921\"]]}, \"colorway\": [\"#636efa\", \"#EF553B\", \"#00cc96\", \"#ab63fa\", \"#FFA15A\", \"#19d3f3\", \"#FF6692\", \"#B6E880\", \"#FF97FF\", \"#FECB52\"], \"font\": {\"color\": \"#2a3f5f\"}, \"geo\": {\"bgcolor\": \"white\", \"lakecolor\": \"white\", \"landcolor\": \"#E5ECF6\", \"showlakes\": true, \"showland\": true, \"subunitcolor\": \"white\"}, \"hoverlabel\": {\"align\": \"left\"}, \"hovermode\": \"closest\", \"mapbox\": {\"style\": \"light\"}, \"paper_bgcolor\": \"white\", \"plot_bgcolor\": \"#E5ECF6\", \"polar\": {\"angularaxis\": {\"gridcolor\": \"white\", \"linecolor\": \"white\", \"ticks\": \"\"}, \"bgcolor\": \"#E5ECF6\", \"radialaxis\": {\"gridcolor\": \"white\", \"linecolor\": \"white\", \"ticks\": \"\"}}, \"scene\": {\"xaxis\": {\"backgroundcolor\": \"#E5ECF6\", \"gridcolor\": \"white\", \"gridwidth\": 2, \"linecolor\": \"white\", \"showbackground\": true, \"ticks\": \"\", \"zerolinecolor\": \"white\"}, \"yaxis\": {\"backgroundcolor\": \"#E5ECF6\", \"gridcolor\": \"white\", \"gridwidth\": 2, \"linecolor\": \"white\", \"showbackground\": true, \"ticks\": \"\", \"zerolinecolor\": \"white\"}, \"zaxis\": {\"backgroundcolor\": \"#E5ECF6\", \"gridcolor\": \"white\", \"gridwidth\": 2, \"linecolor\": \"white\", \"showbackground\": true, \"ticks\": \"\", \"zerolinecolor\": \"white\"}}, \"shapedefaults\": {\"line\": {\"color\": \"#2a3f5f\"}}, \"ternary\": {\"aaxis\": {\"gridcolor\": \"white\", \"linecolor\": \"white\", \"ticks\": \"\"}, \"baxis\": {\"gridcolor\": \"white\", \"linecolor\": \"white\", \"ticks\": \"\"}, \"bgcolor\": \"#E5ECF6\", \"caxis\": {\"gridcolor\": \"white\", \"linecolor\": \"white\", \"ticks\": \"\"}}, \"title\": {\"x\": 0.05}, \"xaxis\": {\"automargin\": true, \"gridcolor\": \"white\", \"linecolor\": \"white\", \"ticks\": \"\", \"zerolinecolor\": \"white\", \"zerolinewidth\": 2}, \"yaxis\": {\"automargin\": true, \"gridcolor\": \"white\", \"linecolor\": \"white\", \"ticks\": \"\", \"zerolinecolor\": \"white\", \"zerolinewidth\": 2}}}},\n",
       "                        {\"responsive\": true}\n",
       "                    ).then(function(){\n",
       "                            \n",
       "var gd = document.getElementById('6fd576f1-01f0-4931-9755-cf1c48508fed');\n",
       "var x = new MutationObserver(function (mutations, observer) {{\n",
       "        var display = window.getComputedStyle(gd).display;\n",
       "        if (!display || display === 'none') {{\n",
       "            console.log([gd, 'removed!']);\n",
       "            Plotly.purge(gd);\n",
       "            observer.disconnect();\n",
       "        }}\n",
       "}});\n",
       "\n",
       "// Listen for the removal of the full notebook cells\n",
       "var notebookContainer = gd.closest('#notebook-container');\n",
       "if (notebookContainer) {{\n",
       "    x.observe(notebookContainer, {childList: true});\n",
       "}}\n",
       "\n",
       "// Listen for the clearing of the current output cell\n",
       "var outputEl = gd.closest('.output');\n",
       "if (outputEl) {{\n",
       "    x.observe(outputEl, {childList: true});\n",
       "}}\n",
       "\n",
       "                        })\n",
       "                };\n",
       "                });\n",
       "            </script>\n",
       "        </div>"
      ]
     },
     "metadata": {},
     "output_type": "display_data"
    }
   ],
   "source": [
    "class Node:\n",
    "    \"\"\"\n",
    "        \n",
    "    \"\"\"\n",
    "\n",
    "    def __init__(self):\n",
    "        self.id = None\n",
    "        self.x_coord = None\n",
    "        self.y_coord = None\n",
    "        self.isAnchor = 0\n",
    "        self.unreliability = math.inf\n",
    "        self.x_estimated = None\n",
    "        self.y_estimated = None\n",
    "        self.neighbours = []\n",
    "        self.distances = []\n",
    "        self.estimated = False\n",
    "\n",
    "    def euclideanDistance(self, node):\n",
    "        x1 = self.x_coord\n",
    "        y1 = self.y_coord\n",
    "        x2 = node.x_coord\n",
    "        y2 = node.y_coord\n",
    "        result = math.sqrt(math.pow(x2 - x1, 2) + math.pow(y2 - y1, 2))\n",
    "        return result\n",
    "    \n",
    "    def minUnreliability(self, node):\n",
    "        if self.unreliability <= node.unreliability:\n",
    "            return -1\n",
    "        else:\n",
    "            return 0\n",
    "\n",
    "    def getAnchorNeighbours(self):\n",
    "        anchors = []\n",
    "        for neighbour in self.neighbours:\n",
    "            if neighbour.isAnchor > 0:\n",
    "                anchors.append(neighbour)\n",
    "        return anchors\n",
    "    \n",
    "    def getErrorOfEstimation(self):\n",
    "        x_diff = math.pow(self.x_estimated - self.x_coord, 2)\n",
    "        y_diff = math.pow(self.y_estimated - self.y_coord, 2)\n",
    "        error = math.sqrt( x_diff + y_diff)\n",
    "        return error\n",
    "\n",
    "    def estimateLocation(self, cycles, heuristic=1, r=10):\n",
    "        if self.estimated == True:\n",
    "            return False\n",
    "        if heuristic == 1:\n",
    "            #print(\"Heuristic 1\")\n",
    "            return self.estimateLocation1(cycles, r)\n",
    "        elif heuristic == 2:\n",
    "            #print(\"Heuristic 2\")\n",
    "            return self.estimateLocation2(cycles, r)\n",
    "        else:\n",
    "            pass\n",
    "            \n",
    "    def __str__(self):\n",
    "        return \"id = \" + str(self.id) + \"\\n\" + \\\n",
    "               \"\\tx = \" + str(self.x_coord) + \", y = \" + str(self.y_coord) + \"\\n\" + \\\n",
    "               \"\\tisAnchor = \" + str(self.isAnchor) + \"\\n\" + \\\n",
    "               \"\\tunreliability = \" + str(self.unreliability) + \"\\n\" + \\\n",
    "               \"\\tx_estimated = \" + str(self.x_estimated) + \", y = \" + str(self.y_estimated) + \"\\n\" + \\\n",
    "               \"\\tNeighbours: \" + str([n.id for n in self.neighbours]) + \"\\n\"\n",
    "\n",
    "    \n",
    "    def estimateLocation1(self, cycles, r):\n",
    "        self.neighbours.sort(key=lambda neighbour: self.euclideanDistance(neighbour))\n",
    "        anchors = self.getAnchorNeighbours()\n",
    "        if len(anchors) < 3:\n",
    "            return False\n",
    "        else:\n",
    "            neighbour1 = anchors[0]\n",
    "            neighbour2 = anchors[1]\n",
    "            neighbour3 = anchors[2]\n",
    "\n",
    "            rand = np.random.randint(0, 10)  # to simulate the incorrect distance measured\n",
    "            noise = None\n",
    "            if (rand < 5):\n",
    "                noise = 1 - r / 100.0\n",
    "            else:\n",
    "                noise = 1 + r / 100.0\n",
    "\n",
    "            r1 = self.euclideanDistance(neighbour1) * noise\n",
    "            r2 = self.euclideanDistance(neighbour2) * noise\n",
    "            r3 = self.euclideanDistance(neighbour3) * noise\n",
    "\n",
    "            pt_a = [neighbour1.x_coord, neighbour1.y_coord, r1]\n",
    "            pt_b = [neighbour2.x_coord, neighbour2.y_coord, r2]\n",
    "            pt_c = [neighbour3.x_coord, neighbour3.y_coord, r3]\n",
    "\n",
    "            result = trilateration(pt_a, pt_b, pt_c)\n",
    "\n",
    "            self.estimated = True\n",
    "            self.x_estimated = result[0]\n",
    "            self.y_estimated = result[1]\n",
    "            self.isAnchor = cycles + 1\n",
    "            self.unreliability = neighbour1.unreliability + neighbour2.unreliability + neighbour3.unreliability + 1\n",
    "            return True\n",
    "    \n",
    "    def estimateLocation2(self, cycles, r):\n",
    "        self.neighbours.sort(key=lambda neighbour: self.minUnreliability(neighbour))\n",
    "        anchors = self.getAnchorNeighbours()\n",
    "        if len(anchors) < 3:\n",
    "            return False\n",
    "        else:\n",
    "            neighbour1 = anchors[0]\n",
    "            neighbour2 = anchors[1]\n",
    "            neighbour3 = anchors[2]\n",
    "\n",
    "            rand = np.random.randint(0, 10)  # to simulate the incorrect distance measured\n",
    "            noise = None\n",
    "            if (rand < 5):\n",
    "                noise = 1 - r / 100.0\n",
    "            else:\n",
    "                noise = 1 + r / 100.0\n",
    "\n",
    "            r1 = self.euclideanDistance(neighbour1) * noise\n",
    "            r2 = self.euclideanDistance(neighbour2) * noise\n",
    "            r3 = self.euclideanDistance(neighbour3) * noise\n",
    "\n",
    "            pt_a = [neighbour1.x_coord, neighbour1.y_coord, r1]\n",
    "            pt_b = [neighbour2.x_coord, neighbour2.y_coord, r2]\n",
    "            pt_c = [neighbour3.x_coord, neighbour3.y_coord, r3]\n",
    "\n",
    "            result = trilateration(pt_a, pt_b, pt_c)\n",
    "\n",
    "            self.estimated = True\n",
    "            self.x_estimated = result[0]\n",
    "            self.y_estimated = result[1]\n",
    "            self.isAnchor = cycles + 1\n",
    "            self.unreliability = neighbour1.unreliability + neighbour2.unreliability + neighbour3.unreliability + 1\n",
    "            return True\n",
    "    \n",
    "    \n",
    "def generateNodes(N, L, R, r, f):\n",
    "    nodes = dict()\n",
    "    coordinates = [(float(x) * L, float(y) * L) for x, y in np.random.rand(N, 2)]\n",
    "    # print(coordinates)\n",
    "    anchorNodesNumber = int(f / 100 * N)\n",
    "    for id in range(N):\n",
    "        node = Node()\n",
    "        node.id = id\n",
    "        x = coordinates[id][0]\n",
    "        y = coordinates[id][1]\n",
    "        node.x_coord = x\n",
    "        node.y_coord = y\n",
    "        if id < anchorNodesNumber:\n",
    "            node.isAnchor = 1\n",
    "            node.unreliability = 0\n",
    "            node.x_estimated = node.x_coord\n",
    "            node.y_estimated = node.y_coord\n",
    "            node.estimated = True\n",
    "        nodes[id] = node\n",
    "    return nodes\n",
    "\n",
    "\n",
    "def plot(nodes, N, L, f):\n",
    "    anchorNodesNumber = int(f / 100 * N)\n",
    "    x_anchorNodes = [nodes[i].x_coord for i in range(anchorNodesNumber)]\n",
    "    y_anchorNodes = [nodes[i].y_coord for i in range(anchorNodesNumber)]\n",
    "\n",
    "    x_other = [nodes[i].x_coord for i in range(anchorNodesNumber + 1, len(nodes))]\n",
    "    y_other = [nodes[i].y_coord for i in range(anchorNodesNumber + 1, len(nodes))]\n",
    "\n",
    "    anchorNodes = {\"x\": x_anchorNodes,\n",
    "                   \"y\": y_anchorNodes,\n",
    "                   \"mode\": \"markers\",\n",
    "                   \"marker\": {\"color\": \"red\", \"size\": 8},\n",
    "                   \"name\": \"Anchor Nodes\"\n",
    "                   }\n",
    "    otherNodes = {\"x\": x_other,\n",
    "                  \"y\": y_other,\n",
    "                  \"mode\": \"markers\",\n",
    "                  \"marker\": {\"color\": \"blue\", \"size\": 5},\n",
    "                  \"name\": \"Other Nodes\"\n",
    "                  }\n",
    "    data = [anchorNodes, otherNodes]\n",
    "\n",
    "    iplot(data)\n",
    "\n",
    "\n",
    "def findNeighbours(nodes, R):\n",
    "    for id in range(len(nodes.keys())):\n",
    "        neighbours = []\n",
    "        distances = []\n",
    "        for id2 in range(len(nodes.keys())):\n",
    "            if (id == id2):\n",
    "                continue\n",
    "            distance = nodes[id].euclideanDistance(nodes[id2])\n",
    "            if (distance < R):\n",
    "                neighbours.append(nodes[id2])\n",
    "                distances.append(distance)\n",
    "        nodes[id].neighbours = neighbours\n",
    "        nodes[id].distances = distances\n",
    "    return nodes\n",
    "\n",
    "\n",
    "\n",
    "\"\"\"\n",
    "    generateNodes(N, L, R, r, f)\n",
    "\"\"\"\n",
    "nodes = generateNodes(100, 100, 0, 0, 10)\n",
    "plot(nodes, 100, 100, 10)\n",
    "\n",
    "\n",
    "\"\"\"\n",
    "    findNeighbours(nodes, R)\n",
    "\"\"\"\n",
    "nodes = findNeighbours(nodes, 25)"
   ]
  },
  {
   "cell_type": "code",
   "execution_count": 205,
   "metadata": {
    "ExecuteTime": {
     "end_time": "2019-12-27T09:34:34.228724Z",
     "start_time": "2019-12-27T09:34:34.211767Z"
    }
   },
   "outputs": [
    {
     "name": "stdout",
     "output_type": "stream",
     "text": [
      "Total of Black Nodes: 1\n",
      "Total of Anchor Nodes: 10\n",
      "Total of Estimated Nodes: 89\n",
      "Cycles needed to estimate as much as possible nodes:  4\n"
     ]
    }
   ],
   "source": [
    "def estimateLocations(nodes, heuristic, r = 10, iterative = True):\n",
    "    global cycles \n",
    "    cycles = 0\n",
    "    if iterative:\n",
    "        while (True):\n",
    "            cycles = cycles + 1\n",
    "            estimatedSmth = False\n",
    "            for idx in range(len(nodes)):\n",
    "                # print(nodes[idx].estimateLocation())\n",
    "                est = nodes[idx].estimateLocation(cycles, heuristic, r)\n",
    "                if est:\n",
    "                    # print(nodes[idx])\n",
    "                    estimatedSmth = True\n",
    "                    nodes[idx].estimated = True\n",
    "            if not estimatedSmth:\n",
    "                break\n",
    "    else:\n",
    "        # print('Fisnik')\n",
    "        cycles = cycles + 1\n",
    "        for idx in range(len(nodes)):\n",
    "            est = nodes[idx].estimateLocation(cycles, heuristic, r)\n",
    "            \n",
    "    return nodes\n",
    "\n",
    "nodes = estimateLocations(nodes, 1)\n",
    "            \n",
    "black_nodes = []\n",
    "anchor_nodes = []\n",
    "estimated_nodes = []\n",
    "\n",
    "\n",
    "for idx in range(len(nodes)):\n",
    "    if nodes[idx].isAnchor == 1:\n",
    "        anchor_nodes.append(nodes[idx])\n",
    "    elif nodes[idx].estimated:\n",
    "        estimated_nodes.append(nodes[idx])\n",
    "    else:\n",
    "        black_nodes.append(nodes[idx])\n",
    "\n",
    "print(\"Total of Black Nodes:\", len(black_nodes))\n",
    "print(\"Total of Anchor Nodes:\", len(anchor_nodes))\n",
    "print(\"Total of Estimated Nodes:\", len(estimated_nodes))\n",
    "print(\"Cycles needed to estimate as much as possible nodes: \", cycles)"
   ]
  },
  {
   "cell_type": "code",
   "execution_count": 206,
   "metadata": {
    "ExecuteTime": {
     "end_time": "2019-12-27T09:34:56.409307Z",
     "start_time": "2019-12-27T09:34:56.391394Z"
    }
   },
   "outputs": [],
   "source": [
    "\"\"\"\n",
    "    This is a function that plots the Anchor Nodes (RED), Nodes that could have been estimated (YELLOW)\n",
    "    and nodes that couldn't have been estimated (BLACK)\n",
    "\n",
    "\"\"\"\n",
    "\n",
    "def plot2(black_nodes, anchor_nodes, estimated_nodes, cycles):\n",
    "    x_black_nodes = [black_nodes[i].x_coord for i in range(len(black_nodes))]\n",
    "    y_black_nodes = [black_nodes[i].y_coord for i in range(len(black_nodes))]\n",
    "\n",
    "    x_anchor_nodes = [anchor_nodes[i].x_coord for i in range(len(anchor_nodes))]\n",
    "    y_anchor_nodes = [anchor_nodes[i].y_coord for i in range(len(anchor_nodes))]\n",
    "    \n",
    "    x_estimated_nodes = [estimated_nodes[i].x_coord for i in range(len(estimated_nodes))]\n",
    "    y_estimated_nodes = [estimated_nodes[i].y_coord for i in range(len(estimated_nodes))]\n",
    "    \n",
    "    name_black = \"Black Nodes (\" + str(len(black_nodes)) + \")\"\n",
    "    black_nodes = {\"x\" : x_black_nodes,\n",
    "                   \"y\" : y_black_nodes,\n",
    "                   \"mode\" : \"markers\",\n",
    "                   \"marker\" : {\"color\" : \"black\", \"size\":5},\n",
    "                   \"name\" : name_black\n",
    "                  }\n",
    "    \n",
    "    name_anchor = \"Anchor Nodes (\" + str(len(anchor_nodes)) + \")\"\n",
    "    anchor_nodes = {\"x\" : x_anchor_nodes,\n",
    "                  \"y\" : y_anchor_nodes,\n",
    "                  \"mode\" : \"markers\",\n",
    "                  \"marker\" : {\"color\" : \"red\", \"size\" : 8},\n",
    "                  \"name\" : name_anchor\n",
    "                 }\n",
    "    \n",
    "    name_estimated = \"Estimated Nodes (\" + str(len(estimated_nodes)) + \")\"\n",
    "    estimated_nodes = {\"x\" : x_estimated_nodes,\n",
    "                  \"y\" : y_estimated_nodes,\n",
    "                  \"mode\" : \"markers\",\n",
    "                  \"marker\" : {\"color\" : \"yellow\", \"size\" : 5},\n",
    "                  \"name\" : name_estimated\n",
    "                 }\n",
    "    \n",
    "    data = [black_nodes, anchor_nodes, estimated_nodes]\n",
    "\n",
    "    iplot(data)\n",
    "    \n",
    "\n",
    "    \n",
    "\"\"\"\n",
    "    This is a function that plots the correct location of a node (red) and the estimated location of the\n",
    "    node by trilateration (blue)\n",
    "\"\"\"\n",
    "def plot3(original_node, estimated_node):\n",
    "    x_original_node = [original_node[i][0] for i in range(len(original_node))]\n",
    "    y_original_node = [original_node[i][1] for i in range(len(original_node))]\n",
    "\n",
    "    x_estimated_node = [estimated_node[i][0] for i in range(len(estimated_node))]\n",
    "    y_estimated_node = [estimated_node[i][1] for i in range(len(estimated_node))]\n",
    "    \n",
    "    original_node_name = \"Correct Location\"\n",
    "    original_nodes = {\"x\" : x_original_node,\n",
    "                   \"y\" : y_original_node,\n",
    "                   \"mode\" : \"markers\",\n",
    "                   \"marker\" : {\"color\" : \"red\", \"size\":5},\n",
    "                   \"name\" : original_node_name\n",
    "                  }\n",
    "    \n",
    "    estimated_node_name = \"Estimated Node\"\n",
    "    estimated_nodes = {\"x\" : x_estimated_node,\n",
    "                  \"y\" : y_estimated_node,\n",
    "                  \"mode\" : \"markers\",\n",
    "                  \"marker\" : {\"color\" : \"blue\", \"size\" : 5},\n",
    "                  \"name\" : estimated_node_name\n",
    "                 }\n",
    "    \n",
    "    \n",
    "    data = [original_nodes, estimated_nodes]\n",
    "\n",
    "    iplot(data)\n",
    "    \n",
    "\n",
    "original_node = []\n",
    "estimated_node = []\n",
    "\n",
    "\n",
    "for node in estimated_nodes:\n",
    "    node_original = node.x_coord, node.y_coord\n",
    "    node_estimated = node.x_estimated, node.y_estimated\n",
    "    \n",
    "    original_node.append(node_original)\n",
    "    estimated_node.append(node_estimated)\n",
    "    \n",
    "\n",
    "# for id in range(len(original_node)):\n",
    "#     print(original_node[id])\n",
    "#     print(estimated_node[id])\n",
    "#     print()\n",
    "\n",
    "x_original_node = [original_node[i][0] for i in range(len(original_node))]\n",
    "y_original_node = [original_node[i][1] for i in range(len(original_node))]\n",
    "\n",
    "x_estimated_node = [estimated_node[i][0] for i in range(len(estimated_node))]\n",
    "y_estimated_node = [estimated_node[i][1] for i in range(len(estimated_node))]"
   ]
  },
  {
   "cell_type": "code",
   "execution_count": 207,
   "metadata": {
    "ExecuteTime": {
     "end_time": "2019-12-27T09:35:01.964141Z",
     "start_time": "2019-12-27T09:35:01.704789Z"
    }
   },
   "outputs": [
    {
     "data": {
      "application/vnd.plotly.v1+json": {
       "config": {
        "linkText": "Export to plot.ly",
        "plotlyServerURL": "https://plot.ly",
        "showLink": false
       },
       "data": [
        {
         "marker": {
          "color": "black",
          "size": 5
         },
         "mode": "markers",
         "name": "Black Nodes (1)",
         "type": "scatter",
         "x": [
          94.34402572551707
         ],
         "y": [
          1.084864347850012
         ]
        },
        {
         "marker": {
          "color": "red",
          "size": 8
         },
         "mode": "markers",
         "name": "Anchor Nodes (10)",
         "type": "scatter",
         "x": [
          50.45740786243018,
          37.38090868696246,
          46.22348388431704,
          22.708951848477476,
          14.448740638747214,
          92.96123972459742,
          82.89587680524104,
          42.80346368784544,
          77.22182312828741,
          77.9404869602696
         ],
         "y": [
          78.6956323342661,
          58.988447162838895,
          67.17190992702834,
          52.51566091220619,
          56.62305335430256,
          50.58438326918127,
          60.986944449454015,
          68.80045527200691,
          53.41915925840388,
          73.54651903553035
         ]
        },
        {
         "marker": {
          "color": "yellow",
          "size": 5
         },
         "mode": "markers",
         "name": "Estimated Nodes (89)",
         "type": "scatter",
         "x": [
          93.54221925094348,
          32.46525503047148,
          22.49033225066569,
          36.15292095912236,
          65.98361737558925,
          60.6579540629371,
          42.935493588151985,
          45.916775850680736,
          34.069006404218506,
          78.61262211391661,
          28.49321398442125,
          9.210921022760488,
          57.26029280753485,
          15.393176714882618,
          58.724757962559636,
          94.82533998624008,
          52.80042391325503,
          32.288107584758265,
          96.51162492470058,
          90.4223776117667,
          60.50359729167318,
          9.458251034646036,
          53.15061133227148,
          33.410711199936394,
          2.9926407136840583,
          90.63205502822633,
          27.997847119213315,
          74.02378809739639,
          1.4880439124536515,
          56.30838340047821,
          22.50272484808422,
          37.00809662162781,
          59.30685441005503,
          97.39577339375307,
          46.54345963368029,
          72.17112802704962,
          89.36257697592644,
          39.98013629883683,
          77.84121421594702,
          35.30215194298398,
          94.60867987076465,
          48.419360797614175,
          91.68263410076696,
          43.40116717081841,
          24.859338243663252,
          7.510174364895484,
          23.464304985502704,
          88.51786078566363,
          13.476796983087802,
          95.35378360361527,
          59.606395112219225,
          39.267316699025926,
          12.782838268639008,
          75.23355353068776,
          13.645618578630236,
          91.80117567895947,
          54.893528872822074,
          45.88687139758196,
          56.15797590367059,
          4.674944202154519,
          29.759529529886773,
          43.4504148275378,
          47.95424429480683,
          99.13342909762457,
          73.99994482912537,
          22.842077682942673,
          64.40108010403355,
          14.517908459076844,
          11.282826132033074,
          70.37904520439572,
          27.958369584168185,
          73.35219635694853,
          25.751087134320116,
          26.02026462194562,
          96.63013169605344,
          38.13875422041198,
          11.41963495597177,
          3.2853764345661562,
          99.05719214023533,
          83.7864336393738,
          58.487551805129534,
          90.31381765524445,
          19.405575345092686,
          17.920332137961836,
          15.175686773631769,
          35.15860578673671,
          86.07556595731184,
          17.588048361782327,
          20.829480095528496
         ],
         "y": [
          63.17429487819756,
          99.4537014834545,
          25.19291255030176,
          4.7377761683564,
          26.289211373546628,
          0.30574945559650457,
          32.73390465609393,
          74.87885412745881,
          14.46923732857045,
          52.824737529925784,
          72.01190201232556,
          15.15818175933008,
          15.449604553159125,
          83.65524330589113,
          30.560004273866703,
          65.05188625115429,
          21.155498669261984,
          32.408069199322995,
          81.21578935365916,
          38.274430140733884,
          29.54472896189403,
          94.91223803138273,
          25.7105648458403,
          27.305451932418954,
          40.5621854435927,
          29.65424483733542,
          51.718118432014805,
          58.833805367354216,
          76.32619597888565,
          7.339622738829421,
          10.940878829507195,
          82.41502062644311,
          43.81462813772372,
          27.011492162337813,
          76.18935665490085,
          17.96658497935012,
          96.04471460012498,
          6.1962564098920865,
          50.48003388486993,
          47.26833164216243,
          88.69828080212055,
          7.3542867321658605,
          32.8158924772003,
          39.214395520210054,
          17.73195606905813,
          60.399971405281235,
          56.843887815982576,
          52.75302636457061,
          35.61617877122363,
          28.381243535731194,
          29.348279607276282,
          16.15315439989563,
          9.06834613640367,
          17.827744106314647,
          6.899840464352813,
          17.419380574121735,
          67.58103998752651,
          90.85260199654181,
          57.998005441951314,
          96.80774255797971,
          52.623885383182134,
          55.111681211938524,
          25.984308171574554,
          97.59011266735496,
          99.48640738972551,
          8.915998115990654,
          57.305377636464016,
          26.030229920752333,
          30.75404363199712,
          32.893741014138655,
          73.59001559990747,
          93.60055900967383,
          92.63137712503435,
          59.82077829414171,
          18.370629134457005,
          45.890939677697126,
          36.55168682054472,
          98.60823148080867,
          73.00480974582962,
          46.258903448157525,
          15.304230392491347,
          38.335827267696345,
          64.8739835674054,
          45.40658875808734,
          98.44314122708643,
          93.21016712252525,
          73.82861539854542,
          52.01548238174328,
          49.32757682911514
         ]
        }
       ],
       "layout": {
        "template": {
         "data": {
          "bar": [
           {
            "error_x": {
             "color": "#2a3f5f"
            },
            "error_y": {
             "color": "#2a3f5f"
            },
            "marker": {
             "line": {
              "color": "#E5ECF6",
              "width": 0.5
             }
            },
            "type": "bar"
           }
          ],
          "barpolar": [
           {
            "marker": {
             "line": {
              "color": "#E5ECF6",
              "width": 0.5
             }
            },
            "type": "barpolar"
           }
          ],
          "carpet": [
           {
            "aaxis": {
             "endlinecolor": "#2a3f5f",
             "gridcolor": "white",
             "linecolor": "white",
             "minorgridcolor": "white",
             "startlinecolor": "#2a3f5f"
            },
            "baxis": {
             "endlinecolor": "#2a3f5f",
             "gridcolor": "white",
             "linecolor": "white",
             "minorgridcolor": "white",
             "startlinecolor": "#2a3f5f"
            },
            "type": "carpet"
           }
          ],
          "choropleth": [
           {
            "colorbar": {
             "outlinewidth": 0,
             "ticks": ""
            },
            "type": "choropleth"
           }
          ],
          "contour": [
           {
            "colorbar": {
             "outlinewidth": 0,
             "ticks": ""
            },
            "colorscale": [
             [
              0,
              "#0d0887"
             ],
             [
              0.1111111111111111,
              "#46039f"
             ],
             [
              0.2222222222222222,
              "#7201a8"
             ],
             [
              0.3333333333333333,
              "#9c179e"
             ],
             [
              0.4444444444444444,
              "#bd3786"
             ],
             [
              0.5555555555555556,
              "#d8576b"
             ],
             [
              0.6666666666666666,
              "#ed7953"
             ],
             [
              0.7777777777777778,
              "#fb9f3a"
             ],
             [
              0.8888888888888888,
              "#fdca26"
             ],
             [
              1,
              "#f0f921"
             ]
            ],
            "type": "contour"
           }
          ],
          "contourcarpet": [
           {
            "colorbar": {
             "outlinewidth": 0,
             "ticks": ""
            },
            "type": "contourcarpet"
           }
          ],
          "heatmap": [
           {
            "colorbar": {
             "outlinewidth": 0,
             "ticks": ""
            },
            "colorscale": [
             [
              0,
              "#0d0887"
             ],
             [
              0.1111111111111111,
              "#46039f"
             ],
             [
              0.2222222222222222,
              "#7201a8"
             ],
             [
              0.3333333333333333,
              "#9c179e"
             ],
             [
              0.4444444444444444,
              "#bd3786"
             ],
             [
              0.5555555555555556,
              "#d8576b"
             ],
             [
              0.6666666666666666,
              "#ed7953"
             ],
             [
              0.7777777777777778,
              "#fb9f3a"
             ],
             [
              0.8888888888888888,
              "#fdca26"
             ],
             [
              1,
              "#f0f921"
             ]
            ],
            "type": "heatmap"
           }
          ],
          "heatmapgl": [
           {
            "colorbar": {
             "outlinewidth": 0,
             "ticks": ""
            },
            "colorscale": [
             [
              0,
              "#0d0887"
             ],
             [
              0.1111111111111111,
              "#46039f"
             ],
             [
              0.2222222222222222,
              "#7201a8"
             ],
             [
              0.3333333333333333,
              "#9c179e"
             ],
             [
              0.4444444444444444,
              "#bd3786"
             ],
             [
              0.5555555555555556,
              "#d8576b"
             ],
             [
              0.6666666666666666,
              "#ed7953"
             ],
             [
              0.7777777777777778,
              "#fb9f3a"
             ],
             [
              0.8888888888888888,
              "#fdca26"
             ],
             [
              1,
              "#f0f921"
             ]
            ],
            "type": "heatmapgl"
           }
          ],
          "histogram": [
           {
            "marker": {
             "colorbar": {
              "outlinewidth": 0,
              "ticks": ""
             }
            },
            "type": "histogram"
           }
          ],
          "histogram2d": [
           {
            "colorbar": {
             "outlinewidth": 0,
             "ticks": ""
            },
            "colorscale": [
             [
              0,
              "#0d0887"
             ],
             [
              0.1111111111111111,
              "#46039f"
             ],
             [
              0.2222222222222222,
              "#7201a8"
             ],
             [
              0.3333333333333333,
              "#9c179e"
             ],
             [
              0.4444444444444444,
              "#bd3786"
             ],
             [
              0.5555555555555556,
              "#d8576b"
             ],
             [
              0.6666666666666666,
              "#ed7953"
             ],
             [
              0.7777777777777778,
              "#fb9f3a"
             ],
             [
              0.8888888888888888,
              "#fdca26"
             ],
             [
              1,
              "#f0f921"
             ]
            ],
            "type": "histogram2d"
           }
          ],
          "histogram2dcontour": [
           {
            "colorbar": {
             "outlinewidth": 0,
             "ticks": ""
            },
            "colorscale": [
             [
              0,
              "#0d0887"
             ],
             [
              0.1111111111111111,
              "#46039f"
             ],
             [
              0.2222222222222222,
              "#7201a8"
             ],
             [
              0.3333333333333333,
              "#9c179e"
             ],
             [
              0.4444444444444444,
              "#bd3786"
             ],
             [
              0.5555555555555556,
              "#d8576b"
             ],
             [
              0.6666666666666666,
              "#ed7953"
             ],
             [
              0.7777777777777778,
              "#fb9f3a"
             ],
             [
              0.8888888888888888,
              "#fdca26"
             ],
             [
              1,
              "#f0f921"
             ]
            ],
            "type": "histogram2dcontour"
           }
          ],
          "mesh3d": [
           {
            "colorbar": {
             "outlinewidth": 0,
             "ticks": ""
            },
            "type": "mesh3d"
           }
          ],
          "parcoords": [
           {
            "line": {
             "colorbar": {
              "outlinewidth": 0,
              "ticks": ""
             }
            },
            "type": "parcoords"
           }
          ],
          "scatter": [
           {
            "marker": {
             "colorbar": {
              "outlinewidth": 0,
              "ticks": ""
             }
            },
            "type": "scatter"
           }
          ],
          "scatter3d": [
           {
            "line": {
             "colorbar": {
              "outlinewidth": 0,
              "ticks": ""
             }
            },
            "marker": {
             "colorbar": {
              "outlinewidth": 0,
              "ticks": ""
             }
            },
            "type": "scatter3d"
           }
          ],
          "scattercarpet": [
           {
            "marker": {
             "colorbar": {
              "outlinewidth": 0,
              "ticks": ""
             }
            },
            "type": "scattercarpet"
           }
          ],
          "scattergeo": [
           {
            "marker": {
             "colorbar": {
              "outlinewidth": 0,
              "ticks": ""
             }
            },
            "type": "scattergeo"
           }
          ],
          "scattergl": [
           {
            "marker": {
             "colorbar": {
              "outlinewidth": 0,
              "ticks": ""
             }
            },
            "type": "scattergl"
           }
          ],
          "scattermapbox": [
           {
            "marker": {
             "colorbar": {
              "outlinewidth": 0,
              "ticks": ""
             }
            },
            "type": "scattermapbox"
           }
          ],
          "scatterpolar": [
           {
            "marker": {
             "colorbar": {
              "outlinewidth": 0,
              "ticks": ""
             }
            },
            "type": "scatterpolar"
           }
          ],
          "scatterpolargl": [
           {
            "marker": {
             "colorbar": {
              "outlinewidth": 0,
              "ticks": ""
             }
            },
            "type": "scatterpolargl"
           }
          ],
          "scatterternary": [
           {
            "marker": {
             "colorbar": {
              "outlinewidth": 0,
              "ticks": ""
             }
            },
            "type": "scatterternary"
           }
          ],
          "surface": [
           {
            "colorbar": {
             "outlinewidth": 0,
             "ticks": ""
            },
            "colorscale": [
             [
              0,
              "#0d0887"
             ],
             [
              0.1111111111111111,
              "#46039f"
             ],
             [
              0.2222222222222222,
              "#7201a8"
             ],
             [
              0.3333333333333333,
              "#9c179e"
             ],
             [
              0.4444444444444444,
              "#bd3786"
             ],
             [
              0.5555555555555556,
              "#d8576b"
             ],
             [
              0.6666666666666666,
              "#ed7953"
             ],
             [
              0.7777777777777778,
              "#fb9f3a"
             ],
             [
              0.8888888888888888,
              "#fdca26"
             ],
             [
              1,
              "#f0f921"
             ]
            ],
            "type": "surface"
           }
          ],
          "table": [
           {
            "cells": {
             "fill": {
              "color": "#EBF0F8"
             },
             "line": {
              "color": "white"
             }
            },
            "header": {
             "fill": {
              "color": "#C8D4E3"
             },
             "line": {
              "color": "white"
             }
            },
            "type": "table"
           }
          ]
         },
         "layout": {
          "annotationdefaults": {
           "arrowcolor": "#2a3f5f",
           "arrowhead": 0,
           "arrowwidth": 1
          },
          "colorscale": {
           "diverging": [
            [
             0,
             "#8e0152"
            ],
            [
             0.1,
             "#c51b7d"
            ],
            [
             0.2,
             "#de77ae"
            ],
            [
             0.3,
             "#f1b6da"
            ],
            [
             0.4,
             "#fde0ef"
            ],
            [
             0.5,
             "#f7f7f7"
            ],
            [
             0.6,
             "#e6f5d0"
            ],
            [
             0.7,
             "#b8e186"
            ],
            [
             0.8,
             "#7fbc41"
            ],
            [
             0.9,
             "#4d9221"
            ],
            [
             1,
             "#276419"
            ]
           ],
           "sequential": [
            [
             0,
             "#0d0887"
            ],
            [
             0.1111111111111111,
             "#46039f"
            ],
            [
             0.2222222222222222,
             "#7201a8"
            ],
            [
             0.3333333333333333,
             "#9c179e"
            ],
            [
             0.4444444444444444,
             "#bd3786"
            ],
            [
             0.5555555555555556,
             "#d8576b"
            ],
            [
             0.6666666666666666,
             "#ed7953"
            ],
            [
             0.7777777777777778,
             "#fb9f3a"
            ],
            [
             0.8888888888888888,
             "#fdca26"
            ],
            [
             1,
             "#f0f921"
            ]
           ],
           "sequentialminus": [
            [
             0,
             "#0d0887"
            ],
            [
             0.1111111111111111,
             "#46039f"
            ],
            [
             0.2222222222222222,
             "#7201a8"
            ],
            [
             0.3333333333333333,
             "#9c179e"
            ],
            [
             0.4444444444444444,
             "#bd3786"
            ],
            [
             0.5555555555555556,
             "#d8576b"
            ],
            [
             0.6666666666666666,
             "#ed7953"
            ],
            [
             0.7777777777777778,
             "#fb9f3a"
            ],
            [
             0.8888888888888888,
             "#fdca26"
            ],
            [
             1,
             "#f0f921"
            ]
           ]
          },
          "colorway": [
           "#636efa",
           "#EF553B",
           "#00cc96",
           "#ab63fa",
           "#FFA15A",
           "#19d3f3",
           "#FF6692",
           "#B6E880",
           "#FF97FF",
           "#FECB52"
          ],
          "font": {
           "color": "#2a3f5f"
          },
          "geo": {
           "bgcolor": "white",
           "lakecolor": "white",
           "landcolor": "#E5ECF6",
           "showlakes": true,
           "showland": true,
           "subunitcolor": "white"
          },
          "hoverlabel": {
           "align": "left"
          },
          "hovermode": "closest",
          "mapbox": {
           "style": "light"
          },
          "paper_bgcolor": "white",
          "plot_bgcolor": "#E5ECF6",
          "polar": {
           "angularaxis": {
            "gridcolor": "white",
            "linecolor": "white",
            "ticks": ""
           },
           "bgcolor": "#E5ECF6",
           "radialaxis": {
            "gridcolor": "white",
            "linecolor": "white",
            "ticks": ""
           }
          },
          "scene": {
           "xaxis": {
            "backgroundcolor": "#E5ECF6",
            "gridcolor": "white",
            "gridwidth": 2,
            "linecolor": "white",
            "showbackground": true,
            "ticks": "",
            "zerolinecolor": "white"
           },
           "yaxis": {
            "backgroundcolor": "#E5ECF6",
            "gridcolor": "white",
            "gridwidth": 2,
            "linecolor": "white",
            "showbackground": true,
            "ticks": "",
            "zerolinecolor": "white"
           },
           "zaxis": {
            "backgroundcolor": "#E5ECF6",
            "gridcolor": "white",
            "gridwidth": 2,
            "linecolor": "white",
            "showbackground": true,
            "ticks": "",
            "zerolinecolor": "white"
           }
          },
          "shapedefaults": {
           "line": {
            "color": "#2a3f5f"
           }
          },
          "ternary": {
           "aaxis": {
            "gridcolor": "white",
            "linecolor": "white",
            "ticks": ""
           },
           "baxis": {
            "gridcolor": "white",
            "linecolor": "white",
            "ticks": ""
           },
           "bgcolor": "#E5ECF6",
           "caxis": {
            "gridcolor": "white",
            "linecolor": "white",
            "ticks": ""
           }
          },
          "title": {
           "x": 0.05
          },
          "xaxis": {
           "automargin": true,
           "gridcolor": "white",
           "linecolor": "white",
           "ticks": "",
           "zerolinecolor": "white",
           "zerolinewidth": 2
          },
          "yaxis": {
           "automargin": true,
           "gridcolor": "white",
           "linecolor": "white",
           "ticks": "",
           "zerolinecolor": "white",
           "zerolinewidth": 2
          }
         }
        }
       }
      },
      "text/html": [
       "<div>\n",
       "        \n",
       "        \n",
       "            <div id=\"9174a5ad-f4af-49d3-b702-d1e7f427bd25\" class=\"plotly-graph-div\" style=\"height:525px; width:100%;\"></div>\n",
       "            <script type=\"text/javascript\">\n",
       "                require([\"plotly\"], function(Plotly) {\n",
       "                    window.PLOTLYENV=window.PLOTLYENV || {};\n",
       "                    \n",
       "                if (document.getElementById(\"9174a5ad-f4af-49d3-b702-d1e7f427bd25\")) {\n",
       "                    Plotly.newPlot(\n",
       "                        '9174a5ad-f4af-49d3-b702-d1e7f427bd25',\n",
       "                        [{\"marker\": {\"color\": \"black\", \"size\": 5}, \"mode\": \"markers\", \"name\": \"Black Nodes (1)\", \"type\": \"scatter\", \"x\": [94.34402572551707], \"y\": [1.084864347850012]}, {\"marker\": {\"color\": \"red\", \"size\": 8}, \"mode\": \"markers\", \"name\": \"Anchor Nodes (10)\", \"type\": \"scatter\", \"x\": [50.45740786243018, 37.38090868696246, 46.22348388431704, 22.708951848477476, 14.448740638747214, 92.96123972459742, 82.89587680524104, 42.80346368784544, 77.22182312828741, 77.9404869602696], \"y\": [78.6956323342661, 58.988447162838895, 67.17190992702834, 52.51566091220619, 56.62305335430256, 50.58438326918127, 60.986944449454015, 68.80045527200691, 53.41915925840388, 73.54651903553035]}, {\"marker\": {\"color\": \"yellow\", \"size\": 5}, \"mode\": \"markers\", \"name\": \"Estimated Nodes (89)\", \"type\": \"scatter\", \"x\": [93.54221925094348, 32.46525503047148, 22.49033225066569, 36.15292095912236, 65.98361737558925, 60.6579540629371, 42.935493588151985, 45.916775850680736, 34.069006404218506, 78.61262211391661, 28.49321398442125, 9.210921022760488, 57.26029280753485, 15.393176714882618, 58.724757962559636, 94.82533998624008, 52.80042391325503, 32.288107584758265, 96.51162492470058, 90.4223776117667, 60.50359729167318, 9.458251034646036, 53.15061133227148, 33.410711199936394, 2.9926407136840583, 90.63205502822633, 27.997847119213315, 74.02378809739639, 1.4880439124536515, 56.30838340047821, 22.50272484808422, 37.00809662162781, 59.30685441005503, 97.39577339375307, 46.54345963368029, 72.17112802704962, 89.36257697592644, 39.98013629883683, 77.84121421594702, 35.30215194298398, 94.60867987076465, 48.419360797614175, 91.68263410076696, 43.40116717081841, 24.859338243663252, 7.510174364895484, 23.464304985502704, 88.51786078566363, 13.476796983087802, 95.35378360361527, 59.606395112219225, 39.267316699025926, 12.782838268639008, 75.23355353068776, 13.645618578630236, 91.80117567895947, 54.893528872822074, 45.88687139758196, 56.15797590367059, 4.674944202154519, 29.759529529886773, 43.4504148275378, 47.95424429480683, 99.13342909762457, 73.99994482912537, 22.842077682942673, 64.40108010403355, 14.517908459076844, 11.282826132033074, 70.37904520439572, 27.958369584168185, 73.35219635694853, 25.751087134320116, 26.02026462194562, 96.63013169605344, 38.13875422041198, 11.41963495597177, 3.2853764345661562, 99.05719214023533, 83.7864336393738, 58.487551805129534, 90.31381765524445, 19.405575345092686, 17.920332137961836, 15.175686773631769, 35.15860578673671, 86.07556595731184, 17.588048361782327, 20.829480095528496], \"y\": [63.17429487819756, 99.4537014834545, 25.19291255030176, 4.7377761683564, 26.289211373546628, 0.30574945559650457, 32.73390465609393, 74.87885412745881, 14.46923732857045, 52.824737529925784, 72.01190201232556, 15.15818175933008, 15.449604553159125, 83.65524330589113, 30.560004273866703, 65.05188625115429, 21.155498669261984, 32.408069199322995, 81.21578935365916, 38.274430140733884, 29.54472896189403, 94.91223803138273, 25.7105648458403, 27.305451932418954, 40.5621854435927, 29.65424483733542, 51.718118432014805, 58.833805367354216, 76.32619597888565, 7.339622738829421, 10.940878829507195, 82.41502062644311, 43.81462813772372, 27.011492162337813, 76.18935665490085, 17.96658497935012, 96.04471460012498, 6.1962564098920865, 50.48003388486993, 47.26833164216243, 88.69828080212055, 7.3542867321658605, 32.8158924772003, 39.214395520210054, 17.73195606905813, 60.399971405281235, 56.843887815982576, 52.75302636457061, 35.61617877122363, 28.381243535731194, 29.348279607276282, 16.15315439989563, 9.06834613640367, 17.827744106314647, 6.899840464352813, 17.419380574121735, 67.58103998752651, 90.85260199654181, 57.998005441951314, 96.80774255797971, 52.623885383182134, 55.111681211938524, 25.984308171574554, 97.59011266735496, 99.48640738972551, 8.915998115990654, 57.305377636464016, 26.030229920752333, 30.75404363199712, 32.893741014138655, 73.59001559990747, 93.60055900967383, 92.63137712503435, 59.82077829414171, 18.370629134457005, 45.890939677697126, 36.55168682054472, 98.60823148080867, 73.00480974582962, 46.258903448157525, 15.304230392491347, 38.335827267696345, 64.8739835674054, 45.40658875808734, 98.44314122708643, 93.21016712252525, 73.82861539854542, 52.01548238174328, 49.32757682911514]}],\n",
       "                        {\"template\": {\"data\": {\"bar\": [{\"error_x\": {\"color\": \"#2a3f5f\"}, \"error_y\": {\"color\": \"#2a3f5f\"}, \"marker\": {\"line\": {\"color\": \"#E5ECF6\", \"width\": 0.5}}, \"type\": \"bar\"}], \"barpolar\": [{\"marker\": {\"line\": {\"color\": \"#E5ECF6\", \"width\": 0.5}}, \"type\": \"barpolar\"}], \"carpet\": [{\"aaxis\": {\"endlinecolor\": \"#2a3f5f\", \"gridcolor\": \"white\", \"linecolor\": \"white\", \"minorgridcolor\": \"white\", \"startlinecolor\": \"#2a3f5f\"}, \"baxis\": {\"endlinecolor\": \"#2a3f5f\", \"gridcolor\": \"white\", \"linecolor\": \"white\", \"minorgridcolor\": \"white\", \"startlinecolor\": \"#2a3f5f\"}, \"type\": \"carpet\"}], \"choropleth\": [{\"colorbar\": {\"outlinewidth\": 0, \"ticks\": \"\"}, \"type\": \"choropleth\"}], \"contour\": [{\"colorbar\": {\"outlinewidth\": 0, \"ticks\": \"\"}, \"colorscale\": [[0.0, \"#0d0887\"], [0.1111111111111111, \"#46039f\"], [0.2222222222222222, \"#7201a8\"], [0.3333333333333333, \"#9c179e\"], [0.4444444444444444, \"#bd3786\"], [0.5555555555555556, \"#d8576b\"], [0.6666666666666666, \"#ed7953\"], [0.7777777777777778, \"#fb9f3a\"], [0.8888888888888888, \"#fdca26\"], [1.0, \"#f0f921\"]], \"type\": \"contour\"}], \"contourcarpet\": [{\"colorbar\": {\"outlinewidth\": 0, \"ticks\": \"\"}, \"type\": \"contourcarpet\"}], \"heatmap\": [{\"colorbar\": {\"outlinewidth\": 0, \"ticks\": \"\"}, \"colorscale\": [[0.0, \"#0d0887\"], [0.1111111111111111, \"#46039f\"], [0.2222222222222222, \"#7201a8\"], [0.3333333333333333, \"#9c179e\"], [0.4444444444444444, \"#bd3786\"], [0.5555555555555556, \"#d8576b\"], [0.6666666666666666, \"#ed7953\"], [0.7777777777777778, \"#fb9f3a\"], [0.8888888888888888, \"#fdca26\"], [1.0, \"#f0f921\"]], \"type\": \"heatmap\"}], \"heatmapgl\": [{\"colorbar\": {\"outlinewidth\": 0, \"ticks\": \"\"}, \"colorscale\": [[0.0, \"#0d0887\"], [0.1111111111111111, \"#46039f\"], [0.2222222222222222, \"#7201a8\"], [0.3333333333333333, \"#9c179e\"], [0.4444444444444444, \"#bd3786\"], [0.5555555555555556, \"#d8576b\"], [0.6666666666666666, \"#ed7953\"], [0.7777777777777778, \"#fb9f3a\"], [0.8888888888888888, \"#fdca26\"], [1.0, \"#f0f921\"]], \"type\": \"heatmapgl\"}], \"histogram\": [{\"marker\": {\"colorbar\": {\"outlinewidth\": 0, \"ticks\": \"\"}}, \"type\": \"histogram\"}], \"histogram2d\": [{\"colorbar\": {\"outlinewidth\": 0, \"ticks\": \"\"}, \"colorscale\": [[0.0, \"#0d0887\"], [0.1111111111111111, \"#46039f\"], [0.2222222222222222, \"#7201a8\"], [0.3333333333333333, \"#9c179e\"], [0.4444444444444444, \"#bd3786\"], [0.5555555555555556, \"#d8576b\"], [0.6666666666666666, \"#ed7953\"], [0.7777777777777778, \"#fb9f3a\"], [0.8888888888888888, \"#fdca26\"], [1.0, \"#f0f921\"]], \"type\": \"histogram2d\"}], \"histogram2dcontour\": [{\"colorbar\": {\"outlinewidth\": 0, \"ticks\": \"\"}, \"colorscale\": [[0.0, \"#0d0887\"], [0.1111111111111111, \"#46039f\"], [0.2222222222222222, \"#7201a8\"], [0.3333333333333333, \"#9c179e\"], [0.4444444444444444, \"#bd3786\"], [0.5555555555555556, \"#d8576b\"], [0.6666666666666666, \"#ed7953\"], [0.7777777777777778, \"#fb9f3a\"], [0.8888888888888888, \"#fdca26\"], [1.0, \"#f0f921\"]], \"type\": \"histogram2dcontour\"}], \"mesh3d\": [{\"colorbar\": {\"outlinewidth\": 0, \"ticks\": \"\"}, \"type\": \"mesh3d\"}], \"parcoords\": [{\"line\": {\"colorbar\": {\"outlinewidth\": 0, \"ticks\": \"\"}}, \"type\": \"parcoords\"}], \"scatter\": [{\"marker\": {\"colorbar\": {\"outlinewidth\": 0, \"ticks\": \"\"}}, \"type\": \"scatter\"}], \"scatter3d\": [{\"line\": {\"colorbar\": {\"outlinewidth\": 0, \"ticks\": \"\"}}, \"marker\": {\"colorbar\": {\"outlinewidth\": 0, \"ticks\": \"\"}}, \"type\": \"scatter3d\"}], \"scattercarpet\": [{\"marker\": {\"colorbar\": {\"outlinewidth\": 0, \"ticks\": \"\"}}, \"type\": \"scattercarpet\"}], \"scattergeo\": [{\"marker\": {\"colorbar\": {\"outlinewidth\": 0, \"ticks\": \"\"}}, \"type\": \"scattergeo\"}], \"scattergl\": [{\"marker\": {\"colorbar\": {\"outlinewidth\": 0, \"ticks\": \"\"}}, \"type\": \"scattergl\"}], \"scattermapbox\": [{\"marker\": {\"colorbar\": {\"outlinewidth\": 0, \"ticks\": \"\"}}, \"type\": \"scattermapbox\"}], \"scatterpolar\": [{\"marker\": {\"colorbar\": {\"outlinewidth\": 0, \"ticks\": \"\"}}, \"type\": \"scatterpolar\"}], \"scatterpolargl\": [{\"marker\": {\"colorbar\": {\"outlinewidth\": 0, \"ticks\": \"\"}}, \"type\": \"scatterpolargl\"}], \"scatterternary\": [{\"marker\": {\"colorbar\": {\"outlinewidth\": 0, \"ticks\": \"\"}}, \"type\": \"scatterternary\"}], \"surface\": [{\"colorbar\": {\"outlinewidth\": 0, \"ticks\": \"\"}, \"colorscale\": [[0.0, \"#0d0887\"], [0.1111111111111111, \"#46039f\"], [0.2222222222222222, \"#7201a8\"], [0.3333333333333333, \"#9c179e\"], [0.4444444444444444, \"#bd3786\"], [0.5555555555555556, \"#d8576b\"], [0.6666666666666666, \"#ed7953\"], [0.7777777777777778, \"#fb9f3a\"], [0.8888888888888888, \"#fdca26\"], [1.0, \"#f0f921\"]], \"type\": \"surface\"}], \"table\": [{\"cells\": {\"fill\": {\"color\": \"#EBF0F8\"}, \"line\": {\"color\": \"white\"}}, \"header\": {\"fill\": {\"color\": \"#C8D4E3\"}, \"line\": {\"color\": \"white\"}}, \"type\": \"table\"}]}, \"layout\": {\"annotationdefaults\": {\"arrowcolor\": \"#2a3f5f\", \"arrowhead\": 0, \"arrowwidth\": 1}, \"colorscale\": {\"diverging\": [[0, \"#8e0152\"], [0.1, \"#c51b7d\"], [0.2, \"#de77ae\"], [0.3, \"#f1b6da\"], [0.4, \"#fde0ef\"], [0.5, \"#f7f7f7\"], [0.6, \"#e6f5d0\"], [0.7, \"#b8e186\"], [0.8, \"#7fbc41\"], [0.9, \"#4d9221\"], [1, \"#276419\"]], \"sequential\": [[0.0, \"#0d0887\"], [0.1111111111111111, \"#46039f\"], [0.2222222222222222, \"#7201a8\"], [0.3333333333333333, \"#9c179e\"], [0.4444444444444444, \"#bd3786\"], [0.5555555555555556, \"#d8576b\"], [0.6666666666666666, \"#ed7953\"], [0.7777777777777778, \"#fb9f3a\"], [0.8888888888888888, \"#fdca26\"], [1.0, \"#f0f921\"]], \"sequentialminus\": [[0.0, \"#0d0887\"], [0.1111111111111111, \"#46039f\"], [0.2222222222222222, \"#7201a8\"], [0.3333333333333333, \"#9c179e\"], [0.4444444444444444, \"#bd3786\"], [0.5555555555555556, \"#d8576b\"], [0.6666666666666666, \"#ed7953\"], [0.7777777777777778, \"#fb9f3a\"], [0.8888888888888888, \"#fdca26\"], [1.0, \"#f0f921\"]]}, \"colorway\": [\"#636efa\", \"#EF553B\", \"#00cc96\", \"#ab63fa\", \"#FFA15A\", \"#19d3f3\", \"#FF6692\", \"#B6E880\", \"#FF97FF\", \"#FECB52\"], \"font\": {\"color\": \"#2a3f5f\"}, \"geo\": {\"bgcolor\": \"white\", \"lakecolor\": \"white\", \"landcolor\": \"#E5ECF6\", \"showlakes\": true, \"showland\": true, \"subunitcolor\": \"white\"}, \"hoverlabel\": {\"align\": \"left\"}, \"hovermode\": \"closest\", \"mapbox\": {\"style\": \"light\"}, \"paper_bgcolor\": \"white\", \"plot_bgcolor\": \"#E5ECF6\", \"polar\": {\"angularaxis\": {\"gridcolor\": \"white\", \"linecolor\": \"white\", \"ticks\": \"\"}, \"bgcolor\": \"#E5ECF6\", \"radialaxis\": {\"gridcolor\": \"white\", \"linecolor\": \"white\", \"ticks\": \"\"}}, \"scene\": {\"xaxis\": {\"backgroundcolor\": \"#E5ECF6\", \"gridcolor\": \"white\", \"gridwidth\": 2, \"linecolor\": \"white\", \"showbackground\": true, \"ticks\": \"\", \"zerolinecolor\": \"white\"}, \"yaxis\": {\"backgroundcolor\": \"#E5ECF6\", \"gridcolor\": \"white\", \"gridwidth\": 2, \"linecolor\": \"white\", \"showbackground\": true, \"ticks\": \"\", \"zerolinecolor\": \"white\"}, \"zaxis\": {\"backgroundcolor\": \"#E5ECF6\", \"gridcolor\": \"white\", \"gridwidth\": 2, \"linecolor\": \"white\", \"showbackground\": true, \"ticks\": \"\", \"zerolinecolor\": \"white\"}}, \"shapedefaults\": {\"line\": {\"color\": \"#2a3f5f\"}}, \"ternary\": {\"aaxis\": {\"gridcolor\": \"white\", \"linecolor\": \"white\", \"ticks\": \"\"}, \"baxis\": {\"gridcolor\": \"white\", \"linecolor\": \"white\", \"ticks\": \"\"}, \"bgcolor\": \"#E5ECF6\", \"caxis\": {\"gridcolor\": \"white\", \"linecolor\": \"white\", \"ticks\": \"\"}}, \"title\": {\"x\": 0.05}, \"xaxis\": {\"automargin\": true, \"gridcolor\": \"white\", \"linecolor\": \"white\", \"ticks\": \"\", \"zerolinecolor\": \"white\", \"zerolinewidth\": 2}, \"yaxis\": {\"automargin\": true, \"gridcolor\": \"white\", \"linecolor\": \"white\", \"ticks\": \"\", \"zerolinecolor\": \"white\", \"zerolinewidth\": 2}}}},\n",
       "                        {\"responsive\": true}\n",
       "                    ).then(function(){\n",
       "                            \n",
       "var gd = document.getElementById('9174a5ad-f4af-49d3-b702-d1e7f427bd25');\n",
       "var x = new MutationObserver(function (mutations, observer) {{\n",
       "        var display = window.getComputedStyle(gd).display;\n",
       "        if (!display || display === 'none') {{\n",
       "            console.log([gd, 'removed!']);\n",
       "            Plotly.purge(gd);\n",
       "            observer.disconnect();\n",
       "        }}\n",
       "}});\n",
       "\n",
       "// Listen for the removal of the full notebook cells\n",
       "var notebookContainer = gd.closest('#notebook-container');\n",
       "if (notebookContainer) {{\n",
       "    x.observe(notebookContainer, {childList: true});\n",
       "}}\n",
       "\n",
       "// Listen for the clearing of the current output cell\n",
       "var outputEl = gd.closest('.output');\n",
       "if (outputEl) {{\n",
       "    x.observe(outputEl, {childList: true});\n",
       "}}\n",
       "\n",
       "                        })\n",
       "                };\n",
       "                });\n",
       "            </script>\n",
       "        </div>"
      ]
     },
     "metadata": {},
     "output_type": "display_data"
    }
   ],
   "source": [
    "plot2(black_nodes, anchor_nodes, estimated_nodes, cycles)"
   ]
  },
  {
   "cell_type": "code",
   "execution_count": 208,
   "metadata": {
    "ExecuteTime": {
     "end_time": "2019-12-27T09:35:40.938799Z",
     "start_time": "2019-12-27T09:35:40.749560Z"
    }
   },
   "outputs": [
    {
     "data": {
      "application/vnd.plotly.v1+json": {
       "config": {
        "linkText": "Export to plot.ly",
        "plotlyServerURL": "https://plot.ly",
        "showLink": false
       },
       "data": [
        {
         "marker": {
          "color": "red",
          "size": 5
         },
         "mode": "markers",
         "name": "Correct Location",
         "type": "scatter",
         "x": [
          93.54221925094348,
          32.46525503047148,
          22.49033225066569,
          36.15292095912236,
          65.98361737558925,
          60.6579540629371,
          42.935493588151985,
          45.916775850680736,
          34.069006404218506,
          78.61262211391661,
          28.49321398442125,
          9.210921022760488,
          57.26029280753485,
          15.393176714882618,
          58.724757962559636,
          94.82533998624008,
          52.80042391325503,
          32.288107584758265,
          96.51162492470058,
          90.4223776117667,
          60.50359729167318,
          9.458251034646036,
          53.15061133227148,
          33.410711199936394,
          2.9926407136840583,
          90.63205502822633,
          27.997847119213315,
          74.02378809739639,
          1.4880439124536515,
          56.30838340047821,
          22.50272484808422,
          37.00809662162781,
          59.30685441005503,
          97.39577339375307,
          46.54345963368029,
          72.17112802704962,
          89.36257697592644,
          39.98013629883683,
          77.84121421594702,
          35.30215194298398,
          94.60867987076465,
          48.419360797614175,
          91.68263410076696,
          43.40116717081841,
          24.859338243663252,
          7.510174364895484,
          23.464304985502704,
          88.51786078566363,
          13.476796983087802,
          95.35378360361527,
          59.606395112219225,
          39.267316699025926,
          12.782838268639008,
          75.23355353068776,
          13.645618578630236,
          91.80117567895947,
          54.893528872822074,
          45.88687139758196,
          56.15797590367059,
          4.674944202154519,
          29.759529529886773,
          43.4504148275378,
          47.95424429480683,
          99.13342909762457,
          73.99994482912537,
          22.842077682942673,
          64.40108010403355,
          14.517908459076844,
          11.282826132033074,
          70.37904520439572,
          27.958369584168185,
          73.35219635694853,
          25.751087134320116,
          26.02026462194562,
          96.63013169605344,
          38.13875422041198,
          11.41963495597177,
          3.2853764345661562,
          99.05719214023533,
          83.7864336393738,
          58.487551805129534,
          90.31381765524445,
          19.405575345092686,
          17.920332137961836,
          15.175686773631769,
          35.15860578673671,
          86.07556595731184,
          17.588048361782327,
          20.829480095528496
         ],
         "y": [
          63.17429487819756,
          99.4537014834545,
          25.19291255030176,
          4.7377761683564,
          26.289211373546628,
          0.30574945559650457,
          32.73390465609393,
          74.87885412745881,
          14.46923732857045,
          52.824737529925784,
          72.01190201232556,
          15.15818175933008,
          15.449604553159125,
          83.65524330589113,
          30.560004273866703,
          65.05188625115429,
          21.155498669261984,
          32.408069199322995,
          81.21578935365916,
          38.274430140733884,
          29.54472896189403,
          94.91223803138273,
          25.7105648458403,
          27.305451932418954,
          40.5621854435927,
          29.65424483733542,
          51.718118432014805,
          58.833805367354216,
          76.32619597888565,
          7.339622738829421,
          10.940878829507195,
          82.41502062644311,
          43.81462813772372,
          27.011492162337813,
          76.18935665490085,
          17.96658497935012,
          96.04471460012498,
          6.1962564098920865,
          50.48003388486993,
          47.26833164216243,
          88.69828080212055,
          7.3542867321658605,
          32.8158924772003,
          39.214395520210054,
          17.73195606905813,
          60.399971405281235,
          56.843887815982576,
          52.75302636457061,
          35.61617877122363,
          28.381243535731194,
          29.348279607276282,
          16.15315439989563,
          9.06834613640367,
          17.827744106314647,
          6.899840464352813,
          17.419380574121735,
          67.58103998752651,
          90.85260199654181,
          57.998005441951314,
          96.80774255797971,
          52.623885383182134,
          55.111681211938524,
          25.984308171574554,
          97.59011266735496,
          99.48640738972551,
          8.915998115990654,
          57.305377636464016,
          26.030229920752333,
          30.75404363199712,
          32.893741014138655,
          73.59001559990747,
          93.60055900967383,
          92.63137712503435,
          59.82077829414171,
          18.370629134457005,
          45.890939677697126,
          36.55168682054472,
          98.60823148080867,
          73.00480974582962,
          46.258903448157525,
          15.304230392491347,
          38.335827267696345,
          64.8739835674054,
          45.40658875808734,
          98.44314122708643,
          93.21016712252525,
          73.82861539854542,
          52.01548238174328,
          49.32757682911514
         ]
        },
        {
         "marker": {
          "color": "blue",
          "size": 5
         },
         "mode": "markers",
         "name": "Estimated Node",
         "type": "scatter",
         "x": [
          94.8849998267786,
          32.523666026380575,
          19.38448377971038,
          36.3262677307971,
          67.68898593060271,
          62.526375591401916,
          45.09049611025019,
          44.50044818861871,
          34.18095195634192,
          77.78083009986118,
          54.73685216407734,
          9.84761100188456,
          57.16897027904894,
          13.45860225918277,
          59.220339119907635,
          96.4355520442906,
          50.49351722816545,
          33.93314478254509,
          94.02382338500946,
          89.3574122457474,
          59.44564820079247,
          11.340613467498889,
          53.328611592151354,
          33.54410941083716,
          1.7551320531472132,
          90.08588336274413,
          28.209847140970606,
          72.75212842705356,
          4.164271854650923,
          58.574827282818255,
          22.47185784206548,
          36.73748154974488,
          57.75147249496589,
          98.32725167074705,
          45.957029484242206,
          57.255905418133814,
          92.04661743752293,
          39.34441220106124,
          77.67817250392254,
          35.69322968161949,
          96.75728486978862,
          48.80353146027875,
          93.2891095690123,
          45.49079709422326,
          25.844782274123173,
          5.962312533426743,
          23.437232005161064,
          89.81151083672007,
          13.240054495341655,
          96.06536164873235,
          60.17729105470587,
          38.66163855655957,
          11.984682123899539,
          74.15137628035973,
          14.5969559315836,
          90.97848344612565,
          55.785699539150066,
          45.59550709855887,
          57.15672521499775,
          6.646072505689344,
          30.164322427336824,
          42.44558237335607,
          48.63651793164744,
          100.07638209145615,
          72.29584409789409,
          20.79988468566327,
          64.37263069086882,
          15.509058519000682,
          12.70395994122157,
          70.81212642241994,
          26.64933636313316,
          71.55293975161021,
          45.0838171525806,
          26.421622882525895,
          97.26616302123682,
          35.69458967762939,
          13.318818427614865,
          1.8033454591826181,
          95.67229264271121,
          83.6728649569092,
          56.39458925836494,
          90.19356292470788,
          19.040216557919184,
          18.320618505402912,
          16.334080863539967,
          35.48119056188083,
          85.75441769301001,
          18.114548781606878,
          20.551942704362546
         ],
         "y": [
          64.08443483219357,
          100.63388242947003,
          25.42776659976863,
          5.836386085386326,
          24.690591501432753,
          0.12204878887188819,
          33.94133151672144,
          75.91743040627144,
          17.098681300570448,
          52.0669084911334,
          57.80233188887197,
          17.194191098756175,
          13.464036704507492,
          83.87070402561316,
          27.386186564374125,
          64.53646661296546,
          19.403419162349635,
          29.777891043164487,
          79.78052806842001,
          39.88661354995447,
          28.44230069476537,
          94.32066052653691,
          25.796339993350703,
          27.951337572857735,
          40.78613792591471,
          29.273972576029532,
          49.80865443824703,
          58.57923779944019,
          76.0015989377922,
          6.359804179694504,
          13.982442656155088,
          84.21423443028122,
          42.33757775257526,
          27.48784614993576,
          76.73916738557281,
          29.41785868171492,
          98.30536908854651,
          3.9100902377258677,
          50.95928356064574,
          45.93049878957472,
          90.13297517983024,
          7.157189171363275,
          35.132365525957205,
          49.16389688436237,
          18.01742127705306,
          60.818169680572645,
          56.3091938843327,
          54.20600994895211,
          33.39215538353739,
          30.30750963982075,
          30.695128654909215,
          15.741211640684767,
          7.883398819457379,
          15.452883572235805,
          8.833214821761242,
          19.141469831788587,
          66.7714555867163,
          89.33905875991202,
          58.018116821552404,
          99.55608903733686,
          51.45758939163778,
          55.32596825674445,
          28.26747638172095,
          98.52503027178805,
          100.1739185306962,
          10.831618663046102,
          62.357381584563235,
          27.3020153560938,
          31.070395661442248,
          35.15551823185763,
          72.94594524481957,
          95.26243291335999,
          71.7970135429031,
          58.79090542277385,
          17.295580458573887,
          44.41139264742272,
          37.89094458034015,
          98.23075137382496,
          73.24535000193423,
          47.37948061250458,
          14.757820269493601,
          38.3493087340757,
          65.80499583650182,
          44.642461889650576,
          97.61873318727739,
          94.59078838409346,
          75.46638130825573,
          52.59633873151942,
          49.61526142968423
         ]
        }
       ],
       "layout": {
        "template": {
         "data": {
          "bar": [
           {
            "error_x": {
             "color": "#2a3f5f"
            },
            "error_y": {
             "color": "#2a3f5f"
            },
            "marker": {
             "line": {
              "color": "#E5ECF6",
              "width": 0.5
             }
            },
            "type": "bar"
           }
          ],
          "barpolar": [
           {
            "marker": {
             "line": {
              "color": "#E5ECF6",
              "width": 0.5
             }
            },
            "type": "barpolar"
           }
          ],
          "carpet": [
           {
            "aaxis": {
             "endlinecolor": "#2a3f5f",
             "gridcolor": "white",
             "linecolor": "white",
             "minorgridcolor": "white",
             "startlinecolor": "#2a3f5f"
            },
            "baxis": {
             "endlinecolor": "#2a3f5f",
             "gridcolor": "white",
             "linecolor": "white",
             "minorgridcolor": "white",
             "startlinecolor": "#2a3f5f"
            },
            "type": "carpet"
           }
          ],
          "choropleth": [
           {
            "colorbar": {
             "outlinewidth": 0,
             "ticks": ""
            },
            "type": "choropleth"
           }
          ],
          "contour": [
           {
            "colorbar": {
             "outlinewidth": 0,
             "ticks": ""
            },
            "colorscale": [
             [
              0,
              "#0d0887"
             ],
             [
              0.1111111111111111,
              "#46039f"
             ],
             [
              0.2222222222222222,
              "#7201a8"
             ],
             [
              0.3333333333333333,
              "#9c179e"
             ],
             [
              0.4444444444444444,
              "#bd3786"
             ],
             [
              0.5555555555555556,
              "#d8576b"
             ],
             [
              0.6666666666666666,
              "#ed7953"
             ],
             [
              0.7777777777777778,
              "#fb9f3a"
             ],
             [
              0.8888888888888888,
              "#fdca26"
             ],
             [
              1,
              "#f0f921"
             ]
            ],
            "type": "contour"
           }
          ],
          "contourcarpet": [
           {
            "colorbar": {
             "outlinewidth": 0,
             "ticks": ""
            },
            "type": "contourcarpet"
           }
          ],
          "heatmap": [
           {
            "colorbar": {
             "outlinewidth": 0,
             "ticks": ""
            },
            "colorscale": [
             [
              0,
              "#0d0887"
             ],
             [
              0.1111111111111111,
              "#46039f"
             ],
             [
              0.2222222222222222,
              "#7201a8"
             ],
             [
              0.3333333333333333,
              "#9c179e"
             ],
             [
              0.4444444444444444,
              "#bd3786"
             ],
             [
              0.5555555555555556,
              "#d8576b"
             ],
             [
              0.6666666666666666,
              "#ed7953"
             ],
             [
              0.7777777777777778,
              "#fb9f3a"
             ],
             [
              0.8888888888888888,
              "#fdca26"
             ],
             [
              1,
              "#f0f921"
             ]
            ],
            "type": "heatmap"
           }
          ],
          "heatmapgl": [
           {
            "colorbar": {
             "outlinewidth": 0,
             "ticks": ""
            },
            "colorscale": [
             [
              0,
              "#0d0887"
             ],
             [
              0.1111111111111111,
              "#46039f"
             ],
             [
              0.2222222222222222,
              "#7201a8"
             ],
             [
              0.3333333333333333,
              "#9c179e"
             ],
             [
              0.4444444444444444,
              "#bd3786"
             ],
             [
              0.5555555555555556,
              "#d8576b"
             ],
             [
              0.6666666666666666,
              "#ed7953"
             ],
             [
              0.7777777777777778,
              "#fb9f3a"
             ],
             [
              0.8888888888888888,
              "#fdca26"
             ],
             [
              1,
              "#f0f921"
             ]
            ],
            "type": "heatmapgl"
           }
          ],
          "histogram": [
           {
            "marker": {
             "colorbar": {
              "outlinewidth": 0,
              "ticks": ""
             }
            },
            "type": "histogram"
           }
          ],
          "histogram2d": [
           {
            "colorbar": {
             "outlinewidth": 0,
             "ticks": ""
            },
            "colorscale": [
             [
              0,
              "#0d0887"
             ],
             [
              0.1111111111111111,
              "#46039f"
             ],
             [
              0.2222222222222222,
              "#7201a8"
             ],
             [
              0.3333333333333333,
              "#9c179e"
             ],
             [
              0.4444444444444444,
              "#bd3786"
             ],
             [
              0.5555555555555556,
              "#d8576b"
             ],
             [
              0.6666666666666666,
              "#ed7953"
             ],
             [
              0.7777777777777778,
              "#fb9f3a"
             ],
             [
              0.8888888888888888,
              "#fdca26"
             ],
             [
              1,
              "#f0f921"
             ]
            ],
            "type": "histogram2d"
           }
          ],
          "histogram2dcontour": [
           {
            "colorbar": {
             "outlinewidth": 0,
             "ticks": ""
            },
            "colorscale": [
             [
              0,
              "#0d0887"
             ],
             [
              0.1111111111111111,
              "#46039f"
             ],
             [
              0.2222222222222222,
              "#7201a8"
             ],
             [
              0.3333333333333333,
              "#9c179e"
             ],
             [
              0.4444444444444444,
              "#bd3786"
             ],
             [
              0.5555555555555556,
              "#d8576b"
             ],
             [
              0.6666666666666666,
              "#ed7953"
             ],
             [
              0.7777777777777778,
              "#fb9f3a"
             ],
             [
              0.8888888888888888,
              "#fdca26"
             ],
             [
              1,
              "#f0f921"
             ]
            ],
            "type": "histogram2dcontour"
           }
          ],
          "mesh3d": [
           {
            "colorbar": {
             "outlinewidth": 0,
             "ticks": ""
            },
            "type": "mesh3d"
           }
          ],
          "parcoords": [
           {
            "line": {
             "colorbar": {
              "outlinewidth": 0,
              "ticks": ""
             }
            },
            "type": "parcoords"
           }
          ],
          "scatter": [
           {
            "marker": {
             "colorbar": {
              "outlinewidth": 0,
              "ticks": ""
             }
            },
            "type": "scatter"
           }
          ],
          "scatter3d": [
           {
            "line": {
             "colorbar": {
              "outlinewidth": 0,
              "ticks": ""
             }
            },
            "marker": {
             "colorbar": {
              "outlinewidth": 0,
              "ticks": ""
             }
            },
            "type": "scatter3d"
           }
          ],
          "scattercarpet": [
           {
            "marker": {
             "colorbar": {
              "outlinewidth": 0,
              "ticks": ""
             }
            },
            "type": "scattercarpet"
           }
          ],
          "scattergeo": [
           {
            "marker": {
             "colorbar": {
              "outlinewidth": 0,
              "ticks": ""
             }
            },
            "type": "scattergeo"
           }
          ],
          "scattergl": [
           {
            "marker": {
             "colorbar": {
              "outlinewidth": 0,
              "ticks": ""
             }
            },
            "type": "scattergl"
           }
          ],
          "scattermapbox": [
           {
            "marker": {
             "colorbar": {
              "outlinewidth": 0,
              "ticks": ""
             }
            },
            "type": "scattermapbox"
           }
          ],
          "scatterpolar": [
           {
            "marker": {
             "colorbar": {
              "outlinewidth": 0,
              "ticks": ""
             }
            },
            "type": "scatterpolar"
           }
          ],
          "scatterpolargl": [
           {
            "marker": {
             "colorbar": {
              "outlinewidth": 0,
              "ticks": ""
             }
            },
            "type": "scatterpolargl"
           }
          ],
          "scatterternary": [
           {
            "marker": {
             "colorbar": {
              "outlinewidth": 0,
              "ticks": ""
             }
            },
            "type": "scatterternary"
           }
          ],
          "surface": [
           {
            "colorbar": {
             "outlinewidth": 0,
             "ticks": ""
            },
            "colorscale": [
             [
              0,
              "#0d0887"
             ],
             [
              0.1111111111111111,
              "#46039f"
             ],
             [
              0.2222222222222222,
              "#7201a8"
             ],
             [
              0.3333333333333333,
              "#9c179e"
             ],
             [
              0.4444444444444444,
              "#bd3786"
             ],
             [
              0.5555555555555556,
              "#d8576b"
             ],
             [
              0.6666666666666666,
              "#ed7953"
             ],
             [
              0.7777777777777778,
              "#fb9f3a"
             ],
             [
              0.8888888888888888,
              "#fdca26"
             ],
             [
              1,
              "#f0f921"
             ]
            ],
            "type": "surface"
           }
          ],
          "table": [
           {
            "cells": {
             "fill": {
              "color": "#EBF0F8"
             },
             "line": {
              "color": "white"
             }
            },
            "header": {
             "fill": {
              "color": "#C8D4E3"
             },
             "line": {
              "color": "white"
             }
            },
            "type": "table"
           }
          ]
         },
         "layout": {
          "annotationdefaults": {
           "arrowcolor": "#2a3f5f",
           "arrowhead": 0,
           "arrowwidth": 1
          },
          "colorscale": {
           "diverging": [
            [
             0,
             "#8e0152"
            ],
            [
             0.1,
             "#c51b7d"
            ],
            [
             0.2,
             "#de77ae"
            ],
            [
             0.3,
             "#f1b6da"
            ],
            [
             0.4,
             "#fde0ef"
            ],
            [
             0.5,
             "#f7f7f7"
            ],
            [
             0.6,
             "#e6f5d0"
            ],
            [
             0.7,
             "#b8e186"
            ],
            [
             0.8,
             "#7fbc41"
            ],
            [
             0.9,
             "#4d9221"
            ],
            [
             1,
             "#276419"
            ]
           ],
           "sequential": [
            [
             0,
             "#0d0887"
            ],
            [
             0.1111111111111111,
             "#46039f"
            ],
            [
             0.2222222222222222,
             "#7201a8"
            ],
            [
             0.3333333333333333,
             "#9c179e"
            ],
            [
             0.4444444444444444,
             "#bd3786"
            ],
            [
             0.5555555555555556,
             "#d8576b"
            ],
            [
             0.6666666666666666,
             "#ed7953"
            ],
            [
             0.7777777777777778,
             "#fb9f3a"
            ],
            [
             0.8888888888888888,
             "#fdca26"
            ],
            [
             1,
             "#f0f921"
            ]
           ],
           "sequentialminus": [
            [
             0,
             "#0d0887"
            ],
            [
             0.1111111111111111,
             "#46039f"
            ],
            [
             0.2222222222222222,
             "#7201a8"
            ],
            [
             0.3333333333333333,
             "#9c179e"
            ],
            [
             0.4444444444444444,
             "#bd3786"
            ],
            [
             0.5555555555555556,
             "#d8576b"
            ],
            [
             0.6666666666666666,
             "#ed7953"
            ],
            [
             0.7777777777777778,
             "#fb9f3a"
            ],
            [
             0.8888888888888888,
             "#fdca26"
            ],
            [
             1,
             "#f0f921"
            ]
           ]
          },
          "colorway": [
           "#636efa",
           "#EF553B",
           "#00cc96",
           "#ab63fa",
           "#FFA15A",
           "#19d3f3",
           "#FF6692",
           "#B6E880",
           "#FF97FF",
           "#FECB52"
          ],
          "font": {
           "color": "#2a3f5f"
          },
          "geo": {
           "bgcolor": "white",
           "lakecolor": "white",
           "landcolor": "#E5ECF6",
           "showlakes": true,
           "showland": true,
           "subunitcolor": "white"
          },
          "hoverlabel": {
           "align": "left"
          },
          "hovermode": "closest",
          "mapbox": {
           "style": "light"
          },
          "paper_bgcolor": "white",
          "plot_bgcolor": "#E5ECF6",
          "polar": {
           "angularaxis": {
            "gridcolor": "white",
            "linecolor": "white",
            "ticks": ""
           },
           "bgcolor": "#E5ECF6",
           "radialaxis": {
            "gridcolor": "white",
            "linecolor": "white",
            "ticks": ""
           }
          },
          "scene": {
           "xaxis": {
            "backgroundcolor": "#E5ECF6",
            "gridcolor": "white",
            "gridwidth": 2,
            "linecolor": "white",
            "showbackground": true,
            "ticks": "",
            "zerolinecolor": "white"
           },
           "yaxis": {
            "backgroundcolor": "#E5ECF6",
            "gridcolor": "white",
            "gridwidth": 2,
            "linecolor": "white",
            "showbackground": true,
            "ticks": "",
            "zerolinecolor": "white"
           },
           "zaxis": {
            "backgroundcolor": "#E5ECF6",
            "gridcolor": "white",
            "gridwidth": 2,
            "linecolor": "white",
            "showbackground": true,
            "ticks": "",
            "zerolinecolor": "white"
           }
          },
          "shapedefaults": {
           "line": {
            "color": "#2a3f5f"
           }
          },
          "ternary": {
           "aaxis": {
            "gridcolor": "white",
            "linecolor": "white",
            "ticks": ""
           },
           "baxis": {
            "gridcolor": "white",
            "linecolor": "white",
            "ticks": ""
           },
           "bgcolor": "#E5ECF6",
           "caxis": {
            "gridcolor": "white",
            "linecolor": "white",
            "ticks": ""
           }
          },
          "title": {
           "x": 0.05
          },
          "xaxis": {
           "automargin": true,
           "gridcolor": "white",
           "linecolor": "white",
           "ticks": "",
           "zerolinecolor": "white",
           "zerolinewidth": 2
          },
          "yaxis": {
           "automargin": true,
           "gridcolor": "white",
           "linecolor": "white",
           "ticks": "",
           "zerolinecolor": "white",
           "zerolinewidth": 2
          }
         }
        }
       }
      },
      "text/html": [
       "<div>\n",
       "        \n",
       "        \n",
       "            <div id=\"72946790-74a8-4f88-a061-d3e83f840279\" class=\"plotly-graph-div\" style=\"height:525px; width:100%;\"></div>\n",
       "            <script type=\"text/javascript\">\n",
       "                require([\"plotly\"], function(Plotly) {\n",
       "                    window.PLOTLYENV=window.PLOTLYENV || {};\n",
       "                    \n",
       "                if (document.getElementById(\"72946790-74a8-4f88-a061-d3e83f840279\")) {\n",
       "                    Plotly.newPlot(\n",
       "                        '72946790-74a8-4f88-a061-d3e83f840279',\n",
       "                        [{\"marker\": {\"color\": \"red\", \"size\": 5}, \"mode\": \"markers\", \"name\": \"Correct Location\", \"type\": \"scatter\", \"x\": [93.54221925094348, 32.46525503047148, 22.49033225066569, 36.15292095912236, 65.98361737558925, 60.6579540629371, 42.935493588151985, 45.916775850680736, 34.069006404218506, 78.61262211391661, 28.49321398442125, 9.210921022760488, 57.26029280753485, 15.393176714882618, 58.724757962559636, 94.82533998624008, 52.80042391325503, 32.288107584758265, 96.51162492470058, 90.4223776117667, 60.50359729167318, 9.458251034646036, 53.15061133227148, 33.410711199936394, 2.9926407136840583, 90.63205502822633, 27.997847119213315, 74.02378809739639, 1.4880439124536515, 56.30838340047821, 22.50272484808422, 37.00809662162781, 59.30685441005503, 97.39577339375307, 46.54345963368029, 72.17112802704962, 89.36257697592644, 39.98013629883683, 77.84121421594702, 35.30215194298398, 94.60867987076465, 48.419360797614175, 91.68263410076696, 43.40116717081841, 24.859338243663252, 7.510174364895484, 23.464304985502704, 88.51786078566363, 13.476796983087802, 95.35378360361527, 59.606395112219225, 39.267316699025926, 12.782838268639008, 75.23355353068776, 13.645618578630236, 91.80117567895947, 54.893528872822074, 45.88687139758196, 56.15797590367059, 4.674944202154519, 29.759529529886773, 43.4504148275378, 47.95424429480683, 99.13342909762457, 73.99994482912537, 22.842077682942673, 64.40108010403355, 14.517908459076844, 11.282826132033074, 70.37904520439572, 27.958369584168185, 73.35219635694853, 25.751087134320116, 26.02026462194562, 96.63013169605344, 38.13875422041198, 11.41963495597177, 3.2853764345661562, 99.05719214023533, 83.7864336393738, 58.487551805129534, 90.31381765524445, 19.405575345092686, 17.920332137961836, 15.175686773631769, 35.15860578673671, 86.07556595731184, 17.588048361782327, 20.829480095528496], \"y\": [63.17429487819756, 99.4537014834545, 25.19291255030176, 4.7377761683564, 26.289211373546628, 0.30574945559650457, 32.73390465609393, 74.87885412745881, 14.46923732857045, 52.824737529925784, 72.01190201232556, 15.15818175933008, 15.449604553159125, 83.65524330589113, 30.560004273866703, 65.05188625115429, 21.155498669261984, 32.408069199322995, 81.21578935365916, 38.274430140733884, 29.54472896189403, 94.91223803138273, 25.7105648458403, 27.305451932418954, 40.5621854435927, 29.65424483733542, 51.718118432014805, 58.833805367354216, 76.32619597888565, 7.339622738829421, 10.940878829507195, 82.41502062644311, 43.81462813772372, 27.011492162337813, 76.18935665490085, 17.96658497935012, 96.04471460012498, 6.1962564098920865, 50.48003388486993, 47.26833164216243, 88.69828080212055, 7.3542867321658605, 32.8158924772003, 39.214395520210054, 17.73195606905813, 60.399971405281235, 56.843887815982576, 52.75302636457061, 35.61617877122363, 28.381243535731194, 29.348279607276282, 16.15315439989563, 9.06834613640367, 17.827744106314647, 6.899840464352813, 17.419380574121735, 67.58103998752651, 90.85260199654181, 57.998005441951314, 96.80774255797971, 52.623885383182134, 55.111681211938524, 25.984308171574554, 97.59011266735496, 99.48640738972551, 8.915998115990654, 57.305377636464016, 26.030229920752333, 30.75404363199712, 32.893741014138655, 73.59001559990747, 93.60055900967383, 92.63137712503435, 59.82077829414171, 18.370629134457005, 45.890939677697126, 36.55168682054472, 98.60823148080867, 73.00480974582962, 46.258903448157525, 15.304230392491347, 38.335827267696345, 64.8739835674054, 45.40658875808734, 98.44314122708643, 93.21016712252525, 73.82861539854542, 52.01548238174328, 49.32757682911514]}, {\"marker\": {\"color\": \"blue\", \"size\": 5}, \"mode\": \"markers\", \"name\": \"Estimated Node\", \"type\": \"scatter\", \"x\": [94.8849998267786, 32.523666026380575, 19.38448377971038, 36.3262677307971, 67.68898593060271, 62.526375591401916, 45.09049611025019, 44.50044818861871, 34.18095195634192, 77.78083009986118, 54.73685216407734, 9.84761100188456, 57.16897027904894, 13.45860225918277, 59.220339119907635, 96.4355520442906, 50.49351722816545, 33.93314478254509, 94.02382338500946, 89.3574122457474, 59.44564820079247, 11.340613467498889, 53.328611592151354, 33.54410941083716, 1.7551320531472132, 90.08588336274413, 28.209847140970606, 72.75212842705356, 4.164271854650923, 58.574827282818255, 22.47185784206548, 36.73748154974488, 57.75147249496589, 98.32725167074705, 45.957029484242206, 57.255905418133814, 92.04661743752293, 39.34441220106124, 77.67817250392254, 35.69322968161949, 96.75728486978862, 48.80353146027875, 93.2891095690123, 45.49079709422326, 25.844782274123173, 5.962312533426743, 23.437232005161064, 89.81151083672007, 13.240054495341655, 96.06536164873235, 60.17729105470587, 38.66163855655957, 11.984682123899539, 74.15137628035973, 14.5969559315836, 90.97848344612565, 55.785699539150066, 45.59550709855887, 57.15672521499775, 6.646072505689344, 30.164322427336824, 42.44558237335607, 48.63651793164744, 100.07638209145615, 72.29584409789409, 20.79988468566327, 64.37263069086882, 15.509058519000682, 12.70395994122157, 70.81212642241994, 26.64933636313316, 71.55293975161021, 45.0838171525806, 26.421622882525895, 97.26616302123682, 35.69458967762939, 13.318818427614865, 1.8033454591826181, 95.67229264271121, 83.6728649569092, 56.39458925836494, 90.19356292470788, 19.040216557919184, 18.320618505402912, 16.334080863539967, 35.48119056188083, 85.75441769301001, 18.114548781606878, 20.551942704362546], \"y\": [64.08443483219357, 100.63388242947003, 25.42776659976863, 5.836386085386326, 24.690591501432753, 0.12204878887188819, 33.94133151672144, 75.91743040627144, 17.098681300570448, 52.0669084911334, 57.80233188887197, 17.194191098756175, 13.464036704507492, 83.87070402561316, 27.386186564374125, 64.53646661296546, 19.403419162349635, 29.777891043164487, 79.78052806842001, 39.88661354995447, 28.44230069476537, 94.32066052653691, 25.796339993350703, 27.951337572857735, 40.78613792591471, 29.273972576029532, 49.80865443824703, 58.57923779944019, 76.0015989377922, 6.359804179694504, 13.982442656155088, 84.21423443028122, 42.33757775257526, 27.48784614993576, 76.73916738557281, 29.41785868171492, 98.30536908854651, 3.9100902377258677, 50.95928356064574, 45.93049878957472, 90.13297517983024, 7.157189171363275, 35.132365525957205, 49.16389688436237, 18.01742127705306, 60.818169680572645, 56.3091938843327, 54.20600994895211, 33.39215538353739, 30.30750963982075, 30.695128654909215, 15.741211640684767, 7.883398819457379, 15.452883572235805, 8.833214821761242, 19.141469831788587, 66.7714555867163, 89.33905875991202, 58.018116821552404, 99.55608903733686, 51.45758939163778, 55.32596825674445, 28.26747638172095, 98.52503027178805, 100.1739185306962, 10.831618663046102, 62.357381584563235, 27.3020153560938, 31.070395661442248, 35.15551823185763, 72.94594524481957, 95.26243291335999, 71.7970135429031, 58.79090542277385, 17.295580458573887, 44.41139264742272, 37.89094458034015, 98.23075137382496, 73.24535000193423, 47.37948061250458, 14.757820269493601, 38.3493087340757, 65.80499583650182, 44.642461889650576, 97.61873318727739, 94.59078838409346, 75.46638130825573, 52.59633873151942, 49.61526142968423]}],\n",
       "                        {\"template\": {\"data\": {\"bar\": [{\"error_x\": {\"color\": \"#2a3f5f\"}, \"error_y\": {\"color\": \"#2a3f5f\"}, \"marker\": {\"line\": {\"color\": \"#E5ECF6\", \"width\": 0.5}}, \"type\": \"bar\"}], \"barpolar\": [{\"marker\": {\"line\": {\"color\": \"#E5ECF6\", \"width\": 0.5}}, \"type\": \"barpolar\"}], \"carpet\": [{\"aaxis\": {\"endlinecolor\": \"#2a3f5f\", \"gridcolor\": \"white\", \"linecolor\": \"white\", \"minorgridcolor\": \"white\", \"startlinecolor\": \"#2a3f5f\"}, \"baxis\": {\"endlinecolor\": \"#2a3f5f\", \"gridcolor\": \"white\", \"linecolor\": \"white\", \"minorgridcolor\": \"white\", \"startlinecolor\": \"#2a3f5f\"}, \"type\": \"carpet\"}], \"choropleth\": [{\"colorbar\": {\"outlinewidth\": 0, \"ticks\": \"\"}, \"type\": \"choropleth\"}], \"contour\": [{\"colorbar\": {\"outlinewidth\": 0, \"ticks\": \"\"}, \"colorscale\": [[0.0, \"#0d0887\"], [0.1111111111111111, \"#46039f\"], [0.2222222222222222, \"#7201a8\"], [0.3333333333333333, \"#9c179e\"], [0.4444444444444444, \"#bd3786\"], [0.5555555555555556, \"#d8576b\"], [0.6666666666666666, \"#ed7953\"], [0.7777777777777778, \"#fb9f3a\"], [0.8888888888888888, \"#fdca26\"], [1.0, \"#f0f921\"]], \"type\": \"contour\"}], \"contourcarpet\": [{\"colorbar\": {\"outlinewidth\": 0, \"ticks\": \"\"}, \"type\": \"contourcarpet\"}], \"heatmap\": [{\"colorbar\": {\"outlinewidth\": 0, \"ticks\": \"\"}, \"colorscale\": [[0.0, \"#0d0887\"], [0.1111111111111111, \"#46039f\"], [0.2222222222222222, \"#7201a8\"], [0.3333333333333333, \"#9c179e\"], [0.4444444444444444, \"#bd3786\"], [0.5555555555555556, \"#d8576b\"], [0.6666666666666666, \"#ed7953\"], [0.7777777777777778, \"#fb9f3a\"], [0.8888888888888888, \"#fdca26\"], [1.0, \"#f0f921\"]], \"type\": \"heatmap\"}], \"heatmapgl\": [{\"colorbar\": {\"outlinewidth\": 0, \"ticks\": \"\"}, \"colorscale\": [[0.0, \"#0d0887\"], [0.1111111111111111, \"#46039f\"], [0.2222222222222222, \"#7201a8\"], [0.3333333333333333, \"#9c179e\"], [0.4444444444444444, \"#bd3786\"], [0.5555555555555556, \"#d8576b\"], [0.6666666666666666, \"#ed7953\"], [0.7777777777777778, \"#fb9f3a\"], [0.8888888888888888, \"#fdca26\"], [1.0, \"#f0f921\"]], \"type\": \"heatmapgl\"}], \"histogram\": [{\"marker\": {\"colorbar\": {\"outlinewidth\": 0, \"ticks\": \"\"}}, \"type\": \"histogram\"}], \"histogram2d\": [{\"colorbar\": {\"outlinewidth\": 0, \"ticks\": \"\"}, \"colorscale\": [[0.0, \"#0d0887\"], [0.1111111111111111, \"#46039f\"], [0.2222222222222222, \"#7201a8\"], [0.3333333333333333, \"#9c179e\"], [0.4444444444444444, \"#bd3786\"], [0.5555555555555556, \"#d8576b\"], [0.6666666666666666, \"#ed7953\"], [0.7777777777777778, \"#fb9f3a\"], [0.8888888888888888, \"#fdca26\"], [1.0, \"#f0f921\"]], \"type\": \"histogram2d\"}], \"histogram2dcontour\": [{\"colorbar\": {\"outlinewidth\": 0, \"ticks\": \"\"}, \"colorscale\": [[0.0, \"#0d0887\"], [0.1111111111111111, \"#46039f\"], [0.2222222222222222, \"#7201a8\"], [0.3333333333333333, \"#9c179e\"], [0.4444444444444444, \"#bd3786\"], [0.5555555555555556, \"#d8576b\"], [0.6666666666666666, \"#ed7953\"], [0.7777777777777778, \"#fb9f3a\"], [0.8888888888888888, \"#fdca26\"], [1.0, \"#f0f921\"]], \"type\": \"histogram2dcontour\"}], \"mesh3d\": [{\"colorbar\": {\"outlinewidth\": 0, \"ticks\": \"\"}, \"type\": \"mesh3d\"}], \"parcoords\": [{\"line\": {\"colorbar\": {\"outlinewidth\": 0, \"ticks\": \"\"}}, \"type\": \"parcoords\"}], \"scatter\": [{\"marker\": {\"colorbar\": {\"outlinewidth\": 0, \"ticks\": \"\"}}, \"type\": \"scatter\"}], \"scatter3d\": [{\"line\": {\"colorbar\": {\"outlinewidth\": 0, \"ticks\": \"\"}}, \"marker\": {\"colorbar\": {\"outlinewidth\": 0, \"ticks\": \"\"}}, \"type\": \"scatter3d\"}], \"scattercarpet\": [{\"marker\": {\"colorbar\": {\"outlinewidth\": 0, \"ticks\": \"\"}}, \"type\": \"scattercarpet\"}], \"scattergeo\": [{\"marker\": {\"colorbar\": {\"outlinewidth\": 0, \"ticks\": \"\"}}, \"type\": \"scattergeo\"}], \"scattergl\": [{\"marker\": {\"colorbar\": {\"outlinewidth\": 0, \"ticks\": \"\"}}, \"type\": \"scattergl\"}], \"scattermapbox\": [{\"marker\": {\"colorbar\": {\"outlinewidth\": 0, \"ticks\": \"\"}}, \"type\": \"scattermapbox\"}], \"scatterpolar\": [{\"marker\": {\"colorbar\": {\"outlinewidth\": 0, \"ticks\": \"\"}}, \"type\": \"scatterpolar\"}], \"scatterpolargl\": [{\"marker\": {\"colorbar\": {\"outlinewidth\": 0, \"ticks\": \"\"}}, \"type\": \"scatterpolargl\"}], \"scatterternary\": [{\"marker\": {\"colorbar\": {\"outlinewidth\": 0, \"ticks\": \"\"}}, \"type\": \"scatterternary\"}], \"surface\": [{\"colorbar\": {\"outlinewidth\": 0, \"ticks\": \"\"}, \"colorscale\": [[0.0, \"#0d0887\"], [0.1111111111111111, \"#46039f\"], [0.2222222222222222, \"#7201a8\"], [0.3333333333333333, \"#9c179e\"], [0.4444444444444444, \"#bd3786\"], [0.5555555555555556, \"#d8576b\"], [0.6666666666666666, \"#ed7953\"], [0.7777777777777778, \"#fb9f3a\"], [0.8888888888888888, \"#fdca26\"], [1.0, \"#f0f921\"]], \"type\": \"surface\"}], \"table\": [{\"cells\": {\"fill\": {\"color\": \"#EBF0F8\"}, \"line\": {\"color\": \"white\"}}, \"header\": {\"fill\": {\"color\": \"#C8D4E3\"}, \"line\": {\"color\": \"white\"}}, \"type\": \"table\"}]}, \"layout\": {\"annotationdefaults\": {\"arrowcolor\": \"#2a3f5f\", \"arrowhead\": 0, \"arrowwidth\": 1}, \"colorscale\": {\"diverging\": [[0, \"#8e0152\"], [0.1, \"#c51b7d\"], [0.2, \"#de77ae\"], [0.3, \"#f1b6da\"], [0.4, \"#fde0ef\"], [0.5, \"#f7f7f7\"], [0.6, \"#e6f5d0\"], [0.7, \"#b8e186\"], [0.8, \"#7fbc41\"], [0.9, \"#4d9221\"], [1, \"#276419\"]], \"sequential\": [[0.0, \"#0d0887\"], [0.1111111111111111, \"#46039f\"], [0.2222222222222222, \"#7201a8\"], [0.3333333333333333, \"#9c179e\"], [0.4444444444444444, \"#bd3786\"], [0.5555555555555556, \"#d8576b\"], [0.6666666666666666, \"#ed7953\"], [0.7777777777777778, \"#fb9f3a\"], [0.8888888888888888, \"#fdca26\"], [1.0, \"#f0f921\"]], \"sequentialminus\": [[0.0, \"#0d0887\"], [0.1111111111111111, \"#46039f\"], [0.2222222222222222, \"#7201a8\"], [0.3333333333333333, \"#9c179e\"], [0.4444444444444444, \"#bd3786\"], [0.5555555555555556, \"#d8576b\"], [0.6666666666666666, \"#ed7953\"], [0.7777777777777778, \"#fb9f3a\"], [0.8888888888888888, \"#fdca26\"], [1.0, \"#f0f921\"]]}, \"colorway\": [\"#636efa\", \"#EF553B\", \"#00cc96\", \"#ab63fa\", \"#FFA15A\", \"#19d3f3\", \"#FF6692\", \"#B6E880\", \"#FF97FF\", \"#FECB52\"], \"font\": {\"color\": \"#2a3f5f\"}, \"geo\": {\"bgcolor\": \"white\", \"lakecolor\": \"white\", \"landcolor\": \"#E5ECF6\", \"showlakes\": true, \"showland\": true, \"subunitcolor\": \"white\"}, \"hoverlabel\": {\"align\": \"left\"}, \"hovermode\": \"closest\", \"mapbox\": {\"style\": \"light\"}, \"paper_bgcolor\": \"white\", \"plot_bgcolor\": \"#E5ECF6\", \"polar\": {\"angularaxis\": {\"gridcolor\": \"white\", \"linecolor\": \"white\", \"ticks\": \"\"}, \"bgcolor\": \"#E5ECF6\", \"radialaxis\": {\"gridcolor\": \"white\", \"linecolor\": \"white\", \"ticks\": \"\"}}, \"scene\": {\"xaxis\": {\"backgroundcolor\": \"#E5ECF6\", \"gridcolor\": \"white\", \"gridwidth\": 2, \"linecolor\": \"white\", \"showbackground\": true, \"ticks\": \"\", \"zerolinecolor\": \"white\"}, \"yaxis\": {\"backgroundcolor\": \"#E5ECF6\", \"gridcolor\": \"white\", \"gridwidth\": 2, \"linecolor\": \"white\", \"showbackground\": true, \"ticks\": \"\", \"zerolinecolor\": \"white\"}, \"zaxis\": {\"backgroundcolor\": \"#E5ECF6\", \"gridcolor\": \"white\", \"gridwidth\": 2, \"linecolor\": \"white\", \"showbackground\": true, \"ticks\": \"\", \"zerolinecolor\": \"white\"}}, \"shapedefaults\": {\"line\": {\"color\": \"#2a3f5f\"}}, \"ternary\": {\"aaxis\": {\"gridcolor\": \"white\", \"linecolor\": \"white\", \"ticks\": \"\"}, \"baxis\": {\"gridcolor\": \"white\", \"linecolor\": \"white\", \"ticks\": \"\"}, \"bgcolor\": \"#E5ECF6\", \"caxis\": {\"gridcolor\": \"white\", \"linecolor\": \"white\", \"ticks\": \"\"}}, \"title\": {\"x\": 0.05}, \"xaxis\": {\"automargin\": true, \"gridcolor\": \"white\", \"linecolor\": \"white\", \"ticks\": \"\", \"zerolinecolor\": \"white\", \"zerolinewidth\": 2}, \"yaxis\": {\"automargin\": true, \"gridcolor\": \"white\", \"linecolor\": \"white\", \"ticks\": \"\", \"zerolinecolor\": \"white\", \"zerolinewidth\": 2}}}},\n",
       "                        {\"responsive\": true}\n",
       "                    ).then(function(){\n",
       "                            \n",
       "var gd = document.getElementById('72946790-74a8-4f88-a061-d3e83f840279');\n",
       "var x = new MutationObserver(function (mutations, observer) {{\n",
       "        var display = window.getComputedStyle(gd).display;\n",
       "        if (!display || display === 'none') {{\n",
       "            console.log([gd, 'removed!']);\n",
       "            Plotly.purge(gd);\n",
       "            observer.disconnect();\n",
       "        }}\n",
       "}});\n",
       "\n",
       "// Listen for the removal of the full notebook cells\n",
       "var notebookContainer = gd.closest('#notebook-container');\n",
       "if (notebookContainer) {{\n",
       "    x.observe(notebookContainer, {childList: true});\n",
       "}}\n",
       "\n",
       "// Listen for the clearing of the current output cell\n",
       "var outputEl = gd.closest('.output');\n",
       "if (outputEl) {{\n",
       "    x.observe(outputEl, {childList: true});\n",
       "}}\n",
       "\n",
       "                        })\n",
       "                };\n",
       "                });\n",
       "            </script>\n",
       "        </div>"
      ]
     },
     "metadata": {},
     "output_type": "display_data"
    }
   ],
   "source": [
    "plot3(original_node, estimated_node)"
   ]
  },
  {
   "cell_type": "code",
   "execution_count": 209,
   "metadata": {
    "ExecuteTime": {
     "end_time": "2019-12-27T09:35:50.893103Z",
     "start_time": "2019-12-27T09:35:50.592944Z"
    },
    "scrolled": true
   },
   "outputs": [],
   "source": [
    "data = []\n",
    "\n",
    "original_node_name = \"Correct Location\"\n",
    "original_nodes = {\"x\" : x_original_node,\n",
    "               \"y\" : y_original_node,\n",
    "               \"mode\" : \"markers\",\n",
    "               \"marker\" : {\"color\" : \"red\", \"size\":5},\n",
    "               \"name\" : original_node_name\n",
    "              }\n",
    "\n",
    "estimated_node_name = \"Estimated Nodes\"\n",
    "estimated_nodes1 = {\"x\" : x_estimated_node,\n",
    "              \"y\" : y_estimated_node,\n",
    "              \"mode\" : \"markers\",\n",
    "              \"marker\" : {\"color\" : \"blue\", \"size\" : 5},\n",
    "              \"name\" : estimated_node_name\n",
    "             }    \n",
    "\n",
    "x_black_nodes = [black_nodes[i].x_coord for i in range(len(black_nodes))]\n",
    "y_black_nodes = [black_nodes[i].y_coord for i in range(len(black_nodes))]\n",
    "\n",
    "name_black = \"Black Nodes (\" + str(len(black_nodes)) + \")\"\n",
    "black_nodes = {\"x\" : x_black_nodes,\n",
    "               \"y\" : y_black_nodes,\n",
    "               \"mode\" : \"markers\",\n",
    "               \"marker\" : {\"color\" : \"black\", \"size\":5},\n",
    "               \"name\" : name_black\n",
    "              }\n",
    "\n",
    "data.append(original_nodes)\n",
    "data.append(estimated_nodes1)\n",
    "data.append(black_nodes)\n",
    "\n",
    "for node in estimated_nodes:\n",
    "    trace = go.Scatter(\n",
    "        x = [node.x_coord, node.x_estimated],\n",
    "        y = [node.y_coord, node.y_estimated],\n",
    "        mode = 'lines',\n",
    "        name = 'Node ' + str(node.id),\n",
    "        marker = dict(\n",
    "            size = 10,\n",
    "            color = 'black',\n",
    "            line = dict(\n",
    "                width = 1,\n",
    "                color = 'black'\n",
    "            )\n",
    "        )\n",
    "    )\n",
    "    data.append(trace)"
   ]
  },
  {
   "cell_type": "code",
   "execution_count": 210,
   "metadata": {
    "ExecuteTime": {
     "end_time": "2019-12-27T09:35:54.233154Z",
     "start_time": "2019-12-27T09:35:53.540276Z"
    }
   },
   "outputs": [
    {
     "data": {
      "application/vnd.plotly.v1+json": {
       "config": {
        "linkText": "Export to plot.ly",
        "plotlyServerURL": "https://plot.ly",
        "showLink": false
       },
       "data": [
        {
         "marker": {
          "color": "red",
          "size": 5
         },
         "mode": "markers",
         "name": "Correct Location",
         "type": "scatter",
         "x": [
          93.54221925094348,
          32.46525503047148,
          22.49033225066569,
          36.15292095912236,
          65.98361737558925,
          60.6579540629371,
          42.935493588151985,
          45.916775850680736,
          34.069006404218506,
          78.61262211391661,
          28.49321398442125,
          9.210921022760488,
          57.26029280753485,
          15.393176714882618,
          58.724757962559636,
          94.82533998624008,
          52.80042391325503,
          32.288107584758265,
          96.51162492470058,
          90.4223776117667,
          60.50359729167318,
          9.458251034646036,
          53.15061133227148,
          33.410711199936394,
          2.9926407136840583,
          90.63205502822633,
          27.997847119213315,
          74.02378809739639,
          1.4880439124536515,
          56.30838340047821,
          22.50272484808422,
          37.00809662162781,
          59.30685441005503,
          97.39577339375307,
          46.54345963368029,
          72.17112802704962,
          89.36257697592644,
          39.98013629883683,
          77.84121421594702,
          35.30215194298398,
          94.60867987076465,
          48.419360797614175,
          91.68263410076696,
          43.40116717081841,
          24.859338243663252,
          7.510174364895484,
          23.464304985502704,
          88.51786078566363,
          13.476796983087802,
          95.35378360361527,
          59.606395112219225,
          39.267316699025926,
          12.782838268639008,
          75.23355353068776,
          13.645618578630236,
          91.80117567895947,
          54.893528872822074,
          45.88687139758196,
          56.15797590367059,
          4.674944202154519,
          29.759529529886773,
          43.4504148275378,
          47.95424429480683,
          99.13342909762457,
          73.99994482912537,
          22.842077682942673,
          64.40108010403355,
          14.517908459076844,
          11.282826132033074,
          70.37904520439572,
          27.958369584168185,
          73.35219635694853,
          25.751087134320116,
          26.02026462194562,
          96.63013169605344,
          38.13875422041198,
          11.41963495597177,
          3.2853764345661562,
          99.05719214023533,
          83.7864336393738,
          58.487551805129534,
          90.31381765524445,
          19.405575345092686,
          17.920332137961836,
          15.175686773631769,
          35.15860578673671,
          86.07556595731184,
          17.588048361782327,
          20.829480095528496
         ],
         "y": [
          63.17429487819756,
          99.4537014834545,
          25.19291255030176,
          4.7377761683564,
          26.289211373546628,
          0.30574945559650457,
          32.73390465609393,
          74.87885412745881,
          14.46923732857045,
          52.824737529925784,
          72.01190201232556,
          15.15818175933008,
          15.449604553159125,
          83.65524330589113,
          30.560004273866703,
          65.05188625115429,
          21.155498669261984,
          32.408069199322995,
          81.21578935365916,
          38.274430140733884,
          29.54472896189403,
          94.91223803138273,
          25.7105648458403,
          27.305451932418954,
          40.5621854435927,
          29.65424483733542,
          51.718118432014805,
          58.833805367354216,
          76.32619597888565,
          7.339622738829421,
          10.940878829507195,
          82.41502062644311,
          43.81462813772372,
          27.011492162337813,
          76.18935665490085,
          17.96658497935012,
          96.04471460012498,
          6.1962564098920865,
          50.48003388486993,
          47.26833164216243,
          88.69828080212055,
          7.3542867321658605,
          32.8158924772003,
          39.214395520210054,
          17.73195606905813,
          60.399971405281235,
          56.843887815982576,
          52.75302636457061,
          35.61617877122363,
          28.381243535731194,
          29.348279607276282,
          16.15315439989563,
          9.06834613640367,
          17.827744106314647,
          6.899840464352813,
          17.419380574121735,
          67.58103998752651,
          90.85260199654181,
          57.998005441951314,
          96.80774255797971,
          52.623885383182134,
          55.111681211938524,
          25.984308171574554,
          97.59011266735496,
          99.48640738972551,
          8.915998115990654,
          57.305377636464016,
          26.030229920752333,
          30.75404363199712,
          32.893741014138655,
          73.59001559990747,
          93.60055900967383,
          92.63137712503435,
          59.82077829414171,
          18.370629134457005,
          45.890939677697126,
          36.55168682054472,
          98.60823148080867,
          73.00480974582962,
          46.258903448157525,
          15.304230392491347,
          38.335827267696345,
          64.8739835674054,
          45.40658875808734,
          98.44314122708643,
          93.21016712252525,
          73.82861539854542,
          52.01548238174328,
          49.32757682911514
         ]
        },
        {
         "marker": {
          "color": "blue",
          "size": 5
         },
         "mode": "markers",
         "name": "Estimated Nodes",
         "type": "scatter",
         "x": [
          94.8849998267786,
          32.523666026380575,
          19.38448377971038,
          36.3262677307971,
          67.68898593060271,
          62.526375591401916,
          45.09049611025019,
          44.50044818861871,
          34.18095195634192,
          77.78083009986118,
          54.73685216407734,
          9.84761100188456,
          57.16897027904894,
          13.45860225918277,
          59.220339119907635,
          96.4355520442906,
          50.49351722816545,
          33.93314478254509,
          94.02382338500946,
          89.3574122457474,
          59.44564820079247,
          11.340613467498889,
          53.328611592151354,
          33.54410941083716,
          1.7551320531472132,
          90.08588336274413,
          28.209847140970606,
          72.75212842705356,
          4.164271854650923,
          58.574827282818255,
          22.47185784206548,
          36.73748154974488,
          57.75147249496589,
          98.32725167074705,
          45.957029484242206,
          57.255905418133814,
          92.04661743752293,
          39.34441220106124,
          77.67817250392254,
          35.69322968161949,
          96.75728486978862,
          48.80353146027875,
          93.2891095690123,
          45.49079709422326,
          25.844782274123173,
          5.962312533426743,
          23.437232005161064,
          89.81151083672007,
          13.240054495341655,
          96.06536164873235,
          60.17729105470587,
          38.66163855655957,
          11.984682123899539,
          74.15137628035973,
          14.5969559315836,
          90.97848344612565,
          55.785699539150066,
          45.59550709855887,
          57.15672521499775,
          6.646072505689344,
          30.164322427336824,
          42.44558237335607,
          48.63651793164744,
          100.07638209145615,
          72.29584409789409,
          20.79988468566327,
          64.37263069086882,
          15.509058519000682,
          12.70395994122157,
          70.81212642241994,
          26.64933636313316,
          71.55293975161021,
          45.0838171525806,
          26.421622882525895,
          97.26616302123682,
          35.69458967762939,
          13.318818427614865,
          1.8033454591826181,
          95.67229264271121,
          83.6728649569092,
          56.39458925836494,
          90.19356292470788,
          19.040216557919184,
          18.320618505402912,
          16.334080863539967,
          35.48119056188083,
          85.75441769301001,
          18.114548781606878,
          20.551942704362546
         ],
         "y": [
          64.08443483219357,
          100.63388242947003,
          25.42776659976863,
          5.836386085386326,
          24.690591501432753,
          0.12204878887188819,
          33.94133151672144,
          75.91743040627144,
          17.098681300570448,
          52.0669084911334,
          57.80233188887197,
          17.194191098756175,
          13.464036704507492,
          83.87070402561316,
          27.386186564374125,
          64.53646661296546,
          19.403419162349635,
          29.777891043164487,
          79.78052806842001,
          39.88661354995447,
          28.44230069476537,
          94.32066052653691,
          25.796339993350703,
          27.951337572857735,
          40.78613792591471,
          29.273972576029532,
          49.80865443824703,
          58.57923779944019,
          76.0015989377922,
          6.359804179694504,
          13.982442656155088,
          84.21423443028122,
          42.33757775257526,
          27.48784614993576,
          76.73916738557281,
          29.41785868171492,
          98.30536908854651,
          3.9100902377258677,
          50.95928356064574,
          45.93049878957472,
          90.13297517983024,
          7.157189171363275,
          35.132365525957205,
          49.16389688436237,
          18.01742127705306,
          60.818169680572645,
          56.3091938843327,
          54.20600994895211,
          33.39215538353739,
          30.30750963982075,
          30.695128654909215,
          15.741211640684767,
          7.883398819457379,
          15.452883572235805,
          8.833214821761242,
          19.141469831788587,
          66.7714555867163,
          89.33905875991202,
          58.018116821552404,
          99.55608903733686,
          51.45758939163778,
          55.32596825674445,
          28.26747638172095,
          98.52503027178805,
          100.1739185306962,
          10.831618663046102,
          62.357381584563235,
          27.3020153560938,
          31.070395661442248,
          35.15551823185763,
          72.94594524481957,
          95.26243291335999,
          71.7970135429031,
          58.79090542277385,
          17.295580458573887,
          44.41139264742272,
          37.89094458034015,
          98.23075137382496,
          73.24535000193423,
          47.37948061250458,
          14.757820269493601,
          38.3493087340757,
          65.80499583650182,
          44.642461889650576,
          97.61873318727739,
          94.59078838409346,
          75.46638130825573,
          52.59633873151942,
          49.61526142968423
         ]
        },
        {
         "marker": {
          "color": "black",
          "size": 5
         },
         "mode": "markers",
         "name": "Black Nodes (1)",
         "type": "scatter",
         "x": [
          94.34402572551707
         ],
         "y": [
          1.084864347850012
         ]
        },
        {
         "marker": {
          "color": "black",
          "line": {
           "color": "black",
           "width": 1
          },
          "size": 10
         },
         "mode": "lines",
         "name": "Node 10",
         "type": "scatter",
         "x": [
          93.54221925094348,
          94.8849998267786
         ],
         "y": [
          63.17429487819756,
          64.08443483219357
         ]
        },
        {
         "marker": {
          "color": "black",
          "line": {
           "color": "black",
           "width": 1
          },
          "size": 10
         },
         "mode": "lines",
         "name": "Node 11",
         "type": "scatter",
         "x": [
          32.46525503047148,
          32.523666026380575
         ],
         "y": [
          99.4537014834545,
          100.63388242947003
         ]
        },
        {
         "marker": {
          "color": "black",
          "line": {
           "color": "black",
           "width": 1
          },
          "size": 10
         },
         "mode": "lines",
         "name": "Node 12",
         "type": "scatter",
         "x": [
          22.49033225066569,
          19.38448377971038
         ],
         "y": [
          25.19291255030176,
          25.42776659976863
         ]
        },
        {
         "marker": {
          "color": "black",
          "line": {
           "color": "black",
           "width": 1
          },
          "size": 10
         },
         "mode": "lines",
         "name": "Node 13",
         "type": "scatter",
         "x": [
          36.15292095912236,
          36.3262677307971
         ],
         "y": [
          4.7377761683564,
          5.836386085386326
         ]
        },
        {
         "marker": {
          "color": "black",
          "line": {
           "color": "black",
           "width": 1
          },
          "size": 10
         },
         "mode": "lines",
         "name": "Node 14",
         "type": "scatter",
         "x": [
          65.98361737558925,
          67.68898593060271
         ],
         "y": [
          26.289211373546628,
          24.690591501432753
         ]
        },
        {
         "marker": {
          "color": "black",
          "line": {
           "color": "black",
           "width": 1
          },
          "size": 10
         },
         "mode": "lines",
         "name": "Node 15",
         "type": "scatter",
         "x": [
          60.6579540629371,
          62.526375591401916
         ],
         "y": [
          0.30574945559650457,
          0.12204878887188819
         ]
        },
        {
         "marker": {
          "color": "black",
          "line": {
           "color": "black",
           "width": 1
          },
          "size": 10
         },
         "mode": "lines",
         "name": "Node 16",
         "type": "scatter",
         "x": [
          42.935493588151985,
          45.09049611025019
         ],
         "y": [
          32.73390465609393,
          33.94133151672144
         ]
        },
        {
         "marker": {
          "color": "black",
          "line": {
           "color": "black",
           "width": 1
          },
          "size": 10
         },
         "mode": "lines",
         "name": "Node 17",
         "type": "scatter",
         "x": [
          45.916775850680736,
          44.50044818861871
         ],
         "y": [
          74.87885412745881,
          75.91743040627144
         ]
        },
        {
         "marker": {
          "color": "black",
          "line": {
           "color": "black",
           "width": 1
          },
          "size": 10
         },
         "mode": "lines",
         "name": "Node 18",
         "type": "scatter",
         "x": [
          34.069006404218506,
          34.18095195634192
         ],
         "y": [
          14.46923732857045,
          17.098681300570448
         ]
        },
        {
         "marker": {
          "color": "black",
          "line": {
           "color": "black",
           "width": 1
          },
          "size": 10
         },
         "mode": "lines",
         "name": "Node 19",
         "type": "scatter",
         "x": [
          78.61262211391661,
          77.78083009986118
         ],
         "y": [
          52.824737529925784,
          52.0669084911334
         ]
        },
        {
         "marker": {
          "color": "black",
          "line": {
           "color": "black",
           "width": 1
          },
          "size": 10
         },
         "mode": "lines",
         "name": "Node 20",
         "type": "scatter",
         "x": [
          28.49321398442125,
          54.73685216407734
         ],
         "y": [
          72.01190201232556,
          57.80233188887197
         ]
        },
        {
         "marker": {
          "color": "black",
          "line": {
           "color": "black",
           "width": 1
          },
          "size": 10
         },
         "mode": "lines",
         "name": "Node 21",
         "type": "scatter",
         "x": [
          9.210921022760488,
          9.84761100188456
         ],
         "y": [
          15.15818175933008,
          17.194191098756175
         ]
        },
        {
         "marker": {
          "color": "black",
          "line": {
           "color": "black",
           "width": 1
          },
          "size": 10
         },
         "mode": "lines",
         "name": "Node 22",
         "type": "scatter",
         "x": [
          57.26029280753485,
          57.16897027904894
         ],
         "y": [
          15.449604553159125,
          13.464036704507492
         ]
        },
        {
         "marker": {
          "color": "black",
          "line": {
           "color": "black",
           "width": 1
          },
          "size": 10
         },
         "mode": "lines",
         "name": "Node 23",
         "type": "scatter",
         "x": [
          15.393176714882618,
          13.45860225918277
         ],
         "y": [
          83.65524330589113,
          83.87070402561316
         ]
        },
        {
         "marker": {
          "color": "black",
          "line": {
           "color": "black",
           "width": 1
          },
          "size": 10
         },
         "mode": "lines",
         "name": "Node 24",
         "type": "scatter",
         "x": [
          58.724757962559636,
          59.220339119907635
         ],
         "y": [
          30.560004273866703,
          27.386186564374125
         ]
        },
        {
         "marker": {
          "color": "black",
          "line": {
           "color": "black",
           "width": 1
          },
          "size": 10
         },
         "mode": "lines",
         "name": "Node 25",
         "type": "scatter",
         "x": [
          94.82533998624008,
          96.4355520442906
         ],
         "y": [
          65.05188625115429,
          64.53646661296546
         ]
        },
        {
         "marker": {
          "color": "black",
          "line": {
           "color": "black",
           "width": 1
          },
          "size": 10
         },
         "mode": "lines",
         "name": "Node 26",
         "type": "scatter",
         "x": [
          52.80042391325503,
          50.49351722816545
         ],
         "y": [
          21.155498669261984,
          19.403419162349635
         ]
        },
        {
         "marker": {
          "color": "black",
          "line": {
           "color": "black",
           "width": 1
          },
          "size": 10
         },
         "mode": "lines",
         "name": "Node 27",
         "type": "scatter",
         "x": [
          32.288107584758265,
          33.93314478254509
         ],
         "y": [
          32.408069199322995,
          29.777891043164487
         ]
        },
        {
         "marker": {
          "color": "black",
          "line": {
           "color": "black",
           "width": 1
          },
          "size": 10
         },
         "mode": "lines",
         "name": "Node 28",
         "type": "scatter",
         "x": [
          96.51162492470058,
          94.02382338500946
         ],
         "y": [
          81.21578935365916,
          79.78052806842001
         ]
        },
        {
         "marker": {
          "color": "black",
          "line": {
           "color": "black",
           "width": 1
          },
          "size": 10
         },
         "mode": "lines",
         "name": "Node 29",
         "type": "scatter",
         "x": [
          90.4223776117667,
          89.3574122457474
         ],
         "y": [
          38.274430140733884,
          39.88661354995447
         ]
        },
        {
         "marker": {
          "color": "black",
          "line": {
           "color": "black",
           "width": 1
          },
          "size": 10
         },
         "mode": "lines",
         "name": "Node 30",
         "type": "scatter",
         "x": [
          60.50359729167318,
          59.44564820079247
         ],
         "y": [
          29.54472896189403,
          28.44230069476537
         ]
        },
        {
         "marker": {
          "color": "black",
          "line": {
           "color": "black",
           "width": 1
          },
          "size": 10
         },
         "mode": "lines",
         "name": "Node 31",
         "type": "scatter",
         "x": [
          9.458251034646036,
          11.340613467498889
         ],
         "y": [
          94.91223803138273,
          94.32066052653691
         ]
        },
        {
         "marker": {
          "color": "black",
          "line": {
           "color": "black",
           "width": 1
          },
          "size": 10
         },
         "mode": "lines",
         "name": "Node 32",
         "type": "scatter",
         "x": [
          53.15061133227148,
          53.328611592151354
         ],
         "y": [
          25.7105648458403,
          25.796339993350703
         ]
        },
        {
         "marker": {
          "color": "black",
          "line": {
           "color": "black",
           "width": 1
          },
          "size": 10
         },
         "mode": "lines",
         "name": "Node 33",
         "type": "scatter",
         "x": [
          33.410711199936394,
          33.54410941083716
         ],
         "y": [
          27.305451932418954,
          27.951337572857735
         ]
        },
        {
         "marker": {
          "color": "black",
          "line": {
           "color": "black",
           "width": 1
          },
          "size": 10
         },
         "mode": "lines",
         "name": "Node 34",
         "type": "scatter",
         "x": [
          2.9926407136840583,
          1.7551320531472132
         ],
         "y": [
          40.5621854435927,
          40.78613792591471
         ]
        },
        {
         "marker": {
          "color": "black",
          "line": {
           "color": "black",
           "width": 1
          },
          "size": 10
         },
         "mode": "lines",
         "name": "Node 35",
         "type": "scatter",
         "x": [
          90.63205502822633,
          90.08588336274413
         ],
         "y": [
          29.65424483733542,
          29.273972576029532
         ]
        },
        {
         "marker": {
          "color": "black",
          "line": {
           "color": "black",
           "width": 1
          },
          "size": 10
         },
         "mode": "lines",
         "name": "Node 36",
         "type": "scatter",
         "x": [
          27.997847119213315,
          28.209847140970606
         ],
         "y": [
          51.718118432014805,
          49.80865443824703
         ]
        },
        {
         "marker": {
          "color": "black",
          "line": {
           "color": "black",
           "width": 1
          },
          "size": 10
         },
         "mode": "lines",
         "name": "Node 37",
         "type": "scatter",
         "x": [
          74.02378809739639,
          72.75212842705356
         ],
         "y": [
          58.833805367354216,
          58.57923779944019
         ]
        },
        {
         "marker": {
          "color": "black",
          "line": {
           "color": "black",
           "width": 1
          },
          "size": 10
         },
         "mode": "lines",
         "name": "Node 38",
         "type": "scatter",
         "x": [
          1.4880439124536515,
          4.164271854650923
         ],
         "y": [
          76.32619597888565,
          76.0015989377922
         ]
        },
        {
         "marker": {
          "color": "black",
          "line": {
           "color": "black",
           "width": 1
          },
          "size": 10
         },
         "mode": "lines",
         "name": "Node 39",
         "type": "scatter",
         "x": [
          56.30838340047821,
          58.574827282818255
         ],
         "y": [
          7.339622738829421,
          6.359804179694504
         ]
        },
        {
         "marker": {
          "color": "black",
          "line": {
           "color": "black",
           "width": 1
          },
          "size": 10
         },
         "mode": "lines",
         "name": "Node 40",
         "type": "scatter",
         "x": [
          22.50272484808422,
          22.47185784206548
         ],
         "y": [
          10.940878829507195,
          13.982442656155088
         ]
        },
        {
         "marker": {
          "color": "black",
          "line": {
           "color": "black",
           "width": 1
          },
          "size": 10
         },
         "mode": "lines",
         "name": "Node 41",
         "type": "scatter",
         "x": [
          37.00809662162781,
          36.73748154974488
         ],
         "y": [
          82.41502062644311,
          84.21423443028122
         ]
        },
        {
         "marker": {
          "color": "black",
          "line": {
           "color": "black",
           "width": 1
          },
          "size": 10
         },
         "mode": "lines",
         "name": "Node 42",
         "type": "scatter",
         "x": [
          59.30685441005503,
          57.75147249496589
         ],
         "y": [
          43.81462813772372,
          42.33757775257526
         ]
        },
        {
         "marker": {
          "color": "black",
          "line": {
           "color": "black",
           "width": 1
          },
          "size": 10
         },
         "mode": "lines",
         "name": "Node 43",
         "type": "scatter",
         "x": [
          97.39577339375307,
          98.32725167074705
         ],
         "y": [
          27.011492162337813,
          27.48784614993576
         ]
        },
        {
         "marker": {
          "color": "black",
          "line": {
           "color": "black",
           "width": 1
          },
          "size": 10
         },
         "mode": "lines",
         "name": "Node 44",
         "type": "scatter",
         "x": [
          46.54345963368029,
          45.957029484242206
         ],
         "y": [
          76.18935665490085,
          76.73916738557281
         ]
        },
        {
         "marker": {
          "color": "black",
          "line": {
           "color": "black",
           "width": 1
          },
          "size": 10
         },
         "mode": "lines",
         "name": "Node 45",
         "type": "scatter",
         "x": [
          72.17112802704962,
          57.255905418133814
         ],
         "y": [
          17.96658497935012,
          29.41785868171492
         ]
        },
        {
         "marker": {
          "color": "black",
          "line": {
           "color": "black",
           "width": 1
          },
          "size": 10
         },
         "mode": "lines",
         "name": "Node 46",
         "type": "scatter",
         "x": [
          89.36257697592644,
          92.04661743752293
         ],
         "y": [
          96.04471460012498,
          98.30536908854651
         ]
        },
        {
         "marker": {
          "color": "black",
          "line": {
           "color": "black",
           "width": 1
          },
          "size": 10
         },
         "mode": "lines",
         "name": "Node 47",
         "type": "scatter",
         "x": [
          39.98013629883683,
          39.34441220106124
         ],
         "y": [
          6.1962564098920865,
          3.9100902377258677
         ]
        },
        {
         "marker": {
          "color": "black",
          "line": {
           "color": "black",
           "width": 1
          },
          "size": 10
         },
         "mode": "lines",
         "name": "Node 48",
         "type": "scatter",
         "x": [
          77.84121421594702,
          77.67817250392254
         ],
         "y": [
          50.48003388486993,
          50.95928356064574
         ]
        },
        {
         "marker": {
          "color": "black",
          "line": {
           "color": "black",
           "width": 1
          },
          "size": 10
         },
         "mode": "lines",
         "name": "Node 49",
         "type": "scatter",
         "x": [
          35.30215194298398,
          35.69322968161949
         ],
         "y": [
          47.26833164216243,
          45.93049878957472
         ]
        },
        {
         "marker": {
          "color": "black",
          "line": {
           "color": "black",
           "width": 1
          },
          "size": 10
         },
         "mode": "lines",
         "name": "Node 50",
         "type": "scatter",
         "x": [
          94.60867987076465,
          96.75728486978862
         ],
         "y": [
          88.69828080212055,
          90.13297517983024
         ]
        },
        {
         "marker": {
          "color": "black",
          "line": {
           "color": "black",
           "width": 1
          },
          "size": 10
         },
         "mode": "lines",
         "name": "Node 51",
         "type": "scatter",
         "x": [
          48.419360797614175,
          48.80353146027875
         ],
         "y": [
          7.3542867321658605,
          7.157189171363275
         ]
        },
        {
         "marker": {
          "color": "black",
          "line": {
           "color": "black",
           "width": 1
          },
          "size": 10
         },
         "mode": "lines",
         "name": "Node 52",
         "type": "scatter",
         "x": [
          91.68263410076696,
          93.2891095690123
         ],
         "y": [
          32.8158924772003,
          35.132365525957205
         ]
        },
        {
         "marker": {
          "color": "black",
          "line": {
           "color": "black",
           "width": 1
          },
          "size": 10
         },
         "mode": "lines",
         "name": "Node 53",
         "type": "scatter",
         "x": [
          43.40116717081841,
          45.49079709422326
         ],
         "y": [
          39.214395520210054,
          49.16389688436237
         ]
        },
        {
         "marker": {
          "color": "black",
          "line": {
           "color": "black",
           "width": 1
          },
          "size": 10
         },
         "mode": "lines",
         "name": "Node 54",
         "type": "scatter",
         "x": [
          24.859338243663252,
          25.844782274123173
         ],
         "y": [
          17.73195606905813,
          18.01742127705306
         ]
        },
        {
         "marker": {
          "color": "black",
          "line": {
           "color": "black",
           "width": 1
          },
          "size": 10
         },
         "mode": "lines",
         "name": "Node 55",
         "type": "scatter",
         "x": [
          7.510174364895484,
          5.962312533426743
         ],
         "y": [
          60.399971405281235,
          60.818169680572645
         ]
        },
        {
         "marker": {
          "color": "black",
          "line": {
           "color": "black",
           "width": 1
          },
          "size": 10
         },
         "mode": "lines",
         "name": "Node 56",
         "type": "scatter",
         "x": [
          23.464304985502704,
          23.437232005161064
         ],
         "y": [
          56.843887815982576,
          56.3091938843327
         ]
        },
        {
         "marker": {
          "color": "black",
          "line": {
           "color": "black",
           "width": 1
          },
          "size": 10
         },
         "mode": "lines",
         "name": "Node 57",
         "type": "scatter",
         "x": [
          88.51786078566363,
          89.81151083672007
         ],
         "y": [
          52.75302636457061,
          54.20600994895211
         ]
        },
        {
         "marker": {
          "color": "black",
          "line": {
           "color": "black",
           "width": 1
          },
          "size": 10
         },
         "mode": "lines",
         "name": "Node 58",
         "type": "scatter",
         "x": [
          13.476796983087802,
          13.240054495341655
         ],
         "y": [
          35.61617877122363,
          33.39215538353739
         ]
        },
        {
         "marker": {
          "color": "black",
          "line": {
           "color": "black",
           "width": 1
          },
          "size": 10
         },
         "mode": "lines",
         "name": "Node 59",
         "type": "scatter",
         "x": [
          95.35378360361527,
          96.06536164873235
         ],
         "y": [
          28.381243535731194,
          30.30750963982075
         ]
        },
        {
         "marker": {
          "color": "black",
          "line": {
           "color": "black",
           "width": 1
          },
          "size": 10
         },
         "mode": "lines",
         "name": "Node 60",
         "type": "scatter",
         "x": [
          59.606395112219225,
          60.17729105470587
         ],
         "y": [
          29.348279607276282,
          30.695128654909215
         ]
        },
        {
         "marker": {
          "color": "black",
          "line": {
           "color": "black",
           "width": 1
          },
          "size": 10
         },
         "mode": "lines",
         "name": "Node 62",
         "type": "scatter",
         "x": [
          39.267316699025926,
          38.66163855655957
         ],
         "y": [
          16.15315439989563,
          15.741211640684767
         ]
        },
        {
         "marker": {
          "color": "black",
          "line": {
           "color": "black",
           "width": 1
          },
          "size": 10
         },
         "mode": "lines",
         "name": "Node 63",
         "type": "scatter",
         "x": [
          12.782838268639008,
          11.984682123899539
         ],
         "y": [
          9.06834613640367,
          7.883398819457379
         ]
        },
        {
         "marker": {
          "color": "black",
          "line": {
           "color": "black",
           "width": 1
          },
          "size": 10
         },
         "mode": "lines",
         "name": "Node 64",
         "type": "scatter",
         "x": [
          75.23355353068776,
          74.15137628035973
         ],
         "y": [
          17.827744106314647,
          15.452883572235805
         ]
        },
        {
         "marker": {
          "color": "black",
          "line": {
           "color": "black",
           "width": 1
          },
          "size": 10
         },
         "mode": "lines",
         "name": "Node 65",
         "type": "scatter",
         "x": [
          13.645618578630236,
          14.5969559315836
         ],
         "y": [
          6.899840464352813,
          8.833214821761242
         ]
        },
        {
         "marker": {
          "color": "black",
          "line": {
           "color": "black",
           "width": 1
          },
          "size": 10
         },
         "mode": "lines",
         "name": "Node 66",
         "type": "scatter",
         "x": [
          91.80117567895947,
          90.97848344612565
         ],
         "y": [
          17.419380574121735,
          19.141469831788587
         ]
        },
        {
         "marker": {
          "color": "black",
          "line": {
           "color": "black",
           "width": 1
          },
          "size": 10
         },
         "mode": "lines",
         "name": "Node 67",
         "type": "scatter",
         "x": [
          54.893528872822074,
          55.785699539150066
         ],
         "y": [
          67.58103998752651,
          66.7714555867163
         ]
        },
        {
         "marker": {
          "color": "black",
          "line": {
           "color": "black",
           "width": 1
          },
          "size": 10
         },
         "mode": "lines",
         "name": "Node 68",
         "type": "scatter",
         "x": [
          45.88687139758196,
          45.59550709855887
         ],
         "y": [
          90.85260199654181,
          89.33905875991202
         ]
        },
        {
         "marker": {
          "color": "black",
          "line": {
           "color": "black",
           "width": 1
          },
          "size": 10
         },
         "mode": "lines",
         "name": "Node 69",
         "type": "scatter",
         "x": [
          56.15797590367059,
          57.15672521499775
         ],
         "y": [
          57.998005441951314,
          58.018116821552404
         ]
        },
        {
         "marker": {
          "color": "black",
          "line": {
           "color": "black",
           "width": 1
          },
          "size": 10
         },
         "mode": "lines",
         "name": "Node 70",
         "type": "scatter",
         "x": [
          4.674944202154519,
          6.646072505689344
         ],
         "y": [
          96.80774255797971,
          99.55608903733686
         ]
        },
        {
         "marker": {
          "color": "black",
          "line": {
           "color": "black",
           "width": 1
          },
          "size": 10
         },
         "mode": "lines",
         "name": "Node 71",
         "type": "scatter",
         "x": [
          29.759529529886773,
          30.164322427336824
         ],
         "y": [
          52.623885383182134,
          51.45758939163778
         ]
        },
        {
         "marker": {
          "color": "black",
          "line": {
           "color": "black",
           "width": 1
          },
          "size": 10
         },
         "mode": "lines",
         "name": "Node 72",
         "type": "scatter",
         "x": [
          43.4504148275378,
          42.44558237335607
         ],
         "y": [
          55.111681211938524,
          55.32596825674445
         ]
        },
        {
         "marker": {
          "color": "black",
          "line": {
           "color": "black",
           "width": 1
          },
          "size": 10
         },
         "mode": "lines",
         "name": "Node 73",
         "type": "scatter",
         "x": [
          47.95424429480683,
          48.63651793164744
         ],
         "y": [
          25.984308171574554,
          28.26747638172095
         ]
        },
        {
         "marker": {
          "color": "black",
          "line": {
           "color": "black",
           "width": 1
          },
          "size": 10
         },
         "mode": "lines",
         "name": "Node 74",
         "type": "scatter",
         "x": [
          99.13342909762457,
          100.07638209145615
         ],
         "y": [
          97.59011266735496,
          98.52503027178805
         ]
        },
        {
         "marker": {
          "color": "black",
          "line": {
           "color": "black",
           "width": 1
          },
          "size": 10
         },
         "mode": "lines",
         "name": "Node 75",
         "type": "scatter",
         "x": [
          73.99994482912537,
          72.29584409789409
         ],
         "y": [
          99.48640738972551,
          100.1739185306962
         ]
        },
        {
         "marker": {
          "color": "black",
          "line": {
           "color": "black",
           "width": 1
          },
          "size": 10
         },
         "mode": "lines",
         "name": "Node 76",
         "type": "scatter",
         "x": [
          22.842077682942673,
          20.79988468566327
         ],
         "y": [
          8.915998115990654,
          10.831618663046102
         ]
        },
        {
         "marker": {
          "color": "black",
          "line": {
           "color": "black",
           "width": 1
          },
          "size": 10
         },
         "mode": "lines",
         "name": "Node 77",
         "type": "scatter",
         "x": [
          64.40108010403355,
          64.37263069086882
         ],
         "y": [
          57.305377636464016,
          62.357381584563235
         ]
        },
        {
         "marker": {
          "color": "black",
          "line": {
           "color": "black",
           "width": 1
          },
          "size": 10
         },
         "mode": "lines",
         "name": "Node 78",
         "type": "scatter",
         "x": [
          14.517908459076844,
          15.509058519000682
         ],
         "y": [
          26.030229920752333,
          27.3020153560938
         ]
        },
        {
         "marker": {
          "color": "black",
          "line": {
           "color": "black",
           "width": 1
          },
          "size": 10
         },
         "mode": "lines",
         "name": "Node 79",
         "type": "scatter",
         "x": [
          11.282826132033074,
          12.70395994122157
         ],
         "y": [
          30.75404363199712,
          31.070395661442248
         ]
        },
        {
         "marker": {
          "color": "black",
          "line": {
           "color": "black",
           "width": 1
          },
          "size": 10
         },
         "mode": "lines",
         "name": "Node 80",
         "type": "scatter",
         "x": [
          70.37904520439572,
          70.81212642241994
         ],
         "y": [
          32.893741014138655,
          35.15551823185763
         ]
        },
        {
         "marker": {
          "color": "black",
          "line": {
           "color": "black",
           "width": 1
          },
          "size": 10
         },
         "mode": "lines",
         "name": "Node 81",
         "type": "scatter",
         "x": [
          27.958369584168185,
          26.64933636313316
         ],
         "y": [
          73.59001559990747,
          72.94594524481957
         ]
        },
        {
         "marker": {
          "color": "black",
          "line": {
           "color": "black",
           "width": 1
          },
          "size": 10
         },
         "mode": "lines",
         "name": "Node 82",
         "type": "scatter",
         "x": [
          73.35219635694853,
          71.55293975161021
         ],
         "y": [
          93.60055900967383,
          95.26243291335999
         ]
        },
        {
         "marker": {
          "color": "black",
          "line": {
           "color": "black",
           "width": 1
          },
          "size": 10
         },
         "mode": "lines",
         "name": "Node 83",
         "type": "scatter",
         "x": [
          25.751087134320116,
          45.0838171525806
         ],
         "y": [
          92.63137712503435,
          71.7970135429031
         ]
        },
        {
         "marker": {
          "color": "black",
          "line": {
           "color": "black",
           "width": 1
          },
          "size": 10
         },
         "mode": "lines",
         "name": "Node 84",
         "type": "scatter",
         "x": [
          26.02026462194562,
          26.421622882525895
         ],
         "y": [
          59.82077829414171,
          58.79090542277385
         ]
        },
        {
         "marker": {
          "color": "black",
          "line": {
           "color": "black",
           "width": 1
          },
          "size": 10
         },
         "mode": "lines",
         "name": "Node 85",
         "type": "scatter",
         "x": [
          96.63013169605344,
          97.26616302123682
         ],
         "y": [
          18.370629134457005,
          17.295580458573887
         ]
        },
        {
         "marker": {
          "color": "black",
          "line": {
           "color": "black",
           "width": 1
          },
          "size": 10
         },
         "mode": "lines",
         "name": "Node 86",
         "type": "scatter",
         "x": [
          38.13875422041198,
          35.69458967762939
         ],
         "y": [
          45.890939677697126,
          44.41139264742272
         ]
        },
        {
         "marker": {
          "color": "black",
          "line": {
           "color": "black",
           "width": 1
          },
          "size": 10
         },
         "mode": "lines",
         "name": "Node 87",
         "type": "scatter",
         "x": [
          11.41963495597177,
          13.318818427614865
         ],
         "y": [
          36.55168682054472,
          37.89094458034015
         ]
        },
        {
         "marker": {
          "color": "black",
          "line": {
           "color": "black",
           "width": 1
          },
          "size": 10
         },
         "mode": "lines",
         "name": "Node 88",
         "type": "scatter",
         "x": [
          3.2853764345661562,
          1.8033454591826181
         ],
         "y": [
          98.60823148080867,
          98.23075137382496
         ]
        },
        {
         "marker": {
          "color": "black",
          "line": {
           "color": "black",
           "width": 1
          },
          "size": 10
         },
         "mode": "lines",
         "name": "Node 89",
         "type": "scatter",
         "x": [
          99.05719214023533,
          95.67229264271121
         ],
         "y": [
          73.00480974582962,
          73.24535000193423
         ]
        },
        {
         "marker": {
          "color": "black",
          "line": {
           "color": "black",
           "width": 1
          },
          "size": 10
         },
         "mode": "lines",
         "name": "Node 90",
         "type": "scatter",
         "x": [
          83.7864336393738,
          83.6728649569092
         ],
         "y": [
          46.258903448157525,
          47.37948061250458
         ]
        },
        {
         "marker": {
          "color": "black",
          "line": {
           "color": "black",
           "width": 1
          },
          "size": 10
         },
         "mode": "lines",
         "name": "Node 91",
         "type": "scatter",
         "x": [
          58.487551805129534,
          56.39458925836494
         ],
         "y": [
          15.304230392491347,
          14.757820269493601
         ]
        },
        {
         "marker": {
          "color": "black",
          "line": {
           "color": "black",
           "width": 1
          },
          "size": 10
         },
         "mode": "lines",
         "name": "Node 92",
         "type": "scatter",
         "x": [
          90.31381765524445,
          90.19356292470788
         ],
         "y": [
          38.335827267696345,
          38.3493087340757
         ]
        },
        {
         "marker": {
          "color": "black",
          "line": {
           "color": "black",
           "width": 1
          },
          "size": 10
         },
         "mode": "lines",
         "name": "Node 93",
         "type": "scatter",
         "x": [
          19.405575345092686,
          19.040216557919184
         ],
         "y": [
          64.8739835674054,
          65.80499583650182
         ]
        },
        {
         "marker": {
          "color": "black",
          "line": {
           "color": "black",
           "width": 1
          },
          "size": 10
         },
         "mode": "lines",
         "name": "Node 94",
         "type": "scatter",
         "x": [
          17.920332137961836,
          18.320618505402912
         ],
         "y": [
          45.40658875808734,
          44.642461889650576
         ]
        },
        {
         "marker": {
          "color": "black",
          "line": {
           "color": "black",
           "width": 1
          },
          "size": 10
         },
         "mode": "lines",
         "name": "Node 95",
         "type": "scatter",
         "x": [
          15.175686773631769,
          16.334080863539967
         ],
         "y": [
          98.44314122708643,
          97.61873318727739
         ]
        },
        {
         "marker": {
          "color": "black",
          "line": {
           "color": "black",
           "width": 1
          },
          "size": 10
         },
         "mode": "lines",
         "name": "Node 96",
         "type": "scatter",
         "x": [
          35.15860578673671,
          35.48119056188083
         ],
         "y": [
          93.21016712252525,
          94.59078838409346
         ]
        },
        {
         "marker": {
          "color": "black",
          "line": {
           "color": "black",
           "width": 1
          },
          "size": 10
         },
         "mode": "lines",
         "name": "Node 97",
         "type": "scatter",
         "x": [
          86.07556595731184,
          85.75441769301001
         ],
         "y": [
          73.82861539854542,
          75.46638130825573
         ]
        },
        {
         "marker": {
          "color": "black",
          "line": {
           "color": "black",
           "width": 1
          },
          "size": 10
         },
         "mode": "lines",
         "name": "Node 98",
         "type": "scatter",
         "x": [
          17.588048361782327,
          18.114548781606878
         ],
         "y": [
          52.01548238174328,
          52.59633873151942
         ]
        },
        {
         "marker": {
          "color": "black",
          "line": {
           "color": "black",
           "width": 1
          },
          "size": 10
         },
         "mode": "lines",
         "name": "Node 99",
         "type": "scatter",
         "x": [
          20.829480095528496,
          20.551942704362546
         ],
         "y": [
          49.32757682911514,
          49.61526142968423
         ]
        }
       ],
       "layout": {
        "template": {
         "data": {
          "bar": [
           {
            "error_x": {
             "color": "#2a3f5f"
            },
            "error_y": {
             "color": "#2a3f5f"
            },
            "marker": {
             "line": {
              "color": "#E5ECF6",
              "width": 0.5
             }
            },
            "type": "bar"
           }
          ],
          "barpolar": [
           {
            "marker": {
             "line": {
              "color": "#E5ECF6",
              "width": 0.5
             }
            },
            "type": "barpolar"
           }
          ],
          "carpet": [
           {
            "aaxis": {
             "endlinecolor": "#2a3f5f",
             "gridcolor": "white",
             "linecolor": "white",
             "minorgridcolor": "white",
             "startlinecolor": "#2a3f5f"
            },
            "baxis": {
             "endlinecolor": "#2a3f5f",
             "gridcolor": "white",
             "linecolor": "white",
             "minorgridcolor": "white",
             "startlinecolor": "#2a3f5f"
            },
            "type": "carpet"
           }
          ],
          "choropleth": [
           {
            "colorbar": {
             "outlinewidth": 0,
             "ticks": ""
            },
            "type": "choropleth"
           }
          ],
          "contour": [
           {
            "colorbar": {
             "outlinewidth": 0,
             "ticks": ""
            },
            "colorscale": [
             [
              0,
              "#0d0887"
             ],
             [
              0.1111111111111111,
              "#46039f"
             ],
             [
              0.2222222222222222,
              "#7201a8"
             ],
             [
              0.3333333333333333,
              "#9c179e"
             ],
             [
              0.4444444444444444,
              "#bd3786"
             ],
             [
              0.5555555555555556,
              "#d8576b"
             ],
             [
              0.6666666666666666,
              "#ed7953"
             ],
             [
              0.7777777777777778,
              "#fb9f3a"
             ],
             [
              0.8888888888888888,
              "#fdca26"
             ],
             [
              1,
              "#f0f921"
             ]
            ],
            "type": "contour"
           }
          ],
          "contourcarpet": [
           {
            "colorbar": {
             "outlinewidth": 0,
             "ticks": ""
            },
            "type": "contourcarpet"
           }
          ],
          "heatmap": [
           {
            "colorbar": {
             "outlinewidth": 0,
             "ticks": ""
            },
            "colorscale": [
             [
              0,
              "#0d0887"
             ],
             [
              0.1111111111111111,
              "#46039f"
             ],
             [
              0.2222222222222222,
              "#7201a8"
             ],
             [
              0.3333333333333333,
              "#9c179e"
             ],
             [
              0.4444444444444444,
              "#bd3786"
             ],
             [
              0.5555555555555556,
              "#d8576b"
             ],
             [
              0.6666666666666666,
              "#ed7953"
             ],
             [
              0.7777777777777778,
              "#fb9f3a"
             ],
             [
              0.8888888888888888,
              "#fdca26"
             ],
             [
              1,
              "#f0f921"
             ]
            ],
            "type": "heatmap"
           }
          ],
          "heatmapgl": [
           {
            "colorbar": {
             "outlinewidth": 0,
             "ticks": ""
            },
            "colorscale": [
             [
              0,
              "#0d0887"
             ],
             [
              0.1111111111111111,
              "#46039f"
             ],
             [
              0.2222222222222222,
              "#7201a8"
             ],
             [
              0.3333333333333333,
              "#9c179e"
             ],
             [
              0.4444444444444444,
              "#bd3786"
             ],
             [
              0.5555555555555556,
              "#d8576b"
             ],
             [
              0.6666666666666666,
              "#ed7953"
             ],
             [
              0.7777777777777778,
              "#fb9f3a"
             ],
             [
              0.8888888888888888,
              "#fdca26"
             ],
             [
              1,
              "#f0f921"
             ]
            ],
            "type": "heatmapgl"
           }
          ],
          "histogram": [
           {
            "marker": {
             "colorbar": {
              "outlinewidth": 0,
              "ticks": ""
             }
            },
            "type": "histogram"
           }
          ],
          "histogram2d": [
           {
            "colorbar": {
             "outlinewidth": 0,
             "ticks": ""
            },
            "colorscale": [
             [
              0,
              "#0d0887"
             ],
             [
              0.1111111111111111,
              "#46039f"
             ],
             [
              0.2222222222222222,
              "#7201a8"
             ],
             [
              0.3333333333333333,
              "#9c179e"
             ],
             [
              0.4444444444444444,
              "#bd3786"
             ],
             [
              0.5555555555555556,
              "#d8576b"
             ],
             [
              0.6666666666666666,
              "#ed7953"
             ],
             [
              0.7777777777777778,
              "#fb9f3a"
             ],
             [
              0.8888888888888888,
              "#fdca26"
             ],
             [
              1,
              "#f0f921"
             ]
            ],
            "type": "histogram2d"
           }
          ],
          "histogram2dcontour": [
           {
            "colorbar": {
             "outlinewidth": 0,
             "ticks": ""
            },
            "colorscale": [
             [
              0,
              "#0d0887"
             ],
             [
              0.1111111111111111,
              "#46039f"
             ],
             [
              0.2222222222222222,
              "#7201a8"
             ],
             [
              0.3333333333333333,
              "#9c179e"
             ],
             [
              0.4444444444444444,
              "#bd3786"
             ],
             [
              0.5555555555555556,
              "#d8576b"
             ],
             [
              0.6666666666666666,
              "#ed7953"
             ],
             [
              0.7777777777777778,
              "#fb9f3a"
             ],
             [
              0.8888888888888888,
              "#fdca26"
             ],
             [
              1,
              "#f0f921"
             ]
            ],
            "type": "histogram2dcontour"
           }
          ],
          "mesh3d": [
           {
            "colorbar": {
             "outlinewidth": 0,
             "ticks": ""
            },
            "type": "mesh3d"
           }
          ],
          "parcoords": [
           {
            "line": {
             "colorbar": {
              "outlinewidth": 0,
              "ticks": ""
             }
            },
            "type": "parcoords"
           }
          ],
          "scatter": [
           {
            "marker": {
             "colorbar": {
              "outlinewidth": 0,
              "ticks": ""
             }
            },
            "type": "scatter"
           }
          ],
          "scatter3d": [
           {
            "line": {
             "colorbar": {
              "outlinewidth": 0,
              "ticks": ""
             }
            },
            "marker": {
             "colorbar": {
              "outlinewidth": 0,
              "ticks": ""
             }
            },
            "type": "scatter3d"
           }
          ],
          "scattercarpet": [
           {
            "marker": {
             "colorbar": {
              "outlinewidth": 0,
              "ticks": ""
             }
            },
            "type": "scattercarpet"
           }
          ],
          "scattergeo": [
           {
            "marker": {
             "colorbar": {
              "outlinewidth": 0,
              "ticks": ""
             }
            },
            "type": "scattergeo"
           }
          ],
          "scattergl": [
           {
            "marker": {
             "colorbar": {
              "outlinewidth": 0,
              "ticks": ""
             }
            },
            "type": "scattergl"
           }
          ],
          "scattermapbox": [
           {
            "marker": {
             "colorbar": {
              "outlinewidth": 0,
              "ticks": ""
             }
            },
            "type": "scattermapbox"
           }
          ],
          "scatterpolar": [
           {
            "marker": {
             "colorbar": {
              "outlinewidth": 0,
              "ticks": ""
             }
            },
            "type": "scatterpolar"
           }
          ],
          "scatterpolargl": [
           {
            "marker": {
             "colorbar": {
              "outlinewidth": 0,
              "ticks": ""
             }
            },
            "type": "scatterpolargl"
           }
          ],
          "scatterternary": [
           {
            "marker": {
             "colorbar": {
              "outlinewidth": 0,
              "ticks": ""
             }
            },
            "type": "scatterternary"
           }
          ],
          "surface": [
           {
            "colorbar": {
             "outlinewidth": 0,
             "ticks": ""
            },
            "colorscale": [
             [
              0,
              "#0d0887"
             ],
             [
              0.1111111111111111,
              "#46039f"
             ],
             [
              0.2222222222222222,
              "#7201a8"
             ],
             [
              0.3333333333333333,
              "#9c179e"
             ],
             [
              0.4444444444444444,
              "#bd3786"
             ],
             [
              0.5555555555555556,
              "#d8576b"
             ],
             [
              0.6666666666666666,
              "#ed7953"
             ],
             [
              0.7777777777777778,
              "#fb9f3a"
             ],
             [
              0.8888888888888888,
              "#fdca26"
             ],
             [
              1,
              "#f0f921"
             ]
            ],
            "type": "surface"
           }
          ],
          "table": [
           {
            "cells": {
             "fill": {
              "color": "#EBF0F8"
             },
             "line": {
              "color": "white"
             }
            },
            "header": {
             "fill": {
              "color": "#C8D4E3"
             },
             "line": {
              "color": "white"
             }
            },
            "type": "table"
           }
          ]
         },
         "layout": {
          "annotationdefaults": {
           "arrowcolor": "#2a3f5f",
           "arrowhead": 0,
           "arrowwidth": 1
          },
          "colorscale": {
           "diverging": [
            [
             0,
             "#8e0152"
            ],
            [
             0.1,
             "#c51b7d"
            ],
            [
             0.2,
             "#de77ae"
            ],
            [
             0.3,
             "#f1b6da"
            ],
            [
             0.4,
             "#fde0ef"
            ],
            [
             0.5,
             "#f7f7f7"
            ],
            [
             0.6,
             "#e6f5d0"
            ],
            [
             0.7,
             "#b8e186"
            ],
            [
             0.8,
             "#7fbc41"
            ],
            [
             0.9,
             "#4d9221"
            ],
            [
             1,
             "#276419"
            ]
           ],
           "sequential": [
            [
             0,
             "#0d0887"
            ],
            [
             0.1111111111111111,
             "#46039f"
            ],
            [
             0.2222222222222222,
             "#7201a8"
            ],
            [
             0.3333333333333333,
             "#9c179e"
            ],
            [
             0.4444444444444444,
             "#bd3786"
            ],
            [
             0.5555555555555556,
             "#d8576b"
            ],
            [
             0.6666666666666666,
             "#ed7953"
            ],
            [
             0.7777777777777778,
             "#fb9f3a"
            ],
            [
             0.8888888888888888,
             "#fdca26"
            ],
            [
             1,
             "#f0f921"
            ]
           ],
           "sequentialminus": [
            [
             0,
             "#0d0887"
            ],
            [
             0.1111111111111111,
             "#46039f"
            ],
            [
             0.2222222222222222,
             "#7201a8"
            ],
            [
             0.3333333333333333,
             "#9c179e"
            ],
            [
             0.4444444444444444,
             "#bd3786"
            ],
            [
             0.5555555555555556,
             "#d8576b"
            ],
            [
             0.6666666666666666,
             "#ed7953"
            ],
            [
             0.7777777777777778,
             "#fb9f3a"
            ],
            [
             0.8888888888888888,
             "#fdca26"
            ],
            [
             1,
             "#f0f921"
            ]
           ]
          },
          "colorway": [
           "#636efa",
           "#EF553B",
           "#00cc96",
           "#ab63fa",
           "#FFA15A",
           "#19d3f3",
           "#FF6692",
           "#B6E880",
           "#FF97FF",
           "#FECB52"
          ],
          "font": {
           "color": "#2a3f5f"
          },
          "geo": {
           "bgcolor": "white",
           "lakecolor": "white",
           "landcolor": "#E5ECF6",
           "showlakes": true,
           "showland": true,
           "subunitcolor": "white"
          },
          "hoverlabel": {
           "align": "left"
          },
          "hovermode": "closest",
          "mapbox": {
           "style": "light"
          },
          "paper_bgcolor": "white",
          "plot_bgcolor": "#E5ECF6",
          "polar": {
           "angularaxis": {
            "gridcolor": "white",
            "linecolor": "white",
            "ticks": ""
           },
           "bgcolor": "#E5ECF6",
           "radialaxis": {
            "gridcolor": "white",
            "linecolor": "white",
            "ticks": ""
           }
          },
          "scene": {
           "xaxis": {
            "backgroundcolor": "#E5ECF6",
            "gridcolor": "white",
            "gridwidth": 2,
            "linecolor": "white",
            "showbackground": true,
            "ticks": "",
            "zerolinecolor": "white"
           },
           "yaxis": {
            "backgroundcolor": "#E5ECF6",
            "gridcolor": "white",
            "gridwidth": 2,
            "linecolor": "white",
            "showbackground": true,
            "ticks": "",
            "zerolinecolor": "white"
           },
           "zaxis": {
            "backgroundcolor": "#E5ECF6",
            "gridcolor": "white",
            "gridwidth": 2,
            "linecolor": "white",
            "showbackground": true,
            "ticks": "",
            "zerolinecolor": "white"
           }
          },
          "shapedefaults": {
           "line": {
            "color": "#2a3f5f"
           }
          },
          "ternary": {
           "aaxis": {
            "gridcolor": "white",
            "linecolor": "white",
            "ticks": ""
           },
           "baxis": {
            "gridcolor": "white",
            "linecolor": "white",
            "ticks": ""
           },
           "bgcolor": "#E5ECF6",
           "caxis": {
            "gridcolor": "white",
            "linecolor": "white",
            "ticks": ""
           }
          },
          "title": {
           "x": 0.05
          },
          "xaxis": {
           "automargin": true,
           "gridcolor": "white",
           "linecolor": "white",
           "ticks": "",
           "zerolinecolor": "white",
           "zerolinewidth": 2
          },
          "yaxis": {
           "automargin": true,
           "gridcolor": "white",
           "linecolor": "white",
           "ticks": "",
           "zerolinecolor": "white",
           "zerolinewidth": 2
          }
         }
        }
       }
      },
      "text/html": [
       "<div>\n",
       "        \n",
       "        \n",
       "            <div id=\"fff44ffc-825a-4fd4-aa20-54c7b948f326\" class=\"plotly-graph-div\" style=\"height:525px; width:100%;\"></div>\n",
       "            <script type=\"text/javascript\">\n",
       "                require([\"plotly\"], function(Plotly) {\n",
       "                    window.PLOTLYENV=window.PLOTLYENV || {};\n",
       "                    \n",
       "                if (document.getElementById(\"fff44ffc-825a-4fd4-aa20-54c7b948f326\")) {\n",
       "                    Plotly.newPlot(\n",
       "                        'fff44ffc-825a-4fd4-aa20-54c7b948f326',\n",
       "                        [{\"marker\": {\"color\": \"red\", \"size\": 5}, \"mode\": \"markers\", \"name\": \"Correct Location\", \"type\": \"scatter\", \"x\": [93.54221925094348, 32.46525503047148, 22.49033225066569, 36.15292095912236, 65.98361737558925, 60.6579540629371, 42.935493588151985, 45.916775850680736, 34.069006404218506, 78.61262211391661, 28.49321398442125, 9.210921022760488, 57.26029280753485, 15.393176714882618, 58.724757962559636, 94.82533998624008, 52.80042391325503, 32.288107584758265, 96.51162492470058, 90.4223776117667, 60.50359729167318, 9.458251034646036, 53.15061133227148, 33.410711199936394, 2.9926407136840583, 90.63205502822633, 27.997847119213315, 74.02378809739639, 1.4880439124536515, 56.30838340047821, 22.50272484808422, 37.00809662162781, 59.30685441005503, 97.39577339375307, 46.54345963368029, 72.17112802704962, 89.36257697592644, 39.98013629883683, 77.84121421594702, 35.30215194298398, 94.60867987076465, 48.419360797614175, 91.68263410076696, 43.40116717081841, 24.859338243663252, 7.510174364895484, 23.464304985502704, 88.51786078566363, 13.476796983087802, 95.35378360361527, 59.606395112219225, 39.267316699025926, 12.782838268639008, 75.23355353068776, 13.645618578630236, 91.80117567895947, 54.893528872822074, 45.88687139758196, 56.15797590367059, 4.674944202154519, 29.759529529886773, 43.4504148275378, 47.95424429480683, 99.13342909762457, 73.99994482912537, 22.842077682942673, 64.40108010403355, 14.517908459076844, 11.282826132033074, 70.37904520439572, 27.958369584168185, 73.35219635694853, 25.751087134320116, 26.02026462194562, 96.63013169605344, 38.13875422041198, 11.41963495597177, 3.2853764345661562, 99.05719214023533, 83.7864336393738, 58.487551805129534, 90.31381765524445, 19.405575345092686, 17.920332137961836, 15.175686773631769, 35.15860578673671, 86.07556595731184, 17.588048361782327, 20.829480095528496], \"y\": [63.17429487819756, 99.4537014834545, 25.19291255030176, 4.7377761683564, 26.289211373546628, 0.30574945559650457, 32.73390465609393, 74.87885412745881, 14.46923732857045, 52.824737529925784, 72.01190201232556, 15.15818175933008, 15.449604553159125, 83.65524330589113, 30.560004273866703, 65.05188625115429, 21.155498669261984, 32.408069199322995, 81.21578935365916, 38.274430140733884, 29.54472896189403, 94.91223803138273, 25.7105648458403, 27.305451932418954, 40.5621854435927, 29.65424483733542, 51.718118432014805, 58.833805367354216, 76.32619597888565, 7.339622738829421, 10.940878829507195, 82.41502062644311, 43.81462813772372, 27.011492162337813, 76.18935665490085, 17.96658497935012, 96.04471460012498, 6.1962564098920865, 50.48003388486993, 47.26833164216243, 88.69828080212055, 7.3542867321658605, 32.8158924772003, 39.214395520210054, 17.73195606905813, 60.399971405281235, 56.843887815982576, 52.75302636457061, 35.61617877122363, 28.381243535731194, 29.348279607276282, 16.15315439989563, 9.06834613640367, 17.827744106314647, 6.899840464352813, 17.419380574121735, 67.58103998752651, 90.85260199654181, 57.998005441951314, 96.80774255797971, 52.623885383182134, 55.111681211938524, 25.984308171574554, 97.59011266735496, 99.48640738972551, 8.915998115990654, 57.305377636464016, 26.030229920752333, 30.75404363199712, 32.893741014138655, 73.59001559990747, 93.60055900967383, 92.63137712503435, 59.82077829414171, 18.370629134457005, 45.890939677697126, 36.55168682054472, 98.60823148080867, 73.00480974582962, 46.258903448157525, 15.304230392491347, 38.335827267696345, 64.8739835674054, 45.40658875808734, 98.44314122708643, 93.21016712252525, 73.82861539854542, 52.01548238174328, 49.32757682911514]}, {\"marker\": {\"color\": \"blue\", \"size\": 5}, \"mode\": \"markers\", \"name\": \"Estimated Nodes\", \"type\": \"scatter\", \"x\": [94.8849998267786, 32.523666026380575, 19.38448377971038, 36.3262677307971, 67.68898593060271, 62.526375591401916, 45.09049611025019, 44.50044818861871, 34.18095195634192, 77.78083009986118, 54.73685216407734, 9.84761100188456, 57.16897027904894, 13.45860225918277, 59.220339119907635, 96.4355520442906, 50.49351722816545, 33.93314478254509, 94.02382338500946, 89.3574122457474, 59.44564820079247, 11.340613467498889, 53.328611592151354, 33.54410941083716, 1.7551320531472132, 90.08588336274413, 28.209847140970606, 72.75212842705356, 4.164271854650923, 58.574827282818255, 22.47185784206548, 36.73748154974488, 57.75147249496589, 98.32725167074705, 45.957029484242206, 57.255905418133814, 92.04661743752293, 39.34441220106124, 77.67817250392254, 35.69322968161949, 96.75728486978862, 48.80353146027875, 93.2891095690123, 45.49079709422326, 25.844782274123173, 5.962312533426743, 23.437232005161064, 89.81151083672007, 13.240054495341655, 96.06536164873235, 60.17729105470587, 38.66163855655957, 11.984682123899539, 74.15137628035973, 14.5969559315836, 90.97848344612565, 55.785699539150066, 45.59550709855887, 57.15672521499775, 6.646072505689344, 30.164322427336824, 42.44558237335607, 48.63651793164744, 100.07638209145615, 72.29584409789409, 20.79988468566327, 64.37263069086882, 15.509058519000682, 12.70395994122157, 70.81212642241994, 26.64933636313316, 71.55293975161021, 45.0838171525806, 26.421622882525895, 97.26616302123682, 35.69458967762939, 13.318818427614865, 1.8033454591826181, 95.67229264271121, 83.6728649569092, 56.39458925836494, 90.19356292470788, 19.040216557919184, 18.320618505402912, 16.334080863539967, 35.48119056188083, 85.75441769301001, 18.114548781606878, 20.551942704362546], \"y\": [64.08443483219357, 100.63388242947003, 25.42776659976863, 5.836386085386326, 24.690591501432753, 0.12204878887188819, 33.94133151672144, 75.91743040627144, 17.098681300570448, 52.0669084911334, 57.80233188887197, 17.194191098756175, 13.464036704507492, 83.87070402561316, 27.386186564374125, 64.53646661296546, 19.403419162349635, 29.777891043164487, 79.78052806842001, 39.88661354995447, 28.44230069476537, 94.32066052653691, 25.796339993350703, 27.951337572857735, 40.78613792591471, 29.273972576029532, 49.80865443824703, 58.57923779944019, 76.0015989377922, 6.359804179694504, 13.982442656155088, 84.21423443028122, 42.33757775257526, 27.48784614993576, 76.73916738557281, 29.41785868171492, 98.30536908854651, 3.9100902377258677, 50.95928356064574, 45.93049878957472, 90.13297517983024, 7.157189171363275, 35.132365525957205, 49.16389688436237, 18.01742127705306, 60.818169680572645, 56.3091938843327, 54.20600994895211, 33.39215538353739, 30.30750963982075, 30.695128654909215, 15.741211640684767, 7.883398819457379, 15.452883572235805, 8.833214821761242, 19.141469831788587, 66.7714555867163, 89.33905875991202, 58.018116821552404, 99.55608903733686, 51.45758939163778, 55.32596825674445, 28.26747638172095, 98.52503027178805, 100.1739185306962, 10.831618663046102, 62.357381584563235, 27.3020153560938, 31.070395661442248, 35.15551823185763, 72.94594524481957, 95.26243291335999, 71.7970135429031, 58.79090542277385, 17.295580458573887, 44.41139264742272, 37.89094458034015, 98.23075137382496, 73.24535000193423, 47.37948061250458, 14.757820269493601, 38.3493087340757, 65.80499583650182, 44.642461889650576, 97.61873318727739, 94.59078838409346, 75.46638130825573, 52.59633873151942, 49.61526142968423]}, {\"marker\": {\"color\": \"black\", \"size\": 5}, \"mode\": \"markers\", \"name\": \"Black Nodes (1)\", \"type\": \"scatter\", \"x\": [94.34402572551707], \"y\": [1.084864347850012]}, {\"marker\": {\"color\": \"black\", \"line\": {\"color\": \"black\", \"width\": 1}, \"size\": 10}, \"mode\": \"lines\", \"name\": \"Node 10\", \"type\": \"scatter\", \"x\": [93.54221925094348, 94.8849998267786], \"y\": [63.17429487819756, 64.08443483219357]}, {\"marker\": {\"color\": \"black\", \"line\": {\"color\": \"black\", \"width\": 1}, \"size\": 10}, \"mode\": \"lines\", \"name\": \"Node 11\", \"type\": \"scatter\", \"x\": [32.46525503047148, 32.523666026380575], \"y\": [99.4537014834545, 100.63388242947003]}, {\"marker\": {\"color\": \"black\", \"line\": {\"color\": \"black\", \"width\": 1}, \"size\": 10}, \"mode\": \"lines\", \"name\": \"Node 12\", \"type\": \"scatter\", \"x\": [22.49033225066569, 19.38448377971038], \"y\": [25.19291255030176, 25.42776659976863]}, {\"marker\": {\"color\": \"black\", \"line\": {\"color\": \"black\", \"width\": 1}, \"size\": 10}, \"mode\": \"lines\", \"name\": \"Node 13\", \"type\": \"scatter\", \"x\": [36.15292095912236, 36.3262677307971], \"y\": [4.7377761683564, 5.836386085386326]}, {\"marker\": {\"color\": \"black\", \"line\": {\"color\": \"black\", \"width\": 1}, \"size\": 10}, \"mode\": \"lines\", \"name\": \"Node 14\", \"type\": \"scatter\", \"x\": [65.98361737558925, 67.68898593060271], \"y\": [26.289211373546628, 24.690591501432753]}, {\"marker\": {\"color\": \"black\", \"line\": {\"color\": \"black\", \"width\": 1}, \"size\": 10}, \"mode\": \"lines\", \"name\": \"Node 15\", \"type\": \"scatter\", \"x\": [60.6579540629371, 62.526375591401916], \"y\": [0.30574945559650457, 0.12204878887188819]}, {\"marker\": {\"color\": \"black\", \"line\": {\"color\": \"black\", \"width\": 1}, \"size\": 10}, \"mode\": \"lines\", \"name\": \"Node 16\", \"type\": \"scatter\", \"x\": [42.935493588151985, 45.09049611025019], \"y\": [32.73390465609393, 33.94133151672144]}, {\"marker\": {\"color\": \"black\", \"line\": {\"color\": \"black\", \"width\": 1}, \"size\": 10}, \"mode\": \"lines\", \"name\": \"Node 17\", \"type\": \"scatter\", \"x\": [45.916775850680736, 44.50044818861871], \"y\": [74.87885412745881, 75.91743040627144]}, {\"marker\": {\"color\": \"black\", \"line\": {\"color\": \"black\", \"width\": 1}, \"size\": 10}, \"mode\": \"lines\", \"name\": \"Node 18\", \"type\": \"scatter\", \"x\": [34.069006404218506, 34.18095195634192], \"y\": [14.46923732857045, 17.098681300570448]}, {\"marker\": {\"color\": \"black\", \"line\": {\"color\": \"black\", \"width\": 1}, \"size\": 10}, \"mode\": \"lines\", \"name\": \"Node 19\", \"type\": \"scatter\", \"x\": [78.61262211391661, 77.78083009986118], \"y\": [52.824737529925784, 52.0669084911334]}, {\"marker\": {\"color\": \"black\", \"line\": {\"color\": \"black\", \"width\": 1}, \"size\": 10}, \"mode\": \"lines\", \"name\": \"Node 20\", \"type\": \"scatter\", \"x\": [28.49321398442125, 54.73685216407734], \"y\": [72.01190201232556, 57.80233188887197]}, {\"marker\": {\"color\": \"black\", \"line\": {\"color\": \"black\", \"width\": 1}, \"size\": 10}, \"mode\": \"lines\", \"name\": \"Node 21\", \"type\": \"scatter\", \"x\": [9.210921022760488, 9.84761100188456], \"y\": [15.15818175933008, 17.194191098756175]}, {\"marker\": {\"color\": \"black\", \"line\": {\"color\": \"black\", \"width\": 1}, \"size\": 10}, \"mode\": \"lines\", \"name\": \"Node 22\", \"type\": \"scatter\", \"x\": [57.26029280753485, 57.16897027904894], \"y\": [15.449604553159125, 13.464036704507492]}, {\"marker\": {\"color\": \"black\", \"line\": {\"color\": \"black\", \"width\": 1}, \"size\": 10}, \"mode\": \"lines\", \"name\": \"Node 23\", \"type\": \"scatter\", \"x\": [15.393176714882618, 13.45860225918277], \"y\": [83.65524330589113, 83.87070402561316]}, {\"marker\": {\"color\": \"black\", \"line\": {\"color\": \"black\", \"width\": 1}, \"size\": 10}, \"mode\": \"lines\", \"name\": \"Node 24\", \"type\": \"scatter\", \"x\": [58.724757962559636, 59.220339119907635], \"y\": [30.560004273866703, 27.386186564374125]}, {\"marker\": {\"color\": \"black\", \"line\": {\"color\": \"black\", \"width\": 1}, \"size\": 10}, \"mode\": \"lines\", \"name\": \"Node 25\", \"type\": \"scatter\", \"x\": [94.82533998624008, 96.4355520442906], \"y\": [65.05188625115429, 64.53646661296546]}, {\"marker\": {\"color\": \"black\", \"line\": {\"color\": \"black\", \"width\": 1}, \"size\": 10}, \"mode\": \"lines\", \"name\": \"Node 26\", \"type\": \"scatter\", \"x\": [52.80042391325503, 50.49351722816545], \"y\": [21.155498669261984, 19.403419162349635]}, {\"marker\": {\"color\": \"black\", \"line\": {\"color\": \"black\", \"width\": 1}, \"size\": 10}, \"mode\": \"lines\", \"name\": \"Node 27\", \"type\": \"scatter\", \"x\": [32.288107584758265, 33.93314478254509], \"y\": [32.408069199322995, 29.777891043164487]}, {\"marker\": {\"color\": \"black\", \"line\": {\"color\": \"black\", \"width\": 1}, \"size\": 10}, \"mode\": \"lines\", \"name\": \"Node 28\", \"type\": \"scatter\", \"x\": [96.51162492470058, 94.02382338500946], \"y\": [81.21578935365916, 79.78052806842001]}, {\"marker\": {\"color\": \"black\", \"line\": {\"color\": \"black\", \"width\": 1}, \"size\": 10}, \"mode\": \"lines\", \"name\": \"Node 29\", \"type\": \"scatter\", \"x\": [90.4223776117667, 89.3574122457474], \"y\": [38.274430140733884, 39.88661354995447]}, {\"marker\": {\"color\": \"black\", \"line\": {\"color\": \"black\", \"width\": 1}, \"size\": 10}, \"mode\": \"lines\", \"name\": \"Node 30\", \"type\": \"scatter\", \"x\": [60.50359729167318, 59.44564820079247], \"y\": [29.54472896189403, 28.44230069476537]}, {\"marker\": {\"color\": \"black\", \"line\": {\"color\": \"black\", \"width\": 1}, \"size\": 10}, \"mode\": \"lines\", \"name\": \"Node 31\", \"type\": \"scatter\", \"x\": [9.458251034646036, 11.340613467498889], \"y\": [94.91223803138273, 94.32066052653691]}, {\"marker\": {\"color\": \"black\", \"line\": {\"color\": \"black\", \"width\": 1}, \"size\": 10}, \"mode\": \"lines\", \"name\": \"Node 32\", \"type\": \"scatter\", \"x\": [53.15061133227148, 53.328611592151354], \"y\": [25.7105648458403, 25.796339993350703]}, {\"marker\": {\"color\": \"black\", \"line\": {\"color\": \"black\", \"width\": 1}, \"size\": 10}, \"mode\": \"lines\", \"name\": \"Node 33\", \"type\": \"scatter\", \"x\": [33.410711199936394, 33.54410941083716], \"y\": [27.305451932418954, 27.951337572857735]}, {\"marker\": {\"color\": \"black\", \"line\": {\"color\": \"black\", \"width\": 1}, \"size\": 10}, \"mode\": \"lines\", \"name\": \"Node 34\", \"type\": \"scatter\", \"x\": [2.9926407136840583, 1.7551320531472132], \"y\": [40.5621854435927, 40.78613792591471]}, {\"marker\": {\"color\": \"black\", \"line\": {\"color\": \"black\", \"width\": 1}, \"size\": 10}, \"mode\": \"lines\", \"name\": \"Node 35\", \"type\": \"scatter\", \"x\": [90.63205502822633, 90.08588336274413], \"y\": [29.65424483733542, 29.273972576029532]}, {\"marker\": {\"color\": \"black\", \"line\": {\"color\": \"black\", \"width\": 1}, \"size\": 10}, \"mode\": \"lines\", \"name\": \"Node 36\", \"type\": \"scatter\", \"x\": [27.997847119213315, 28.209847140970606], \"y\": [51.718118432014805, 49.80865443824703]}, {\"marker\": {\"color\": \"black\", \"line\": {\"color\": \"black\", \"width\": 1}, \"size\": 10}, \"mode\": \"lines\", \"name\": \"Node 37\", \"type\": \"scatter\", \"x\": [74.02378809739639, 72.75212842705356], \"y\": [58.833805367354216, 58.57923779944019]}, {\"marker\": {\"color\": \"black\", \"line\": {\"color\": \"black\", \"width\": 1}, \"size\": 10}, \"mode\": \"lines\", \"name\": \"Node 38\", \"type\": \"scatter\", \"x\": [1.4880439124536515, 4.164271854650923], \"y\": [76.32619597888565, 76.0015989377922]}, {\"marker\": {\"color\": \"black\", \"line\": {\"color\": \"black\", \"width\": 1}, \"size\": 10}, \"mode\": \"lines\", \"name\": \"Node 39\", \"type\": \"scatter\", \"x\": [56.30838340047821, 58.574827282818255], \"y\": [7.339622738829421, 6.359804179694504]}, {\"marker\": {\"color\": \"black\", \"line\": {\"color\": \"black\", \"width\": 1}, \"size\": 10}, \"mode\": \"lines\", \"name\": \"Node 40\", \"type\": \"scatter\", \"x\": [22.50272484808422, 22.47185784206548], \"y\": [10.940878829507195, 13.982442656155088]}, {\"marker\": {\"color\": \"black\", \"line\": {\"color\": \"black\", \"width\": 1}, \"size\": 10}, \"mode\": \"lines\", \"name\": \"Node 41\", \"type\": \"scatter\", \"x\": [37.00809662162781, 36.73748154974488], \"y\": [82.41502062644311, 84.21423443028122]}, {\"marker\": {\"color\": \"black\", \"line\": {\"color\": \"black\", \"width\": 1}, \"size\": 10}, \"mode\": \"lines\", \"name\": \"Node 42\", \"type\": \"scatter\", \"x\": [59.30685441005503, 57.75147249496589], \"y\": [43.81462813772372, 42.33757775257526]}, {\"marker\": {\"color\": \"black\", \"line\": {\"color\": \"black\", \"width\": 1}, \"size\": 10}, \"mode\": \"lines\", \"name\": \"Node 43\", \"type\": \"scatter\", \"x\": [97.39577339375307, 98.32725167074705], \"y\": [27.011492162337813, 27.48784614993576]}, {\"marker\": {\"color\": \"black\", \"line\": {\"color\": \"black\", \"width\": 1}, \"size\": 10}, \"mode\": \"lines\", \"name\": \"Node 44\", \"type\": \"scatter\", \"x\": [46.54345963368029, 45.957029484242206], \"y\": [76.18935665490085, 76.73916738557281]}, {\"marker\": {\"color\": \"black\", \"line\": {\"color\": \"black\", \"width\": 1}, \"size\": 10}, \"mode\": \"lines\", \"name\": \"Node 45\", \"type\": \"scatter\", \"x\": [72.17112802704962, 57.255905418133814], \"y\": [17.96658497935012, 29.41785868171492]}, {\"marker\": {\"color\": \"black\", \"line\": {\"color\": \"black\", \"width\": 1}, \"size\": 10}, \"mode\": \"lines\", \"name\": \"Node 46\", \"type\": \"scatter\", \"x\": [89.36257697592644, 92.04661743752293], \"y\": [96.04471460012498, 98.30536908854651]}, {\"marker\": {\"color\": \"black\", \"line\": {\"color\": \"black\", \"width\": 1}, \"size\": 10}, \"mode\": \"lines\", \"name\": \"Node 47\", \"type\": \"scatter\", \"x\": [39.98013629883683, 39.34441220106124], \"y\": [6.1962564098920865, 3.9100902377258677]}, {\"marker\": {\"color\": \"black\", \"line\": {\"color\": \"black\", \"width\": 1}, \"size\": 10}, \"mode\": \"lines\", \"name\": \"Node 48\", \"type\": \"scatter\", \"x\": [77.84121421594702, 77.67817250392254], \"y\": [50.48003388486993, 50.95928356064574]}, {\"marker\": {\"color\": \"black\", \"line\": {\"color\": \"black\", \"width\": 1}, \"size\": 10}, \"mode\": \"lines\", \"name\": \"Node 49\", \"type\": \"scatter\", \"x\": [35.30215194298398, 35.69322968161949], \"y\": [47.26833164216243, 45.93049878957472]}, {\"marker\": {\"color\": \"black\", \"line\": {\"color\": \"black\", \"width\": 1}, \"size\": 10}, \"mode\": \"lines\", \"name\": \"Node 50\", \"type\": \"scatter\", \"x\": [94.60867987076465, 96.75728486978862], \"y\": [88.69828080212055, 90.13297517983024]}, {\"marker\": {\"color\": \"black\", \"line\": {\"color\": \"black\", \"width\": 1}, \"size\": 10}, \"mode\": \"lines\", \"name\": \"Node 51\", \"type\": \"scatter\", \"x\": [48.419360797614175, 48.80353146027875], \"y\": [7.3542867321658605, 7.157189171363275]}, {\"marker\": {\"color\": \"black\", \"line\": {\"color\": \"black\", \"width\": 1}, \"size\": 10}, \"mode\": \"lines\", \"name\": \"Node 52\", \"type\": \"scatter\", \"x\": [91.68263410076696, 93.2891095690123], \"y\": [32.8158924772003, 35.132365525957205]}, {\"marker\": {\"color\": \"black\", \"line\": {\"color\": \"black\", \"width\": 1}, \"size\": 10}, \"mode\": \"lines\", \"name\": \"Node 53\", \"type\": \"scatter\", \"x\": [43.40116717081841, 45.49079709422326], \"y\": [39.214395520210054, 49.16389688436237]}, {\"marker\": {\"color\": \"black\", \"line\": {\"color\": \"black\", \"width\": 1}, \"size\": 10}, \"mode\": \"lines\", \"name\": \"Node 54\", \"type\": \"scatter\", \"x\": [24.859338243663252, 25.844782274123173], \"y\": [17.73195606905813, 18.01742127705306]}, {\"marker\": {\"color\": \"black\", \"line\": {\"color\": \"black\", \"width\": 1}, \"size\": 10}, \"mode\": \"lines\", \"name\": \"Node 55\", \"type\": \"scatter\", \"x\": [7.510174364895484, 5.962312533426743], \"y\": [60.399971405281235, 60.818169680572645]}, {\"marker\": {\"color\": \"black\", \"line\": {\"color\": \"black\", \"width\": 1}, \"size\": 10}, \"mode\": \"lines\", \"name\": \"Node 56\", \"type\": \"scatter\", \"x\": [23.464304985502704, 23.437232005161064], \"y\": [56.843887815982576, 56.3091938843327]}, {\"marker\": {\"color\": \"black\", \"line\": {\"color\": \"black\", \"width\": 1}, \"size\": 10}, \"mode\": \"lines\", \"name\": \"Node 57\", \"type\": \"scatter\", \"x\": [88.51786078566363, 89.81151083672007], \"y\": [52.75302636457061, 54.20600994895211]}, {\"marker\": {\"color\": \"black\", \"line\": {\"color\": \"black\", \"width\": 1}, \"size\": 10}, \"mode\": \"lines\", \"name\": \"Node 58\", \"type\": \"scatter\", \"x\": [13.476796983087802, 13.240054495341655], \"y\": [35.61617877122363, 33.39215538353739]}, {\"marker\": {\"color\": \"black\", \"line\": {\"color\": \"black\", \"width\": 1}, \"size\": 10}, \"mode\": \"lines\", \"name\": \"Node 59\", \"type\": \"scatter\", \"x\": [95.35378360361527, 96.06536164873235], \"y\": [28.381243535731194, 30.30750963982075]}, {\"marker\": {\"color\": \"black\", \"line\": {\"color\": \"black\", \"width\": 1}, \"size\": 10}, \"mode\": \"lines\", \"name\": \"Node 60\", \"type\": \"scatter\", \"x\": [59.606395112219225, 60.17729105470587], \"y\": [29.348279607276282, 30.695128654909215]}, {\"marker\": {\"color\": \"black\", \"line\": {\"color\": \"black\", \"width\": 1}, \"size\": 10}, \"mode\": \"lines\", \"name\": \"Node 62\", \"type\": \"scatter\", \"x\": [39.267316699025926, 38.66163855655957], \"y\": [16.15315439989563, 15.741211640684767]}, {\"marker\": {\"color\": \"black\", \"line\": {\"color\": \"black\", \"width\": 1}, \"size\": 10}, \"mode\": \"lines\", \"name\": \"Node 63\", \"type\": \"scatter\", \"x\": [12.782838268639008, 11.984682123899539], \"y\": [9.06834613640367, 7.883398819457379]}, {\"marker\": {\"color\": \"black\", \"line\": {\"color\": \"black\", \"width\": 1}, \"size\": 10}, \"mode\": \"lines\", \"name\": \"Node 64\", \"type\": \"scatter\", \"x\": [75.23355353068776, 74.15137628035973], \"y\": [17.827744106314647, 15.452883572235805]}, {\"marker\": {\"color\": \"black\", \"line\": {\"color\": \"black\", \"width\": 1}, \"size\": 10}, \"mode\": \"lines\", \"name\": \"Node 65\", \"type\": \"scatter\", \"x\": [13.645618578630236, 14.5969559315836], \"y\": [6.899840464352813, 8.833214821761242]}, {\"marker\": {\"color\": \"black\", \"line\": {\"color\": \"black\", \"width\": 1}, \"size\": 10}, \"mode\": \"lines\", \"name\": \"Node 66\", \"type\": \"scatter\", \"x\": [91.80117567895947, 90.97848344612565], \"y\": [17.419380574121735, 19.141469831788587]}, {\"marker\": {\"color\": \"black\", \"line\": {\"color\": \"black\", \"width\": 1}, \"size\": 10}, \"mode\": \"lines\", \"name\": \"Node 67\", \"type\": \"scatter\", \"x\": [54.893528872822074, 55.785699539150066], \"y\": [67.58103998752651, 66.7714555867163]}, {\"marker\": {\"color\": \"black\", \"line\": {\"color\": \"black\", \"width\": 1}, \"size\": 10}, \"mode\": \"lines\", \"name\": \"Node 68\", \"type\": \"scatter\", \"x\": [45.88687139758196, 45.59550709855887], \"y\": [90.85260199654181, 89.33905875991202]}, {\"marker\": {\"color\": \"black\", \"line\": {\"color\": \"black\", \"width\": 1}, \"size\": 10}, \"mode\": \"lines\", \"name\": \"Node 69\", \"type\": \"scatter\", \"x\": [56.15797590367059, 57.15672521499775], \"y\": [57.998005441951314, 58.018116821552404]}, {\"marker\": {\"color\": \"black\", \"line\": {\"color\": \"black\", \"width\": 1}, \"size\": 10}, \"mode\": \"lines\", \"name\": \"Node 70\", \"type\": \"scatter\", \"x\": [4.674944202154519, 6.646072505689344], \"y\": [96.80774255797971, 99.55608903733686]}, {\"marker\": {\"color\": \"black\", \"line\": {\"color\": \"black\", \"width\": 1}, \"size\": 10}, \"mode\": \"lines\", \"name\": \"Node 71\", \"type\": \"scatter\", \"x\": [29.759529529886773, 30.164322427336824], \"y\": [52.623885383182134, 51.45758939163778]}, {\"marker\": {\"color\": \"black\", \"line\": {\"color\": \"black\", \"width\": 1}, \"size\": 10}, \"mode\": \"lines\", \"name\": \"Node 72\", \"type\": \"scatter\", \"x\": [43.4504148275378, 42.44558237335607], \"y\": [55.111681211938524, 55.32596825674445]}, {\"marker\": {\"color\": \"black\", \"line\": {\"color\": \"black\", \"width\": 1}, \"size\": 10}, \"mode\": \"lines\", \"name\": \"Node 73\", \"type\": \"scatter\", \"x\": [47.95424429480683, 48.63651793164744], \"y\": [25.984308171574554, 28.26747638172095]}, {\"marker\": {\"color\": \"black\", \"line\": {\"color\": \"black\", \"width\": 1}, \"size\": 10}, \"mode\": \"lines\", \"name\": \"Node 74\", \"type\": \"scatter\", \"x\": [99.13342909762457, 100.07638209145615], \"y\": [97.59011266735496, 98.52503027178805]}, {\"marker\": {\"color\": \"black\", \"line\": {\"color\": \"black\", \"width\": 1}, \"size\": 10}, \"mode\": \"lines\", \"name\": \"Node 75\", \"type\": \"scatter\", \"x\": [73.99994482912537, 72.29584409789409], \"y\": [99.48640738972551, 100.1739185306962]}, {\"marker\": {\"color\": \"black\", \"line\": {\"color\": \"black\", \"width\": 1}, \"size\": 10}, \"mode\": \"lines\", \"name\": \"Node 76\", \"type\": \"scatter\", \"x\": [22.842077682942673, 20.79988468566327], \"y\": [8.915998115990654, 10.831618663046102]}, {\"marker\": {\"color\": \"black\", \"line\": {\"color\": \"black\", \"width\": 1}, \"size\": 10}, \"mode\": \"lines\", \"name\": \"Node 77\", \"type\": \"scatter\", \"x\": [64.40108010403355, 64.37263069086882], \"y\": [57.305377636464016, 62.357381584563235]}, {\"marker\": {\"color\": \"black\", \"line\": {\"color\": \"black\", \"width\": 1}, \"size\": 10}, \"mode\": \"lines\", \"name\": \"Node 78\", \"type\": \"scatter\", \"x\": [14.517908459076844, 15.509058519000682], \"y\": [26.030229920752333, 27.3020153560938]}, {\"marker\": {\"color\": \"black\", \"line\": {\"color\": \"black\", \"width\": 1}, \"size\": 10}, \"mode\": \"lines\", \"name\": \"Node 79\", \"type\": \"scatter\", \"x\": [11.282826132033074, 12.70395994122157], \"y\": [30.75404363199712, 31.070395661442248]}, {\"marker\": {\"color\": \"black\", \"line\": {\"color\": \"black\", \"width\": 1}, \"size\": 10}, \"mode\": \"lines\", \"name\": \"Node 80\", \"type\": \"scatter\", \"x\": [70.37904520439572, 70.81212642241994], \"y\": [32.893741014138655, 35.15551823185763]}, {\"marker\": {\"color\": \"black\", \"line\": {\"color\": \"black\", \"width\": 1}, \"size\": 10}, \"mode\": \"lines\", \"name\": \"Node 81\", \"type\": \"scatter\", \"x\": [27.958369584168185, 26.64933636313316], \"y\": [73.59001559990747, 72.94594524481957]}, {\"marker\": {\"color\": \"black\", \"line\": {\"color\": \"black\", \"width\": 1}, \"size\": 10}, \"mode\": \"lines\", \"name\": \"Node 82\", \"type\": \"scatter\", \"x\": [73.35219635694853, 71.55293975161021], \"y\": [93.60055900967383, 95.26243291335999]}, {\"marker\": {\"color\": \"black\", \"line\": {\"color\": \"black\", \"width\": 1}, \"size\": 10}, \"mode\": \"lines\", \"name\": \"Node 83\", \"type\": \"scatter\", \"x\": [25.751087134320116, 45.0838171525806], \"y\": [92.63137712503435, 71.7970135429031]}, {\"marker\": {\"color\": \"black\", \"line\": {\"color\": \"black\", \"width\": 1}, \"size\": 10}, \"mode\": \"lines\", \"name\": \"Node 84\", \"type\": \"scatter\", \"x\": [26.02026462194562, 26.421622882525895], \"y\": [59.82077829414171, 58.79090542277385]}, {\"marker\": {\"color\": \"black\", \"line\": {\"color\": \"black\", \"width\": 1}, \"size\": 10}, \"mode\": \"lines\", \"name\": \"Node 85\", \"type\": \"scatter\", \"x\": [96.63013169605344, 97.26616302123682], \"y\": [18.370629134457005, 17.295580458573887]}, {\"marker\": {\"color\": \"black\", \"line\": {\"color\": \"black\", \"width\": 1}, \"size\": 10}, \"mode\": \"lines\", \"name\": \"Node 86\", \"type\": \"scatter\", \"x\": [38.13875422041198, 35.69458967762939], \"y\": [45.890939677697126, 44.41139264742272]}, {\"marker\": {\"color\": \"black\", \"line\": {\"color\": \"black\", \"width\": 1}, \"size\": 10}, \"mode\": \"lines\", \"name\": \"Node 87\", \"type\": \"scatter\", \"x\": [11.41963495597177, 13.318818427614865], \"y\": [36.55168682054472, 37.89094458034015]}, {\"marker\": {\"color\": \"black\", \"line\": {\"color\": \"black\", \"width\": 1}, \"size\": 10}, \"mode\": \"lines\", \"name\": \"Node 88\", \"type\": \"scatter\", \"x\": [3.2853764345661562, 1.8033454591826181], \"y\": [98.60823148080867, 98.23075137382496]}, {\"marker\": {\"color\": \"black\", \"line\": {\"color\": \"black\", \"width\": 1}, \"size\": 10}, \"mode\": \"lines\", \"name\": \"Node 89\", \"type\": \"scatter\", \"x\": [99.05719214023533, 95.67229264271121], \"y\": [73.00480974582962, 73.24535000193423]}, {\"marker\": {\"color\": \"black\", \"line\": {\"color\": \"black\", \"width\": 1}, \"size\": 10}, \"mode\": \"lines\", \"name\": \"Node 90\", \"type\": \"scatter\", \"x\": [83.7864336393738, 83.6728649569092], \"y\": [46.258903448157525, 47.37948061250458]}, {\"marker\": {\"color\": \"black\", \"line\": {\"color\": \"black\", \"width\": 1}, \"size\": 10}, \"mode\": \"lines\", \"name\": \"Node 91\", \"type\": \"scatter\", \"x\": [58.487551805129534, 56.39458925836494], \"y\": [15.304230392491347, 14.757820269493601]}, {\"marker\": {\"color\": \"black\", \"line\": {\"color\": \"black\", \"width\": 1}, \"size\": 10}, \"mode\": \"lines\", \"name\": \"Node 92\", \"type\": \"scatter\", \"x\": [90.31381765524445, 90.19356292470788], \"y\": [38.335827267696345, 38.3493087340757]}, {\"marker\": {\"color\": \"black\", \"line\": {\"color\": \"black\", \"width\": 1}, \"size\": 10}, \"mode\": \"lines\", \"name\": \"Node 93\", \"type\": \"scatter\", \"x\": [19.405575345092686, 19.040216557919184], \"y\": [64.8739835674054, 65.80499583650182]}, {\"marker\": {\"color\": \"black\", \"line\": {\"color\": \"black\", \"width\": 1}, \"size\": 10}, \"mode\": \"lines\", \"name\": \"Node 94\", \"type\": \"scatter\", \"x\": [17.920332137961836, 18.320618505402912], \"y\": [45.40658875808734, 44.642461889650576]}, {\"marker\": {\"color\": \"black\", \"line\": {\"color\": \"black\", \"width\": 1}, \"size\": 10}, \"mode\": \"lines\", \"name\": \"Node 95\", \"type\": \"scatter\", \"x\": [15.175686773631769, 16.334080863539967], \"y\": [98.44314122708643, 97.61873318727739]}, {\"marker\": {\"color\": \"black\", \"line\": {\"color\": \"black\", \"width\": 1}, \"size\": 10}, \"mode\": \"lines\", \"name\": \"Node 96\", \"type\": \"scatter\", \"x\": [35.15860578673671, 35.48119056188083], \"y\": [93.21016712252525, 94.59078838409346]}, {\"marker\": {\"color\": \"black\", \"line\": {\"color\": \"black\", \"width\": 1}, \"size\": 10}, \"mode\": \"lines\", \"name\": \"Node 97\", \"type\": \"scatter\", \"x\": [86.07556595731184, 85.75441769301001], \"y\": [73.82861539854542, 75.46638130825573]}, {\"marker\": {\"color\": \"black\", \"line\": {\"color\": \"black\", \"width\": 1}, \"size\": 10}, \"mode\": \"lines\", \"name\": \"Node 98\", \"type\": \"scatter\", \"x\": [17.588048361782327, 18.114548781606878], \"y\": [52.01548238174328, 52.59633873151942]}, {\"marker\": {\"color\": \"black\", \"line\": {\"color\": \"black\", \"width\": 1}, \"size\": 10}, \"mode\": \"lines\", \"name\": \"Node 99\", \"type\": \"scatter\", \"x\": [20.829480095528496, 20.551942704362546], \"y\": [49.32757682911514, 49.61526142968423]}],\n",
       "                        {\"template\": {\"data\": {\"bar\": [{\"error_x\": {\"color\": \"#2a3f5f\"}, \"error_y\": {\"color\": \"#2a3f5f\"}, \"marker\": {\"line\": {\"color\": \"#E5ECF6\", \"width\": 0.5}}, \"type\": \"bar\"}], \"barpolar\": [{\"marker\": {\"line\": {\"color\": \"#E5ECF6\", \"width\": 0.5}}, \"type\": \"barpolar\"}], \"carpet\": [{\"aaxis\": {\"endlinecolor\": \"#2a3f5f\", \"gridcolor\": \"white\", \"linecolor\": \"white\", \"minorgridcolor\": \"white\", \"startlinecolor\": \"#2a3f5f\"}, \"baxis\": {\"endlinecolor\": \"#2a3f5f\", \"gridcolor\": \"white\", \"linecolor\": \"white\", \"minorgridcolor\": \"white\", \"startlinecolor\": \"#2a3f5f\"}, \"type\": \"carpet\"}], \"choropleth\": [{\"colorbar\": {\"outlinewidth\": 0, \"ticks\": \"\"}, \"type\": \"choropleth\"}], \"contour\": [{\"colorbar\": {\"outlinewidth\": 0, \"ticks\": \"\"}, \"colorscale\": [[0.0, \"#0d0887\"], [0.1111111111111111, \"#46039f\"], [0.2222222222222222, \"#7201a8\"], [0.3333333333333333, \"#9c179e\"], [0.4444444444444444, \"#bd3786\"], [0.5555555555555556, \"#d8576b\"], [0.6666666666666666, \"#ed7953\"], [0.7777777777777778, \"#fb9f3a\"], [0.8888888888888888, \"#fdca26\"], [1.0, \"#f0f921\"]], \"type\": \"contour\"}], \"contourcarpet\": [{\"colorbar\": {\"outlinewidth\": 0, \"ticks\": \"\"}, \"type\": \"contourcarpet\"}], \"heatmap\": [{\"colorbar\": {\"outlinewidth\": 0, \"ticks\": \"\"}, \"colorscale\": [[0.0, \"#0d0887\"], [0.1111111111111111, \"#46039f\"], [0.2222222222222222, \"#7201a8\"], [0.3333333333333333, \"#9c179e\"], [0.4444444444444444, \"#bd3786\"], [0.5555555555555556, \"#d8576b\"], [0.6666666666666666, \"#ed7953\"], [0.7777777777777778, \"#fb9f3a\"], [0.8888888888888888, \"#fdca26\"], [1.0, \"#f0f921\"]], \"type\": \"heatmap\"}], \"heatmapgl\": [{\"colorbar\": {\"outlinewidth\": 0, \"ticks\": \"\"}, \"colorscale\": [[0.0, \"#0d0887\"], [0.1111111111111111, \"#46039f\"], [0.2222222222222222, \"#7201a8\"], [0.3333333333333333, \"#9c179e\"], [0.4444444444444444, \"#bd3786\"], [0.5555555555555556, \"#d8576b\"], [0.6666666666666666, \"#ed7953\"], [0.7777777777777778, \"#fb9f3a\"], [0.8888888888888888, \"#fdca26\"], [1.0, \"#f0f921\"]], \"type\": \"heatmapgl\"}], \"histogram\": [{\"marker\": {\"colorbar\": {\"outlinewidth\": 0, \"ticks\": \"\"}}, \"type\": \"histogram\"}], \"histogram2d\": [{\"colorbar\": {\"outlinewidth\": 0, \"ticks\": \"\"}, \"colorscale\": [[0.0, \"#0d0887\"], [0.1111111111111111, \"#46039f\"], [0.2222222222222222, \"#7201a8\"], [0.3333333333333333, \"#9c179e\"], [0.4444444444444444, \"#bd3786\"], [0.5555555555555556, \"#d8576b\"], [0.6666666666666666, \"#ed7953\"], [0.7777777777777778, \"#fb9f3a\"], [0.8888888888888888, \"#fdca26\"], [1.0, \"#f0f921\"]], \"type\": \"histogram2d\"}], \"histogram2dcontour\": [{\"colorbar\": {\"outlinewidth\": 0, \"ticks\": \"\"}, \"colorscale\": [[0.0, \"#0d0887\"], [0.1111111111111111, \"#46039f\"], [0.2222222222222222, \"#7201a8\"], [0.3333333333333333, \"#9c179e\"], [0.4444444444444444, \"#bd3786\"], [0.5555555555555556, \"#d8576b\"], [0.6666666666666666, \"#ed7953\"], [0.7777777777777778, \"#fb9f3a\"], [0.8888888888888888, \"#fdca26\"], [1.0, \"#f0f921\"]], \"type\": \"histogram2dcontour\"}], \"mesh3d\": [{\"colorbar\": {\"outlinewidth\": 0, \"ticks\": \"\"}, \"type\": \"mesh3d\"}], \"parcoords\": [{\"line\": {\"colorbar\": {\"outlinewidth\": 0, \"ticks\": \"\"}}, \"type\": \"parcoords\"}], \"scatter\": [{\"marker\": {\"colorbar\": {\"outlinewidth\": 0, \"ticks\": \"\"}}, \"type\": \"scatter\"}], \"scatter3d\": [{\"line\": {\"colorbar\": {\"outlinewidth\": 0, \"ticks\": \"\"}}, \"marker\": {\"colorbar\": {\"outlinewidth\": 0, \"ticks\": \"\"}}, \"type\": \"scatter3d\"}], \"scattercarpet\": [{\"marker\": {\"colorbar\": {\"outlinewidth\": 0, \"ticks\": \"\"}}, \"type\": \"scattercarpet\"}], \"scattergeo\": [{\"marker\": {\"colorbar\": {\"outlinewidth\": 0, \"ticks\": \"\"}}, \"type\": \"scattergeo\"}], \"scattergl\": [{\"marker\": {\"colorbar\": {\"outlinewidth\": 0, \"ticks\": \"\"}}, \"type\": \"scattergl\"}], \"scattermapbox\": [{\"marker\": {\"colorbar\": {\"outlinewidth\": 0, \"ticks\": \"\"}}, \"type\": \"scattermapbox\"}], \"scatterpolar\": [{\"marker\": {\"colorbar\": {\"outlinewidth\": 0, \"ticks\": \"\"}}, \"type\": \"scatterpolar\"}], \"scatterpolargl\": [{\"marker\": {\"colorbar\": {\"outlinewidth\": 0, \"ticks\": \"\"}}, \"type\": \"scatterpolargl\"}], \"scatterternary\": [{\"marker\": {\"colorbar\": {\"outlinewidth\": 0, \"ticks\": \"\"}}, \"type\": \"scatterternary\"}], \"surface\": [{\"colorbar\": {\"outlinewidth\": 0, \"ticks\": \"\"}, \"colorscale\": [[0.0, \"#0d0887\"], [0.1111111111111111, \"#46039f\"], [0.2222222222222222, \"#7201a8\"], [0.3333333333333333, \"#9c179e\"], [0.4444444444444444, \"#bd3786\"], [0.5555555555555556, \"#d8576b\"], [0.6666666666666666, \"#ed7953\"], [0.7777777777777778, \"#fb9f3a\"], [0.8888888888888888, \"#fdca26\"], [1.0, \"#f0f921\"]], \"type\": \"surface\"}], \"table\": [{\"cells\": {\"fill\": {\"color\": \"#EBF0F8\"}, \"line\": {\"color\": \"white\"}}, \"header\": {\"fill\": {\"color\": \"#C8D4E3\"}, \"line\": {\"color\": \"white\"}}, \"type\": \"table\"}]}, \"layout\": {\"annotationdefaults\": {\"arrowcolor\": \"#2a3f5f\", \"arrowhead\": 0, \"arrowwidth\": 1}, \"colorscale\": {\"diverging\": [[0, \"#8e0152\"], [0.1, \"#c51b7d\"], [0.2, \"#de77ae\"], [0.3, \"#f1b6da\"], [0.4, \"#fde0ef\"], [0.5, \"#f7f7f7\"], [0.6, \"#e6f5d0\"], [0.7, \"#b8e186\"], [0.8, \"#7fbc41\"], [0.9, \"#4d9221\"], [1, \"#276419\"]], \"sequential\": [[0.0, \"#0d0887\"], [0.1111111111111111, \"#46039f\"], [0.2222222222222222, \"#7201a8\"], [0.3333333333333333, \"#9c179e\"], [0.4444444444444444, \"#bd3786\"], [0.5555555555555556, \"#d8576b\"], [0.6666666666666666, \"#ed7953\"], [0.7777777777777778, \"#fb9f3a\"], [0.8888888888888888, \"#fdca26\"], [1.0, \"#f0f921\"]], \"sequentialminus\": [[0.0, \"#0d0887\"], [0.1111111111111111, \"#46039f\"], [0.2222222222222222, \"#7201a8\"], [0.3333333333333333, \"#9c179e\"], [0.4444444444444444, \"#bd3786\"], [0.5555555555555556, \"#d8576b\"], [0.6666666666666666, \"#ed7953\"], [0.7777777777777778, \"#fb9f3a\"], [0.8888888888888888, \"#fdca26\"], [1.0, \"#f0f921\"]]}, \"colorway\": [\"#636efa\", \"#EF553B\", \"#00cc96\", \"#ab63fa\", \"#FFA15A\", \"#19d3f3\", \"#FF6692\", \"#B6E880\", \"#FF97FF\", \"#FECB52\"], \"font\": {\"color\": \"#2a3f5f\"}, \"geo\": {\"bgcolor\": \"white\", \"lakecolor\": \"white\", \"landcolor\": \"#E5ECF6\", \"showlakes\": true, \"showland\": true, \"subunitcolor\": \"white\"}, \"hoverlabel\": {\"align\": \"left\"}, \"hovermode\": \"closest\", \"mapbox\": {\"style\": \"light\"}, \"paper_bgcolor\": \"white\", \"plot_bgcolor\": \"#E5ECF6\", \"polar\": {\"angularaxis\": {\"gridcolor\": \"white\", \"linecolor\": \"white\", \"ticks\": \"\"}, \"bgcolor\": \"#E5ECF6\", \"radialaxis\": {\"gridcolor\": \"white\", \"linecolor\": \"white\", \"ticks\": \"\"}}, \"scene\": {\"xaxis\": {\"backgroundcolor\": \"#E5ECF6\", \"gridcolor\": \"white\", \"gridwidth\": 2, \"linecolor\": \"white\", \"showbackground\": true, \"ticks\": \"\", \"zerolinecolor\": \"white\"}, \"yaxis\": {\"backgroundcolor\": \"#E5ECF6\", \"gridcolor\": \"white\", \"gridwidth\": 2, \"linecolor\": \"white\", \"showbackground\": true, \"ticks\": \"\", \"zerolinecolor\": \"white\"}, \"zaxis\": {\"backgroundcolor\": \"#E5ECF6\", \"gridcolor\": \"white\", \"gridwidth\": 2, \"linecolor\": \"white\", \"showbackground\": true, \"ticks\": \"\", \"zerolinecolor\": \"white\"}}, \"shapedefaults\": {\"line\": {\"color\": \"#2a3f5f\"}}, \"ternary\": {\"aaxis\": {\"gridcolor\": \"white\", \"linecolor\": \"white\", \"ticks\": \"\"}, \"baxis\": {\"gridcolor\": \"white\", \"linecolor\": \"white\", \"ticks\": \"\"}, \"bgcolor\": \"#E5ECF6\", \"caxis\": {\"gridcolor\": \"white\", \"linecolor\": \"white\", \"ticks\": \"\"}}, \"title\": {\"x\": 0.05}, \"xaxis\": {\"automargin\": true, \"gridcolor\": \"white\", \"linecolor\": \"white\", \"ticks\": \"\", \"zerolinecolor\": \"white\", \"zerolinewidth\": 2}, \"yaxis\": {\"automargin\": true, \"gridcolor\": \"white\", \"linecolor\": \"white\", \"ticks\": \"\", \"zerolinecolor\": \"white\", \"zerolinewidth\": 2}}}},\n",
       "                        {\"responsive\": true}\n",
       "                    ).then(function(){\n",
       "                            \n",
       "var gd = document.getElementById('fff44ffc-825a-4fd4-aa20-54c7b948f326');\n",
       "var x = new MutationObserver(function (mutations, observer) {{\n",
       "        var display = window.getComputedStyle(gd).display;\n",
       "        if (!display || display === 'none') {{\n",
       "            console.log([gd, 'removed!']);\n",
       "            Plotly.purge(gd);\n",
       "            observer.disconnect();\n",
       "        }}\n",
       "}});\n",
       "\n",
       "// Listen for the removal of the full notebook cells\n",
       "var notebookContainer = gd.closest('#notebook-container');\n",
       "if (notebookContainer) {{\n",
       "    x.observe(notebookContainer, {childList: true});\n",
       "}}\n",
       "\n",
       "// Listen for the clearing of the current output cell\n",
       "var outputEl = gd.closest('.output');\n",
       "if (outputEl) {{\n",
       "    x.observe(outputEl, {childList: true});\n",
       "}}\n",
       "\n",
       "                        })\n",
       "                };\n",
       "                });\n",
       "            </script>\n",
       "        </div>"
      ]
     },
     "metadata": {},
     "output_type": "display_data"
    }
   ],
   "source": [
    "iplot(data)"
   ]
  },
  {
   "cell_type": "code",
   "execution_count": 78,
   "metadata": {
    "ExecuteTime": {
     "end_time": "2019-12-26T10:35:05.020112Z",
     "start_time": "2019-12-26T10:35:04.993134Z"
    }
   },
   "outputs": [],
   "source": [
    "\"\"\"\n",
    "    generateNodes(N, L, R, r, f)\n",
    "\"\"\"\n",
    "nodes = generateNodes(100, 100, 0, 0, 10)\n",
    "\n",
    "\"\"\"\n",
    "    findNeighbours(nodes, R)\n",
    "\"\"\"\n",
    "nodes = findNeighbours(nodes, 25)\n",
    "\n",
    "ErrorHeuristic1 = 0\n",
    "ErrorHeuristic2 = 0"
   ]
  },
  {
   "cell_type": "code",
   "execution_count": 79,
   "metadata": {
    "ExecuteTime": {
     "end_time": "2019-12-26T10:36:39.665226Z",
     "start_time": "2019-12-26T10:36:39.658208Z"
    }
   },
   "outputs": [],
   "source": [
    "def calculateError(nodes, N, f):\n",
    "    estimated = 0\n",
    "    error = 0\n",
    "    for idx in range(len(nodes)):\n",
    "        if nodes[idx].isAnchor > 1:\n",
    "            estimated = estimated + 1\n",
    "            error = error + nodes[idx].getErrorOfEstimation()\n",
    "    return error/(N-f)"
   ]
  },
  {
   "cell_type": "markdown",
   "metadata": {},
   "source": [
    "# ------------------------------------------------------------------------------------------------------------\n",
    "# МЕТРИКА 1\n",
    "## Просечна вредност на грешка (error) на 20 топологии\n",
    "\n",
    "# ------------------------------------------------------------------------------------------------------------"
   ]
  },
  {
   "cell_type": "markdown",
   "metadata": {},
   "source": [
    "# PLOT 1\n",
    "\n",
    "## Фракција на anchor nodes vs Error"
   ]
  },
  {
   "cell_type": "code",
   "execution_count": 80,
   "metadata": {
    "ExecuteTime": {
     "end_time": "2019-12-26T10:36:44.918351Z",
     "start_time": "2019-12-26T10:36:43.574545Z"
    }
   },
   "outputs": [
    {
     "name": "stdout",
     "output_type": "stream",
     "text": [
      "[2.180103725259584, 1.9581225689415902, 1.750288196106299, 1.694811502733387, 1.7493165988536739]\n"
     ]
    }
   ],
   "source": [
    "N = 100\n",
    "L = 100\n",
    "R = 30\n",
    "r = 10\n",
    "# f = {10,20,30,40,50}\n",
    "heuristic = 1\n",
    "errorsH1 = []\n",
    "\n",
    "nodes = None\n",
    "for f in range(10, 51, 10):\n",
    "    error = 0\n",
    "    for i in range(0, 20):\n",
    "        nodes = generateNodes(N, L, R, r, f)\n",
    "        nodes = findNeighbours(nodes, R)\n",
    "        nodes = estimateLocations(nodes, heuristic)\n",
    "        error = error + calculateError(nodes, N, f)\n",
    "    errorsH1.append(error/20)\n",
    "\n",
    "print(errorsH1)"
   ]
  },
  {
   "cell_type": "code",
   "execution_count": 81,
   "metadata": {
    "ExecuteTime": {
     "end_time": "2019-12-26T10:36:54.310488Z",
     "start_time": "2019-12-26T10:36:53.112032Z"
    }
   },
   "outputs": [
    {
     "name": "stdout",
     "output_type": "stream",
     "text": [
      "[3.935859869443089, 3.7161774165083346, 3.720669803314087, 3.7756924052144454, 3.6639523204958087]\n"
     ]
    }
   ],
   "source": [
    "heuristic = 2\n",
    "errorsH2 = []\n",
    "\n",
    "nodes = None\n",
    "for f in range(10, 51, 10):\n",
    "    error = 0\n",
    "    for i in range(0, 20):\n",
    "        nodes = generateNodes(N, L, R, r, f)\n",
    "        nodes = findNeighbours(nodes, R)\n",
    "        nodes = estimateLocations(nodes, heuristic)\n",
    "        error = error + calculateError(nodes, N, f)\n",
    "    errorsH2.append(error/20)\n",
    "\n",
    "print(errorsH2)"
   ]
  },
  {
   "cell_type": "code",
   "execution_count": 82,
   "metadata": {
    "ExecuteTime": {
     "end_time": "2019-12-26T10:37:00.435072Z",
     "start_time": "2019-12-26T10:37:00.132882Z"
    }
   },
   "outputs": [
    {
     "data": {
      "application/vnd.plotly.v1+json": {
       "config": {
        "linkText": "Export to plot.ly",
        "plotlyServerURL": "https://plot.ly",
        "showLink": false
       },
       "data": [
        {
         "mode": "lines",
         "name": "Heuristic1",
         "type": "scatter",
         "x": [
          10,
          20,
          30,
          40,
          50
         ],
         "y": [
          2.180103725259584,
          1.9581225689415902,
          1.750288196106299,
          1.694811502733387,
          1.7493165988536739
         ]
        },
        {
         "mode": "lines",
         "name": "Heuristic2",
         "type": "scatter",
         "x": [
          10,
          20,
          30,
          40,
          50
         ],
         "y": [
          3.935859869443089,
          3.7161774165083346,
          3.720669803314087,
          3.7756924052144454,
          3.6639523204958087
         ]
        }
       ],
       "layout": {
        "template": {
         "data": {
          "bar": [
           {
            "error_x": {
             "color": "#2a3f5f"
            },
            "error_y": {
             "color": "#2a3f5f"
            },
            "marker": {
             "line": {
              "color": "#E5ECF6",
              "width": 0.5
             }
            },
            "type": "bar"
           }
          ],
          "barpolar": [
           {
            "marker": {
             "line": {
              "color": "#E5ECF6",
              "width": 0.5
             }
            },
            "type": "barpolar"
           }
          ],
          "carpet": [
           {
            "aaxis": {
             "endlinecolor": "#2a3f5f",
             "gridcolor": "white",
             "linecolor": "white",
             "minorgridcolor": "white",
             "startlinecolor": "#2a3f5f"
            },
            "baxis": {
             "endlinecolor": "#2a3f5f",
             "gridcolor": "white",
             "linecolor": "white",
             "minorgridcolor": "white",
             "startlinecolor": "#2a3f5f"
            },
            "type": "carpet"
           }
          ],
          "choropleth": [
           {
            "colorbar": {
             "outlinewidth": 0,
             "ticks": ""
            },
            "type": "choropleth"
           }
          ],
          "contour": [
           {
            "colorbar": {
             "outlinewidth": 0,
             "ticks": ""
            },
            "colorscale": [
             [
              0,
              "#0d0887"
             ],
             [
              0.1111111111111111,
              "#46039f"
             ],
             [
              0.2222222222222222,
              "#7201a8"
             ],
             [
              0.3333333333333333,
              "#9c179e"
             ],
             [
              0.4444444444444444,
              "#bd3786"
             ],
             [
              0.5555555555555556,
              "#d8576b"
             ],
             [
              0.6666666666666666,
              "#ed7953"
             ],
             [
              0.7777777777777778,
              "#fb9f3a"
             ],
             [
              0.8888888888888888,
              "#fdca26"
             ],
             [
              1,
              "#f0f921"
             ]
            ],
            "type": "contour"
           }
          ],
          "contourcarpet": [
           {
            "colorbar": {
             "outlinewidth": 0,
             "ticks": ""
            },
            "type": "contourcarpet"
           }
          ],
          "heatmap": [
           {
            "colorbar": {
             "outlinewidth": 0,
             "ticks": ""
            },
            "colorscale": [
             [
              0,
              "#0d0887"
             ],
             [
              0.1111111111111111,
              "#46039f"
             ],
             [
              0.2222222222222222,
              "#7201a8"
             ],
             [
              0.3333333333333333,
              "#9c179e"
             ],
             [
              0.4444444444444444,
              "#bd3786"
             ],
             [
              0.5555555555555556,
              "#d8576b"
             ],
             [
              0.6666666666666666,
              "#ed7953"
             ],
             [
              0.7777777777777778,
              "#fb9f3a"
             ],
             [
              0.8888888888888888,
              "#fdca26"
             ],
             [
              1,
              "#f0f921"
             ]
            ],
            "type": "heatmap"
           }
          ],
          "heatmapgl": [
           {
            "colorbar": {
             "outlinewidth": 0,
             "ticks": ""
            },
            "colorscale": [
             [
              0,
              "#0d0887"
             ],
             [
              0.1111111111111111,
              "#46039f"
             ],
             [
              0.2222222222222222,
              "#7201a8"
             ],
             [
              0.3333333333333333,
              "#9c179e"
             ],
             [
              0.4444444444444444,
              "#bd3786"
             ],
             [
              0.5555555555555556,
              "#d8576b"
             ],
             [
              0.6666666666666666,
              "#ed7953"
             ],
             [
              0.7777777777777778,
              "#fb9f3a"
             ],
             [
              0.8888888888888888,
              "#fdca26"
             ],
             [
              1,
              "#f0f921"
             ]
            ],
            "type": "heatmapgl"
           }
          ],
          "histogram": [
           {
            "marker": {
             "colorbar": {
              "outlinewidth": 0,
              "ticks": ""
             }
            },
            "type": "histogram"
           }
          ],
          "histogram2d": [
           {
            "colorbar": {
             "outlinewidth": 0,
             "ticks": ""
            },
            "colorscale": [
             [
              0,
              "#0d0887"
             ],
             [
              0.1111111111111111,
              "#46039f"
             ],
             [
              0.2222222222222222,
              "#7201a8"
             ],
             [
              0.3333333333333333,
              "#9c179e"
             ],
             [
              0.4444444444444444,
              "#bd3786"
             ],
             [
              0.5555555555555556,
              "#d8576b"
             ],
             [
              0.6666666666666666,
              "#ed7953"
             ],
             [
              0.7777777777777778,
              "#fb9f3a"
             ],
             [
              0.8888888888888888,
              "#fdca26"
             ],
             [
              1,
              "#f0f921"
             ]
            ],
            "type": "histogram2d"
           }
          ],
          "histogram2dcontour": [
           {
            "colorbar": {
             "outlinewidth": 0,
             "ticks": ""
            },
            "colorscale": [
             [
              0,
              "#0d0887"
             ],
             [
              0.1111111111111111,
              "#46039f"
             ],
             [
              0.2222222222222222,
              "#7201a8"
             ],
             [
              0.3333333333333333,
              "#9c179e"
             ],
             [
              0.4444444444444444,
              "#bd3786"
             ],
             [
              0.5555555555555556,
              "#d8576b"
             ],
             [
              0.6666666666666666,
              "#ed7953"
             ],
             [
              0.7777777777777778,
              "#fb9f3a"
             ],
             [
              0.8888888888888888,
              "#fdca26"
             ],
             [
              1,
              "#f0f921"
             ]
            ],
            "type": "histogram2dcontour"
           }
          ],
          "mesh3d": [
           {
            "colorbar": {
             "outlinewidth": 0,
             "ticks": ""
            },
            "type": "mesh3d"
           }
          ],
          "parcoords": [
           {
            "line": {
             "colorbar": {
              "outlinewidth": 0,
              "ticks": ""
             }
            },
            "type": "parcoords"
           }
          ],
          "scatter": [
           {
            "marker": {
             "colorbar": {
              "outlinewidth": 0,
              "ticks": ""
             }
            },
            "type": "scatter"
           }
          ],
          "scatter3d": [
           {
            "line": {
             "colorbar": {
              "outlinewidth": 0,
              "ticks": ""
             }
            },
            "marker": {
             "colorbar": {
              "outlinewidth": 0,
              "ticks": ""
             }
            },
            "type": "scatter3d"
           }
          ],
          "scattercarpet": [
           {
            "marker": {
             "colorbar": {
              "outlinewidth": 0,
              "ticks": ""
             }
            },
            "type": "scattercarpet"
           }
          ],
          "scattergeo": [
           {
            "marker": {
             "colorbar": {
              "outlinewidth": 0,
              "ticks": ""
             }
            },
            "type": "scattergeo"
           }
          ],
          "scattergl": [
           {
            "marker": {
             "colorbar": {
              "outlinewidth": 0,
              "ticks": ""
             }
            },
            "type": "scattergl"
           }
          ],
          "scattermapbox": [
           {
            "marker": {
             "colorbar": {
              "outlinewidth": 0,
              "ticks": ""
             }
            },
            "type": "scattermapbox"
           }
          ],
          "scatterpolar": [
           {
            "marker": {
             "colorbar": {
              "outlinewidth": 0,
              "ticks": ""
             }
            },
            "type": "scatterpolar"
           }
          ],
          "scatterpolargl": [
           {
            "marker": {
             "colorbar": {
              "outlinewidth": 0,
              "ticks": ""
             }
            },
            "type": "scatterpolargl"
           }
          ],
          "scatterternary": [
           {
            "marker": {
             "colorbar": {
              "outlinewidth": 0,
              "ticks": ""
             }
            },
            "type": "scatterternary"
           }
          ],
          "surface": [
           {
            "colorbar": {
             "outlinewidth": 0,
             "ticks": ""
            },
            "colorscale": [
             [
              0,
              "#0d0887"
             ],
             [
              0.1111111111111111,
              "#46039f"
             ],
             [
              0.2222222222222222,
              "#7201a8"
             ],
             [
              0.3333333333333333,
              "#9c179e"
             ],
             [
              0.4444444444444444,
              "#bd3786"
             ],
             [
              0.5555555555555556,
              "#d8576b"
             ],
             [
              0.6666666666666666,
              "#ed7953"
             ],
             [
              0.7777777777777778,
              "#fb9f3a"
             ],
             [
              0.8888888888888888,
              "#fdca26"
             ],
             [
              1,
              "#f0f921"
             ]
            ],
            "type": "surface"
           }
          ],
          "table": [
           {
            "cells": {
             "fill": {
              "color": "#EBF0F8"
             },
             "line": {
              "color": "white"
             }
            },
            "header": {
             "fill": {
              "color": "#C8D4E3"
             },
             "line": {
              "color": "white"
             }
            },
            "type": "table"
           }
          ]
         },
         "layout": {
          "annotationdefaults": {
           "arrowcolor": "#2a3f5f",
           "arrowhead": 0,
           "arrowwidth": 1
          },
          "colorscale": {
           "diverging": [
            [
             0,
             "#8e0152"
            ],
            [
             0.1,
             "#c51b7d"
            ],
            [
             0.2,
             "#de77ae"
            ],
            [
             0.3,
             "#f1b6da"
            ],
            [
             0.4,
             "#fde0ef"
            ],
            [
             0.5,
             "#f7f7f7"
            ],
            [
             0.6,
             "#e6f5d0"
            ],
            [
             0.7,
             "#b8e186"
            ],
            [
             0.8,
             "#7fbc41"
            ],
            [
             0.9,
             "#4d9221"
            ],
            [
             1,
             "#276419"
            ]
           ],
           "sequential": [
            [
             0,
             "#0d0887"
            ],
            [
             0.1111111111111111,
             "#46039f"
            ],
            [
             0.2222222222222222,
             "#7201a8"
            ],
            [
             0.3333333333333333,
             "#9c179e"
            ],
            [
             0.4444444444444444,
             "#bd3786"
            ],
            [
             0.5555555555555556,
             "#d8576b"
            ],
            [
             0.6666666666666666,
             "#ed7953"
            ],
            [
             0.7777777777777778,
             "#fb9f3a"
            ],
            [
             0.8888888888888888,
             "#fdca26"
            ],
            [
             1,
             "#f0f921"
            ]
           ],
           "sequentialminus": [
            [
             0,
             "#0d0887"
            ],
            [
             0.1111111111111111,
             "#46039f"
            ],
            [
             0.2222222222222222,
             "#7201a8"
            ],
            [
             0.3333333333333333,
             "#9c179e"
            ],
            [
             0.4444444444444444,
             "#bd3786"
            ],
            [
             0.5555555555555556,
             "#d8576b"
            ],
            [
             0.6666666666666666,
             "#ed7953"
            ],
            [
             0.7777777777777778,
             "#fb9f3a"
            ],
            [
             0.8888888888888888,
             "#fdca26"
            ],
            [
             1,
             "#f0f921"
            ]
           ]
          },
          "colorway": [
           "#636efa",
           "#EF553B",
           "#00cc96",
           "#ab63fa",
           "#FFA15A",
           "#19d3f3",
           "#FF6692",
           "#B6E880",
           "#FF97FF",
           "#FECB52"
          ],
          "font": {
           "color": "#2a3f5f"
          },
          "geo": {
           "bgcolor": "white",
           "lakecolor": "white",
           "landcolor": "#E5ECF6",
           "showlakes": true,
           "showland": true,
           "subunitcolor": "white"
          },
          "hoverlabel": {
           "align": "left"
          },
          "hovermode": "closest",
          "mapbox": {
           "style": "light"
          },
          "paper_bgcolor": "white",
          "plot_bgcolor": "#E5ECF6",
          "polar": {
           "angularaxis": {
            "gridcolor": "white",
            "linecolor": "white",
            "ticks": ""
           },
           "bgcolor": "#E5ECF6",
           "radialaxis": {
            "gridcolor": "white",
            "linecolor": "white",
            "ticks": ""
           }
          },
          "scene": {
           "xaxis": {
            "backgroundcolor": "#E5ECF6",
            "gridcolor": "white",
            "gridwidth": 2,
            "linecolor": "white",
            "showbackground": true,
            "ticks": "",
            "zerolinecolor": "white"
           },
           "yaxis": {
            "backgroundcolor": "#E5ECF6",
            "gridcolor": "white",
            "gridwidth": 2,
            "linecolor": "white",
            "showbackground": true,
            "ticks": "",
            "zerolinecolor": "white"
           },
           "zaxis": {
            "backgroundcolor": "#E5ECF6",
            "gridcolor": "white",
            "gridwidth": 2,
            "linecolor": "white",
            "showbackground": true,
            "ticks": "",
            "zerolinecolor": "white"
           }
          },
          "shapedefaults": {
           "line": {
            "color": "#2a3f5f"
           }
          },
          "ternary": {
           "aaxis": {
            "gridcolor": "white",
            "linecolor": "white",
            "ticks": ""
           },
           "baxis": {
            "gridcolor": "white",
            "linecolor": "white",
            "ticks": ""
           },
           "bgcolor": "#E5ECF6",
           "caxis": {
            "gridcolor": "white",
            "linecolor": "white",
            "ticks": ""
           }
          },
          "title": {
           "x": 0.05
          },
          "xaxis": {
           "automargin": true,
           "gridcolor": "white",
           "linecolor": "white",
           "ticks": "",
           "zerolinecolor": "white",
           "zerolinewidth": 2
          },
          "yaxis": {
           "automargin": true,
           "gridcolor": "white",
           "linecolor": "white",
           "ticks": "",
           "zerolinecolor": "white",
           "zerolinewidth": 2
          }
         }
        }
       }
      },
      "text/html": [
       "<div>\n",
       "        \n",
       "        \n",
       "            <div id=\"719e4824-9d62-4ec5-a76f-6ac4ee393096\" class=\"plotly-graph-div\" style=\"height:525px; width:100%;\"></div>\n",
       "            <script type=\"text/javascript\">\n",
       "                require([\"plotly\"], function(Plotly) {\n",
       "                    window.PLOTLYENV=window.PLOTLYENV || {};\n",
       "                    \n",
       "                if (document.getElementById(\"719e4824-9d62-4ec5-a76f-6ac4ee393096\")) {\n",
       "                    Plotly.newPlot(\n",
       "                        '719e4824-9d62-4ec5-a76f-6ac4ee393096',\n",
       "                        [{\"mode\": \"lines\", \"name\": \"Heuristic1\", \"type\": \"scatter\", \"x\": [10, 20, 30, 40, 50], \"y\": [2.180103725259584, 1.9581225689415902, 1.750288196106299, 1.694811502733387, 1.7493165988536739]}, {\"mode\": \"lines\", \"name\": \"Heuristic2\", \"type\": \"scatter\", \"x\": [10, 20, 30, 40, 50], \"y\": [3.935859869443089, 3.7161774165083346, 3.720669803314087, 3.7756924052144454, 3.6639523204958087]}],\n",
       "                        {\"template\": {\"data\": {\"bar\": [{\"error_x\": {\"color\": \"#2a3f5f\"}, \"error_y\": {\"color\": \"#2a3f5f\"}, \"marker\": {\"line\": {\"color\": \"#E5ECF6\", \"width\": 0.5}}, \"type\": \"bar\"}], \"barpolar\": [{\"marker\": {\"line\": {\"color\": \"#E5ECF6\", \"width\": 0.5}}, \"type\": \"barpolar\"}], \"carpet\": [{\"aaxis\": {\"endlinecolor\": \"#2a3f5f\", \"gridcolor\": \"white\", \"linecolor\": \"white\", \"minorgridcolor\": \"white\", \"startlinecolor\": \"#2a3f5f\"}, \"baxis\": {\"endlinecolor\": \"#2a3f5f\", \"gridcolor\": \"white\", \"linecolor\": \"white\", \"minorgridcolor\": \"white\", \"startlinecolor\": \"#2a3f5f\"}, \"type\": \"carpet\"}], \"choropleth\": [{\"colorbar\": {\"outlinewidth\": 0, \"ticks\": \"\"}, \"type\": \"choropleth\"}], \"contour\": [{\"colorbar\": {\"outlinewidth\": 0, \"ticks\": \"\"}, \"colorscale\": [[0.0, \"#0d0887\"], [0.1111111111111111, \"#46039f\"], [0.2222222222222222, \"#7201a8\"], [0.3333333333333333, \"#9c179e\"], [0.4444444444444444, \"#bd3786\"], [0.5555555555555556, \"#d8576b\"], [0.6666666666666666, \"#ed7953\"], [0.7777777777777778, \"#fb9f3a\"], [0.8888888888888888, \"#fdca26\"], [1.0, \"#f0f921\"]], \"type\": \"contour\"}], \"contourcarpet\": [{\"colorbar\": {\"outlinewidth\": 0, \"ticks\": \"\"}, \"type\": \"contourcarpet\"}], \"heatmap\": [{\"colorbar\": {\"outlinewidth\": 0, \"ticks\": \"\"}, \"colorscale\": [[0.0, \"#0d0887\"], [0.1111111111111111, \"#46039f\"], [0.2222222222222222, \"#7201a8\"], [0.3333333333333333, \"#9c179e\"], [0.4444444444444444, \"#bd3786\"], [0.5555555555555556, \"#d8576b\"], [0.6666666666666666, \"#ed7953\"], [0.7777777777777778, \"#fb9f3a\"], [0.8888888888888888, \"#fdca26\"], [1.0, \"#f0f921\"]], \"type\": \"heatmap\"}], \"heatmapgl\": [{\"colorbar\": {\"outlinewidth\": 0, \"ticks\": \"\"}, \"colorscale\": [[0.0, \"#0d0887\"], [0.1111111111111111, \"#46039f\"], [0.2222222222222222, \"#7201a8\"], [0.3333333333333333, \"#9c179e\"], [0.4444444444444444, \"#bd3786\"], [0.5555555555555556, \"#d8576b\"], [0.6666666666666666, \"#ed7953\"], [0.7777777777777778, \"#fb9f3a\"], [0.8888888888888888, \"#fdca26\"], [1.0, \"#f0f921\"]], \"type\": \"heatmapgl\"}], \"histogram\": [{\"marker\": {\"colorbar\": {\"outlinewidth\": 0, \"ticks\": \"\"}}, \"type\": \"histogram\"}], \"histogram2d\": [{\"colorbar\": {\"outlinewidth\": 0, \"ticks\": \"\"}, \"colorscale\": [[0.0, \"#0d0887\"], [0.1111111111111111, \"#46039f\"], [0.2222222222222222, \"#7201a8\"], [0.3333333333333333, \"#9c179e\"], [0.4444444444444444, \"#bd3786\"], [0.5555555555555556, \"#d8576b\"], [0.6666666666666666, \"#ed7953\"], [0.7777777777777778, \"#fb9f3a\"], [0.8888888888888888, \"#fdca26\"], [1.0, \"#f0f921\"]], \"type\": \"histogram2d\"}], \"histogram2dcontour\": [{\"colorbar\": {\"outlinewidth\": 0, \"ticks\": \"\"}, \"colorscale\": [[0.0, \"#0d0887\"], [0.1111111111111111, \"#46039f\"], [0.2222222222222222, \"#7201a8\"], [0.3333333333333333, \"#9c179e\"], [0.4444444444444444, \"#bd3786\"], [0.5555555555555556, \"#d8576b\"], [0.6666666666666666, \"#ed7953\"], [0.7777777777777778, \"#fb9f3a\"], [0.8888888888888888, \"#fdca26\"], [1.0, \"#f0f921\"]], \"type\": \"histogram2dcontour\"}], \"mesh3d\": [{\"colorbar\": {\"outlinewidth\": 0, \"ticks\": \"\"}, \"type\": \"mesh3d\"}], \"parcoords\": [{\"line\": {\"colorbar\": {\"outlinewidth\": 0, \"ticks\": \"\"}}, \"type\": \"parcoords\"}], \"scatter\": [{\"marker\": {\"colorbar\": {\"outlinewidth\": 0, \"ticks\": \"\"}}, \"type\": \"scatter\"}], \"scatter3d\": [{\"line\": {\"colorbar\": {\"outlinewidth\": 0, \"ticks\": \"\"}}, \"marker\": {\"colorbar\": {\"outlinewidth\": 0, \"ticks\": \"\"}}, \"type\": \"scatter3d\"}], \"scattercarpet\": [{\"marker\": {\"colorbar\": {\"outlinewidth\": 0, \"ticks\": \"\"}}, \"type\": \"scattercarpet\"}], \"scattergeo\": [{\"marker\": {\"colorbar\": {\"outlinewidth\": 0, \"ticks\": \"\"}}, \"type\": \"scattergeo\"}], \"scattergl\": [{\"marker\": {\"colorbar\": {\"outlinewidth\": 0, \"ticks\": \"\"}}, \"type\": \"scattergl\"}], \"scattermapbox\": [{\"marker\": {\"colorbar\": {\"outlinewidth\": 0, \"ticks\": \"\"}}, \"type\": \"scattermapbox\"}], \"scatterpolar\": [{\"marker\": {\"colorbar\": {\"outlinewidth\": 0, \"ticks\": \"\"}}, \"type\": \"scatterpolar\"}], \"scatterpolargl\": [{\"marker\": {\"colorbar\": {\"outlinewidth\": 0, \"ticks\": \"\"}}, \"type\": \"scatterpolargl\"}], \"scatterternary\": [{\"marker\": {\"colorbar\": {\"outlinewidth\": 0, \"ticks\": \"\"}}, \"type\": \"scatterternary\"}], \"surface\": [{\"colorbar\": {\"outlinewidth\": 0, \"ticks\": \"\"}, \"colorscale\": [[0.0, \"#0d0887\"], [0.1111111111111111, \"#46039f\"], [0.2222222222222222, \"#7201a8\"], [0.3333333333333333, \"#9c179e\"], [0.4444444444444444, \"#bd3786\"], [0.5555555555555556, \"#d8576b\"], [0.6666666666666666, \"#ed7953\"], [0.7777777777777778, \"#fb9f3a\"], [0.8888888888888888, \"#fdca26\"], [1.0, \"#f0f921\"]], \"type\": \"surface\"}], \"table\": [{\"cells\": {\"fill\": {\"color\": \"#EBF0F8\"}, \"line\": {\"color\": \"white\"}}, \"header\": {\"fill\": {\"color\": \"#C8D4E3\"}, \"line\": {\"color\": \"white\"}}, \"type\": \"table\"}]}, \"layout\": {\"annotationdefaults\": {\"arrowcolor\": \"#2a3f5f\", \"arrowhead\": 0, \"arrowwidth\": 1}, \"colorscale\": {\"diverging\": [[0, \"#8e0152\"], [0.1, \"#c51b7d\"], [0.2, \"#de77ae\"], [0.3, \"#f1b6da\"], [0.4, \"#fde0ef\"], [0.5, \"#f7f7f7\"], [0.6, \"#e6f5d0\"], [0.7, \"#b8e186\"], [0.8, \"#7fbc41\"], [0.9, \"#4d9221\"], [1, \"#276419\"]], \"sequential\": [[0.0, \"#0d0887\"], [0.1111111111111111, \"#46039f\"], [0.2222222222222222, \"#7201a8\"], [0.3333333333333333, \"#9c179e\"], [0.4444444444444444, \"#bd3786\"], [0.5555555555555556, \"#d8576b\"], [0.6666666666666666, \"#ed7953\"], [0.7777777777777778, \"#fb9f3a\"], [0.8888888888888888, \"#fdca26\"], [1.0, \"#f0f921\"]], \"sequentialminus\": [[0.0, \"#0d0887\"], [0.1111111111111111, \"#46039f\"], [0.2222222222222222, \"#7201a8\"], [0.3333333333333333, \"#9c179e\"], [0.4444444444444444, \"#bd3786\"], [0.5555555555555556, \"#d8576b\"], [0.6666666666666666, \"#ed7953\"], [0.7777777777777778, \"#fb9f3a\"], [0.8888888888888888, \"#fdca26\"], [1.0, \"#f0f921\"]]}, \"colorway\": [\"#636efa\", \"#EF553B\", \"#00cc96\", \"#ab63fa\", \"#FFA15A\", \"#19d3f3\", \"#FF6692\", \"#B6E880\", \"#FF97FF\", \"#FECB52\"], \"font\": {\"color\": \"#2a3f5f\"}, \"geo\": {\"bgcolor\": \"white\", \"lakecolor\": \"white\", \"landcolor\": \"#E5ECF6\", \"showlakes\": true, \"showland\": true, \"subunitcolor\": \"white\"}, \"hoverlabel\": {\"align\": \"left\"}, \"hovermode\": \"closest\", \"mapbox\": {\"style\": \"light\"}, \"paper_bgcolor\": \"white\", \"plot_bgcolor\": \"#E5ECF6\", \"polar\": {\"angularaxis\": {\"gridcolor\": \"white\", \"linecolor\": \"white\", \"ticks\": \"\"}, \"bgcolor\": \"#E5ECF6\", \"radialaxis\": {\"gridcolor\": \"white\", \"linecolor\": \"white\", \"ticks\": \"\"}}, \"scene\": {\"xaxis\": {\"backgroundcolor\": \"#E5ECF6\", \"gridcolor\": \"white\", \"gridwidth\": 2, \"linecolor\": \"white\", \"showbackground\": true, \"ticks\": \"\", \"zerolinecolor\": \"white\"}, \"yaxis\": {\"backgroundcolor\": \"#E5ECF6\", \"gridcolor\": \"white\", \"gridwidth\": 2, \"linecolor\": \"white\", \"showbackground\": true, \"ticks\": \"\", \"zerolinecolor\": \"white\"}, \"zaxis\": {\"backgroundcolor\": \"#E5ECF6\", \"gridcolor\": \"white\", \"gridwidth\": 2, \"linecolor\": \"white\", \"showbackground\": true, \"ticks\": \"\", \"zerolinecolor\": \"white\"}}, \"shapedefaults\": {\"line\": {\"color\": \"#2a3f5f\"}}, \"ternary\": {\"aaxis\": {\"gridcolor\": \"white\", \"linecolor\": \"white\", \"ticks\": \"\"}, \"baxis\": {\"gridcolor\": \"white\", \"linecolor\": \"white\", \"ticks\": \"\"}, \"bgcolor\": \"#E5ECF6\", \"caxis\": {\"gridcolor\": \"white\", \"linecolor\": \"white\", \"ticks\": \"\"}}, \"title\": {\"x\": 0.05}, \"xaxis\": {\"automargin\": true, \"gridcolor\": \"white\", \"linecolor\": \"white\", \"ticks\": \"\", \"zerolinecolor\": \"white\", \"zerolinewidth\": 2}, \"yaxis\": {\"automargin\": true, \"gridcolor\": \"white\", \"linecolor\": \"white\", \"ticks\": \"\", \"zerolinecolor\": \"white\", \"zerolinewidth\": 2}}}},\n",
       "                        {\"responsive\": true}\n",
       "                    ).then(function(){\n",
       "                            \n",
       "var gd = document.getElementById('719e4824-9d62-4ec5-a76f-6ac4ee393096');\n",
       "var x = new MutationObserver(function (mutations, observer) {{\n",
       "        var display = window.getComputedStyle(gd).display;\n",
       "        if (!display || display === 'none') {{\n",
       "            console.log([gd, 'removed!']);\n",
       "            Plotly.purge(gd);\n",
       "            observer.disconnect();\n",
       "        }}\n",
       "}});\n",
       "\n",
       "// Listen for the removal of the full notebook cells\n",
       "var notebookContainer = gd.closest('#notebook-container');\n",
       "if (notebookContainer) {{\n",
       "    x.observe(notebookContainer, {childList: true});\n",
       "}}\n",
       "\n",
       "// Listen for the clearing of the current output cell\n",
       "var outputEl = gd.closest('.output');\n",
       "if (outputEl) {{\n",
       "    x.observe(outputEl, {childList: true});\n",
       "}}\n",
       "\n",
       "                        })\n",
       "                };\n",
       "                });\n",
       "            </script>\n",
       "        </div>"
      ]
     },
     "metadata": {},
     "output_type": "display_data"
    }
   ],
   "source": [
    "f = [10, 20, 30, 40, 50]\n",
    "\n",
    "trace0 = go.Scatter(\n",
    "    x = f,\n",
    "    y = errorsH1,\n",
    "    mode = 'lines',\n",
    "    name = 'Heuristic1'\n",
    ")\n",
    "\n",
    "trace1 = go.Scatter(\n",
    "    x = f,\n",
    "    y = errorsH2,\n",
    "    mode = 'lines',\n",
    "    name = 'Heuristic2'\n",
    ")\n",
    "\n",
    "data = [trace0, trace1]\n",
    "\n",
    "iplot(data)"
   ]
  },
  {
   "cell_type": "markdown",
   "metadata": {
    "ExecuteTime": {
     "end_time": "2019-06-15T18:20:28.652904Z",
     "start_time": "2019-06-15T18:20:28.327767Z"
    }
   },
   "source": [
    "# PLOT 2\n",
    "\n",
    "## Радио опсег vs Error"
   ]
  },
  {
   "cell_type": "code",
   "execution_count": 83,
   "metadata": {
    "ExecuteTime": {
     "end_time": "2019-12-26T10:37:13.845061Z",
     "start_time": "2019-12-26T10:37:12.635297Z"
    }
   },
   "outputs": [
    {
     "name": "stdout",
     "output_type": "stream",
     "text": [
      "[1.7731675780329215, 1.9857556853550384, 1.9245117041414033, 1.9215700132944253]\n"
     ]
    }
   ],
   "source": [
    "N = 100\n",
    "L = 100\n",
    "f = 25\n",
    "r = 10\n",
    "# R = {20, 30, 40, 50}\n",
    "\n",
    "heuristic = 1\n",
    "errorsH1 = []\n",
    "\n",
    "nodes = None\n",
    "for R in range(20, 51, 10):\n",
    "    error = 0\n",
    "    for i in range(0, 20):\n",
    "        nodes = generateNodes(N, L, R, r, f)\n",
    "        nodes = findNeighbours(nodes, R)\n",
    "        nodes = estimateLocations(nodes, heuristic)\n",
    "        error = error + calculateError(nodes, N, f)\n",
    "    errorsH1.append(error/20)\n",
    "\n",
    "print(errorsH1)"
   ]
  },
  {
   "cell_type": "code",
   "execution_count": 84,
   "metadata": {
    "ExecuteTime": {
     "end_time": "2019-12-26T10:37:18.962548Z",
     "start_time": "2019-12-26T10:37:17.792792Z"
    }
   },
   "outputs": [
    {
     "name": "stdout",
     "output_type": "stream",
     "text": [
      "[2.6437830670182527, 3.9565646115489157, 4.842298532634191, 6.146444812141929]\n"
     ]
    }
   ],
   "source": [
    "heuristic = 2\n",
    "errorsH2 = []\n",
    "\n",
    "nodes = None\n",
    "for R in range(20, 51, 10):\n",
    "    error = 0\n",
    "    for i in range(0, 20):\n",
    "        nodes = generateNodes(N, L, R, r, f)\n",
    "        nodes = findNeighbours(nodes, R)\n",
    "        nodes = estimateLocations(nodes, heuristic)\n",
    "        error = error + calculateError(nodes, N, f)\n",
    "    errorsH2.append(error/20)\n",
    "\n",
    "print(errorsH2)"
   ]
  },
  {
   "cell_type": "code",
   "execution_count": 85,
   "metadata": {
    "ExecuteTime": {
     "end_time": "2019-12-26T10:37:30.336659Z",
     "start_time": "2019-12-26T10:37:29.965752Z"
    }
   },
   "outputs": [
    {
     "data": {
      "application/vnd.plotly.v1+json": {
       "config": {
        "linkText": "Export to plot.ly",
        "plotlyServerURL": "https://plot.ly",
        "showLink": false
       },
       "data": [
        {
         "mode": "lines",
         "name": "Heuristic1",
         "type": "scatter",
         "x": [
          10,
          20,
          30,
          40,
          50
         ],
         "y": [
          1.7731675780329215,
          1.9857556853550384,
          1.9245117041414033,
          1.9215700132944253
         ]
        },
        {
         "mode": "lines",
         "name": "Heuristic2",
         "type": "scatter",
         "x": [
          10,
          20,
          30,
          40,
          50
         ],
         "y": [
          2.6437830670182527,
          3.9565646115489157,
          4.842298532634191,
          6.146444812141929
         ]
        }
       ],
       "layout": {
        "template": {
         "data": {
          "bar": [
           {
            "error_x": {
             "color": "#2a3f5f"
            },
            "error_y": {
             "color": "#2a3f5f"
            },
            "marker": {
             "line": {
              "color": "#E5ECF6",
              "width": 0.5
             }
            },
            "type": "bar"
           }
          ],
          "barpolar": [
           {
            "marker": {
             "line": {
              "color": "#E5ECF6",
              "width": 0.5
             }
            },
            "type": "barpolar"
           }
          ],
          "carpet": [
           {
            "aaxis": {
             "endlinecolor": "#2a3f5f",
             "gridcolor": "white",
             "linecolor": "white",
             "minorgridcolor": "white",
             "startlinecolor": "#2a3f5f"
            },
            "baxis": {
             "endlinecolor": "#2a3f5f",
             "gridcolor": "white",
             "linecolor": "white",
             "minorgridcolor": "white",
             "startlinecolor": "#2a3f5f"
            },
            "type": "carpet"
           }
          ],
          "choropleth": [
           {
            "colorbar": {
             "outlinewidth": 0,
             "ticks": ""
            },
            "type": "choropleth"
           }
          ],
          "contour": [
           {
            "colorbar": {
             "outlinewidth": 0,
             "ticks": ""
            },
            "colorscale": [
             [
              0,
              "#0d0887"
             ],
             [
              0.1111111111111111,
              "#46039f"
             ],
             [
              0.2222222222222222,
              "#7201a8"
             ],
             [
              0.3333333333333333,
              "#9c179e"
             ],
             [
              0.4444444444444444,
              "#bd3786"
             ],
             [
              0.5555555555555556,
              "#d8576b"
             ],
             [
              0.6666666666666666,
              "#ed7953"
             ],
             [
              0.7777777777777778,
              "#fb9f3a"
             ],
             [
              0.8888888888888888,
              "#fdca26"
             ],
             [
              1,
              "#f0f921"
             ]
            ],
            "type": "contour"
           }
          ],
          "contourcarpet": [
           {
            "colorbar": {
             "outlinewidth": 0,
             "ticks": ""
            },
            "type": "contourcarpet"
           }
          ],
          "heatmap": [
           {
            "colorbar": {
             "outlinewidth": 0,
             "ticks": ""
            },
            "colorscale": [
             [
              0,
              "#0d0887"
             ],
             [
              0.1111111111111111,
              "#46039f"
             ],
             [
              0.2222222222222222,
              "#7201a8"
             ],
             [
              0.3333333333333333,
              "#9c179e"
             ],
             [
              0.4444444444444444,
              "#bd3786"
             ],
             [
              0.5555555555555556,
              "#d8576b"
             ],
             [
              0.6666666666666666,
              "#ed7953"
             ],
             [
              0.7777777777777778,
              "#fb9f3a"
             ],
             [
              0.8888888888888888,
              "#fdca26"
             ],
             [
              1,
              "#f0f921"
             ]
            ],
            "type": "heatmap"
           }
          ],
          "heatmapgl": [
           {
            "colorbar": {
             "outlinewidth": 0,
             "ticks": ""
            },
            "colorscale": [
             [
              0,
              "#0d0887"
             ],
             [
              0.1111111111111111,
              "#46039f"
             ],
             [
              0.2222222222222222,
              "#7201a8"
             ],
             [
              0.3333333333333333,
              "#9c179e"
             ],
             [
              0.4444444444444444,
              "#bd3786"
             ],
             [
              0.5555555555555556,
              "#d8576b"
             ],
             [
              0.6666666666666666,
              "#ed7953"
             ],
             [
              0.7777777777777778,
              "#fb9f3a"
             ],
             [
              0.8888888888888888,
              "#fdca26"
             ],
             [
              1,
              "#f0f921"
             ]
            ],
            "type": "heatmapgl"
           }
          ],
          "histogram": [
           {
            "marker": {
             "colorbar": {
              "outlinewidth": 0,
              "ticks": ""
             }
            },
            "type": "histogram"
           }
          ],
          "histogram2d": [
           {
            "colorbar": {
             "outlinewidth": 0,
             "ticks": ""
            },
            "colorscale": [
             [
              0,
              "#0d0887"
             ],
             [
              0.1111111111111111,
              "#46039f"
             ],
             [
              0.2222222222222222,
              "#7201a8"
             ],
             [
              0.3333333333333333,
              "#9c179e"
             ],
             [
              0.4444444444444444,
              "#bd3786"
             ],
             [
              0.5555555555555556,
              "#d8576b"
             ],
             [
              0.6666666666666666,
              "#ed7953"
             ],
             [
              0.7777777777777778,
              "#fb9f3a"
             ],
             [
              0.8888888888888888,
              "#fdca26"
             ],
             [
              1,
              "#f0f921"
             ]
            ],
            "type": "histogram2d"
           }
          ],
          "histogram2dcontour": [
           {
            "colorbar": {
             "outlinewidth": 0,
             "ticks": ""
            },
            "colorscale": [
             [
              0,
              "#0d0887"
             ],
             [
              0.1111111111111111,
              "#46039f"
             ],
             [
              0.2222222222222222,
              "#7201a8"
             ],
             [
              0.3333333333333333,
              "#9c179e"
             ],
             [
              0.4444444444444444,
              "#bd3786"
             ],
             [
              0.5555555555555556,
              "#d8576b"
             ],
             [
              0.6666666666666666,
              "#ed7953"
             ],
             [
              0.7777777777777778,
              "#fb9f3a"
             ],
             [
              0.8888888888888888,
              "#fdca26"
             ],
             [
              1,
              "#f0f921"
             ]
            ],
            "type": "histogram2dcontour"
           }
          ],
          "mesh3d": [
           {
            "colorbar": {
             "outlinewidth": 0,
             "ticks": ""
            },
            "type": "mesh3d"
           }
          ],
          "parcoords": [
           {
            "line": {
             "colorbar": {
              "outlinewidth": 0,
              "ticks": ""
             }
            },
            "type": "parcoords"
           }
          ],
          "scatter": [
           {
            "marker": {
             "colorbar": {
              "outlinewidth": 0,
              "ticks": ""
             }
            },
            "type": "scatter"
           }
          ],
          "scatter3d": [
           {
            "line": {
             "colorbar": {
              "outlinewidth": 0,
              "ticks": ""
             }
            },
            "marker": {
             "colorbar": {
              "outlinewidth": 0,
              "ticks": ""
             }
            },
            "type": "scatter3d"
           }
          ],
          "scattercarpet": [
           {
            "marker": {
             "colorbar": {
              "outlinewidth": 0,
              "ticks": ""
             }
            },
            "type": "scattercarpet"
           }
          ],
          "scattergeo": [
           {
            "marker": {
             "colorbar": {
              "outlinewidth": 0,
              "ticks": ""
             }
            },
            "type": "scattergeo"
           }
          ],
          "scattergl": [
           {
            "marker": {
             "colorbar": {
              "outlinewidth": 0,
              "ticks": ""
             }
            },
            "type": "scattergl"
           }
          ],
          "scattermapbox": [
           {
            "marker": {
             "colorbar": {
              "outlinewidth": 0,
              "ticks": ""
             }
            },
            "type": "scattermapbox"
           }
          ],
          "scatterpolar": [
           {
            "marker": {
             "colorbar": {
              "outlinewidth": 0,
              "ticks": ""
             }
            },
            "type": "scatterpolar"
           }
          ],
          "scatterpolargl": [
           {
            "marker": {
             "colorbar": {
              "outlinewidth": 0,
              "ticks": ""
             }
            },
            "type": "scatterpolargl"
           }
          ],
          "scatterternary": [
           {
            "marker": {
             "colorbar": {
              "outlinewidth": 0,
              "ticks": ""
             }
            },
            "type": "scatterternary"
           }
          ],
          "surface": [
           {
            "colorbar": {
             "outlinewidth": 0,
             "ticks": ""
            },
            "colorscale": [
             [
              0,
              "#0d0887"
             ],
             [
              0.1111111111111111,
              "#46039f"
             ],
             [
              0.2222222222222222,
              "#7201a8"
             ],
             [
              0.3333333333333333,
              "#9c179e"
             ],
             [
              0.4444444444444444,
              "#bd3786"
             ],
             [
              0.5555555555555556,
              "#d8576b"
             ],
             [
              0.6666666666666666,
              "#ed7953"
             ],
             [
              0.7777777777777778,
              "#fb9f3a"
             ],
             [
              0.8888888888888888,
              "#fdca26"
             ],
             [
              1,
              "#f0f921"
             ]
            ],
            "type": "surface"
           }
          ],
          "table": [
           {
            "cells": {
             "fill": {
              "color": "#EBF0F8"
             },
             "line": {
              "color": "white"
             }
            },
            "header": {
             "fill": {
              "color": "#C8D4E3"
             },
             "line": {
              "color": "white"
             }
            },
            "type": "table"
           }
          ]
         },
         "layout": {
          "annotationdefaults": {
           "arrowcolor": "#2a3f5f",
           "arrowhead": 0,
           "arrowwidth": 1
          },
          "colorscale": {
           "diverging": [
            [
             0,
             "#8e0152"
            ],
            [
             0.1,
             "#c51b7d"
            ],
            [
             0.2,
             "#de77ae"
            ],
            [
             0.3,
             "#f1b6da"
            ],
            [
             0.4,
             "#fde0ef"
            ],
            [
             0.5,
             "#f7f7f7"
            ],
            [
             0.6,
             "#e6f5d0"
            ],
            [
             0.7,
             "#b8e186"
            ],
            [
             0.8,
             "#7fbc41"
            ],
            [
             0.9,
             "#4d9221"
            ],
            [
             1,
             "#276419"
            ]
           ],
           "sequential": [
            [
             0,
             "#0d0887"
            ],
            [
             0.1111111111111111,
             "#46039f"
            ],
            [
             0.2222222222222222,
             "#7201a8"
            ],
            [
             0.3333333333333333,
             "#9c179e"
            ],
            [
             0.4444444444444444,
             "#bd3786"
            ],
            [
             0.5555555555555556,
             "#d8576b"
            ],
            [
             0.6666666666666666,
             "#ed7953"
            ],
            [
             0.7777777777777778,
             "#fb9f3a"
            ],
            [
             0.8888888888888888,
             "#fdca26"
            ],
            [
             1,
             "#f0f921"
            ]
           ],
           "sequentialminus": [
            [
             0,
             "#0d0887"
            ],
            [
             0.1111111111111111,
             "#46039f"
            ],
            [
             0.2222222222222222,
             "#7201a8"
            ],
            [
             0.3333333333333333,
             "#9c179e"
            ],
            [
             0.4444444444444444,
             "#bd3786"
            ],
            [
             0.5555555555555556,
             "#d8576b"
            ],
            [
             0.6666666666666666,
             "#ed7953"
            ],
            [
             0.7777777777777778,
             "#fb9f3a"
            ],
            [
             0.8888888888888888,
             "#fdca26"
            ],
            [
             1,
             "#f0f921"
            ]
           ]
          },
          "colorway": [
           "#636efa",
           "#EF553B",
           "#00cc96",
           "#ab63fa",
           "#FFA15A",
           "#19d3f3",
           "#FF6692",
           "#B6E880",
           "#FF97FF",
           "#FECB52"
          ],
          "font": {
           "color": "#2a3f5f"
          },
          "geo": {
           "bgcolor": "white",
           "lakecolor": "white",
           "landcolor": "#E5ECF6",
           "showlakes": true,
           "showland": true,
           "subunitcolor": "white"
          },
          "hoverlabel": {
           "align": "left"
          },
          "hovermode": "closest",
          "mapbox": {
           "style": "light"
          },
          "paper_bgcolor": "white",
          "plot_bgcolor": "#E5ECF6",
          "polar": {
           "angularaxis": {
            "gridcolor": "white",
            "linecolor": "white",
            "ticks": ""
           },
           "bgcolor": "#E5ECF6",
           "radialaxis": {
            "gridcolor": "white",
            "linecolor": "white",
            "ticks": ""
           }
          },
          "scene": {
           "xaxis": {
            "backgroundcolor": "#E5ECF6",
            "gridcolor": "white",
            "gridwidth": 2,
            "linecolor": "white",
            "showbackground": true,
            "ticks": "",
            "zerolinecolor": "white"
           },
           "yaxis": {
            "backgroundcolor": "#E5ECF6",
            "gridcolor": "white",
            "gridwidth": 2,
            "linecolor": "white",
            "showbackground": true,
            "ticks": "",
            "zerolinecolor": "white"
           },
           "zaxis": {
            "backgroundcolor": "#E5ECF6",
            "gridcolor": "white",
            "gridwidth": 2,
            "linecolor": "white",
            "showbackground": true,
            "ticks": "",
            "zerolinecolor": "white"
           }
          },
          "shapedefaults": {
           "line": {
            "color": "#2a3f5f"
           }
          },
          "ternary": {
           "aaxis": {
            "gridcolor": "white",
            "linecolor": "white",
            "ticks": ""
           },
           "baxis": {
            "gridcolor": "white",
            "linecolor": "white",
            "ticks": ""
           },
           "bgcolor": "#E5ECF6",
           "caxis": {
            "gridcolor": "white",
            "linecolor": "white",
            "ticks": ""
           }
          },
          "title": {
           "x": 0.05
          },
          "xaxis": {
           "automargin": true,
           "gridcolor": "white",
           "linecolor": "white",
           "ticks": "",
           "zerolinecolor": "white",
           "zerolinewidth": 2
          },
          "yaxis": {
           "automargin": true,
           "gridcolor": "white",
           "linecolor": "white",
           "ticks": "",
           "zerolinecolor": "white",
           "zerolinewidth": 2
          }
         }
        }
       }
      },
      "text/html": [
       "<div>\n",
       "        \n",
       "        \n",
       "            <div id=\"41b43587-41b0-4bdb-b091-3937ff489ffc\" class=\"plotly-graph-div\" style=\"height:525px; width:100%;\"></div>\n",
       "            <script type=\"text/javascript\">\n",
       "                require([\"plotly\"], function(Plotly) {\n",
       "                    window.PLOTLYENV=window.PLOTLYENV || {};\n",
       "                    \n",
       "                if (document.getElementById(\"41b43587-41b0-4bdb-b091-3937ff489ffc\")) {\n",
       "                    Plotly.newPlot(\n",
       "                        '41b43587-41b0-4bdb-b091-3937ff489ffc',\n",
       "                        [{\"mode\": \"lines\", \"name\": \"Heuristic1\", \"type\": \"scatter\", \"x\": [10, 20, 30, 40, 50], \"y\": [1.7731675780329215, 1.9857556853550384, 1.9245117041414033, 1.9215700132944253]}, {\"mode\": \"lines\", \"name\": \"Heuristic2\", \"type\": \"scatter\", \"x\": [10, 20, 30, 40, 50], \"y\": [2.6437830670182527, 3.9565646115489157, 4.842298532634191, 6.146444812141929]}],\n",
       "                        {\"template\": {\"data\": {\"bar\": [{\"error_x\": {\"color\": \"#2a3f5f\"}, \"error_y\": {\"color\": \"#2a3f5f\"}, \"marker\": {\"line\": {\"color\": \"#E5ECF6\", \"width\": 0.5}}, \"type\": \"bar\"}], \"barpolar\": [{\"marker\": {\"line\": {\"color\": \"#E5ECF6\", \"width\": 0.5}}, \"type\": \"barpolar\"}], \"carpet\": [{\"aaxis\": {\"endlinecolor\": \"#2a3f5f\", \"gridcolor\": \"white\", \"linecolor\": \"white\", \"minorgridcolor\": \"white\", \"startlinecolor\": \"#2a3f5f\"}, \"baxis\": {\"endlinecolor\": \"#2a3f5f\", \"gridcolor\": \"white\", \"linecolor\": \"white\", \"minorgridcolor\": \"white\", \"startlinecolor\": \"#2a3f5f\"}, \"type\": \"carpet\"}], \"choropleth\": [{\"colorbar\": {\"outlinewidth\": 0, \"ticks\": \"\"}, \"type\": \"choropleth\"}], \"contour\": [{\"colorbar\": {\"outlinewidth\": 0, \"ticks\": \"\"}, \"colorscale\": [[0.0, \"#0d0887\"], [0.1111111111111111, \"#46039f\"], [0.2222222222222222, \"#7201a8\"], [0.3333333333333333, \"#9c179e\"], [0.4444444444444444, \"#bd3786\"], [0.5555555555555556, \"#d8576b\"], [0.6666666666666666, \"#ed7953\"], [0.7777777777777778, \"#fb9f3a\"], [0.8888888888888888, \"#fdca26\"], [1.0, \"#f0f921\"]], \"type\": \"contour\"}], \"contourcarpet\": [{\"colorbar\": {\"outlinewidth\": 0, \"ticks\": \"\"}, \"type\": \"contourcarpet\"}], \"heatmap\": [{\"colorbar\": {\"outlinewidth\": 0, \"ticks\": \"\"}, \"colorscale\": [[0.0, \"#0d0887\"], [0.1111111111111111, \"#46039f\"], [0.2222222222222222, \"#7201a8\"], [0.3333333333333333, \"#9c179e\"], [0.4444444444444444, \"#bd3786\"], [0.5555555555555556, \"#d8576b\"], [0.6666666666666666, \"#ed7953\"], [0.7777777777777778, \"#fb9f3a\"], [0.8888888888888888, \"#fdca26\"], [1.0, \"#f0f921\"]], \"type\": \"heatmap\"}], \"heatmapgl\": [{\"colorbar\": {\"outlinewidth\": 0, \"ticks\": \"\"}, \"colorscale\": [[0.0, \"#0d0887\"], [0.1111111111111111, \"#46039f\"], [0.2222222222222222, \"#7201a8\"], [0.3333333333333333, \"#9c179e\"], [0.4444444444444444, \"#bd3786\"], [0.5555555555555556, \"#d8576b\"], [0.6666666666666666, \"#ed7953\"], [0.7777777777777778, \"#fb9f3a\"], [0.8888888888888888, \"#fdca26\"], [1.0, \"#f0f921\"]], \"type\": \"heatmapgl\"}], \"histogram\": [{\"marker\": {\"colorbar\": {\"outlinewidth\": 0, \"ticks\": \"\"}}, \"type\": \"histogram\"}], \"histogram2d\": [{\"colorbar\": {\"outlinewidth\": 0, \"ticks\": \"\"}, \"colorscale\": [[0.0, \"#0d0887\"], [0.1111111111111111, \"#46039f\"], [0.2222222222222222, \"#7201a8\"], [0.3333333333333333, \"#9c179e\"], [0.4444444444444444, \"#bd3786\"], [0.5555555555555556, \"#d8576b\"], [0.6666666666666666, \"#ed7953\"], [0.7777777777777778, \"#fb9f3a\"], [0.8888888888888888, \"#fdca26\"], [1.0, \"#f0f921\"]], \"type\": \"histogram2d\"}], \"histogram2dcontour\": [{\"colorbar\": {\"outlinewidth\": 0, \"ticks\": \"\"}, \"colorscale\": [[0.0, \"#0d0887\"], [0.1111111111111111, \"#46039f\"], [0.2222222222222222, \"#7201a8\"], [0.3333333333333333, \"#9c179e\"], [0.4444444444444444, \"#bd3786\"], [0.5555555555555556, \"#d8576b\"], [0.6666666666666666, \"#ed7953\"], [0.7777777777777778, \"#fb9f3a\"], [0.8888888888888888, \"#fdca26\"], [1.0, \"#f0f921\"]], \"type\": \"histogram2dcontour\"}], \"mesh3d\": [{\"colorbar\": {\"outlinewidth\": 0, \"ticks\": \"\"}, \"type\": \"mesh3d\"}], \"parcoords\": [{\"line\": {\"colorbar\": {\"outlinewidth\": 0, \"ticks\": \"\"}}, \"type\": \"parcoords\"}], \"scatter\": [{\"marker\": {\"colorbar\": {\"outlinewidth\": 0, \"ticks\": \"\"}}, \"type\": \"scatter\"}], \"scatter3d\": [{\"line\": {\"colorbar\": {\"outlinewidth\": 0, \"ticks\": \"\"}}, \"marker\": {\"colorbar\": {\"outlinewidth\": 0, \"ticks\": \"\"}}, \"type\": \"scatter3d\"}], \"scattercarpet\": [{\"marker\": {\"colorbar\": {\"outlinewidth\": 0, \"ticks\": \"\"}}, \"type\": \"scattercarpet\"}], \"scattergeo\": [{\"marker\": {\"colorbar\": {\"outlinewidth\": 0, \"ticks\": \"\"}}, \"type\": \"scattergeo\"}], \"scattergl\": [{\"marker\": {\"colorbar\": {\"outlinewidth\": 0, \"ticks\": \"\"}}, \"type\": \"scattergl\"}], \"scattermapbox\": [{\"marker\": {\"colorbar\": {\"outlinewidth\": 0, \"ticks\": \"\"}}, \"type\": \"scattermapbox\"}], \"scatterpolar\": [{\"marker\": {\"colorbar\": {\"outlinewidth\": 0, \"ticks\": \"\"}}, \"type\": \"scatterpolar\"}], \"scatterpolargl\": [{\"marker\": {\"colorbar\": {\"outlinewidth\": 0, \"ticks\": \"\"}}, \"type\": \"scatterpolargl\"}], \"scatterternary\": [{\"marker\": {\"colorbar\": {\"outlinewidth\": 0, \"ticks\": \"\"}}, \"type\": \"scatterternary\"}], \"surface\": [{\"colorbar\": {\"outlinewidth\": 0, \"ticks\": \"\"}, \"colorscale\": [[0.0, \"#0d0887\"], [0.1111111111111111, \"#46039f\"], [0.2222222222222222, \"#7201a8\"], [0.3333333333333333, \"#9c179e\"], [0.4444444444444444, \"#bd3786\"], [0.5555555555555556, \"#d8576b\"], [0.6666666666666666, \"#ed7953\"], [0.7777777777777778, \"#fb9f3a\"], [0.8888888888888888, \"#fdca26\"], [1.0, \"#f0f921\"]], \"type\": \"surface\"}], \"table\": [{\"cells\": {\"fill\": {\"color\": \"#EBF0F8\"}, \"line\": {\"color\": \"white\"}}, \"header\": {\"fill\": {\"color\": \"#C8D4E3\"}, \"line\": {\"color\": \"white\"}}, \"type\": \"table\"}]}, \"layout\": {\"annotationdefaults\": {\"arrowcolor\": \"#2a3f5f\", \"arrowhead\": 0, \"arrowwidth\": 1}, \"colorscale\": {\"diverging\": [[0, \"#8e0152\"], [0.1, \"#c51b7d\"], [0.2, \"#de77ae\"], [0.3, \"#f1b6da\"], [0.4, \"#fde0ef\"], [0.5, \"#f7f7f7\"], [0.6, \"#e6f5d0\"], [0.7, \"#b8e186\"], [0.8, \"#7fbc41\"], [0.9, \"#4d9221\"], [1, \"#276419\"]], \"sequential\": [[0.0, \"#0d0887\"], [0.1111111111111111, \"#46039f\"], [0.2222222222222222, \"#7201a8\"], [0.3333333333333333, \"#9c179e\"], [0.4444444444444444, \"#bd3786\"], [0.5555555555555556, \"#d8576b\"], [0.6666666666666666, \"#ed7953\"], [0.7777777777777778, \"#fb9f3a\"], [0.8888888888888888, \"#fdca26\"], [1.0, \"#f0f921\"]], \"sequentialminus\": [[0.0, \"#0d0887\"], [0.1111111111111111, \"#46039f\"], [0.2222222222222222, \"#7201a8\"], [0.3333333333333333, \"#9c179e\"], [0.4444444444444444, \"#bd3786\"], [0.5555555555555556, \"#d8576b\"], [0.6666666666666666, \"#ed7953\"], [0.7777777777777778, \"#fb9f3a\"], [0.8888888888888888, \"#fdca26\"], [1.0, \"#f0f921\"]]}, \"colorway\": [\"#636efa\", \"#EF553B\", \"#00cc96\", \"#ab63fa\", \"#FFA15A\", \"#19d3f3\", \"#FF6692\", \"#B6E880\", \"#FF97FF\", \"#FECB52\"], \"font\": {\"color\": \"#2a3f5f\"}, \"geo\": {\"bgcolor\": \"white\", \"lakecolor\": \"white\", \"landcolor\": \"#E5ECF6\", \"showlakes\": true, \"showland\": true, \"subunitcolor\": \"white\"}, \"hoverlabel\": {\"align\": \"left\"}, \"hovermode\": \"closest\", \"mapbox\": {\"style\": \"light\"}, \"paper_bgcolor\": \"white\", \"plot_bgcolor\": \"#E5ECF6\", \"polar\": {\"angularaxis\": {\"gridcolor\": \"white\", \"linecolor\": \"white\", \"ticks\": \"\"}, \"bgcolor\": \"#E5ECF6\", \"radialaxis\": {\"gridcolor\": \"white\", \"linecolor\": \"white\", \"ticks\": \"\"}}, \"scene\": {\"xaxis\": {\"backgroundcolor\": \"#E5ECF6\", \"gridcolor\": \"white\", \"gridwidth\": 2, \"linecolor\": \"white\", \"showbackground\": true, \"ticks\": \"\", \"zerolinecolor\": \"white\"}, \"yaxis\": {\"backgroundcolor\": \"#E5ECF6\", \"gridcolor\": \"white\", \"gridwidth\": 2, \"linecolor\": \"white\", \"showbackground\": true, \"ticks\": \"\", \"zerolinecolor\": \"white\"}, \"zaxis\": {\"backgroundcolor\": \"#E5ECF6\", \"gridcolor\": \"white\", \"gridwidth\": 2, \"linecolor\": \"white\", \"showbackground\": true, \"ticks\": \"\", \"zerolinecolor\": \"white\"}}, \"shapedefaults\": {\"line\": {\"color\": \"#2a3f5f\"}}, \"ternary\": {\"aaxis\": {\"gridcolor\": \"white\", \"linecolor\": \"white\", \"ticks\": \"\"}, \"baxis\": {\"gridcolor\": \"white\", \"linecolor\": \"white\", \"ticks\": \"\"}, \"bgcolor\": \"#E5ECF6\", \"caxis\": {\"gridcolor\": \"white\", \"linecolor\": \"white\", \"ticks\": \"\"}}, \"title\": {\"x\": 0.05}, \"xaxis\": {\"automargin\": true, \"gridcolor\": \"white\", \"linecolor\": \"white\", \"ticks\": \"\", \"zerolinecolor\": \"white\", \"zerolinewidth\": 2}, \"yaxis\": {\"automargin\": true, \"gridcolor\": \"white\", \"linecolor\": \"white\", \"ticks\": \"\", \"zerolinecolor\": \"white\", \"zerolinewidth\": 2}}}},\n",
       "                        {\"responsive\": true}\n",
       "                    ).then(function(){\n",
       "                            \n",
       "var gd = document.getElementById('41b43587-41b0-4bdb-b091-3937ff489ffc');\n",
       "var x = new MutationObserver(function (mutations, observer) {{\n",
       "        var display = window.getComputedStyle(gd).display;\n",
       "        if (!display || display === 'none') {{\n",
       "            console.log([gd, 'removed!']);\n",
       "            Plotly.purge(gd);\n",
       "            observer.disconnect();\n",
       "        }}\n",
       "}});\n",
       "\n",
       "// Listen for the removal of the full notebook cells\n",
       "var notebookContainer = gd.closest('#notebook-container');\n",
       "if (notebookContainer) {{\n",
       "    x.observe(notebookContainer, {childList: true});\n",
       "}}\n",
       "\n",
       "// Listen for the clearing of the current output cell\n",
       "var outputEl = gd.closest('.output');\n",
       "if (outputEl) {{\n",
       "    x.observe(outputEl, {childList: true});\n",
       "}}\n",
       "\n",
       "                        })\n",
       "                };\n",
       "                });\n",
       "            </script>\n",
       "        </div>"
      ]
     },
     "metadata": {},
     "output_type": "display_data"
    }
   ],
   "source": [
    "R = [10, 20, 30, 40, 50]\n",
    "\n",
    "trace0 = go.Scatter(\n",
    "    x = R,\n",
    "    y = errorsH1,\n",
    "    mode = 'lines',\n",
    "    name = 'Heuristic1'\n",
    ")\n",
    "\n",
    "trace1 = go.Scatter(\n",
    "    x = R,\n",
    "    y = errorsH2,\n",
    "    mode = 'lines',\n",
    "    name = 'Heuristic2'\n",
    ")\n",
    "\n",
    "data = [trace0, trace1]\n",
    "\n",
    "iplot(data)"
   ]
  },
  {
   "cell_type": "markdown",
   "metadata": {},
   "source": [
    "# PLOT 3\n",
    "\n",
    "## Шум vs Error"
   ]
  },
  {
   "cell_type": "code",
   "execution_count": 86,
   "metadata": {
    "ExecuteTime": {
     "end_time": "2019-12-26T10:38:09.365834Z",
     "start_time": "2019-12-26T10:38:07.971274Z"
    }
   },
   "outputs": [
    {
     "name": "stdout",
     "output_type": "stream",
     "text": [
      "[1.0303119574627444, 2.0180821469171666, 2.671491917239024, 3.285875551251602, 4.030617398419324]\n"
     ]
    }
   ],
   "source": [
    "N = 100\n",
    "L = 100\n",
    "f = 25\n",
    "R = 35\n",
    "# r = {5,10,15,20,25}\n",
    "\n",
    "heuristic = 1\n",
    "errorsH1 = []\n",
    "\n",
    "nodes = None\n",
    "for r in range(5, 26, 5):\n",
    "    error = 0\n",
    "    for i in range(0, 20):\n",
    "        nodes = generateNodes(N, L, R, r, f)\n",
    "        nodes = findNeighbours(nodes, R)\n",
    "        nodes = estimateLocations(nodes, heuristic, r)\n",
    "        error = error + calculateError(nodes, N, f)\n",
    "    errorsH1.append(error/20)\n",
    "\n",
    "print(errorsH1)"
   ]
  },
  {
   "cell_type": "code",
   "execution_count": 87,
   "metadata": {
    "ExecuteTime": {
     "end_time": "2019-12-26T10:38:12.445127Z",
     "start_time": "2019-12-26T10:38:11.113663Z"
    }
   },
   "outputs": [
    {
     "name": "stdout",
     "output_type": "stream",
     "text": [
      "[2.487417779793502, 3.9921072299972877, 6.463715783825483, 7.955255566339927, 8.88574253548418]\n"
     ]
    }
   ],
   "source": [
    "heuristic = 2\n",
    "errorsH2 = []\n",
    "\n",
    "nodes = None\n",
    "for r in range(5, 26, 5):\n",
    "    error = 0\n",
    "    for i in range(0, 20):\n",
    "        nodes = generateNodes(N, L, R, r, f)\n",
    "        nodes = findNeighbours(nodes, R)\n",
    "        nodes = estimateLocations(nodes, heuristic, r)\n",
    "        error = error + calculateError(nodes, N, f)\n",
    "    errorsH2.append(error/20)\n",
    "\n",
    "print(errorsH2)"
   ]
  },
  {
   "cell_type": "code",
   "execution_count": 88,
   "metadata": {
    "ExecuteTime": {
     "end_time": "2019-12-26T10:38:21.628974Z",
     "start_time": "2019-12-26T10:38:21.393560Z"
    }
   },
   "outputs": [
    {
     "data": {
      "application/vnd.plotly.v1+json": {
       "config": {
        "linkText": "Export to plot.ly",
        "plotlyServerURL": "https://plot.ly",
        "showLink": false
       },
       "data": [
        {
         "mode": "lines",
         "name": "Heuristic1",
         "type": "scatter",
         "x": [
          5,
          10,
          15,
          20,
          25
         ],
         "y": [
          1.0303119574627444,
          2.0180821469171666,
          2.671491917239024,
          3.285875551251602,
          4.030617398419324
         ]
        },
        {
         "mode": "lines",
         "name": "Heuristic2",
         "type": "scatter",
         "x": [
          5,
          10,
          15,
          20,
          25
         ],
         "y": [
          2.487417779793502,
          3.9921072299972877,
          6.463715783825483,
          7.955255566339927,
          8.88574253548418
         ]
        }
       ],
       "layout": {
        "template": {
         "data": {
          "bar": [
           {
            "error_x": {
             "color": "#2a3f5f"
            },
            "error_y": {
             "color": "#2a3f5f"
            },
            "marker": {
             "line": {
              "color": "#E5ECF6",
              "width": 0.5
             }
            },
            "type": "bar"
           }
          ],
          "barpolar": [
           {
            "marker": {
             "line": {
              "color": "#E5ECF6",
              "width": 0.5
             }
            },
            "type": "barpolar"
           }
          ],
          "carpet": [
           {
            "aaxis": {
             "endlinecolor": "#2a3f5f",
             "gridcolor": "white",
             "linecolor": "white",
             "minorgridcolor": "white",
             "startlinecolor": "#2a3f5f"
            },
            "baxis": {
             "endlinecolor": "#2a3f5f",
             "gridcolor": "white",
             "linecolor": "white",
             "minorgridcolor": "white",
             "startlinecolor": "#2a3f5f"
            },
            "type": "carpet"
           }
          ],
          "choropleth": [
           {
            "colorbar": {
             "outlinewidth": 0,
             "ticks": ""
            },
            "type": "choropleth"
           }
          ],
          "contour": [
           {
            "colorbar": {
             "outlinewidth": 0,
             "ticks": ""
            },
            "colorscale": [
             [
              0,
              "#0d0887"
             ],
             [
              0.1111111111111111,
              "#46039f"
             ],
             [
              0.2222222222222222,
              "#7201a8"
             ],
             [
              0.3333333333333333,
              "#9c179e"
             ],
             [
              0.4444444444444444,
              "#bd3786"
             ],
             [
              0.5555555555555556,
              "#d8576b"
             ],
             [
              0.6666666666666666,
              "#ed7953"
             ],
             [
              0.7777777777777778,
              "#fb9f3a"
             ],
             [
              0.8888888888888888,
              "#fdca26"
             ],
             [
              1,
              "#f0f921"
             ]
            ],
            "type": "contour"
           }
          ],
          "contourcarpet": [
           {
            "colorbar": {
             "outlinewidth": 0,
             "ticks": ""
            },
            "type": "contourcarpet"
           }
          ],
          "heatmap": [
           {
            "colorbar": {
             "outlinewidth": 0,
             "ticks": ""
            },
            "colorscale": [
             [
              0,
              "#0d0887"
             ],
             [
              0.1111111111111111,
              "#46039f"
             ],
             [
              0.2222222222222222,
              "#7201a8"
             ],
             [
              0.3333333333333333,
              "#9c179e"
             ],
             [
              0.4444444444444444,
              "#bd3786"
             ],
             [
              0.5555555555555556,
              "#d8576b"
             ],
             [
              0.6666666666666666,
              "#ed7953"
             ],
             [
              0.7777777777777778,
              "#fb9f3a"
             ],
             [
              0.8888888888888888,
              "#fdca26"
             ],
             [
              1,
              "#f0f921"
             ]
            ],
            "type": "heatmap"
           }
          ],
          "heatmapgl": [
           {
            "colorbar": {
             "outlinewidth": 0,
             "ticks": ""
            },
            "colorscale": [
             [
              0,
              "#0d0887"
             ],
             [
              0.1111111111111111,
              "#46039f"
             ],
             [
              0.2222222222222222,
              "#7201a8"
             ],
             [
              0.3333333333333333,
              "#9c179e"
             ],
             [
              0.4444444444444444,
              "#bd3786"
             ],
             [
              0.5555555555555556,
              "#d8576b"
             ],
             [
              0.6666666666666666,
              "#ed7953"
             ],
             [
              0.7777777777777778,
              "#fb9f3a"
             ],
             [
              0.8888888888888888,
              "#fdca26"
             ],
             [
              1,
              "#f0f921"
             ]
            ],
            "type": "heatmapgl"
           }
          ],
          "histogram": [
           {
            "marker": {
             "colorbar": {
              "outlinewidth": 0,
              "ticks": ""
             }
            },
            "type": "histogram"
           }
          ],
          "histogram2d": [
           {
            "colorbar": {
             "outlinewidth": 0,
             "ticks": ""
            },
            "colorscale": [
             [
              0,
              "#0d0887"
             ],
             [
              0.1111111111111111,
              "#46039f"
             ],
             [
              0.2222222222222222,
              "#7201a8"
             ],
             [
              0.3333333333333333,
              "#9c179e"
             ],
             [
              0.4444444444444444,
              "#bd3786"
             ],
             [
              0.5555555555555556,
              "#d8576b"
             ],
             [
              0.6666666666666666,
              "#ed7953"
             ],
             [
              0.7777777777777778,
              "#fb9f3a"
             ],
             [
              0.8888888888888888,
              "#fdca26"
             ],
             [
              1,
              "#f0f921"
             ]
            ],
            "type": "histogram2d"
           }
          ],
          "histogram2dcontour": [
           {
            "colorbar": {
             "outlinewidth": 0,
             "ticks": ""
            },
            "colorscale": [
             [
              0,
              "#0d0887"
             ],
             [
              0.1111111111111111,
              "#46039f"
             ],
             [
              0.2222222222222222,
              "#7201a8"
             ],
             [
              0.3333333333333333,
              "#9c179e"
             ],
             [
              0.4444444444444444,
              "#bd3786"
             ],
             [
              0.5555555555555556,
              "#d8576b"
             ],
             [
              0.6666666666666666,
              "#ed7953"
             ],
             [
              0.7777777777777778,
              "#fb9f3a"
             ],
             [
              0.8888888888888888,
              "#fdca26"
             ],
             [
              1,
              "#f0f921"
             ]
            ],
            "type": "histogram2dcontour"
           }
          ],
          "mesh3d": [
           {
            "colorbar": {
             "outlinewidth": 0,
             "ticks": ""
            },
            "type": "mesh3d"
           }
          ],
          "parcoords": [
           {
            "line": {
             "colorbar": {
              "outlinewidth": 0,
              "ticks": ""
             }
            },
            "type": "parcoords"
           }
          ],
          "scatter": [
           {
            "marker": {
             "colorbar": {
              "outlinewidth": 0,
              "ticks": ""
             }
            },
            "type": "scatter"
           }
          ],
          "scatter3d": [
           {
            "line": {
             "colorbar": {
              "outlinewidth": 0,
              "ticks": ""
             }
            },
            "marker": {
             "colorbar": {
              "outlinewidth": 0,
              "ticks": ""
             }
            },
            "type": "scatter3d"
           }
          ],
          "scattercarpet": [
           {
            "marker": {
             "colorbar": {
              "outlinewidth": 0,
              "ticks": ""
             }
            },
            "type": "scattercarpet"
           }
          ],
          "scattergeo": [
           {
            "marker": {
             "colorbar": {
              "outlinewidth": 0,
              "ticks": ""
             }
            },
            "type": "scattergeo"
           }
          ],
          "scattergl": [
           {
            "marker": {
             "colorbar": {
              "outlinewidth": 0,
              "ticks": ""
             }
            },
            "type": "scattergl"
           }
          ],
          "scattermapbox": [
           {
            "marker": {
             "colorbar": {
              "outlinewidth": 0,
              "ticks": ""
             }
            },
            "type": "scattermapbox"
           }
          ],
          "scatterpolar": [
           {
            "marker": {
             "colorbar": {
              "outlinewidth": 0,
              "ticks": ""
             }
            },
            "type": "scatterpolar"
           }
          ],
          "scatterpolargl": [
           {
            "marker": {
             "colorbar": {
              "outlinewidth": 0,
              "ticks": ""
             }
            },
            "type": "scatterpolargl"
           }
          ],
          "scatterternary": [
           {
            "marker": {
             "colorbar": {
              "outlinewidth": 0,
              "ticks": ""
             }
            },
            "type": "scatterternary"
           }
          ],
          "surface": [
           {
            "colorbar": {
             "outlinewidth": 0,
             "ticks": ""
            },
            "colorscale": [
             [
              0,
              "#0d0887"
             ],
             [
              0.1111111111111111,
              "#46039f"
             ],
             [
              0.2222222222222222,
              "#7201a8"
             ],
             [
              0.3333333333333333,
              "#9c179e"
             ],
             [
              0.4444444444444444,
              "#bd3786"
             ],
             [
              0.5555555555555556,
              "#d8576b"
             ],
             [
              0.6666666666666666,
              "#ed7953"
             ],
             [
              0.7777777777777778,
              "#fb9f3a"
             ],
             [
              0.8888888888888888,
              "#fdca26"
             ],
             [
              1,
              "#f0f921"
             ]
            ],
            "type": "surface"
           }
          ],
          "table": [
           {
            "cells": {
             "fill": {
              "color": "#EBF0F8"
             },
             "line": {
              "color": "white"
             }
            },
            "header": {
             "fill": {
              "color": "#C8D4E3"
             },
             "line": {
              "color": "white"
             }
            },
            "type": "table"
           }
          ]
         },
         "layout": {
          "annotationdefaults": {
           "arrowcolor": "#2a3f5f",
           "arrowhead": 0,
           "arrowwidth": 1
          },
          "colorscale": {
           "diverging": [
            [
             0,
             "#8e0152"
            ],
            [
             0.1,
             "#c51b7d"
            ],
            [
             0.2,
             "#de77ae"
            ],
            [
             0.3,
             "#f1b6da"
            ],
            [
             0.4,
             "#fde0ef"
            ],
            [
             0.5,
             "#f7f7f7"
            ],
            [
             0.6,
             "#e6f5d0"
            ],
            [
             0.7,
             "#b8e186"
            ],
            [
             0.8,
             "#7fbc41"
            ],
            [
             0.9,
             "#4d9221"
            ],
            [
             1,
             "#276419"
            ]
           ],
           "sequential": [
            [
             0,
             "#0d0887"
            ],
            [
             0.1111111111111111,
             "#46039f"
            ],
            [
             0.2222222222222222,
             "#7201a8"
            ],
            [
             0.3333333333333333,
             "#9c179e"
            ],
            [
             0.4444444444444444,
             "#bd3786"
            ],
            [
             0.5555555555555556,
             "#d8576b"
            ],
            [
             0.6666666666666666,
             "#ed7953"
            ],
            [
             0.7777777777777778,
             "#fb9f3a"
            ],
            [
             0.8888888888888888,
             "#fdca26"
            ],
            [
             1,
             "#f0f921"
            ]
           ],
           "sequentialminus": [
            [
             0,
             "#0d0887"
            ],
            [
             0.1111111111111111,
             "#46039f"
            ],
            [
             0.2222222222222222,
             "#7201a8"
            ],
            [
             0.3333333333333333,
             "#9c179e"
            ],
            [
             0.4444444444444444,
             "#bd3786"
            ],
            [
             0.5555555555555556,
             "#d8576b"
            ],
            [
             0.6666666666666666,
             "#ed7953"
            ],
            [
             0.7777777777777778,
             "#fb9f3a"
            ],
            [
             0.8888888888888888,
             "#fdca26"
            ],
            [
             1,
             "#f0f921"
            ]
           ]
          },
          "colorway": [
           "#636efa",
           "#EF553B",
           "#00cc96",
           "#ab63fa",
           "#FFA15A",
           "#19d3f3",
           "#FF6692",
           "#B6E880",
           "#FF97FF",
           "#FECB52"
          ],
          "font": {
           "color": "#2a3f5f"
          },
          "geo": {
           "bgcolor": "white",
           "lakecolor": "white",
           "landcolor": "#E5ECF6",
           "showlakes": true,
           "showland": true,
           "subunitcolor": "white"
          },
          "hoverlabel": {
           "align": "left"
          },
          "hovermode": "closest",
          "mapbox": {
           "style": "light"
          },
          "paper_bgcolor": "white",
          "plot_bgcolor": "#E5ECF6",
          "polar": {
           "angularaxis": {
            "gridcolor": "white",
            "linecolor": "white",
            "ticks": ""
           },
           "bgcolor": "#E5ECF6",
           "radialaxis": {
            "gridcolor": "white",
            "linecolor": "white",
            "ticks": ""
           }
          },
          "scene": {
           "xaxis": {
            "backgroundcolor": "#E5ECF6",
            "gridcolor": "white",
            "gridwidth": 2,
            "linecolor": "white",
            "showbackground": true,
            "ticks": "",
            "zerolinecolor": "white"
           },
           "yaxis": {
            "backgroundcolor": "#E5ECF6",
            "gridcolor": "white",
            "gridwidth": 2,
            "linecolor": "white",
            "showbackground": true,
            "ticks": "",
            "zerolinecolor": "white"
           },
           "zaxis": {
            "backgroundcolor": "#E5ECF6",
            "gridcolor": "white",
            "gridwidth": 2,
            "linecolor": "white",
            "showbackground": true,
            "ticks": "",
            "zerolinecolor": "white"
           }
          },
          "shapedefaults": {
           "line": {
            "color": "#2a3f5f"
           }
          },
          "ternary": {
           "aaxis": {
            "gridcolor": "white",
            "linecolor": "white",
            "ticks": ""
           },
           "baxis": {
            "gridcolor": "white",
            "linecolor": "white",
            "ticks": ""
           },
           "bgcolor": "#E5ECF6",
           "caxis": {
            "gridcolor": "white",
            "linecolor": "white",
            "ticks": ""
           }
          },
          "title": {
           "x": 0.05
          },
          "xaxis": {
           "automargin": true,
           "gridcolor": "white",
           "linecolor": "white",
           "ticks": "",
           "zerolinecolor": "white",
           "zerolinewidth": 2
          },
          "yaxis": {
           "automargin": true,
           "gridcolor": "white",
           "linecolor": "white",
           "ticks": "",
           "zerolinecolor": "white",
           "zerolinewidth": 2
          }
         }
        }
       }
      },
      "text/html": [
       "<div>\n",
       "        \n",
       "        \n",
       "            <div id=\"e4bfa43b-1874-4bc6-a824-2a74404fe812\" class=\"plotly-graph-div\" style=\"height:525px; width:100%;\"></div>\n",
       "            <script type=\"text/javascript\">\n",
       "                require([\"plotly\"], function(Plotly) {\n",
       "                    window.PLOTLYENV=window.PLOTLYENV || {};\n",
       "                    \n",
       "                if (document.getElementById(\"e4bfa43b-1874-4bc6-a824-2a74404fe812\")) {\n",
       "                    Plotly.newPlot(\n",
       "                        'e4bfa43b-1874-4bc6-a824-2a74404fe812',\n",
       "                        [{\"mode\": \"lines\", \"name\": \"Heuristic1\", \"type\": \"scatter\", \"x\": [5, 10, 15, 20, 25], \"y\": [1.0303119574627444, 2.0180821469171666, 2.671491917239024, 3.285875551251602, 4.030617398419324]}, {\"mode\": \"lines\", \"name\": \"Heuristic2\", \"type\": \"scatter\", \"x\": [5, 10, 15, 20, 25], \"y\": [2.487417779793502, 3.9921072299972877, 6.463715783825483, 7.955255566339927, 8.88574253548418]}],\n",
       "                        {\"template\": {\"data\": {\"bar\": [{\"error_x\": {\"color\": \"#2a3f5f\"}, \"error_y\": {\"color\": \"#2a3f5f\"}, \"marker\": {\"line\": {\"color\": \"#E5ECF6\", \"width\": 0.5}}, \"type\": \"bar\"}], \"barpolar\": [{\"marker\": {\"line\": {\"color\": \"#E5ECF6\", \"width\": 0.5}}, \"type\": \"barpolar\"}], \"carpet\": [{\"aaxis\": {\"endlinecolor\": \"#2a3f5f\", \"gridcolor\": \"white\", \"linecolor\": \"white\", \"minorgridcolor\": \"white\", \"startlinecolor\": \"#2a3f5f\"}, \"baxis\": {\"endlinecolor\": \"#2a3f5f\", \"gridcolor\": \"white\", \"linecolor\": \"white\", \"minorgridcolor\": \"white\", \"startlinecolor\": \"#2a3f5f\"}, \"type\": \"carpet\"}], \"choropleth\": [{\"colorbar\": {\"outlinewidth\": 0, \"ticks\": \"\"}, \"type\": \"choropleth\"}], \"contour\": [{\"colorbar\": {\"outlinewidth\": 0, \"ticks\": \"\"}, \"colorscale\": [[0.0, \"#0d0887\"], [0.1111111111111111, \"#46039f\"], [0.2222222222222222, \"#7201a8\"], [0.3333333333333333, \"#9c179e\"], [0.4444444444444444, \"#bd3786\"], [0.5555555555555556, \"#d8576b\"], [0.6666666666666666, \"#ed7953\"], [0.7777777777777778, \"#fb9f3a\"], [0.8888888888888888, \"#fdca26\"], [1.0, \"#f0f921\"]], \"type\": \"contour\"}], \"contourcarpet\": [{\"colorbar\": {\"outlinewidth\": 0, \"ticks\": \"\"}, \"type\": \"contourcarpet\"}], \"heatmap\": [{\"colorbar\": {\"outlinewidth\": 0, \"ticks\": \"\"}, \"colorscale\": [[0.0, \"#0d0887\"], [0.1111111111111111, \"#46039f\"], [0.2222222222222222, \"#7201a8\"], [0.3333333333333333, \"#9c179e\"], [0.4444444444444444, \"#bd3786\"], [0.5555555555555556, \"#d8576b\"], [0.6666666666666666, \"#ed7953\"], [0.7777777777777778, \"#fb9f3a\"], [0.8888888888888888, \"#fdca26\"], [1.0, \"#f0f921\"]], \"type\": \"heatmap\"}], \"heatmapgl\": [{\"colorbar\": {\"outlinewidth\": 0, \"ticks\": \"\"}, \"colorscale\": [[0.0, \"#0d0887\"], [0.1111111111111111, \"#46039f\"], [0.2222222222222222, \"#7201a8\"], [0.3333333333333333, \"#9c179e\"], [0.4444444444444444, \"#bd3786\"], [0.5555555555555556, \"#d8576b\"], [0.6666666666666666, \"#ed7953\"], [0.7777777777777778, \"#fb9f3a\"], [0.8888888888888888, \"#fdca26\"], [1.0, \"#f0f921\"]], \"type\": \"heatmapgl\"}], \"histogram\": [{\"marker\": {\"colorbar\": {\"outlinewidth\": 0, \"ticks\": \"\"}}, \"type\": \"histogram\"}], \"histogram2d\": [{\"colorbar\": {\"outlinewidth\": 0, \"ticks\": \"\"}, \"colorscale\": [[0.0, \"#0d0887\"], [0.1111111111111111, \"#46039f\"], [0.2222222222222222, \"#7201a8\"], [0.3333333333333333, \"#9c179e\"], [0.4444444444444444, \"#bd3786\"], [0.5555555555555556, \"#d8576b\"], [0.6666666666666666, \"#ed7953\"], [0.7777777777777778, \"#fb9f3a\"], [0.8888888888888888, \"#fdca26\"], [1.0, \"#f0f921\"]], \"type\": \"histogram2d\"}], \"histogram2dcontour\": [{\"colorbar\": {\"outlinewidth\": 0, \"ticks\": \"\"}, \"colorscale\": [[0.0, \"#0d0887\"], [0.1111111111111111, \"#46039f\"], [0.2222222222222222, \"#7201a8\"], [0.3333333333333333, \"#9c179e\"], [0.4444444444444444, \"#bd3786\"], [0.5555555555555556, \"#d8576b\"], [0.6666666666666666, \"#ed7953\"], [0.7777777777777778, \"#fb9f3a\"], [0.8888888888888888, \"#fdca26\"], [1.0, \"#f0f921\"]], \"type\": \"histogram2dcontour\"}], \"mesh3d\": [{\"colorbar\": {\"outlinewidth\": 0, \"ticks\": \"\"}, \"type\": \"mesh3d\"}], \"parcoords\": [{\"line\": {\"colorbar\": {\"outlinewidth\": 0, \"ticks\": \"\"}}, \"type\": \"parcoords\"}], \"scatter\": [{\"marker\": {\"colorbar\": {\"outlinewidth\": 0, \"ticks\": \"\"}}, \"type\": \"scatter\"}], \"scatter3d\": [{\"line\": {\"colorbar\": {\"outlinewidth\": 0, \"ticks\": \"\"}}, \"marker\": {\"colorbar\": {\"outlinewidth\": 0, \"ticks\": \"\"}}, \"type\": \"scatter3d\"}], \"scattercarpet\": [{\"marker\": {\"colorbar\": {\"outlinewidth\": 0, \"ticks\": \"\"}}, \"type\": \"scattercarpet\"}], \"scattergeo\": [{\"marker\": {\"colorbar\": {\"outlinewidth\": 0, \"ticks\": \"\"}}, \"type\": \"scattergeo\"}], \"scattergl\": [{\"marker\": {\"colorbar\": {\"outlinewidth\": 0, \"ticks\": \"\"}}, \"type\": \"scattergl\"}], \"scattermapbox\": [{\"marker\": {\"colorbar\": {\"outlinewidth\": 0, \"ticks\": \"\"}}, \"type\": \"scattermapbox\"}], \"scatterpolar\": [{\"marker\": {\"colorbar\": {\"outlinewidth\": 0, \"ticks\": \"\"}}, \"type\": \"scatterpolar\"}], \"scatterpolargl\": [{\"marker\": {\"colorbar\": {\"outlinewidth\": 0, \"ticks\": \"\"}}, \"type\": \"scatterpolargl\"}], \"scatterternary\": [{\"marker\": {\"colorbar\": {\"outlinewidth\": 0, \"ticks\": \"\"}}, \"type\": \"scatterternary\"}], \"surface\": [{\"colorbar\": {\"outlinewidth\": 0, \"ticks\": \"\"}, \"colorscale\": [[0.0, \"#0d0887\"], [0.1111111111111111, \"#46039f\"], [0.2222222222222222, \"#7201a8\"], [0.3333333333333333, \"#9c179e\"], [0.4444444444444444, \"#bd3786\"], [0.5555555555555556, \"#d8576b\"], [0.6666666666666666, \"#ed7953\"], [0.7777777777777778, \"#fb9f3a\"], [0.8888888888888888, \"#fdca26\"], [1.0, \"#f0f921\"]], \"type\": \"surface\"}], \"table\": [{\"cells\": {\"fill\": {\"color\": \"#EBF0F8\"}, \"line\": {\"color\": \"white\"}}, \"header\": {\"fill\": {\"color\": \"#C8D4E3\"}, \"line\": {\"color\": \"white\"}}, \"type\": \"table\"}]}, \"layout\": {\"annotationdefaults\": {\"arrowcolor\": \"#2a3f5f\", \"arrowhead\": 0, \"arrowwidth\": 1}, \"colorscale\": {\"diverging\": [[0, \"#8e0152\"], [0.1, \"#c51b7d\"], [0.2, \"#de77ae\"], [0.3, \"#f1b6da\"], [0.4, \"#fde0ef\"], [0.5, \"#f7f7f7\"], [0.6, \"#e6f5d0\"], [0.7, \"#b8e186\"], [0.8, \"#7fbc41\"], [0.9, \"#4d9221\"], [1, \"#276419\"]], \"sequential\": [[0.0, \"#0d0887\"], [0.1111111111111111, \"#46039f\"], [0.2222222222222222, \"#7201a8\"], [0.3333333333333333, \"#9c179e\"], [0.4444444444444444, \"#bd3786\"], [0.5555555555555556, \"#d8576b\"], [0.6666666666666666, \"#ed7953\"], [0.7777777777777778, \"#fb9f3a\"], [0.8888888888888888, \"#fdca26\"], [1.0, \"#f0f921\"]], \"sequentialminus\": [[0.0, \"#0d0887\"], [0.1111111111111111, \"#46039f\"], [0.2222222222222222, \"#7201a8\"], [0.3333333333333333, \"#9c179e\"], [0.4444444444444444, \"#bd3786\"], [0.5555555555555556, \"#d8576b\"], [0.6666666666666666, \"#ed7953\"], [0.7777777777777778, \"#fb9f3a\"], [0.8888888888888888, \"#fdca26\"], [1.0, \"#f0f921\"]]}, \"colorway\": [\"#636efa\", \"#EF553B\", \"#00cc96\", \"#ab63fa\", \"#FFA15A\", \"#19d3f3\", \"#FF6692\", \"#B6E880\", \"#FF97FF\", \"#FECB52\"], \"font\": {\"color\": \"#2a3f5f\"}, \"geo\": {\"bgcolor\": \"white\", \"lakecolor\": \"white\", \"landcolor\": \"#E5ECF6\", \"showlakes\": true, \"showland\": true, \"subunitcolor\": \"white\"}, \"hoverlabel\": {\"align\": \"left\"}, \"hovermode\": \"closest\", \"mapbox\": {\"style\": \"light\"}, \"paper_bgcolor\": \"white\", \"plot_bgcolor\": \"#E5ECF6\", \"polar\": {\"angularaxis\": {\"gridcolor\": \"white\", \"linecolor\": \"white\", \"ticks\": \"\"}, \"bgcolor\": \"#E5ECF6\", \"radialaxis\": {\"gridcolor\": \"white\", \"linecolor\": \"white\", \"ticks\": \"\"}}, \"scene\": {\"xaxis\": {\"backgroundcolor\": \"#E5ECF6\", \"gridcolor\": \"white\", \"gridwidth\": 2, \"linecolor\": \"white\", \"showbackground\": true, \"ticks\": \"\", \"zerolinecolor\": \"white\"}, \"yaxis\": {\"backgroundcolor\": \"#E5ECF6\", \"gridcolor\": \"white\", \"gridwidth\": 2, \"linecolor\": \"white\", \"showbackground\": true, \"ticks\": \"\", \"zerolinecolor\": \"white\"}, \"zaxis\": {\"backgroundcolor\": \"#E5ECF6\", \"gridcolor\": \"white\", \"gridwidth\": 2, \"linecolor\": \"white\", \"showbackground\": true, \"ticks\": \"\", \"zerolinecolor\": \"white\"}}, \"shapedefaults\": {\"line\": {\"color\": \"#2a3f5f\"}}, \"ternary\": {\"aaxis\": {\"gridcolor\": \"white\", \"linecolor\": \"white\", \"ticks\": \"\"}, \"baxis\": {\"gridcolor\": \"white\", \"linecolor\": \"white\", \"ticks\": \"\"}, \"bgcolor\": \"#E5ECF6\", \"caxis\": {\"gridcolor\": \"white\", \"linecolor\": \"white\", \"ticks\": \"\"}}, \"title\": {\"x\": 0.05}, \"xaxis\": {\"automargin\": true, \"gridcolor\": \"white\", \"linecolor\": \"white\", \"ticks\": \"\", \"zerolinecolor\": \"white\", \"zerolinewidth\": 2}, \"yaxis\": {\"automargin\": true, \"gridcolor\": \"white\", \"linecolor\": \"white\", \"ticks\": \"\", \"zerolinecolor\": \"white\", \"zerolinewidth\": 2}}}},\n",
       "                        {\"responsive\": true}\n",
       "                    ).then(function(){\n",
       "                            \n",
       "var gd = document.getElementById('e4bfa43b-1874-4bc6-a824-2a74404fe812');\n",
       "var x = new MutationObserver(function (mutations, observer) {{\n",
       "        var display = window.getComputedStyle(gd).display;\n",
       "        if (!display || display === 'none') {{\n",
       "            console.log([gd, 'removed!']);\n",
       "            Plotly.purge(gd);\n",
       "            observer.disconnect();\n",
       "        }}\n",
       "}});\n",
       "\n",
       "// Listen for the removal of the full notebook cells\n",
       "var notebookContainer = gd.closest('#notebook-container');\n",
       "if (notebookContainer) {{\n",
       "    x.observe(notebookContainer, {childList: true});\n",
       "}}\n",
       "\n",
       "// Listen for the clearing of the current output cell\n",
       "var outputEl = gd.closest('.output');\n",
       "if (outputEl) {{\n",
       "    x.observe(outputEl, {childList: true});\n",
       "}}\n",
       "\n",
       "                        })\n",
       "                };\n",
       "                });\n",
       "            </script>\n",
       "        </div>"
      ]
     },
     "metadata": {},
     "output_type": "display_data"
    }
   ],
   "source": [
    "r = [5, 10, 15, 20, 25]\n",
    "\n",
    "trace0 = go.Scatter(\n",
    "    x = r,\n",
    "    y = errorsH1,\n",
    "    mode = 'lines',\n",
    "    name = 'Heuristic1'\n",
    ")\n",
    "\n",
    "trace1 = go.Scatter(\n",
    "    x = r,\n",
    "    y = errorsH2,\n",
    "    mode = 'lines',\n",
    "    name = 'Heuristic2'\n",
    ")\n",
    "\n",
    "data = [trace0, trace1]\n",
    "\n",
    "iplot(data)"
   ]
  },
  {
   "cell_type": "markdown",
   "metadata": {},
   "source": [
    "# ------------------------------------------------------------------------------------------------------------\n",
    "# МЕТРИКА 2\n",
    "## Процент на локализирани јазли (nodes) без итеративен пристап\n",
    "# ------------------------------------------------------------------------------------------------------------"
   ]
  },
  {
   "cell_type": "code",
   "execution_count": 152,
   "metadata": {
    "ExecuteTime": {
     "end_time": "2019-12-26T11:25:37.774534Z",
     "start_time": "2019-12-26T11:25:37.627959Z"
    }
   },
   "outputs": [
    {
     "name": "stdout",
     "output_type": "stream",
     "text": [
      "[41.05263157894737, 74.44444444444444, 94.11764705882354, 87.5, 98.66666666666667, 98.57142857142857, 100.0, 100.0]\n"
     ]
    }
   ],
   "source": [
    "N = 100\n",
    "L = 100\n",
    "R = 30\n",
    "r = 10\n",
    "# f = {5,10,15,20,25,30,35,40}\n",
    "heuristic = 1\n",
    "errorsH1 = []\n",
    "\n",
    "nodes = None\n",
    "localized_nodes_percentage1 = []\n",
    "for f in range(5, 41, 5):\n",
    "    error = 0\n",
    "    #for i in range(0, 20):\n",
    "    nodes = generateNodes(N, L, R, r, f)\n",
    "    nodes = findNeighbours(nodes, R)\n",
    "    nodes = estimateLocations(nodes, heuristic, iterative = False)\n",
    "\n",
    "    total = 0\n",
    "    for index in nodes:\n",
    "        if nodes[index].isAnchor > 1:\n",
    "            total += 1;\n",
    "    localized_nodes_percentage1.append(total*100/(N-f))\n",
    "\n",
    "print(localized_nodes_percentage1)"
   ]
  },
  {
   "cell_type": "code",
   "execution_count": 165,
   "metadata": {
    "ExecuteTime": {
     "end_time": "2019-12-26T11:28:36.853088Z",
     "start_time": "2019-12-26T11:28:36.701599Z"
    }
   },
   "outputs": [
    {
     "name": "stdout",
     "output_type": "stream",
     "text": [
      "[94.73684210526316, 96.66666666666667, 98.82352941176471, 100.0, 100.0, 100.0, 100.0, 100.0]\n"
     ]
    }
   ],
   "source": [
    "N = 100\n",
    "L = 100\n",
    "R = 40\n",
    "r = 10\n",
    "# f = {5,10,15,20,25,30,35,40}\n",
    "heuristic = 1\n",
    "errorsH1 = []\n",
    "\n",
    "nodes = None\n",
    "localized_nodes_percentage2 = []\n",
    "for f in range(5, 41, 5):\n",
    "    error = 0\n",
    "    #for i in range(0, 20):\n",
    "    nodes = generateNodes(N, L, R, r, f)\n",
    "    nodes = findNeighbours(nodes, R)\n",
    "    nodes = estimateLocations(nodes, heuristic, iterative = False)\n",
    "\n",
    "    total = 0\n",
    "    for index in nodes:\n",
    "        if nodes[index].isAnchor > 1:\n",
    "            total += 1;\n",
    "    localized_nodes_percentage2.append(total*100/(N-f))\n",
    "\n",
    "print(localized_nodes_percentage2)"
   ]
  },
  {
   "cell_type": "code",
   "execution_count": 167,
   "metadata": {
    "ExecuteTime": {
     "end_time": "2019-12-26T11:29:10.295340Z",
     "start_time": "2019-12-26T11:29:09.967217Z"
    }
   },
   "outputs": [
    {
     "data": {
      "application/vnd.plotly.v1+json": {
       "config": {
        "linkText": "Export to plot.ly",
        "plotlyServerURL": "https://plot.ly",
        "showLink": false
       },
       "data": [
        {
         "mode": "lines",
         "name": "R = 30",
         "type": "scatter",
         "x": [
          5,
          10,
          15,
          20,
          25,
          30,
          35,
          40
         ],
         "y": [
          41.05263157894737,
          74.44444444444444,
          94.11764705882354,
          87.5,
          98.66666666666667,
          98.57142857142857,
          100,
          100
         ]
        },
        {
         "mode": "lines",
         "name": "R = 40",
         "type": "scatter",
         "x": [
          5,
          10,
          15,
          20,
          25,
          30,
          35,
          40
         ],
         "y": [
          94.73684210526316,
          96.66666666666667,
          98.82352941176471,
          100,
          100,
          100,
          100,
          100
         ]
        }
       ],
       "layout": {
        "template": {
         "data": {
          "bar": [
           {
            "error_x": {
             "color": "#2a3f5f"
            },
            "error_y": {
             "color": "#2a3f5f"
            },
            "marker": {
             "line": {
              "color": "#E5ECF6",
              "width": 0.5
             }
            },
            "type": "bar"
           }
          ],
          "barpolar": [
           {
            "marker": {
             "line": {
              "color": "#E5ECF6",
              "width": 0.5
             }
            },
            "type": "barpolar"
           }
          ],
          "carpet": [
           {
            "aaxis": {
             "endlinecolor": "#2a3f5f",
             "gridcolor": "white",
             "linecolor": "white",
             "minorgridcolor": "white",
             "startlinecolor": "#2a3f5f"
            },
            "baxis": {
             "endlinecolor": "#2a3f5f",
             "gridcolor": "white",
             "linecolor": "white",
             "minorgridcolor": "white",
             "startlinecolor": "#2a3f5f"
            },
            "type": "carpet"
           }
          ],
          "choropleth": [
           {
            "colorbar": {
             "outlinewidth": 0,
             "ticks": ""
            },
            "type": "choropleth"
           }
          ],
          "contour": [
           {
            "colorbar": {
             "outlinewidth": 0,
             "ticks": ""
            },
            "colorscale": [
             [
              0,
              "#0d0887"
             ],
             [
              0.1111111111111111,
              "#46039f"
             ],
             [
              0.2222222222222222,
              "#7201a8"
             ],
             [
              0.3333333333333333,
              "#9c179e"
             ],
             [
              0.4444444444444444,
              "#bd3786"
             ],
             [
              0.5555555555555556,
              "#d8576b"
             ],
             [
              0.6666666666666666,
              "#ed7953"
             ],
             [
              0.7777777777777778,
              "#fb9f3a"
             ],
             [
              0.8888888888888888,
              "#fdca26"
             ],
             [
              1,
              "#f0f921"
             ]
            ],
            "type": "contour"
           }
          ],
          "contourcarpet": [
           {
            "colorbar": {
             "outlinewidth": 0,
             "ticks": ""
            },
            "type": "contourcarpet"
           }
          ],
          "heatmap": [
           {
            "colorbar": {
             "outlinewidth": 0,
             "ticks": ""
            },
            "colorscale": [
             [
              0,
              "#0d0887"
             ],
             [
              0.1111111111111111,
              "#46039f"
             ],
             [
              0.2222222222222222,
              "#7201a8"
             ],
             [
              0.3333333333333333,
              "#9c179e"
             ],
             [
              0.4444444444444444,
              "#bd3786"
             ],
             [
              0.5555555555555556,
              "#d8576b"
             ],
             [
              0.6666666666666666,
              "#ed7953"
             ],
             [
              0.7777777777777778,
              "#fb9f3a"
             ],
             [
              0.8888888888888888,
              "#fdca26"
             ],
             [
              1,
              "#f0f921"
             ]
            ],
            "type": "heatmap"
           }
          ],
          "heatmapgl": [
           {
            "colorbar": {
             "outlinewidth": 0,
             "ticks": ""
            },
            "colorscale": [
             [
              0,
              "#0d0887"
             ],
             [
              0.1111111111111111,
              "#46039f"
             ],
             [
              0.2222222222222222,
              "#7201a8"
             ],
             [
              0.3333333333333333,
              "#9c179e"
             ],
             [
              0.4444444444444444,
              "#bd3786"
             ],
             [
              0.5555555555555556,
              "#d8576b"
             ],
             [
              0.6666666666666666,
              "#ed7953"
             ],
             [
              0.7777777777777778,
              "#fb9f3a"
             ],
             [
              0.8888888888888888,
              "#fdca26"
             ],
             [
              1,
              "#f0f921"
             ]
            ],
            "type": "heatmapgl"
           }
          ],
          "histogram": [
           {
            "marker": {
             "colorbar": {
              "outlinewidth": 0,
              "ticks": ""
             }
            },
            "type": "histogram"
           }
          ],
          "histogram2d": [
           {
            "colorbar": {
             "outlinewidth": 0,
             "ticks": ""
            },
            "colorscale": [
             [
              0,
              "#0d0887"
             ],
             [
              0.1111111111111111,
              "#46039f"
             ],
             [
              0.2222222222222222,
              "#7201a8"
             ],
             [
              0.3333333333333333,
              "#9c179e"
             ],
             [
              0.4444444444444444,
              "#bd3786"
             ],
             [
              0.5555555555555556,
              "#d8576b"
             ],
             [
              0.6666666666666666,
              "#ed7953"
             ],
             [
              0.7777777777777778,
              "#fb9f3a"
             ],
             [
              0.8888888888888888,
              "#fdca26"
             ],
             [
              1,
              "#f0f921"
             ]
            ],
            "type": "histogram2d"
           }
          ],
          "histogram2dcontour": [
           {
            "colorbar": {
             "outlinewidth": 0,
             "ticks": ""
            },
            "colorscale": [
             [
              0,
              "#0d0887"
             ],
             [
              0.1111111111111111,
              "#46039f"
             ],
             [
              0.2222222222222222,
              "#7201a8"
             ],
             [
              0.3333333333333333,
              "#9c179e"
             ],
             [
              0.4444444444444444,
              "#bd3786"
             ],
             [
              0.5555555555555556,
              "#d8576b"
             ],
             [
              0.6666666666666666,
              "#ed7953"
             ],
             [
              0.7777777777777778,
              "#fb9f3a"
             ],
             [
              0.8888888888888888,
              "#fdca26"
             ],
             [
              1,
              "#f0f921"
             ]
            ],
            "type": "histogram2dcontour"
           }
          ],
          "mesh3d": [
           {
            "colorbar": {
             "outlinewidth": 0,
             "ticks": ""
            },
            "type": "mesh3d"
           }
          ],
          "parcoords": [
           {
            "line": {
             "colorbar": {
              "outlinewidth": 0,
              "ticks": ""
             }
            },
            "type": "parcoords"
           }
          ],
          "scatter": [
           {
            "marker": {
             "colorbar": {
              "outlinewidth": 0,
              "ticks": ""
             }
            },
            "type": "scatter"
           }
          ],
          "scatter3d": [
           {
            "line": {
             "colorbar": {
              "outlinewidth": 0,
              "ticks": ""
             }
            },
            "marker": {
             "colorbar": {
              "outlinewidth": 0,
              "ticks": ""
             }
            },
            "type": "scatter3d"
           }
          ],
          "scattercarpet": [
           {
            "marker": {
             "colorbar": {
              "outlinewidth": 0,
              "ticks": ""
             }
            },
            "type": "scattercarpet"
           }
          ],
          "scattergeo": [
           {
            "marker": {
             "colorbar": {
              "outlinewidth": 0,
              "ticks": ""
             }
            },
            "type": "scattergeo"
           }
          ],
          "scattergl": [
           {
            "marker": {
             "colorbar": {
              "outlinewidth": 0,
              "ticks": ""
             }
            },
            "type": "scattergl"
           }
          ],
          "scattermapbox": [
           {
            "marker": {
             "colorbar": {
              "outlinewidth": 0,
              "ticks": ""
             }
            },
            "type": "scattermapbox"
           }
          ],
          "scatterpolar": [
           {
            "marker": {
             "colorbar": {
              "outlinewidth": 0,
              "ticks": ""
             }
            },
            "type": "scatterpolar"
           }
          ],
          "scatterpolargl": [
           {
            "marker": {
             "colorbar": {
              "outlinewidth": 0,
              "ticks": ""
             }
            },
            "type": "scatterpolargl"
           }
          ],
          "scatterternary": [
           {
            "marker": {
             "colorbar": {
              "outlinewidth": 0,
              "ticks": ""
             }
            },
            "type": "scatterternary"
           }
          ],
          "surface": [
           {
            "colorbar": {
             "outlinewidth": 0,
             "ticks": ""
            },
            "colorscale": [
             [
              0,
              "#0d0887"
             ],
             [
              0.1111111111111111,
              "#46039f"
             ],
             [
              0.2222222222222222,
              "#7201a8"
             ],
             [
              0.3333333333333333,
              "#9c179e"
             ],
             [
              0.4444444444444444,
              "#bd3786"
             ],
             [
              0.5555555555555556,
              "#d8576b"
             ],
             [
              0.6666666666666666,
              "#ed7953"
             ],
             [
              0.7777777777777778,
              "#fb9f3a"
             ],
             [
              0.8888888888888888,
              "#fdca26"
             ],
             [
              1,
              "#f0f921"
             ]
            ],
            "type": "surface"
           }
          ],
          "table": [
           {
            "cells": {
             "fill": {
              "color": "#EBF0F8"
             },
             "line": {
              "color": "white"
             }
            },
            "header": {
             "fill": {
              "color": "#C8D4E3"
             },
             "line": {
              "color": "white"
             }
            },
            "type": "table"
           }
          ]
         },
         "layout": {
          "annotationdefaults": {
           "arrowcolor": "#2a3f5f",
           "arrowhead": 0,
           "arrowwidth": 1
          },
          "colorscale": {
           "diverging": [
            [
             0,
             "#8e0152"
            ],
            [
             0.1,
             "#c51b7d"
            ],
            [
             0.2,
             "#de77ae"
            ],
            [
             0.3,
             "#f1b6da"
            ],
            [
             0.4,
             "#fde0ef"
            ],
            [
             0.5,
             "#f7f7f7"
            ],
            [
             0.6,
             "#e6f5d0"
            ],
            [
             0.7,
             "#b8e186"
            ],
            [
             0.8,
             "#7fbc41"
            ],
            [
             0.9,
             "#4d9221"
            ],
            [
             1,
             "#276419"
            ]
           ],
           "sequential": [
            [
             0,
             "#0d0887"
            ],
            [
             0.1111111111111111,
             "#46039f"
            ],
            [
             0.2222222222222222,
             "#7201a8"
            ],
            [
             0.3333333333333333,
             "#9c179e"
            ],
            [
             0.4444444444444444,
             "#bd3786"
            ],
            [
             0.5555555555555556,
             "#d8576b"
            ],
            [
             0.6666666666666666,
             "#ed7953"
            ],
            [
             0.7777777777777778,
             "#fb9f3a"
            ],
            [
             0.8888888888888888,
             "#fdca26"
            ],
            [
             1,
             "#f0f921"
            ]
           ],
           "sequentialminus": [
            [
             0,
             "#0d0887"
            ],
            [
             0.1111111111111111,
             "#46039f"
            ],
            [
             0.2222222222222222,
             "#7201a8"
            ],
            [
             0.3333333333333333,
             "#9c179e"
            ],
            [
             0.4444444444444444,
             "#bd3786"
            ],
            [
             0.5555555555555556,
             "#d8576b"
            ],
            [
             0.6666666666666666,
             "#ed7953"
            ],
            [
             0.7777777777777778,
             "#fb9f3a"
            ],
            [
             0.8888888888888888,
             "#fdca26"
            ],
            [
             1,
             "#f0f921"
            ]
           ]
          },
          "colorway": [
           "#636efa",
           "#EF553B",
           "#00cc96",
           "#ab63fa",
           "#FFA15A",
           "#19d3f3",
           "#FF6692",
           "#B6E880",
           "#FF97FF",
           "#FECB52"
          ],
          "font": {
           "color": "#2a3f5f"
          },
          "geo": {
           "bgcolor": "white",
           "lakecolor": "white",
           "landcolor": "#E5ECF6",
           "showlakes": true,
           "showland": true,
           "subunitcolor": "white"
          },
          "hoverlabel": {
           "align": "left"
          },
          "hovermode": "closest",
          "mapbox": {
           "style": "light"
          },
          "paper_bgcolor": "white",
          "plot_bgcolor": "#E5ECF6",
          "polar": {
           "angularaxis": {
            "gridcolor": "white",
            "linecolor": "white",
            "ticks": ""
           },
           "bgcolor": "#E5ECF6",
           "radialaxis": {
            "gridcolor": "white",
            "linecolor": "white",
            "ticks": ""
           }
          },
          "scene": {
           "xaxis": {
            "backgroundcolor": "#E5ECF6",
            "gridcolor": "white",
            "gridwidth": 2,
            "linecolor": "white",
            "showbackground": true,
            "ticks": "",
            "zerolinecolor": "white"
           },
           "yaxis": {
            "backgroundcolor": "#E5ECF6",
            "gridcolor": "white",
            "gridwidth": 2,
            "linecolor": "white",
            "showbackground": true,
            "ticks": "",
            "zerolinecolor": "white"
           },
           "zaxis": {
            "backgroundcolor": "#E5ECF6",
            "gridcolor": "white",
            "gridwidth": 2,
            "linecolor": "white",
            "showbackground": true,
            "ticks": "",
            "zerolinecolor": "white"
           }
          },
          "shapedefaults": {
           "line": {
            "color": "#2a3f5f"
           }
          },
          "ternary": {
           "aaxis": {
            "gridcolor": "white",
            "linecolor": "white",
            "ticks": ""
           },
           "baxis": {
            "gridcolor": "white",
            "linecolor": "white",
            "ticks": ""
           },
           "bgcolor": "#E5ECF6",
           "caxis": {
            "gridcolor": "white",
            "linecolor": "white",
            "ticks": ""
           }
          },
          "title": {
           "x": 0.05
          },
          "xaxis": {
           "automargin": true,
           "gridcolor": "white",
           "linecolor": "white",
           "ticks": "",
           "zerolinecolor": "white",
           "zerolinewidth": 2
          },
          "yaxis": {
           "automargin": true,
           "gridcolor": "white",
           "linecolor": "white",
           "ticks": "",
           "zerolinecolor": "white",
           "zerolinewidth": 2
          }
         }
        }
       }
      },
      "text/html": [
       "<div>\n",
       "        \n",
       "        \n",
       "            <div id=\"1750a9bb-070e-4654-8ca7-08e0b9e5ad11\" class=\"plotly-graph-div\" style=\"height:525px; width:100%;\"></div>\n",
       "            <script type=\"text/javascript\">\n",
       "                require([\"plotly\"], function(Plotly) {\n",
       "                    window.PLOTLYENV=window.PLOTLYENV || {};\n",
       "                    \n",
       "                if (document.getElementById(\"1750a9bb-070e-4654-8ca7-08e0b9e5ad11\")) {\n",
       "                    Plotly.newPlot(\n",
       "                        '1750a9bb-070e-4654-8ca7-08e0b9e5ad11',\n",
       "                        [{\"mode\": \"lines\", \"name\": \"R = 30\", \"type\": \"scatter\", \"x\": [5, 10, 15, 20, 25, 30, 35, 40], \"y\": [41.05263157894737, 74.44444444444444, 94.11764705882354, 87.5, 98.66666666666667, 98.57142857142857, 100.0, 100.0]}, {\"mode\": \"lines\", \"name\": \"R = 40\", \"type\": \"scatter\", \"x\": [5, 10, 15, 20, 25, 30, 35, 40], \"y\": [94.73684210526316, 96.66666666666667, 98.82352941176471, 100.0, 100.0, 100.0, 100.0, 100.0]}],\n",
       "                        {\"template\": {\"data\": {\"bar\": [{\"error_x\": {\"color\": \"#2a3f5f\"}, \"error_y\": {\"color\": \"#2a3f5f\"}, \"marker\": {\"line\": {\"color\": \"#E5ECF6\", \"width\": 0.5}}, \"type\": \"bar\"}], \"barpolar\": [{\"marker\": {\"line\": {\"color\": \"#E5ECF6\", \"width\": 0.5}}, \"type\": \"barpolar\"}], \"carpet\": [{\"aaxis\": {\"endlinecolor\": \"#2a3f5f\", \"gridcolor\": \"white\", \"linecolor\": \"white\", \"minorgridcolor\": \"white\", \"startlinecolor\": \"#2a3f5f\"}, \"baxis\": {\"endlinecolor\": \"#2a3f5f\", \"gridcolor\": \"white\", \"linecolor\": \"white\", \"minorgridcolor\": \"white\", \"startlinecolor\": \"#2a3f5f\"}, \"type\": \"carpet\"}], \"choropleth\": [{\"colorbar\": {\"outlinewidth\": 0, \"ticks\": \"\"}, \"type\": \"choropleth\"}], \"contour\": [{\"colorbar\": {\"outlinewidth\": 0, \"ticks\": \"\"}, \"colorscale\": [[0.0, \"#0d0887\"], [0.1111111111111111, \"#46039f\"], [0.2222222222222222, \"#7201a8\"], [0.3333333333333333, \"#9c179e\"], [0.4444444444444444, \"#bd3786\"], [0.5555555555555556, \"#d8576b\"], [0.6666666666666666, \"#ed7953\"], [0.7777777777777778, \"#fb9f3a\"], [0.8888888888888888, \"#fdca26\"], [1.0, \"#f0f921\"]], \"type\": \"contour\"}], \"contourcarpet\": [{\"colorbar\": {\"outlinewidth\": 0, \"ticks\": \"\"}, \"type\": \"contourcarpet\"}], \"heatmap\": [{\"colorbar\": {\"outlinewidth\": 0, \"ticks\": \"\"}, \"colorscale\": [[0.0, \"#0d0887\"], [0.1111111111111111, \"#46039f\"], [0.2222222222222222, \"#7201a8\"], [0.3333333333333333, \"#9c179e\"], [0.4444444444444444, \"#bd3786\"], [0.5555555555555556, \"#d8576b\"], [0.6666666666666666, \"#ed7953\"], [0.7777777777777778, \"#fb9f3a\"], [0.8888888888888888, \"#fdca26\"], [1.0, \"#f0f921\"]], \"type\": \"heatmap\"}], \"heatmapgl\": [{\"colorbar\": {\"outlinewidth\": 0, \"ticks\": \"\"}, \"colorscale\": [[0.0, \"#0d0887\"], [0.1111111111111111, \"#46039f\"], [0.2222222222222222, \"#7201a8\"], [0.3333333333333333, \"#9c179e\"], [0.4444444444444444, \"#bd3786\"], [0.5555555555555556, \"#d8576b\"], [0.6666666666666666, \"#ed7953\"], [0.7777777777777778, \"#fb9f3a\"], [0.8888888888888888, \"#fdca26\"], [1.0, \"#f0f921\"]], \"type\": \"heatmapgl\"}], \"histogram\": [{\"marker\": {\"colorbar\": {\"outlinewidth\": 0, \"ticks\": \"\"}}, \"type\": \"histogram\"}], \"histogram2d\": [{\"colorbar\": {\"outlinewidth\": 0, \"ticks\": \"\"}, \"colorscale\": [[0.0, \"#0d0887\"], [0.1111111111111111, \"#46039f\"], [0.2222222222222222, \"#7201a8\"], [0.3333333333333333, \"#9c179e\"], [0.4444444444444444, \"#bd3786\"], [0.5555555555555556, \"#d8576b\"], [0.6666666666666666, \"#ed7953\"], [0.7777777777777778, \"#fb9f3a\"], [0.8888888888888888, \"#fdca26\"], [1.0, \"#f0f921\"]], \"type\": \"histogram2d\"}], \"histogram2dcontour\": [{\"colorbar\": {\"outlinewidth\": 0, \"ticks\": \"\"}, \"colorscale\": [[0.0, \"#0d0887\"], [0.1111111111111111, \"#46039f\"], [0.2222222222222222, \"#7201a8\"], [0.3333333333333333, \"#9c179e\"], [0.4444444444444444, \"#bd3786\"], [0.5555555555555556, \"#d8576b\"], [0.6666666666666666, \"#ed7953\"], [0.7777777777777778, \"#fb9f3a\"], [0.8888888888888888, \"#fdca26\"], [1.0, \"#f0f921\"]], \"type\": \"histogram2dcontour\"}], \"mesh3d\": [{\"colorbar\": {\"outlinewidth\": 0, \"ticks\": \"\"}, \"type\": \"mesh3d\"}], \"parcoords\": [{\"line\": {\"colorbar\": {\"outlinewidth\": 0, \"ticks\": \"\"}}, \"type\": \"parcoords\"}], \"scatter\": [{\"marker\": {\"colorbar\": {\"outlinewidth\": 0, \"ticks\": \"\"}}, \"type\": \"scatter\"}], \"scatter3d\": [{\"line\": {\"colorbar\": {\"outlinewidth\": 0, \"ticks\": \"\"}}, \"marker\": {\"colorbar\": {\"outlinewidth\": 0, \"ticks\": \"\"}}, \"type\": \"scatter3d\"}], \"scattercarpet\": [{\"marker\": {\"colorbar\": {\"outlinewidth\": 0, \"ticks\": \"\"}}, \"type\": \"scattercarpet\"}], \"scattergeo\": [{\"marker\": {\"colorbar\": {\"outlinewidth\": 0, \"ticks\": \"\"}}, \"type\": \"scattergeo\"}], \"scattergl\": [{\"marker\": {\"colorbar\": {\"outlinewidth\": 0, \"ticks\": \"\"}}, \"type\": \"scattergl\"}], \"scattermapbox\": [{\"marker\": {\"colorbar\": {\"outlinewidth\": 0, \"ticks\": \"\"}}, \"type\": \"scattermapbox\"}], \"scatterpolar\": [{\"marker\": {\"colorbar\": {\"outlinewidth\": 0, \"ticks\": \"\"}}, \"type\": \"scatterpolar\"}], \"scatterpolargl\": [{\"marker\": {\"colorbar\": {\"outlinewidth\": 0, \"ticks\": \"\"}}, \"type\": \"scatterpolargl\"}], \"scatterternary\": [{\"marker\": {\"colorbar\": {\"outlinewidth\": 0, \"ticks\": \"\"}}, \"type\": \"scatterternary\"}], \"surface\": [{\"colorbar\": {\"outlinewidth\": 0, \"ticks\": \"\"}, \"colorscale\": [[0.0, \"#0d0887\"], [0.1111111111111111, \"#46039f\"], [0.2222222222222222, \"#7201a8\"], [0.3333333333333333, \"#9c179e\"], [0.4444444444444444, \"#bd3786\"], [0.5555555555555556, \"#d8576b\"], [0.6666666666666666, \"#ed7953\"], [0.7777777777777778, \"#fb9f3a\"], [0.8888888888888888, \"#fdca26\"], [1.0, \"#f0f921\"]], \"type\": \"surface\"}], \"table\": [{\"cells\": {\"fill\": {\"color\": \"#EBF0F8\"}, \"line\": {\"color\": \"white\"}}, \"header\": {\"fill\": {\"color\": \"#C8D4E3\"}, \"line\": {\"color\": \"white\"}}, \"type\": \"table\"}]}, \"layout\": {\"annotationdefaults\": {\"arrowcolor\": \"#2a3f5f\", \"arrowhead\": 0, \"arrowwidth\": 1}, \"colorscale\": {\"diverging\": [[0, \"#8e0152\"], [0.1, \"#c51b7d\"], [0.2, \"#de77ae\"], [0.3, \"#f1b6da\"], [0.4, \"#fde0ef\"], [0.5, \"#f7f7f7\"], [0.6, \"#e6f5d0\"], [0.7, \"#b8e186\"], [0.8, \"#7fbc41\"], [0.9, \"#4d9221\"], [1, \"#276419\"]], \"sequential\": [[0.0, \"#0d0887\"], [0.1111111111111111, \"#46039f\"], [0.2222222222222222, \"#7201a8\"], [0.3333333333333333, \"#9c179e\"], [0.4444444444444444, \"#bd3786\"], [0.5555555555555556, \"#d8576b\"], [0.6666666666666666, \"#ed7953\"], [0.7777777777777778, \"#fb9f3a\"], [0.8888888888888888, \"#fdca26\"], [1.0, \"#f0f921\"]], \"sequentialminus\": [[0.0, \"#0d0887\"], [0.1111111111111111, \"#46039f\"], [0.2222222222222222, \"#7201a8\"], [0.3333333333333333, \"#9c179e\"], [0.4444444444444444, \"#bd3786\"], [0.5555555555555556, \"#d8576b\"], [0.6666666666666666, \"#ed7953\"], [0.7777777777777778, \"#fb9f3a\"], [0.8888888888888888, \"#fdca26\"], [1.0, \"#f0f921\"]]}, \"colorway\": [\"#636efa\", \"#EF553B\", \"#00cc96\", \"#ab63fa\", \"#FFA15A\", \"#19d3f3\", \"#FF6692\", \"#B6E880\", \"#FF97FF\", \"#FECB52\"], \"font\": {\"color\": \"#2a3f5f\"}, \"geo\": {\"bgcolor\": \"white\", \"lakecolor\": \"white\", \"landcolor\": \"#E5ECF6\", \"showlakes\": true, \"showland\": true, \"subunitcolor\": \"white\"}, \"hoverlabel\": {\"align\": \"left\"}, \"hovermode\": \"closest\", \"mapbox\": {\"style\": \"light\"}, \"paper_bgcolor\": \"white\", \"plot_bgcolor\": \"#E5ECF6\", \"polar\": {\"angularaxis\": {\"gridcolor\": \"white\", \"linecolor\": \"white\", \"ticks\": \"\"}, \"bgcolor\": \"#E5ECF6\", \"radialaxis\": {\"gridcolor\": \"white\", \"linecolor\": \"white\", \"ticks\": \"\"}}, \"scene\": {\"xaxis\": {\"backgroundcolor\": \"#E5ECF6\", \"gridcolor\": \"white\", \"gridwidth\": 2, \"linecolor\": \"white\", \"showbackground\": true, \"ticks\": \"\", \"zerolinecolor\": \"white\"}, \"yaxis\": {\"backgroundcolor\": \"#E5ECF6\", \"gridcolor\": \"white\", \"gridwidth\": 2, \"linecolor\": \"white\", \"showbackground\": true, \"ticks\": \"\", \"zerolinecolor\": \"white\"}, \"zaxis\": {\"backgroundcolor\": \"#E5ECF6\", \"gridcolor\": \"white\", \"gridwidth\": 2, \"linecolor\": \"white\", \"showbackground\": true, \"ticks\": \"\", \"zerolinecolor\": \"white\"}}, \"shapedefaults\": {\"line\": {\"color\": \"#2a3f5f\"}}, \"ternary\": {\"aaxis\": {\"gridcolor\": \"white\", \"linecolor\": \"white\", \"ticks\": \"\"}, \"baxis\": {\"gridcolor\": \"white\", \"linecolor\": \"white\", \"ticks\": \"\"}, \"bgcolor\": \"#E5ECF6\", \"caxis\": {\"gridcolor\": \"white\", \"linecolor\": \"white\", \"ticks\": \"\"}}, \"title\": {\"x\": 0.05}, \"xaxis\": {\"automargin\": true, \"gridcolor\": \"white\", \"linecolor\": \"white\", \"ticks\": \"\", \"zerolinecolor\": \"white\", \"zerolinewidth\": 2}, \"yaxis\": {\"automargin\": true, \"gridcolor\": \"white\", \"linecolor\": \"white\", \"ticks\": \"\", \"zerolinecolor\": \"white\", \"zerolinewidth\": 2}}}},\n",
       "                        {\"responsive\": true}\n",
       "                    ).then(function(){\n",
       "                            \n",
       "var gd = document.getElementById('1750a9bb-070e-4654-8ca7-08e0b9e5ad11');\n",
       "var x = new MutationObserver(function (mutations, observer) {{\n",
       "        var display = window.getComputedStyle(gd).display;\n",
       "        if (!display || display === 'none') {{\n",
       "            console.log([gd, 'removed!']);\n",
       "            Plotly.purge(gd);\n",
       "            observer.disconnect();\n",
       "        }}\n",
       "}});\n",
       "\n",
       "// Listen for the removal of the full notebook cells\n",
       "var notebookContainer = gd.closest('#notebook-container');\n",
       "if (notebookContainer) {{\n",
       "    x.observe(notebookContainer, {childList: true});\n",
       "}}\n",
       "\n",
       "// Listen for the clearing of the current output cell\n",
       "var outputEl = gd.closest('.output');\n",
       "if (outputEl) {{\n",
       "    x.observe(outputEl, {childList: true});\n",
       "}}\n",
       "\n",
       "                        })\n",
       "                };\n",
       "                });\n",
       "            </script>\n",
       "        </div>"
      ]
     },
     "metadata": {},
     "output_type": "display_data"
    }
   ],
   "source": [
    "r = [5, 10, 15, 20, 25, 30, 35, 40]\n",
    "\n",
    "trace0 = go.Scatter(\n",
    "    x = r,\n",
    "    y = localized_nodes_percentage1,\n",
    "    mode = 'lines',\n",
    "    name = 'R = 30'\n",
    ")\n",
    "\n",
    "trace1 = go.Scatter(\n",
    "    x = r,\n",
    "    y = localized_nodes_percentage2,\n",
    "    mode = 'lines',\n",
    "    name = 'R = 40'\n",
    ")\n",
    "\n",
    "data = [trace0, trace1]\n",
    "\n",
    "iplot(data)"
   ]
  },
  {
   "cell_type": "code",
   "execution_count": 200,
   "metadata": {
    "ExecuteTime": {
     "end_time": "2019-12-26T11:44:59.036983Z",
     "start_time": "2019-12-26T11:44:58.895334Z"
    }
   },
   "outputs": [
    {
     "name": "stdout",
     "output_type": "stream",
     "text": [
      "[90.0, 94.44444444444444, 86.66666666666667, 85.55555555555556, 86.66666666666667, 92.22222222222223, 93.33333333333333, 88.88888888888889]\n"
     ]
    }
   ],
   "source": [
    "N = 100\n",
    "L = 100\n",
    "R = 35\n",
    "# r = {5,10,15,20,25,30,35,40} \n",
    "f = 10\n",
    "heuristic = 1\n",
    "errorsH1 = []\n",
    "\n",
    "nodes = None\n",
    "localized_nodes_percentage1 = []\n",
    "for r in range(5, 41, 5):\n",
    "    # error = 0\n",
    "    #for i in range(0, 20):\n",
    "    nodes = generateNodes(N, L, R, r, f)\n",
    "    nodes = findNeighbours(nodes, R)\n",
    "    nodes = estimateLocations(nodes, heuristic, iterative = False)\n",
    "\n",
    "    total = 0\n",
    "    for index in nodes:\n",
    "        if nodes[index].isAnchor > 1:\n",
    "            total += 1;\n",
    "    localized_nodes_percentage1.append(total*100/(N-f))\n",
    "\n",
    "print(localized_nodes_percentage1)"
   ]
  },
  {
   "cell_type": "code",
   "execution_count": 192,
   "metadata": {
    "ExecuteTime": {
     "end_time": "2019-12-26T11:44:11.867251Z",
     "start_time": "2019-12-26T11:44:11.697810Z"
    }
   },
   "outputs": [
    {
     "name": "stdout",
     "output_type": "stream",
     "text": [
      "[100.0, 100.0, 100.0, 100.0, 98.88888888888889, 100.0, 98.88888888888889, 100.0]\n"
     ]
    }
   ],
   "source": [
    "N = 100\n",
    "L = 100\n",
    "R = 55\n",
    "# r = {5,10,15,20,25,30,35,40} \n",
    "f = 10\n",
    "heuristic = 1\n",
    "errorsH1 = []\n",
    "\n",
    "nodes = None\n",
    "localized_nodes_percentage1 = []\n",
    "for r in range(5, 41, 5):\n",
    "    # error = 0\n",
    "    #for i in range(0, 20):\n",
    "    nodes = generateNodes(N, L, R, r, f)\n",
    "    nodes = findNeighbours(nodes, R)\n",
    "    nodes = estimateLocations(nodes, heuristic, iterative = False)\n",
    "\n",
    "    total = 0\n",
    "    for index in nodes:\n",
    "        if nodes[index].isAnchor > 1:\n",
    "            total += 1;\n",
    "    localized_nodes_percentage1.append(total*100/(N-f))\n",
    "\n",
    "print(localized_nodes_percentage1)"
   ]
  },
  {
   "cell_type": "code",
   "execution_count": 201,
   "metadata": {
    "ExecuteTime": {
     "end_time": "2019-12-26T11:45:08.407608Z",
     "start_time": "2019-12-26T11:45:08.172517Z"
    }
   },
   "outputs": [
    {
     "data": {
      "application/vnd.plotly.v1+json": {
       "config": {
        "linkText": "Export to plot.ly",
        "plotlyServerURL": "https://plot.ly",
        "showLink": false
       },
       "data": [
        {
         "mode": "lines",
         "name": "R = 35",
         "type": "scatter",
         "x": [
          5,
          10,
          15,
          20,
          25,
          30,
          35,
          40
         ],
         "y": [
          90,
          94.44444444444444,
          86.66666666666667,
          85.55555555555556,
          86.66666666666667,
          92.22222222222223,
          93.33333333333333,
          88.88888888888889
         ]
        },
        {
         "mode": "lines",
         "name": "R = 55",
         "type": "scatter",
         "x": [
          5,
          10,
          15,
          20,
          25,
          30,
          35,
          40
         ],
         "y": [
          94.73684210526316,
          96.66666666666667,
          98.82352941176471,
          100,
          100,
          100,
          100,
          100
         ]
        }
       ],
       "layout": {
        "template": {
         "data": {
          "bar": [
           {
            "error_x": {
             "color": "#2a3f5f"
            },
            "error_y": {
             "color": "#2a3f5f"
            },
            "marker": {
             "line": {
              "color": "#E5ECF6",
              "width": 0.5
             }
            },
            "type": "bar"
           }
          ],
          "barpolar": [
           {
            "marker": {
             "line": {
              "color": "#E5ECF6",
              "width": 0.5
             }
            },
            "type": "barpolar"
           }
          ],
          "carpet": [
           {
            "aaxis": {
             "endlinecolor": "#2a3f5f",
             "gridcolor": "white",
             "linecolor": "white",
             "minorgridcolor": "white",
             "startlinecolor": "#2a3f5f"
            },
            "baxis": {
             "endlinecolor": "#2a3f5f",
             "gridcolor": "white",
             "linecolor": "white",
             "minorgridcolor": "white",
             "startlinecolor": "#2a3f5f"
            },
            "type": "carpet"
           }
          ],
          "choropleth": [
           {
            "colorbar": {
             "outlinewidth": 0,
             "ticks": ""
            },
            "type": "choropleth"
           }
          ],
          "contour": [
           {
            "colorbar": {
             "outlinewidth": 0,
             "ticks": ""
            },
            "colorscale": [
             [
              0,
              "#0d0887"
             ],
             [
              0.1111111111111111,
              "#46039f"
             ],
             [
              0.2222222222222222,
              "#7201a8"
             ],
             [
              0.3333333333333333,
              "#9c179e"
             ],
             [
              0.4444444444444444,
              "#bd3786"
             ],
             [
              0.5555555555555556,
              "#d8576b"
             ],
             [
              0.6666666666666666,
              "#ed7953"
             ],
             [
              0.7777777777777778,
              "#fb9f3a"
             ],
             [
              0.8888888888888888,
              "#fdca26"
             ],
             [
              1,
              "#f0f921"
             ]
            ],
            "type": "contour"
           }
          ],
          "contourcarpet": [
           {
            "colorbar": {
             "outlinewidth": 0,
             "ticks": ""
            },
            "type": "contourcarpet"
           }
          ],
          "heatmap": [
           {
            "colorbar": {
             "outlinewidth": 0,
             "ticks": ""
            },
            "colorscale": [
             [
              0,
              "#0d0887"
             ],
             [
              0.1111111111111111,
              "#46039f"
             ],
             [
              0.2222222222222222,
              "#7201a8"
             ],
             [
              0.3333333333333333,
              "#9c179e"
             ],
             [
              0.4444444444444444,
              "#bd3786"
             ],
             [
              0.5555555555555556,
              "#d8576b"
             ],
             [
              0.6666666666666666,
              "#ed7953"
             ],
             [
              0.7777777777777778,
              "#fb9f3a"
             ],
             [
              0.8888888888888888,
              "#fdca26"
             ],
             [
              1,
              "#f0f921"
             ]
            ],
            "type": "heatmap"
           }
          ],
          "heatmapgl": [
           {
            "colorbar": {
             "outlinewidth": 0,
             "ticks": ""
            },
            "colorscale": [
             [
              0,
              "#0d0887"
             ],
             [
              0.1111111111111111,
              "#46039f"
             ],
             [
              0.2222222222222222,
              "#7201a8"
             ],
             [
              0.3333333333333333,
              "#9c179e"
             ],
             [
              0.4444444444444444,
              "#bd3786"
             ],
             [
              0.5555555555555556,
              "#d8576b"
             ],
             [
              0.6666666666666666,
              "#ed7953"
             ],
             [
              0.7777777777777778,
              "#fb9f3a"
             ],
             [
              0.8888888888888888,
              "#fdca26"
             ],
             [
              1,
              "#f0f921"
             ]
            ],
            "type": "heatmapgl"
           }
          ],
          "histogram": [
           {
            "marker": {
             "colorbar": {
              "outlinewidth": 0,
              "ticks": ""
             }
            },
            "type": "histogram"
           }
          ],
          "histogram2d": [
           {
            "colorbar": {
             "outlinewidth": 0,
             "ticks": ""
            },
            "colorscale": [
             [
              0,
              "#0d0887"
             ],
             [
              0.1111111111111111,
              "#46039f"
             ],
             [
              0.2222222222222222,
              "#7201a8"
             ],
             [
              0.3333333333333333,
              "#9c179e"
             ],
             [
              0.4444444444444444,
              "#bd3786"
             ],
             [
              0.5555555555555556,
              "#d8576b"
             ],
             [
              0.6666666666666666,
              "#ed7953"
             ],
             [
              0.7777777777777778,
              "#fb9f3a"
             ],
             [
              0.8888888888888888,
              "#fdca26"
             ],
             [
              1,
              "#f0f921"
             ]
            ],
            "type": "histogram2d"
           }
          ],
          "histogram2dcontour": [
           {
            "colorbar": {
             "outlinewidth": 0,
             "ticks": ""
            },
            "colorscale": [
             [
              0,
              "#0d0887"
             ],
             [
              0.1111111111111111,
              "#46039f"
             ],
             [
              0.2222222222222222,
              "#7201a8"
             ],
             [
              0.3333333333333333,
              "#9c179e"
             ],
             [
              0.4444444444444444,
              "#bd3786"
             ],
             [
              0.5555555555555556,
              "#d8576b"
             ],
             [
              0.6666666666666666,
              "#ed7953"
             ],
             [
              0.7777777777777778,
              "#fb9f3a"
             ],
             [
              0.8888888888888888,
              "#fdca26"
             ],
             [
              1,
              "#f0f921"
             ]
            ],
            "type": "histogram2dcontour"
           }
          ],
          "mesh3d": [
           {
            "colorbar": {
             "outlinewidth": 0,
             "ticks": ""
            },
            "type": "mesh3d"
           }
          ],
          "parcoords": [
           {
            "line": {
             "colorbar": {
              "outlinewidth": 0,
              "ticks": ""
             }
            },
            "type": "parcoords"
           }
          ],
          "scatter": [
           {
            "marker": {
             "colorbar": {
              "outlinewidth": 0,
              "ticks": ""
             }
            },
            "type": "scatter"
           }
          ],
          "scatter3d": [
           {
            "line": {
             "colorbar": {
              "outlinewidth": 0,
              "ticks": ""
             }
            },
            "marker": {
             "colorbar": {
              "outlinewidth": 0,
              "ticks": ""
             }
            },
            "type": "scatter3d"
           }
          ],
          "scattercarpet": [
           {
            "marker": {
             "colorbar": {
              "outlinewidth": 0,
              "ticks": ""
             }
            },
            "type": "scattercarpet"
           }
          ],
          "scattergeo": [
           {
            "marker": {
             "colorbar": {
              "outlinewidth": 0,
              "ticks": ""
             }
            },
            "type": "scattergeo"
           }
          ],
          "scattergl": [
           {
            "marker": {
             "colorbar": {
              "outlinewidth": 0,
              "ticks": ""
             }
            },
            "type": "scattergl"
           }
          ],
          "scattermapbox": [
           {
            "marker": {
             "colorbar": {
              "outlinewidth": 0,
              "ticks": ""
             }
            },
            "type": "scattermapbox"
           }
          ],
          "scatterpolar": [
           {
            "marker": {
             "colorbar": {
              "outlinewidth": 0,
              "ticks": ""
             }
            },
            "type": "scatterpolar"
           }
          ],
          "scatterpolargl": [
           {
            "marker": {
             "colorbar": {
              "outlinewidth": 0,
              "ticks": ""
             }
            },
            "type": "scatterpolargl"
           }
          ],
          "scatterternary": [
           {
            "marker": {
             "colorbar": {
              "outlinewidth": 0,
              "ticks": ""
             }
            },
            "type": "scatterternary"
           }
          ],
          "surface": [
           {
            "colorbar": {
             "outlinewidth": 0,
             "ticks": ""
            },
            "colorscale": [
             [
              0,
              "#0d0887"
             ],
             [
              0.1111111111111111,
              "#46039f"
             ],
             [
              0.2222222222222222,
              "#7201a8"
             ],
             [
              0.3333333333333333,
              "#9c179e"
             ],
             [
              0.4444444444444444,
              "#bd3786"
             ],
             [
              0.5555555555555556,
              "#d8576b"
             ],
             [
              0.6666666666666666,
              "#ed7953"
             ],
             [
              0.7777777777777778,
              "#fb9f3a"
             ],
             [
              0.8888888888888888,
              "#fdca26"
             ],
             [
              1,
              "#f0f921"
             ]
            ],
            "type": "surface"
           }
          ],
          "table": [
           {
            "cells": {
             "fill": {
              "color": "#EBF0F8"
             },
             "line": {
              "color": "white"
             }
            },
            "header": {
             "fill": {
              "color": "#C8D4E3"
             },
             "line": {
              "color": "white"
             }
            },
            "type": "table"
           }
          ]
         },
         "layout": {
          "annotationdefaults": {
           "arrowcolor": "#2a3f5f",
           "arrowhead": 0,
           "arrowwidth": 1
          },
          "colorscale": {
           "diverging": [
            [
             0,
             "#8e0152"
            ],
            [
             0.1,
             "#c51b7d"
            ],
            [
             0.2,
             "#de77ae"
            ],
            [
             0.3,
             "#f1b6da"
            ],
            [
             0.4,
             "#fde0ef"
            ],
            [
             0.5,
             "#f7f7f7"
            ],
            [
             0.6,
             "#e6f5d0"
            ],
            [
             0.7,
             "#b8e186"
            ],
            [
             0.8,
             "#7fbc41"
            ],
            [
             0.9,
             "#4d9221"
            ],
            [
             1,
             "#276419"
            ]
           ],
           "sequential": [
            [
             0,
             "#0d0887"
            ],
            [
             0.1111111111111111,
             "#46039f"
            ],
            [
             0.2222222222222222,
             "#7201a8"
            ],
            [
             0.3333333333333333,
             "#9c179e"
            ],
            [
             0.4444444444444444,
             "#bd3786"
            ],
            [
             0.5555555555555556,
             "#d8576b"
            ],
            [
             0.6666666666666666,
             "#ed7953"
            ],
            [
             0.7777777777777778,
             "#fb9f3a"
            ],
            [
             0.8888888888888888,
             "#fdca26"
            ],
            [
             1,
             "#f0f921"
            ]
           ],
           "sequentialminus": [
            [
             0,
             "#0d0887"
            ],
            [
             0.1111111111111111,
             "#46039f"
            ],
            [
             0.2222222222222222,
             "#7201a8"
            ],
            [
             0.3333333333333333,
             "#9c179e"
            ],
            [
             0.4444444444444444,
             "#bd3786"
            ],
            [
             0.5555555555555556,
             "#d8576b"
            ],
            [
             0.6666666666666666,
             "#ed7953"
            ],
            [
             0.7777777777777778,
             "#fb9f3a"
            ],
            [
             0.8888888888888888,
             "#fdca26"
            ],
            [
             1,
             "#f0f921"
            ]
           ]
          },
          "colorway": [
           "#636efa",
           "#EF553B",
           "#00cc96",
           "#ab63fa",
           "#FFA15A",
           "#19d3f3",
           "#FF6692",
           "#B6E880",
           "#FF97FF",
           "#FECB52"
          ],
          "font": {
           "color": "#2a3f5f"
          },
          "geo": {
           "bgcolor": "white",
           "lakecolor": "white",
           "landcolor": "#E5ECF6",
           "showlakes": true,
           "showland": true,
           "subunitcolor": "white"
          },
          "hoverlabel": {
           "align": "left"
          },
          "hovermode": "closest",
          "mapbox": {
           "style": "light"
          },
          "paper_bgcolor": "white",
          "plot_bgcolor": "#E5ECF6",
          "polar": {
           "angularaxis": {
            "gridcolor": "white",
            "linecolor": "white",
            "ticks": ""
           },
           "bgcolor": "#E5ECF6",
           "radialaxis": {
            "gridcolor": "white",
            "linecolor": "white",
            "ticks": ""
           }
          },
          "scene": {
           "xaxis": {
            "backgroundcolor": "#E5ECF6",
            "gridcolor": "white",
            "gridwidth": 2,
            "linecolor": "white",
            "showbackground": true,
            "ticks": "",
            "zerolinecolor": "white"
           },
           "yaxis": {
            "backgroundcolor": "#E5ECF6",
            "gridcolor": "white",
            "gridwidth": 2,
            "linecolor": "white",
            "showbackground": true,
            "ticks": "",
            "zerolinecolor": "white"
           },
           "zaxis": {
            "backgroundcolor": "#E5ECF6",
            "gridcolor": "white",
            "gridwidth": 2,
            "linecolor": "white",
            "showbackground": true,
            "ticks": "",
            "zerolinecolor": "white"
           }
          },
          "shapedefaults": {
           "line": {
            "color": "#2a3f5f"
           }
          },
          "ternary": {
           "aaxis": {
            "gridcolor": "white",
            "linecolor": "white",
            "ticks": ""
           },
           "baxis": {
            "gridcolor": "white",
            "linecolor": "white",
            "ticks": ""
           },
           "bgcolor": "#E5ECF6",
           "caxis": {
            "gridcolor": "white",
            "linecolor": "white",
            "ticks": ""
           }
          },
          "title": {
           "x": 0.05
          },
          "xaxis": {
           "automargin": true,
           "gridcolor": "white",
           "linecolor": "white",
           "ticks": "",
           "zerolinecolor": "white",
           "zerolinewidth": 2
          },
          "yaxis": {
           "automargin": true,
           "gridcolor": "white",
           "linecolor": "white",
           "ticks": "",
           "zerolinecolor": "white",
           "zerolinewidth": 2
          }
         }
        }
       }
      },
      "text/html": [
       "<div>\n",
       "        \n",
       "        \n",
       "            <div id=\"1d58afe1-95d1-4ca0-a156-51c11e7206d7\" class=\"plotly-graph-div\" style=\"height:525px; width:100%;\"></div>\n",
       "            <script type=\"text/javascript\">\n",
       "                require([\"plotly\"], function(Plotly) {\n",
       "                    window.PLOTLYENV=window.PLOTLYENV || {};\n",
       "                    \n",
       "                if (document.getElementById(\"1d58afe1-95d1-4ca0-a156-51c11e7206d7\")) {\n",
       "                    Plotly.newPlot(\n",
       "                        '1d58afe1-95d1-4ca0-a156-51c11e7206d7',\n",
       "                        [{\"mode\": \"lines\", \"name\": \"R = 35\", \"type\": \"scatter\", \"x\": [5, 10, 15, 20, 25, 30, 35, 40], \"y\": [90.0, 94.44444444444444, 86.66666666666667, 85.55555555555556, 86.66666666666667, 92.22222222222223, 93.33333333333333, 88.88888888888889]}, {\"mode\": \"lines\", \"name\": \"R = 55\", \"type\": \"scatter\", \"x\": [5, 10, 15, 20, 25, 30, 35, 40], \"y\": [94.73684210526316, 96.66666666666667, 98.82352941176471, 100.0, 100.0, 100.0, 100.0, 100.0]}],\n",
       "                        {\"template\": {\"data\": {\"bar\": [{\"error_x\": {\"color\": \"#2a3f5f\"}, \"error_y\": {\"color\": \"#2a3f5f\"}, \"marker\": {\"line\": {\"color\": \"#E5ECF6\", \"width\": 0.5}}, \"type\": \"bar\"}], \"barpolar\": [{\"marker\": {\"line\": {\"color\": \"#E5ECF6\", \"width\": 0.5}}, \"type\": \"barpolar\"}], \"carpet\": [{\"aaxis\": {\"endlinecolor\": \"#2a3f5f\", \"gridcolor\": \"white\", \"linecolor\": \"white\", \"minorgridcolor\": \"white\", \"startlinecolor\": \"#2a3f5f\"}, \"baxis\": {\"endlinecolor\": \"#2a3f5f\", \"gridcolor\": \"white\", \"linecolor\": \"white\", \"minorgridcolor\": \"white\", \"startlinecolor\": \"#2a3f5f\"}, \"type\": \"carpet\"}], \"choropleth\": [{\"colorbar\": {\"outlinewidth\": 0, \"ticks\": \"\"}, \"type\": \"choropleth\"}], \"contour\": [{\"colorbar\": {\"outlinewidth\": 0, \"ticks\": \"\"}, \"colorscale\": [[0.0, \"#0d0887\"], [0.1111111111111111, \"#46039f\"], [0.2222222222222222, \"#7201a8\"], [0.3333333333333333, \"#9c179e\"], [0.4444444444444444, \"#bd3786\"], [0.5555555555555556, \"#d8576b\"], [0.6666666666666666, \"#ed7953\"], [0.7777777777777778, \"#fb9f3a\"], [0.8888888888888888, \"#fdca26\"], [1.0, \"#f0f921\"]], \"type\": \"contour\"}], \"contourcarpet\": [{\"colorbar\": {\"outlinewidth\": 0, \"ticks\": \"\"}, \"type\": \"contourcarpet\"}], \"heatmap\": [{\"colorbar\": {\"outlinewidth\": 0, \"ticks\": \"\"}, \"colorscale\": [[0.0, \"#0d0887\"], [0.1111111111111111, \"#46039f\"], [0.2222222222222222, \"#7201a8\"], [0.3333333333333333, \"#9c179e\"], [0.4444444444444444, \"#bd3786\"], [0.5555555555555556, \"#d8576b\"], [0.6666666666666666, \"#ed7953\"], [0.7777777777777778, \"#fb9f3a\"], [0.8888888888888888, \"#fdca26\"], [1.0, \"#f0f921\"]], \"type\": \"heatmap\"}], \"heatmapgl\": [{\"colorbar\": {\"outlinewidth\": 0, \"ticks\": \"\"}, \"colorscale\": [[0.0, \"#0d0887\"], [0.1111111111111111, \"#46039f\"], [0.2222222222222222, \"#7201a8\"], [0.3333333333333333, \"#9c179e\"], [0.4444444444444444, \"#bd3786\"], [0.5555555555555556, \"#d8576b\"], [0.6666666666666666, \"#ed7953\"], [0.7777777777777778, \"#fb9f3a\"], [0.8888888888888888, \"#fdca26\"], [1.0, \"#f0f921\"]], \"type\": \"heatmapgl\"}], \"histogram\": [{\"marker\": {\"colorbar\": {\"outlinewidth\": 0, \"ticks\": \"\"}}, \"type\": \"histogram\"}], \"histogram2d\": [{\"colorbar\": {\"outlinewidth\": 0, \"ticks\": \"\"}, \"colorscale\": [[0.0, \"#0d0887\"], [0.1111111111111111, \"#46039f\"], [0.2222222222222222, \"#7201a8\"], [0.3333333333333333, \"#9c179e\"], [0.4444444444444444, \"#bd3786\"], [0.5555555555555556, \"#d8576b\"], [0.6666666666666666, \"#ed7953\"], [0.7777777777777778, \"#fb9f3a\"], [0.8888888888888888, \"#fdca26\"], [1.0, \"#f0f921\"]], \"type\": \"histogram2d\"}], \"histogram2dcontour\": [{\"colorbar\": {\"outlinewidth\": 0, \"ticks\": \"\"}, \"colorscale\": [[0.0, \"#0d0887\"], [0.1111111111111111, \"#46039f\"], [0.2222222222222222, \"#7201a8\"], [0.3333333333333333, \"#9c179e\"], [0.4444444444444444, \"#bd3786\"], [0.5555555555555556, \"#d8576b\"], [0.6666666666666666, \"#ed7953\"], [0.7777777777777778, \"#fb9f3a\"], [0.8888888888888888, \"#fdca26\"], [1.0, \"#f0f921\"]], \"type\": \"histogram2dcontour\"}], \"mesh3d\": [{\"colorbar\": {\"outlinewidth\": 0, \"ticks\": \"\"}, \"type\": \"mesh3d\"}], \"parcoords\": [{\"line\": {\"colorbar\": {\"outlinewidth\": 0, \"ticks\": \"\"}}, \"type\": \"parcoords\"}], \"scatter\": [{\"marker\": {\"colorbar\": {\"outlinewidth\": 0, \"ticks\": \"\"}}, \"type\": \"scatter\"}], \"scatter3d\": [{\"line\": {\"colorbar\": {\"outlinewidth\": 0, \"ticks\": \"\"}}, \"marker\": {\"colorbar\": {\"outlinewidth\": 0, \"ticks\": \"\"}}, \"type\": \"scatter3d\"}], \"scattercarpet\": [{\"marker\": {\"colorbar\": {\"outlinewidth\": 0, \"ticks\": \"\"}}, \"type\": \"scattercarpet\"}], \"scattergeo\": [{\"marker\": {\"colorbar\": {\"outlinewidth\": 0, \"ticks\": \"\"}}, \"type\": \"scattergeo\"}], \"scattergl\": [{\"marker\": {\"colorbar\": {\"outlinewidth\": 0, \"ticks\": \"\"}}, \"type\": \"scattergl\"}], \"scattermapbox\": [{\"marker\": {\"colorbar\": {\"outlinewidth\": 0, \"ticks\": \"\"}}, \"type\": \"scattermapbox\"}], \"scatterpolar\": [{\"marker\": {\"colorbar\": {\"outlinewidth\": 0, \"ticks\": \"\"}}, \"type\": \"scatterpolar\"}], \"scatterpolargl\": [{\"marker\": {\"colorbar\": {\"outlinewidth\": 0, \"ticks\": \"\"}}, \"type\": \"scatterpolargl\"}], \"scatterternary\": [{\"marker\": {\"colorbar\": {\"outlinewidth\": 0, \"ticks\": \"\"}}, \"type\": \"scatterternary\"}], \"surface\": [{\"colorbar\": {\"outlinewidth\": 0, \"ticks\": \"\"}, \"colorscale\": [[0.0, \"#0d0887\"], [0.1111111111111111, \"#46039f\"], [0.2222222222222222, \"#7201a8\"], [0.3333333333333333, \"#9c179e\"], [0.4444444444444444, \"#bd3786\"], [0.5555555555555556, \"#d8576b\"], [0.6666666666666666, \"#ed7953\"], [0.7777777777777778, \"#fb9f3a\"], [0.8888888888888888, \"#fdca26\"], [1.0, \"#f0f921\"]], \"type\": \"surface\"}], \"table\": [{\"cells\": {\"fill\": {\"color\": \"#EBF0F8\"}, \"line\": {\"color\": \"white\"}}, \"header\": {\"fill\": {\"color\": \"#C8D4E3\"}, \"line\": {\"color\": \"white\"}}, \"type\": \"table\"}]}, \"layout\": {\"annotationdefaults\": {\"arrowcolor\": \"#2a3f5f\", \"arrowhead\": 0, \"arrowwidth\": 1}, \"colorscale\": {\"diverging\": [[0, \"#8e0152\"], [0.1, \"#c51b7d\"], [0.2, \"#de77ae\"], [0.3, \"#f1b6da\"], [0.4, \"#fde0ef\"], [0.5, \"#f7f7f7\"], [0.6, \"#e6f5d0\"], [0.7, \"#b8e186\"], [0.8, \"#7fbc41\"], [0.9, \"#4d9221\"], [1, \"#276419\"]], \"sequential\": [[0.0, \"#0d0887\"], [0.1111111111111111, \"#46039f\"], [0.2222222222222222, \"#7201a8\"], [0.3333333333333333, \"#9c179e\"], [0.4444444444444444, \"#bd3786\"], [0.5555555555555556, \"#d8576b\"], [0.6666666666666666, \"#ed7953\"], [0.7777777777777778, \"#fb9f3a\"], [0.8888888888888888, \"#fdca26\"], [1.0, \"#f0f921\"]], \"sequentialminus\": [[0.0, \"#0d0887\"], [0.1111111111111111, \"#46039f\"], [0.2222222222222222, \"#7201a8\"], [0.3333333333333333, \"#9c179e\"], [0.4444444444444444, \"#bd3786\"], [0.5555555555555556, \"#d8576b\"], [0.6666666666666666, \"#ed7953\"], [0.7777777777777778, \"#fb9f3a\"], [0.8888888888888888, \"#fdca26\"], [1.0, \"#f0f921\"]]}, \"colorway\": [\"#636efa\", \"#EF553B\", \"#00cc96\", \"#ab63fa\", \"#FFA15A\", \"#19d3f3\", \"#FF6692\", \"#B6E880\", \"#FF97FF\", \"#FECB52\"], \"font\": {\"color\": \"#2a3f5f\"}, \"geo\": {\"bgcolor\": \"white\", \"lakecolor\": \"white\", \"landcolor\": \"#E5ECF6\", \"showlakes\": true, \"showland\": true, \"subunitcolor\": \"white\"}, \"hoverlabel\": {\"align\": \"left\"}, \"hovermode\": \"closest\", \"mapbox\": {\"style\": \"light\"}, \"paper_bgcolor\": \"white\", \"plot_bgcolor\": \"#E5ECF6\", \"polar\": {\"angularaxis\": {\"gridcolor\": \"white\", \"linecolor\": \"white\", \"ticks\": \"\"}, \"bgcolor\": \"#E5ECF6\", \"radialaxis\": {\"gridcolor\": \"white\", \"linecolor\": \"white\", \"ticks\": \"\"}}, \"scene\": {\"xaxis\": {\"backgroundcolor\": \"#E5ECF6\", \"gridcolor\": \"white\", \"gridwidth\": 2, \"linecolor\": \"white\", \"showbackground\": true, \"ticks\": \"\", \"zerolinecolor\": \"white\"}, \"yaxis\": {\"backgroundcolor\": \"#E5ECF6\", \"gridcolor\": \"white\", \"gridwidth\": 2, \"linecolor\": \"white\", \"showbackground\": true, \"ticks\": \"\", \"zerolinecolor\": \"white\"}, \"zaxis\": {\"backgroundcolor\": \"#E5ECF6\", \"gridcolor\": \"white\", \"gridwidth\": 2, \"linecolor\": \"white\", \"showbackground\": true, \"ticks\": \"\", \"zerolinecolor\": \"white\"}}, \"shapedefaults\": {\"line\": {\"color\": \"#2a3f5f\"}}, \"ternary\": {\"aaxis\": {\"gridcolor\": \"white\", \"linecolor\": \"white\", \"ticks\": \"\"}, \"baxis\": {\"gridcolor\": \"white\", \"linecolor\": \"white\", \"ticks\": \"\"}, \"bgcolor\": \"#E5ECF6\", \"caxis\": {\"gridcolor\": \"white\", \"linecolor\": \"white\", \"ticks\": \"\"}}, \"title\": {\"x\": 0.05}, \"xaxis\": {\"automargin\": true, \"gridcolor\": \"white\", \"linecolor\": \"white\", \"ticks\": \"\", \"zerolinecolor\": \"white\", \"zerolinewidth\": 2}, \"yaxis\": {\"automargin\": true, \"gridcolor\": \"white\", \"linecolor\": \"white\", \"ticks\": \"\", \"zerolinecolor\": \"white\", \"zerolinewidth\": 2}}}},\n",
       "                        {\"responsive\": true}\n",
       "                    ).then(function(){\n",
       "                            \n",
       "var gd = document.getElementById('1d58afe1-95d1-4ca0-a156-51c11e7206d7');\n",
       "var x = new MutationObserver(function (mutations, observer) {{\n",
       "        var display = window.getComputedStyle(gd).display;\n",
       "        if (!display || display === 'none') {{\n",
       "            console.log([gd, 'removed!']);\n",
       "            Plotly.purge(gd);\n",
       "            observer.disconnect();\n",
       "        }}\n",
       "}});\n",
       "\n",
       "// Listen for the removal of the full notebook cells\n",
       "var notebookContainer = gd.closest('#notebook-container');\n",
       "if (notebookContainer) {{\n",
       "    x.observe(notebookContainer, {childList: true});\n",
       "}}\n",
       "\n",
       "// Listen for the clearing of the current output cell\n",
       "var outputEl = gd.closest('.output');\n",
       "if (outputEl) {{\n",
       "    x.observe(outputEl, {childList: true});\n",
       "}}\n",
       "\n",
       "                        })\n",
       "                };\n",
       "                });\n",
       "            </script>\n",
       "        </div>"
      ]
     },
     "metadata": {},
     "output_type": "display_data"
    }
   ],
   "source": [
    "r = [5, 10, 15, 20, 25, 30, 35, 40]\n",
    "\n",
    "trace0 = go.Scatter(\n",
    "    x = r,\n",
    "    y = localized_nodes_percentage1,\n",
    "    mode = 'lines',\n",
    "    name = 'R = 35'\n",
    ")\n",
    "\n",
    "trace1 = go.Scatter(\n",
    "    x = r,\n",
    "    y = localized_nodes_percentage2,\n",
    "    mode = 'lines',\n",
    "    name = 'R = 55'\n",
    ")\n",
    "\n",
    "data = [trace0, trace1]\n",
    "\n",
    "iplot(data)"
   ]
  }
 ],
 "metadata": {
  "kernelspec": {
   "display_name": "Python 3",
   "language": "python",
   "name": "python3"
  },
  "language_info": {
   "codemirror_mode": {
    "name": "ipython",
    "version": 3
   },
   "file_extension": ".py",
   "mimetype": "text/x-python",
   "name": "python",
   "nbconvert_exporter": "python",
   "pygments_lexer": "ipython3",
   "version": "3.7.3"
  }
 },
 "nbformat": 4,
 "nbformat_minor": 2
}
